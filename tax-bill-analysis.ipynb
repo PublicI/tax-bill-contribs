{
 "cells": [
  {
   "cell_type": "code",
   "execution_count": 1,
   "metadata": {},
   "outputs": [],
   "source": [
    "import altair as alt\n",
    "from altair.expr import datum, if_\n",
    "import datetime\n",
    "import json\n",
    "import numpy as np\n",
    "import pandas as pd\n",
    "import psycopg2\n",
    "pd.options.display.float_format = \"{:,.2f}\".format"
   ]
  },
  {
   "cell_type": "markdown",
   "metadata": {},
   "source": [
    "Connect to the database."
   ]
  },
  {
   "cell_type": "code",
   "execution_count": 2,
   "metadata": {},
   "outputs": [],
   "source": [
    "with open(\"config.json\") as f:\n",
    "    conf = json.load(f)\n",
    "conn = psycopg2.connect(\n",
    "    dbname=conf[\"database\"],\n",
    "    user=conf[\"user\"],\n",
    "    host=conf[\"host\"],\n",
    "    password=conf[\"password\"]\n",
    ")\n",
    "conn.autocommit = True"
   ]
  },
  {
   "cell_type": "markdown",
   "metadata": {},
   "source": [
    "## Return the donors who gave at least $50,000 to conservative and GOP-aligned groups between Nov. 2 and Dec. 31, 2017, split by their giving before the tax bill's introduction on Nov. 2 and after its introduction. Do this for every off-year going back to the 2010 cycle."
   ]
  },
  {
   "cell_type": "code",
   "execution_count": 3,
   "metadata": {},
   "outputs": [],
   "source": [
    "def run_donors_query(prefix, suffix, reference_cycle, reference_start, reference_end, cycle, start, end):\n",
    "    query = \"\"\"CREATE MATERIALIZED VIEW IF NOT EXISTS \"\"\"+prefix+\"\"\"_donors_committees_\"\"\"+suffix+\"\"\" AS\n",
    "                    SELECT match_id,\n",
    "                           organizations,\n",
    "                           contributors,\n",
    "                           sum(committee_total) AS total,\n",
    "                           cmte_id,\n",
    "                           pacshort AS committee\n",
    "                    FROM\n",
    "                      (SELECT match_id,\n",
    "                              organizations,\n",
    "                              contributors,\n",
    "                              sum(amount) AS committee_total,\n",
    "                              cmteid AS cmte_id\n",
    "                       FROM\n",
    "                         (SELECT CASE\n",
    "                                     WHEN trim(contribid) != '' THEN left(contribid, 11)\n",
    "                                     ELSE orgname\n",
    "                                 END AS match_id,\n",
    "                                 array_agg(DISTINCT orgname) AS organizations,\n",
    "                                 array_agg(DISTINCT contrib) AS contributors\n",
    "                          FROM crp_contributions\n",
    "                          LEFT JOIN crp_committees ON crp_contributions.cmteid = crp_committees.cmteid\n",
    "                          AND crp_committees.cycle = '\"\"\" + reference_cycle + \"\"\"'\n",
    "                          WHERE primcode IN ('J1100',\n",
    "                                             'J2200',\n",
    "                                             'J2400',\n",
    "                                             'Z1100',\n",
    "                                             'Z4100',\n",
    "                                             'Z4500',\n",
    "                                             'Z5100')\n",
    "                            AND date >= '\"\"\" + reference_start + \"\"\"'\n",
    "                            AND date <= '\"\"\" + reference_end + \"\"\"'\n",
    "                            AND crp_contributions.cycle = '\"\"\" + reference_cycle + \"\"\"'\n",
    "                            AND TYPE NOT IN ('11J',\n",
    "                                             '15C',\n",
    "                                             '15E',\n",
    "                                             '15I',\n",
    "                                             '15J',\n",
    "                                             '15T',\n",
    "                                             '18J',\n",
    "                                             '19J',\n",
    "                                             '30J',\n",
    "                                             '30F',\n",
    "                                             '31J',\n",
    "                                             '31F',\n",
    "                                             '32J',\n",
    "                                             '32F')\n",
    "                          GROUP BY match_id\n",
    "                          HAVING sum(amount) >= 50000) AS gop_donors\n",
    "                       JOIN crp_contributions ON CASE\n",
    "                                                     WHEN trim(contribid) != '' THEN left(contribid, 11)\n",
    "                                                     ELSE crp_contributions.orgname\n",
    "                                                 END = gop_donors.match_id\n",
    "                       WHERE date >= '\"\"\" + start + \"\"\"'\n",
    "                         AND date <= '\"\"\" + end + \"\"\"'\n",
    "                         AND CYCLE = '\"\"\" + cycle + \"\"\"'\n",
    "                         AND TYPE NOT IN ('11J',\n",
    "                                          '15C',\n",
    "                                          '15E',\n",
    "                                          '15I',\n",
    "                                          '15J',\n",
    "                                          '15T',\n",
    "                                          '18J',\n",
    "                                          '19J',\n",
    "                                          '30J',\n",
    "                                          '30F',\n",
    "                                          '31J',\n",
    "                                          '31F',\n",
    "                                          '32J',\n",
    "                                          '32F')\n",
    "                       GROUP BY match_id,\n",
    "                                organizations,\n",
    "                                contributors,\n",
    "                                cmte_id) AS donors_committees\n",
    "                    JOIN crp_committees ON donors_committees.cmte_id = crp_committees.cmteid\n",
    "                    AND crp_committees.CYCLE = '\"\"\" + cycle + \"\"\"'\n",
    "                    WHERE primcode IN ('J1100',\n",
    "                                       'J2200',\n",
    "                                       'J2400',\n",
    "                                       'Z1100',\n",
    "                                       'Z4100',\n",
    "                                       'Z4500',\n",
    "                                       'Z5100')\n",
    "                    GROUP BY match_id,\n",
    "                             organizations,\n",
    "                             contributors,\n",
    "                             cmte_id,\n",
    "                             committee;\n",
    "\n",
    "                    SELECT *\n",
    "                    FROM \"\"\"+prefix+\"\"\"_donors_committees_\"\"\"+suffix+\"\"\";\n",
    "                    \"\"\"\n",
    "    return pd.read_sql(query, con=conn)"
   ]
  },
  {
   "cell_type": "markdown",
   "metadata": {},
   "source": [
    "## Return the data for each cycle."
   ]
  },
  {
   "cell_type": "code",
   "execution_count": 4,
   "metadata": {},
   "outputs": [],
   "source": [
    "post_bill_donors_committees_17 = run_donors_query(\"post_bill\", \"17\", \"2018\", \"2017-11-02\", \"2017-12-31\", \"2018\", \"2017-11-02\", \"2017-12-31\")\n",
    "pre_bill_donors_committees_17 = run_donors_query(\"pre_bill\", \"17\", \"2018\", \"2017-11-02\", \"2017-12-31\", \"2018\", \"2017-01-01\", \"2017-11-01\")"
   ]
  },
  {
   "cell_type": "code",
   "execution_count": 5,
   "metadata": {},
   "outputs": [],
   "source": [
    "post_bill_donors_committees_15 = run_donors_query(\"post_bill\", \"15\", \"2018\", \"2017-11-02\", \"2017-12-31\", \"2016\", \"2015-11-02\", \"2015-12-31\")\n",
    "pre_bill_donors_committees_15 = run_donors_query(\"pre_bill\", \"15\", \"2018\", \"2017-11-02\", \"2017-12-31\", \"2016\", \"2015-01-01\", \"2015-11-01\")"
   ]
  },
  {
   "cell_type": "code",
   "execution_count": 6,
   "metadata": {},
   "outputs": [],
   "source": [
    "post_bill_donors_committees_13 = run_donors_query(\"post_bill\", \"13\", \"2018\", \"2017-11-02\", \"2017-12-31\", \"2014\", \"2013-11-02\", \"2013-12-31\")\n",
    "pre_bill_donors_committees_13 = run_donors_query(\"pre_bill\", \"13\", \"2018\", \"2017-11-02\", \"2017-12-31\", \"2014\", \"2013-01-01\", \"2013-11-01\")"
   ]
  },
  {
   "cell_type": "code",
   "execution_count": 7,
   "metadata": {},
   "outputs": [],
   "source": [
    "post_bill_donors_committees_11 = run_donors_query(\"post_bill\", \"11\", \"2018\", \"2017-11-02\", \"2017-12-31\", \"2012\", \"2011-11-02\", \"2011-12-31\")\n",
    "pre_bill_donors_committees_11 = run_donors_query(\"pre_bill\", \"11\", \"2018\", \"2017-11-02\", \"2017-12-31\", \"2012\", \"2011-01-01\", \"2011-11-01\")"
   ]
  },
  {
   "cell_type": "code",
   "execution_count": 8,
   "metadata": {},
   "outputs": [],
   "source": [
    "post_bill_donors_committees_09 = run_donors_query(\"post_bill\", \"09\", \"2018\", \"2017-11-02\", \"2017-12-31\", \"2010\", \"2009-11-02\", \"2009-12-31\")\n",
    "pre_bill_donors_committees_09 = run_donors_query(\"pre_bill\", \"09\", \"2018\", \"2017-11-02\", \"2017-12-31\", \"2010\", \"2009-01-01\", \"2009-11-01\")"
   ]
  },
  {
   "cell_type": "markdown",
   "metadata": {},
   "source": [
    "## How much did each contributor give in each period for each cycle?"
   ]
  },
  {
   "cell_type": "markdown",
   "metadata": {},
   "source": [
    "### 2017"
   ]
  },
  {
   "cell_type": "code",
   "execution_count": 9,
   "metadata": {},
   "outputs": [],
   "source": [
    "post_bill_donors_17 = post_bill_donors_committees_17.groupby([\"match_id\"]).agg({\"organizations\": max, \"contributors\": max, \"total\": sum}).reset_index()\n",
    "pre_bill_donors_17 = pre_bill_donors_committees_17.groupby([\"match_id\"]).agg({\"organizations\": max, \"contributors\": max, \"total\": sum}).reset_index()"
   ]
  },
  {
   "cell_type": "code",
   "execution_count": 10,
   "metadata": {},
   "outputs": [
    {
     "name": "stdout",
     "output_type": "stream",
     "text": [
      "<class 'pandas.core.frame.DataFrame'>\n",
      "Int64Index: 158 entries, 0 to 157\n",
      "Data columns (total 5 columns):\n",
      "match_id           158 non-null object\n",
      "organizations      158 non-null object\n",
      "contributors       158 non-null object\n",
      "total_post_bill    158 non-null float64\n",
      "total_pre_bill     158 non-null float64\n",
      "dtypes: float64(2), object(3)\n",
      "memory usage: 7.4+ KB\n"
     ]
    }
   ],
   "source": [
    "donors_17 = post_bill_donors_17.merge(pre_bill_donors_17, how=\"outer\", on=\"match_id\", suffixes=[\"_post_bill\", \"_pre_bill\"])\n",
    "donors_17.drop([\"organizations_pre_bill\", \"contributors_pre_bill\"], axis=1, inplace=True)\n",
    "donors_17.rename(columns={\"organizations_post_bill\": \"organizations\", \"contributors_post_bill\": \"contributors\"}, inplace=True)\n",
    "donors_17[\"total_pre_bill\"].fillna(0, inplace=True)\n",
    "donors_17.info()"
   ]
  },
  {
   "cell_type": "code",
   "execution_count": 11,
   "metadata": {},
   "outputs": [
    {
     "data": {
      "text/html": [
       "<div>\n",
       "<style scoped>\n",
       "    .dataframe tbody tr th:only-of-type {\n",
       "        vertical-align: middle;\n",
       "    }\n",
       "\n",
       "    .dataframe tbody tr th {\n",
       "        vertical-align: top;\n",
       "    }\n",
       "\n",
       "    .dataframe thead th {\n",
       "        text-align: right;\n",
       "    }\n",
       "</style>\n",
       "<table border=\"1\" class=\"dataframe\">\n",
       "  <thead>\n",
       "    <tr style=\"text-align: right;\">\n",
       "      <th></th>\n",
       "      <th>match_id</th>\n",
       "      <th>organizations</th>\n",
       "      <th>contributors</th>\n",
       "      <th>total_post_bill</th>\n",
       "      <th>total_pre_bill</th>\n",
       "      <th>pct_post_bill</th>\n",
       "      <th>pct_pre_bill</th>\n",
       "      <th>change</th>\n",
       "      <th>pct_change</th>\n",
       "    </tr>\n",
       "  </thead>\n",
       "  <tbody>\n",
       "    <tr>\n",
       "      <th>52</th>\n",
       "      <td>U0000003690</td>\n",
       "      <td>[U-Line Corp, Uline Inc]</td>\n",
       "      <td>[UIHLEIN, ELIZABETH, UIHLEIN, ELIZABETH MRS, U...</td>\n",
       "      <td>4,557,300.00</td>\n",
       "      <td>12,051,400.00</td>\n",
       "      <td>0.27</td>\n",
       "      <td>0.73</td>\n",
       "      <td>-7,494,100.00</td>\n",
       "      <td>-0.62</td>\n",
       "    </tr>\n",
       "    <tr>\n",
       "      <th>2</th>\n",
       "      <td>American Action Network</td>\n",
       "      <td>[American Action Network]</td>\n",
       "      <td>[AMERICAN ACTION NETWORK]</td>\n",
       "      <td>3,747,520.00</td>\n",
       "      <td>9,142,525.00</td>\n",
       "      <td>0.29</td>\n",
       "      <td>0.71</td>\n",
       "      <td>-5,395,005.00</td>\n",
       "      <td>-0.59</td>\n",
       "    </tr>\n",
       "    <tr>\n",
       "      <th>60</th>\n",
       "      <td>U0000004054</td>\n",
       "      <td>[Ghpalmer Assoc, GH Palmer Assoc]</td>\n",
       "      <td>[PALMER, GEOFF, PALMER, GEOFFREY H]</td>\n",
       "      <td>1,955,200.00</td>\n",
       "      <td>546,272.00</td>\n",
       "      <td>0.78</td>\n",
       "      <td>0.22</td>\n",
       "      <td>1,408,928.00</td>\n",
       "      <td>2.58</td>\n",
       "    </tr>\n",
       "    <tr>\n",
       "      <th>10</th>\n",
       "      <td>Hillwood Development</td>\n",
       "      <td>[Hillwood Development]</td>\n",
       "      <td>[HILLWOOD DEVELOPMENT COMPANY LLC]</td>\n",
       "      <td>1,500,000.00</td>\n",
       "      <td>500,000.00</td>\n",
       "      <td>0.75</td>\n",
       "      <td>0.25</td>\n",
       "      <td>1,000,000.00</td>\n",
       "      <td>2.00</td>\n",
       "    </tr>\n",
       "    <tr>\n",
       "      <th>67</th>\n",
       "      <td>U0000004552</td>\n",
       "      <td>[Cinemark Holdings, Cinemark USA]</td>\n",
       "      <td>[MITCHELL, LEE, MITCHELL, LEE ROY, MITCHELL, T...</td>\n",
       "      <td>1,007,400.00</td>\n",
       "      <td>131,299.00</td>\n",
       "      <td>0.88</td>\n",
       "      <td>0.12</td>\n",
       "      <td>876,101.00</td>\n",
       "      <td>6.67</td>\n",
       "    </tr>\n",
       "  </tbody>\n",
       "</table>\n",
       "</div>"
      ],
      "text/plain": [
       "                   match_id                      organizations  \\\n",
       "52              U0000003690           [U-Line Corp, Uline Inc]   \n",
       "2   American Action Network          [American Action Network]   \n",
       "60              U0000004054  [Ghpalmer Assoc, GH Palmer Assoc]   \n",
       "10     Hillwood Development             [Hillwood Development]   \n",
       "67              U0000004552  [Cinemark Holdings, Cinemark USA]   \n",
       "\n",
       "                                         contributors  total_post_bill  \\\n",
       "52  [UIHLEIN, ELIZABETH, UIHLEIN, ELIZABETH MRS, U...     4,557,300.00   \n",
       "2                           [AMERICAN ACTION NETWORK]     3,747,520.00   \n",
       "60                [PALMER, GEOFF, PALMER, GEOFFREY H]     1,955,200.00   \n",
       "10                 [HILLWOOD DEVELOPMENT COMPANY LLC]     1,500,000.00   \n",
       "67  [MITCHELL, LEE, MITCHELL, LEE ROY, MITCHELL, T...     1,007,400.00   \n",
       "\n",
       "    total_pre_bill  pct_post_bill  pct_pre_bill        change  pct_change  \n",
       "52   12,051,400.00           0.27          0.73 -7,494,100.00       -0.62  \n",
       "2     9,142,525.00           0.29          0.71 -5,395,005.00       -0.59  \n",
       "60      546,272.00           0.78          0.22  1,408,928.00        2.58  \n",
       "10      500,000.00           0.75          0.25  1,000,000.00        2.00  \n",
       "67      131,299.00           0.88          0.12    876,101.00        6.67  "
      ]
     },
     "execution_count": 11,
     "metadata": {},
     "output_type": "execute_result"
    }
   ],
   "source": [
    "donors_17[\"pct_post_bill\"] = donors_17[\"total_post_bill\"] / (donors_17[\"total_pre_bill\"] + donors_17[\"total_post_bill\"])\n",
    "donors_17[\"pct_pre_bill\"] = donors_17[\"total_pre_bill\"] / (donors_17[\"total_pre_bill\"] + donors_17[\"total_post_bill\"])\n",
    "donors_17[\"change\"] = donors_17[\"total_post_bill\"] - donors_17[\"total_pre_bill\"]\n",
    "donors_17[\"pct_change\"] = (donors_17[\"total_post_bill\"] - donors_17[\"total_pre_bill\"]) / donors_17[\"total_pre_bill\"].abs()\n",
    "donors_17.sort_values(\"total_post_bill\", ascending=False).head()"
   ]
  },
  {
   "cell_type": "markdown",
   "metadata": {},
   "source": [
    "#### How much did they give?"
   ]
  },
  {
   "cell_type": "code",
   "execution_count": 12,
   "metadata": {},
   "outputs": [
    {
     "name": "stdout",
     "output_type": "stream",
     "text": [
      "2017 post-bill total: $35639563.0\n",
      "2017 pre-bill total: $58975282.0\n"
     ]
    }
   ],
   "source": [
    "print(\"2017 post-bill total: $\" + str(donors_17[\"total_post_bill\"].sum()))\n",
    "print(\"2017 pre-bill total: $\" + str(donors_17[\"total_pre_bill\"].sum()))"
   ]
  },
  {
   "cell_type": "markdown",
   "metadata": {},
   "source": [
    "### 2015"
   ]
  },
  {
   "cell_type": "code",
   "execution_count": 13,
   "metadata": {},
   "outputs": [],
   "source": [
    "post_bill_donors_15 = post_bill_donors_committees_15.groupby([\"match_id\"]).agg({\"organizations\": max, \"contributors\": max, \"total\": sum}).reset_index()\n",
    "pre_bill_donors_15 = pre_bill_donors_committees_15.groupby([\"match_id\"]).agg({\"organizations\": max, \"contributors\": max, \"total\": sum}).reset_index()"
   ]
  },
  {
   "cell_type": "code",
   "execution_count": 14,
   "metadata": {},
   "outputs": [
    {
     "name": "stdout",
     "output_type": "stream",
     "text": [
      "<class 'pandas.core.frame.DataFrame'>\n",
      "Int64Index: 111 entries, 0 to 110\n",
      "Data columns (total 5 columns):\n",
      "match_id           111 non-null object\n",
      "organizations      80 non-null object\n",
      "contributors       80 non-null object\n",
      "total_post_bill    80 non-null float64\n",
      "total_pre_bill     111 non-null float64\n",
      "dtypes: float64(2), object(3)\n",
      "memory usage: 5.2+ KB\n"
     ]
    }
   ],
   "source": [
    "donors_15 = post_bill_donors_15.merge(pre_bill_donors_15, how=\"outer\", on=\"match_id\", suffixes=[\"_post_bill\", \"_pre_bill\"])\n",
    "donors_15.drop([\"organizations_pre_bill\", \"contributors_pre_bill\"], axis=1, inplace=True)\n",
    "donors_15.rename(columns={\"organizations_post_bill\": \"organizations\", \"contributors_post_bill\": \"contributors\"}, inplace=True)\n",
    "donors_15[\"total_pre_bill\"].fillna(0, inplace=True)\n",
    "donors_15.info()"
   ]
  },
  {
   "cell_type": "code",
   "execution_count": 15,
   "metadata": {},
   "outputs": [
    {
     "data": {
      "text/html": [
       "<div>\n",
       "<style scoped>\n",
       "    .dataframe tbody tr th:only-of-type {\n",
       "        vertical-align: middle;\n",
       "    }\n",
       "\n",
       "    .dataframe tbody tr th {\n",
       "        vertical-align: top;\n",
       "    }\n",
       "\n",
       "    .dataframe thead th {\n",
       "        text-align: right;\n",
       "    }\n",
       "</style>\n",
       "<table border=\"1\" class=\"dataframe\">\n",
       "  <thead>\n",
       "    <tr style=\"text-align: right;\">\n",
       "      <th></th>\n",
       "      <th>match_id</th>\n",
       "      <th>organizations</th>\n",
       "      <th>contributors</th>\n",
       "      <th>total_post_bill</th>\n",
       "      <th>total_pre_bill</th>\n",
       "      <th>pct_post_bill</th>\n",
       "      <th>pct_pre_bill</th>\n",
       "      <th>change</th>\n",
       "      <th>pct_change</th>\n",
       "    </tr>\n",
       "  </thead>\n",
       "  <tbody>\n",
       "    <tr>\n",
       "      <th>21</th>\n",
       "      <td>U0000003477</td>\n",
       "      <td>[Koch Industries]</td>\n",
       "      <td>[KOCH, CHARLES, KOCH, CHARLES G MR, KOCH, CHAR...</td>\n",
       "      <td>3,000,000.00</td>\n",
       "      <td>0.00</td>\n",
       "      <td>1.00</td>\n",
       "      <td>0.00</td>\n",
       "      <td>3,000,000.00</td>\n",
       "      <td>inf</td>\n",
       "    </tr>\n",
       "    <tr>\n",
       "      <th>31</th>\n",
       "      <td>U0000003829</td>\n",
       "      <td>[Point72 Asset Management]</td>\n",
       "      <td>[COHEN, STEVE MR]</td>\n",
       "      <td>2,000,000.00</td>\n",
       "      <td>2,002,699.00</td>\n",
       "      <td>0.50</td>\n",
       "      <td>0.50</td>\n",
       "      <td>-2,699.00</td>\n",
       "      <td>-0.00</td>\n",
       "    </tr>\n",
       "    <tr>\n",
       "      <th>4</th>\n",
       "      <td>Republican Governors Assn</td>\n",
       "      <td>[Republican Governors Assn]</td>\n",
       "      <td>[REPUBLICAN GOVERNORS ASSOCIATION]</td>\n",
       "      <td>750,000.00</td>\n",
       "      <td>3,450,000.00</td>\n",
       "      <td>0.18</td>\n",
       "      <td>0.82</td>\n",
       "      <td>-2,700,000.00</td>\n",
       "      <td>-0.78</td>\n",
       "    </tr>\n",
       "    <tr>\n",
       "      <th>27</th>\n",
       "      <td>U0000003682</td>\n",
       "      <td>[Renaissance Technologies]</td>\n",
       "      <td>[MERCER, DIANA, MERCER, DIANA MRS, MERCER, ROB...</td>\n",
       "      <td>560,500.00</td>\n",
       "      <td>14,517,100.00</td>\n",
       "      <td>0.04</td>\n",
       "      <td>0.96</td>\n",
       "      <td>-13,956,600.00</td>\n",
       "      <td>-0.96</td>\n",
       "    </tr>\n",
       "    <tr>\n",
       "      <th>8</th>\n",
       "      <td>U0000000175</td>\n",
       "      <td>[Stephens Inc]</td>\n",
       "      <td>[STEPHENS, WARREN, STEPHENS, WARREN A MR]</td>\n",
       "      <td>549,400.00</td>\n",
       "      <td>3,485,123.00</td>\n",
       "      <td>0.14</td>\n",
       "      <td>0.86</td>\n",
       "      <td>-2,935,723.00</td>\n",
       "      <td>-0.84</td>\n",
       "    </tr>\n",
       "  </tbody>\n",
       "</table>\n",
       "</div>"
      ],
      "text/plain": [
       "                     match_id                organizations  \\\n",
       "21                U0000003477            [Koch Industries]   \n",
       "31                U0000003829   [Point72 Asset Management]   \n",
       "4   Republican Governors Assn  [Republican Governors Assn]   \n",
       "27                U0000003682   [Renaissance Technologies]   \n",
       "8                 U0000000175               [Stephens Inc]   \n",
       "\n",
       "                                         contributors  total_post_bill  \\\n",
       "21  [KOCH, CHARLES, KOCH, CHARLES G MR, KOCH, CHAR...     3,000,000.00   \n",
       "31                                  [COHEN, STEVE MR]     2,000,000.00   \n",
       "4                  [REPUBLICAN GOVERNORS ASSOCIATION]       750,000.00   \n",
       "27  [MERCER, DIANA, MERCER, DIANA MRS, MERCER, ROB...       560,500.00   \n",
       "8           [STEPHENS, WARREN, STEPHENS, WARREN A MR]       549,400.00   \n",
       "\n",
       "    total_pre_bill  pct_post_bill  pct_pre_bill         change  pct_change  \n",
       "21            0.00           1.00          0.00   3,000,000.00         inf  \n",
       "31    2,002,699.00           0.50          0.50      -2,699.00       -0.00  \n",
       "4     3,450,000.00           0.18          0.82  -2,700,000.00       -0.78  \n",
       "27   14,517,100.00           0.04          0.96 -13,956,600.00       -0.96  \n",
       "8     3,485,123.00           0.14          0.86  -2,935,723.00       -0.84  "
      ]
     },
     "execution_count": 15,
     "metadata": {},
     "output_type": "execute_result"
    }
   ],
   "source": [
    "donors_15[\"pct_post_bill\"] = donors_15[\"total_post_bill\"] / (donors_15[\"total_pre_bill\"] + donors_15[\"total_post_bill\"])\n",
    "donors_15[\"pct_pre_bill\"] = donors_15[\"total_pre_bill\"] / (donors_15[\"total_pre_bill\"] + donors_15[\"total_post_bill\"])\n",
    "donors_15[\"change\"] = donors_15[\"total_post_bill\"] - donors_15[\"total_pre_bill\"]\n",
    "donors_15[\"pct_change\"] = (donors_15[\"total_post_bill\"] - donors_15[\"total_pre_bill\"]) / donors_15[\"total_pre_bill\"].abs()\n",
    "donors_15.sort_values(\"total_post_bill\", ascending=False).head()"
   ]
  },
  {
   "cell_type": "markdown",
   "metadata": {},
   "source": [
    "#### How much did they give?"
   ]
  },
  {
   "cell_type": "code",
   "execution_count": 16,
   "metadata": {},
   "outputs": [
    {
     "name": "stdout",
     "output_type": "stream",
     "text": [
      "2015 post-bill total: $1647560.0\n",
      "2015 pre-bill total: $77617350.0\n"
     ]
    }
   ],
   "source": [
    "print(\"2015 post-bill total: $\" + str(donors_15[\"total_post_bill\"].sum()))\n",
    "print(\"2015 pre-bill total: $\" + str(donors_15[\"total_pre_bill\"].sum()))"
   ]
  },
  {
   "cell_type": "markdown",
   "metadata": {},
   "source": [
    "### 2013"
   ]
  },
  {
   "cell_type": "code",
   "execution_count": 17,
   "metadata": {},
   "outputs": [],
   "source": [
    "post_bill_donors_13 = post_bill_donors_committees_13.groupby([\"match_id\"]).agg({\"organizations\": max, \"contributors\": max, \"total\": sum}).reset_index()\n",
    "pre_bill_donors_13 = pre_bill_donors_committees_13.groupby([\"match_id\"]).agg({\"organizations\": max, \"contributors\": max, \"total\": sum}).reset_index()"
   ]
  },
  {
   "cell_type": "code",
   "execution_count": 18,
   "metadata": {},
   "outputs": [
    {
     "name": "stdout",
     "output_type": "stream",
     "text": [
      "<class 'pandas.core.frame.DataFrame'>\n",
      "Int64Index: 109 entries, 0 to 108\n",
      "Data columns (total 5 columns):\n",
      "match_id           109 non-null object\n",
      "organizations      62 non-null object\n",
      "contributors       62 non-null object\n",
      "total_post_bill    62 non-null float64\n",
      "total_pre_bill     109 non-null float64\n",
      "dtypes: float64(2), object(3)\n",
      "memory usage: 5.1+ KB\n"
     ]
    }
   ],
   "source": [
    "donors_13 = post_bill_donors_13.merge(pre_bill_donors_13, how=\"outer\", on=\"match_id\", suffixes=[\"_post_bill\", \"_pre_bill\"])\n",
    "donors_13.drop([\"organizations_pre_bill\", \"contributors_pre_bill\"], axis=1, inplace=True)\n",
    "donors_13.rename(columns={\"organizations_post_bill\": \"organizations\", \"contributors_post_bill\": \"contributors\"}, inplace=True)\n",
    "donors_13[\"total_pre_bill\"].fillna(0, inplace=True)\n",
    "donors_13.info()"
   ]
  },
  {
   "cell_type": "code",
   "execution_count": 19,
   "metadata": {},
   "outputs": [
    {
     "data": {
      "text/html": [
       "<div>\n",
       "<style scoped>\n",
       "    .dataframe tbody tr th:only-of-type {\n",
       "        vertical-align: middle;\n",
       "    }\n",
       "\n",
       "    .dataframe tbody tr th {\n",
       "        vertical-align: top;\n",
       "    }\n",
       "\n",
       "    .dataframe thead th {\n",
       "        text-align: right;\n",
       "    }\n",
       "</style>\n",
       "<table border=\"1\" class=\"dataframe\">\n",
       "  <thead>\n",
       "    <tr style=\"text-align: right;\">\n",
       "      <th></th>\n",
       "      <th>match_id</th>\n",
       "      <th>organizations</th>\n",
       "      <th>contributors</th>\n",
       "      <th>total_post_bill</th>\n",
       "      <th>total_pre_bill</th>\n",
       "      <th>pct_post_bill</th>\n",
       "      <th>pct_pre_bill</th>\n",
       "      <th>change</th>\n",
       "      <th>pct_change</th>\n",
       "    </tr>\n",
       "  </thead>\n",
       "  <tbody>\n",
       "    <tr>\n",
       "      <th>3</th>\n",
       "      <td>Republican Governors Assn</td>\n",
       "      <td>[Republican Governors Assn]</td>\n",
       "      <td>[REPUBLICAN GOVERNORS ASSOCIATION]</td>\n",
       "      <td>1,000,000.00</td>\n",
       "      <td>0.00</td>\n",
       "      <td>1.00</td>\n",
       "      <td>0.00</td>\n",
       "      <td>1,000,000.00</td>\n",
       "      <td>inf</td>\n",
       "    </tr>\n",
       "    <tr>\n",
       "      <th>25</th>\n",
       "      <td>U0000003903</td>\n",
       "      <td>[Alliance Coal]</td>\n",
       "      <td>[CRAFT, JOE W III, CRAFT, JOSEPH MR III, CRAFT...</td>\n",
       "      <td>515,600.00</td>\n",
       "      <td>162,900.00</td>\n",
       "      <td>0.76</td>\n",
       "      <td>0.24</td>\n",
       "      <td>352,700.00</td>\n",
       "      <td>2.17</td>\n",
       "    </tr>\n",
       "    <tr>\n",
       "      <th>7</th>\n",
       "      <td>U0000000175</td>\n",
       "      <td>[Stephens Inc]</td>\n",
       "      <td>[STEPHENS, WARREN, STEPHENS, WARREN A MR]</td>\n",
       "      <td>442,400.00</td>\n",
       "      <td>51,300.00</td>\n",
       "      <td>0.90</td>\n",
       "      <td>0.10</td>\n",
       "      <td>391,100.00</td>\n",
       "      <td>7.62</td>\n",
       "    </tr>\n",
       "    <tr>\n",
       "      <th>22</th>\n",
       "      <td>U0000003690</td>\n",
       "      <td>[U-Line Corp, Uline Inc]</td>\n",
       "      <td>[UIHLEIN, ELIZABETH, UIHLEIN, ELIZABETH MRS, U...</td>\n",
       "      <td>261,400.00</td>\n",
       "      <td>533,150.00</td>\n",
       "      <td>0.33</td>\n",
       "      <td>0.67</td>\n",
       "      <td>-271,750.00</td>\n",
       "      <td>-0.51</td>\n",
       "    </tr>\n",
       "    <tr>\n",
       "      <th>0</th>\n",
       "      <td>American Action Network</td>\n",
       "      <td>[American Action Network]</td>\n",
       "      <td>[AMERICAN ACTION NETWORK]</td>\n",
       "      <td>109,714.00</td>\n",
       "      <td>81,237.00</td>\n",
       "      <td>0.57</td>\n",
       "      <td>0.43</td>\n",
       "      <td>28,477.00</td>\n",
       "      <td>0.35</td>\n",
       "    </tr>\n",
       "  </tbody>\n",
       "</table>\n",
       "</div>"
      ],
      "text/plain": [
       "                     match_id                organizations  \\\n",
       "3   Republican Governors Assn  [Republican Governors Assn]   \n",
       "25                U0000003903              [Alliance Coal]   \n",
       "7                 U0000000175               [Stephens Inc]   \n",
       "22                U0000003690     [U-Line Corp, Uline Inc]   \n",
       "0     American Action Network    [American Action Network]   \n",
       "\n",
       "                                         contributors  total_post_bill  \\\n",
       "3                  [REPUBLICAN GOVERNORS ASSOCIATION]     1,000,000.00   \n",
       "25  [CRAFT, JOE W III, CRAFT, JOSEPH MR III, CRAFT...       515,600.00   \n",
       "7           [STEPHENS, WARREN, STEPHENS, WARREN A MR]       442,400.00   \n",
       "22  [UIHLEIN, ELIZABETH, UIHLEIN, ELIZABETH MRS, U...       261,400.00   \n",
       "0                           [AMERICAN ACTION NETWORK]       109,714.00   \n",
       "\n",
       "    total_pre_bill  pct_post_bill  pct_pre_bill       change  pct_change  \n",
       "3             0.00           1.00          0.00 1,000,000.00         inf  \n",
       "25      162,900.00           0.76          0.24   352,700.00        2.17  \n",
       "7        51,300.00           0.90          0.10   391,100.00        7.62  \n",
       "22      533,150.00           0.33          0.67  -271,750.00       -0.51  \n",
       "0        81,237.00           0.57          0.43    28,477.00        0.35  "
      ]
     },
     "execution_count": 19,
     "metadata": {},
     "output_type": "execute_result"
    }
   ],
   "source": [
    "donors_13[\"pct_post_bill\"] = donors_13[\"total_post_bill\"] / (donors_13[\"total_pre_bill\"] + donors_13[\"total_post_bill\"])\n",
    "donors_13[\"pct_pre_bill\"] = donors_13[\"total_pre_bill\"] / (donors_13[\"total_pre_bill\"] + donors_13[\"total_post_bill\"])\n",
    "donors_13[\"change\"] = donors_13[\"total_post_bill\"] - donors_13[\"total_pre_bill\"]\n",
    "donors_13[\"pct_change\"] = (donors_13[\"total_post_bill\"] - donors_13[\"total_pre_bill\"]) / donors_13[\"total_pre_bill\"].abs()\n",
    "donors_13.sort_values(\"total_post_bill\", ascending=False).head()"
   ]
  },
  {
   "cell_type": "markdown",
   "metadata": {},
   "source": [
    "#### How much did they give?"
   ]
  },
  {
   "cell_type": "code",
   "execution_count": 20,
   "metadata": {},
   "outputs": [
    {
     "name": "stdout",
     "output_type": "stream",
     "text": [
      "2013 post-bill total: $3859464.0\n",
      "2013 pre-bill total: $6716175.0\n"
     ]
    }
   ],
   "source": [
    "print(\"2013 post-bill total: $\" + str(donors_13[\"total_post_bill\"].sum()))\n",
    "print(\"2013 pre-bill total: $\" + str(donors_13[\"total_pre_bill\"].sum()))"
   ]
  },
  {
   "cell_type": "markdown",
   "metadata": {},
   "source": [
    "### 2011"
   ]
  },
  {
   "cell_type": "code",
   "execution_count": 21,
   "metadata": {},
   "outputs": [],
   "source": [
    "post_bill_donors_11 = post_bill_donors_committees_11.groupby([\"match_id\"]).agg({\"organizations\": max, \"contributors\": max, \"total\": sum}).reset_index()\n",
    "pre_bill_donors_11 = pre_bill_donors_committees_11.groupby([\"match_id\"]).agg({\"organizations\": max, \"contributors\": max, \"total\": sum}).reset_index()"
   ]
  },
  {
   "cell_type": "code",
   "execution_count": 22,
   "metadata": {},
   "outputs": [
    {
     "name": "stdout",
     "output_type": "stream",
     "text": [
      "<class 'pandas.core.frame.DataFrame'>\n",
      "Int64Index: 106 entries, 0 to 105\n",
      "Data columns (total 5 columns):\n",
      "match_id           106 non-null object\n",
      "organizations      71 non-null object\n",
      "contributors       71 non-null object\n",
      "total_post_bill    71 non-null float64\n",
      "total_pre_bill     106 non-null float64\n",
      "dtypes: float64(2), object(3)\n",
      "memory usage: 5.0+ KB\n"
     ]
    }
   ],
   "source": [
    "donors_11 = post_bill_donors_11.merge(pre_bill_donors_11, how=\"outer\", on=\"match_id\", suffixes=[\"_post_bill\", \"_pre_bill\"])\n",
    "donors_11.drop([\"organizations_pre_bill\", \"contributors_pre_bill\"], axis=1, inplace=True)\n",
    "donors_11.rename(columns={\"organizations_post_bill\": \"organizations\", \"contributors_post_bill\": \"contributors\"}, inplace=True)\n",
    "donors_11[\"total_pre_bill\"].fillna(0, inplace=True)\n",
    "donors_11.info()"
   ]
  },
  {
   "cell_type": "code",
   "execution_count": 23,
   "metadata": {},
   "outputs": [
    {
     "data": {
      "text/html": [
       "<div>\n",
       "<style scoped>\n",
       "    .dataframe tbody tr th:only-of-type {\n",
       "        vertical-align: middle;\n",
       "    }\n",
       "\n",
       "    .dataframe tbody tr th {\n",
       "        vertical-align: top;\n",
       "    }\n",
       "\n",
       "    .dataframe thead th {\n",
       "        text-align: right;\n",
       "    }\n",
       "</style>\n",
       "<table border=\"1\" class=\"dataframe\">\n",
       "  <thead>\n",
       "    <tr style=\"text-align: right;\">\n",
       "      <th></th>\n",
       "      <th>match_id</th>\n",
       "      <th>organizations</th>\n",
       "      <th>contributors</th>\n",
       "      <th>total_post_bill</th>\n",
       "      <th>total_pre_bill</th>\n",
       "      <th>pct_post_bill</th>\n",
       "      <th>pct_pre_bill</th>\n",
       "      <th>change</th>\n",
       "      <th>pct_change</th>\n",
       "    </tr>\n",
       "  </thead>\n",
       "  <tbody>\n",
       "    <tr>\n",
       "      <th>27</th>\n",
       "      <td>U0000004022</td>\n",
       "      <td>[Thiel Capital]</td>\n",
       "      <td>[THIEL, PETER]</td>\n",
       "      <td>1,035,000.00</td>\n",
       "      <td>32,200.00</td>\n",
       "      <td>0.97</td>\n",
       "      <td>0.03</td>\n",
       "      <td>1,002,800.00</td>\n",
       "      <td>31.14</td>\n",
       "    </tr>\n",
       "    <tr>\n",
       "      <th>11</th>\n",
       "      <td>U0000003260</td>\n",
       "      <td>[Homemaker, Mt Vernon Investments, Winstar Farm]</td>\n",
       "      <td>[TROUTT, KENNETH A, TROUTT, KENNY A MR, TROUTT...</td>\n",
       "      <td>540,800.00</td>\n",
       "      <td>312,400.00</td>\n",
       "      <td>0.63</td>\n",
       "      <td>0.37</td>\n",
       "      <td>228,400.00</td>\n",
       "      <td>0.73</td>\n",
       "    </tr>\n",
       "    <tr>\n",
       "      <th>22</th>\n",
       "      <td>U0000003690</td>\n",
       "      <td>[U-Line Corp, Uline Inc]</td>\n",
       "      <td>[UIHLEIN, ELIZABETH, UIHLEIN, ELIZABETH MRS, U...</td>\n",
       "      <td>385,200.00</td>\n",
       "      <td>188,300.00</td>\n",
       "      <td>0.67</td>\n",
       "      <td>0.33</td>\n",
       "      <td>196,900.00</td>\n",
       "      <td>1.05</td>\n",
       "    </tr>\n",
       "    <tr>\n",
       "      <th>33</th>\n",
       "      <td>U0000004393</td>\n",
       "      <td>[Nevada Restaurant Services, Pere Antoine]</td>\n",
       "      <td>[ESTEY, ALLYSON, ESTEY, PATRICIA RIVERS MS]</td>\n",
       "      <td>102,400.00</td>\n",
       "      <td>0.00</td>\n",
       "      <td>1.00</td>\n",
       "      <td>0.00</td>\n",
       "      <td>102,400.00</td>\n",
       "      <td>inf</td>\n",
       "    </tr>\n",
       "    <tr>\n",
       "      <th>2</th>\n",
       "      <td>Republican Governors Assn</td>\n",
       "      <td>[Republican Governors Assn]</td>\n",
       "      <td>[REPUBLICAN GOVERNORS ASSOCIATION]</td>\n",
       "      <td>95,000.00</td>\n",
       "      <td>73,605.00</td>\n",
       "      <td>0.56</td>\n",
       "      <td>0.44</td>\n",
       "      <td>21,395.00</td>\n",
       "      <td>0.29</td>\n",
       "    </tr>\n",
       "  </tbody>\n",
       "</table>\n",
       "</div>"
      ],
      "text/plain": [
       "                     match_id  \\\n",
       "27                U0000004022   \n",
       "11                U0000003260   \n",
       "22                U0000003690   \n",
       "33                U0000004393   \n",
       "2   Republican Governors Assn   \n",
       "\n",
       "                                       organizations  \\\n",
       "27                                   [Thiel Capital]   \n",
       "11  [Homemaker, Mt Vernon Investments, Winstar Farm]   \n",
       "22                          [U-Line Corp, Uline Inc]   \n",
       "33        [Nevada Restaurant Services, Pere Antoine]   \n",
       "2                        [Republican Governors Assn]   \n",
       "\n",
       "                                         contributors  total_post_bill  \\\n",
       "27                                     [THIEL, PETER]     1,035,000.00   \n",
       "11  [TROUTT, KENNETH A, TROUTT, KENNY A MR, TROUTT...       540,800.00   \n",
       "22  [UIHLEIN, ELIZABETH, UIHLEIN, ELIZABETH MRS, U...       385,200.00   \n",
       "33        [ESTEY, ALLYSON, ESTEY, PATRICIA RIVERS MS]       102,400.00   \n",
       "2                  [REPUBLICAN GOVERNORS ASSOCIATION]        95,000.00   \n",
       "\n",
       "    total_pre_bill  pct_post_bill  pct_pre_bill       change  pct_change  \n",
       "27       32,200.00           0.97          0.03 1,002,800.00       31.14  \n",
       "11      312,400.00           0.63          0.37   228,400.00        0.73  \n",
       "22      188,300.00           0.67          0.33   196,900.00        1.05  \n",
       "33            0.00           1.00          0.00   102,400.00         inf  \n",
       "2        73,605.00           0.56          0.44    21,395.00        0.29  "
      ]
     },
     "execution_count": 23,
     "metadata": {},
     "output_type": "execute_result"
    }
   ],
   "source": [
    "donors_11[\"pct_post_bill\"] = donors_11[\"total_post_bill\"] / (donors_11[\"total_pre_bill\"] + donors_11[\"total_post_bill\"])\n",
    "donors_11[\"pct_pre_bill\"] = donors_11[\"total_pre_bill\"] / (donors_11[\"total_pre_bill\"] + donors_11[\"total_post_bill\"])\n",
    "donors_11[\"change\"] = donors_11[\"total_post_bill\"] - donors_11[\"total_pre_bill\"]\n",
    "donors_11[\"pct_change\"] = (donors_11[\"total_post_bill\"] - donors_11[\"total_pre_bill\"]) / donors_11[\"total_pre_bill\"].abs()\n",
    "donors_11.sort_values(\"total_post_bill\", ascending=False).head()"
   ]
  },
  {
   "cell_type": "markdown",
   "metadata": {},
   "source": [
    "#### How much did they give?"
   ]
  },
  {
   "cell_type": "code",
   "execution_count": 24,
   "metadata": {},
   "outputs": [
    {
     "name": "stdout",
     "output_type": "stream",
     "text": [
      "2011 post-bill total: $3241839.0\n",
      "2011 pre-bill total: $7409350.0\n"
     ]
    }
   ],
   "source": [
    "print(\"2011 post-bill total: $\" + str(donors_11[\"total_post_bill\"].sum()))\n",
    "print(\"2011 pre-bill total: $\" + str(donors_11[\"total_pre_bill\"].sum()))"
   ]
  },
  {
   "cell_type": "markdown",
   "metadata": {},
   "source": [
    "### 2009"
   ]
  },
  {
   "cell_type": "code",
   "execution_count": 25,
   "metadata": {},
   "outputs": [],
   "source": [
    "post_bill_donors_09 = post_bill_donors_committees_09.groupby([\"match_id\"]).agg({\"organizations\": max, \"contributors\": max, \"total\": sum}).reset_index()\n",
    "pre_bill_donors_09 = pre_bill_donors_committees_09.groupby([\"match_id\"]).agg({\"organizations\": max, \"contributors\": max, \"total\": sum}).reset_index()"
   ]
  },
  {
   "cell_type": "code",
   "execution_count": 26,
   "metadata": {},
   "outputs": [
    {
     "name": "stdout",
     "output_type": "stream",
     "text": [
      "<class 'pandas.core.frame.DataFrame'>\n",
      "Int64Index: 88 entries, 0 to 87\n",
      "Data columns (total 5 columns):\n",
      "match_id           88 non-null object\n",
      "organizations      50 non-null object\n",
      "contributors       50 non-null object\n",
      "total_post_bill    50 non-null float64\n",
      "total_pre_bill     88 non-null float64\n",
      "dtypes: float64(2), object(3)\n",
      "memory usage: 4.1+ KB\n"
     ]
    }
   ],
   "source": [
    "donors_09 = post_bill_donors_09.merge(pre_bill_donors_09, how=\"outer\", on=\"match_id\", suffixes=[\"_post_bill\", \"_pre_bill\"])\n",
    "donors_09.drop([\"organizations_pre_bill\", \"contributors_pre_bill\"], axis=1, inplace=True)\n",
    "donors_09.rename(columns={\"organizations_post_bill\": \"organizations\", \"contributors_post_bill\": \"contributors\"}, inplace=True)\n",
    "donors_09[\"total_pre_bill\"].fillna(0, inplace=True)\n",
    "donors_09.info()"
   ]
  },
  {
   "cell_type": "code",
   "execution_count": 27,
   "metadata": {},
   "outputs": [
    {
     "data": {
      "text/html": [
       "<div>\n",
       "<style scoped>\n",
       "    .dataframe tbody tr th:only-of-type {\n",
       "        vertical-align: middle;\n",
       "    }\n",
       "\n",
       "    .dataframe tbody tr th {\n",
       "        vertical-align: top;\n",
       "    }\n",
       "\n",
       "    .dataframe thead th {\n",
       "        text-align: right;\n",
       "    }\n",
       "</style>\n",
       "<table border=\"1\" class=\"dataframe\">\n",
       "  <thead>\n",
       "    <tr style=\"text-align: right;\">\n",
       "      <th></th>\n",
       "      <th>match_id</th>\n",
       "      <th>organizations</th>\n",
       "      <th>contributors</th>\n",
       "      <th>total_post_bill</th>\n",
       "      <th>total_pre_bill</th>\n",
       "      <th>pct_post_bill</th>\n",
       "      <th>pct_pre_bill</th>\n",
       "      <th>change</th>\n",
       "      <th>pct_change</th>\n",
       "    </tr>\n",
       "  </thead>\n",
       "  <tbody>\n",
       "    <tr>\n",
       "      <th>0</th>\n",
       "      <td>Chickasaw Nation</td>\n",
       "      <td>[Chickasaw Nation]</td>\n",
       "      <td>[CHICKASAW NATION, CHICKASAW NATION, THE, NATI...</td>\n",
       "      <td>75,600.00</td>\n",
       "      <td>96,700.00</td>\n",
       "      <td>0.44</td>\n",
       "      <td>0.56</td>\n",
       "      <td>-21,100.00</td>\n",
       "      <td>-0.22</td>\n",
       "    </tr>\n",
       "    <tr>\n",
       "      <th>45</th>\n",
       "      <td>i3003697615</td>\n",
       "      <td>[Mpi Research, Northwood Group]</td>\n",
       "      <td>[PARFET, BARBARA A MRS, PARFET, WILLIAM U, PAR...</td>\n",
       "      <td>51,400.00</td>\n",
       "      <td>1,000.00</td>\n",
       "      <td>0.98</td>\n",
       "      <td>0.02</td>\n",
       "      <td>50,400.00</td>\n",
       "      <td>50.40</td>\n",
       "    </tr>\n",
       "    <tr>\n",
       "      <th>38</th>\n",
       "      <td>h1001217591</td>\n",
       "      <td>[Haworth Inc]</td>\n",
       "      <td>[HAWORTH, ETHELYN, HAWORTH, ETHELYN MRS, HAWOR...</td>\n",
       "      <td>40,000.00</td>\n",
       "      <td>2,400.00</td>\n",
       "      <td>0.94</td>\n",
       "      <td>0.06</td>\n",
       "      <td>37,600.00</td>\n",
       "      <td>15.67</td>\n",
       "    </tr>\n",
       "    <tr>\n",
       "      <th>19</th>\n",
       "      <td>U0000003951</td>\n",
       "      <td>[Intercontinentalexchange Inc]</td>\n",
       "      <td>[LOEFFLER, KELLY L MS, SPRECHER, JEFFREY CRAIG...</td>\n",
       "      <td>37,400.00</td>\n",
       "      <td>19,910.00</td>\n",
       "      <td>0.65</td>\n",
       "      <td>0.35</td>\n",
       "      <td>17,490.00</td>\n",
       "      <td>0.88</td>\n",
       "    </tr>\n",
       "    <tr>\n",
       "      <th>14</th>\n",
       "      <td>U0000003654</td>\n",
       "      <td>[Schweitzer Engineering Laboratories]</td>\n",
       "      <td>[SCHWEITZER, BEATRIZ, SCHWEITZER, EDMUND O III]</td>\n",
       "      <td>36,500.00</td>\n",
       "      <td>4,200.00</td>\n",
       "      <td>0.90</td>\n",
       "      <td>0.10</td>\n",
       "      <td>32,300.00</td>\n",
       "      <td>7.69</td>\n",
       "    </tr>\n",
       "  </tbody>\n",
       "</table>\n",
       "</div>"
      ],
      "text/plain": [
       "            match_id                          organizations  \\\n",
       "0   Chickasaw Nation                     [Chickasaw Nation]   \n",
       "45       i3003697615        [Mpi Research, Northwood Group]   \n",
       "38       h1001217591                          [Haworth Inc]   \n",
       "19       U0000003951         [Intercontinentalexchange Inc]   \n",
       "14       U0000003654  [Schweitzer Engineering Laboratories]   \n",
       "\n",
       "                                         contributors  total_post_bill  \\\n",
       "0   [CHICKASAW NATION, CHICKASAW NATION, THE, NATI...        75,600.00   \n",
       "45  [PARFET, BARBARA A MRS, PARFET, WILLIAM U, PAR...        51,400.00   \n",
       "38  [HAWORTH, ETHELYN, HAWORTH, ETHELYN MRS, HAWOR...        40,000.00   \n",
       "19  [LOEFFLER, KELLY L MS, SPRECHER, JEFFREY CRAIG...        37,400.00   \n",
       "14    [SCHWEITZER, BEATRIZ, SCHWEITZER, EDMUND O III]        36,500.00   \n",
       "\n",
       "    total_pre_bill  pct_post_bill  pct_pre_bill     change  pct_change  \n",
       "0        96,700.00           0.44          0.56 -21,100.00       -0.22  \n",
       "45        1,000.00           0.98          0.02  50,400.00       50.40  \n",
       "38        2,400.00           0.94          0.06  37,600.00       15.67  \n",
       "19       19,910.00           0.65          0.35  17,490.00        0.88  \n",
       "14        4,200.00           0.90          0.10  32,300.00        7.69  "
      ]
     },
     "execution_count": 27,
     "metadata": {},
     "output_type": "execute_result"
    }
   ],
   "source": [
    "donors_09[\"pct_post_bill\"] = donors_09[\"total_post_bill\"] / (donors_09[\"total_pre_bill\"] + donors_09[\"total_post_bill\"])\n",
    "donors_09[\"pct_pre_bill\"] = donors_09[\"total_pre_bill\"] / (donors_09[\"total_pre_bill\"] + donors_09[\"total_post_bill\"])\n",
    "donors_09[\"change\"] = donors_09[\"total_post_bill\"] - donors_09[\"total_pre_bill\"]\n",
    "donors_09[\"pct_change\"] = (donors_09[\"total_post_bill\"] - donors_09[\"total_pre_bill\"]) / donors_09[\"total_pre_bill\"].abs()\n",
    "donors_09.sort_values(\"total_post_bill\", ascending=False).head()"
   ]
  },
  {
   "cell_type": "markdown",
   "metadata": {},
   "source": [
    "#### How much did they give?"
   ]
  },
  {
   "cell_type": "code",
   "execution_count": 28,
   "metadata": {},
   "outputs": [
    {
     "name": "stdout",
     "output_type": "stream",
     "text": [
      "2009 post-bill total: $671846.0\n",
      "2009 pre-bill total: $1949651.0\n"
     ]
    }
   ],
   "source": [
    "print(\"2009 post-bill total: $\" + str(donors_09[\"total_post_bill\"].sum()))\n",
    "print(\"2009 pre-bill total: $\" + str(donors_09[\"total_pre_bill\"].sum()))"
   ]
  },
  {
   "cell_type": "markdown",
   "metadata": {},
   "source": [
    "## How did each contributor's giving pattern change in each cycle compared with 2017?"
   ]
  },
  {
   "cell_type": "markdown",
   "metadata": {},
   "source": [
    "### 2015"
   ]
  },
  {
   "cell_type": "code",
   "execution_count": 29,
   "metadata": {},
   "outputs": [
    {
     "name": "stdout",
     "output_type": "stream",
     "text": [
      "<class 'pandas.core.frame.DataFrame'>\n",
      "Int64Index: 158 entries, 0 to 157\n",
      "Data columns (total 11 columns):\n",
      "match_id              158 non-null object\n",
      "contributors          158 non-null object\n",
      "organizations         158 non-null object\n",
      "total_pre_bill_15     111 non-null float64\n",
      "total_post_bill_15    80 non-null float64\n",
      "pct_pre_bill_15       80 non-null float64\n",
      "pct_post_bill_15      80 non-null float64\n",
      "total_pre_bill_17     158 non-null float64\n",
      "total_post_bill_17    158 non-null float64\n",
      "pct_pre_bill_17       158 non-null float64\n",
      "pct_post_bill_17      158 non-null float64\n",
      "dtypes: float64(8), object(3)\n",
      "memory usage: 14.8+ KB\n"
     ]
    }
   ],
   "source": [
    "donors_15_17 = donors_17.merge(donors_15, how=\"outer\", on=\"match_id\", suffixes=[\"_17\", \"_15\"])\n",
    "donors_15_17.drop([\"change_17\", \"pct_change_17\", \"change_15\", \"pct_change_15\"],\n",
    "            axis=1, inplace=True)\n",
    "donors_15_17.rename(columns={\"organizations_17\": \"organizations\", \"contributors_17\": \"contributors\"}, inplace=True)\n",
    "donors_15_17 = donors_15_17[[\"match_id\", \"contributors\", \"organizations\", \"total_pre_bill_15\", \"total_post_bill_15\",\n",
    "                 \"pct_pre_bill_15\", \"pct_post_bill_15\", \"total_pre_bill_17\", \"total_post_bill_17\",\n",
    "                 \"pct_pre_bill_17\", \"pct_post_bill_17\"]]\n",
    "donors_15_17.info()"
   ]
  },
  {
   "cell_type": "code",
   "execution_count": 30,
   "metadata": {},
   "outputs": [
    {
     "data": {
      "text/html": [
       "<div>\n",
       "<style scoped>\n",
       "    .dataframe tbody tr th:only-of-type {\n",
       "        vertical-align: middle;\n",
       "    }\n",
       "\n",
       "    .dataframe tbody tr th {\n",
       "        vertical-align: top;\n",
       "    }\n",
       "\n",
       "    .dataframe thead th {\n",
       "        text-align: right;\n",
       "    }\n",
       "</style>\n",
       "<table border=\"1\" class=\"dataframe\">\n",
       "  <thead>\n",
       "    <tr style=\"text-align: right;\">\n",
       "      <th></th>\n",
       "      <th>match_id</th>\n",
       "      <th>contributors</th>\n",
       "      <th>organizations</th>\n",
       "      <th>total_pre_bill_15</th>\n",
       "      <th>total_post_bill_15</th>\n",
       "      <th>pct_pre_bill_15</th>\n",
       "      <th>pct_post_bill_15</th>\n",
       "      <th>total_pre_bill_17</th>\n",
       "      <th>total_post_bill_17</th>\n",
       "      <th>pct_pre_bill_17</th>\n",
       "      <th>pct_post_bill_17</th>\n",
       "      <th>giving_change</th>\n",
       "    </tr>\n",
       "  </thead>\n",
       "  <tbody>\n",
       "    <tr>\n",
       "      <th>0</th>\n",
       "      <td>Air Line Pilots Assn</td>\n",
       "      <td>[AIR LINE PILOTS ASSOC INT'L   POLITICAL ACTIO...</td>\n",
       "      <td>[Air Line Pilots Assn]</td>\n",
       "      <td>nan</td>\n",
       "      <td>nan</td>\n",
       "      <td>nan</td>\n",
       "      <td>nan</td>\n",
       "      <td>100,000.00</td>\n",
       "      <td>150,000.00</td>\n",
       "      <td>0.40</td>\n",
       "      <td>0.60</td>\n",
       "      <td>Increased</td>\n",
       "    </tr>\n",
       "  </tbody>\n",
       "</table>\n",
       "</div>"
      ],
      "text/plain": [
       "               match_id                                       contributors  \\\n",
       "0  Air Line Pilots Assn  [AIR LINE PILOTS ASSOC INT'L   POLITICAL ACTIO...   \n",
       "\n",
       "            organizations  total_pre_bill_15  total_post_bill_15  \\\n",
       "0  [Air Line Pilots Assn]                nan                 nan   \n",
       "\n",
       "   pct_pre_bill_15  pct_post_bill_15  total_pre_bill_17  total_post_bill_17  \\\n",
       "0              nan               nan         100,000.00          150,000.00   \n",
       "\n",
       "   pct_pre_bill_17  pct_post_bill_17 giving_change  \n",
       "0             0.40              0.60     Increased  "
      ]
     },
     "execution_count": 30,
     "metadata": {},
     "output_type": "execute_result"
    }
   ],
   "source": [
    "donors_15_17[\"giving_change\"] = np.where((donors_15_17[\"pct_post_bill_17\"] > donors_15_17[\"pct_post_bill_15\"]) | (donors_15_17[\"pct_pre_bill_15\"].isnull()), \"Increased\",\n",
    "                                  np.where(donors_15_17[\"pct_post_bill_17\"] < donors_15_17[\"pct_post_bill_15\"], \"Decreased\",\n",
    "                                           np.where(donors_15_17[\"pct_post_bill_17\"] == donors_15_17[\"pct_post_bill_15\"], \"Stayed the same\",\n",
    "                                                   \"Other\")))\n",
    "donors_15_17.head(1)"
   ]
  },
  {
   "cell_type": "markdown",
   "metadata": {},
   "source": [
    "### 2013"
   ]
  },
  {
   "cell_type": "code",
   "execution_count": 31,
   "metadata": {},
   "outputs": [
    {
     "name": "stdout",
     "output_type": "stream",
     "text": [
      "<class 'pandas.core.frame.DataFrame'>\n",
      "Int64Index: 158 entries, 0 to 157\n",
      "Data columns (total 11 columns):\n",
      "match_id              158 non-null object\n",
      "contributors          158 non-null object\n",
      "organizations         158 non-null object\n",
      "total_pre_bill_13     109 non-null float64\n",
      "total_post_bill_13    62 non-null float64\n",
      "pct_pre_bill_13       62 non-null float64\n",
      "pct_post_bill_13      62 non-null float64\n",
      "total_pre_bill_17     158 non-null float64\n",
      "total_post_bill_17    158 non-null float64\n",
      "pct_pre_bill_17       158 non-null float64\n",
      "pct_post_bill_17      158 non-null float64\n",
      "dtypes: float64(8), object(3)\n",
      "memory usage: 14.8+ KB\n"
     ]
    }
   ],
   "source": [
    "donors_13_17 = donors_17.merge(donors_13, how=\"outer\", on=\"match_id\", suffixes=[\"_17\", \"_13\"])\n",
    "donors_13_17.drop([\"change_17\", \"pct_change_17\", \"change_13\", \"pct_change_13\"],\n",
    "            axis=1, inplace=True)\n",
    "donors_13_17.rename(columns={\"organizations_17\": \"organizations\", \"contributors_17\": \"contributors\"}, inplace=True)\n",
    "donors_13_17 = donors_13_17[[\"match_id\", \"contributors\", \"organizations\", \"total_pre_bill_13\", \"total_post_bill_13\",\n",
    "                 \"pct_pre_bill_13\", \"pct_post_bill_13\", \"total_pre_bill_17\", \"total_post_bill_17\",\n",
    "                 \"pct_pre_bill_17\", \"pct_post_bill_17\"]]\n",
    "donors_13_17.info()"
   ]
  },
  {
   "cell_type": "code",
   "execution_count": 32,
   "metadata": {},
   "outputs": [
    {
     "data": {
      "text/html": [
       "<div>\n",
       "<style scoped>\n",
       "    .dataframe tbody tr th:only-of-type {\n",
       "        vertical-align: middle;\n",
       "    }\n",
       "\n",
       "    .dataframe tbody tr th {\n",
       "        vertical-align: top;\n",
       "    }\n",
       "\n",
       "    .dataframe thead th {\n",
       "        text-align: right;\n",
       "    }\n",
       "</style>\n",
       "<table border=\"1\" class=\"dataframe\">\n",
       "  <thead>\n",
       "    <tr style=\"text-align: right;\">\n",
       "      <th></th>\n",
       "      <th>match_id</th>\n",
       "      <th>contributors</th>\n",
       "      <th>organizations</th>\n",
       "      <th>total_pre_bill_13</th>\n",
       "      <th>total_post_bill_13</th>\n",
       "      <th>pct_pre_bill_13</th>\n",
       "      <th>pct_post_bill_13</th>\n",
       "      <th>total_pre_bill_17</th>\n",
       "      <th>total_post_bill_17</th>\n",
       "      <th>pct_pre_bill_17</th>\n",
       "      <th>pct_post_bill_17</th>\n",
       "      <th>giving_change</th>\n",
       "    </tr>\n",
       "  </thead>\n",
       "  <tbody>\n",
       "    <tr>\n",
       "      <th>0</th>\n",
       "      <td>Air Line Pilots Assn</td>\n",
       "      <td>[AIR LINE PILOTS ASSOC INT'L   POLITICAL ACTIO...</td>\n",
       "      <td>[Air Line Pilots Assn]</td>\n",
       "      <td>nan</td>\n",
       "      <td>nan</td>\n",
       "      <td>nan</td>\n",
       "      <td>nan</td>\n",
       "      <td>100,000.00</td>\n",
       "      <td>150,000.00</td>\n",
       "      <td>0.40</td>\n",
       "      <td>0.60</td>\n",
       "      <td>Increased</td>\n",
       "    </tr>\n",
       "  </tbody>\n",
       "</table>\n",
       "</div>"
      ],
      "text/plain": [
       "               match_id                                       contributors  \\\n",
       "0  Air Line Pilots Assn  [AIR LINE PILOTS ASSOC INT'L   POLITICAL ACTIO...   \n",
       "\n",
       "            organizations  total_pre_bill_13  total_post_bill_13  \\\n",
       "0  [Air Line Pilots Assn]                nan                 nan   \n",
       "\n",
       "   pct_pre_bill_13  pct_post_bill_13  total_pre_bill_17  total_post_bill_17  \\\n",
       "0              nan               nan         100,000.00          150,000.00   \n",
       "\n",
       "   pct_pre_bill_17  pct_post_bill_17 giving_change  \n",
       "0             0.40              0.60     Increased  "
      ]
     },
     "execution_count": 32,
     "metadata": {},
     "output_type": "execute_result"
    }
   ],
   "source": [
    "donors_13_17[\"giving_change\"] = np.where((donors_13_17[\"pct_post_bill_17\"] > donors_13_17[\"pct_post_bill_13\"]) | (donors_13_17[\"pct_pre_bill_13\"].isnull()), \"Increased\",\n",
    "                                  np.where(donors_13_17[\"pct_post_bill_17\"] < donors_13_17[\"pct_post_bill_13\"], \"Decreased\",\n",
    "                                           np.where(donors_13_17[\"pct_post_bill_17\"] == donors_13_17[\"pct_post_bill_13\"], \"Stayed the same\",\n",
    "                                                   \"Other\")))\n",
    "donors_13_17.head(1)"
   ]
  },
  {
   "cell_type": "markdown",
   "metadata": {},
   "source": [
    "### 2011"
   ]
  },
  {
   "cell_type": "code",
   "execution_count": 33,
   "metadata": {},
   "outputs": [
    {
     "name": "stdout",
     "output_type": "stream",
     "text": [
      "<class 'pandas.core.frame.DataFrame'>\n",
      "Int64Index: 158 entries, 0 to 157\n",
      "Data columns (total 11 columns):\n",
      "match_id              158 non-null object\n",
      "contributors          158 non-null object\n",
      "organizations         158 non-null object\n",
      "total_pre_bill_11     106 non-null float64\n",
      "total_post_bill_11    71 non-null float64\n",
      "pct_pre_bill_11       71 non-null float64\n",
      "pct_post_bill_11      71 non-null float64\n",
      "total_pre_bill_17     158 non-null float64\n",
      "total_post_bill_17    158 non-null float64\n",
      "pct_pre_bill_17       158 non-null float64\n",
      "pct_post_bill_17      158 non-null float64\n",
      "dtypes: float64(8), object(3)\n",
      "memory usage: 14.8+ KB\n"
     ]
    }
   ],
   "source": [
    "donors_11_17 = donors_17.merge(donors_11, how=\"outer\", on=\"match_id\", suffixes=[\"_17\", \"_11\"])\n",
    "donors_11_17.drop([\"change_17\", \"pct_change_17\", \"change_11\", \"pct_change_11\"],\n",
    "            axis=1, inplace=True)\n",
    "donors_11_17.rename(columns={\"organizations_17\": \"organizations\", \"contributors_17\": \"contributors\"}, inplace=True)\n",
    "donors_11_17 = donors_11_17[[\"match_id\", \"contributors\", \"organizations\", \"total_pre_bill_11\", \"total_post_bill_11\",\n",
    "                 \"pct_pre_bill_11\", \"pct_post_bill_11\", \"total_pre_bill_17\", \"total_post_bill_17\",\n",
    "                 \"pct_pre_bill_17\", \"pct_post_bill_17\"]]\n",
    "donors_11_17.info()"
   ]
  },
  {
   "cell_type": "code",
   "execution_count": 34,
   "metadata": {},
   "outputs": [
    {
     "data": {
      "text/html": [
       "<div>\n",
       "<style scoped>\n",
       "    .dataframe tbody tr th:only-of-type {\n",
       "        vertical-align: middle;\n",
       "    }\n",
       "\n",
       "    .dataframe tbody tr th {\n",
       "        vertical-align: top;\n",
       "    }\n",
       "\n",
       "    .dataframe thead th {\n",
       "        text-align: right;\n",
       "    }\n",
       "</style>\n",
       "<table border=\"1\" class=\"dataframe\">\n",
       "  <thead>\n",
       "    <tr style=\"text-align: right;\">\n",
       "      <th></th>\n",
       "      <th>match_id</th>\n",
       "      <th>contributors</th>\n",
       "      <th>organizations</th>\n",
       "      <th>total_pre_bill_11</th>\n",
       "      <th>total_post_bill_11</th>\n",
       "      <th>pct_pre_bill_11</th>\n",
       "      <th>pct_post_bill_11</th>\n",
       "      <th>total_pre_bill_17</th>\n",
       "      <th>total_post_bill_17</th>\n",
       "      <th>pct_pre_bill_17</th>\n",
       "      <th>pct_post_bill_17</th>\n",
       "      <th>giving_change</th>\n",
       "    </tr>\n",
       "  </thead>\n",
       "  <tbody>\n",
       "    <tr>\n",
       "      <th>0</th>\n",
       "      <td>Air Line Pilots Assn</td>\n",
       "      <td>[AIR LINE PILOTS ASSOC INT'L   POLITICAL ACTIO...</td>\n",
       "      <td>[Air Line Pilots Assn]</td>\n",
       "      <td>2,500.00</td>\n",
       "      <td>nan</td>\n",
       "      <td>nan</td>\n",
       "      <td>nan</td>\n",
       "      <td>100,000.00</td>\n",
       "      <td>150,000.00</td>\n",
       "      <td>0.40</td>\n",
       "      <td>0.60</td>\n",
       "      <td>Increased</td>\n",
       "    </tr>\n",
       "  </tbody>\n",
       "</table>\n",
       "</div>"
      ],
      "text/plain": [
       "               match_id                                       contributors  \\\n",
       "0  Air Line Pilots Assn  [AIR LINE PILOTS ASSOC INT'L   POLITICAL ACTIO...   \n",
       "\n",
       "            organizations  total_pre_bill_11  total_post_bill_11  \\\n",
       "0  [Air Line Pilots Assn]           2,500.00                 nan   \n",
       "\n",
       "   pct_pre_bill_11  pct_post_bill_11  total_pre_bill_17  total_post_bill_17  \\\n",
       "0              nan               nan         100,000.00          150,000.00   \n",
       "\n",
       "   pct_pre_bill_17  pct_post_bill_17 giving_change  \n",
       "0             0.40              0.60     Increased  "
      ]
     },
     "execution_count": 34,
     "metadata": {},
     "output_type": "execute_result"
    }
   ],
   "source": [
    "donors_11_17[\"giving_change\"] = np.where((donors_11_17[\"pct_post_bill_17\"] > donors_11_17[\"pct_post_bill_11\"]) | (donors_11_17[\"pct_pre_bill_11\"].isnull()), \"Increased\",\n",
    "                                  np.where(donors_11_17[\"pct_post_bill_17\"] < donors_11_17[\"pct_post_bill_11\"], \"Decreased\",\n",
    "                                           np.where(donors_11_17[\"pct_post_bill_17\"] == donors_11_17[\"pct_post_bill_11\"], \"Stayed the same\",\n",
    "                                                   \"Other\")))\n",
    "donors_11_17.head(1)"
   ]
  },
  {
   "cell_type": "markdown",
   "metadata": {},
   "source": [
    "### 2009"
   ]
  },
  {
   "cell_type": "code",
   "execution_count": 35,
   "metadata": {},
   "outputs": [
    {
     "name": "stdout",
     "output_type": "stream",
     "text": [
      "<class 'pandas.core.frame.DataFrame'>\n",
      "Int64Index: 158 entries, 0 to 157\n",
      "Data columns (total 11 columns):\n",
      "match_id              158 non-null object\n",
      "contributors          158 non-null object\n",
      "organizations         158 non-null object\n",
      "total_pre_bill_09     88 non-null float64\n",
      "total_post_bill_09    50 non-null float64\n",
      "pct_pre_bill_09       50 non-null float64\n",
      "pct_post_bill_09      50 non-null float64\n",
      "total_pre_bill_17     158 non-null float64\n",
      "total_post_bill_17    158 non-null float64\n",
      "pct_pre_bill_17       158 non-null float64\n",
      "pct_post_bill_17      158 non-null float64\n",
      "dtypes: float64(8), object(3)\n",
      "memory usage: 14.8+ KB\n"
     ]
    }
   ],
   "source": [
    "donors_09_17 = donors_17.merge(donors_09, how=\"outer\", on=\"match_id\", suffixes=[\"_17\", \"_09\"])\n",
    "donors_09_17.drop([\"change_17\", \"pct_change_17\", \"change_09\", \"pct_change_09\"],\n",
    "            axis=1, inplace=True)\n",
    "donors_09_17.rename(columns={\"organizations_17\": \"organizations\", \"contributors_17\": \"contributors\"}, inplace=True)\n",
    "donors_09_17 = donors_09_17[[\"match_id\", \"contributors\", \"organizations\", \"total_pre_bill_09\", \"total_post_bill_09\",\n",
    "                 \"pct_pre_bill_09\", \"pct_post_bill_09\", \"total_pre_bill_17\", \"total_post_bill_17\",\n",
    "                 \"pct_pre_bill_17\", \"pct_post_bill_17\"]]\n",
    "donors_09_17.info()"
   ]
  },
  {
   "cell_type": "code",
   "execution_count": 36,
   "metadata": {},
   "outputs": [
    {
     "data": {
      "text/html": [
       "<div>\n",
       "<style scoped>\n",
       "    .dataframe tbody tr th:only-of-type {\n",
       "        vertical-align: middle;\n",
       "    }\n",
       "\n",
       "    .dataframe tbody tr th {\n",
       "        vertical-align: top;\n",
       "    }\n",
       "\n",
       "    .dataframe thead th {\n",
       "        text-align: right;\n",
       "    }\n",
       "</style>\n",
       "<table border=\"1\" class=\"dataframe\">\n",
       "  <thead>\n",
       "    <tr style=\"text-align: right;\">\n",
       "      <th></th>\n",
       "      <th>match_id</th>\n",
       "      <th>contributors</th>\n",
       "      <th>organizations</th>\n",
       "      <th>total_pre_bill_09</th>\n",
       "      <th>total_post_bill_09</th>\n",
       "      <th>pct_pre_bill_09</th>\n",
       "      <th>pct_post_bill_09</th>\n",
       "      <th>total_pre_bill_17</th>\n",
       "      <th>total_post_bill_17</th>\n",
       "      <th>pct_pre_bill_17</th>\n",
       "      <th>pct_post_bill_17</th>\n",
       "      <th>giving_change</th>\n",
       "    </tr>\n",
       "  </thead>\n",
       "  <tbody>\n",
       "    <tr>\n",
       "      <th>0</th>\n",
       "      <td>Air Line Pilots Assn</td>\n",
       "      <td>[AIR LINE PILOTS ASSOC INT'L   POLITICAL ACTIO...</td>\n",
       "      <td>[Air Line Pilots Assn]</td>\n",
       "      <td>nan</td>\n",
       "      <td>nan</td>\n",
       "      <td>nan</td>\n",
       "      <td>nan</td>\n",
       "      <td>100,000.00</td>\n",
       "      <td>150,000.00</td>\n",
       "      <td>0.40</td>\n",
       "      <td>0.60</td>\n",
       "      <td>Increased</td>\n",
       "    </tr>\n",
       "  </tbody>\n",
       "</table>\n",
       "</div>"
      ],
      "text/plain": [
       "               match_id                                       contributors  \\\n",
       "0  Air Line Pilots Assn  [AIR LINE PILOTS ASSOC INT'L   POLITICAL ACTIO...   \n",
       "\n",
       "            organizations  total_pre_bill_09  total_post_bill_09  \\\n",
       "0  [Air Line Pilots Assn]                nan                 nan   \n",
       "\n",
       "   pct_pre_bill_09  pct_post_bill_09  total_pre_bill_17  total_post_bill_17  \\\n",
       "0              nan               nan         100,000.00          150,000.00   \n",
       "\n",
       "   pct_pre_bill_17  pct_post_bill_17 giving_change  \n",
       "0             0.40              0.60     Increased  "
      ]
     },
     "execution_count": 36,
     "metadata": {},
     "output_type": "execute_result"
    }
   ],
   "source": [
    "donors_09_17[\"giving_change\"] = np.where((donors_09_17[\"pct_post_bill_17\"] > donors_09_17[\"pct_post_bill_09\"]) | (donors_09_17[\"pct_pre_bill_09\"].isnull()), \"Increased\",\n",
    "                                  np.where(donors_09_17[\"pct_post_bill_17\"] < donors_09_17[\"pct_post_bill_09\"], \"Decreased\",\n",
    "                                           np.where(donors_09_17[\"pct_post_bill_17\"] == donors_09_17[\"pct_post_bill_09\"], \"Stayed the same\",\n",
    "                                                   \"Other\")))\n",
    "donors_09_17.head(1)"
   ]
  },
  {
   "cell_type": "markdown",
   "metadata": {},
   "source": [
    "## What proportion of donors increased the share of their annual giving that fell in the last two months of 2017 as compared with the same period in each of the previous years?"
   ]
  },
  {
   "cell_type": "code",
   "execution_count": 37,
   "metadata": {},
   "outputs": [
    {
     "name": "stdout",
     "output_type": "stream",
     "text": [
      "89.24050632911393% of donors increased the share of their annual giving that fell in the last two months of the year between 2015 and 2017.\n",
      "83.54430379746836% of donors increased the share of their annual giving that fell in the last two months of the year between 2013 and 2017.\n",
      "85.44303797468355% of donors increased the share of their annual giving that fell in the last two months of the year between 2011 and 2017.\n",
      "85.44303797468355% of donors increased the share of their annual giving that fell in the last two months of the year between 2009 and 2017.\n"
     ]
    }
   ],
   "source": [
    "print(str(donors_15_17[donors_15_17[\"giving_change\"] == \"Increased\"][\"match_id\"].count() / donors_15_17[\"match_id\"].count() * 100) + \"% of donors increased the share of their annual giving that fell in the last two months of the year between 2015 and 2017.\")\n",
    "print(str(donors_13_17[donors_13_17[\"giving_change\"] == \"Increased\"][\"match_id\"].count() / donors_13_17[\"match_id\"].count() * 100) + \"% of donors increased the share of their annual giving that fell in the last two months of the year between 2013 and 2017.\")\n",
    "print(str(donors_11_17[donors_11_17[\"giving_change\"] == \"Increased\"][\"match_id\"].count() / donors_11_17[\"match_id\"].count() * 100) + \"% of donors increased the share of their annual giving that fell in the last two months of the year between 2011 and 2017.\")\n",
    "print(str(donors_09_17[donors_09_17[\"giving_change\"] == \"Increased\"][\"match_id\"].count() / donors_09_17[\"match_id\"].count() * 100) + \"% of donors increased the share of their annual giving that fell in the last two months of the year between 2009 and 2017.\")"
   ]
  },
  {
   "cell_type": "markdown",
   "metadata": {},
   "source": [
    "## And by how much did these individuals' giving increase?"
   ]
  },
  {
   "cell_type": "code",
   "execution_count": 38,
   "metadata": {},
   "outputs": [
    {
     "name": "stdout",
     "output_type": "stream",
     "text": [
      "These donors' giving in the last two months of the year increased by $35512029.0, from $-6589136.0 to $28922893.0 between 2015 and 2017.\n",
      "These donors' giving in the last two months of the year increased by $21880518.0, from $1155975.0 to $23036493.0 between 2013 and 2017.\n",
      "These donors' giving in the last two months of the year increased by $24340851.0, from $613592.0 to $24954443.0 between 2011 and 2017.\n",
      "These donors' giving in the last two months of the year increased by $31881913.0, from $267350.0 to $32149263.0 between 2009 and 2017.\n"
     ]
    }
   ],
   "source": [
    "print(\"These donors' giving in the last two months of the year increased by $\" + str(donors_15_17[donors_15_17[\"giving_change\"] == \"Increased\"][\"total_post_bill_17\"].sum() - donors_15_17[donors_15_17[\"giving_change\"] == \"Increased\"][\"total_post_bill_15\"].sum()) + \", from $\" + str(donors_15_17[donors_15_17[\"giving_change\"] == \"Increased\"][\"total_post_bill_15\"].sum()) + \" to $\" + str(donors_15_17[donors_15_17[\"giving_change\"] == \"Increased\"][\"total_post_bill_17\"].sum()) + \" between 2015 and 2017.\")\n",
    "print(\"These donors' giving in the last two months of the year increased by $\" + str(donors_13_17[donors_13_17[\"giving_change\"] == \"Increased\"][\"total_post_bill_17\"].sum() - donors_13_17[donors_13_17[\"giving_change\"] == \"Increased\"][\"total_post_bill_13\"].sum()) + \", from $\" + str(donors_13_17[donors_13_17[\"giving_change\"] == \"Increased\"][\"total_post_bill_13\"].sum()) + \" to $\" + str(donors_13_17[donors_13_17[\"giving_change\"] == \"Increased\"][\"total_post_bill_17\"].sum()) + \" between 2013 and 2017.\")\n",
    "print(\"These donors' giving in the last two months of the year increased by $\" + str(donors_11_17[donors_11_17[\"giving_change\"] == \"Increased\"][\"total_post_bill_17\"].sum() - donors_11_17[donors_11_17[\"giving_change\"] == \"Increased\"][\"total_post_bill_11\"].sum()) + \", from $\" + str(donors_11_17[donors_11_17[\"giving_change\"] == \"Increased\"][\"total_post_bill_11\"].sum()) + \" to $\" + str(donors_11_17[donors_11_17[\"giving_change\"] == \"Increased\"][\"total_post_bill_17\"].sum()) + \" between 2011 and 2017.\")\n",
    "print(\"These donors' giving in the last two months of the year increased by $\" + str(donors_09_17[donors_09_17[\"giving_change\"] == \"Increased\"][\"total_post_bill_17\"].sum() - donors_09_17[donors_09_17[\"giving_change\"] == \"Increased\"][\"total_post_bill_09\"].sum()) + \", from $\" + str(donors_09_17[donors_09_17[\"giving_change\"] == \"Increased\"][\"total_post_bill_09\"].sum()) + \" to $\" + str(donors_09_17[donors_09_17[\"giving_change\"] == \"Increased\"][\"total_post_bill_17\"].sum()) + \" between 2009 and 2017.\")"
   ]
  },
  {
   "cell_type": "markdown",
   "metadata": {},
   "source": [
    "## How many donors in each year gave all of their money in the last two months of each year?"
   ]
  },
  {
   "cell_type": "code",
   "execution_count": 39,
   "metadata": {},
   "outputs": [
    {
     "name": "stdout",
     "output_type": "stream",
     "text": [
      "In 2017, 44 donors gave all their money in the last two months.\n",
      "In 2015, 2 donors gave all their money in the last two months.\n",
      "In 2013, 4 donors gave all their money in the last two months.\n",
      "In 2011, 3 donors gave all their money in the last two months.\n",
      "In 2009, 7 donors gave all their money in the last two months.\n"
     ]
    }
   ],
   "source": [
    "print(\"In 2017, \" + str(donors_17[donors_17[\"pct_post_bill\"] == 1][\"match_id\"].count()) + \" donors gave all their money in the last two months.\")\n",
    "print(\"In 2015, \" + str(donors_15[donors_15[\"pct_post_bill\"] == 1][\"match_id\"].count()) + \" donors gave all their money in the last two months.\")\n",
    "print(\"In 2013, \" + str(donors_13[donors_13[\"pct_post_bill\"] == 1][\"match_id\"].count()) + \" donors gave all their money in the last two months.\")\n",
    "print(\"In 2011, \" + str(donors_11[donors_11[\"pct_post_bill\"] == 1][\"match_id\"].count()) + \" donors gave all their money in the last two months.\")\n",
    "print(\"In 2009, \" + str(donors_09[donors_09[\"pct_post_bill\"] == 1][\"match_id\"].count()) + \" donors gave all their money in the last two months.\")"
   ]
  },
  {
   "cell_type": "markdown",
   "metadata": {},
   "source": [
    "# What does this giving look like on a contribution-by-contribution level?"
   ]
  },
  {
   "cell_type": "code",
   "execution_count": 40,
   "metadata": {},
   "outputs": [],
   "source": [
    "def run_contributions_query(prefix, suffix, reference_cycle, reference_start, reference_end, cycle, start, end):\n",
    "    query = \"\"\"CREATE MATERIALIZED VIEW IF NOT EXISTS \"\"\" + prefix + \"\"\"_contributions_\"\"\" + suffix + \"\"\" AS\n",
    "    SELECT fectransid,\n",
    "    match_id,\n",
    "    organization,\n",
    "    contributor, date, sum(SUM),\n",
    "    cmte_id,\n",
    "    pacshort AS committee\n",
    "FROM\n",
    "  (SELECT fectransid,\n",
    "          match_id,\n",
    "          orgname AS organization,\n",
    "          contrib AS contributor, date, sum(amount),\n",
    "                                        cmteid AS cmte_id\n",
    "   FROM\n",
    "     (SELECT CASE\n",
    "                 WHEN trim(contribid) != '' THEN left(contribid, 11)\n",
    "                 ELSE orgname\n",
    "             END AS match_id\n",
    "      FROM crp_contributions\n",
    "      LEFT JOIN crp_committees ON crp_contributions.cmteid = crp_committees.cmteid\n",
    "      AND crp_committees.cycle = '\"\"\" + reference_cycle + \"\"\"'\n",
    "      WHERE primcode IN ('J1100',\n",
    "                         'J2200',\n",
    "                         'J2400',\n",
    "                         'Z1100',\n",
    "                         'Z4100',\n",
    "                         'Z4500',\n",
    "                         'Z5100')\n",
    "                            AND date >= '\"\"\" + reference_start + \"\"\"'\n",
    "                            AND date <= '\"\"\" + reference_end + \"\"\"'\n",
    "                            AND crp_contributions.cycle = '\"\"\" + reference_cycle + \"\"\"'\n",
    "        AND TYPE NOT IN ('11J',\n",
    "                         '15C',\n",
    "                         '15E',\n",
    "                         '15I',\n",
    "                         '15J',\n",
    "                         '15T',\n",
    "                         '18J',\n",
    "                         '19J',\n",
    "                         '30J',\n",
    "                         '30F',\n",
    "                         '31J',\n",
    "                         '31F',\n",
    "                         '32J',\n",
    "                         '32F')\n",
    "      GROUP BY match_id\n",
    "      HAVING sum(amount) >= 50000) AS gop_donors\n",
    "   JOIN crp_contributions ON CASE\n",
    "                                 WHEN trim(contribid) != '' THEN left(contribid, 11)\n",
    "                                 ELSE crp_contributions.orgname\n",
    "                             END = gop_donors.match_id\n",
    "                       WHERE date >= '\"\"\" + start + \"\"\"'\n",
    "                         AND date <= '\"\"\" + end + \"\"\"'\n",
    "                         AND CYCLE = '\"\"\" + cycle + \"\"\"'\n",
    "     AND TYPE NOT IN ('11J',\n",
    "                      '15C',\n",
    "                      '15E',\n",
    "                      '15I',\n",
    "                      '15J',\n",
    "                      '15T',\n",
    "                      '18J',\n",
    "                      '19J',\n",
    "                      '30J',\n",
    "                      '30F',\n",
    "                      '31J',\n",
    "                      '31F',\n",
    "                      '32J',\n",
    "                      '32F')\n",
    "   GROUP BY fectransid,\n",
    "            match_id,\n",
    "            organization,\n",
    "            contributor, date, cmte_id) AS donors_committees\n",
    "JOIN crp_committees ON donors_committees.cmte_id = crp_committees.cmteid\n",
    "                    AND crp_committees.CYCLE = '\"\"\" + cycle + \"\"\"'\n",
    "WHERE primcode IN ('J1100',\n",
    "                   'J2200',\n",
    "                   'J2400',\n",
    "                   'Z1100',\n",
    "                   'Z4100',\n",
    "                   'Z4500',\n",
    "                   'Z5100')\n",
    "GROUP BY fectransid,\n",
    "         match_id,\n",
    "         organization,\n",
    "         contributor, date, cmte_id,\n",
    "                            committee;\n",
    "                            SELECT *\n",
    "                            FROM \"\"\" + prefix + \"\"\"_contributions_\"\"\"+ suffix +\"\"\";\"\"\"\n",
    "    return pd.read_sql(query, con=conn)"
   ]
  },
  {
   "cell_type": "markdown",
   "metadata": {},
   "source": [
    "## Return the data for each cycle."
   ]
  },
  {
   "cell_type": "code",
   "execution_count": 41,
   "metadata": {},
   "outputs": [],
   "source": [
    "post_bill_contributions_17 = run_contributions_query(\"post_bill\", \"17\", \"2018\", \"2017-11-02\", \"2017-12-31\", \"2018\", \"2017-11-02\", \"2017-12-31\")\n",
    "pre_bill_contributions_17 = run_contributions_query(\"pre_bill\", \"17\", \"2018\", \"2017-11-02\", \"2017-12-31\", \"2018\", \"2017-01-01\", \"2017-11-01\")"
   ]
  },
  {
   "cell_type": "code",
   "execution_count": 42,
   "metadata": {},
   "outputs": [],
   "source": [
    "post_bill_contributions_15 = run_contributions_query(\"post_bill\", \"15\", \"2018\", \"2017-11-02\", \"2017-12-31\", \"2016\", \"2015-11-02\", \"2015-12-31\")\n",
    "pre_bill_contributions_15 = run_contributions_query(\"pre_bill\", \"15\", \"2018\", \"2017-11-02\", \"2017-12-31\", \"2016\", \"2015-01-01\", \"2015-11-01\")"
   ]
  },
  {
   "cell_type": "code",
   "execution_count": 43,
   "metadata": {},
   "outputs": [],
   "source": [
    "post_bill_contributions_13 = run_contributions_query(\"post_bill\", \"13\", \"2018\", \"2017-11-02\", \"2017-12-31\", \"2014\", \"2013-11-02\", \"2013-12-31\")\n",
    "pre_bill_contributions_13 = run_contributions_query(\"pre_bill\", \"13\", \"2018\", \"2017-11-02\", \"2017-12-31\", \"2014\", \"2013-01-01\", \"2013-11-01\")"
   ]
  },
  {
   "cell_type": "code",
   "execution_count": 44,
   "metadata": {},
   "outputs": [],
   "source": [
    "post_bill_contributions_11 = run_contributions_query(\"post_bill\", \"11\", \"2018\", \"2017-11-02\", \"2017-12-31\", \"2012\", \"2011-11-02\", \"2011-12-31\")\n",
    "pre_bill_contributions_11 = run_contributions_query(\"pre_bill\", \"11\", \"2018\", \"2017-11-02\", \"2017-12-31\", \"2012\", \"2011-01-01\", \"2011-11-01\")"
   ]
  },
  {
   "cell_type": "code",
   "execution_count": 45,
   "metadata": {},
   "outputs": [],
   "source": [
    "post_bill_contributions_09 = run_contributions_query(\"post_bill\", \"09\", \"2018\", \"2017-11-02\", \"2017-12-31\", \"2010\", \"2009-11-02\", \"2009-12-31\")\n",
    "pre_bill_contributions_09 = run_contributions_query(\"pre_bill\", \"09\", \"2018\", \"2017-11-02\", \"2017-12-31\", \"2010\", \"2009-01-01\", \"2009-11-01\")"
   ]
  },
  {
   "cell_type": "markdown",
   "metadata": {},
   "source": [
    "## Export data to Excel."
   ]
  },
  {
   "cell_type": "code",
   "execution_count": 46,
   "metadata": {},
   "outputs": [],
   "source": [
    "writer = pd.ExcelWriter(\"data/megadonors.xlsx\")\n",
    "donors_15_17.to_excel(writer, \"donors_15_17\", startcol=0, index=False)\n",
    "donors_13_17.to_excel(writer, \"donors_13_17\", startcol=0, index=False)\n",
    "donors_11_17.to_excel(writer, \"donors_11_17\", startcol=0, index=False)\n",
    "donors_09_17.to_excel(writer, \"donors_09_17\", startcol=0, index=False)\n",
    "post_bill_donors_committees_17.to_excel(writer, \"post_bill_donors_committees_17\", startcol=0, index=False)\n",
    "pre_bill_donors_committees_17.to_excel(writer, \"pre_bill_donors_committees_17\", startcol=0, index=False)\n",
    "post_bill_donors_committees_15.to_excel(writer, \"post_bill_donors_committees_15\", startcol=0, index=False)\n",
    "pre_bill_donors_committees_15.to_excel(writer, \"pre_bill_donors_committees_15\", startcol=0, index=False)\n",
    "post_bill_donors_committees_13.to_excel(writer, \"post_bill_donors_committees_13\", startcol=0, index=False)\n",
    "pre_bill_donors_committees_13.to_excel(writer, \"pre_bill_donors_committees_13\", startcol=0, index=False)\n",
    "post_bill_donors_committees_11.to_excel(writer, \"post_bill_donors_committees_11\", startcol=0, index=False)\n",
    "pre_bill_donors_committees_11.to_excel(writer, \"pre_bill_donors_committees_11\", startcol=0, index=False)\n",
    "post_bill_donors_committees_09.to_excel(writer, \"post_bill_donors_committees_09\", startcol=0, index=False)\n",
    "pre_bill_donors_committees_09.to_excel(writer, \"pre_bill_donors_committees_09\", startcol=0, index=False)\n",
    "post_bill_contributions_17.to_excel(writer, \"post_bill_contributions_17\", startcol=0, index=False)\n",
    "pre_bill_contributions_17.to_excel(writer, \"pre_bill_contributions_17\", startcol=0, index=False)\n",
    "post_bill_contributions_15.to_excel(writer, \"post_bill_contributions_15\", startcol=0, index=False)\n",
    "pre_bill_contributions_15.to_excel(writer, \"pre_bill_contributions_15\", startcol=0, index=False)\n",
    "post_bill_contributions_13.to_excel(writer, \"post_bill_contributions_13\", startcol=0, index=False)\n",
    "pre_bill_contributions_13.to_excel(writer, \"pre_bill_contributions_13\", startcol=0, index=False)\n",
    "post_bill_contributions_11.to_excel(writer, \"post_bill_contributions_11\", startcol=0, index=False)\n",
    "pre_bill_contributions_11.to_excel(writer, \"pre_bill_contributions_11\", startcol=0, index=False)\n",
    "post_bill_contributions_09.to_excel(writer, \"post_bill_contributions_09\", startcol=0, index=False)\n",
    "pre_bill_contributions_09.to_excel(writer, \"pre_bill_contributions_09\", startcol=0, index=False)\n",
    "writer.save()"
   ]
  },
  {
   "cell_type": "code",
   "execution_count": null,
   "metadata": {},
   "outputs": [],
   "source": []
  }
 ],
 "metadata": {
  "kernelspec": {
   "display_name": "Python 3",
   "language": "python",
   "name": "python3"
  },
  "language_info": {
   "codemirror_mode": {
    "name": "ipython",
    "version": 3
   },
   "file_extension": ".py",
   "mimetype": "text/x-python",
   "name": "python",
   "nbconvert_exporter": "python",
   "pygments_lexer": "ipython3",
   "version": "3.6.3"
  }
 },
 "nbformat": 4,
 "nbformat_minor": 2
}
