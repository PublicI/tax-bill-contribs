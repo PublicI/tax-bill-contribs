{
 "cells": [
  {
   "cell_type": "code",
   "execution_count": 1,
   "metadata": {},
   "outputs": [],
   "source": [
    "import altair as alt\n",
    "from altair.expr import datum, if_\n",
    "import datetime\n",
    "import json\n",
    "import numpy as np\n",
    "import pandas as pd\n",
    "import psycopg2\n",
    "pd.set_option(\"display.max_columns\", 25)\n",
    "pd.set_option(\"display.max_rows\", 150)\n",
    "pd.options.display.float_format = \"{:,.2f}\".format"
   ]
  },
  {
   "cell_type": "markdown",
   "metadata": {},
   "source": [
    "Connect to the database."
   ]
  },
  {
   "cell_type": "code",
   "execution_count": 2,
   "metadata": {},
   "outputs": [],
   "source": [
    "with open(\"config.json\") as f:\n",
    "    conf = json.load(f)\n",
    "conn = psycopg2.connect(\n",
    "    dbname=conf[\"database\"],\n",
    "    user=conf[\"user\"],\n",
    "    host=conf[\"host\"],\n",
    "    password=conf[\"password\"]\n",
    ")\n",
    "conn.autocommit = True"
   ]
  },
  {
   "cell_type": "markdown",
   "metadata": {},
   "source": [
    "## Which families and corporations gave at least $50,000 to conservative and GOP-aligned groups between Nov. 2 and Dec. 31, 2017?"
   ]
  },
  {
   "cell_type": "markdown",
   "metadata": {},
   "source": [
    "Return contributions by donor and committee."
   ]
  },
  {
   "cell_type": "code",
   "execution_count": 3,
   "metadata": {},
   "outputs": [
    {
     "name": "stdout",
     "output_type": "stream",
     "text": [
      "<class 'pandas.core.frame.DataFrame'>\n",
      "RangeIndex: 515 entries, 0 to 514\n",
      "Data columns (total 6 columns):\n",
      "match_id         515 non-null object\n",
      "organizations    515 non-null object\n",
      "contributors     515 non-null object\n",
      "total            515 non-null float64\n",
      "cmte_id          515 non-null object\n",
      "committee        515 non-null object\n",
      "dtypes: float64(1), object(5)\n",
      "memory usage: 24.2+ KB\n"
     ]
    }
   ],
   "source": [
    "post_bill_donors_committees_17 = pd.read_sql(\"\"\"CREATE TABLE IF NOT EXISTS post_bill_donors_committees_17 AS\n",
    "SELECT match_id,\n",
    "       organizations,\n",
    "       contributors,\n",
    "       sum(committee_total) AS total,\n",
    "       cmte_id,\n",
    "       pacshort AS committee\n",
    "FROM\n",
    "  (SELECT match_id,\n",
    "          organizations,\n",
    "          contributors,\n",
    "          sum(amount) AS committee_total,\n",
    "          cmteid AS cmte_id\n",
    "   FROM\n",
    "     (SELECT CASE\n",
    "                 WHEN trim(contribid) != '' THEN left(contribid, 11)\n",
    "                 ELSE orgname\n",
    "             END AS match_id,\n",
    "             array_agg(DISTINCT orgname) AS organizations,\n",
    "             array_agg(DISTINCT contrib) AS contributors\n",
    "      FROM crp_contributions\n",
    "      LEFT JOIN crp_committees ON crp_contributions.cmteid = crp_committees.cmteid\n",
    "      AND crp_committees.cycle = '2018'\n",
    "      WHERE primcode IN ('J1100',\n",
    "                         'J2200',\n",
    "                         'J2400',\n",
    "                         'Z1100',\n",
    "                         'Z4100',\n",
    "                         'Z4500',\n",
    "                         'Z5100')\n",
    "        AND date >= '2017-11-02'\n",
    "        AND date <= '2017-12-31'\n",
    "        AND crp_contributions.cycle = '2018'\n",
    "        AND TYPE NOT IN ('11J',\n",
    "                         '15C',\n",
    "                         '15E',\n",
    "                         '15I',\n",
    "                         '15J',\n",
    "                         '15T',\n",
    "                         '18J',\n",
    "                         '19J',\n",
    "                         '30J',\n",
    "                         '30F',\n",
    "                         '31J',\n",
    "                         '31F',\n",
    "                         '32J',\n",
    "                         '32F')\n",
    "      GROUP BY match_id\n",
    "      HAVING sum(amount) >= 50000) AS gop_donors\n",
    "   JOIN crp_contributions ON CASE\n",
    "                                 WHEN trim(contribid) != '' THEN left(contribid, 11)\n",
    "                                 ELSE crp_contributions.orgname\n",
    "                             END = gop_donors.match_id\n",
    "   WHERE date >= '2017-11-02'\n",
    "     AND date <= '2017-12-31'\n",
    "     AND CYCLE = '2018'\n",
    "     AND TYPE NOT IN ('11J',\n",
    "                      '15C',\n",
    "                      '15E',\n",
    "                      '15I',\n",
    "                      '15J',\n",
    "                      '15T',\n",
    "                      '18J',\n",
    "                      '19J',\n",
    "                      '30J',\n",
    "                      '30F',\n",
    "                      '31J',\n",
    "                      '31F',\n",
    "                      '32J',\n",
    "                      '32F')\n",
    "   GROUP BY match_id,\n",
    "            organizations,\n",
    "            contributors,\n",
    "            cmte_id) AS donors_committees\n",
    "JOIN crp_committees ON donors_committees.cmte_id = crp_committees.cmteid\n",
    "AND crp_committees.CYCLE = '2018'\n",
    "WHERE primcode IN ('J1100',\n",
    "                   'J2200',\n",
    "                   'J2400',\n",
    "                   'Z1100',\n",
    "                   'Z4100',\n",
    "                   'Z4500',\n",
    "                   'Z5100')\n",
    "GROUP BY match_id,\n",
    "         organizations,\n",
    "         contributors,\n",
    "         cmte_id,\n",
    "         committee;\n",
    "\n",
    "GRANT ALL ON TABLE post_bill_donors_committees_17 TO redash_default;\n",
    "\n",
    "\n",
    "SELECT *\n",
    "FROM post_bill_donors_committees_17;\"\"\", con=conn)\n",
    "post_bill_donors_committees_17.info()"
   ]
  },
  {
   "cell_type": "markdown",
   "metadata": {},
   "source": [
    "Group by donor."
   ]
  },
  {
   "cell_type": "code",
   "execution_count": 4,
   "metadata": {},
   "outputs": [
    {
     "name": "stdout",
     "output_type": "stream",
     "text": [
      "<class 'pandas.core.frame.DataFrame'>\n",
      "RangeIndex: 158 entries, 0 to 157\n",
      "Data columns (total 4 columns):\n",
      "match_id         158 non-null object\n",
      "organizations    158 non-null object\n",
      "contributors     158 non-null object\n",
      "total            158 non-null float64\n",
      "dtypes: float64(1), object(3)\n",
      "memory usage: 5.0+ KB\n"
     ]
    }
   ],
   "source": [
    "post_bill_donors_17 = post_bill_donors_committees_17.groupby([\"match_id\"]).agg({\"organizations\": max, \"contributors\": max, \"total\": sum}).reset_index()\n",
    "post_bill_donors_17.info()"
   ]
  },
  {
   "cell_type": "markdown",
   "metadata": {},
   "source": [
    "## How much did they give?"
   ]
  },
  {
   "cell_type": "code",
   "execution_count": 5,
   "metadata": {},
   "outputs": [
    {
     "data": {
      "text/plain": [
       "35639563.0"
      ]
     },
     "execution_count": 5,
     "metadata": {},
     "output_type": "execute_result"
    }
   ],
   "source": [
    "post_bill_donors_17[\"total\"].sum()"
   ]
  },
  {
   "cell_type": "markdown",
   "metadata": {},
   "source": [
    "## Had these megadonors given previously in 2017?"
   ]
  },
  {
   "cell_type": "markdown",
   "metadata": {},
   "source": [
    "Return contributions by donor and committee."
   ]
  },
  {
   "cell_type": "code",
   "execution_count": 6,
   "metadata": {},
   "outputs": [
    {
     "name": "stdout",
     "output_type": "stream",
     "text": [
      "<class 'pandas.core.frame.DataFrame'>\n",
      "RangeIndex: 861 entries, 0 to 860\n",
      "Data columns (total 6 columns):\n",
      "match_id         861 non-null object\n",
      "organizations    861 non-null object\n",
      "contributors     861 non-null object\n",
      "total            861 non-null float64\n",
      "cmte_id          861 non-null object\n",
      "committee        861 non-null object\n",
      "dtypes: float64(1), object(5)\n",
      "memory usage: 40.4+ KB\n"
     ]
    }
   ],
   "source": [
    "pre_bill_donors_committees_17 = pd.read_sql(\"\"\"CREATE TABLE IF NOT EXISTS pre_bill_donors_committees_17 AS\n",
    "SELECT match_id,\n",
    "       organizations,\n",
    "       contributors,\n",
    "       sum(committee_total) AS total,\n",
    "       cmte_id,\n",
    "       pacshort AS committee\n",
    "FROM\n",
    "  (SELECT match_id,\n",
    "          organizations,\n",
    "          contributors,\n",
    "          sum(amount) AS committee_total,\n",
    "          cmteid AS cmte_id\n",
    "   FROM\n",
    "     (SELECT CASE\n",
    "                 WHEN trim(contribid) != '' THEN left(contribid, 11)\n",
    "                 ELSE orgname\n",
    "             END AS match_id,\n",
    "             array_agg(DISTINCT orgname) AS organizations,\n",
    "             array_agg(DISTINCT contrib) AS contributors\n",
    "      FROM crp_contributions\n",
    "      LEFT JOIN crp_committees ON crp_contributions.cmteid = crp_committees.cmteid\n",
    "      AND crp_committees.cycle = '2018'\n",
    "      WHERE primcode IN ('J1100',\n",
    "                         'J2200',\n",
    "                         'J2400',\n",
    "                         'Z1100',\n",
    "                         'Z4100',\n",
    "                         'Z4500',\n",
    "                         'Z5100')\n",
    "        AND date >= '2017-11-02'\n",
    "        AND date <= '2017-12-31'\n",
    "        AND crp_contributions.cycle = '2018'\n",
    "        AND TYPE NOT IN ('11J',\n",
    "                         '15C',\n",
    "                         '15E',\n",
    "                         '15I',\n",
    "                         '15J',\n",
    "                         '15T',\n",
    "                         '18J',\n",
    "                         '19J',\n",
    "                         '30J',\n",
    "                         '30F',\n",
    "                         '31J',\n",
    "                         '31F',\n",
    "                         '32J',\n",
    "                         '32F')\n",
    "      GROUP BY match_id\n",
    "      HAVING sum(amount) >= 50000) AS gop_donors\n",
    "   JOIN crp_contributions ON CASE\n",
    "                                 WHEN trim(contribid) != '' THEN left(contribid, 11)\n",
    "                                 ELSE crp_contributions.orgname\n",
    "                             END = gop_donors.match_id\n",
    "   WHERE date >= '2017-01-01'\n",
    "     AND date < '2017-11-02'\n",
    "     AND CYCLE = '2018'\n",
    "     AND TYPE NOT IN ('11J',\n",
    "                      '15C',\n",
    "                      '15E',\n",
    "                      '15I',\n",
    "                      '15J',\n",
    "                      '15T',\n",
    "                      '18J',\n",
    "                      '19J',\n",
    "                      '30J',\n",
    "                      '30F',\n",
    "                      '31J',\n",
    "                      '31F',\n",
    "                      '32J',\n",
    "                      '32F')\n",
    "   GROUP BY match_id,\n",
    "            organizations,\n",
    "            contributors,\n",
    "            cmte_id) AS donors_committees\n",
    "JOIN crp_committees ON donors_committees.cmte_id = crp_committees.cmteid\n",
    "AND crp_committees.CYCLE = '2018'\n",
    "WHERE primcode IN ('J1100',\n",
    "                   'J2200',\n",
    "                   'J2400',\n",
    "                   'Z1100',\n",
    "                   'Z4100',\n",
    "                   'Z4500',\n",
    "                   'Z5100')\n",
    "GROUP BY match_id,\n",
    "         organizations,\n",
    "         contributors,\n",
    "         cmte_id,\n",
    "         committee;\n",
    "\n",
    "GRANT ALL ON TABLE pre_bill_donors_committees_17 TO redash_default;\n",
    "\n",
    "\n",
    "SELECT *\n",
    "FROM pre_bill_donors_committees_17;\"\"\", con=conn)\n",
    "pre_bill_donors_committees_17.info()"
   ]
  },
  {
   "cell_type": "markdown",
   "metadata": {},
   "source": [
    "Group by donor."
   ]
  },
  {
   "cell_type": "code",
   "execution_count": 7,
   "metadata": {},
   "outputs": [
    {
     "name": "stdout",
     "output_type": "stream",
     "text": [
      "<class 'pandas.core.frame.DataFrame'>\n",
      "RangeIndex: 115 entries, 0 to 114\n",
      "Data columns (total 4 columns):\n",
      "match_id         115 non-null object\n",
      "organizations    115 non-null object\n",
      "contributors     115 non-null object\n",
      "total            115 non-null float64\n",
      "dtypes: float64(1), object(3)\n",
      "memory usage: 3.7+ KB\n"
     ]
    }
   ],
   "source": [
    "pre_bill_donors_17 = pre_bill_donors_committees_17.groupby([\"match_id\"]).agg({\"organizations\": max, \"contributors\": max, \"total\": sum}).reset_index()\n",
    "pre_bill_donors_17.info()"
   ]
  },
  {
   "cell_type": "markdown",
   "metadata": {},
   "source": [
    "## How much did they give?"
   ]
  },
  {
   "cell_type": "code",
   "execution_count": 8,
   "metadata": {},
   "outputs": [
    {
     "data": {
      "text/plain": [
       "58975282.0"
      ]
     },
     "execution_count": 8,
     "metadata": {},
     "output_type": "execute_result"
    }
   ],
   "source": [
    "pre_bill_donors_17[\"total\"].sum()"
   ]
  },
  {
   "cell_type": "markdown",
   "metadata": {},
   "source": [
    "## How much did these donors give in the period leading up to the tax bill's introduction and in the period after its introduction?"
   ]
  },
  {
   "cell_type": "code",
   "execution_count": 9,
   "metadata": {},
   "outputs": [
    {
     "name": "stdout",
     "output_type": "stream",
     "text": [
      "<class 'pandas.core.frame.DataFrame'>\n",
      "Int64Index: 158 entries, 0 to 157\n",
      "Data columns (total 5 columns):\n",
      "match_id           158 non-null object\n",
      "organizations      158 non-null object\n",
      "contributors       158 non-null object\n",
      "total_post_bill    158 non-null float64\n",
      "total_pre_bill     158 non-null float64\n",
      "dtypes: float64(2), object(3)\n",
      "memory usage: 7.4+ KB\n"
     ]
    }
   ],
   "source": [
    "donors_17 = post_bill_donors_17.merge(pre_bill_donors_17, how=\"outer\", on=\"match_id\", suffixes=[\"_post_bill\", \"_pre_bill\"])\n",
    "donors_17.drop([\"organizations_pre_bill\", \"contributors_pre_bill\"], axis=1, inplace=True)\n",
    "donors_17.rename(columns={\"organizations_post_bill\": \"organizations\", \"contributors_post_bill\": \"contributors\"}, inplace=True)\n",
    "donors_17[\"total_pre_bill\"].fillna(0, inplace=True)\n",
    "donors_17.info()"
   ]
  },
  {
   "cell_type": "code",
   "execution_count": 10,
   "metadata": {},
   "outputs": [
    {
     "data": {
      "text/html": [
       "<div>\n",
       "<style scoped>\n",
       "    .dataframe tbody tr th:only-of-type {\n",
       "        vertical-align: middle;\n",
       "    }\n",
       "\n",
       "    .dataframe tbody tr th {\n",
       "        vertical-align: top;\n",
       "    }\n",
       "\n",
       "    .dataframe thead th {\n",
       "        text-align: right;\n",
       "    }\n",
       "</style>\n",
       "<table border=\"1\" class=\"dataframe\">\n",
       "  <thead>\n",
       "    <tr style=\"text-align: right;\">\n",
       "      <th></th>\n",
       "      <th>match_id</th>\n",
       "      <th>organizations</th>\n",
       "      <th>contributors</th>\n",
       "      <th>total_post_bill</th>\n",
       "      <th>total_pre_bill</th>\n",
       "      <th>pct_post_bill</th>\n",
       "      <th>pct_pre_bill</th>\n",
       "      <th>change</th>\n",
       "      <th>pct_change</th>\n",
       "    </tr>\n",
       "  </thead>\n",
       "  <tbody>\n",
       "    <tr>\n",
       "      <th>52</th>\n",
       "      <td>U0000003690</td>\n",
       "      <td>[U-Line Corp, Uline Inc]</td>\n",
       "      <td>[UIHLEIN, ELIZABETH, UIHLEIN, ELIZABETH MRS, U...</td>\n",
       "      <td>4,557,300.00</td>\n",
       "      <td>12,051,400.00</td>\n",
       "      <td>0.27</td>\n",
       "      <td>0.73</td>\n",
       "      <td>-7,494,100.00</td>\n",
       "      <td>-0.62</td>\n",
       "    </tr>\n",
       "    <tr>\n",
       "      <th>2</th>\n",
       "      <td>American Action Network</td>\n",
       "      <td>[American Action Network]</td>\n",
       "      <td>[AMERICAN ACTION NETWORK]</td>\n",
       "      <td>3,747,520.00</td>\n",
       "      <td>9,142,525.00</td>\n",
       "      <td>0.29</td>\n",
       "      <td>0.71</td>\n",
       "      <td>-5,395,005.00</td>\n",
       "      <td>-0.59</td>\n",
       "    </tr>\n",
       "    <tr>\n",
       "      <th>60</th>\n",
       "      <td>U0000004054</td>\n",
       "      <td>[Ghpalmer Assoc, GH Palmer Assoc]</td>\n",
       "      <td>[PALMER, GEOFF, PALMER, GEOFFREY H]</td>\n",
       "      <td>1,955,200.00</td>\n",
       "      <td>546,272.00</td>\n",
       "      <td>0.78</td>\n",
       "      <td>0.22</td>\n",
       "      <td>1,408,928.00</td>\n",
       "      <td>2.58</td>\n",
       "    </tr>\n",
       "    <tr>\n",
       "      <th>10</th>\n",
       "      <td>Hillwood Development</td>\n",
       "      <td>[Hillwood Development]</td>\n",
       "      <td>[HILLWOOD DEVELOPMENT COMPANY LLC]</td>\n",
       "      <td>1,500,000.00</td>\n",
       "      <td>500,000.00</td>\n",
       "      <td>0.75</td>\n",
       "      <td>0.25</td>\n",
       "      <td>1,000,000.00</td>\n",
       "      <td>2.00</td>\n",
       "    </tr>\n",
       "    <tr>\n",
       "      <th>67</th>\n",
       "      <td>U0000004552</td>\n",
       "      <td>[Cinemark Holdings, Cinemark USA]</td>\n",
       "      <td>[MITCHELL, LEE, MITCHELL, LEE ROY, MITCHELL, T...</td>\n",
       "      <td>1,007,400.00</td>\n",
       "      <td>131,299.00</td>\n",
       "      <td>0.88</td>\n",
       "      <td>0.12</td>\n",
       "      <td>876,101.00</td>\n",
       "      <td>6.67</td>\n",
       "    </tr>\n",
       "  </tbody>\n",
       "</table>\n",
       "</div>"
      ],
      "text/plain": [
       "                   match_id                      organizations  \\\n",
       "52              U0000003690           [U-Line Corp, Uline Inc]   \n",
       "2   American Action Network          [American Action Network]   \n",
       "60              U0000004054  [Ghpalmer Assoc, GH Palmer Assoc]   \n",
       "10     Hillwood Development             [Hillwood Development]   \n",
       "67              U0000004552  [Cinemark Holdings, Cinemark USA]   \n",
       "\n",
       "                                         contributors  total_post_bill  \\\n",
       "52  [UIHLEIN, ELIZABETH, UIHLEIN, ELIZABETH MRS, U...     4,557,300.00   \n",
       "2                           [AMERICAN ACTION NETWORK]     3,747,520.00   \n",
       "60                [PALMER, GEOFF, PALMER, GEOFFREY H]     1,955,200.00   \n",
       "10                 [HILLWOOD DEVELOPMENT COMPANY LLC]     1,500,000.00   \n",
       "67  [MITCHELL, LEE, MITCHELL, LEE ROY, MITCHELL, T...     1,007,400.00   \n",
       "\n",
       "    total_pre_bill  pct_post_bill  pct_pre_bill        change  pct_change  \n",
       "52   12,051,400.00           0.27          0.73 -7,494,100.00       -0.62  \n",
       "2     9,142,525.00           0.29          0.71 -5,395,005.00       -0.59  \n",
       "60      546,272.00           0.78          0.22  1,408,928.00        2.58  \n",
       "10      500,000.00           0.75          0.25  1,000,000.00        2.00  \n",
       "67      131,299.00           0.88          0.12    876,101.00        6.67  "
      ]
     },
     "execution_count": 10,
     "metadata": {},
     "output_type": "execute_result"
    }
   ],
   "source": [
    "donors_17[\"pct_post_bill\"] = donors_17[\"total_post_bill\"] / (donors_17[\"total_pre_bill\"] + donors_17[\"total_post_bill\"])\n",
    "donors_17[\"pct_pre_bill\"] = donors_17[\"total_pre_bill\"] / (donors_17[\"total_pre_bill\"] + donors_17[\"total_post_bill\"])\n",
    "donors_17[\"change\"] = donors_17[\"total_post_bill\"] - donors_17[\"total_pre_bill\"]\n",
    "donors_17[\"pct_change\"] = (donors_17[\"total_post_bill\"] - donors_17[\"total_pre_bill\"]) / donors_17[\"total_pre_bill\"].abs()\n",
    "donors_17.sort_values(\"total_post_bill\", ascending=False).head()"
   ]
  },
  {
   "cell_type": "markdown",
   "metadata": {},
   "source": [
    "## Had these megadonors given between Nov. 2 and Dec. 31, 2015?"
   ]
  },
  {
   "cell_type": "markdown",
   "metadata": {},
   "source": [
    "Return contributions by donor and committee."
   ]
  },
  {
   "cell_type": "code",
   "execution_count": 11,
   "metadata": {},
   "outputs": [
    {
     "name": "stdout",
     "output_type": "stream",
     "text": [
      "<class 'pandas.core.frame.DataFrame'>\n",
      "RangeIndex: 328 entries, 0 to 327\n",
      "Data columns (total 6 columns):\n",
      "match_id         328 non-null object\n",
      "organizations    328 non-null object\n",
      "contributors     328 non-null object\n",
      "total            328 non-null float64\n",
      "cmte_id          328 non-null object\n",
      "committee        328 non-null object\n",
      "dtypes: float64(1), object(5)\n",
      "memory usage: 15.5+ KB\n"
     ]
    }
   ],
   "source": [
    "post_bill_donors_committees_15 = pd.read_sql(\"\"\"CREATE TABLE IF NOT EXISTS post_bill_donors_committees_15 AS\n",
    "SELECT match_id,\n",
    "       organizations,\n",
    "       contributors,\n",
    "       sum(committee_total) AS total,\n",
    "       cmte_id,\n",
    "       pacshort AS committee\n",
    "FROM\n",
    "  (SELECT match_id,\n",
    "          organizations,\n",
    "          contributors,\n",
    "          sum(amount) AS committee_total,\n",
    "          cmteid AS cmte_id\n",
    "   FROM\n",
    "     (SELECT CASE\n",
    "                 WHEN trim(contribid) != '' THEN left(contribid, 11)\n",
    "                 ELSE orgname\n",
    "             END AS match_id,\n",
    "             array_agg(DISTINCT orgname) AS organizations,\n",
    "             array_agg(DISTINCT contrib) AS contributors\n",
    "      FROM crp_contributions\n",
    "      LEFT JOIN crp_committees ON crp_contributions.cmteid = crp_committees.cmteid\n",
    "      AND crp_committees.cycle = '2018'\n",
    "      WHERE primcode IN ('J1100',\n",
    "                         'J2200',\n",
    "                         'J2400',\n",
    "                         'Z1100',\n",
    "                         'Z4100',\n",
    "                         'Z4500',\n",
    "                         'Z5100')\n",
    "        AND date >= '2017-11-02'\n",
    "        AND date <= '2017-12-31'\n",
    "        AND crp_contributions.cycle = '2018'\n",
    "        AND TYPE NOT IN ('11J',\n",
    "                         '15C',\n",
    "                         '15E',\n",
    "                         '15I',\n",
    "                         '15J',\n",
    "                         '15T',\n",
    "                         '18J',\n",
    "                         '19J',\n",
    "                         '30J',\n",
    "                         '30F',\n",
    "                         '31J',\n",
    "                         '31F',\n",
    "                         '32J',\n",
    "                         '32F')\n",
    "      GROUP BY match_id\n",
    "      HAVING sum(amount) >= 50000) AS gop_donors\n",
    "   JOIN crp_contributions ON CASE\n",
    "                                 WHEN trim(contribid) != '' THEN left(contribid, 11)\n",
    "                                 ELSE crp_contributions.orgname\n",
    "                             END = gop_donors.match_id\n",
    "   WHERE date >= '2015-11-02'\n",
    "     AND date <= '2015-12-31'\n",
    "     AND CYCLE = '2016'\n",
    "     AND TYPE NOT IN ('11J',\n",
    "                      '15C',\n",
    "                      '15E',\n",
    "                      '15I',\n",
    "                      '15J',\n",
    "                      '15T',\n",
    "                      '18J',\n",
    "                      '19J',\n",
    "                      '30J',\n",
    "                      '30F',\n",
    "                      '31J',\n",
    "                      '31F',\n",
    "                      '32J',\n",
    "                      '32F')\n",
    "   GROUP BY match_id,\n",
    "            organizations,\n",
    "            contributors,\n",
    "            cmte_id) AS donors_committees\n",
    "JOIN crp_committees ON donors_committees.cmte_id = crp_committees.cmteid\n",
    "AND crp_committees.CYCLE = '2016'\n",
    "WHERE primcode IN ('J1100',\n",
    "                   'J2200',\n",
    "                   'J2400',\n",
    "                   'Z1100',\n",
    "                   'Z4100',\n",
    "                   'Z4500',\n",
    "                   'Z5100')\n",
    "GROUP BY match_id,\n",
    "         organizations,\n",
    "         contributors,\n",
    "         cmte_id,\n",
    "         committee;\n",
    "\n",
    "GRANT ALL ON TABLE post_bill_donors_committees_15 TO redash_default;\n",
    "\n",
    "\n",
    "SELECT *\n",
    "FROM post_bill_donors_committees_15;\"\"\", con=conn)\n",
    "post_bill_donors_committees_15.info()"
   ]
  },
  {
   "cell_type": "markdown",
   "metadata": {},
   "source": [
    "Group by donor."
   ]
  },
  {
   "cell_type": "code",
   "execution_count": 12,
   "metadata": {},
   "outputs": [
    {
     "name": "stdout",
     "output_type": "stream",
     "text": [
      "<class 'pandas.core.frame.DataFrame'>\n",
      "RangeIndex: 80 entries, 0 to 79\n",
      "Data columns (total 4 columns):\n",
      "match_id         80 non-null object\n",
      "organizations    80 non-null object\n",
      "contributors     80 non-null object\n",
      "total            80 non-null float64\n",
      "dtypes: float64(1), object(3)\n",
      "memory usage: 2.6+ KB\n"
     ]
    }
   ],
   "source": [
    "post_bill_donors_15 = post_bill_donors_committees_15.groupby([\"match_id\"]).agg({\"organizations\": max, \"contributors\": max, \"total\": sum}).reset_index()\n",
    "post_bill_donors_15.info()"
   ]
  },
  {
   "cell_type": "markdown",
   "metadata": {},
   "source": [
    "## How much did they give?"
   ]
  },
  {
   "cell_type": "code",
   "execution_count": 13,
   "metadata": {},
   "outputs": [
    {
     "data": {
      "text/plain": [
       "1647560.0"
      ]
     },
     "execution_count": 13,
     "metadata": {},
     "output_type": "execute_result"
    }
   ],
   "source": [
    "post_bill_donors_15[\"total\"].sum()"
   ]
  },
  {
   "cell_type": "markdown",
   "metadata": {},
   "source": [
    "## Had these megadonors given previously in 2015?"
   ]
  },
  {
   "cell_type": "markdown",
   "metadata": {},
   "source": [
    "Return contributions by donor and committee."
   ]
  },
  {
   "cell_type": "code",
   "execution_count": 14,
   "metadata": {},
   "outputs": [
    {
     "name": "stdout",
     "output_type": "stream",
     "text": [
      "<class 'pandas.core.frame.DataFrame'>\n",
      "RangeIndex: 1063 entries, 0 to 1062\n",
      "Data columns (total 6 columns):\n",
      "match_id         1063 non-null object\n",
      "organizations    1063 non-null object\n",
      "contributors     1063 non-null object\n",
      "total            1063 non-null float64\n",
      "cmte_id          1063 non-null object\n",
      "committee        1063 non-null object\n",
      "dtypes: float64(1), object(5)\n",
      "memory usage: 49.9+ KB\n"
     ]
    }
   ],
   "source": [
    "pre_bill_donors_committees_15 = pd.read_sql(\"\"\"CREATE TABLE IF NOT EXISTS pre_bill_donors_committees_15 AS\n",
    "SELECT match_id,\n",
    "       organizations,\n",
    "       contributors,\n",
    "       sum(committee_total) AS total,\n",
    "       cmte_id,\n",
    "       pacshort AS committee\n",
    "FROM\n",
    "  (SELECT match_id,\n",
    "          organizations,\n",
    "          contributors,\n",
    "          sum(amount) AS committee_total,\n",
    "          cmteid AS cmte_id\n",
    "   FROM\n",
    "     (SELECT CASE\n",
    "                 WHEN trim(contribid) != '' THEN left(contribid, 11)\n",
    "                 ELSE orgname\n",
    "             END AS match_id,\n",
    "             array_agg(DISTINCT orgname) AS organizations,\n",
    "             array_agg(DISTINCT contrib) AS contributors\n",
    "      FROM crp_contributions\n",
    "      LEFT JOIN crp_committees ON crp_contributions.cmteid = crp_committees.cmteid\n",
    "      AND crp_committees.cycle = '2018'\n",
    "      WHERE primcode IN ('J1100',\n",
    "                         'J2200',\n",
    "                         'J2400',\n",
    "                         'Z1100',\n",
    "                         'Z4100',\n",
    "                         'Z4500',\n",
    "                         'Z5100')\n",
    "        AND date >= '2017-11-02'\n",
    "        AND date <= '2017-12-31'\n",
    "        AND crp_contributions.cycle = '2018'\n",
    "        AND TYPE NOT IN ('11J',\n",
    "                         '15C',\n",
    "                         '15E',\n",
    "                         '15I',\n",
    "                         '15J',\n",
    "                         '15T',\n",
    "                         '18J',\n",
    "                         '19J',\n",
    "                         '30J',\n",
    "                         '30F',\n",
    "                         '31J',\n",
    "                         '31F',\n",
    "                         '32J',\n",
    "                         '32F')\n",
    "      GROUP BY match_id\n",
    "      HAVING sum(amount) >= 50000) AS gop_donors\n",
    "   JOIN crp_contributions ON CASE\n",
    "                                 WHEN trim(contribid) != '' THEN left(contribid, 11)\n",
    "                                 ELSE crp_contributions.orgname\n",
    "                             END = gop_donors.match_id\n",
    "   WHERE date >= '2015-01-01'\n",
    "     AND date < '2015-11-02'\n",
    "     AND CYCLE = '2016'\n",
    "     AND TYPE NOT IN ('11J',\n",
    "                      '15C',\n",
    "                      '15E',\n",
    "                      '15I',\n",
    "                      '15J',\n",
    "                      '15T',\n",
    "                      '18J',\n",
    "                      '19J',\n",
    "                      '30J',\n",
    "                      '30F',\n",
    "                      '31J',\n",
    "                      '31F',\n",
    "                      '32J',\n",
    "                      '32F')\n",
    "   GROUP BY match_id,\n",
    "            organizations,\n",
    "            contributors,\n",
    "            cmte_id) AS donors_committees\n",
    "JOIN crp_committees ON donors_committees.cmte_id = crp_committees.cmteid\n",
    "AND crp_committees.CYCLE = '2016'\n",
    "WHERE primcode IN ('J1100',\n",
    "                   'J2200',\n",
    "                   'J2400',\n",
    "                   'Z1100',\n",
    "                   'Z4100',\n",
    "                   'Z4500',\n",
    "                   'Z5100')\n",
    "GROUP BY match_id,\n",
    "         organizations,\n",
    "         contributors,\n",
    "         cmte_id,\n",
    "         committee;\n",
    "\n",
    "GRANT ALL ON TABLE pre_bill_donors_committees_15 TO redash_default;\n",
    "\n",
    "\n",
    "SELECT *\n",
    "FROM pre_bill_donors_committees_15;\"\"\", con=conn)\n",
    "pre_bill_donors_committees_15.info()"
   ]
  },
  {
   "cell_type": "markdown",
   "metadata": {},
   "source": [
    "Group by donor."
   ]
  },
  {
   "cell_type": "code",
   "execution_count": 15,
   "metadata": {},
   "outputs": [
    {
     "name": "stdout",
     "output_type": "stream",
     "text": [
      "<class 'pandas.core.frame.DataFrame'>\n",
      "RangeIndex: 109 entries, 0 to 108\n",
      "Data columns (total 4 columns):\n",
      "match_id         109 non-null object\n",
      "organizations    109 non-null object\n",
      "contributors     109 non-null object\n",
      "total            109 non-null float64\n",
      "dtypes: float64(1), object(3)\n",
      "memory usage: 3.5+ KB\n"
     ]
    }
   ],
   "source": [
    "pre_bill_donors_15 = pre_bill_donors_committees_15.groupby([\"match_id\"]).agg({\"organizations\": max, \"contributors\": max, \"total\": sum}).reset_index()\n",
    "pre_bill_donors_15.info()"
   ]
  },
  {
   "cell_type": "markdown",
   "metadata": {},
   "source": [
    "## How much did they give?"
   ]
  },
  {
   "cell_type": "code",
   "execution_count": 16,
   "metadata": {},
   "outputs": [
    {
     "data": {
      "text/plain": [
       "77617350.0"
      ]
     },
     "execution_count": 16,
     "metadata": {},
     "output_type": "execute_result"
    }
   ],
   "source": [
    "pre_bill_donors_15[\"total\"].sum()"
   ]
  },
  {
   "cell_type": "markdown",
   "metadata": {},
   "source": [
    "## How much did these donors give in each period?"
   ]
  },
  {
   "cell_type": "code",
   "execution_count": 17,
   "metadata": {},
   "outputs": [
    {
     "name": "stdout",
     "output_type": "stream",
     "text": [
      "<class 'pandas.core.frame.DataFrame'>\n",
      "Int64Index: 111 entries, 0 to 110\n",
      "Data columns (total 7 columns):\n",
      "match_id                   111 non-null object\n",
      "organizations_post_bill    80 non-null object\n",
      "contributors_post_bill     80 non-null object\n",
      "total_post_bill            111 non-null float64\n",
      "organizations_pre_bill     109 non-null object\n",
      "contributors_pre_bill      109 non-null object\n",
      "total_pre_bill             111 non-null float64\n",
      "dtypes: float64(2), object(5)\n",
      "memory usage: 6.9+ KB\n"
     ]
    }
   ],
   "source": [
    "donors_15 = post_bill_donors_15.merge(pre_bill_donors_15, how=\"outer\", on=\"match_id\", suffixes=[\"_post_bill\", \"_pre_bill\"])\n",
    "donors_15[\"total_pre_bill\"].fillna(0, inplace=True)\n",
    "donors_15[\"total_post_bill\"].fillna(0, inplace=True)\n",
    "donors_15.info()"
   ]
  },
  {
   "cell_type": "code",
   "execution_count": 18,
   "metadata": {},
   "outputs": [
    {
     "data": {
      "text/html": [
       "<div>\n",
       "<style scoped>\n",
       "    .dataframe tbody tr th:only-of-type {\n",
       "        vertical-align: middle;\n",
       "    }\n",
       "\n",
       "    .dataframe tbody tr th {\n",
       "        vertical-align: top;\n",
       "    }\n",
       "\n",
       "    .dataframe thead th {\n",
       "        text-align: right;\n",
       "    }\n",
       "</style>\n",
       "<table border=\"1\" class=\"dataframe\">\n",
       "  <thead>\n",
       "    <tr style=\"text-align: right;\">\n",
       "      <th></th>\n",
       "      <th>match_id</th>\n",
       "      <th>organizations_post_bill</th>\n",
       "      <th>contributors_post_bill</th>\n",
       "      <th>organizations_pre_bill</th>\n",
       "      <th>contributors_pre_bill</th>\n",
       "      <th>total_post_bill</th>\n",
       "      <th>total_pre_bill</th>\n",
       "      <th>pct_post_bill</th>\n",
       "      <th>pct_pre_bill</th>\n",
       "      <th>change</th>\n",
       "      <th>pct_change</th>\n",
       "    </tr>\n",
       "  </thead>\n",
       "  <tbody>\n",
       "    <tr>\n",
       "      <th>0</th>\n",
       "      <td>American Action Network</td>\n",
       "      <td>[American Action Network]</td>\n",
       "      <td>[AMERICAN ACTION NETWORK]</td>\n",
       "      <td>[American Action Network]</td>\n",
       "      <td>[AMERICAN ACTION NETWORK]</td>\n",
       "      <td>102,825.00</td>\n",
       "      <td>74,649.00</td>\n",
       "      <td>0.58</td>\n",
       "      <td>0.42</td>\n",
       "      <td>28,176.00</td>\n",
       "      <td>0.38</td>\n",
       "    </tr>\n",
       "    <tr>\n",
       "      <th>1</th>\n",
       "      <td>Chickasaw Nation</td>\n",
       "      <td>[Chickasaw Nation]</td>\n",
       "      <td>[CHICKASAW NATION, CHICKASAW NATION, THE, NATI...</td>\n",
       "      <td>[Chickasaw Nation]</td>\n",
       "      <td>[CHICKASAW NATION, CHICKASAW NATION, THE, NATI...</td>\n",
       "      <td>44,300.00</td>\n",
       "      <td>226,000.00</td>\n",
       "      <td>0.16</td>\n",
       "      <td>0.84</td>\n",
       "      <td>-181,700.00</td>\n",
       "      <td>-0.80</td>\n",
       "    </tr>\n",
       "    <tr>\n",
       "      <th>2</th>\n",
       "      <td>Geo Corrections Holdings</td>\n",
       "      <td>[Geo Corrections Holdings]</td>\n",
       "      <td>[GEO CORRECTIONS HOLDINGS INC]</td>\n",
       "      <td>[Geo Corrections Holdings]</td>\n",
       "      <td>[GEO CORRECTIONS HOLDINGS INC]</td>\n",
       "      <td>10,000.00</td>\n",
       "      <td>100,000.00</td>\n",
       "      <td>0.09</td>\n",
       "      <td>0.91</td>\n",
       "      <td>-90,000.00</td>\n",
       "      <td>-0.90</td>\n",
       "    </tr>\n",
       "    <tr>\n",
       "      <th>3</th>\n",
       "      <td>Hillwood Development</td>\n",
       "      <td>[Hillwood Development]</td>\n",
       "      <td>[HILLWOOD DEVELOPMENT COMPANY LLC]</td>\n",
       "      <td>[Hillwood Development]</td>\n",
       "      <td>[HILLWOOD DEVELOPMENT COMPANY LLC]</td>\n",
       "      <td>50,000.00</td>\n",
       "      <td>50,000.00</td>\n",
       "      <td>0.50</td>\n",
       "      <td>0.50</td>\n",
       "      <td>0.00</td>\n",
       "      <td>0.00</td>\n",
       "    </tr>\n",
       "    <tr>\n",
       "      <th>4</th>\n",
       "      <td>Republican Governors Assn</td>\n",
       "      <td>[Republican Governors Assn]</td>\n",
       "      <td>[REPUBLICAN GOVERNORS ASSOCIATION]</td>\n",
       "      <td>[Republican Governors Assn]</td>\n",
       "      <td>[REPUBLICAN GOVERNORS ASSOCIATION]</td>\n",
       "      <td>750,000.00</td>\n",
       "      <td>3,450,000.00</td>\n",
       "      <td>0.18</td>\n",
       "      <td>0.82</td>\n",
       "      <td>-2,700,000.00</td>\n",
       "      <td>-0.78</td>\n",
       "    </tr>\n",
       "  </tbody>\n",
       "</table>\n",
       "</div>"
      ],
      "text/plain": [
       "                    match_id      organizations_post_bill  \\\n",
       "0    American Action Network    [American Action Network]   \n",
       "1           Chickasaw Nation           [Chickasaw Nation]   \n",
       "2   Geo Corrections Holdings   [Geo Corrections Holdings]   \n",
       "3       Hillwood Development       [Hillwood Development]   \n",
       "4  Republican Governors Assn  [Republican Governors Assn]   \n",
       "\n",
       "                              contributors_post_bill  \\\n",
       "0                          [AMERICAN ACTION NETWORK]   \n",
       "1  [CHICKASAW NATION, CHICKASAW NATION, THE, NATI...   \n",
       "2                     [GEO CORRECTIONS HOLDINGS INC]   \n",
       "3                 [HILLWOOD DEVELOPMENT COMPANY LLC]   \n",
       "4                 [REPUBLICAN GOVERNORS ASSOCIATION]   \n",
       "\n",
       "        organizations_pre_bill  \\\n",
       "0    [American Action Network]   \n",
       "1           [Chickasaw Nation]   \n",
       "2   [Geo Corrections Holdings]   \n",
       "3       [Hillwood Development]   \n",
       "4  [Republican Governors Assn]   \n",
       "\n",
       "                               contributors_pre_bill  total_post_bill  \\\n",
       "0                          [AMERICAN ACTION NETWORK]       102,825.00   \n",
       "1  [CHICKASAW NATION, CHICKASAW NATION, THE, NATI...        44,300.00   \n",
       "2                     [GEO CORRECTIONS HOLDINGS INC]        10,000.00   \n",
       "3                 [HILLWOOD DEVELOPMENT COMPANY LLC]        50,000.00   \n",
       "4                 [REPUBLICAN GOVERNORS ASSOCIATION]       750,000.00   \n",
       "\n",
       "   total_pre_bill  pct_post_bill  pct_pre_bill        change  pct_change  \n",
       "0       74,649.00           0.58          0.42     28,176.00        0.38  \n",
       "1      226,000.00           0.16          0.84   -181,700.00       -0.80  \n",
       "2      100,000.00           0.09          0.91    -90,000.00       -0.90  \n",
       "3       50,000.00           0.50          0.50          0.00        0.00  \n",
       "4    3,450,000.00           0.18          0.82 -2,700,000.00       -0.78  "
      ]
     },
     "execution_count": 18,
     "metadata": {},
     "output_type": "execute_result"
    }
   ],
   "source": [
    "donors_15[\"pct_post_bill\"] = donors_15[\"total_post_bill\"] / (donors_15[\"total_pre_bill\"] + donors_15[\"total_post_bill\"])\n",
    "donors_15[\"pct_pre_bill\"] = donors_15[\"total_pre_bill\"] / (donors_15[\"total_pre_bill\"] + donors_15[\"total_post_bill\"])\n",
    "donors_15[\"change\"] = donors_15[\"total_post_bill\"] - donors_15[\"total_pre_bill\"]\n",
    "donors_15[\"pct_change\"] = (donors_15[\"total_post_bill\"] - donors_15[\"total_pre_bill\"]) / donors_15[\"total_pre_bill\"].abs()\n",
    "donors_15 = donors_15[[\"match_id\", \"organizations_post_bill\", \"contributors_post_bill\",\n",
    "                       \"organizations_pre_bill\", \"contributors_pre_bill\", \"total_post_bill\",\n",
    "                       \"total_pre_bill\", \"pct_post_bill\", \"pct_pre_bill\", \"change\", \"pct_change\"]]\n",
    "donors_15.head()"
   ]
  },
  {
   "cell_type": "markdown",
   "metadata": {},
   "source": [
    "## And did their giving patterns change between the cycles?"
   ]
  },
  {
   "cell_type": "code",
   "execution_count": 19,
   "metadata": {},
   "outputs": [
    {
     "name": "stdout",
     "output_type": "stream",
     "text": [
      "<class 'pandas.core.frame.DataFrame'>\n",
      "Int64Index: 158 entries, 0 to 157\n",
      "Data columns (total 11 columns):\n",
      "match_id              158 non-null object\n",
      "contributors          158 non-null object\n",
      "organizations         158 non-null object\n",
      "total_pre_bill_15     111 non-null float64\n",
      "total_post_bill_15    111 non-null float64\n",
      "pct_pre_bill_15       111 non-null float64\n",
      "pct_post_bill_15      111 non-null float64\n",
      "total_pre_bill_17     158 non-null float64\n",
      "total_post_bill_17    158 non-null float64\n",
      "pct_pre_bill_17       158 non-null float64\n",
      "pct_post_bill_17      158 non-null float64\n",
      "dtypes: float64(8), object(3)\n",
      "memory usage: 14.8+ KB\n"
     ]
    }
   ],
   "source": [
    "donors_15_17 = donors_17.merge(donors_15, how=\"outer\", on=\"match_id\", suffixes=[\"_17\", \"_15\"])\n",
    "donors_15_17.drop([\"change_17\", \"pct_change_17\", \"organizations_post_bill\", \"contributors_post_bill\",\n",
    "             \"organizations_pre_bill\", \"contributors_pre_bill\", \"change_15\", \"pct_change_15\"],\n",
    "            axis=1, inplace=True)\n",
    "donors_15_17.rename(columns={\"organizations_17\": \"organizations\", \"contributors_17\": \"contributors\"})\n",
    "donors_15_17 = donors_15_17[[\"match_id\", \"contributors\", \"organizations\", \"total_pre_bill_15\", \"total_post_bill_15\",\n",
    "                 \"pct_pre_bill_15\", \"pct_post_bill_15\", \"total_pre_bill_17\", \"total_post_bill_17\",\n",
    "                 \"pct_pre_bill_17\", \"pct_post_bill_17\"]]\n",
    "donors_15_17.info()"
   ]
  },
  {
   "cell_type": "code",
   "execution_count": 20,
   "metadata": {},
   "outputs": [
    {
     "data": {
      "text/html": [
       "<div>\n",
       "<style scoped>\n",
       "    .dataframe tbody tr th:only-of-type {\n",
       "        vertical-align: middle;\n",
       "    }\n",
       "\n",
       "    .dataframe tbody tr th {\n",
       "        vertical-align: top;\n",
       "    }\n",
       "\n",
       "    .dataframe thead th {\n",
       "        text-align: right;\n",
       "    }\n",
       "</style>\n",
       "<table border=\"1\" class=\"dataframe\">\n",
       "  <thead>\n",
       "    <tr style=\"text-align: right;\">\n",
       "      <th></th>\n",
       "      <th>match_id</th>\n",
       "      <th>contributors</th>\n",
       "      <th>organizations</th>\n",
       "      <th>total_pre_bill_15</th>\n",
       "      <th>total_post_bill_15</th>\n",
       "      <th>pct_pre_bill_15</th>\n",
       "      <th>pct_post_bill_15</th>\n",
       "      <th>total_pre_bill_17</th>\n",
       "      <th>total_post_bill_17</th>\n",
       "      <th>pct_pre_bill_17</th>\n",
       "      <th>pct_post_bill_17</th>\n",
       "      <th>giving_change</th>\n",
       "    </tr>\n",
       "  </thead>\n",
       "  <tbody>\n",
       "    <tr>\n",
       "      <th>0</th>\n",
       "      <td>Air Line Pilots Assn</td>\n",
       "      <td>[AIR LINE PILOTS ASSOC INT'L   POLITICAL ACTIO...</td>\n",
       "      <td>[Air Line Pilots Assn]</td>\n",
       "      <td>nan</td>\n",
       "      <td>nan</td>\n",
       "      <td>nan</td>\n",
       "      <td>nan</td>\n",
       "      <td>100,000.00</td>\n",
       "      <td>150,000.00</td>\n",
       "      <td>0.40</td>\n",
       "      <td>0.60</td>\n",
       "      <td>Increased</td>\n",
       "    </tr>\n",
       "  </tbody>\n",
       "</table>\n",
       "</div>"
      ],
      "text/plain": [
       "               match_id                                       contributors  \\\n",
       "0  Air Line Pilots Assn  [AIR LINE PILOTS ASSOC INT'L   POLITICAL ACTIO...   \n",
       "\n",
       "            organizations  total_pre_bill_15  total_post_bill_15  \\\n",
       "0  [Air Line Pilots Assn]                nan                 nan   \n",
       "\n",
       "   pct_pre_bill_15  pct_post_bill_15  total_pre_bill_17  total_post_bill_17  \\\n",
       "0              nan               nan         100,000.00          150,000.00   \n",
       "\n",
       "   pct_pre_bill_17  pct_post_bill_17 giving_change  \n",
       "0             0.40              0.60     Increased  "
      ]
     },
     "execution_count": 20,
     "metadata": {},
     "output_type": "execute_result"
    }
   ],
   "source": [
    "donors_15_17[\"giving_change\"] = np.where((donors_15_17[\"pct_post_bill_17\"] > donors_15_17[\"pct_post_bill_15\"]) | (donors_15_17[\"pct_pre_bill_15\"].isnull()), \"Increased\",\n",
    "                                  np.where(donors_15_17[\"pct_post_bill_17\"] < donors_15_17[\"pct_post_bill_15\"], \"Decreased\",\n",
    "                                           np.where(donors_15_17[\"pct_post_bill_17\"] == donors_15_17[\"pct_post_bill_15\"], \"Stayed the same\",\n",
    "                                                   \"Other\")))\n",
    "donors_15_17.head(1)"
   ]
  },
  {
   "cell_type": "markdown",
   "metadata": {},
   "source": [
    "## What proportion of donors increased the share of their annual giving that fell in the last two months of 2017 as compared with the same period in 2015?"
   ]
  },
  {
   "cell_type": "code",
   "execution_count": 21,
   "metadata": {},
   "outputs": [
    {
     "data": {
      "text/plain": [
       "match_id             0.89\n",
       "contributors         0.89\n",
       "organizations        0.89\n",
       "total_pre_bill_15    0.85\n",
       "total_post_bill_15   0.85\n",
       "pct_pre_bill_15      0.85\n",
       "pct_post_bill_15     0.85\n",
       "total_pre_bill_17    0.89\n",
       "total_post_bill_17   0.89\n",
       "pct_pre_bill_17      0.89\n",
       "pct_post_bill_17     0.89\n",
       "giving_change        0.89\n",
       "dtype: float64"
      ]
     },
     "execution_count": 21,
     "metadata": {},
     "output_type": "execute_result"
    }
   ],
   "source": [
    "donors_15_17[donors_15_17[\"giving_change\"] == \"Increased\"].count() / donors_15_17.count()"
   ]
  },
  {
   "cell_type": "markdown",
   "metadata": {},
   "source": [
    "## And by how much did these individuals' giving increase?"
   ]
  },
  {
   "cell_type": "code",
   "execution_count": 22,
   "metadata": {},
   "outputs": [
    {
     "data": {
      "text/plain": [
       "28922893.0"
      ]
     },
     "execution_count": 22,
     "metadata": {},
     "output_type": "execute_result"
    }
   ],
   "source": [
    "donors_15_17[donors_15_17[\"giving_change\"] == \"Increased\"][\"total_post_bill_17\"].sum()"
   ]
  },
  {
   "cell_type": "code",
   "execution_count": 23,
   "metadata": {},
   "outputs": [
    {
     "data": {
      "text/plain": [
       "-6589136.0"
      ]
     },
     "execution_count": 23,
     "metadata": {},
     "output_type": "execute_result"
    }
   ],
   "source": [
    "donors_15_17[donors_15_17[\"giving_change\"] == \"Increased\"][\"total_post_bill_15\"].sum()"
   ]
  },
  {
   "cell_type": "code",
   "execution_count": 24,
   "metadata": {},
   "outputs": [
    {
     "data": {
      "text/plain": [
       "35512029.0"
      ]
     },
     "execution_count": 24,
     "metadata": {},
     "output_type": "execute_result"
    }
   ],
   "source": [
    "donors_15_17[donors_15_17[\"giving_change\"] == \"Increased\"][\"total_post_bill_17\"].sum() - donors_15_17[donors_15_17[\"giving_change\"] == \"Increased\"][\"total_post_bill_15\"].sum()"
   ]
  },
  {
   "cell_type": "markdown",
   "metadata": {},
   "source": [
    "# What does this giving look like on a contribution-by-contribution level?"
   ]
  },
  {
   "cell_type": "markdown",
   "metadata": {},
   "source": [
    "During the period after the tax bill was introduced?"
   ]
  },
  {
   "cell_type": "code",
   "execution_count": 25,
   "metadata": {},
   "outputs": [
    {
     "name": "stdout",
     "output_type": "stream",
     "text": [
      "<class 'pandas.core.frame.DataFrame'>\n",
      "RangeIndex: 920 entries, 0 to 919\n",
      "Data columns (total 8 columns):\n",
      "fectransid      920 non-null object\n",
      "match_id        920 non-null object\n",
      "organization    907 non-null object\n",
      "contributor     919 non-null object\n",
      "date            920 non-null object\n",
      "sum             920 non-null float64\n",
      "cmte_id         920 non-null object\n",
      "committee       920 non-null object\n",
      "dtypes: float64(1), object(7)\n",
      "memory usage: 57.6+ KB\n"
     ]
    }
   ],
   "source": [
    "post_bill_contributions_17 = pd.read_sql(\"\"\"CREATE TABLE IF NOT EXISTS post_bill_contributions_17 AS\n",
    "SELECT fectransid,\n",
    "       match_id,\n",
    "       organization,\n",
    "       contributor, date, sum(SUM),\n",
    "                          cmte_id,\n",
    "                          pacshort AS committee\n",
    "FROM\n",
    "  (SELECT fectransid,\n",
    "          match_id,\n",
    "          orgname AS organization,\n",
    "          contrib AS contributor, date, sum(amount),\n",
    "                                        cmteid AS cmte_id\n",
    "   FROM\n",
    "     (SELECT CASE\n",
    "                 WHEN trim(contribid) != '' THEN left(contribid, 11)\n",
    "                 ELSE orgname\n",
    "             END AS match_id\n",
    "      FROM crp_contributions\n",
    "      LEFT JOIN crp_committees ON crp_contributions.cmteid = crp_committees.cmteid\n",
    "      AND crp_committees.cycle = '2018'\n",
    "      WHERE primcode IN ('J1100',\n",
    "                         'J2200',\n",
    "                         'J2400',\n",
    "                         'Z1100',\n",
    "                         'Z4100',\n",
    "                         'Z4500',\n",
    "                         'Z5100')\n",
    "        AND date >= '2017-11-02'\n",
    "        AND date <= '2017-12-31'\n",
    "        AND crp_contributions.cycle = '2018'\n",
    "        AND TYPE NOT IN ('11J',\n",
    "                         '15C',\n",
    "                         '15E',\n",
    "                         '15I',\n",
    "                         '15J',\n",
    "                         '15T',\n",
    "                         '18J',\n",
    "                         '19J',\n",
    "                         '30J',\n",
    "                         '30F',\n",
    "                         '31J',\n",
    "                         '31F',\n",
    "                         '32J',\n",
    "                         '32F')\n",
    "      GROUP BY match_id\n",
    "      HAVING sum(amount) >= 50000) AS gop_donors\n",
    "   JOIN crp_contributions ON CASE\n",
    "                                 WHEN trim(contribid) != '' THEN left(contribid, 11)\n",
    "                                 ELSE crp_contributions.orgname\n",
    "                             END = gop_donors.match_id\n",
    "   WHERE date >= '2017-11-02'\n",
    "     AND date <= '2017-12-31'\n",
    "     AND CYCLE = '2018'\n",
    "     AND TYPE NOT IN ('11J',\n",
    "                      '15C',\n",
    "                      '15E',\n",
    "                      '15I',\n",
    "                      '15J',\n",
    "                      '15T',\n",
    "                      '18J',\n",
    "                      '19J',\n",
    "                      '30J',\n",
    "                      '30F',\n",
    "                      '31J',\n",
    "                      '31F',\n",
    "                      '32J',\n",
    "                      '32F')\n",
    "   GROUP BY fectransid,\n",
    "            match_id,\n",
    "            organization,\n",
    "            contributor, date, cmte_id) AS donors_committees\n",
    "JOIN crp_committees ON donors_committees.cmte_id = crp_committees.cmteid\n",
    "AND crp_committees.CYCLE = '2018'\n",
    "WHERE primcode IN ('J1100',\n",
    "                   'J2200',\n",
    "                   'J2400',\n",
    "                   'Z1100',\n",
    "                   'Z4100',\n",
    "                   'Z4500',\n",
    "                   'Z5100')\n",
    "GROUP BY fectransid,\n",
    "         match_id,\n",
    "         organization,\n",
    "         contributor, date, cmte_id,\n",
    "                            committee;\n",
    "\n",
    "GRANT ALL ON TABLE post_bill_contributions_17 TO redash_default;\n",
    "\n",
    "\n",
    "SELECT *\n",
    "FROM post_bill_contributions_17;\"\"\", con=conn)\n",
    "post_bill_contributions_17.info()"
   ]
  },
  {
   "cell_type": "markdown",
   "metadata": {},
   "source": [
    "During the period before the tax bill was introduced?"
   ]
  },
  {
   "cell_type": "code",
   "execution_count": 26,
   "metadata": {},
   "outputs": [
    {
     "name": "stdout",
     "output_type": "stream",
     "text": [
      "<class 'pandas.core.frame.DataFrame'>\n",
      "RangeIndex: 1690 entries, 0 to 1689\n",
      "Data columns (total 8 columns):\n",
      "fectransid      1690 non-null object\n",
      "match_id        1690 non-null object\n",
      "organization    1660 non-null object\n",
      "contributor     1690 non-null object\n",
      "date            1690 non-null object\n",
      "sum             1690 non-null float64\n",
      "cmte_id         1690 non-null object\n",
      "committee       1690 non-null object\n",
      "dtypes: float64(1), object(7)\n",
      "memory usage: 105.7+ KB\n"
     ]
    }
   ],
   "source": [
    "pre_bill_contributions_17 = pd.read_sql(\"\"\"CREATE TABLE IF NOT EXISTS pre_bill_contributions_17 AS\n",
    "SELECT fectransid,\n",
    "       match_id,\n",
    "       organization,\n",
    "       contributor, date, sum(SUM),\n",
    "                          cmte_id,\n",
    "                          pacshort AS committee\n",
    "FROM\n",
    "  (SELECT fectransid,\n",
    "          match_id,\n",
    "          orgname AS organization,\n",
    "          contrib AS contributor, date, sum(amount),\n",
    "                                        cmteid AS cmte_id\n",
    "   FROM\n",
    "     (SELECT CASE\n",
    "                 WHEN trim(contribid) != '' THEN left(contribid, 11)\n",
    "                 ELSE orgname\n",
    "             END AS match_id\n",
    "      FROM crp_contributions\n",
    "      LEFT JOIN crp_committees ON crp_contributions.cmteid = crp_committees.cmteid\n",
    "      AND crp_committees.cycle = '2018'\n",
    "      WHERE primcode IN ('J1100',\n",
    "                         'J2200',\n",
    "                         'J2400',\n",
    "                         'Z1100',\n",
    "                         'Z4100',\n",
    "                         'Z4500',\n",
    "                         'Z5100')\n",
    "        AND date >= '2017-11-02'\n",
    "        AND date <= '2017-12-31'\n",
    "        AND crp_contributions.cycle = '2018'\n",
    "        AND TYPE NOT IN ('11J',\n",
    "                         '15C',\n",
    "                         '15E',\n",
    "                         '15I',\n",
    "                         '15J',\n",
    "                         '15T',\n",
    "                         '18J',\n",
    "                         '19J',\n",
    "                         '30J',\n",
    "                         '30F',\n",
    "                         '31J',\n",
    "                         '31F',\n",
    "                         '32J',\n",
    "                         '32F')\n",
    "      GROUP BY match_id\n",
    "      HAVING sum(amount) >= 50000) AS gop_donors\n",
    "   JOIN crp_contributions ON CASE\n",
    "                                 WHEN trim(contribid) != '' THEN left(contribid, 11)\n",
    "                                 ELSE crp_contributions.orgname\n",
    "                             END = gop_donors.match_id\n",
    "   WHERE date >= '2017-01-01'\n",
    "     AND date < '2017-11-02'\n",
    "     AND CYCLE = '2018'\n",
    "     AND TYPE NOT IN ('11J',\n",
    "                      '15C',\n",
    "                      '15E',\n",
    "                      '15I',\n",
    "                      '15J',\n",
    "                      '15T',\n",
    "                      '18J',\n",
    "                      '19J',\n",
    "                      '30J',\n",
    "                      '30F',\n",
    "                      '31J',\n",
    "                      '31F',\n",
    "                      '32J',\n",
    "                      '32F')\n",
    "   GROUP BY fectransid,\n",
    "            match_id,\n",
    "            organization,\n",
    "            contributor, date, cmte_id) AS donors_committees\n",
    "JOIN crp_committees ON donors_committees.cmte_id = crp_committees.cmteid\n",
    "AND crp_committees.CYCLE = '2018'\n",
    "WHERE primcode IN ('J1100',\n",
    "                   'J2200',\n",
    "                   'J2400',\n",
    "                   'Z1100',\n",
    "                   'Z4100',\n",
    "                   'Z4500',\n",
    "                   'Z5100')\n",
    "GROUP BY fectransid,\n",
    "         match_id,\n",
    "         organization,\n",
    "         contributor, date, cmte_id,\n",
    "                            committee;\n",
    "\n",
    "GRANT ALL ON TABLE pre_bill_contributions_17 TO redash_default;\n",
    "\n",
    "\n",
    "SELECT *\n",
    "FROM pre_bill_contributions_17;\"\"\", con=conn)\n",
    "pre_bill_contributions_17.info()"
   ]
  },
  {
   "cell_type": "markdown",
   "metadata": {},
   "source": [
    "What about during the equivalent post-bill introduction period in 2015?"
   ]
  },
  {
   "cell_type": "code",
   "execution_count": 27,
   "metadata": {},
   "outputs": [
    {
     "name": "stdout",
     "output_type": "stream",
     "text": [
      "<class 'pandas.core.frame.DataFrame'>\n",
      "RangeIndex: 615 entries, 0 to 614\n",
      "Data columns (total 8 columns):\n",
      "fectransid      615 non-null object\n",
      "match_id        615 non-null object\n",
      "organization    606 non-null object\n",
      "contributor     615 non-null object\n",
      "date            615 non-null object\n",
      "sum             615 non-null float64\n",
      "cmte_id         615 non-null object\n",
      "committee       615 non-null object\n",
      "dtypes: float64(1), object(7)\n",
      "memory usage: 38.5+ KB\n"
     ]
    }
   ],
   "source": [
    "post_bill_contributions_15 = pd.read_sql(\"\"\"CREATE TABLE IF NOT EXISTS post_bill_contributions_15 AS\n",
    "SELECT fectransid,\n",
    "       match_id,\n",
    "       organization,\n",
    "       contributor, date, sum(SUM),\n",
    "                          cmte_id,\n",
    "                          pacshort AS committee\n",
    "FROM\n",
    "  (SELECT fectransid,\n",
    "          match_id,\n",
    "          orgname AS organization,\n",
    "          contrib AS contributor, date, sum(amount),\n",
    "                                        cmteid AS cmte_id\n",
    "   FROM\n",
    "     (SELECT CASE\n",
    "                 WHEN trim(contribid) != '' THEN left(contribid, 11)\n",
    "                 ELSE orgname\n",
    "             END AS match_id\n",
    "      FROM crp_contributions\n",
    "      LEFT JOIN crp_committees ON crp_contributions.cmteid = crp_committees.cmteid\n",
    "      AND crp_committees.cycle = '2018'\n",
    "      WHERE primcode IN ('J1100',\n",
    "                         'J2200',\n",
    "                         'J2400',\n",
    "                         'Z1100',\n",
    "                         'Z4100',\n",
    "                         'Z4500',\n",
    "                         'Z5100')\n",
    "        AND date >= '2017-11-02'\n",
    "        AND date <= '2017-12-31'\n",
    "        AND crp_contributions.cycle = '2018'\n",
    "        AND TYPE NOT IN ('11J',\n",
    "                         '15C',\n",
    "                         '15E',\n",
    "                         '15I',\n",
    "                         '15J',\n",
    "                         '15T',\n",
    "                         '18J',\n",
    "                         '19J',\n",
    "                         '30J',\n",
    "                         '30F',\n",
    "                         '31J',\n",
    "                         '31F',\n",
    "                         '32J',\n",
    "                         '32F')\n",
    "      GROUP BY match_id\n",
    "      HAVING sum(amount) >= 50000) AS gop_donors\n",
    "   JOIN crp_contributions ON CASE\n",
    "                                 WHEN trim(contribid) != '' THEN left(contribid, 11)\n",
    "                                 ELSE crp_contributions.orgname\n",
    "                             END = gop_donors.match_id\n",
    "   WHERE date >= '2015-11-02'\n",
    "     AND date <= '2015-12-31'\n",
    "     AND CYCLE = '2016'\n",
    "     AND TYPE NOT IN ('11J',\n",
    "                      '15C',\n",
    "                      '15E',\n",
    "                      '15I',\n",
    "                      '15J',\n",
    "                      '15T',\n",
    "                      '18J',\n",
    "                      '19J',\n",
    "                      '30J',\n",
    "                      '30F',\n",
    "                      '31J',\n",
    "                      '31F',\n",
    "                      '32J',\n",
    "                      '32F')\n",
    "   GROUP BY fectransid,\n",
    "            match_id,\n",
    "            organization,\n",
    "            contributor, date, cmte_id) AS donors_committees\n",
    "JOIN crp_committees ON donors_committees.cmte_id = crp_committees.cmteid\n",
    "AND crp_committees.CYCLE = '2016'\n",
    "WHERE primcode IN ('J1100',\n",
    "                   'J2200',\n",
    "                   'J2400',\n",
    "                   'Z1100',\n",
    "                   'Z4100',\n",
    "                   'Z4500',\n",
    "                   'Z5100')\n",
    "GROUP BY fectransid,\n",
    "         match_id,\n",
    "         organization,\n",
    "         contributor, date, cmte_id,\n",
    "                            committee;\n",
    "\n",
    "GRANT ALL ON TABLE post_bill_contributions_15 TO redash_default;\n",
    "\n",
    "\n",
    "SELECT *\n",
    "FROM post_bill_contributions_15;\"\"\", con=conn)\n",
    "post_bill_contributions_15.info()"
   ]
  },
  {
   "cell_type": "code",
   "execution_count": 28,
   "metadata": {},
   "outputs": [
    {
     "name": "stdout",
     "output_type": "stream",
     "text": [
      "<class 'pandas.core.frame.DataFrame'>\n",
      "RangeIndex: 2270 entries, 0 to 2269\n",
      "Data columns (total 8 columns):\n",
      "fectransid      2270 non-null object\n",
      "match_id        2270 non-null object\n",
      "organization    2175 non-null object\n",
      "contributor     2270 non-null object\n",
      "date            2270 non-null object\n",
      "sum             2270 non-null float64\n",
      "cmte_id         2270 non-null object\n",
      "committee       2270 non-null object\n",
      "dtypes: float64(1), object(7)\n",
      "memory usage: 142.0+ KB\n"
     ]
    }
   ],
   "source": [
    "pre_bill_contributions_15 = pd.read_sql(\"\"\"CREATE TABLE IF NOT EXISTS pre_bill_contributions_15 AS\n",
    "SELECT fectransid,\n",
    "       match_id,\n",
    "       organization,\n",
    "       contributor, date, sum(SUM),\n",
    "                          cmte_id,\n",
    "                          pacshort AS committee\n",
    "FROM\n",
    "  (SELECT fectransid,\n",
    "          match_id,\n",
    "          orgname AS organization,\n",
    "          contrib AS contributor, date, sum(amount),\n",
    "                                        cmteid AS cmte_id\n",
    "   FROM\n",
    "     (SELECT CASE\n",
    "                 WHEN trim(contribid) != '' THEN left(contribid, 11)\n",
    "                 ELSE orgname\n",
    "             END AS match_id\n",
    "      FROM crp_contributions\n",
    "      LEFT JOIN crp_committees ON crp_contributions.cmteid = crp_committees.cmteid\n",
    "      AND crp_committees.cycle = '2018'\n",
    "      WHERE primcode IN ('J1100',\n",
    "                         'J2200',\n",
    "                         'J2400',\n",
    "                         'Z1100',\n",
    "                         'Z4100',\n",
    "                         'Z4500',\n",
    "                         'Z5100')\n",
    "        AND date >= '2017-11-02'\n",
    "        AND date <= '2017-12-31'\n",
    "        AND crp_contributions.cycle = '2018'\n",
    "        AND TYPE NOT IN ('11J',\n",
    "                         '15C',\n",
    "                         '15E',\n",
    "                         '15I',\n",
    "                         '15J',\n",
    "                         '15T',\n",
    "                         '18J',\n",
    "                         '19J',\n",
    "                         '30J',\n",
    "                         '30F',\n",
    "                         '31J',\n",
    "                         '31F',\n",
    "                         '32J',\n",
    "                         '32F')\n",
    "      GROUP BY match_id\n",
    "      HAVING sum(amount) >= 50000) AS gop_donors\n",
    "   JOIN crp_contributions ON CASE\n",
    "                                 WHEN trim(contribid) != '' THEN left(contribid, 11)\n",
    "                                 ELSE crp_contributions.orgname\n",
    "                             END = gop_donors.match_id\n",
    "   WHERE date >= '2015-01-01'\n",
    "     AND date < '2015-11-02'\n",
    "     AND CYCLE = '2016'\n",
    "     AND TYPE NOT IN ('11J',\n",
    "                      '15C',\n",
    "                      '15E',\n",
    "                      '15I',\n",
    "                      '15J',\n",
    "                      '15T',\n",
    "                      '18J',\n",
    "                      '19J',\n",
    "                      '30J',\n",
    "                      '30F',\n",
    "                      '31J',\n",
    "                      '31F',\n",
    "                      '32J',\n",
    "                      '32F')\n",
    "   GROUP BY fectransid,\n",
    "            match_id,\n",
    "            organization,\n",
    "            contributor, date, cmte_id) AS donors_committees\n",
    "JOIN crp_committees ON donors_committees.cmte_id = crp_committees.cmteid\n",
    "AND crp_committees.CYCLE = '2016'\n",
    "WHERE primcode IN ('J1100',\n",
    "                   'J2200',\n",
    "                   'J2400',\n",
    "                   'Z1100',\n",
    "                   'Z4100',\n",
    "                   'Z4500',\n",
    "                   'Z5100')\n",
    "GROUP BY fectransid,\n",
    "         match_id,\n",
    "         organization,\n",
    "         contributor, date, cmte_id,\n",
    "                            committee;\n",
    "\n",
    "GRANT ALL ON TABLE pre_bill_contributions_15 TO redash_default;\n",
    "\n",
    "\n",
    "SELECT *\n",
    "FROM pre_bill_contributions_15;\"\"\", con=conn)\n",
    "pre_bill_contributions_15.info()"
   ]
  },
  {
   "cell_type": "markdown",
   "metadata": {},
   "source": [
    "## Had these megadonors given between Nov. 2 and Dec. 31, 2013?"
   ]
  },
  {
   "cell_type": "markdown",
   "metadata": {},
   "source": [
    "Return contributions by donor and committee."
   ]
  },
  {
   "cell_type": "code",
   "execution_count": 29,
   "metadata": {},
   "outputs": [
    {
     "name": "stdout",
     "output_type": "stream",
     "text": [
      "<class 'pandas.core.frame.DataFrame'>\n",
      "RangeIndex: 220 entries, 0 to 219\n",
      "Data columns (total 6 columns):\n",
      "match_id         220 non-null object\n",
      "organizations    220 non-null object\n",
      "contributors     220 non-null object\n",
      "total            220 non-null float64\n",
      "cmte_id          220 non-null object\n",
      "committee        220 non-null object\n",
      "dtypes: float64(1), object(5)\n",
      "memory usage: 10.4+ KB\n"
     ]
    }
   ],
   "source": [
    "post_bill_donors_committees_13 = pd.read_sql(\"\"\"CREATE TABLE IF NOT EXISTS post_bill_donors_committees_13 AS\n",
    "SELECT match_id,\n",
    "       organizations,\n",
    "       contributors,\n",
    "       sum(committee_total) AS total,\n",
    "       cmte_id,\n",
    "       pacshort AS committee\n",
    "FROM\n",
    "  (SELECT match_id,\n",
    "          organizations,\n",
    "          contributors,\n",
    "          sum(amount) AS committee_total,\n",
    "          cmteid AS cmte_id\n",
    "   FROM\n",
    "     (SELECT CASE\n",
    "                 WHEN trim(contribid) != '' THEN left(contribid, 11)\n",
    "                 ELSE orgname\n",
    "             END AS match_id,\n",
    "             array_agg(DISTINCT orgname) AS organizations,\n",
    "             array_agg(DISTINCT contrib) AS contributors\n",
    "      FROM crp_contributions\n",
    "      LEFT JOIN crp_committees ON crp_contributions.cmteid = crp_committees.cmteid\n",
    "      AND crp_committees.cycle = '2018'\n",
    "      WHERE primcode IN ('J1100',\n",
    "                         'J2200',\n",
    "                         'J2400',\n",
    "                         'Z1100',\n",
    "                         'Z4100',\n",
    "                         'Z4500',\n",
    "                         'Z5100')\n",
    "        AND date >= '2017-11-02'\n",
    "        AND date <= '2017-12-31'\n",
    "        AND crp_contributions.cycle = '2018'\n",
    "        AND TYPE NOT IN ('11J',\n",
    "                         '15C',\n",
    "                         '15E',\n",
    "                         '15I',\n",
    "                         '15J',\n",
    "                         '15T',\n",
    "                         '18J',\n",
    "                         '19J',\n",
    "                         '30J',\n",
    "                         '30F',\n",
    "                         '31J',\n",
    "                         '31F',\n",
    "                         '32J',\n",
    "                         '32F')\n",
    "      GROUP BY match_id\n",
    "      HAVING sum(amount) >= 50000) AS gop_donors\n",
    "   JOIN crp_contributions ON CASE\n",
    "                                 WHEN trim(contribid) != '' THEN left(contribid, 11)\n",
    "                                 ELSE crp_contributions.orgname\n",
    "                             END = gop_donors.match_id\n",
    "   WHERE date >= '2013-11-02'\n",
    "     AND date <= '2013-12-31'\n",
    "     AND CYCLE = '2014'\n",
    "     AND TYPE NOT IN ('11J',\n",
    "                      '15C',\n",
    "                      '15E',\n",
    "                      '15I',\n",
    "                      '15J',\n",
    "                      '15T',\n",
    "                      '18J',\n",
    "                      '19J',\n",
    "                      '30J',\n",
    "                      '30F',\n",
    "                      '31J',\n",
    "                      '31F',\n",
    "                      '32J',\n",
    "                      '32F')\n",
    "   GROUP BY match_id,\n",
    "            organizations,\n",
    "            contributors,\n",
    "            cmte_id) AS donors_committees\n",
    "JOIN crp_committees ON donors_committees.cmte_id = crp_committees.cmteid\n",
    "AND crp_committees.CYCLE = '2014'\n",
    "WHERE primcode IN ('J1100',\n",
    "                   'J2200',\n",
    "                   'J2400',\n",
    "                   'Z1100',\n",
    "                   'Z4100',\n",
    "                   'Z4500',\n",
    "                   'Z5100')\n",
    "GROUP BY match_id,\n",
    "         organizations,\n",
    "         contributors,\n",
    "         cmte_id,\n",
    "         committee;\n",
    "\n",
    "GRANT ALL ON TABLE post_bill_donors_committees_13 TO redash_default;\n",
    "\n",
    "\n",
    "SELECT *\n",
    "FROM post_bill_donors_committees_13;\"\"\", con=conn)\n",
    "post_bill_donors_committees_13.info()"
   ]
  },
  {
   "cell_type": "markdown",
   "metadata": {},
   "source": [
    "Group by donor."
   ]
  },
  {
   "cell_type": "code",
   "execution_count": 30,
   "metadata": {},
   "outputs": [
    {
     "name": "stdout",
     "output_type": "stream",
     "text": [
      "<class 'pandas.core.frame.DataFrame'>\n",
      "RangeIndex: 62 entries, 0 to 61\n",
      "Data columns (total 4 columns):\n",
      "match_id         62 non-null object\n",
      "organizations    62 non-null object\n",
      "contributors     62 non-null object\n",
      "total            62 non-null float64\n",
      "dtypes: float64(1), object(3)\n",
      "memory usage: 2.0+ KB\n"
     ]
    }
   ],
   "source": [
    "post_bill_donors_13 = post_bill_donors_committees_13.groupby([\"match_id\"]).agg({\"organizations\": max, \"contributors\": max, \"total\": sum}).reset_index()\n",
    "post_bill_donors_13.info()"
   ]
  },
  {
   "cell_type": "markdown",
   "metadata": {},
   "source": [
    "## How much did they give?"
   ]
  },
  {
   "cell_type": "code",
   "execution_count": 31,
   "metadata": {},
   "outputs": [
    {
     "data": {
      "text/plain": [
       "3859464.0"
      ]
     },
     "execution_count": 31,
     "metadata": {},
     "output_type": "execute_result"
    }
   ],
   "source": [
    "post_bill_donors_13[\"total\"].sum()"
   ]
  },
  {
   "cell_type": "markdown",
   "metadata": {},
   "source": [
    "## Had these megadonors given previously in 2013?"
   ]
  },
  {
   "cell_type": "markdown",
   "metadata": {},
   "source": [
    "Return contributions by donor and committee."
   ]
  },
  {
   "cell_type": "code",
   "execution_count": 32,
   "metadata": {},
   "outputs": [
    {
     "name": "stdout",
     "output_type": "stream",
     "text": [
      "<class 'pandas.core.frame.DataFrame'>\n",
      "RangeIndex: 566 entries, 0 to 565\n",
      "Data columns (total 6 columns):\n",
      "match_id         566 non-null object\n",
      "organizations    566 non-null object\n",
      "contributors     566 non-null object\n",
      "total            566 non-null float64\n",
      "cmte_id          566 non-null object\n",
      "committee        566 non-null object\n",
      "dtypes: float64(1), object(5)\n",
      "memory usage: 26.6+ KB\n"
     ]
    }
   ],
   "source": [
    "pre_bill_donors_committees_13 = pd.read_sql(\"\"\"CREATE TABLE IF NOT EXISTS pre_bill_donors_committees_13 AS\n",
    "SELECT match_id,\n",
    "       organizations,\n",
    "       contributors,\n",
    "       sum(committee_total) AS total,\n",
    "       cmte_id,\n",
    "       pacshort AS committee\n",
    "FROM\n",
    "  (SELECT match_id,\n",
    "          organizations,\n",
    "          contributors,\n",
    "          sum(amount) AS committee_total,\n",
    "          cmteid AS cmte_id\n",
    "   FROM\n",
    "     (SELECT CASE\n",
    "                 WHEN trim(contribid) != '' THEN left(contribid, 11)\n",
    "                 ELSE orgname\n",
    "             END AS match_id,\n",
    "             array_agg(DISTINCT orgname) AS organizations,\n",
    "             array_agg(DISTINCT contrib) AS contributors\n",
    "      FROM crp_contributions\n",
    "      LEFT JOIN crp_committees ON crp_contributions.cmteid = crp_committees.cmteid\n",
    "      AND crp_committees.cycle = '2018'\n",
    "      WHERE primcode IN ('J1100',\n",
    "                         'J2200',\n",
    "                         'J2400',\n",
    "                         'Z1100',\n",
    "                         'Z4100',\n",
    "                         'Z4500',\n",
    "                         'Z5100')\n",
    "        AND date >= '2017-11-02'\n",
    "        AND date <= '2017-12-31'\n",
    "        AND crp_contributions.cycle = '2018'\n",
    "        AND TYPE NOT IN ('11J',\n",
    "                         '15C',\n",
    "                         '15E',\n",
    "                         '15I',\n",
    "                         '15J',\n",
    "                         '15T',\n",
    "                         '18J',\n",
    "                         '19J',\n",
    "                         '30J',\n",
    "                         '30F',\n",
    "                         '31J',\n",
    "                         '31F',\n",
    "                         '32J',\n",
    "                         '32F')\n",
    "      GROUP BY match_id\n",
    "      HAVING sum(amount) >= 50000) AS gop_donors\n",
    "   JOIN crp_contributions ON CASE\n",
    "                                 WHEN trim(contribid) != '' THEN left(contribid, 11)\n",
    "                                 ELSE crp_contributions.orgname\n",
    "                             END = gop_donors.match_id\n",
    "   WHERE date >= '2013-01-01'\n",
    "     AND date < '2013-11-02'\n",
    "     AND CYCLE = '2014'\n",
    "     AND TYPE NOT IN ('11J',\n",
    "                      '15C',\n",
    "                      '15E',\n",
    "                      '15I',\n",
    "                      '15J',\n",
    "                      '15T',\n",
    "                      '18J',\n",
    "                      '19J',\n",
    "                      '30J',\n",
    "                      '30F',\n",
    "                      '31J',\n",
    "                      '31F',\n",
    "                      '32J',\n",
    "                      '32F')\n",
    "   GROUP BY match_id,\n",
    "            organizations,\n",
    "            contributors,\n",
    "            cmte_id) AS donors_committees\n",
    "JOIN crp_committees ON donors_committees.cmte_id = crp_committees.cmteid\n",
    "AND crp_committees.CYCLE = '2014'\n",
    "WHERE primcode IN ('J1100',\n",
    "                   'J2200',\n",
    "                   'J2400',\n",
    "                   'Z1100',\n",
    "                   'Z4100',\n",
    "                   'Z4500',\n",
    "                   'Z5100')\n",
    "GROUP BY match_id,\n",
    "         organizations,\n",
    "         contributors,\n",
    "         cmte_id,\n",
    "         committee;\n",
    "\n",
    "GRANT ALL ON TABLE pre_bill_donors_committees_13 TO redash_default;\n",
    "\n",
    "\n",
    "SELECT *\n",
    "FROM pre_bill_donors_committees_13;\"\"\", con=conn)\n",
    "pre_bill_donors_committees_13.info()"
   ]
  },
  {
   "cell_type": "markdown",
   "metadata": {},
   "source": [
    "Group by donor."
   ]
  },
  {
   "cell_type": "code",
   "execution_count": 33,
   "metadata": {},
   "outputs": [
    {
     "name": "stdout",
     "output_type": "stream",
     "text": [
      "<class 'pandas.core.frame.DataFrame'>\n",
      "RangeIndex: 105 entries, 0 to 104\n",
      "Data columns (total 4 columns):\n",
      "match_id         105 non-null object\n",
      "organizations    105 non-null object\n",
      "contributors     105 non-null object\n",
      "total            105 non-null float64\n",
      "dtypes: float64(1), object(3)\n",
      "memory usage: 3.4+ KB\n"
     ]
    }
   ],
   "source": [
    "pre_bill_donors_13 = pre_bill_donors_committees_13.groupby([\"match_id\"]).agg({\"organizations\": max, \"contributors\": max, \"total\": sum}).reset_index()\n",
    "pre_bill_donors_13.info()"
   ]
  },
  {
   "cell_type": "markdown",
   "metadata": {},
   "source": [
    "## How much did they give?"
   ]
  },
  {
   "cell_type": "code",
   "execution_count": 34,
   "metadata": {},
   "outputs": [
    {
     "data": {
      "text/plain": [
       "6716175.0"
      ]
     },
     "execution_count": 34,
     "metadata": {},
     "output_type": "execute_result"
    }
   ],
   "source": [
    "pre_bill_donors_13[\"total\"].sum()"
   ]
  },
  {
   "cell_type": "markdown",
   "metadata": {},
   "source": [
    "## How much did these donors give in each period?"
   ]
  },
  {
   "cell_type": "code",
   "execution_count": 35,
   "metadata": {},
   "outputs": [
    {
     "name": "stdout",
     "output_type": "stream",
     "text": [
      "<class 'pandas.core.frame.DataFrame'>\n",
      "Int64Index: 109 entries, 0 to 108\n",
      "Data columns (total 7 columns):\n",
      "match_id                   109 non-null object\n",
      "organizations_post_bill    62 non-null object\n",
      "contributors_post_bill     62 non-null object\n",
      "total_post_bill            109 non-null float64\n",
      "organizations_pre_bill     105 non-null object\n",
      "contributors_pre_bill      105 non-null object\n",
      "total_pre_bill             109 non-null float64\n",
      "dtypes: float64(2), object(5)\n",
      "memory usage: 6.8+ KB\n"
     ]
    }
   ],
   "source": [
    "donors_13 = post_bill_donors_13.merge(pre_bill_donors_13, how=\"outer\", on=\"match_id\", suffixes=[\"_post_bill\", \"_pre_bill\"])\n",
    "donors_13[\"total_pre_bill\"].fillna(0, inplace=True)\n",
    "donors_13[\"total_post_bill\"].fillna(0, inplace=True)\n",
    "donors_13.info()"
   ]
  },
  {
   "cell_type": "code",
   "execution_count": 36,
   "metadata": {},
   "outputs": [
    {
     "data": {
      "text/html": [
       "<div>\n",
       "<style scoped>\n",
       "    .dataframe tbody tr th:only-of-type {\n",
       "        vertical-align: middle;\n",
       "    }\n",
       "\n",
       "    .dataframe tbody tr th {\n",
       "        vertical-align: top;\n",
       "    }\n",
       "\n",
       "    .dataframe thead th {\n",
       "        text-align: right;\n",
       "    }\n",
       "</style>\n",
       "<table border=\"1\" class=\"dataframe\">\n",
       "  <thead>\n",
       "    <tr style=\"text-align: right;\">\n",
       "      <th></th>\n",
       "      <th>match_id</th>\n",
       "      <th>organizations_post_bill</th>\n",
       "      <th>contributors_post_bill</th>\n",
       "      <th>organizations_pre_bill</th>\n",
       "      <th>contributors_pre_bill</th>\n",
       "      <th>total_post_bill</th>\n",
       "      <th>total_pre_bill</th>\n",
       "      <th>pct_post_bill</th>\n",
       "      <th>pct_pre_bill</th>\n",
       "      <th>change</th>\n",
       "      <th>pct_change</th>\n",
       "    </tr>\n",
       "  </thead>\n",
       "  <tbody>\n",
       "    <tr>\n",
       "      <th>0</th>\n",
       "      <td>American Action Network</td>\n",
       "      <td>[American Action Network]</td>\n",
       "      <td>[AMERICAN ACTION NETWORK]</td>\n",
       "      <td>[American Action Network]</td>\n",
       "      <td>[AMERICAN ACTION NETWORK]</td>\n",
       "      <td>109,714.00</td>\n",
       "      <td>81,237.00</td>\n",
       "      <td>0.57</td>\n",
       "      <td>0.43</td>\n",
       "      <td>28,477.00</td>\n",
       "      <td>0.35</td>\n",
       "    </tr>\n",
       "    <tr>\n",
       "      <th>1</th>\n",
       "      <td>Anschutz Corp</td>\n",
       "      <td>[Anschutz Corp]</td>\n",
       "      <td>[THE ANSCHUTZ CORPORATION]</td>\n",
       "      <td>NaN</td>\n",
       "      <td>NaN</td>\n",
       "      <td>5,000.00</td>\n",
       "      <td>0.00</td>\n",
       "      <td>1.00</td>\n",
       "      <td>0.00</td>\n",
       "      <td>5,000.00</td>\n",
       "      <td>inf</td>\n",
       "    </tr>\n",
       "    <tr>\n",
       "      <th>2</th>\n",
       "      <td>Chickasaw Nation</td>\n",
       "      <td>[Chickasaw Nation]</td>\n",
       "      <td>[CHICKASAW NATION, CHICKASAW NATION, THE, NATI...</td>\n",
       "      <td>[Chickasaw Nation]</td>\n",
       "      <td>[CHICKASAW NATION, CHICKASAW NATION, THE, NATI...</td>\n",
       "      <td>42,800.00</td>\n",
       "      <td>196,500.00</td>\n",
       "      <td>0.18</td>\n",
       "      <td>0.82</td>\n",
       "      <td>-153,700.00</td>\n",
       "      <td>-0.78</td>\n",
       "    </tr>\n",
       "    <tr>\n",
       "      <th>3</th>\n",
       "      <td>Republican Governors Assn</td>\n",
       "      <td>[Republican Governors Assn]</td>\n",
       "      <td>[REPUBLICAN GOVERNORS ASSOCIATION]</td>\n",
       "      <td>NaN</td>\n",
       "      <td>NaN</td>\n",
       "      <td>1,000,000.00</td>\n",
       "      <td>0.00</td>\n",
       "      <td>1.00</td>\n",
       "      <td>0.00</td>\n",
       "      <td>1,000,000.00</td>\n",
       "      <td>inf</td>\n",
       "    </tr>\n",
       "    <tr>\n",
       "      <th>4</th>\n",
       "      <td>Shakopee Mdewakanton Sioux Community</td>\n",
       "      <td>[Shakopee Mdewakanton Sioux Community]</td>\n",
       "      <td>[MDEWAKANTON SIOUX COMMUNITY, SHAKOPEE,,,, SHA...</td>\n",
       "      <td>[Shakopee Mdewakanton Sioux Community]</td>\n",
       "      <td>[MDEWAKANTON SIOUX COMMUNITY, SHAKOPEE,,,, SHA...</td>\n",
       "      <td>68,900.00</td>\n",
       "      <td>71,100.00</td>\n",
       "      <td>0.49</td>\n",
       "      <td>0.51</td>\n",
       "      <td>-2,200.00</td>\n",
       "      <td>-0.03</td>\n",
       "    </tr>\n",
       "  </tbody>\n",
       "</table>\n",
       "</div>"
      ],
      "text/plain": [
       "                               match_id  \\\n",
       "0               American Action Network   \n",
       "1                         Anschutz Corp   \n",
       "2                      Chickasaw Nation   \n",
       "3             Republican Governors Assn   \n",
       "4  Shakopee Mdewakanton Sioux Community   \n",
       "\n",
       "                  organizations_post_bill  \\\n",
       "0               [American Action Network]   \n",
       "1                         [Anschutz Corp]   \n",
       "2                      [Chickasaw Nation]   \n",
       "3             [Republican Governors Assn]   \n",
       "4  [Shakopee Mdewakanton Sioux Community]   \n",
       "\n",
       "                              contributors_post_bill  \\\n",
       "0                          [AMERICAN ACTION NETWORK]   \n",
       "1                         [THE ANSCHUTZ CORPORATION]   \n",
       "2  [CHICKASAW NATION, CHICKASAW NATION, THE, NATI...   \n",
       "3                 [REPUBLICAN GOVERNORS ASSOCIATION]   \n",
       "4  [MDEWAKANTON SIOUX COMMUNITY, SHAKOPEE,,,, SHA...   \n",
       "\n",
       "                   organizations_pre_bill  \\\n",
       "0               [American Action Network]   \n",
       "1                                     NaN   \n",
       "2                      [Chickasaw Nation]   \n",
       "3                                     NaN   \n",
       "4  [Shakopee Mdewakanton Sioux Community]   \n",
       "\n",
       "                               contributors_pre_bill  total_post_bill  \\\n",
       "0                          [AMERICAN ACTION NETWORK]       109,714.00   \n",
       "1                                                NaN         5,000.00   \n",
       "2  [CHICKASAW NATION, CHICKASAW NATION, THE, NATI...        42,800.00   \n",
       "3                                                NaN     1,000,000.00   \n",
       "4  [MDEWAKANTON SIOUX COMMUNITY, SHAKOPEE,,,, SHA...        68,900.00   \n",
       "\n",
       "   total_pre_bill  pct_post_bill  pct_pre_bill       change  pct_change  \n",
       "0       81,237.00           0.57          0.43    28,477.00        0.35  \n",
       "1            0.00           1.00          0.00     5,000.00         inf  \n",
       "2      196,500.00           0.18          0.82  -153,700.00       -0.78  \n",
       "3            0.00           1.00          0.00 1,000,000.00         inf  \n",
       "4       71,100.00           0.49          0.51    -2,200.00       -0.03  "
      ]
     },
     "execution_count": 36,
     "metadata": {},
     "output_type": "execute_result"
    }
   ],
   "source": [
    "donors_13[\"pct_post_bill\"] = donors_13[\"total_post_bill\"] / (donors_13[\"total_pre_bill\"] + donors_13[\"total_post_bill\"])\n",
    "donors_13[\"pct_pre_bill\"] = donors_13[\"total_pre_bill\"] / (donors_13[\"total_pre_bill\"] + donors_13[\"total_post_bill\"])\n",
    "donors_13[\"change\"] = donors_13[\"total_post_bill\"] - donors_13[\"total_pre_bill\"]\n",
    "donors_13[\"pct_change\"] = (donors_13[\"total_post_bill\"] - donors_13[\"total_pre_bill\"]) / donors_13[\"total_pre_bill\"].abs()\n",
    "donors_13 = donors_13[[\"match_id\", \"organizations_post_bill\", \"contributors_post_bill\",\n",
    "                       \"organizations_pre_bill\", \"contributors_pre_bill\", \"total_post_bill\",\n",
    "                       \"total_pre_bill\", \"pct_post_bill\", \"pct_pre_bill\", \"change\", \"pct_change\"]]\n",
    "donors_13.head()"
   ]
  },
  {
   "cell_type": "markdown",
   "metadata": {},
   "source": [
    "## And did their giving patterns change between the cycles?"
   ]
  },
  {
   "cell_type": "code",
   "execution_count": 37,
   "metadata": {},
   "outputs": [
    {
     "name": "stdout",
     "output_type": "stream",
     "text": [
      "<class 'pandas.core.frame.DataFrame'>\n",
      "Int64Index: 158 entries, 0 to 157\n",
      "Data columns (total 11 columns):\n",
      "match_id              158 non-null object\n",
      "contributors          158 non-null object\n",
      "organizations         158 non-null object\n",
      "total_pre_bill_13     109 non-null float64\n",
      "total_post_bill_13    109 non-null float64\n",
      "pct_pre_bill_13       109 non-null float64\n",
      "pct_post_bill_13      109 non-null float64\n",
      "total_pre_bill_17     158 non-null float64\n",
      "total_post_bill_17    158 non-null float64\n",
      "pct_pre_bill_17       158 non-null float64\n",
      "pct_post_bill_17      158 non-null float64\n",
      "dtypes: float64(8), object(3)\n",
      "memory usage: 14.8+ KB\n"
     ]
    }
   ],
   "source": [
    "donors_13_17 = donors_17.merge(donors_13, how=\"outer\", on=\"match_id\", suffixes=[\"_17\", \"_13\"])\n",
    "donors_13_17.drop([\"change_17\", \"pct_change_17\", \"organizations_post_bill\", \"contributors_post_bill\",\n",
    "             \"organizations_pre_bill\", \"contributors_pre_bill\", \"change_13\", \"pct_change_13\"],\n",
    "            axis=1, inplace=True)\n",
    "donors_13_17.rename(columns={\"organizations_17\": \"organizations\", \"contributors_17\": \"contributors\"})\n",
    "donors_13_17 = donors_13_17[[\"match_id\", \"contributors\", \"organizations\", \"total_pre_bill_13\", \"total_post_bill_13\",\n",
    "                 \"pct_pre_bill_13\", \"pct_post_bill_13\", \"total_pre_bill_17\", \"total_post_bill_17\",\n",
    "                 \"pct_pre_bill_17\", \"pct_post_bill_17\"]]\n",
    "donors_13_17.info()"
   ]
  },
  {
   "cell_type": "code",
   "execution_count": 38,
   "metadata": {},
   "outputs": [
    {
     "data": {
      "text/html": [
       "<div>\n",
       "<style scoped>\n",
       "    .dataframe tbody tr th:only-of-type {\n",
       "        vertical-align: middle;\n",
       "    }\n",
       "\n",
       "    .dataframe tbody tr th {\n",
       "        vertical-align: top;\n",
       "    }\n",
       "\n",
       "    .dataframe thead th {\n",
       "        text-align: right;\n",
       "    }\n",
       "</style>\n",
       "<table border=\"1\" class=\"dataframe\">\n",
       "  <thead>\n",
       "    <tr style=\"text-align: right;\">\n",
       "      <th></th>\n",
       "      <th>match_id</th>\n",
       "      <th>contributors</th>\n",
       "      <th>organizations</th>\n",
       "      <th>total_pre_bill_13</th>\n",
       "      <th>total_post_bill_13</th>\n",
       "      <th>pct_pre_bill_13</th>\n",
       "      <th>pct_post_bill_13</th>\n",
       "      <th>total_pre_bill_17</th>\n",
       "      <th>total_post_bill_17</th>\n",
       "      <th>pct_pre_bill_17</th>\n",
       "      <th>pct_post_bill_17</th>\n",
       "      <th>giving_change</th>\n",
       "    </tr>\n",
       "  </thead>\n",
       "  <tbody>\n",
       "    <tr>\n",
       "      <th>0</th>\n",
       "      <td>Air Line Pilots Assn</td>\n",
       "      <td>[AIR LINE PILOTS ASSOC INT'L   POLITICAL ACTIO...</td>\n",
       "      <td>[Air Line Pilots Assn]</td>\n",
       "      <td>nan</td>\n",
       "      <td>nan</td>\n",
       "      <td>nan</td>\n",
       "      <td>nan</td>\n",
       "      <td>100,000.00</td>\n",
       "      <td>150,000.00</td>\n",
       "      <td>0.40</td>\n",
       "      <td>0.60</td>\n",
       "      <td>Increased</td>\n",
       "    </tr>\n",
       "  </tbody>\n",
       "</table>\n",
       "</div>"
      ],
      "text/plain": [
       "               match_id                                       contributors  \\\n",
       "0  Air Line Pilots Assn  [AIR LINE PILOTS ASSOC INT'L   POLITICAL ACTIO...   \n",
       "\n",
       "            organizations  total_pre_bill_13  total_post_bill_13  \\\n",
       "0  [Air Line Pilots Assn]                nan                 nan   \n",
       "\n",
       "   pct_pre_bill_13  pct_post_bill_13  total_pre_bill_17  total_post_bill_17  \\\n",
       "0              nan               nan         100,000.00          150,000.00   \n",
       "\n",
       "   pct_pre_bill_17  pct_post_bill_17 giving_change  \n",
       "0             0.40              0.60     Increased  "
      ]
     },
     "execution_count": 38,
     "metadata": {},
     "output_type": "execute_result"
    }
   ],
   "source": [
    "donors_13_17[\"giving_change\"] = np.where((donors_13_17[\"pct_post_bill_17\"] > donors_13_17[\"pct_post_bill_13\"]) | (donors_13_17[\"pct_pre_bill_13\"].isnull()), \"Increased\",\n",
    "                                  np.where(donors_13_17[\"pct_post_bill_17\"] < donors_13_17[\"pct_post_bill_13\"], \"Decreased\",\n",
    "                                           np.where(donors_13_17[\"pct_post_bill_17\"] == donors_13_17[\"pct_post_bill_13\"], \"Stayed the same\",\n",
    "                                                   \"Other\")))\n",
    "donors_13_17.head(1)"
   ]
  },
  {
   "cell_type": "markdown",
   "metadata": {},
   "source": [
    "## What proportion of donors increased the share of their annual giving that fell in the last two months of 2017 as compared with the same period in 2013?"
   ]
  },
  {
   "cell_type": "code",
   "execution_count": 39,
   "metadata": {},
   "outputs": [
    {
     "data": {
      "text/plain": [
       "match_id             0.83\n",
       "contributors         0.83\n",
       "organizations        0.83\n",
       "total_pre_bill_13    0.75\n",
       "total_post_bill_13   0.75\n",
       "pct_pre_bill_13      0.75\n",
       "pct_post_bill_13     0.75\n",
       "total_pre_bill_17    0.83\n",
       "total_post_bill_17   0.83\n",
       "pct_pre_bill_17      0.83\n",
       "pct_post_bill_17     0.83\n",
       "giving_change        0.83\n",
       "dtype: float64"
      ]
     },
     "execution_count": 39,
     "metadata": {},
     "output_type": "execute_result"
    }
   ],
   "source": [
    "donors_13_17[donors_13_17[\"giving_change\"] == \"Increased\"].count() / donors_13_17.count()"
   ]
  },
  {
   "cell_type": "markdown",
   "metadata": {},
   "source": [
    "## And by how much did these individuals' giving increase?"
   ]
  },
  {
   "cell_type": "code",
   "execution_count": 40,
   "metadata": {},
   "outputs": [
    {
     "data": {
      "text/plain": [
       "22986493.0"
      ]
     },
     "execution_count": 40,
     "metadata": {},
     "output_type": "execute_result"
    }
   ],
   "source": [
    "donors_13_17[donors_13_17[\"giving_change\"] == \"Increased\"][\"total_post_bill_17\"].sum()"
   ]
  },
  {
   "cell_type": "code",
   "execution_count": 41,
   "metadata": {},
   "outputs": [
    {
     "data": {
      "text/plain": [
       "1155975.0"
      ]
     },
     "execution_count": 41,
     "metadata": {},
     "output_type": "execute_result"
    }
   ],
   "source": [
    "donors_13_17[donors_13_17[\"giving_change\"] == \"Increased\"][\"total_post_bill_13\"].sum()"
   ]
  },
  {
   "cell_type": "code",
   "execution_count": 42,
   "metadata": {},
   "outputs": [
    {
     "data": {
      "text/plain": [
       "21830518.0"
      ]
     },
     "execution_count": 42,
     "metadata": {},
     "output_type": "execute_result"
    }
   ],
   "source": [
    "donors_13_17[donors_13_17[\"giving_change\"] == \"Increased\"][\"total_post_bill_17\"].sum() - donors_13_17[donors_13_17[\"giving_change\"] == \"Increased\"][\"total_post_bill_13\"].sum()"
   ]
  },
  {
   "cell_type": "markdown",
   "metadata": {},
   "source": [
    "# What does this giving look like on a contribution-by-contribution level during the equivalent post-bill introduction period in 2013?"
   ]
  },
  {
   "cell_type": "code",
   "execution_count": 43,
   "metadata": {},
   "outputs": [
    {
     "name": "stdout",
     "output_type": "stream",
     "text": [
      "<class 'pandas.core.frame.DataFrame'>\n",
      "RangeIndex: 335 entries, 0 to 334\n",
      "Data columns (total 8 columns):\n",
      "fectransid      335 non-null object\n",
      "match_id        335 non-null object\n",
      "organization    326 non-null object\n",
      "contributor     335 non-null object\n",
      "date            335 non-null object\n",
      "sum             335 non-null float64\n",
      "cmte_id         335 non-null object\n",
      "committee       335 non-null object\n",
      "dtypes: float64(1), object(7)\n",
      "memory usage: 21.0+ KB\n"
     ]
    }
   ],
   "source": [
    "post_bill_contributions_13 = pd.read_sql(\"\"\"CREATE TABLE IF NOT EXISTS post_bill_contributions_13 AS\n",
    "SELECT fectransid,\n",
    "       match_id,\n",
    "       organization,\n",
    "       contributor, date, sum(SUM),\n",
    "                          cmte_id,\n",
    "                          pacshort AS committee\n",
    "FROM\n",
    "  (SELECT fectransid,\n",
    "          match_id,\n",
    "          orgname AS organization,\n",
    "          contrib AS contributor, date, sum(amount),\n",
    "                                        cmteid AS cmte_id\n",
    "   FROM\n",
    "     (SELECT CASE\n",
    "                 WHEN trim(contribid) != '' THEN left(contribid, 11)\n",
    "                 ELSE orgname\n",
    "             END AS match_id\n",
    "      FROM crp_contributions\n",
    "      LEFT JOIN crp_committees ON crp_contributions.cmteid = crp_committees.cmteid\n",
    "      AND crp_committees.cycle = '2018'\n",
    "      WHERE primcode IN ('J1100',\n",
    "                         'J2200',\n",
    "                         'J2400',\n",
    "                         'Z1100',\n",
    "                         'Z4100',\n",
    "                         'Z4500',\n",
    "                         'Z5100')\n",
    "        AND date >= '2017-11-02'\n",
    "        AND date <= '2017-12-31'\n",
    "        AND crp_contributions.cycle = '2018'\n",
    "        AND TYPE NOT IN ('11J',\n",
    "                         '15C',\n",
    "                         '15E',\n",
    "                         '15I',\n",
    "                         '15J',\n",
    "                         '15T',\n",
    "                         '18J',\n",
    "                         '19J',\n",
    "                         '30J',\n",
    "                         '30F',\n",
    "                         '31J',\n",
    "                         '31F',\n",
    "                         '32J',\n",
    "                         '32F')\n",
    "      GROUP BY match_id\n",
    "      HAVING sum(amount) >= 50000) AS gop_donors\n",
    "   JOIN crp_contributions ON CASE\n",
    "                                 WHEN trim(contribid) != '' THEN left(contribid, 11)\n",
    "                                 ELSE crp_contributions.orgname\n",
    "                             END = gop_donors.match_id\n",
    "   WHERE date >= '2013-11-02'\n",
    "     AND date <= '2013-12-31'\n",
    "     AND CYCLE = '2014'\n",
    "     AND TYPE NOT IN ('11J',\n",
    "                      '15C',\n",
    "                      '15E',\n",
    "                      '15I',\n",
    "                      '15J',\n",
    "                      '15T',\n",
    "                      '18J',\n",
    "                      '19J',\n",
    "                      '30J',\n",
    "                      '30F',\n",
    "                      '31J',\n",
    "                      '31F',\n",
    "                      '32J',\n",
    "                      '32F')\n",
    "   GROUP BY fectransid,\n",
    "            match_id,\n",
    "            organization,\n",
    "            contributor, date, cmte_id) AS donors_committees\n",
    "JOIN crp_committees ON donors_committees.cmte_id = crp_committees.cmteid\n",
    "AND crp_committees.CYCLE = '2014'\n",
    "WHERE primcode IN ('J1100',\n",
    "                   'J2200',\n",
    "                   'J2400',\n",
    "                   'Z1100',\n",
    "                   'Z4100',\n",
    "                   'Z4500',\n",
    "                   'Z5100')\n",
    "GROUP BY fectransid,\n",
    "         match_id,\n",
    "         organization,\n",
    "         contributor, date, cmte_id,\n",
    "                            committee;\n",
    "\n",
    "GRANT ALL ON TABLE post_bill_contributions_13 TO redash_default;\n",
    "\n",
    "\n",
    "SELECT *\n",
    "FROM post_bill_contributions_13;\"\"\", con=conn)\n",
    "post_bill_contributions_13.info()"
   ]
  },
  {
   "cell_type": "code",
   "execution_count": 44,
   "metadata": {},
   "outputs": [
    {
     "name": "stdout",
     "output_type": "stream",
     "text": [
      "<class 'pandas.core.frame.DataFrame'>\n",
      "RangeIndex: 945 entries, 0 to 944\n",
      "Data columns (total 8 columns):\n",
      "fectransid      945 non-null object\n",
      "match_id        945 non-null object\n",
      "organization    906 non-null object\n",
      "contributor     945 non-null object\n",
      "date            945 non-null object\n",
      "sum             945 non-null float64\n",
      "cmte_id         945 non-null object\n",
      "committee       945 non-null object\n",
      "dtypes: float64(1), object(7)\n",
      "memory usage: 59.1+ KB\n"
     ]
    }
   ],
   "source": [
    "pre_bill_contributions_13 = pd.read_sql(\"\"\"CREATE TABLE IF NOT EXISTS pre_bill_contributions_13 AS\n",
    "SELECT fectransid,\n",
    "       match_id,\n",
    "       organization,\n",
    "       contributor, date, sum(SUM),\n",
    "                          cmte_id,\n",
    "                          pacshort AS committee\n",
    "FROM\n",
    "  (SELECT fectransid,\n",
    "          match_id,\n",
    "          orgname AS organization,\n",
    "          contrib AS contributor, date, sum(amount),\n",
    "                                        cmteid AS cmte_id\n",
    "   FROM\n",
    "     (SELECT CASE\n",
    "                 WHEN trim(contribid) != '' THEN left(contribid, 11)\n",
    "                 ELSE orgname\n",
    "             END AS match_id\n",
    "      FROM crp_contributions\n",
    "      LEFT JOIN crp_committees ON crp_contributions.cmteid = crp_committees.cmteid\n",
    "      AND crp_committees.cycle = '2018'\n",
    "      WHERE primcode IN ('J1100',\n",
    "                         'J2200',\n",
    "                         'J2400',\n",
    "                         'Z1100',\n",
    "                         'Z4100',\n",
    "                         'Z4500',\n",
    "                         'Z5100')\n",
    "        AND date >= '2017-11-02'\n",
    "        AND date <= '2017-12-31'\n",
    "        AND crp_contributions.cycle = '2018'\n",
    "        AND TYPE NOT IN ('11J',\n",
    "                         '15C',\n",
    "                         '15E',\n",
    "                         '15I',\n",
    "                         '15J',\n",
    "                         '15T',\n",
    "                         '18J',\n",
    "                         '19J',\n",
    "                         '30J',\n",
    "                         '30F',\n",
    "                         '31J',\n",
    "                         '31F',\n",
    "                         '32J',\n",
    "                         '32F')\n",
    "      GROUP BY match_id\n",
    "      HAVING sum(amount) >= 50000) AS gop_donors\n",
    "   JOIN crp_contributions ON CASE\n",
    "                                 WHEN trim(contribid) != '' THEN left(contribid, 11)\n",
    "                                 ELSE crp_contributions.orgname\n",
    "                             END = gop_donors.match_id\n",
    "   WHERE date >= '2013-01-01'\n",
    "     AND date < '2013-11-02'\n",
    "     AND CYCLE = '2014'\n",
    "     AND TYPE NOT IN ('11J',\n",
    "                      '15C',\n",
    "                      '15E',\n",
    "                      '15I',\n",
    "                      '15J',\n",
    "                      '15T',\n",
    "                      '18J',\n",
    "                      '19J',\n",
    "                      '30J',\n",
    "                      '30F',\n",
    "                      '31J',\n",
    "                      '31F',\n",
    "                      '32J',\n",
    "                      '32F')\n",
    "   GROUP BY fectransid,\n",
    "            match_id,\n",
    "            organization,\n",
    "            contributor, date, cmte_id) AS donors_committees\n",
    "JOIN crp_committees ON donors_committees.cmte_id = crp_committees.cmteid\n",
    "AND crp_committees.CYCLE = '2014'\n",
    "WHERE primcode IN ('J1100',\n",
    "                   'J2200',\n",
    "                   'J2400',\n",
    "                   'Z1100',\n",
    "                   'Z4100',\n",
    "                   'Z4500',\n",
    "                   'Z5100')\n",
    "GROUP BY fectransid,\n",
    "         match_id,\n",
    "         organization,\n",
    "         contributor, date, cmte_id,\n",
    "                            committee;\n",
    "\n",
    "GRANT ALL ON TABLE pre_bill_contributions_13 TO redash_default;\n",
    "\n",
    "\n",
    "SELECT *\n",
    "FROM pre_bill_contributions_13;\"\"\", con=conn)\n",
    "pre_bill_contributions_13.info()"
   ]
  },
  {
   "cell_type": "markdown",
   "metadata": {},
   "source": [
    "## Had these megadonors given between Nov. 2 and Dec. 31, 2011?"
   ]
  },
  {
   "cell_type": "markdown",
   "metadata": {},
   "source": [
    "Return contributions by donor and committee."
   ]
  },
  {
   "cell_type": "code",
   "execution_count": 45,
   "metadata": {},
   "outputs": [
    {
     "name": "stdout",
     "output_type": "stream",
     "text": [
      "<class 'pandas.core.frame.DataFrame'>\n",
      "RangeIndex: 169 entries, 0 to 168\n",
      "Data columns (total 6 columns):\n",
      "match_id         169 non-null object\n",
      "organizations    169 non-null object\n",
      "contributors     169 non-null object\n",
      "total            169 non-null float64\n",
      "cmte_id          169 non-null object\n",
      "committee        169 non-null object\n",
      "dtypes: float64(1), object(5)\n",
      "memory usage: 8.0+ KB\n"
     ]
    }
   ],
   "source": [
    "post_bill_donors_committees_11 = pd.read_sql(\"\"\"CREATE TABLE IF NOT EXISTS post_bill_donors_committees_11 AS\n",
    "SELECT match_id,\n",
    "       organizations,\n",
    "       contributors,\n",
    "       sum(committee_total) AS total,\n",
    "       cmte_id,\n",
    "       pacshort AS committee\n",
    "FROM\n",
    "  (SELECT match_id,\n",
    "          organizations,\n",
    "          contributors,\n",
    "          sum(amount) AS committee_total,\n",
    "          cmteid AS cmte_id\n",
    "   FROM\n",
    "     (SELECT CASE\n",
    "                 WHEN trim(contribid) != '' THEN left(contribid, 11)\n",
    "                 ELSE orgname\n",
    "             END AS match_id,\n",
    "             array_agg(DISTINCT orgname) AS organizations,\n",
    "             array_agg(DISTINCT contrib) AS contributors\n",
    "      FROM crp_contributions\n",
    "      LEFT JOIN crp_committees ON crp_contributions.cmteid = crp_committees.cmteid\n",
    "      AND crp_committees.cycle = '2018'\n",
    "      WHERE primcode IN ('J1100',\n",
    "                         'J2200',\n",
    "                         'J2400',\n",
    "                         'Z1100',\n",
    "                         'Z4100',\n",
    "                         'Z4500',\n",
    "                         'Z5100')\n",
    "        AND date >= '2017-11-02'\n",
    "        AND date <= '2017-12-31'\n",
    "        AND crp_contributions.cycle = '2018'\n",
    "        AND TYPE NOT IN ('11J',\n",
    "                         '15C',\n",
    "                         '15E',\n",
    "                         '15I',\n",
    "                         '15J',\n",
    "                         '15T',\n",
    "                         '18J',\n",
    "                         '19J',\n",
    "                         '30J',\n",
    "                         '30F',\n",
    "                         '31J',\n",
    "                         '31F',\n",
    "                         '32J',\n",
    "                         '32F')\n",
    "      GROUP BY match_id\n",
    "      HAVING sum(amount) >= 50000) AS gop_donors\n",
    "   JOIN crp_contributions ON CASE\n",
    "                                 WHEN trim(contribid) != '' THEN left(contribid, 11)\n",
    "                                 ELSE crp_contributions.orgname\n",
    "                             END = gop_donors.match_id\n",
    "   WHERE date >= '2011-11-02'\n",
    "     AND date <= '2011-12-31'\n",
    "     AND CYCLE = '2012'\n",
    "     AND TYPE NOT IN ('11J',\n",
    "                      '15C',\n",
    "                      '15E',\n",
    "                      '15I',\n",
    "                      '15J',\n",
    "                      '15T',\n",
    "                      '18J',\n",
    "                      '19J',\n",
    "                      '30J',\n",
    "                      '30F',\n",
    "                      '31J',\n",
    "                      '31F',\n",
    "                      '32J',\n",
    "                      '32F')\n",
    "   GROUP BY match_id,\n",
    "            organizations,\n",
    "            contributors,\n",
    "            cmte_id) AS donors_committees\n",
    "JOIN crp_committees ON donors_committees.cmte_id = crp_committees.cmteid\n",
    "AND crp_committees.CYCLE = '2012'\n",
    "WHERE primcode IN ('J1100',\n",
    "                   'J2200',\n",
    "                   'J2400',\n",
    "                   'Z1100',\n",
    "                   'Z4100',\n",
    "                   'Z4500',\n",
    "                   'Z5100')\n",
    "GROUP BY match_id,\n",
    "         organizations,\n",
    "         contributors,\n",
    "         cmte_id,\n",
    "         committee;\n",
    "\n",
    "GRANT ALL ON TABLE post_bill_donors_committees_11 TO redash_default;\n",
    "\n",
    "\n",
    "SELECT *\n",
    "FROM post_bill_donors_committees_11;\"\"\", con=conn)\n",
    "post_bill_donors_committees_11.info()"
   ]
  },
  {
   "cell_type": "markdown",
   "metadata": {},
   "source": [
    "Group by donor."
   ]
  },
  {
   "cell_type": "code",
   "execution_count": 46,
   "metadata": {},
   "outputs": [
    {
     "name": "stdout",
     "output_type": "stream",
     "text": [
      "<class 'pandas.core.frame.DataFrame'>\n",
      "RangeIndex: 71 entries, 0 to 70\n",
      "Data columns (total 4 columns):\n",
      "match_id         71 non-null object\n",
      "organizations    71 non-null object\n",
      "contributors     71 non-null object\n",
      "total            71 non-null float64\n",
      "dtypes: float64(1), object(3)\n",
      "memory usage: 2.3+ KB\n"
     ]
    }
   ],
   "source": [
    "post_bill_donors_11 = post_bill_donors_committees_11.groupby([\"match_id\"]).agg({\"organizations\": max, \"contributors\": max, \"total\": sum}).reset_index()\n",
    "post_bill_donors_11.info()"
   ]
  },
  {
   "cell_type": "markdown",
   "metadata": {},
   "source": [
    "## How much did they give?"
   ]
  },
  {
   "cell_type": "code",
   "execution_count": 47,
   "metadata": {},
   "outputs": [
    {
     "data": {
      "text/plain": [
       "3241839.0"
      ]
     },
     "execution_count": 47,
     "metadata": {},
     "output_type": "execute_result"
    }
   ],
   "source": [
    "post_bill_donors_11[\"total\"].sum()"
   ]
  },
  {
   "cell_type": "markdown",
   "metadata": {},
   "source": [
    "## Had these megadonors given previously in 2011?"
   ]
  },
  {
   "cell_type": "markdown",
   "metadata": {},
   "source": [
    "Return contributions by donor and committee."
   ]
  },
  {
   "cell_type": "code",
   "execution_count": 48,
   "metadata": {},
   "outputs": [
    {
     "name": "stdout",
     "output_type": "stream",
     "text": [
      "<class 'pandas.core.frame.DataFrame'>\n",
      "RangeIndex: 611 entries, 0 to 610\n",
      "Data columns (total 6 columns):\n",
      "match_id         611 non-null object\n",
      "organizations    611 non-null object\n",
      "contributors     611 non-null object\n",
      "total            611 non-null float64\n",
      "cmte_id          611 non-null object\n",
      "committee        611 non-null object\n",
      "dtypes: float64(1), object(5)\n",
      "memory usage: 28.7+ KB\n"
     ]
    }
   ],
   "source": [
    "pre_bill_donors_committees_11 = pd.read_sql(\"\"\"CREATE TABLE IF NOT EXISTS pre_bill_donors_committees_11 AS\n",
    "SELECT match_id,\n",
    "       organizations,\n",
    "       contributors,\n",
    "       sum(committee_total) AS total,\n",
    "       cmte_id,\n",
    "       pacshort AS committee\n",
    "FROM\n",
    "  (SELECT match_id,\n",
    "          organizations,\n",
    "          contributors,\n",
    "          sum(amount) AS committee_total,\n",
    "          cmteid AS cmte_id\n",
    "   FROM\n",
    "     (SELECT CASE\n",
    "                 WHEN trim(contribid) != '' THEN left(contribid, 11)\n",
    "                 ELSE orgname\n",
    "             END AS match_id,\n",
    "             array_agg(DISTINCT orgname) AS organizations,\n",
    "             array_agg(DISTINCT contrib) AS contributors\n",
    "      FROM crp_contributions\n",
    "      LEFT JOIN crp_committees ON crp_contributions.cmteid = crp_committees.cmteid\n",
    "      AND crp_committees.cycle = '2018'\n",
    "      WHERE primcode IN ('J1100',\n",
    "                         'J2200',\n",
    "                         'J2400',\n",
    "                         'Z1100',\n",
    "                         'Z4100',\n",
    "                         'Z4500',\n",
    "                         'Z5100')\n",
    "        AND date >= '2017-11-02'\n",
    "        AND date <= '2017-12-31'\n",
    "        AND crp_contributions.cycle = '2018'\n",
    "        AND TYPE NOT IN ('11J',\n",
    "                         '15C',\n",
    "                         '15E',\n",
    "                         '15I',\n",
    "                         '15J',\n",
    "                         '15T',\n",
    "                         '18J',\n",
    "                         '19J',\n",
    "                         '30J',\n",
    "                         '30F',\n",
    "                         '31J',\n",
    "                         '31F',\n",
    "                         '32J',\n",
    "                         '32F')\n",
    "      GROUP BY match_id\n",
    "      HAVING sum(amount) >= 50000) AS gop_donors\n",
    "   JOIN crp_contributions ON CASE\n",
    "                                 WHEN trim(contribid) != '' THEN left(contribid, 11)\n",
    "                                 ELSE crp_contributions.orgname\n",
    "                             END = gop_donors.match_id\n",
    "   WHERE date >= '2011-01-01'\n",
    "     AND date < '2011-11-02'\n",
    "     AND CYCLE = '2012'\n",
    "     AND TYPE NOT IN ('11J',\n",
    "                      '15C',\n",
    "                      '15E',\n",
    "                      '15I',\n",
    "                      '15J',\n",
    "                      '15T',\n",
    "                      '18J',\n",
    "                      '19J',\n",
    "                      '30J',\n",
    "                      '30F',\n",
    "                      '31J',\n",
    "                      '31F',\n",
    "                      '32J',\n",
    "                      '32F')\n",
    "   GROUP BY match_id,\n",
    "            organizations,\n",
    "            contributors,\n",
    "            cmte_id) AS donors_committees\n",
    "JOIN crp_committees ON donors_committees.cmte_id = crp_committees.cmteid\n",
    "AND crp_committees.CYCLE = '2012'\n",
    "WHERE primcode IN ('J1100',\n",
    "                   'J2200',\n",
    "                   'J2400',\n",
    "                   'Z1100',\n",
    "                   'Z4100',\n",
    "                   'Z4500',\n",
    "                   'Z5100')\n",
    "GROUP BY match_id,\n",
    "         organizations,\n",
    "         contributors,\n",
    "         cmte_id,\n",
    "         committee;\n",
    "\n",
    "GRANT ALL ON TABLE pre_bill_donors_committees_11 TO redash_default;\n",
    "\n",
    "\n",
    "SELECT *\n",
    "FROM pre_bill_donors_committees_11;\"\"\", con=conn)\n",
    "pre_bill_donors_committees_11.info()"
   ]
  },
  {
   "cell_type": "markdown",
   "metadata": {},
   "source": [
    "Group by donor."
   ]
  },
  {
   "cell_type": "code",
   "execution_count": 49,
   "metadata": {},
   "outputs": [
    {
     "name": "stdout",
     "output_type": "stream",
     "text": [
      "<class 'pandas.core.frame.DataFrame'>\n",
      "RangeIndex: 103 entries, 0 to 102\n",
      "Data columns (total 4 columns):\n",
      "match_id         103 non-null object\n",
      "organizations    103 non-null object\n",
      "contributors     103 non-null object\n",
      "total            103 non-null float64\n",
      "dtypes: float64(1), object(3)\n",
      "memory usage: 3.3+ KB\n"
     ]
    }
   ],
   "source": [
    "pre_bill_donors_11 = pre_bill_donors_committees_11.groupby([\"match_id\"]).agg({\"organizations\": max, \"contributors\": max, \"total\": sum}).reset_index()\n",
    "pre_bill_donors_11.info()"
   ]
  },
  {
   "cell_type": "markdown",
   "metadata": {},
   "source": [
    "## How much did they give?"
   ]
  },
  {
   "cell_type": "code",
   "execution_count": 50,
   "metadata": {},
   "outputs": [
    {
     "data": {
      "text/plain": [
       "7409350.0"
      ]
     },
     "execution_count": 50,
     "metadata": {},
     "output_type": "execute_result"
    }
   ],
   "source": [
    "pre_bill_donors_11[\"total\"].sum()"
   ]
  },
  {
   "cell_type": "markdown",
   "metadata": {},
   "source": [
    "## How much did these donors give in each period?"
   ]
  },
  {
   "cell_type": "code",
   "execution_count": 51,
   "metadata": {},
   "outputs": [
    {
     "name": "stdout",
     "output_type": "stream",
     "text": [
      "<class 'pandas.core.frame.DataFrame'>\n",
      "Int64Index: 106 entries, 0 to 105\n",
      "Data columns (total 7 columns):\n",
      "match_id                   106 non-null object\n",
      "organizations_post_bill    71 non-null object\n",
      "contributors_post_bill     71 non-null object\n",
      "total_post_bill            106 non-null float64\n",
      "organizations_pre_bill     103 non-null object\n",
      "contributors_pre_bill      103 non-null object\n",
      "total_pre_bill             106 non-null float64\n",
      "dtypes: float64(2), object(5)\n",
      "memory usage: 6.6+ KB\n"
     ]
    }
   ],
   "source": [
    "donors_11 = post_bill_donors_11.merge(pre_bill_donors_11, how=\"outer\", on=\"match_id\", suffixes=[\"_post_bill\", \"_pre_bill\"])\n",
    "donors_11[\"total_pre_bill\"].fillna(0, inplace=True)\n",
    "donors_11[\"total_post_bill\"].fillna(0, inplace=True)\n",
    "donors_11.info()"
   ]
  },
  {
   "cell_type": "code",
   "execution_count": 52,
   "metadata": {},
   "outputs": [
    {
     "data": {
      "text/html": [
       "<div>\n",
       "<style scoped>\n",
       "    .dataframe tbody tr th:only-of-type {\n",
       "        vertical-align: middle;\n",
       "    }\n",
       "\n",
       "    .dataframe tbody tr th {\n",
       "        vertical-align: top;\n",
       "    }\n",
       "\n",
       "    .dataframe thead th {\n",
       "        text-align: right;\n",
       "    }\n",
       "</style>\n",
       "<table border=\"1\" class=\"dataframe\">\n",
       "  <thead>\n",
       "    <tr style=\"text-align: right;\">\n",
       "      <th></th>\n",
       "      <th>match_id</th>\n",
       "      <th>organizations_post_bill</th>\n",
       "      <th>contributors_post_bill</th>\n",
       "      <th>organizations_pre_bill</th>\n",
       "      <th>contributors_pre_bill</th>\n",
       "      <th>total_post_bill</th>\n",
       "      <th>total_pre_bill</th>\n",
       "      <th>pct_post_bill</th>\n",
       "      <th>pct_pre_bill</th>\n",
       "      <th>change</th>\n",
       "      <th>pct_change</th>\n",
       "    </tr>\n",
       "  </thead>\n",
       "  <tbody>\n",
       "    <tr>\n",
       "      <th>0</th>\n",
       "      <td>American Action Network</td>\n",
       "      <td>[American Action Network]</td>\n",
       "      <td>[AMERICAN ACTION NETWORK]</td>\n",
       "      <td>[American Action Network]</td>\n",
       "      <td>[AMERICAN ACTION NETWORK]</td>\n",
       "      <td>7,131.00</td>\n",
       "      <td>4,972.00</td>\n",
       "      <td>0.59</td>\n",
       "      <td>0.41</td>\n",
       "      <td>2,159.00</td>\n",
       "      <td>0.43</td>\n",
       "    </tr>\n",
       "    <tr>\n",
       "      <th>1</th>\n",
       "      <td>Chickasaw Nation</td>\n",
       "      <td>[Chickasaw Nation]</td>\n",
       "      <td>[CHICKASAW NATION, CHICKASAW NATION, THE, NATI...</td>\n",
       "      <td>[Chickasaw Nation]</td>\n",
       "      <td>[CHICKASAW NATION, CHICKASAW NATION, THE, NATI...</td>\n",
       "      <td>23,750.00</td>\n",
       "      <td>270,250.00</td>\n",
       "      <td>0.08</td>\n",
       "      <td>0.92</td>\n",
       "      <td>-246,500.00</td>\n",
       "      <td>-0.91</td>\n",
       "    </tr>\n",
       "    <tr>\n",
       "      <th>2</th>\n",
       "      <td>Republican Governors Assn</td>\n",
       "      <td>[Republican Governors Assn]</td>\n",
       "      <td>[REPUBLICAN GOVERNORS ASSOCIATION]</td>\n",
       "      <td>[Republican Governors Assn]</td>\n",
       "      <td>[REPUBLICAN GOVERNORS ASSOCIATION]</td>\n",
       "      <td>95,000.00</td>\n",
       "      <td>73,605.00</td>\n",
       "      <td>0.56</td>\n",
       "      <td>0.44</td>\n",
       "      <td>21,395.00</td>\n",
       "      <td>0.29</td>\n",
       "    </tr>\n",
       "    <tr>\n",
       "      <th>3</th>\n",
       "      <td>U0000000074</td>\n",
       "      <td>[Hendricks Holding Co]</td>\n",
       "      <td>[HENDRICKS, DIANE M, HENDRICKS, DIANE MS]</td>\n",
       "      <td>[Hendricks Holding Co]</td>\n",
       "      <td>[HENDRICKS, DIANE M, HENDRICKS, DIANE MS]</td>\n",
       "      <td>35,800.00</td>\n",
       "      <td>49,300.00</td>\n",
       "      <td>0.42</td>\n",
       "      <td>0.58</td>\n",
       "      <td>-13,500.00</td>\n",
       "      <td>-0.27</td>\n",
       "    </tr>\n",
       "    <tr>\n",
       "      <th>4</th>\n",
       "      <td>U0000000175</td>\n",
       "      <td>[Stephens Inc]</td>\n",
       "      <td>[STEPHENS, WARREN, STEPHENS, WARREN A MR]</td>\n",
       "      <td>[Stephens Inc]</td>\n",
       "      <td>[STEPHENS, WARREN, STEPHENS, WARREN A MR]</td>\n",
       "      <td>12,500.00</td>\n",
       "      <td>50,000.00</td>\n",
       "      <td>0.20</td>\n",
       "      <td>0.80</td>\n",
       "      <td>-37,500.00</td>\n",
       "      <td>-0.75</td>\n",
       "    </tr>\n",
       "  </tbody>\n",
       "</table>\n",
       "</div>"
      ],
      "text/plain": [
       "                    match_id      organizations_post_bill  \\\n",
       "0    American Action Network    [American Action Network]   \n",
       "1           Chickasaw Nation           [Chickasaw Nation]   \n",
       "2  Republican Governors Assn  [Republican Governors Assn]   \n",
       "3                U0000000074       [Hendricks Holding Co]   \n",
       "4                U0000000175               [Stephens Inc]   \n",
       "\n",
       "                              contributors_post_bill  \\\n",
       "0                          [AMERICAN ACTION NETWORK]   \n",
       "1  [CHICKASAW NATION, CHICKASAW NATION, THE, NATI...   \n",
       "2                 [REPUBLICAN GOVERNORS ASSOCIATION]   \n",
       "3          [HENDRICKS, DIANE M, HENDRICKS, DIANE MS]   \n",
       "4          [STEPHENS, WARREN, STEPHENS, WARREN A MR]   \n",
       "\n",
       "        organizations_pre_bill  \\\n",
       "0    [American Action Network]   \n",
       "1           [Chickasaw Nation]   \n",
       "2  [Republican Governors Assn]   \n",
       "3       [Hendricks Holding Co]   \n",
       "4               [Stephens Inc]   \n",
       "\n",
       "                               contributors_pre_bill  total_post_bill  \\\n",
       "0                          [AMERICAN ACTION NETWORK]         7,131.00   \n",
       "1  [CHICKASAW NATION, CHICKASAW NATION, THE, NATI...        23,750.00   \n",
       "2                 [REPUBLICAN GOVERNORS ASSOCIATION]        95,000.00   \n",
       "3          [HENDRICKS, DIANE M, HENDRICKS, DIANE MS]        35,800.00   \n",
       "4          [STEPHENS, WARREN, STEPHENS, WARREN A MR]        12,500.00   \n",
       "\n",
       "   total_pre_bill  pct_post_bill  pct_pre_bill      change  pct_change  \n",
       "0        4,972.00           0.59          0.41    2,159.00        0.43  \n",
       "1      270,250.00           0.08          0.92 -246,500.00       -0.91  \n",
       "2       73,605.00           0.56          0.44   21,395.00        0.29  \n",
       "3       49,300.00           0.42          0.58  -13,500.00       -0.27  \n",
       "4       50,000.00           0.20          0.80  -37,500.00       -0.75  "
      ]
     },
     "execution_count": 52,
     "metadata": {},
     "output_type": "execute_result"
    }
   ],
   "source": [
    "donors_11[\"pct_post_bill\"] = donors_11[\"total_post_bill\"] / (donors_11[\"total_pre_bill\"] + donors_11[\"total_post_bill\"])\n",
    "donors_11[\"pct_pre_bill\"] = donors_11[\"total_pre_bill\"] / (donors_11[\"total_pre_bill\"] + donors_11[\"total_post_bill\"])\n",
    "donors_11[\"change\"] = donors_11[\"total_post_bill\"] - donors_11[\"total_pre_bill\"]\n",
    "donors_11[\"pct_change\"] = (donors_11[\"total_post_bill\"] - donors_11[\"total_pre_bill\"]) / donors_11[\"total_pre_bill\"].abs()\n",
    "donors_11 = donors_11[[\"match_id\", \"organizations_post_bill\", \"contributors_post_bill\",\n",
    "                       \"organizations_pre_bill\", \"contributors_pre_bill\", \"total_post_bill\",\n",
    "                       \"total_pre_bill\", \"pct_post_bill\", \"pct_pre_bill\", \"change\", \"pct_change\"]]\n",
    "donors_11.head()"
   ]
  },
  {
   "cell_type": "markdown",
   "metadata": {},
   "source": [
    "## And did their giving patterns change between the cycles?"
   ]
  },
  {
   "cell_type": "code",
   "execution_count": 53,
   "metadata": {},
   "outputs": [
    {
     "name": "stdout",
     "output_type": "stream",
     "text": [
      "<class 'pandas.core.frame.DataFrame'>\n",
      "Int64Index: 158 entries, 0 to 157\n",
      "Data columns (total 11 columns):\n",
      "match_id              158 non-null object\n",
      "contributors          158 non-null object\n",
      "organizations         158 non-null object\n",
      "total_pre_bill_11     106 non-null float64\n",
      "total_post_bill_11    106 non-null float64\n",
      "pct_pre_bill_11       106 non-null float64\n",
      "pct_post_bill_11      106 non-null float64\n",
      "total_pre_bill_17     158 non-null float64\n",
      "total_post_bill_17    158 non-null float64\n",
      "pct_pre_bill_17       158 non-null float64\n",
      "pct_post_bill_17      158 non-null float64\n",
      "dtypes: float64(8), object(3)\n",
      "memory usage: 14.8+ KB\n"
     ]
    }
   ],
   "source": [
    "donors_11_17 = donors_17.merge(donors_11, how=\"outer\", on=\"match_id\", suffixes=[\"_17\", \"_11\"])\n",
    "donors_11_17.drop([\"change_17\", \"pct_change_17\", \"organizations_post_bill\", \"contributors_post_bill\",\n",
    "             \"organizations_pre_bill\", \"contributors_pre_bill\", \"change_11\", \"pct_change_11\"],\n",
    "            axis=1, inplace=True)\n",
    "donors_11_17.rename(columns={\"organizations_17\": \"organizations\", \"contributors_17\": \"contributors\"})\n",
    "donors_11_17 = donors_11_17[[\"match_id\", \"contributors\", \"organizations\", \"total_pre_bill_11\", \"total_post_bill_11\",\n",
    "                 \"pct_pre_bill_11\", \"pct_post_bill_11\", \"total_pre_bill_17\", \"total_post_bill_17\",\n",
    "                 \"pct_pre_bill_17\", \"pct_post_bill_17\"]]\n",
    "donors_11_17.info()"
   ]
  },
  {
   "cell_type": "code",
   "execution_count": 54,
   "metadata": {},
   "outputs": [
    {
     "data": {
      "text/html": [
       "<div>\n",
       "<style scoped>\n",
       "    .dataframe tbody tr th:only-of-type {\n",
       "        vertical-align: middle;\n",
       "    }\n",
       "\n",
       "    .dataframe tbody tr th {\n",
       "        vertical-align: top;\n",
       "    }\n",
       "\n",
       "    .dataframe thead th {\n",
       "        text-align: right;\n",
       "    }\n",
       "</style>\n",
       "<table border=\"1\" class=\"dataframe\">\n",
       "  <thead>\n",
       "    <tr style=\"text-align: right;\">\n",
       "      <th></th>\n",
       "      <th>match_id</th>\n",
       "      <th>contributors</th>\n",
       "      <th>organizations</th>\n",
       "      <th>total_pre_bill_11</th>\n",
       "      <th>total_post_bill_11</th>\n",
       "      <th>pct_pre_bill_11</th>\n",
       "      <th>pct_post_bill_11</th>\n",
       "      <th>total_pre_bill_17</th>\n",
       "      <th>total_post_bill_17</th>\n",
       "      <th>pct_pre_bill_17</th>\n",
       "      <th>pct_post_bill_17</th>\n",
       "      <th>giving_change</th>\n",
       "    </tr>\n",
       "  </thead>\n",
       "  <tbody>\n",
       "    <tr>\n",
       "      <th>0</th>\n",
       "      <td>Air Line Pilots Assn</td>\n",
       "      <td>[AIR LINE PILOTS ASSOC INT'L   POLITICAL ACTIO...</td>\n",
       "      <td>[Air Line Pilots Assn]</td>\n",
       "      <td>2,500.00</td>\n",
       "      <td>0.00</td>\n",
       "      <td>1.00</td>\n",
       "      <td>0.00</td>\n",
       "      <td>100,000.00</td>\n",
       "      <td>150,000.00</td>\n",
       "      <td>0.40</td>\n",
       "      <td>0.60</td>\n",
       "      <td>Increased</td>\n",
       "    </tr>\n",
       "  </tbody>\n",
       "</table>\n",
       "</div>"
      ],
      "text/plain": [
       "               match_id                                       contributors  \\\n",
       "0  Air Line Pilots Assn  [AIR LINE PILOTS ASSOC INT'L   POLITICAL ACTIO...   \n",
       "\n",
       "            organizations  total_pre_bill_11  total_post_bill_11  \\\n",
       "0  [Air Line Pilots Assn]           2,500.00                0.00   \n",
       "\n",
       "   pct_pre_bill_11  pct_post_bill_11  total_pre_bill_17  total_post_bill_17  \\\n",
       "0             1.00              0.00         100,000.00          150,000.00   \n",
       "\n",
       "   pct_pre_bill_17  pct_post_bill_17 giving_change  \n",
       "0             0.40              0.60     Increased  "
      ]
     },
     "execution_count": 54,
     "metadata": {},
     "output_type": "execute_result"
    }
   ],
   "source": [
    "donors_11_17[\"giving_change\"] = np.where((donors_11_17[\"pct_post_bill_17\"] > donors_11_17[\"pct_post_bill_11\"]) | (donors_11_17[\"pct_pre_bill_11\"].isnull()), \"Increased\",\n",
    "                                  np.where(donors_11_17[\"pct_post_bill_17\"] < donors_11_17[\"pct_post_bill_11\"], \"Decreased\",\n",
    "                                           np.where(donors_11_17[\"pct_post_bill_17\"] == donors_11_17[\"pct_post_bill_11\"], \"Stayed the same\",\n",
    "                                                   \"Other\")))\n",
    "donors_11_17.head(1)"
   ]
  },
  {
   "cell_type": "markdown",
   "metadata": {},
   "source": [
    "## What proportion of donors increased the share of their annual giving that fell in the last two months of 2017 as compared with the same period in 2011?"
   ]
  },
  {
   "cell_type": "code",
   "execution_count": 55,
   "metadata": {},
   "outputs": [
    {
     "data": {
      "text/plain": [
       "match_id             0.85\n",
       "contributors         0.85\n",
       "organizations        0.85\n",
       "total_pre_bill_11    0.77\n",
       "total_post_bill_11   0.77\n",
       "pct_pre_bill_11      0.77\n",
       "pct_post_bill_11     0.77\n",
       "total_pre_bill_17    0.85\n",
       "total_post_bill_17   0.85\n",
       "pct_pre_bill_17      0.85\n",
       "pct_post_bill_17     0.85\n",
       "giving_change        0.85\n",
       "dtype: float64"
      ]
     },
     "execution_count": 55,
     "metadata": {},
     "output_type": "execute_result"
    }
   ],
   "source": [
    "donors_11_17[donors_11_17[\"giving_change\"] == \"Increased\"].count() / donors_11_17.count()"
   ]
  },
  {
   "cell_type": "markdown",
   "metadata": {},
   "source": [
    "## And by how much did these individuals' giving increase?"
   ]
  },
  {
   "cell_type": "code",
   "execution_count": 56,
   "metadata": {},
   "outputs": [
    {
     "data": {
      "text/plain": [
       "24904443.0"
      ]
     },
     "execution_count": 56,
     "metadata": {},
     "output_type": "execute_result"
    }
   ],
   "source": [
    "donors_11_17[donors_11_17[\"giving_change\"] == \"Increased\"][\"total_post_bill_17\"].sum()"
   ]
  },
  {
   "cell_type": "code",
   "execution_count": 57,
   "metadata": {},
   "outputs": [
    {
     "data": {
      "text/plain": [
       "613592.0"
      ]
     },
     "execution_count": 57,
     "metadata": {},
     "output_type": "execute_result"
    }
   ],
   "source": [
    "donors_11_17[donors_11_17[\"giving_change\"] == \"Increased\"][\"total_post_bill_11\"].sum()"
   ]
  },
  {
   "cell_type": "code",
   "execution_count": 58,
   "metadata": {},
   "outputs": [
    {
     "data": {
      "text/plain": [
       "24290851.0"
      ]
     },
     "execution_count": 58,
     "metadata": {},
     "output_type": "execute_result"
    }
   ],
   "source": [
    "donors_11_17[donors_11_17[\"giving_change\"] == \"Increased\"][\"total_post_bill_17\"].sum() - donors_11_17[donors_11_17[\"giving_change\"] == \"Increased\"][\"total_post_bill_11\"].sum()"
   ]
  },
  {
   "cell_type": "markdown",
   "metadata": {},
   "source": [
    "# What does this giving look like on a contribution-by-contribution level during the equivalent post-bill introduction period in 2011?"
   ]
  },
  {
   "cell_type": "code",
   "execution_count": 59,
   "metadata": {},
   "outputs": [
    {
     "name": "stdout",
     "output_type": "stream",
     "text": [
      "<class 'pandas.core.frame.DataFrame'>\n",
      "RangeIndex: 270 entries, 0 to 269\n",
      "Data columns (total 8 columns):\n",
      "fectransid      270 non-null object\n",
      "match_id        270 non-null object\n",
      "organization    268 non-null object\n",
      "contributor     270 non-null object\n",
      "date            270 non-null object\n",
      "sum             270 non-null float64\n",
      "cmte_id         270 non-null object\n",
      "committee       270 non-null object\n",
      "dtypes: float64(1), object(7)\n",
      "memory usage: 17.0+ KB\n"
     ]
    }
   ],
   "source": [
    "post_bill_contributions_11 = pd.read_sql(\"\"\"CREATE TABLE IF NOT EXISTS post_bill_contributions_11 AS\n",
    "SELECT fectransid,\n",
    "       match_id,\n",
    "       organization,\n",
    "       contributor, date, sum(SUM),\n",
    "                          cmte_id,\n",
    "                          pacshort AS committee\n",
    "FROM\n",
    "  (SELECT fectransid,\n",
    "          match_id,\n",
    "          orgname AS organization,\n",
    "          contrib AS contributor, date, sum(amount),\n",
    "                                        cmteid AS cmte_id\n",
    "   FROM\n",
    "     (SELECT CASE\n",
    "                 WHEN trim(contribid) != '' THEN left(contribid, 11)\n",
    "                 ELSE orgname\n",
    "             END AS match_id\n",
    "      FROM crp_contributions\n",
    "      LEFT JOIN crp_committees ON crp_contributions.cmteid = crp_committees.cmteid\n",
    "      AND crp_committees.cycle = '2018'\n",
    "      WHERE primcode IN ('J1100',\n",
    "                         'J2200',\n",
    "                         'J2400',\n",
    "                         'Z1100',\n",
    "                         'Z4100',\n",
    "                         'Z4500',\n",
    "                         'Z5100')\n",
    "        AND date >= '2017-11-02'\n",
    "        AND date <= '2017-12-31'\n",
    "        AND crp_contributions.cycle = '2018'\n",
    "        AND TYPE NOT IN ('11J',\n",
    "                         '15C',\n",
    "                         '15E',\n",
    "                         '15I',\n",
    "                         '15J',\n",
    "                         '15T',\n",
    "                         '18J',\n",
    "                         '19J',\n",
    "                         '30J',\n",
    "                         '30F',\n",
    "                         '31J',\n",
    "                         '31F',\n",
    "                         '32J',\n",
    "                         '32F')\n",
    "      GROUP BY match_id\n",
    "      HAVING sum(amount) >= 50000) AS gop_donors\n",
    "   JOIN crp_contributions ON CASE\n",
    "                                 WHEN trim(contribid) != '' THEN left(contribid, 11)\n",
    "                                 ELSE crp_contributions.orgname\n",
    "                             END = gop_donors.match_id\n",
    "   WHERE date >= '2011-11-02'\n",
    "     AND date <= '2011-12-31'\n",
    "     AND CYCLE = '2012'\n",
    "     AND TYPE NOT IN ('11J',\n",
    "                      '15C',\n",
    "                      '15E',\n",
    "                      '15I',\n",
    "                      '15J',\n",
    "                      '15T',\n",
    "                      '18J',\n",
    "                      '19J',\n",
    "                      '30J',\n",
    "                      '30F',\n",
    "                      '31J',\n",
    "                      '31F',\n",
    "                      '32J',\n",
    "                      '32F')\n",
    "   GROUP BY fectransid,\n",
    "            match_id,\n",
    "            organization,\n",
    "            contributor, date, cmte_id) AS donors_committees\n",
    "JOIN crp_committees ON donors_committees.cmte_id = crp_committees.cmteid\n",
    "AND crp_committees.CYCLE = '2012'\n",
    "WHERE primcode IN ('J1100',\n",
    "                   'J2200',\n",
    "                   'J2400',\n",
    "                   'Z1100',\n",
    "                   'Z4100',\n",
    "                   'Z4500',\n",
    "                   'Z5100')\n",
    "GROUP BY fectransid,\n",
    "         match_id,\n",
    "         organization,\n",
    "         contributor, date, cmte_id,\n",
    "                            committee;\n",
    "\n",
    "GRANT ALL ON TABLE post_bill_contributions_11 TO redash_default;\n",
    "\n",
    "\n",
    "SELECT *\n",
    "FROM post_bill_contributions_11;\"\"\", con=conn)\n",
    "post_bill_contributions_11.info()"
   ]
  },
  {
   "cell_type": "code",
   "execution_count": 60,
   "metadata": {},
   "outputs": [
    {
     "name": "stdout",
     "output_type": "stream",
     "text": [
      "<class 'pandas.core.frame.DataFrame'>\n",
      "RangeIndex: 1047 entries, 0 to 1046\n",
      "Data columns (total 8 columns):\n",
      "fectransid      1047 non-null object\n",
      "match_id        1047 non-null object\n",
      "organization    1036 non-null object\n",
      "contributor     1047 non-null object\n",
      "date            1047 non-null object\n",
      "sum             1047 non-null float64\n",
      "cmte_id         1047 non-null object\n",
      "committee       1047 non-null object\n",
      "dtypes: float64(1), object(7)\n",
      "memory usage: 65.5+ KB\n"
     ]
    }
   ],
   "source": [
    "pre_bill_contributions_11 = pd.read_sql(\"\"\"CREATE TABLE IF NOT EXISTS pre_bill_contributions_11 AS\n",
    "SELECT fectransid,\n",
    "       match_id,\n",
    "       organization,\n",
    "       contributor, date, sum(SUM),\n",
    "                          cmte_id,\n",
    "                          pacshort AS committee\n",
    "FROM\n",
    "  (SELECT fectransid,\n",
    "          match_id,\n",
    "          orgname AS organization,\n",
    "          contrib AS contributor, date, sum(amount),\n",
    "                                        cmteid AS cmte_id\n",
    "   FROM\n",
    "     (SELECT CASE\n",
    "                 WHEN trim(contribid) != '' THEN left(contribid, 11)\n",
    "                 ELSE orgname\n",
    "             END AS match_id\n",
    "      FROM crp_contributions\n",
    "      LEFT JOIN crp_committees ON crp_contributions.cmteid = crp_committees.cmteid\n",
    "      AND crp_committees.cycle = '2018'\n",
    "      WHERE primcode IN ('J1100',\n",
    "                         'J2200',\n",
    "                         'J2400',\n",
    "                         'Z1100',\n",
    "                         'Z4100',\n",
    "                         'Z4500',\n",
    "                         'Z5100')\n",
    "        AND date >= '2017-11-02'\n",
    "        AND date <= '2017-12-31'\n",
    "        AND crp_contributions.cycle = '2018'\n",
    "        AND TYPE NOT IN ('11J',\n",
    "                         '15C',\n",
    "                         '15E',\n",
    "                         '15I',\n",
    "                         '15J',\n",
    "                         '15T',\n",
    "                         '18J',\n",
    "                         '19J',\n",
    "                         '30J',\n",
    "                         '30F',\n",
    "                         '31J',\n",
    "                         '31F',\n",
    "                         '32J',\n",
    "                         '32F')\n",
    "      GROUP BY match_id\n",
    "      HAVING sum(amount) >= 50000) AS gop_donors\n",
    "   JOIN crp_contributions ON CASE\n",
    "                                 WHEN trim(contribid) != '' THEN left(contribid, 11)\n",
    "                                 ELSE crp_contributions.orgname\n",
    "                             END = gop_donors.match_id\n",
    "   WHERE date >= '2011-01-01'\n",
    "     AND date < '2011-11-02'\n",
    "     AND CYCLE = '2012'\n",
    "     AND TYPE NOT IN ('11J',\n",
    "                      '15C',\n",
    "                      '15E',\n",
    "                      '15I',\n",
    "                      '15J',\n",
    "                      '15T',\n",
    "                      '18J',\n",
    "                      '19J',\n",
    "                      '30J',\n",
    "                      '30F',\n",
    "                      '31J',\n",
    "                      '31F',\n",
    "                      '32J',\n",
    "                      '32F')\n",
    "   GROUP BY fectransid,\n",
    "            match_id,\n",
    "            organization,\n",
    "            contributor, date, cmte_id) AS donors_committees\n",
    "JOIN crp_committees ON donors_committees.cmte_id = crp_committees.cmteid\n",
    "AND crp_committees.CYCLE = '2012'\n",
    "WHERE primcode IN ('J1100',\n",
    "                   'J2200',\n",
    "                   'J2400',\n",
    "                   'Z1100',\n",
    "                   'Z4100',\n",
    "                   'Z4500',\n",
    "                   'Z5100')\n",
    "GROUP BY fectransid,\n",
    "         match_id,\n",
    "         organization,\n",
    "         contributor, date, cmte_id,\n",
    "                            committee;\n",
    "\n",
    "GRANT ALL ON TABLE pre_bill_contributions_11 TO redash_default;\n",
    "\n",
    "\n",
    "SELECT *\n",
    "FROM pre_bill_contributions_11;\"\"\", con=conn)\n",
    "pre_bill_contributions_11.info()"
   ]
  },
  {
   "cell_type": "markdown",
   "metadata": {},
   "source": [
    "## Had these megadonors given between Nov. 2 and Dec. 31, 2009?"
   ]
  },
  {
   "cell_type": "markdown",
   "metadata": {},
   "source": [
    "Return contributions by donor and committee."
   ]
  },
  {
   "cell_type": "code",
   "execution_count": 61,
   "metadata": {},
   "outputs": [
    {
     "name": "stdout",
     "output_type": "stream",
     "text": [
      "<class 'pandas.core.frame.DataFrame'>\n",
      "RangeIndex: 120 entries, 0 to 119\n",
      "Data columns (total 6 columns):\n",
      "match_id         120 non-null object\n",
      "organizations    120 non-null object\n",
      "contributors     120 non-null object\n",
      "total            120 non-null float64\n",
      "cmte_id          120 non-null object\n",
      "committee        120 non-null object\n",
      "dtypes: float64(1), object(5)\n",
      "memory usage: 5.7+ KB\n"
     ]
    }
   ],
   "source": [
    "post_bill_donors_committees_09 = pd.read_sql(\"\"\"CREATE TABLE IF NOT EXISTS post_bill_donors_committees_09 AS\n",
    "SELECT match_id,\n",
    "       organizations,\n",
    "       contributors,\n",
    "       sum(committee_total) AS total,\n",
    "       cmte_id,\n",
    "       pacshort AS committee\n",
    "FROM\n",
    "  (SELECT match_id,\n",
    "          organizations,\n",
    "          contributors,\n",
    "          sum(amount) AS committee_total,\n",
    "          cmteid AS cmte_id\n",
    "   FROM\n",
    "     (SELECT CASE\n",
    "                 WHEN trim(contribid) != '' THEN left(contribid, 11)\n",
    "                 ELSE orgname\n",
    "             END AS match_id,\n",
    "             array_agg(DISTINCT orgname) AS organizations,\n",
    "             array_agg(DISTINCT contrib) AS contributors\n",
    "      FROM crp_contributions\n",
    "      LEFT JOIN crp_committees ON crp_contributions.cmteid = crp_committees.cmteid\n",
    "      AND crp_committees.cycle = '2018'\n",
    "      WHERE primcode IN ('J1100',\n",
    "                         'J2200',\n",
    "                         'J2400',\n",
    "                         'Z1100',\n",
    "                         'Z4100',\n",
    "                         'Z4500',\n",
    "                         'Z5100')\n",
    "        AND date >= '2017-11-02'\n",
    "        AND date <= '2017-12-31'\n",
    "        AND crp_contributions.cycle = '2018'\n",
    "        AND TYPE NOT IN ('11J',\n",
    "                         '15C',\n",
    "                         '15E',\n",
    "                         '15I',\n",
    "                         '15J',\n",
    "                         '15T',\n",
    "                         '18J',\n",
    "                         '19J',\n",
    "                         '30J',\n",
    "                         '30F',\n",
    "                         '31J',\n",
    "                         '31F',\n",
    "                         '32J',\n",
    "                         '32F')\n",
    "      GROUP BY match_id\n",
    "      HAVING sum(amount) >= 50000) AS gop_donors\n",
    "   JOIN crp_contributions ON CASE\n",
    "                                 WHEN trim(contribid) != '' THEN left(contribid, 11)\n",
    "                                 ELSE crp_contributions.orgname\n",
    "                             END = gop_donors.match_id\n",
    "   WHERE date >= '2009-11-02'\n",
    "     AND date <= '2009-12-31'\n",
    "     AND CYCLE = '2010'\n",
    "     AND TYPE NOT IN ('11J',\n",
    "                      '15C',\n",
    "                      '15E',\n",
    "                      '15I',\n",
    "                      '15J',\n",
    "                      '15T',\n",
    "                      '18J',\n",
    "                      '19J',\n",
    "                      '30J',\n",
    "                      '30F',\n",
    "                      '31J',\n",
    "                      '31F',\n",
    "                      '32J',\n",
    "                      '32F')\n",
    "   GROUP BY match_id,\n",
    "            organizations,\n",
    "            contributors,\n",
    "            cmte_id) AS donors_committees\n",
    "JOIN crp_committees ON donors_committees.cmte_id = crp_committees.cmteid\n",
    "AND crp_committees.CYCLE = '2010'\n",
    "WHERE primcode IN ('J1100',\n",
    "                   'J2200',\n",
    "                   'J2400',\n",
    "                   'Z1100',\n",
    "                   'Z4100',\n",
    "                   'Z4500',\n",
    "                   'Z5100')\n",
    "GROUP BY match_id,\n",
    "         organizations,\n",
    "         contributors,\n",
    "         cmte_id,\n",
    "         committee;\n",
    "\n",
    "GRANT ALL ON TABLE post_bill_donors_committees_09 TO redash_default;\n",
    "\n",
    "\n",
    "SELECT *\n",
    "FROM post_bill_donors_committees_09;\"\"\", con=conn)\n",
    "post_bill_donors_committees_09.info()"
   ]
  },
  {
   "cell_type": "markdown",
   "metadata": {},
   "source": [
    "Group by donor."
   ]
  },
  {
   "cell_type": "code",
   "execution_count": 62,
   "metadata": {},
   "outputs": [
    {
     "name": "stdout",
     "output_type": "stream",
     "text": [
      "<class 'pandas.core.frame.DataFrame'>\n",
      "RangeIndex: 50 entries, 0 to 49\n",
      "Data columns (total 4 columns):\n",
      "match_id         50 non-null object\n",
      "organizations    50 non-null object\n",
      "contributors     50 non-null object\n",
      "total            50 non-null float64\n",
      "dtypes: float64(1), object(3)\n",
      "memory usage: 1.6+ KB\n"
     ]
    }
   ],
   "source": [
    "post_bill_donors_09 = post_bill_donors_committees_09.groupby([\"match_id\"]).agg({\"organizations\": max, \"contributors\": max, \"total\": sum}).reset_index()\n",
    "post_bill_donors_09.info()"
   ]
  },
  {
   "cell_type": "markdown",
   "metadata": {},
   "source": [
    "## How much did they give?"
   ]
  },
  {
   "cell_type": "code",
   "execution_count": 63,
   "metadata": {},
   "outputs": [
    {
     "data": {
      "text/plain": [
       "671846.0"
      ]
     },
     "execution_count": 63,
     "metadata": {},
     "output_type": "execute_result"
    }
   ],
   "source": [
    "post_bill_donors_09[\"total\"].sum()"
   ]
  },
  {
   "cell_type": "markdown",
   "metadata": {},
   "source": [
    "## Had these megadonors given previously in 2009?"
   ]
  },
  {
   "cell_type": "markdown",
   "metadata": {},
   "source": [
    "Return contributions by donor and committee."
   ]
  },
  {
   "cell_type": "code",
   "execution_count": 64,
   "metadata": {},
   "outputs": [
    {
     "name": "stdout",
     "output_type": "stream",
     "text": [
      "<class 'pandas.core.frame.DataFrame'>\n",
      "RangeIndex: 325 entries, 0 to 324\n",
      "Data columns (total 6 columns):\n",
      "match_id         325 non-null object\n",
      "organizations    325 non-null object\n",
      "contributors     325 non-null object\n",
      "total            325 non-null float64\n",
      "cmte_id          325 non-null object\n",
      "committee        325 non-null object\n",
      "dtypes: float64(1), object(5)\n",
      "memory usage: 15.3+ KB\n"
     ]
    }
   ],
   "source": [
    "pre_bill_donors_committees_09 = pd.read_sql(\"\"\"CREATE TABLE IF NOT EXISTS pre_bill_donors_committees_09 AS\n",
    "SELECT match_id,\n",
    "       organizations,\n",
    "       contributors,\n",
    "       sum(committee_total) AS total,\n",
    "       cmte_id,\n",
    "       pacshort AS committee\n",
    "FROM\n",
    "  (SELECT match_id,\n",
    "          organizations,\n",
    "          contributors,\n",
    "          sum(amount) AS committee_total,\n",
    "          cmteid AS cmte_id\n",
    "   FROM\n",
    "     (SELECT CASE\n",
    "                 WHEN trim(contribid) != '' THEN left(contribid, 11)\n",
    "                 ELSE orgname\n",
    "             END AS match_id,\n",
    "             array_agg(DISTINCT orgname) AS organizations,\n",
    "             array_agg(DISTINCT contrib) AS contributors\n",
    "      FROM crp_contributions\n",
    "      LEFT JOIN crp_committees ON crp_contributions.cmteid = crp_committees.cmteid\n",
    "      AND crp_committees.cycle = '2018'\n",
    "      WHERE primcode IN ('J1100',\n",
    "                         'J2200',\n",
    "                         'J2400',\n",
    "                         'Z1100',\n",
    "                         'Z4100',\n",
    "                         'Z4500',\n",
    "                         'Z5100')\n",
    "        AND date >= '2017-11-02'\n",
    "        AND date <= '2017-12-31'\n",
    "        AND crp_contributions.cycle = '2018'\n",
    "        AND TYPE NOT IN ('11J',\n",
    "                         '15C',\n",
    "                         '15E',\n",
    "                         '15I',\n",
    "                         '15J',\n",
    "                         '15T',\n",
    "                         '18J',\n",
    "                         '19J',\n",
    "                         '30J',\n",
    "                         '30F',\n",
    "                         '31J',\n",
    "                         '31F',\n",
    "                         '32J',\n",
    "                         '32F')\n",
    "      GROUP BY match_id\n",
    "      HAVING sum(amount) >= 50000) AS gop_donors\n",
    "   JOIN crp_contributions ON CASE\n",
    "                                 WHEN trim(contribid) != '' THEN left(contribid, 11)\n",
    "                                 ELSE crp_contributions.orgname\n",
    "                             END = gop_donors.match_id\n",
    "   WHERE date >= '2009-01-01'\n",
    "     AND date < '2009-11-02'\n",
    "     AND CYCLE = '2010'\n",
    "     AND TYPE NOT IN ('11J',\n",
    "                      '15C',\n",
    "                      '15E',\n",
    "                      '15I',\n",
    "                      '15J',\n",
    "                      '15T',\n",
    "                      '18J',\n",
    "                      '19J',\n",
    "                      '30J',\n",
    "                      '30F',\n",
    "                      '31J',\n",
    "                      '31F',\n",
    "                      '32J',\n",
    "                      '32F')\n",
    "   GROUP BY match_id,\n",
    "            organizations,\n",
    "            contributors,\n",
    "            cmte_id) AS donors_committees\n",
    "JOIN crp_committees ON donors_committees.cmte_id = crp_committees.cmteid\n",
    "AND crp_committees.CYCLE = '2010'\n",
    "WHERE primcode IN ('J1100',\n",
    "                   'J2200',\n",
    "                   'J2400',\n",
    "                   'Z1100',\n",
    "                   'Z4100',\n",
    "                   'Z4500',\n",
    "                   'Z5100')\n",
    "GROUP BY match_id,\n",
    "         organizations,\n",
    "         contributors,\n",
    "         cmte_id,\n",
    "         committee;\n",
    "\n",
    "GRANT ALL ON TABLE pre_bill_donors_committees_09 TO redash_default;\n",
    "\n",
    "\n",
    "SELECT *\n",
    "FROM pre_bill_donors_committees_09;\"\"\", con=conn)\n",
    "pre_bill_donors_committees_09.info()"
   ]
  },
  {
   "cell_type": "markdown",
   "metadata": {},
   "source": [
    "Group by donor."
   ]
  },
  {
   "cell_type": "code",
   "execution_count": 65,
   "metadata": {},
   "outputs": [
    {
     "name": "stdout",
     "output_type": "stream",
     "text": [
      "<class 'pandas.core.frame.DataFrame'>\n",
      "RangeIndex: 81 entries, 0 to 80\n",
      "Data columns (total 4 columns):\n",
      "match_id         81 non-null object\n",
      "organizations    81 non-null object\n",
      "contributors     81 non-null object\n",
      "total            81 non-null float64\n",
      "dtypes: float64(1), object(3)\n",
      "memory usage: 2.6+ KB\n"
     ]
    }
   ],
   "source": [
    "pre_bill_donors_09 = pre_bill_donors_committees_09.groupby([\"match_id\"]).agg({\"organizations\": max, \"contributors\": max, \"total\": sum}).reset_index()\n",
    "pre_bill_donors_09.info()"
   ]
  },
  {
   "cell_type": "markdown",
   "metadata": {},
   "source": [
    "## How much did they give?"
   ]
  },
  {
   "cell_type": "code",
   "execution_count": 66,
   "metadata": {},
   "outputs": [
    {
     "data": {
      "text/plain": [
       "1949651.0"
      ]
     },
     "execution_count": 66,
     "metadata": {},
     "output_type": "execute_result"
    }
   ],
   "source": [
    "pre_bill_donors_09[\"total\"].sum()"
   ]
  },
  {
   "cell_type": "markdown",
   "metadata": {},
   "source": [
    "## How much did these donors give in each period?"
   ]
  },
  {
   "cell_type": "code",
   "execution_count": 67,
   "metadata": {},
   "outputs": [
    {
     "name": "stdout",
     "output_type": "stream",
     "text": [
      "<class 'pandas.core.frame.DataFrame'>\n",
      "Int64Index: 88 entries, 0 to 87\n",
      "Data columns (total 7 columns):\n",
      "match_id                   88 non-null object\n",
      "organizations_post_bill    50 non-null object\n",
      "contributors_post_bill     50 non-null object\n",
      "total_post_bill            88 non-null float64\n",
      "organizations_pre_bill     81 non-null object\n",
      "contributors_pre_bill      81 non-null object\n",
      "total_pre_bill             88 non-null float64\n",
      "dtypes: float64(2), object(5)\n",
      "memory usage: 5.5+ KB\n"
     ]
    }
   ],
   "source": [
    "donors_09 = post_bill_donors_09.merge(pre_bill_donors_09, how=\"outer\", on=\"match_id\", suffixes=[\"_post_bill\", \"_pre_bill\"])\n",
    "donors_09[\"total_pre_bill\"].fillna(0, inplace=True)\n",
    "donors_09[\"total_post_bill\"].fillna(0, inplace=True)\n",
    "donors_09.info()"
   ]
  },
  {
   "cell_type": "code",
   "execution_count": 68,
   "metadata": {},
   "outputs": [
    {
     "data": {
      "text/html": [
       "<div>\n",
       "<style scoped>\n",
       "    .dataframe tbody tr th:only-of-type {\n",
       "        vertical-align: middle;\n",
       "    }\n",
       "\n",
       "    .dataframe tbody tr th {\n",
       "        vertical-align: top;\n",
       "    }\n",
       "\n",
       "    .dataframe thead th {\n",
       "        text-align: right;\n",
       "    }\n",
       "</style>\n",
       "<table border=\"1\" class=\"dataframe\">\n",
       "  <thead>\n",
       "    <tr style=\"text-align: right;\">\n",
       "      <th></th>\n",
       "      <th>match_id</th>\n",
       "      <th>organizations_post_bill</th>\n",
       "      <th>contributors_post_bill</th>\n",
       "      <th>organizations_pre_bill</th>\n",
       "      <th>contributors_pre_bill</th>\n",
       "      <th>total_post_bill</th>\n",
       "      <th>total_pre_bill</th>\n",
       "      <th>pct_post_bill</th>\n",
       "      <th>pct_pre_bill</th>\n",
       "      <th>change</th>\n",
       "      <th>pct_change</th>\n",
       "    </tr>\n",
       "  </thead>\n",
       "  <tbody>\n",
       "    <tr>\n",
       "      <th>0</th>\n",
       "      <td>Chickasaw Nation</td>\n",
       "      <td>[Chickasaw Nation]</td>\n",
       "      <td>[CHICKASAW NATION, CHICKASAW NATION, THE, NATI...</td>\n",
       "      <td>[Chickasaw Nation]</td>\n",
       "      <td>[CHICKASAW NATION, CHICKASAW NATION, THE, NATI...</td>\n",
       "      <td>75,600.00</td>\n",
       "      <td>96,700.00</td>\n",
       "      <td>0.44</td>\n",
       "      <td>0.56</td>\n",
       "      <td>-21,100.00</td>\n",
       "      <td>-0.22</td>\n",
       "    </tr>\n",
       "    <tr>\n",
       "      <th>1</th>\n",
       "      <td>U0000000074</td>\n",
       "      <td>[Hendricks Holding Co]</td>\n",
       "      <td>[HENDRICKS, DIANE M, HENDRICKS, DIANE MS]</td>\n",
       "      <td>[Hendricks Holding Co]</td>\n",
       "      <td>[HENDRICKS, DIANE M, HENDRICKS, DIANE MS]</td>\n",
       "      <td>10,500.00</td>\n",
       "      <td>34,150.00</td>\n",
       "      <td>0.24</td>\n",
       "      <td>0.76</td>\n",
       "      <td>-23,650.00</td>\n",
       "      <td>-0.69</td>\n",
       "    </tr>\n",
       "    <tr>\n",
       "      <th>2</th>\n",
       "      <td>U0000000175</td>\n",
       "      <td>[Stephens Inc]</td>\n",
       "      <td>[STEPHENS, WARREN, STEPHENS, WARREN A MR]</td>\n",
       "      <td>[Stephens Inc]</td>\n",
       "      <td>[STEPHENS, WARREN, STEPHENS, WARREN A MR]</td>\n",
       "      <td>4,800.00</td>\n",
       "      <td>43,700.00</td>\n",
       "      <td>0.10</td>\n",
       "      <td>0.90</td>\n",
       "      <td>-38,900.00</td>\n",
       "      <td>-0.89</td>\n",
       "    </tr>\n",
       "    <tr>\n",
       "      <th>3</th>\n",
       "      <td>U0000000283</td>\n",
       "      <td>[Broidy Capital Management, Colfax Law Office]</td>\n",
       "      <td>[BROIDY, ELLIOTT, BROIDY, ELLIOTT B MR, BROIDY...</td>\n",
       "      <td>[Broidy Capital Management, Colfax Law Office]</td>\n",
       "      <td>[BROIDY, ELLIOTT, BROIDY, ELLIOTT B MR, BROIDY...</td>\n",
       "      <td>0.00</td>\n",
       "      <td>91,089.00</td>\n",
       "      <td>0.00</td>\n",
       "      <td>1.00</td>\n",
       "      <td>-91,089.00</td>\n",
       "      <td>-1.00</td>\n",
       "    </tr>\n",
       "    <tr>\n",
       "      <th>4</th>\n",
       "      <td>U0000000320</td>\n",
       "      <td>[TD Ameritrade]</td>\n",
       "      <td>[RICKETTS, MARLENE, RICKETTS, MARLENE M, RICKE...</td>\n",
       "      <td>[TD Ameritrade]</td>\n",
       "      <td>[RICKETTS, MARLENE, RICKETTS, MARLENE M, RICKE...</td>\n",
       "      <td>11,600.00</td>\n",
       "      <td>4,000.00</td>\n",
       "      <td>0.74</td>\n",
       "      <td>0.26</td>\n",
       "      <td>7,600.00</td>\n",
       "      <td>1.90</td>\n",
       "    </tr>\n",
       "  </tbody>\n",
       "</table>\n",
       "</div>"
      ],
      "text/plain": [
       "           match_id                         organizations_post_bill  \\\n",
       "0  Chickasaw Nation                              [Chickasaw Nation]   \n",
       "1       U0000000074                          [Hendricks Holding Co]   \n",
       "2       U0000000175                                  [Stephens Inc]   \n",
       "3       U0000000283  [Broidy Capital Management, Colfax Law Office]   \n",
       "4       U0000000320                                 [TD Ameritrade]   \n",
       "\n",
       "                              contributors_post_bill  \\\n",
       "0  [CHICKASAW NATION, CHICKASAW NATION, THE, NATI...   \n",
       "1          [HENDRICKS, DIANE M, HENDRICKS, DIANE MS]   \n",
       "2          [STEPHENS, WARREN, STEPHENS, WARREN A MR]   \n",
       "3  [BROIDY, ELLIOTT, BROIDY, ELLIOTT B MR, BROIDY...   \n",
       "4  [RICKETTS, MARLENE, RICKETTS, MARLENE M, RICKE...   \n",
       "\n",
       "                           organizations_pre_bill  \\\n",
       "0                              [Chickasaw Nation]   \n",
       "1                          [Hendricks Holding Co]   \n",
       "2                                  [Stephens Inc]   \n",
       "3  [Broidy Capital Management, Colfax Law Office]   \n",
       "4                                 [TD Ameritrade]   \n",
       "\n",
       "                               contributors_pre_bill  total_post_bill  \\\n",
       "0  [CHICKASAW NATION, CHICKASAW NATION, THE, NATI...        75,600.00   \n",
       "1          [HENDRICKS, DIANE M, HENDRICKS, DIANE MS]        10,500.00   \n",
       "2          [STEPHENS, WARREN, STEPHENS, WARREN A MR]         4,800.00   \n",
       "3  [BROIDY, ELLIOTT, BROIDY, ELLIOTT B MR, BROIDY...             0.00   \n",
       "4  [RICKETTS, MARLENE, RICKETTS, MARLENE M, RICKE...        11,600.00   \n",
       "\n",
       "   total_pre_bill  pct_post_bill  pct_pre_bill     change  pct_change  \n",
       "0       96,700.00           0.44          0.56 -21,100.00       -0.22  \n",
       "1       34,150.00           0.24          0.76 -23,650.00       -0.69  \n",
       "2       43,700.00           0.10          0.90 -38,900.00       -0.89  \n",
       "3       91,089.00           0.00          1.00 -91,089.00       -1.00  \n",
       "4        4,000.00           0.74          0.26   7,600.00        1.90  "
      ]
     },
     "execution_count": 68,
     "metadata": {},
     "output_type": "execute_result"
    }
   ],
   "source": [
    "donors_09[\"pct_post_bill\"] = donors_09[\"total_post_bill\"] / (donors_09[\"total_pre_bill\"] + donors_09[\"total_post_bill\"])\n",
    "donors_09[\"pct_pre_bill\"] = donors_09[\"total_pre_bill\"] / (donors_09[\"total_pre_bill\"] + donors_09[\"total_post_bill\"])\n",
    "donors_09[\"change\"] = donors_09[\"total_post_bill\"] - donors_09[\"total_pre_bill\"]\n",
    "donors_09[\"pct_change\"] = (donors_09[\"total_post_bill\"] - donors_09[\"total_pre_bill\"]) / donors_09[\"total_pre_bill\"].abs()\n",
    "donors_09 = donors_09[[\"match_id\", \"organizations_post_bill\", \"contributors_post_bill\",\n",
    "                       \"organizations_pre_bill\", \"contributors_pre_bill\", \"total_post_bill\",\n",
    "                       \"total_pre_bill\", \"pct_post_bill\", \"pct_pre_bill\", \"change\", \"pct_change\"]]\n",
    "donors_09.head()"
   ]
  },
  {
   "cell_type": "markdown",
   "metadata": {},
   "source": [
    "## And did their giving patterns change between the cycles?"
   ]
  },
  {
   "cell_type": "code",
   "execution_count": 69,
   "metadata": {},
   "outputs": [
    {
     "name": "stdout",
     "output_type": "stream",
     "text": [
      "<class 'pandas.core.frame.DataFrame'>\n",
      "Int64Index: 158 entries, 0 to 157\n",
      "Data columns (total 11 columns):\n",
      "match_id              158 non-null object\n",
      "contributors          158 non-null object\n",
      "organizations         158 non-null object\n",
      "total_pre_bill_09     88 non-null float64\n",
      "total_post_bill_09    88 non-null float64\n",
      "pct_pre_bill_09       88 non-null float64\n",
      "pct_post_bill_09      88 non-null float64\n",
      "total_pre_bill_17     158 non-null float64\n",
      "total_post_bill_17    158 non-null float64\n",
      "pct_pre_bill_17       158 non-null float64\n",
      "pct_post_bill_17      158 non-null float64\n",
      "dtypes: float64(8), object(3)\n",
      "memory usage: 14.8+ KB\n"
     ]
    }
   ],
   "source": [
    "donors_09_17 = donors_17.merge(donors_09, how=\"outer\", on=\"match_id\", suffixes=[\"_17\", \"_09\"])\n",
    "donors_09_17.drop([\"change_17\", \"pct_change_17\", \"organizations_post_bill\", \"contributors_post_bill\",\n",
    "             \"organizations_pre_bill\", \"contributors_pre_bill\", \"change_09\", \"pct_change_09\"],\n",
    "            axis=1, inplace=True)\n",
    "donors_09_17.rename(columns={\"organizations_17\": \"organizations\", \"contributors_17\": \"contributors\"})\n",
    "donors_09_17 = donors_09_17[[\"match_id\", \"contributors\", \"organizations\", \"total_pre_bill_09\", \"total_post_bill_09\",\n",
    "                 \"pct_pre_bill_09\", \"pct_post_bill_09\", \"total_pre_bill_17\", \"total_post_bill_17\",\n",
    "                 \"pct_pre_bill_17\", \"pct_post_bill_17\"]]\n",
    "donors_09_17.info()"
   ]
  },
  {
   "cell_type": "code",
   "execution_count": 70,
   "metadata": {},
   "outputs": [
    {
     "data": {
      "text/html": [
       "<div>\n",
       "<style scoped>\n",
       "    .dataframe tbody tr th:only-of-type {\n",
       "        vertical-align: middle;\n",
       "    }\n",
       "\n",
       "    .dataframe tbody tr th {\n",
       "        vertical-align: top;\n",
       "    }\n",
       "\n",
       "    .dataframe thead th {\n",
       "        text-align: right;\n",
       "    }\n",
       "</style>\n",
       "<table border=\"1\" class=\"dataframe\">\n",
       "  <thead>\n",
       "    <tr style=\"text-align: right;\">\n",
       "      <th></th>\n",
       "      <th>match_id</th>\n",
       "      <th>contributors</th>\n",
       "      <th>organizations</th>\n",
       "      <th>total_pre_bill_09</th>\n",
       "      <th>total_post_bill_09</th>\n",
       "      <th>pct_pre_bill_09</th>\n",
       "      <th>pct_post_bill_09</th>\n",
       "      <th>total_pre_bill_17</th>\n",
       "      <th>total_post_bill_17</th>\n",
       "      <th>pct_pre_bill_17</th>\n",
       "      <th>pct_post_bill_17</th>\n",
       "      <th>giving_change</th>\n",
       "    </tr>\n",
       "  </thead>\n",
       "  <tbody>\n",
       "    <tr>\n",
       "      <th>0</th>\n",
       "      <td>Air Line Pilots Assn</td>\n",
       "      <td>[AIR LINE PILOTS ASSOC INT'L   POLITICAL ACTIO...</td>\n",
       "      <td>[Air Line Pilots Assn]</td>\n",
       "      <td>nan</td>\n",
       "      <td>nan</td>\n",
       "      <td>nan</td>\n",
       "      <td>nan</td>\n",
       "      <td>100,000.00</td>\n",
       "      <td>150,000.00</td>\n",
       "      <td>0.40</td>\n",
       "      <td>0.60</td>\n",
       "      <td>Increased</td>\n",
       "    </tr>\n",
       "  </tbody>\n",
       "</table>\n",
       "</div>"
      ],
      "text/plain": [
       "               match_id                                       contributors  \\\n",
       "0  Air Line Pilots Assn  [AIR LINE PILOTS ASSOC INT'L   POLITICAL ACTIO...   \n",
       "\n",
       "            organizations  total_pre_bill_09  total_post_bill_09  \\\n",
       "0  [Air Line Pilots Assn]                nan                 nan   \n",
       "\n",
       "   pct_pre_bill_09  pct_post_bill_09  total_pre_bill_17  total_post_bill_17  \\\n",
       "0              nan               nan         100,000.00          150,000.00   \n",
       "\n",
       "   pct_pre_bill_17  pct_post_bill_17 giving_change  \n",
       "0             0.40              0.60     Increased  "
      ]
     },
     "execution_count": 70,
     "metadata": {},
     "output_type": "execute_result"
    }
   ],
   "source": [
    "donors_09_17[\"giving_change\"] = np.where((donors_09_17[\"pct_post_bill_17\"] > donors_09_17[\"pct_post_bill_09\"]) | (donors_09_17[\"pct_pre_bill_09\"].isnull()), \"Increased\",\n",
    "                                  np.where(donors_09_17[\"pct_post_bill_17\"] < donors_09_17[\"pct_post_bill_09\"], \"Decreased\",\n",
    "                                           np.where(donors_09_17[\"pct_post_bill_17\"] == donors_09_17[\"pct_post_bill_09\"], \"Stayed the same\",\n",
    "                                                   \"Other\")))\n",
    "donors_09_17.head(1)"
   ]
  },
  {
   "cell_type": "markdown",
   "metadata": {},
   "source": [
    "## What proportion of donors increased the share of their annual giving that fell in the last two months of 2017 as compared with the same period in 2009?"
   ]
  },
  {
   "cell_type": "code",
   "execution_count": 71,
   "metadata": {},
   "outputs": [
    {
     "data": {
      "text/plain": [
       "match_id             0.85\n",
       "contributors         0.85\n",
       "organizations        0.85\n",
       "total_pre_bill_09    0.74\n",
       "total_post_bill_09   0.74\n",
       "pct_pre_bill_09      0.74\n",
       "pct_post_bill_09     0.74\n",
       "total_pre_bill_17    0.85\n",
       "total_post_bill_17   0.85\n",
       "pct_pre_bill_17      0.85\n",
       "pct_post_bill_17     0.85\n",
       "giving_change        0.85\n",
       "dtype: float64"
      ]
     },
     "execution_count": 71,
     "metadata": {},
     "output_type": "execute_result"
    }
   ],
   "source": [
    "donors_09_17[donors_09_17[\"giving_change\"] == \"Increased\"].count() / donors_09_17.count()"
   ]
  },
  {
   "cell_type": "markdown",
   "metadata": {},
   "source": [
    "## And by how much did these individuals' giving increase?"
   ]
  },
  {
   "cell_type": "code",
   "execution_count": 72,
   "metadata": {},
   "outputs": [
    {
     "data": {
      "text/plain": [
       "32149263.0"
      ]
     },
     "execution_count": 72,
     "metadata": {},
     "output_type": "execute_result"
    }
   ],
   "source": [
    "donors_09_17[donors_09_17[\"giving_change\"] == \"Increased\"][\"total_post_bill_17\"].sum()"
   ]
  },
  {
   "cell_type": "code",
   "execution_count": 73,
   "metadata": {},
   "outputs": [
    {
     "data": {
      "text/plain": [
       "267350.0"
      ]
     },
     "execution_count": 73,
     "metadata": {},
     "output_type": "execute_result"
    }
   ],
   "source": [
    "donors_09_17[donors_09_17[\"giving_change\"] == \"Increased\"][\"total_post_bill_09\"].sum()"
   ]
  },
  {
   "cell_type": "code",
   "execution_count": 74,
   "metadata": {},
   "outputs": [
    {
     "data": {
      "text/plain": [
       "31881913.0"
      ]
     },
     "execution_count": 74,
     "metadata": {},
     "output_type": "execute_result"
    }
   ],
   "source": [
    "donors_09_17[donors_09_17[\"giving_change\"] == \"Increased\"][\"total_post_bill_17\"].sum() - donors_09_17[donors_09_17[\"giving_change\"] == \"Increased\"][\"total_post_bill_09\"].sum()"
   ]
  },
  {
   "cell_type": "markdown",
   "metadata": {},
   "source": [
    "# What does this giving look like on a contribution-by-contribution level during the equivalent post-bill introduction period in 2009?"
   ]
  },
  {
   "cell_type": "code",
   "execution_count": 75,
   "metadata": {},
   "outputs": [
    {
     "name": "stdout",
     "output_type": "stream",
     "text": [
      "<class 'pandas.core.frame.DataFrame'>\n",
      "RangeIndex: 187 entries, 0 to 186\n",
      "Data columns (total 8 columns):\n",
      "fectransid      187 non-null object\n",
      "match_id        187 non-null object\n",
      "organization    184 non-null object\n",
      "contributor     187 non-null object\n",
      "date            187 non-null object\n",
      "sum             187 non-null float64\n",
      "cmte_id         187 non-null object\n",
      "committee       187 non-null object\n",
      "dtypes: float64(1), object(7)\n",
      "memory usage: 11.8+ KB\n"
     ]
    }
   ],
   "source": [
    "post_bill_contributions_09 = pd.read_sql(\"\"\"CREATE TABLE IF NOT EXISTS post_bill_contributions_09 AS\n",
    "SELECT fectransid,\n",
    "       match_id,\n",
    "       organization,\n",
    "       contributor, date, sum(SUM),\n",
    "                          cmte_id,\n",
    "                          pacshort AS committee\n",
    "FROM\n",
    "  (SELECT fectransid,\n",
    "          match_id,\n",
    "          orgname AS organization,\n",
    "          contrib AS contributor, date, sum(amount),\n",
    "                                        cmteid AS cmte_id\n",
    "   FROM\n",
    "     (SELECT CASE\n",
    "                 WHEN trim(contribid) != '' THEN left(contribid, 11)\n",
    "                 ELSE orgname\n",
    "             END AS match_id\n",
    "      FROM crp_contributions\n",
    "      LEFT JOIN crp_committees ON crp_contributions.cmteid = crp_committees.cmteid\n",
    "      AND crp_committees.cycle = '2018'\n",
    "      WHERE primcode IN ('J1100',\n",
    "                         'J2200',\n",
    "                         'J2400',\n",
    "                         'Z1100',\n",
    "                         'Z4100',\n",
    "                         'Z4500',\n",
    "                         'Z5100')\n",
    "        AND date >= '2017-11-02'\n",
    "        AND date <= '2017-12-31'\n",
    "        AND crp_contributions.cycle = '2018'\n",
    "        AND TYPE NOT IN ('11J',\n",
    "                         '15C',\n",
    "                         '15E',\n",
    "                         '15I',\n",
    "                         '15J',\n",
    "                         '15T',\n",
    "                         '18J',\n",
    "                         '19J',\n",
    "                         '30J',\n",
    "                         '30F',\n",
    "                         '31J',\n",
    "                         '31F',\n",
    "                         '32J',\n",
    "                         '32F')\n",
    "      GROUP BY match_id\n",
    "      HAVING sum(amount) >= 50000) AS gop_donors\n",
    "   JOIN crp_contributions ON CASE\n",
    "                                 WHEN trim(contribid) != '' THEN left(contribid, 11)\n",
    "                                 ELSE crp_contributions.orgname\n",
    "                             END = gop_donors.match_id\n",
    "   WHERE date >= '2009-11-02'\n",
    "     AND date <= '2009-12-31'\n",
    "     AND CYCLE = '2010'\n",
    "     AND TYPE NOT IN ('11J',\n",
    "                      '15C',\n",
    "                      '15E',\n",
    "                      '15I',\n",
    "                      '15J',\n",
    "                      '15T',\n",
    "                      '18J',\n",
    "                      '19J',\n",
    "                      '30J',\n",
    "                      '30F',\n",
    "                      '31J',\n",
    "                      '31F',\n",
    "                      '32J',\n",
    "                      '32F')\n",
    "   GROUP BY fectransid,\n",
    "            match_id,\n",
    "            organization,\n",
    "            contributor, date, cmte_id) AS donors_committees\n",
    "JOIN crp_committees ON donors_committees.cmte_id = crp_committees.cmteid\n",
    "AND crp_committees.CYCLE = '2010'\n",
    "WHERE primcode IN ('J1100',\n",
    "                   'J2200',\n",
    "                   'J2400',\n",
    "                   'Z1100',\n",
    "                   'Z4100',\n",
    "                   'Z4500',\n",
    "                   'Z5100')\n",
    "GROUP BY fectransid,\n",
    "         match_id,\n",
    "         organization,\n",
    "         contributor, date, cmte_id,\n",
    "                            committee;\n",
    "\n",
    "GRANT ALL ON TABLE post_bill_contributions_09 TO redash_default;\n",
    "\n",
    "\n",
    "SELECT *\n",
    "FROM post_bill_contributions_09;\"\"\", con=conn)\n",
    "post_bill_contributions_09.info()"
   ]
  },
  {
   "cell_type": "code",
   "execution_count": 76,
   "metadata": {},
   "outputs": [
    {
     "name": "stdout",
     "output_type": "stream",
     "text": [
      "<class 'pandas.core.frame.DataFrame'>\n",
      "RangeIndex: 520 entries, 0 to 519\n",
      "Data columns (total 8 columns):\n",
      "fectransid      520 non-null object\n",
      "match_id        520 non-null object\n",
      "organization    508 non-null object\n",
      "contributor     520 non-null object\n",
      "date            520 non-null object\n",
      "sum             520 non-null float64\n",
      "cmte_id         520 non-null object\n",
      "committee       520 non-null object\n",
      "dtypes: float64(1), object(7)\n",
      "memory usage: 32.6+ KB\n"
     ]
    }
   ],
   "source": [
    "pre_bill_contributions_09 = pd.read_sql(\"\"\"CREATE TABLE IF NOT EXISTS pre_bill_contributions_09 AS\n",
    "SELECT fectransid,\n",
    "       match_id,\n",
    "       organization,\n",
    "       contributor, date, sum(SUM),\n",
    "                          cmte_id,\n",
    "                          pacshort AS committee\n",
    "FROM\n",
    "  (SELECT fectransid,\n",
    "          match_id,\n",
    "          orgname AS organization,\n",
    "          contrib AS contributor, date, sum(amount),\n",
    "                                        cmteid AS cmte_id\n",
    "   FROM\n",
    "     (SELECT CASE\n",
    "                 WHEN trim(contribid) != '' THEN left(contribid, 11)\n",
    "                 ELSE orgname\n",
    "             END AS match_id\n",
    "      FROM crp_contributions\n",
    "      LEFT JOIN crp_committees ON crp_contributions.cmteid = crp_committees.cmteid\n",
    "      AND crp_committees.cycle = '2018'\n",
    "      WHERE primcode IN ('J1100',\n",
    "                         'J2200',\n",
    "                         'J2400',\n",
    "                         'Z1100',\n",
    "                         'Z4100',\n",
    "                         'Z4500',\n",
    "                         'Z5100')\n",
    "        AND date >= '2017-11-02'\n",
    "        AND date <= '2017-12-31'\n",
    "        AND crp_contributions.cycle = '2018'\n",
    "        AND TYPE NOT IN ('11J',\n",
    "                         '15C',\n",
    "                         '15E',\n",
    "                         '15I',\n",
    "                         '15J',\n",
    "                         '15T',\n",
    "                         '18J',\n",
    "                         '19J',\n",
    "                         '30J',\n",
    "                         '30F',\n",
    "                         '31J',\n",
    "                         '31F',\n",
    "                         '32J',\n",
    "                         '32F')\n",
    "      GROUP BY match_id\n",
    "      HAVING sum(amount) >= 50000) AS gop_donors\n",
    "   JOIN crp_contributions ON CASE\n",
    "                                 WHEN trim(contribid) != '' THEN left(contribid, 11)\n",
    "                                 ELSE crp_contributions.orgname\n",
    "                             END = gop_donors.match_id\n",
    "   WHERE date >= '2009-01-01'\n",
    "     AND date < '2009-11-02'\n",
    "     AND CYCLE = '2010'\n",
    "     AND TYPE NOT IN ('11J',\n",
    "                      '15C',\n",
    "                      '15E',\n",
    "                      '15I',\n",
    "                      '15J',\n",
    "                      '15T',\n",
    "                      '18J',\n",
    "                      '19J',\n",
    "                      '30J',\n",
    "                      '30F',\n",
    "                      '31J',\n",
    "                      '31F',\n",
    "                      '32J',\n",
    "                      '32F')\n",
    "   GROUP BY fectransid,\n",
    "            match_id,\n",
    "            organization,\n",
    "            contributor, date, cmte_id) AS donors_committees\n",
    "JOIN crp_committees ON donors_committees.cmte_id = crp_committees.cmteid\n",
    "AND crp_committees.CYCLE = '2010'\n",
    "WHERE primcode IN ('J1100',\n",
    "                   'J2200',\n",
    "                   'J2400',\n",
    "                   'Z1100',\n",
    "                   'Z4100',\n",
    "                   'Z4500',\n",
    "                   'Z5100')\n",
    "GROUP BY fectransid,\n",
    "         match_id,\n",
    "         organization,\n",
    "         contributor, date, cmte_id,\n",
    "                            committee;\n",
    "\n",
    "GRANT ALL ON TABLE pre_bill_contributions_09 TO redash_default;\n",
    "\n",
    "\n",
    "SELECT *\n",
    "FROM pre_bill_contributions_09;\"\"\", con=conn)\n",
    "pre_bill_contributions_09.info()"
   ]
  },
  {
   "cell_type": "markdown",
   "metadata": {},
   "source": [
    "## Export data to Excel."
   ]
  },
  {
   "cell_type": "code",
   "execution_count": 77,
   "metadata": {},
   "outputs": [],
   "source": [
    "writer = pd.ExcelWriter(\"data/megadonors.xlsx\")\n",
    "donors_15_17.to_excel(writer, \"donors_15_17\", startcol=0, index=False)\n",
    "donors_13_17.to_excel(writer, \"donors_13_17\", startcol=0, index=False)\n",
    "donors_11_17.to_excel(writer, \"donors_11_17\", startcol=0, index=False)\n",
    "donors_09_17.to_excel(writer, \"donors_09_17\", startcol=0, index=False)\n",
    "post_bill_donors_committees_17.to_excel(writer, \"post_bill_donors_committees_17\", startcol=0, index=False)\n",
    "pre_bill_donors_committees_17.to_excel(writer, \"pre_bill_donors_committees_17\", startcol=0, index=False)\n",
    "post_bill_donors_committees_15.to_excel(writer, \"post_bill_donors_committees_15\", startcol=0, index=False)\n",
    "pre_bill_donors_committees_15.to_excel(writer, \"pre_bill_donors_committees_15\", startcol=0, index=False)\n",
    "post_bill_donors_committees_13.to_excel(writer, \"post_bill_donors_committees_13\", startcol=0, index=False)\n",
    "pre_bill_donors_committees_13.to_excel(writer, \"pre_bill_donors_committees_13\", startcol=0, index=False)\n",
    "post_bill_donors_committees_11.to_excel(writer, \"post_bill_donors_committees_11\", startcol=0, index=False)\n",
    "pre_bill_donors_committees_11.to_excel(writer, \"pre_bill_donors_committees_11\", startcol=0, index=False)\n",
    "post_bill_donors_committees_09.to_excel(writer, \"post_bill_donors_committees_09\", startcol=0, index=False)\n",
    "pre_bill_donors_committees_09.to_excel(writer, \"pre_bill_donors_committees_09\", startcol=0, index=False)\n",
    "post_bill_contributions_17.to_excel(writer, \"post_bill_contributions_17\", startcol=0, index=False)\n",
    "pre_bill_contributions_17.to_excel(writer, \"pre_bill_contributions_17\", startcol=0, index=False)\n",
    "post_bill_contributions_15.to_excel(writer, \"post_bill_contributions_15\", startcol=0, index=False)\n",
    "pre_bill_contributions_15.to_excel(writer, \"pre_bill_contributions_15\", startcol=0, index=False)\n",
    "post_bill_contributions_13.to_excel(writer, \"post_bill_contributions_13\", startcol=0, index=False)\n",
    "pre_bill_contributions_13.to_excel(writer, \"pre_bill_contributions_13\", startcol=0, index=False)\n",
    "post_bill_contributions_11.to_excel(writer, \"post_bill_contributions_11\", startcol=0, index=False)\n",
    "pre_bill_contributions_11.to_excel(writer, \"pre_bill_contributions_11\", startcol=0, index=False)\n",
    "post_bill_contributions_09.to_excel(writer, \"post_bill_contributions_09\", startcol=0, index=False)\n",
    "pre_bill_contributions_09.to_excel(writer, \"pre_bill_contributions_09\", startcol=0, index=False)\n",
    "writer.save()"
   ]
  },
  {
   "cell_type": "code",
   "execution_count": null,
   "metadata": {},
   "outputs": [],
   "source": []
  }
 ],
 "metadata": {
  "kernelspec": {
   "display_name": "Python 3",
   "language": "python",
   "name": "python3"
  },
  "language_info": {
   "codemirror_mode": {
    "name": "ipython",
    "version": 3
   },
   "file_extension": ".py",
   "mimetype": "text/x-python",
   "name": "python",
   "nbconvert_exporter": "python",
   "pygments_lexer": "ipython3",
   "version": "3.6.3"
  }
 },
 "nbformat": 4,
 "nbformat_minor": 2
}
