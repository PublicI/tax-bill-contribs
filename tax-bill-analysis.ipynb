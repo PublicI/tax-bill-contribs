{
 "cells": [
  {
   "cell_type": "code",
   "execution_count": 1,
   "metadata": {},
   "outputs": [],
   "source": [
    "import altair as alt\n",
    "from altair.expr import datum, if_\n",
    "import datetime\n",
    "import json\n",
    "import numpy as np\n",
    "import pandas as pd\n",
    "import psycopg2\n",
    "pd.options.display.float_format = \"{:,.2f}\".format"
   ]
  },
  {
   "cell_type": "markdown",
   "metadata": {},
   "source": [
    "Connect to the database."
   ]
  },
  {
   "cell_type": "code",
   "execution_count": 2,
   "metadata": {},
   "outputs": [],
   "source": [
    "with open(\"config.json\") as f:\n",
    "    conf = json.load(f)\n",
    "conn = psycopg2.connect(\n",
    "    dbname=conf[\"database\"],\n",
    "    user=conf[\"user\"],\n",
    "    host=conf[\"host\"],\n",
    "    password=conf[\"password\"]\n",
    ")\n",
    "conn.autocommit = True"
   ]
  },
  {
   "cell_type": "markdown",
   "metadata": {},
   "source": [
    "## Return the donors who gave at least $50,000 to conservative and GOP-aligned groups between Nov. 2 and Dec. 31, 2017, split by their giving before the tax bill's introduction on Nov. 2 and after its introduction. Do this for every off-year going back to the 2010 cycle."
   ]
  },
  {
   "cell_type": "code",
   "execution_count": 3,
   "metadata": {},
   "outputs": [],
   "source": [
    "def run_donors_query(prefix, suffix, reference_cycle, reference_start, reference_end, cycle, start, end):\n",
    "    query = \"\"\"CREATE MATERIALIZED VIEW IF NOT EXISTS \"\"\"+prefix+\"\"\"_donors_committees_\"\"\"+suffix+\"\"\" AS\n",
    "                    SELECT match_id,\n",
    "                           organizations,\n",
    "                           contributors,\n",
    "                           sum(committee_total) AS total,\n",
    "                           cmte_id,\n",
    "                           pacshort AS committee\n",
    "                    FROM\n",
    "                      (SELECT match_id,\n",
    "                              organizations,\n",
    "                              contributors,\n",
    "                              sum(amount) AS committee_total,\n",
    "                              cmteid AS cmte_id\n",
    "                       FROM\n",
    "                         (SELECT CASE\n",
    "                                     WHEN trim(contribid) != '' THEN left(contribid, 11)\n",
    "                                     ELSE orgname\n",
    "                                 END AS match_id,\n",
    "                                 array_agg(DISTINCT orgname) AS organizations,\n",
    "                                 array_agg(DISTINCT contrib) AS contributors\n",
    "                          FROM crp_contributions\n",
    "                          LEFT JOIN crp_committees ON crp_contributions.cmteid = crp_committees.cmteid\n",
    "                          AND crp_committees.cycle = '\"\"\" + reference_cycle + \"\"\"'\n",
    "                          WHERE primcode IN ('J1100',\n",
    "                                             'J2200',\n",
    "                                             'J2400',\n",
    "                                             'Z1100',\n",
    "                                             'Z4100',\n",
    "                                             'Z4500',\n",
    "                                             'Z5100')\n",
    "                            AND date >= '\"\"\" + reference_start + \"\"\"'\n",
    "                            AND date <= '\"\"\" + reference_end + \"\"\"'\n",
    "                            AND crp_contributions.cycle = '\"\"\" + reference_cycle + \"\"\"'\n",
    "                            AND TYPE NOT IN ('11J',\n",
    "                                             '15C',\n",
    "                                             '15E',\n",
    "                                             '15I',\n",
    "                                             '15J',\n",
    "                                             '15T',\n",
    "                                             '18J',\n",
    "                                             '19J',\n",
    "                                             '30J',\n",
    "                                             '30F',\n",
    "                                             '31J',\n",
    "                                             '31F',\n",
    "                                             '32J',\n",
    "                                             '32F')\n",
    "                          GROUP BY match_id\n",
    "                          HAVING sum(amount) >= 50000) AS gop_donors\n",
    "                       JOIN crp_contributions ON CASE\n",
    "                                                     WHEN trim(contribid) != '' THEN left(contribid, 11)\n",
    "                                                     ELSE crp_contributions.orgname\n",
    "                                                 END = gop_donors.match_id\n",
    "                       WHERE date >= '\"\"\" + start + \"\"\"'\n",
    "                         AND date <= '\"\"\" + end + \"\"\"'\n",
    "                         AND CYCLE = '\"\"\" + cycle + \"\"\"'\n",
    "                         AND TYPE NOT IN ('11J',\n",
    "                                          '15C',\n",
    "                                          '15E',\n",
    "                                          '15I',\n",
    "                                          '15J',\n",
    "                                          '15T',\n",
    "                                          '18J',\n",
    "                                          '19J',\n",
    "                                          '30J',\n",
    "                                          '30F',\n",
    "                                          '31J',\n",
    "                                          '31F',\n",
    "                                          '32J',\n",
    "                                          '32F')\n",
    "                       GROUP BY match_id,\n",
    "                                organizations,\n",
    "                                contributors,\n",
    "                                cmte_id) AS donors_committees\n",
    "                    JOIN crp_committees ON donors_committees.cmte_id = crp_committees.cmteid\n",
    "                    AND crp_committees.CYCLE = '\"\"\" + cycle + \"\"\"'\n",
    "                    WHERE primcode IN ('J1100',\n",
    "                                       'J2200',\n",
    "                                       'J2400',\n",
    "                                       'Z1100',\n",
    "                                       'Z4100',\n",
    "                                       'Z4500',\n",
    "                                       'Z5100')\n",
    "                    GROUP BY match_id,\n",
    "                             organizations,\n",
    "                             contributors,\n",
    "                             cmte_id,\n",
    "                             committee;\n",
    "\n",
    "                    SELECT *\n",
    "                    FROM \"\"\"+prefix+\"\"\"_donors_committees_\"\"\"+suffix+\"\"\";\n",
    "                    \"\"\"\n",
    "    return pd.read_sql(query, con=conn)"
   ]
  },
  {
   "cell_type": "markdown",
   "metadata": {},
   "source": [
    "## Return the data for each cycle."
   ]
  },
  {
   "cell_type": "code",
   "execution_count": 4,
   "metadata": {},
   "outputs": [],
   "source": [
    "post_bill_donors_committees_17 = run_donors_query(\"post_bill\", \"17\", \"2018\", \"2017-11-02\", \"2017-12-31\", \"2018\", \"2017-11-02\", \"2017-12-31\")\n",
    "pre_bill_donors_committees_17 = run_donors_query(\"pre_bill\", \"17\", \"2018\", \"2017-11-02\", \"2017-12-31\", \"2018\", \"2017-01-01\", \"2017-11-01\")"
   ]
  },
  {
   "cell_type": "code",
   "execution_count": 5,
   "metadata": {},
   "outputs": [],
   "source": [
    "post_bill_donors_committees_15 = run_donors_query(\"post_bill\", \"15\", \"2018\", \"2017-11-02\", \"2017-12-31\", \"2016\", \"2015-11-02\", \"2015-12-31\")\n",
    "pre_bill_donors_committees_15 = run_donors_query(\"pre_bill\", \"15\", \"2018\", \"2017-11-02\", \"2017-12-31\", \"2016\", \"2015-01-01\", \"2015-11-01\")"
   ]
  },
  {
   "cell_type": "code",
   "execution_count": null,
   "metadata": {},
   "outputs": [],
   "source": [
    "post_bill_donors_committees_13 = run_donors_query(\"post_bill\", \"13\", \"2018\", \"2017-11-02\", \"2017-12-31\", \"2014\", \"2013-11-02\", \"2013-12-31\")\n",
    "pre_bill_donors_committees_13 = run_donors_query(\"pre_bill\", \"13\", \"2018\", \"2017-11-02\", \"2017-12-31\", \"2014\", \"2013-01-01\", \"2013-11-01\")"
   ]
  },
  {
   "cell_type": "code",
   "execution_count": null,
   "metadata": {},
   "outputs": [],
   "source": [
    "post_bill_donors_committees_11 = run_donors_query(\"post_bill\", \"11\", \"2018\", \"2017-11-02\", \"2017-12-31\", \"2012\", \"2011-11-02\", \"2011-12-31\")\n",
    "pre_bill_donors_committees_11 = run_donors_query(\"pre_bill\", \"11\", \"2018\", \"2017-11-02\", \"2017-12-31\", \"2012\", \"2011-01-01\", \"2011-11-01\")"
   ]
  },
  {
   "cell_type": "code",
   "execution_count": null,
   "metadata": {},
   "outputs": [],
   "source": [
    "post_bill_donors_committees_09 = run_donors_query(\"post_bill\", \"09\", \"2018\", \"2017-11-02\", \"2017-12-31\", \"2010\", \"2009-11-02\", \"2009-12-31\")\n",
    "pre_bill_donors_committees_09 = run_donors_query(\"pre_bill\", \"09\", \"2018\", \"2017-11-02\", \"2017-12-31\", \"2010\", \"2009-01-01\", \"2009-11-01\")"
   ]
  },
  {
   "cell_type": "code",
   "execution_count": 12,
   "metadata": {},
   "outputs": [
    {
     "name": "stdout",
     "output_type": "stream",
     "text": [
      "<class 'pandas.core.frame.DataFrame'>\n",
      "RangeIndex: 158 entries, 0 to 157\n",
      "Data columns (total 4 columns):\n",
      "match_id         158 non-null object\n",
      "organizations    158 non-null object\n",
      "contributors     158 non-null object\n",
      "total            158 non-null float64\n",
      "dtypes: float64(1), object(3)\n",
      "memory usage: 5.0+ KB\n"
     ]
    }
   ],
   "source": [
    "post_bill_donors_17 = post_bill_donors_committees_17.groupby([\"match_id\"]).agg({\"organizations\": max, \"contributors\": max, \"total\": sum}).reset_index()\n",
    "post_bill_donors_17.info()"
   ]
  },
  {
   "cell_type": "markdown",
   "metadata": {},
   "source": [
    "## How much did they give?"
   ]
  },
  {
   "cell_type": "code",
   "execution_count": 13,
   "metadata": {},
   "outputs": [
    {
     "data": {
      "text/plain": [
       "35639563.0"
      ]
     },
     "execution_count": 13,
     "metadata": {},
     "output_type": "execute_result"
    }
   ],
   "source": [
    "post_bill_donors_17[\"total\"].sum()"
   ]
  },
  {
   "cell_type": "markdown",
   "metadata": {},
   "source": [
    "## Had these megadonors given previously in 2017?"
   ]
  },
  {
   "cell_type": "markdown",
   "metadata": {},
   "source": [
    "Return contributions by donor and committee."
   ]
  },
  {
   "cell_type": "code",
   "execution_count": 14,
   "metadata": {},
   "outputs": [
    {
     "name": "stdout",
     "output_type": "stream",
     "text": [
      "<class 'pandas.core.frame.DataFrame'>\n",
      "RangeIndex: 896 entries, 0 to 895\n",
      "Data columns (total 4 columns):\n",
      "match_id         896 non-null object\n",
      "organizations    896 non-null object\n",
      "contributors     896 non-null object\n",
      "total            896 non-null float64\n",
      "dtypes: float64(1), object(3)\n",
      "memory usage: 28.1+ KB\n"
     ]
    }
   ],
   "source": [
    "pre_bill_donors_17 = pre_bill_donors_committees_17.groupby([\"match_id\"]).agg({\"organizations\": max, \"contributors\": max, \"total\": sum}).reset_index()\n",
    "pre_bill_donors_17.info()"
   ]
  },
  {
   "cell_type": "markdown",
   "metadata": {},
   "source": [
    "## How much did they give?"
   ]
  },
  {
   "cell_type": "code",
   "execution_count": 15,
   "metadata": {},
   "outputs": [
    {
     "data": {
      "text/plain": [
       "182827883.0"
      ]
     },
     "execution_count": 15,
     "metadata": {},
     "output_type": "execute_result"
    }
   ],
   "source": [
    "pre_bill_donors_17[\"total\"].sum()"
   ]
  },
  {
   "cell_type": "markdown",
   "metadata": {},
   "source": [
    "## How much did these donors give in the period leading up to the tax bill's introduction and in the period after its introduction?"
   ]
  },
  {
   "cell_type": "code",
   "execution_count": null,
   "metadata": {},
   "outputs": [],
   "source": [
    "donors_17 = post_bill_donors_17.merge(pre_bill_donors_17, how=\"outer\", on=\"match_id\", suffixes=[\"_post_bill\", \"_pre_bill\"])\n",
    "donors_17.drop([\"organizations_pre_bill\", \"contributors_pre_bill\"], axis=1, inplace=True)\n",
    "donors_17.rename(columns={\"organizations_post_bill\": \"organizations\", \"contributors_post_bill\": \"contributors\"}, inplace=True)\n",
    "donors_17[\"total_pre_bill\"].fillna(0, inplace=True)\n",
    "donors_17.info()"
   ]
  },
  {
   "cell_type": "code",
   "execution_count": null,
   "metadata": {},
   "outputs": [],
   "source": [
    "donors_17[\"pct_post_bill\"] = donors_17[\"total_post_bill\"] / (donors_17[\"total_pre_bill\"] + donors_17[\"total_post_bill\"])\n",
    "donors_17[\"pct_pre_bill\"] = donors_17[\"total_pre_bill\"] / (donors_17[\"total_pre_bill\"] + donors_17[\"total_post_bill\"])\n",
    "donors_17[\"change\"] = donors_17[\"total_post_bill\"] - donors_17[\"total_pre_bill\"]\n",
    "donors_17[\"pct_change\"] = (donors_17[\"total_post_bill\"] - donors_17[\"total_pre_bill\"]) / donors_17[\"total_pre_bill\"].abs()\n",
    "donors_17.sort_values(\"total_post_bill\", ascending=False).head()"
   ]
  },
  {
   "cell_type": "markdown",
   "metadata": {},
   "source": [
    "## How many of these donors gave all of their money between Nov. 2 and Dec. 31?"
   ]
  },
  {
   "cell_type": "code",
   "execution_count": null,
   "metadata": {},
   "outputs": [],
   "source": [
    "donors_17[donors_17[\"pct_post_bill\"] == 1].count()"
   ]
  },
  {
   "cell_type": "markdown",
   "metadata": {},
   "source": [
    "## Had these megadonors given between Nov. 2 and Dec. 31, 2015?"
   ]
  },
  {
   "cell_type": "markdown",
   "metadata": {},
   "source": [
    "Return contributions by donor and committee."
   ]
  },
  {
   "cell_type": "code",
   "execution_count": null,
   "metadata": {},
   "outputs": [],
   "source": [
    "post_bill_donors_committees_15 = pd.read_sql(\"\"\"CREATE TABLE IF NOT EXISTS post_bill_donors_committees_15 AS\n",
    "SELECT match_id,\n",
    "       organizations,\n",
    "       contributors,\n",
    "       sum(committee_total) AS total,\n",
    "       cmte_id,\n",
    "       pacshort AS committee\n",
    "FROM\n",
    "  (SELECT match_id,\n",
    "          organizations,\n",
    "          contributors,\n",
    "          sum(amount) AS committee_total,\n",
    "          cmteid AS cmte_id\n",
    "   FROM\n",
    "     (SELECT CASE\n",
    "                 WHEN trim(contribid) != '' THEN left(contribid, 11)\n",
    "                 ELSE orgname\n",
    "             END AS match_id,\n",
    "             array_agg(DISTINCT orgname) AS organizations,\n",
    "             array_agg(DISTINCT contrib) AS contributors\n",
    "      FROM crp_contributions\n",
    "      LEFT JOIN crp_committees ON crp_contributions.cmteid = crp_committees.cmteid\n",
    "      AND crp_committees.cycle = '2018'\n",
    "      WHERE primcode IN ('J1100',\n",
    "                         'J2200',\n",
    "                         'J2400',\n",
    "                         'Z1100',\n",
    "                         'Z4100',\n",
    "                         'Z4500',\n",
    "                         'Z5100')\n",
    "        AND date >= '2017-11-02'\n",
    "        AND date <= '2017-12-31'\n",
    "        AND crp_contributions.cycle = '2018'\n",
    "        AND TYPE NOT IN ('11J',\n",
    "                         '15C',\n",
    "                         '15E',\n",
    "                         '15I',\n",
    "                         '15J',\n",
    "                         '15T',\n",
    "                         '18J',\n",
    "                         '19J',\n",
    "                         '30J',\n",
    "                         '30F',\n",
    "                         '31J',\n",
    "                         '31F',\n",
    "                         '32J',\n",
    "                         '32F')\n",
    "      GROUP BY match_id\n",
    "      HAVING sum(amount) >= 50000) AS gop_donors\n",
    "   JOIN crp_contributions ON CASE\n",
    "                                 WHEN trim(contribid) != '' THEN left(contribid, 11)\n",
    "                                 ELSE crp_contributions.orgname\n",
    "                             END = gop_donors.match_id\n",
    "   WHERE date >= '2015-11-02'\n",
    "     AND date <= '2015-12-31'\n",
    "     AND CYCLE = '2016'\n",
    "     AND TYPE NOT IN ('11J',\n",
    "                      '15C',\n",
    "                      '15E',\n",
    "                      '15I',\n",
    "                      '15J',\n",
    "                      '15T',\n",
    "                      '18J',\n",
    "                      '19J',\n",
    "                      '30J',\n",
    "                      '30F',\n",
    "                      '31J',\n",
    "                      '31F',\n",
    "                      '32J',\n",
    "                      '32F')\n",
    "   GROUP BY match_id,\n",
    "            organizations,\n",
    "            contributors,\n",
    "            cmte_id) AS donors_committees\n",
    "JOIN crp_committees ON donors_committees.cmte_id = crp_committees.cmteid\n",
    "AND crp_committees.CYCLE = '2016'\n",
    "WHERE primcode IN ('J1100',\n",
    "                   'J2200',\n",
    "                   'J2400',\n",
    "                   'Z1100',\n",
    "                   'Z4100',\n",
    "                   'Z4500',\n",
    "                   'Z5100')\n",
    "GROUP BY match_id,\n",
    "         organizations,\n",
    "         contributors,\n",
    "         cmte_id,\n",
    "         committee;\n",
    "\n",
    "GRANT ALL ON TABLE post_bill_donors_committees_15 TO redash_default;\n",
    "\n",
    "\n",
    "SELECT *\n",
    "FROM post_bill_donors_committees_15;\"\"\", con=conn)\n",
    "post_bill_donors_committees_15.info()"
   ]
  },
  {
   "cell_type": "markdown",
   "metadata": {},
   "source": [
    "Group by donor."
   ]
  },
  {
   "cell_type": "code",
   "execution_count": null,
   "metadata": {},
   "outputs": [],
   "source": [
    "post_bill_donors_15 = post_bill_donors_committees_15.groupby([\"match_id\"]).agg({\"organizations\": max, \"contributors\": max, \"total\": sum}).reset_index()\n",
    "post_bill_donors_15.info()"
   ]
  },
  {
   "cell_type": "markdown",
   "metadata": {},
   "source": [
    "## How much did they give?"
   ]
  },
  {
   "cell_type": "code",
   "execution_count": null,
   "metadata": {},
   "outputs": [],
   "source": [
    "post_bill_donors_15[\"total\"].sum()"
   ]
  },
  {
   "cell_type": "markdown",
   "metadata": {},
   "source": [
    "## Had these megadonors given previously in 2015?"
   ]
  },
  {
   "cell_type": "markdown",
   "metadata": {},
   "source": [
    "Return contributions by donor and committee."
   ]
  },
  {
   "cell_type": "code",
   "execution_count": null,
   "metadata": {},
   "outputs": [],
   "source": [
    "pre_bill_donors_committees_15 = pd.read_sql(\"\"\"CREATE TABLE IF NOT EXISTS pre_bill_donors_committees_15 AS\n",
    "SELECT match_id,\n",
    "       organizations,\n",
    "       contributors,\n",
    "       sum(committee_total) AS total,\n",
    "       cmte_id,\n",
    "       pacshort AS committee\n",
    "FROM\n",
    "  (SELECT match_id,\n",
    "          organizations,\n",
    "          contributors,\n",
    "          sum(amount) AS committee_total,\n",
    "          cmteid AS cmte_id\n",
    "   FROM\n",
    "     (SELECT CASE\n",
    "                 WHEN trim(contribid) != '' THEN left(contribid, 11)\n",
    "                 ELSE orgname\n",
    "             END AS match_id,\n",
    "             array_agg(DISTINCT orgname) AS organizations,\n",
    "             array_agg(DISTINCT contrib) AS contributors\n",
    "      FROM crp_contributions\n",
    "      LEFT JOIN crp_committees ON crp_contributions.cmteid = crp_committees.cmteid\n",
    "      AND crp_committees.cycle = '2018'\n",
    "      WHERE primcode IN ('J1100',\n",
    "                         'J2200',\n",
    "                         'J2400',\n",
    "                         'Z1100',\n",
    "                         'Z4100',\n",
    "                         'Z4500',\n",
    "                         'Z5100')\n",
    "        AND date >= '2017-11-02'\n",
    "        AND date <= '2017-12-31'\n",
    "        AND crp_contributions.cycle = '2018'\n",
    "        AND TYPE NOT IN ('11J',\n",
    "                         '15C',\n",
    "                         '15E',\n",
    "                         '15I',\n",
    "                         '15J',\n",
    "                         '15T',\n",
    "                         '18J',\n",
    "                         '19J',\n",
    "                         '30J',\n",
    "                         '30F',\n",
    "                         '31J',\n",
    "                         '31F',\n",
    "                         '32J',\n",
    "                         '32F')\n",
    "      GROUP BY match_id\n",
    "      HAVING sum(amount) >= 50000) AS gop_donors\n",
    "   JOIN crp_contributions ON CASE\n",
    "                                 WHEN trim(contribid) != '' THEN left(contribid, 11)\n",
    "                                 ELSE crp_contributions.orgname\n",
    "                             END = gop_donors.match_id\n",
    "   WHERE date >= '2015-01-01'\n",
    "     AND date < '2015-11-02'\n",
    "     AND CYCLE = '2016'\n",
    "     AND TYPE NOT IN ('11J',\n",
    "                      '15C',\n",
    "                      '15E',\n",
    "                      '15I',\n",
    "                      '15J',\n",
    "                      '15T',\n",
    "                      '18J',\n",
    "                      '19J',\n",
    "                      '30J',\n",
    "                      '30F',\n",
    "                      '31J',\n",
    "                      '31F',\n",
    "                      '32J',\n",
    "                      '32F')\n",
    "   GROUP BY match_id,\n",
    "            organizations,\n",
    "            contributors,\n",
    "            cmte_id) AS donors_committees\n",
    "JOIN crp_committees ON donors_committees.cmte_id = crp_committees.cmteid\n",
    "AND crp_committees.CYCLE = '2016'\n",
    "WHERE primcode IN ('J1100',\n",
    "                   'J2200',\n",
    "                   'J2400',\n",
    "                   'Z1100',\n",
    "                   'Z4100',\n",
    "                   'Z4500',\n",
    "                   'Z5100')\n",
    "GROUP BY match_id,\n",
    "         organizations,\n",
    "         contributors,\n",
    "         cmte_id,\n",
    "         committee;\n",
    "\n",
    "GRANT ALL ON TABLE pre_bill_donors_committees_15 TO redash_default;\n",
    "\n",
    "\n",
    "SELECT *\n",
    "FROM pre_bill_donors_committees_15;\"\"\", con=conn)\n",
    "pre_bill_donors_committees_15.info()"
   ]
  },
  {
   "cell_type": "markdown",
   "metadata": {},
   "source": [
    "Group by donor."
   ]
  },
  {
   "cell_type": "code",
   "execution_count": null,
   "metadata": {},
   "outputs": [],
   "source": [
    "pre_bill_donors_15 = pre_bill_donors_committees_15.groupby([\"match_id\"]).agg({\"organizations\": max, \"contributors\": max, \"total\": sum}).reset_index()\n",
    "pre_bill_donors_15.info()"
   ]
  },
  {
   "cell_type": "markdown",
   "metadata": {},
   "source": [
    "## How much did they give?"
   ]
  },
  {
   "cell_type": "code",
   "execution_count": null,
   "metadata": {},
   "outputs": [],
   "source": [
    "pre_bill_donors_15[\"total\"].sum()"
   ]
  },
  {
   "cell_type": "markdown",
   "metadata": {},
   "source": [
    "## How much did these donors give in each period?"
   ]
  },
  {
   "cell_type": "code",
   "execution_count": null,
   "metadata": {},
   "outputs": [],
   "source": [
    "donors_15 = post_bill_donors_15.merge(pre_bill_donors_15, how=\"outer\", on=\"match_id\", suffixes=[\"_post_bill\", \"_pre_bill\"])\n",
    "donors_15[\"total_pre_bill\"].fillna(0, inplace=True)\n",
    "donors_15[\"total_post_bill\"].fillna(0, inplace=True)\n",
    "donors_15.info()"
   ]
  },
  {
   "cell_type": "code",
   "execution_count": null,
   "metadata": {},
   "outputs": [],
   "source": [
    "donors_15[\"pct_post_bill\"] = donors_15[\"total_post_bill\"] / (donors_15[\"total_pre_bill\"] + donors_15[\"total_post_bill\"])\n",
    "donors_15[\"pct_pre_bill\"] = donors_15[\"total_pre_bill\"] / (donors_15[\"total_pre_bill\"] + donors_15[\"total_post_bill\"])\n",
    "donors_15[\"change\"] = donors_15[\"total_post_bill\"] - donors_15[\"total_pre_bill\"]\n",
    "donors_15[\"pct_change\"] = (donors_15[\"total_post_bill\"] - donors_15[\"total_pre_bill\"]) / donors_15[\"total_pre_bill\"].abs()\n",
    "donors_15 = donors_15[[\"match_id\", \"organizations_post_bill\", \"contributors_post_bill\",\n",
    "                       \"organizations_pre_bill\", \"contributors_pre_bill\", \"total_post_bill\",\n",
    "                       \"total_pre_bill\", \"pct_post_bill\", \"pct_pre_bill\", \"change\", \"pct_change\"]]\n",
    "donors_15.head()"
   ]
  },
  {
   "cell_type": "markdown",
   "metadata": {},
   "source": [
    "## How many of these donors gave all of their money between Nov. 2 and Dec. 31?"
   ]
  },
  {
   "cell_type": "code",
   "execution_count": null,
   "metadata": {},
   "outputs": [],
   "source": [
    "donors_15[donors_15[\"pct_post_bill\"] == 1].count()"
   ]
  },
  {
   "cell_type": "markdown",
   "metadata": {},
   "source": [
    "## And did their giving patterns change between the cycles?"
   ]
  },
  {
   "cell_type": "code",
   "execution_count": null,
   "metadata": {},
   "outputs": [],
   "source": [
    "donors_15_17 = donors_17.merge(donors_15, how=\"outer\", on=\"match_id\", suffixes=[\"_17\", \"_15\"])\n",
    "donors_15_17.drop([\"change_17\", \"pct_change_17\", \"organizations_post_bill\", \"contributors_post_bill\",\n",
    "             \"organizations_pre_bill\", \"contributors_pre_bill\", \"change_15\", \"pct_change_15\"],\n",
    "            axis=1, inplace=True)\n",
    "donors_15_17.rename(columns={\"organizations_17\": \"organizations\", \"contributors_17\": \"contributors\"})\n",
    "donors_15_17 = donors_15_17[[\"match_id\", \"contributors\", \"organizations\", \"total_pre_bill_15\", \"total_post_bill_15\",\n",
    "                 \"pct_pre_bill_15\", \"pct_post_bill_15\", \"total_pre_bill_17\", \"total_post_bill_17\",\n",
    "                 \"pct_pre_bill_17\", \"pct_post_bill_17\"]]\n",
    "donors_15_17.info()"
   ]
  },
  {
   "cell_type": "code",
   "execution_count": null,
   "metadata": {},
   "outputs": [],
   "source": [
    "donors_15_17[\"giving_change\"] = np.where((donors_15_17[\"pct_post_bill_17\"] > donors_15_17[\"pct_post_bill_15\"]) | (donors_15_17[\"pct_pre_bill_15\"].isnull()), \"Increased\",\n",
    "                                  np.where(donors_15_17[\"pct_post_bill_17\"] < donors_15_17[\"pct_post_bill_15\"], \"Decreased\",\n",
    "                                           np.where(donors_15_17[\"pct_post_bill_17\"] == donors_15_17[\"pct_post_bill_15\"], \"Stayed the same\",\n",
    "                                                   \"Other\")))\n",
    "donors_15_17.head(1)"
   ]
  },
  {
   "cell_type": "markdown",
   "metadata": {},
   "source": [
    "## What proportion of donors increased the share of their annual giving that fell in the last two months of 2017 as compared with the same period in 2015?"
   ]
  },
  {
   "cell_type": "code",
   "execution_count": null,
   "metadata": {},
   "outputs": [],
   "source": [
    "donors_15_17[donors_15_17[\"giving_change\"] == \"Increased\"].count() / donors_15_17.count()"
   ]
  },
  {
   "cell_type": "markdown",
   "metadata": {},
   "source": [
    "## And by how much did these individuals' giving increase?"
   ]
  },
  {
   "cell_type": "code",
   "execution_count": null,
   "metadata": {},
   "outputs": [],
   "source": [
    "donors_15_17[donors_15_17[\"giving_change\"] == \"Increased\"][\"total_post_bill_17\"].sum()"
   ]
  },
  {
   "cell_type": "code",
   "execution_count": null,
   "metadata": {},
   "outputs": [],
   "source": [
    "donors_15_17[donors_15_17[\"giving_change\"] == \"Increased\"][\"total_post_bill_15\"].sum()"
   ]
  },
  {
   "cell_type": "code",
   "execution_count": null,
   "metadata": {},
   "outputs": [],
   "source": [
    "donors_15_17[donors_15_17[\"giving_change\"] == \"Increased\"][\"total_post_bill_17\"].sum() - donors_15_17[donors_15_17[\"giving_change\"] == \"Increased\"][\"total_post_bill_15\"].sum()"
   ]
  },
  {
   "cell_type": "markdown",
   "metadata": {},
   "source": [
    "# What does this giving look like on a contribution-by-contribution level?"
   ]
  },
  {
   "cell_type": "markdown",
   "metadata": {},
   "source": [
    "During the period after the tax bill was introduced?"
   ]
  },
  {
   "cell_type": "code",
   "execution_count": null,
   "metadata": {},
   "outputs": [],
   "source": [
    "post_bill_contributions_17 = pd.read_sql(\"\"\"CREATE TABLE IF NOT EXISTS post_bill_contributions_17 AS\n",
    "SELECT fectransid,\n",
    "       match_id,\n",
    "       organization,\n",
    "       contributor, date, sum(SUM),\n",
    "                          cmte_id,\n",
    "                          pacshort AS committee\n",
    "FROM\n",
    "  (SELECT fectransid,\n",
    "          match_id,\n",
    "          orgname AS organization,\n",
    "          contrib AS contributor, date, sum(amount),\n",
    "                                        cmteid AS cmte_id\n",
    "   FROM\n",
    "     (SELECT CASE\n",
    "                 WHEN trim(contribid) != '' THEN left(contribid, 11)\n",
    "                 ELSE orgname\n",
    "             END AS match_id\n",
    "      FROM crp_contributions\n",
    "      LEFT JOIN crp_committees ON crp_contributions.cmteid = crp_committees.cmteid\n",
    "      AND crp_committees.cycle = '2018'\n",
    "      WHERE primcode IN ('J1100',\n",
    "                         'J2200',\n",
    "                         'J2400',\n",
    "                         'Z1100',\n",
    "                         'Z4100',\n",
    "                         'Z4500',\n",
    "                         'Z5100')\n",
    "        AND date >= '2017-11-02'\n",
    "        AND date <= '2017-12-31'\n",
    "        AND crp_contributions.cycle = '2018'\n",
    "        AND TYPE NOT IN ('11J',\n",
    "                         '15C',\n",
    "                         '15E',\n",
    "                         '15I',\n",
    "                         '15J',\n",
    "                         '15T',\n",
    "                         '18J',\n",
    "                         '19J',\n",
    "                         '30J',\n",
    "                         '30F',\n",
    "                         '31J',\n",
    "                         '31F',\n",
    "                         '32J',\n",
    "                         '32F')\n",
    "      GROUP BY match_id\n",
    "      HAVING sum(amount) >= 50000) AS gop_donors\n",
    "   JOIN crp_contributions ON CASE\n",
    "                                 WHEN trim(contribid) != '' THEN left(contribid, 11)\n",
    "                                 ELSE crp_contributions.orgname\n",
    "                             END = gop_donors.match_id\n",
    "   WHERE date >= '2017-11-02'\n",
    "     AND date <= '2017-12-31'\n",
    "     AND CYCLE = '2018'\n",
    "     AND TYPE NOT IN ('11J',\n",
    "                      '15C',\n",
    "                      '15E',\n",
    "                      '15I',\n",
    "                      '15J',\n",
    "                      '15T',\n",
    "                      '18J',\n",
    "                      '19J',\n",
    "                      '30J',\n",
    "                      '30F',\n",
    "                      '31J',\n",
    "                      '31F',\n",
    "                      '32J',\n",
    "                      '32F')\n",
    "   GROUP BY fectransid,\n",
    "            match_id,\n",
    "            organization,\n",
    "            contributor, date, cmte_id) AS donors_committees\n",
    "JOIN crp_committees ON donors_committees.cmte_id = crp_committees.cmteid\n",
    "AND crp_committees.CYCLE = '2018'\n",
    "WHERE primcode IN ('J1100',\n",
    "                   'J2200',\n",
    "                   'J2400',\n",
    "                   'Z1100',\n",
    "                   'Z4100',\n",
    "                   'Z4500',\n",
    "                   'Z5100')\n",
    "GROUP BY fectransid,\n",
    "         match_id,\n",
    "         organization,\n",
    "         contributor, date, cmte_id,\n",
    "                            committee;\n",
    "\n",
    "GRANT ALL ON TABLE post_bill_contributions_17 TO redash_default;\n",
    "\n",
    "\n",
    "SELECT *\n",
    "FROM post_bill_contributions_17;\"\"\", con=conn)\n",
    "post_bill_contributions_17.info()"
   ]
  },
  {
   "cell_type": "markdown",
   "metadata": {},
   "source": [
    "During the period before the tax bill was introduced?"
   ]
  },
  {
   "cell_type": "code",
   "execution_count": null,
   "metadata": {},
   "outputs": [],
   "source": [
    "pre_bill_contributions_17 = pd.read_sql(\"\"\"CREATE TABLE IF NOT EXISTS pre_bill_contributions_17 AS\n",
    "SELECT fectransid,\n",
    "       match_id,\n",
    "       organization,\n",
    "       contributor, date, sum(SUM),\n",
    "                          cmte_id,\n",
    "                          pacshort AS committee\n",
    "FROM\n",
    "  (SELECT fectransid,\n",
    "          match_id,\n",
    "          orgname AS organization,\n",
    "          contrib AS contributor, date, sum(amount),\n",
    "                                        cmteid AS cmte_id\n",
    "   FROM\n",
    "     (SELECT CASE\n",
    "                 WHEN trim(contribid) != '' THEN left(contribid, 11)\n",
    "                 ELSE orgname\n",
    "             END AS match_id\n",
    "      FROM crp_contributions\n",
    "      LEFT JOIN crp_committees ON crp_contributions.cmteid = crp_committees.cmteid\n",
    "      AND crp_committees.cycle = '2018'\n",
    "      WHERE primcode IN ('J1100',\n",
    "                         'J2200',\n",
    "                         'J2400',\n",
    "                         'Z1100',\n",
    "                         'Z4100',\n",
    "                         'Z4500',\n",
    "                         'Z5100')\n",
    "        AND date >= '2017-11-02'\n",
    "        AND date <= '2017-12-31'\n",
    "        AND crp_contributions.cycle = '2018'\n",
    "        AND TYPE NOT IN ('11J',\n",
    "                         '15C',\n",
    "                         '15E',\n",
    "                         '15I',\n",
    "                         '15J',\n",
    "                         '15T',\n",
    "                         '18J',\n",
    "                         '19J',\n",
    "                         '30J',\n",
    "                         '30F',\n",
    "                         '31J',\n",
    "                         '31F',\n",
    "                         '32J',\n",
    "                         '32F')\n",
    "      GROUP BY match_id\n",
    "      HAVING sum(amount) >= 50000) AS gop_donors\n",
    "   JOIN crp_contributions ON CASE\n",
    "                                 WHEN trim(contribid) != '' THEN left(contribid, 11)\n",
    "                                 ELSE crp_contributions.orgname\n",
    "                             END = gop_donors.match_id\n",
    "   WHERE date >= '2017-01-01'\n",
    "     AND date < '2017-11-02'\n",
    "     AND CYCLE = '2018'\n",
    "     AND TYPE NOT IN ('11J',\n",
    "                      '15C',\n",
    "                      '15E',\n",
    "                      '15I',\n",
    "                      '15J',\n",
    "                      '15T',\n",
    "                      '18J',\n",
    "                      '19J',\n",
    "                      '30J',\n",
    "                      '30F',\n",
    "                      '31J',\n",
    "                      '31F',\n",
    "                      '32J',\n",
    "                      '32F')\n",
    "   GROUP BY fectransid,\n",
    "            match_id,\n",
    "            organization,\n",
    "            contributor, date, cmte_id) AS donors_committees\n",
    "JOIN crp_committees ON donors_committees.cmte_id = crp_committees.cmteid\n",
    "AND crp_committees.CYCLE = '2018'\n",
    "WHERE primcode IN ('J1100',\n",
    "                   'J2200',\n",
    "                   'J2400',\n",
    "                   'Z1100',\n",
    "                   'Z4100',\n",
    "                   'Z4500',\n",
    "                   'Z5100')\n",
    "GROUP BY fectransid,\n",
    "         match_id,\n",
    "         organization,\n",
    "         contributor, date, cmte_id,\n",
    "                            committee;\n",
    "\n",
    "GRANT ALL ON TABLE pre_bill_contributions_17 TO redash_default;\n",
    "\n",
    "\n",
    "SELECT *\n",
    "FROM pre_bill_contributions_17;\"\"\", con=conn)\n",
    "pre_bill_contributions_17.info()"
   ]
  },
  {
   "cell_type": "markdown",
   "metadata": {},
   "source": [
    "What about during the equivalent post-bill introduction period in 2015?"
   ]
  },
  {
   "cell_type": "code",
   "execution_count": null,
   "metadata": {},
   "outputs": [],
   "source": [
    "post_bill_contributions_15 = pd.read_sql(\"\"\"CREATE TABLE IF NOT EXISTS post_bill_contributions_15 AS\n",
    "SELECT fectransid,\n",
    "       match_id,\n",
    "       organization,\n",
    "       contributor, date, sum(SUM),\n",
    "                          cmte_id,\n",
    "                          pacshort AS committee\n",
    "FROM\n",
    "  (SELECT fectransid,\n",
    "          match_id,\n",
    "          orgname AS organization,\n",
    "          contrib AS contributor, date, sum(amount),\n",
    "                                        cmteid AS cmte_id\n",
    "   FROM\n",
    "     (SELECT CASE\n",
    "                 WHEN trim(contribid) != '' THEN left(contribid, 11)\n",
    "                 ELSE orgname\n",
    "             END AS match_id\n",
    "      FROM crp_contributions\n",
    "      LEFT JOIN crp_committees ON crp_contributions.cmteid = crp_committees.cmteid\n",
    "      AND crp_committees.cycle = '2018'\n",
    "      WHERE primcode IN ('J1100',\n",
    "                         'J2200',\n",
    "                         'J2400',\n",
    "                         'Z1100',\n",
    "                         'Z4100',\n",
    "                         'Z4500',\n",
    "                         'Z5100')\n",
    "        AND date >= '2017-11-02'\n",
    "        AND date <= '2017-12-31'\n",
    "        AND crp_contributions.cycle = '2018'\n",
    "        AND TYPE NOT IN ('11J',\n",
    "                         '15C',\n",
    "                         '15E',\n",
    "                         '15I',\n",
    "                         '15J',\n",
    "                         '15T',\n",
    "                         '18J',\n",
    "                         '19J',\n",
    "                         '30J',\n",
    "                         '30F',\n",
    "                         '31J',\n",
    "                         '31F',\n",
    "                         '32J',\n",
    "                         '32F')\n",
    "      GROUP BY match_id\n",
    "      HAVING sum(amount) >= 50000) AS gop_donors\n",
    "   JOIN crp_contributions ON CASE\n",
    "                                 WHEN trim(contribid) != '' THEN left(contribid, 11)\n",
    "                                 ELSE crp_contributions.orgname\n",
    "                             END = gop_donors.match_id\n",
    "   WHERE date >= '2015-11-02'\n",
    "     AND date <= '2015-12-31'\n",
    "     AND CYCLE = '2016'\n",
    "     AND TYPE NOT IN ('11J',\n",
    "                      '15C',\n",
    "                      '15E',\n",
    "                      '15I',\n",
    "                      '15J',\n",
    "                      '15T',\n",
    "                      '18J',\n",
    "                      '19J',\n",
    "                      '30J',\n",
    "                      '30F',\n",
    "                      '31J',\n",
    "                      '31F',\n",
    "                      '32J',\n",
    "                      '32F')\n",
    "   GROUP BY fectransid,\n",
    "            match_id,\n",
    "            organization,\n",
    "            contributor, date, cmte_id) AS donors_committees\n",
    "JOIN crp_committees ON donors_committees.cmte_id = crp_committees.cmteid\n",
    "AND crp_committees.CYCLE = '2016'\n",
    "WHERE primcode IN ('J1100',\n",
    "                   'J2200',\n",
    "                   'J2400',\n",
    "                   'Z1100',\n",
    "                   'Z4100',\n",
    "                   'Z4500',\n",
    "                   'Z5100')\n",
    "GROUP BY fectransid,\n",
    "         match_id,\n",
    "         organization,\n",
    "         contributor, date, cmte_id,\n",
    "                            committee;\n",
    "\n",
    "GRANT ALL ON TABLE post_bill_contributions_15 TO redash_default;\n",
    "\n",
    "\n",
    "SELECT *\n",
    "FROM post_bill_contributions_15;\"\"\", con=conn)\n",
    "post_bill_contributions_15.info()"
   ]
  },
  {
   "cell_type": "code",
   "execution_count": null,
   "metadata": {},
   "outputs": [],
   "source": [
    "pre_bill_contributions_15 = pd.read_sql(\"\"\"CREATE TABLE IF NOT EXISTS pre_bill_contributions_15 AS\n",
    "SELECT fectransid,\n",
    "       match_id,\n",
    "       organization,\n",
    "       contributor, date, sum(SUM),\n",
    "                          cmte_id,\n",
    "                          pacshort AS committee\n",
    "FROM\n",
    "  (SELECT fectransid,\n",
    "          match_id,\n",
    "          orgname AS organization,\n",
    "          contrib AS contributor, date, sum(amount),\n",
    "                                        cmteid AS cmte_id\n",
    "   FROM\n",
    "     (SELECT CASE\n",
    "                 WHEN trim(contribid) != '' THEN left(contribid, 11)\n",
    "                 ELSE orgname\n",
    "             END AS match_id\n",
    "      FROM crp_contributions\n",
    "      LEFT JOIN crp_committees ON crp_contributions.cmteid = crp_committees.cmteid\n",
    "      AND crp_committees.cycle = '2018'\n",
    "      WHERE primcode IN ('J1100',\n",
    "                         'J2200',\n",
    "                         'J2400',\n",
    "                         'Z1100',\n",
    "                         'Z4100',\n",
    "                         'Z4500',\n",
    "                         'Z5100')\n",
    "        AND date >= '2017-11-02'\n",
    "        AND date <= '2017-12-31'\n",
    "        AND crp_contributions.cycle = '2018'\n",
    "        AND TYPE NOT IN ('11J',\n",
    "                         '15C',\n",
    "                         '15E',\n",
    "                         '15I',\n",
    "                         '15J',\n",
    "                         '15T',\n",
    "                         '18J',\n",
    "                         '19J',\n",
    "                         '30J',\n",
    "                         '30F',\n",
    "                         '31J',\n",
    "                         '31F',\n",
    "                         '32J',\n",
    "                         '32F')\n",
    "      GROUP BY match_id\n",
    "      HAVING sum(amount) >= 50000) AS gop_donors\n",
    "   JOIN crp_contributions ON CASE\n",
    "                                 WHEN trim(contribid) != '' THEN left(contribid, 11)\n",
    "                                 ELSE crp_contributions.orgname\n",
    "                             END = gop_donors.match_id\n",
    "   WHERE date >= '2015-01-01'\n",
    "     AND date < '2015-11-02'\n",
    "     AND CYCLE = '2016'\n",
    "     AND TYPE NOT IN ('11J',\n",
    "                      '15C',\n",
    "                      '15E',\n",
    "                      '15I',\n",
    "                      '15J',\n",
    "                      '15T',\n",
    "                      '18J',\n",
    "                      '19J',\n",
    "                      '30J',\n",
    "                      '30F',\n",
    "                      '31J',\n",
    "                      '31F',\n",
    "                      '32J',\n",
    "                      '32F')\n",
    "   GROUP BY fectransid,\n",
    "            match_id,\n",
    "            organization,\n",
    "            contributor, date, cmte_id) AS donors_committees\n",
    "JOIN crp_committees ON donors_committees.cmte_id = crp_committees.cmteid\n",
    "AND crp_committees.CYCLE = '2016'\n",
    "WHERE primcode IN ('J1100',\n",
    "                   'J2200',\n",
    "                   'J2400',\n",
    "                   'Z1100',\n",
    "                   'Z4100',\n",
    "                   'Z4500',\n",
    "                   'Z5100')\n",
    "GROUP BY fectransid,\n",
    "         match_id,\n",
    "         organization,\n",
    "         contributor, date, cmte_id,\n",
    "                            committee;\n",
    "\n",
    "GRANT ALL ON TABLE pre_bill_contributions_15 TO redash_default;\n",
    "\n",
    "\n",
    "SELECT *\n",
    "FROM pre_bill_contributions_15;\"\"\", con=conn)\n",
    "pre_bill_contributions_15.info()"
   ]
  },
  {
   "cell_type": "markdown",
   "metadata": {},
   "source": [
    "## Had these megadonors given between Nov. 2 and Dec. 31, 2013?"
   ]
  },
  {
   "cell_type": "markdown",
   "metadata": {},
   "source": [
    "Return contributions by donor and committee."
   ]
  },
  {
   "cell_type": "code",
   "execution_count": null,
   "metadata": {},
   "outputs": [],
   "source": [
    "post_bill_donors_committees_13 = pd.read_sql(\"\"\"CREATE TABLE IF NOT EXISTS post_bill_donors_committees_13 AS\n",
    "SELECT match_id,\n",
    "       organizations,\n",
    "       contributors,\n",
    "       sum(committee_total) AS total,\n",
    "       cmte_id,\n",
    "       pacshort AS committee\n",
    "FROM\n",
    "  (SELECT match_id,\n",
    "          organizations,\n",
    "          contributors,\n",
    "          sum(amount) AS committee_total,\n",
    "          cmteid AS cmte_id\n",
    "   FROM\n",
    "     (SELECT CASE\n",
    "                 WHEN trim(contribid) != '' THEN left(contribid, 11)\n",
    "                 ELSE orgname\n",
    "             END AS match_id,\n",
    "             array_agg(DISTINCT orgname) AS organizations,\n",
    "             array_agg(DISTINCT contrib) AS contributors\n",
    "      FROM crp_contributions\n",
    "      LEFT JOIN crp_committees ON crp_contributions.cmteid = crp_committees.cmteid\n",
    "      AND crp_committees.cycle = '2018'\n",
    "      WHERE primcode IN ('J1100',\n",
    "                         'J2200',\n",
    "                         'J2400',\n",
    "                         'Z1100',\n",
    "                         'Z4100',\n",
    "                         'Z4500',\n",
    "                         'Z5100')\n",
    "        AND date >= '2017-11-02'\n",
    "        AND date <= '2017-12-31'\n",
    "        AND crp_contributions.cycle = '2018'\n",
    "        AND TYPE NOT IN ('11J',\n",
    "                         '15C',\n",
    "                         '15E',\n",
    "                         '15I',\n",
    "                         '15J',\n",
    "                         '15T',\n",
    "                         '18J',\n",
    "                         '19J',\n",
    "                         '30J',\n",
    "                         '30F',\n",
    "                         '31J',\n",
    "                         '31F',\n",
    "                         '32J',\n",
    "                         '32F')\n",
    "      GROUP BY match_id\n",
    "      HAVING sum(amount) >= 50000) AS gop_donors\n",
    "   JOIN crp_contributions ON CASE\n",
    "                                 WHEN trim(contribid) != '' THEN left(contribid, 11)\n",
    "                                 ELSE crp_contributions.orgname\n",
    "                             END = gop_donors.match_id\n",
    "   WHERE date >= '2013-11-02'\n",
    "     AND date <= '2013-12-31'\n",
    "     AND CYCLE = '2014'\n",
    "     AND TYPE NOT IN ('11J',\n",
    "                      '15C',\n",
    "                      '15E',\n",
    "                      '15I',\n",
    "                      '15J',\n",
    "                      '15T',\n",
    "                      '18J',\n",
    "                      '19J',\n",
    "                      '30J',\n",
    "                      '30F',\n",
    "                      '31J',\n",
    "                      '31F',\n",
    "                      '32J',\n",
    "                      '32F')\n",
    "   GROUP BY match_id,\n",
    "            organizations,\n",
    "            contributors,\n",
    "            cmte_id) AS donors_committees\n",
    "JOIN crp_committees ON donors_committees.cmte_id = crp_committees.cmteid\n",
    "AND crp_committees.CYCLE = '2014'\n",
    "WHERE primcode IN ('J1100',\n",
    "                   'J2200',\n",
    "                   'J2400',\n",
    "                   'Z1100',\n",
    "                   'Z4100',\n",
    "                   'Z4500',\n",
    "                   'Z5100')\n",
    "GROUP BY match_id,\n",
    "         organizations,\n",
    "         contributors,\n",
    "         cmte_id,\n",
    "         committee;\n",
    "\n",
    "GRANT ALL ON TABLE post_bill_donors_committees_13 TO redash_default;\n",
    "\n",
    "\n",
    "SELECT *\n",
    "FROM post_bill_donors_committees_13;\"\"\", con=conn)\n",
    "post_bill_donors_committees_13.info()"
   ]
  },
  {
   "cell_type": "markdown",
   "metadata": {},
   "source": [
    "Group by donor."
   ]
  },
  {
   "cell_type": "code",
   "execution_count": null,
   "metadata": {},
   "outputs": [],
   "source": [
    "post_bill_donors_13 = post_bill_donors_committees_13.groupby([\"match_id\"]).agg({\"organizations\": max, \"contributors\": max, \"total\": sum}).reset_index()\n",
    "post_bill_donors_13.info()"
   ]
  },
  {
   "cell_type": "markdown",
   "metadata": {},
   "source": [
    "## How much did they give?"
   ]
  },
  {
   "cell_type": "code",
   "execution_count": null,
   "metadata": {},
   "outputs": [],
   "source": [
    "post_bill_donors_13[\"total\"].sum()"
   ]
  },
  {
   "cell_type": "markdown",
   "metadata": {},
   "source": [
    "## Had these megadonors given previously in 2013?"
   ]
  },
  {
   "cell_type": "markdown",
   "metadata": {},
   "source": [
    "Return contributions by donor and committee."
   ]
  },
  {
   "cell_type": "code",
   "execution_count": null,
   "metadata": {},
   "outputs": [],
   "source": [
    "pre_bill_donors_committees_13 = pd.read_sql(\"\"\"CREATE TABLE IF NOT EXISTS pre_bill_donors_committees_13 AS\n",
    "SELECT match_id,\n",
    "       organizations,\n",
    "       contributors,\n",
    "       sum(committee_total) AS total,\n",
    "       cmte_id,\n",
    "       pacshort AS committee\n",
    "FROM\n",
    "  (SELECT match_id,\n",
    "          organizations,\n",
    "          contributors,\n",
    "          sum(amount) AS committee_total,\n",
    "          cmteid AS cmte_id\n",
    "   FROM\n",
    "     (SELECT CASE\n",
    "                 WHEN trim(contribid) != '' THEN left(contribid, 11)\n",
    "                 ELSE orgname\n",
    "             END AS match_id,\n",
    "             array_agg(DISTINCT orgname) AS organizations,\n",
    "             array_agg(DISTINCT contrib) AS contributors\n",
    "      FROM crp_contributions\n",
    "      LEFT JOIN crp_committees ON crp_contributions.cmteid = crp_committees.cmteid\n",
    "      AND crp_committees.cycle = '2018'\n",
    "      WHERE primcode IN ('J1100',\n",
    "                         'J2200',\n",
    "                         'J2400',\n",
    "                         'Z1100',\n",
    "                         'Z4100',\n",
    "                         'Z4500',\n",
    "                         'Z5100')\n",
    "        AND date >= '2017-11-02'\n",
    "        AND date <= '2017-12-31'\n",
    "        AND crp_contributions.cycle = '2018'\n",
    "        AND TYPE NOT IN ('11J',\n",
    "                         '15C',\n",
    "                         '15E',\n",
    "                         '15I',\n",
    "                         '15J',\n",
    "                         '15T',\n",
    "                         '18J',\n",
    "                         '19J',\n",
    "                         '30J',\n",
    "                         '30F',\n",
    "                         '31J',\n",
    "                         '31F',\n",
    "                         '32J',\n",
    "                         '32F')\n",
    "      GROUP BY match_id\n",
    "      HAVING sum(amount) >= 50000) AS gop_donors\n",
    "   JOIN crp_contributions ON CASE\n",
    "                                 WHEN trim(contribid) != '' THEN left(contribid, 11)\n",
    "                                 ELSE crp_contributions.orgname\n",
    "                             END = gop_donors.match_id\n",
    "   WHERE date >= '2013-01-01'\n",
    "     AND date < '2013-11-02'\n",
    "     AND CYCLE = '2014'\n",
    "     AND TYPE NOT IN ('11J',\n",
    "                      '15C',\n",
    "                      '15E',\n",
    "                      '15I',\n",
    "                      '15J',\n",
    "                      '15T',\n",
    "                      '18J',\n",
    "                      '19J',\n",
    "                      '30J',\n",
    "                      '30F',\n",
    "                      '31J',\n",
    "                      '31F',\n",
    "                      '32J',\n",
    "                      '32F')\n",
    "   GROUP BY match_id,\n",
    "            organizations,\n",
    "            contributors,\n",
    "            cmte_id) AS donors_committees\n",
    "JOIN crp_committees ON donors_committees.cmte_id = crp_committees.cmteid\n",
    "AND crp_committees.CYCLE = '2014'\n",
    "WHERE primcode IN ('J1100',\n",
    "                   'J2200',\n",
    "                   'J2400',\n",
    "                   'Z1100',\n",
    "                   'Z4100',\n",
    "                   'Z4500',\n",
    "                   'Z5100')\n",
    "GROUP BY match_id,\n",
    "         organizations,\n",
    "         contributors,\n",
    "         cmte_id,\n",
    "         committee;\n",
    "\n",
    "GRANT ALL ON TABLE pre_bill_donors_committees_13 TO redash_default;\n",
    "\n",
    "\n",
    "SELECT *\n",
    "FROM pre_bill_donors_committees_13;\"\"\", con=conn)\n",
    "pre_bill_donors_committees_13.info()"
   ]
  },
  {
   "cell_type": "markdown",
   "metadata": {},
   "source": [
    "Group by donor."
   ]
  },
  {
   "cell_type": "code",
   "execution_count": null,
   "metadata": {},
   "outputs": [],
   "source": [
    "pre_bill_donors_13 = pre_bill_donors_committees_13.groupby([\"match_id\"]).agg({\"organizations\": max, \"contributors\": max, \"total\": sum}).reset_index()\n",
    "pre_bill_donors_13.info()"
   ]
  },
  {
   "cell_type": "markdown",
   "metadata": {},
   "source": [
    "## How much did they give?"
   ]
  },
  {
   "cell_type": "code",
   "execution_count": null,
   "metadata": {},
   "outputs": [],
   "source": [
    "pre_bill_donors_13[\"total\"].sum()"
   ]
  },
  {
   "cell_type": "markdown",
   "metadata": {},
   "source": [
    "## How much did these donors give in each period?"
   ]
  },
  {
   "cell_type": "code",
   "execution_count": null,
   "metadata": {},
   "outputs": [],
   "source": [
    "donors_13 = post_bill_donors_13.merge(pre_bill_donors_13, how=\"outer\", on=\"match_id\", suffixes=[\"_post_bill\", \"_pre_bill\"])\n",
    "donors_13[\"total_pre_bill\"].fillna(0, inplace=True)\n",
    "donors_13[\"total_post_bill\"].fillna(0, inplace=True)\n",
    "donors_13.info()"
   ]
  },
  {
   "cell_type": "code",
   "execution_count": null,
   "metadata": {},
   "outputs": [],
   "source": [
    "donors_13[\"pct_post_bill\"] = donors_13[\"total_post_bill\"] / (donors_13[\"total_pre_bill\"] + donors_13[\"total_post_bill\"])\n",
    "donors_13[\"pct_pre_bill\"] = donors_13[\"total_pre_bill\"] / (donors_13[\"total_pre_bill\"] + donors_13[\"total_post_bill\"])\n",
    "donors_13[\"change\"] = donors_13[\"total_post_bill\"] - donors_13[\"total_pre_bill\"]\n",
    "donors_13[\"pct_change\"] = (donors_13[\"total_post_bill\"] - donors_13[\"total_pre_bill\"]) / donors_13[\"total_pre_bill\"].abs()\n",
    "donors_13 = donors_13[[\"match_id\", \"organizations_post_bill\", \"contributors_post_bill\",\n",
    "                       \"organizations_pre_bill\", \"contributors_pre_bill\", \"total_post_bill\",\n",
    "                       \"total_pre_bill\", \"pct_post_bill\", \"pct_pre_bill\", \"change\", \"pct_change\"]]\n",
    "donors_13.head()"
   ]
  },
  {
   "cell_type": "markdown",
   "metadata": {},
   "source": [
    "## How many of these donors gave all of their money between Nov. 2 and Dec. 31?"
   ]
  },
  {
   "cell_type": "code",
   "execution_count": null,
   "metadata": {},
   "outputs": [],
   "source": [
    "donors_13[donors_13[\"pct_post_bill\"] == 1].count()"
   ]
  },
  {
   "cell_type": "markdown",
   "metadata": {},
   "source": [
    "## And did their giving patterns change between the cycles?"
   ]
  },
  {
   "cell_type": "code",
   "execution_count": null,
   "metadata": {},
   "outputs": [],
   "source": [
    "donors_13_17 = donors_17.merge(donors_13, how=\"outer\", on=\"match_id\", suffixes=[\"_17\", \"_13\"])\n",
    "donors_13_17.drop([\"change_17\", \"pct_change_17\", \"organizations_post_bill\", \"contributors_post_bill\",\n",
    "             \"organizations_pre_bill\", \"contributors_pre_bill\", \"change_13\", \"pct_change_13\"],\n",
    "            axis=1, inplace=True)\n",
    "donors_13_17.rename(columns={\"organizations_17\": \"organizations\", \"contributors_17\": \"contributors\"})\n",
    "donors_13_17 = donors_13_17[[\"match_id\", \"contributors\", \"organizations\", \"total_pre_bill_13\", \"total_post_bill_13\",\n",
    "                 \"pct_pre_bill_13\", \"pct_post_bill_13\", \"total_pre_bill_17\", \"total_post_bill_17\",\n",
    "                 \"pct_pre_bill_17\", \"pct_post_bill_17\"]]\n",
    "donors_13_17.info()"
   ]
  },
  {
   "cell_type": "code",
   "execution_count": null,
   "metadata": {},
   "outputs": [],
   "source": [
    "donors_13_17[\"giving_change\"] = np.where((donors_13_17[\"pct_post_bill_17\"] > donors_13_17[\"pct_post_bill_13\"]) | (donors_13_17[\"pct_pre_bill_13\"].isnull()), \"Increased\",\n",
    "                                  np.where(donors_13_17[\"pct_post_bill_17\"] < donors_13_17[\"pct_post_bill_13\"], \"Decreased\",\n",
    "                                           np.where(donors_13_17[\"pct_post_bill_17\"] == donors_13_17[\"pct_post_bill_13\"], \"Stayed the same\",\n",
    "                                                   \"Other\")))\n",
    "donors_13_17.head(1)"
   ]
  },
  {
   "cell_type": "markdown",
   "metadata": {},
   "source": [
    "## What proportion of donors increased the share of their annual giving that fell in the last two months of 2017 as compared with the same period in 2013?"
   ]
  },
  {
   "cell_type": "code",
   "execution_count": null,
   "metadata": {},
   "outputs": [],
   "source": [
    "donors_13_17[donors_13_17[\"giving_change\"] == \"Increased\"].count() / donors_13_17.count()"
   ]
  },
  {
   "cell_type": "markdown",
   "metadata": {},
   "source": [
    "## And by how much did these individuals' giving increase?"
   ]
  },
  {
   "cell_type": "code",
   "execution_count": null,
   "metadata": {},
   "outputs": [],
   "source": [
    "donors_13_17[donors_13_17[\"giving_change\"] == \"Increased\"][\"total_post_bill_17\"].sum()"
   ]
  },
  {
   "cell_type": "code",
   "execution_count": null,
   "metadata": {},
   "outputs": [],
   "source": [
    "donors_13_17[donors_13_17[\"giving_change\"] == \"Increased\"][\"total_post_bill_13\"].sum()"
   ]
  },
  {
   "cell_type": "code",
   "execution_count": null,
   "metadata": {},
   "outputs": [],
   "source": [
    "donors_13_17[donors_13_17[\"giving_change\"] == \"Increased\"][\"total_post_bill_17\"].sum() - donors_13_17[donors_13_17[\"giving_change\"] == \"Increased\"][\"total_post_bill_13\"].sum()"
   ]
  },
  {
   "cell_type": "markdown",
   "metadata": {},
   "source": [
    "# What does this giving look like on a contribution-by-contribution level during the equivalent post-bill introduction period in 2013?"
   ]
  },
  {
   "cell_type": "code",
   "execution_count": null,
   "metadata": {},
   "outputs": [],
   "source": [
    "post_bill_contributions_13 = pd.read_sql(\"\"\"CREATE TABLE IF NOT EXISTS post_bill_contributions_13 AS\n",
    "SELECT fectransid,\n",
    "       match_id,\n",
    "       organization,\n",
    "       contributor, date, sum(SUM),\n",
    "                          cmte_id,\n",
    "                          pacshort AS committee\n",
    "FROM\n",
    "  (SELECT fectransid,\n",
    "          match_id,\n",
    "          orgname AS organization,\n",
    "          contrib AS contributor, date, sum(amount),\n",
    "                                        cmteid AS cmte_id\n",
    "   FROM\n",
    "     (SELECT CASE\n",
    "                 WHEN trim(contribid) != '' THEN left(contribid, 11)\n",
    "                 ELSE orgname\n",
    "             END AS match_id\n",
    "      FROM crp_contributions\n",
    "      LEFT JOIN crp_committees ON crp_contributions.cmteid = crp_committees.cmteid\n",
    "      AND crp_committees.cycle = '2018'\n",
    "      WHERE primcode IN ('J1100',\n",
    "                         'J2200',\n",
    "                         'J2400',\n",
    "                         'Z1100',\n",
    "                         'Z4100',\n",
    "                         'Z4500',\n",
    "                         'Z5100')\n",
    "        AND date >= '2017-11-02'\n",
    "        AND date <= '2017-12-31'\n",
    "        AND crp_contributions.cycle = '2018'\n",
    "        AND TYPE NOT IN ('11J',\n",
    "                         '15C',\n",
    "                         '15E',\n",
    "                         '15I',\n",
    "                         '15J',\n",
    "                         '15T',\n",
    "                         '18J',\n",
    "                         '19J',\n",
    "                         '30J',\n",
    "                         '30F',\n",
    "                         '31J',\n",
    "                         '31F',\n",
    "                         '32J',\n",
    "                         '32F')\n",
    "      GROUP BY match_id\n",
    "      HAVING sum(amount) >= 50000) AS gop_donors\n",
    "   JOIN crp_contributions ON CASE\n",
    "                                 WHEN trim(contribid) != '' THEN left(contribid, 11)\n",
    "                                 ELSE crp_contributions.orgname\n",
    "                             END = gop_donors.match_id\n",
    "   WHERE date >= '2013-11-02'\n",
    "     AND date <= '2013-12-31'\n",
    "     AND CYCLE = '2014'\n",
    "     AND TYPE NOT IN ('11J',\n",
    "                      '15C',\n",
    "                      '15E',\n",
    "                      '15I',\n",
    "                      '15J',\n",
    "                      '15T',\n",
    "                      '18J',\n",
    "                      '19J',\n",
    "                      '30J',\n",
    "                      '30F',\n",
    "                      '31J',\n",
    "                      '31F',\n",
    "                      '32J',\n",
    "                      '32F')\n",
    "   GROUP BY fectransid,\n",
    "            match_id,\n",
    "            organization,\n",
    "            contributor, date, cmte_id) AS donors_committees\n",
    "JOIN crp_committees ON donors_committees.cmte_id = crp_committees.cmteid\n",
    "AND crp_committees.CYCLE = '2014'\n",
    "WHERE primcode IN ('J1100',\n",
    "                   'J2200',\n",
    "                   'J2400',\n",
    "                   'Z1100',\n",
    "                   'Z4100',\n",
    "                   'Z4500',\n",
    "                   'Z5100')\n",
    "GROUP BY fectransid,\n",
    "         match_id,\n",
    "         organization,\n",
    "         contributor, date, cmte_id,\n",
    "                            committee;\n",
    "\n",
    "GRANT ALL ON TABLE post_bill_contributions_13 TO redash_default;\n",
    "\n",
    "\n",
    "SELECT *\n",
    "FROM post_bill_contributions_13;\"\"\", con=conn)\n",
    "post_bill_contributions_13.info()"
   ]
  },
  {
   "cell_type": "code",
   "execution_count": null,
   "metadata": {},
   "outputs": [],
   "source": [
    "pre_bill_contributions_13 = pd.read_sql(\"\"\"CREATE TABLE IF NOT EXISTS pre_bill_contributions_13 AS\n",
    "SELECT fectransid,\n",
    "       match_id,\n",
    "       organization,\n",
    "       contributor, date, sum(SUM),\n",
    "                          cmte_id,\n",
    "                          pacshort AS committee\n",
    "FROM\n",
    "  (SELECT fectransid,\n",
    "          match_id,\n",
    "          orgname AS organization,\n",
    "          contrib AS contributor, date, sum(amount),\n",
    "                                        cmteid AS cmte_id\n",
    "   FROM\n",
    "     (SELECT CASE\n",
    "                 WHEN trim(contribid) != '' THEN left(contribid, 11)\n",
    "                 ELSE orgname\n",
    "             END AS match_id\n",
    "      FROM crp_contributions\n",
    "      LEFT JOIN crp_committees ON crp_contributions.cmteid = crp_committees.cmteid\n",
    "      AND crp_committees.cycle = '2018'\n",
    "      WHERE primcode IN ('J1100',\n",
    "                         'J2200',\n",
    "                         'J2400',\n",
    "                         'Z1100',\n",
    "                         'Z4100',\n",
    "                         'Z4500',\n",
    "                         'Z5100')\n",
    "        AND date >= '2017-11-02'\n",
    "        AND date <= '2017-12-31'\n",
    "        AND crp_contributions.cycle = '2018'\n",
    "        AND TYPE NOT IN ('11J',\n",
    "                         '15C',\n",
    "                         '15E',\n",
    "                         '15I',\n",
    "                         '15J',\n",
    "                         '15T',\n",
    "                         '18J',\n",
    "                         '19J',\n",
    "                         '30J',\n",
    "                         '30F',\n",
    "                         '31J',\n",
    "                         '31F',\n",
    "                         '32J',\n",
    "                         '32F')\n",
    "      GROUP BY match_id\n",
    "      HAVING sum(amount) >= 50000) AS gop_donors\n",
    "   JOIN crp_contributions ON CASE\n",
    "                                 WHEN trim(contribid) != '' THEN left(contribid, 11)\n",
    "                                 ELSE crp_contributions.orgname\n",
    "                             END = gop_donors.match_id\n",
    "   WHERE date >= '2013-01-01'\n",
    "     AND date < '2013-11-02'\n",
    "     AND CYCLE = '2014'\n",
    "     AND TYPE NOT IN ('11J',\n",
    "                      '15C',\n",
    "                      '15E',\n",
    "                      '15I',\n",
    "                      '15J',\n",
    "                      '15T',\n",
    "                      '18J',\n",
    "                      '19J',\n",
    "                      '30J',\n",
    "                      '30F',\n",
    "                      '31J',\n",
    "                      '31F',\n",
    "                      '32J',\n",
    "                      '32F')\n",
    "   GROUP BY fectransid,\n",
    "            match_id,\n",
    "            organization,\n",
    "            contributor, date, cmte_id) AS donors_committees\n",
    "JOIN crp_committees ON donors_committees.cmte_id = crp_committees.cmteid\n",
    "AND crp_committees.CYCLE = '2014'\n",
    "WHERE primcode IN ('J1100',\n",
    "                   'J2200',\n",
    "                   'J2400',\n",
    "                   'Z1100',\n",
    "                   'Z4100',\n",
    "                   'Z4500',\n",
    "                   'Z5100')\n",
    "GROUP BY fectransid,\n",
    "         match_id,\n",
    "         organization,\n",
    "         contributor, date, cmte_id,\n",
    "                            committee;\n",
    "\n",
    "GRANT ALL ON TABLE pre_bill_contributions_13 TO redash_default;\n",
    "\n",
    "\n",
    "SELECT *\n",
    "FROM pre_bill_contributions_13;\"\"\", con=conn)\n",
    "pre_bill_contributions_13.info()"
   ]
  },
  {
   "cell_type": "markdown",
   "metadata": {},
   "source": [
    "## Had these megadonors given between Nov. 2 and Dec. 31, 2011?"
   ]
  },
  {
   "cell_type": "markdown",
   "metadata": {},
   "source": [
    "Return contributions by donor and committee."
   ]
  },
  {
   "cell_type": "code",
   "execution_count": null,
   "metadata": {},
   "outputs": [],
   "source": [
    "post_bill_donors_committees_11 = pd.read_sql(\"\"\"CREATE TABLE IF NOT EXISTS post_bill_donors_committees_11 AS\n",
    "SELECT match_id,\n",
    "       organizations,\n",
    "       contributors,\n",
    "       sum(committee_total) AS total,\n",
    "       cmte_id,\n",
    "       pacshort AS committee\n",
    "FROM\n",
    "  (SELECT match_id,\n",
    "          organizations,\n",
    "          contributors,\n",
    "          sum(amount) AS committee_total,\n",
    "          cmteid AS cmte_id\n",
    "   FROM\n",
    "     (SELECT CASE\n",
    "                 WHEN trim(contribid) != '' THEN left(contribid, 11)\n",
    "                 ELSE orgname\n",
    "             END AS match_id,\n",
    "             array_agg(DISTINCT orgname) AS organizations,\n",
    "             array_agg(DISTINCT contrib) AS contributors\n",
    "      FROM crp_contributions\n",
    "      LEFT JOIN crp_committees ON crp_contributions.cmteid = crp_committees.cmteid\n",
    "      AND crp_committees.cycle = '2018'\n",
    "      WHERE primcode IN ('J1100',\n",
    "                         'J2200',\n",
    "                         'J2400',\n",
    "                         'Z1100',\n",
    "                         'Z4100',\n",
    "                         'Z4500',\n",
    "                         'Z5100')\n",
    "        AND date >= '2017-11-02'\n",
    "        AND date <= '2017-12-31'\n",
    "        AND crp_contributions.cycle = '2018'\n",
    "        AND TYPE NOT IN ('11J',\n",
    "                         '15C',\n",
    "                         '15E',\n",
    "                         '15I',\n",
    "                         '15J',\n",
    "                         '15T',\n",
    "                         '18J',\n",
    "                         '19J',\n",
    "                         '30J',\n",
    "                         '30F',\n",
    "                         '31J',\n",
    "                         '31F',\n",
    "                         '32J',\n",
    "                         '32F')\n",
    "      GROUP BY match_id\n",
    "      HAVING sum(amount) >= 50000) AS gop_donors\n",
    "   JOIN crp_contributions ON CASE\n",
    "                                 WHEN trim(contribid) != '' THEN left(contribid, 11)\n",
    "                                 ELSE crp_contributions.orgname\n",
    "                             END = gop_donors.match_id\n",
    "   WHERE date >= '2011-11-02'\n",
    "     AND date <= '2011-12-31'\n",
    "     AND CYCLE = '2012'\n",
    "     AND TYPE NOT IN ('11J',\n",
    "                      '15C',\n",
    "                      '15E',\n",
    "                      '15I',\n",
    "                      '15J',\n",
    "                      '15T',\n",
    "                      '18J',\n",
    "                      '19J',\n",
    "                      '30J',\n",
    "                      '30F',\n",
    "                      '31J',\n",
    "                      '31F',\n",
    "                      '32J',\n",
    "                      '32F')\n",
    "   GROUP BY match_id,\n",
    "            organizations,\n",
    "            contributors,\n",
    "            cmte_id) AS donors_committees\n",
    "JOIN crp_committees ON donors_committees.cmte_id = crp_committees.cmteid\n",
    "AND crp_committees.CYCLE = '2012'\n",
    "WHERE primcode IN ('J1100',\n",
    "                   'J2200',\n",
    "                   'J2400',\n",
    "                   'Z1100',\n",
    "                   'Z4100',\n",
    "                   'Z4500',\n",
    "                   'Z5100')\n",
    "GROUP BY match_id,\n",
    "         organizations,\n",
    "         contributors,\n",
    "         cmte_id,\n",
    "         committee;\n",
    "\n",
    "GRANT ALL ON TABLE post_bill_donors_committees_11 TO redash_default;\n",
    "\n",
    "\n",
    "SELECT *\n",
    "FROM post_bill_donors_committees_11;\"\"\", con=conn)\n",
    "post_bill_donors_committees_11.info()"
   ]
  },
  {
   "cell_type": "markdown",
   "metadata": {},
   "source": [
    "Group by donor."
   ]
  },
  {
   "cell_type": "code",
   "execution_count": null,
   "metadata": {},
   "outputs": [],
   "source": [
    "post_bill_donors_11 = post_bill_donors_committees_11.groupby([\"match_id\"]).agg({\"organizations\": max, \"contributors\": max, \"total\": sum}).reset_index()\n",
    "post_bill_donors_11.info()"
   ]
  },
  {
   "cell_type": "markdown",
   "metadata": {},
   "source": [
    "## How much did they give?"
   ]
  },
  {
   "cell_type": "code",
   "execution_count": null,
   "metadata": {},
   "outputs": [],
   "source": [
    "post_bill_donors_11[\"total\"].sum()"
   ]
  },
  {
   "cell_type": "markdown",
   "metadata": {},
   "source": [
    "## Had these megadonors given previously in 2011?"
   ]
  },
  {
   "cell_type": "markdown",
   "metadata": {},
   "source": [
    "Return contributions by donor and committee."
   ]
  },
  {
   "cell_type": "code",
   "execution_count": null,
   "metadata": {},
   "outputs": [],
   "source": [
    "pre_bill_donors_committees_11 = pd.read_sql(\"\"\"CREATE TABLE IF NOT EXISTS pre_bill_donors_committees_11 AS\n",
    "SELECT match_id,\n",
    "       organizations,\n",
    "       contributors,\n",
    "       sum(committee_total) AS total,\n",
    "       cmte_id,\n",
    "       pacshort AS committee\n",
    "FROM\n",
    "  (SELECT match_id,\n",
    "          organizations,\n",
    "          contributors,\n",
    "          sum(amount) AS committee_total,\n",
    "          cmteid AS cmte_id\n",
    "   FROM\n",
    "     (SELECT CASE\n",
    "                 WHEN trim(contribid) != '' THEN left(contribid, 11)\n",
    "                 ELSE orgname\n",
    "             END AS match_id,\n",
    "             array_agg(DISTINCT orgname) AS organizations,\n",
    "             array_agg(DISTINCT contrib) AS contributors\n",
    "      FROM crp_contributions\n",
    "      LEFT JOIN crp_committees ON crp_contributions.cmteid = crp_committees.cmteid\n",
    "      AND crp_committees.cycle = '2018'\n",
    "      WHERE primcode IN ('J1100',\n",
    "                         'J2200',\n",
    "                         'J2400',\n",
    "                         'Z1100',\n",
    "                         'Z4100',\n",
    "                         'Z4500',\n",
    "                         'Z5100')\n",
    "        AND date >= '2017-11-02'\n",
    "        AND date <= '2017-12-31'\n",
    "        AND crp_contributions.cycle = '2018'\n",
    "        AND TYPE NOT IN ('11J',\n",
    "                         '15C',\n",
    "                         '15E',\n",
    "                         '15I',\n",
    "                         '15J',\n",
    "                         '15T',\n",
    "                         '18J',\n",
    "                         '19J',\n",
    "                         '30J',\n",
    "                         '30F',\n",
    "                         '31J',\n",
    "                         '31F',\n",
    "                         '32J',\n",
    "                         '32F')\n",
    "      GROUP BY match_id\n",
    "      HAVING sum(amount) >= 50000) AS gop_donors\n",
    "   JOIN crp_contributions ON CASE\n",
    "                                 WHEN trim(contribid) != '' THEN left(contribid, 11)\n",
    "                                 ELSE crp_contributions.orgname\n",
    "                             END = gop_donors.match_id\n",
    "   WHERE date >= '2011-01-01'\n",
    "     AND date < '2011-11-02'\n",
    "     AND CYCLE = '2012'\n",
    "     AND TYPE NOT IN ('11J',\n",
    "                      '15C',\n",
    "                      '15E',\n",
    "                      '15I',\n",
    "                      '15J',\n",
    "                      '15T',\n",
    "                      '18J',\n",
    "                      '19J',\n",
    "                      '30J',\n",
    "                      '30F',\n",
    "                      '31J',\n",
    "                      '31F',\n",
    "                      '32J',\n",
    "                      '32F')\n",
    "   GROUP BY match_id,\n",
    "            organizations,\n",
    "            contributors,\n",
    "            cmte_id) AS donors_committees\n",
    "JOIN crp_committees ON donors_committees.cmte_id = crp_committees.cmteid\n",
    "AND crp_committees.CYCLE = '2012'\n",
    "WHERE primcode IN ('J1100',\n",
    "                   'J2200',\n",
    "                   'J2400',\n",
    "                   'Z1100',\n",
    "                   'Z4100',\n",
    "                   'Z4500',\n",
    "                   'Z5100')\n",
    "GROUP BY match_id,\n",
    "         organizations,\n",
    "         contributors,\n",
    "         cmte_id,\n",
    "         committee;\n",
    "\n",
    "GRANT ALL ON TABLE pre_bill_donors_committees_11 TO redash_default;\n",
    "\n",
    "\n",
    "SELECT *\n",
    "FROM pre_bill_donors_committees_11;\"\"\", con=conn)\n",
    "pre_bill_donors_committees_11.info()"
   ]
  },
  {
   "cell_type": "markdown",
   "metadata": {},
   "source": [
    "Group by donor."
   ]
  },
  {
   "cell_type": "code",
   "execution_count": null,
   "metadata": {},
   "outputs": [],
   "source": [
    "pre_bill_donors_11 = pre_bill_donors_committees_11.groupby([\"match_id\"]).agg({\"organizations\": max, \"contributors\": max, \"total\": sum}).reset_index()\n",
    "pre_bill_donors_11.info()"
   ]
  },
  {
   "cell_type": "markdown",
   "metadata": {},
   "source": [
    "## How much did they give?"
   ]
  },
  {
   "cell_type": "code",
   "execution_count": null,
   "metadata": {},
   "outputs": [],
   "source": [
    "pre_bill_donors_11[\"total\"].sum()"
   ]
  },
  {
   "cell_type": "markdown",
   "metadata": {},
   "source": [
    "## How much did these donors give in each period?"
   ]
  },
  {
   "cell_type": "code",
   "execution_count": null,
   "metadata": {},
   "outputs": [],
   "source": [
    "donors_11 = post_bill_donors_11.merge(pre_bill_donors_11, how=\"outer\", on=\"match_id\", suffixes=[\"_post_bill\", \"_pre_bill\"])\n",
    "donors_11[\"total_pre_bill\"].fillna(0, inplace=True)\n",
    "donors_11[\"total_post_bill\"].fillna(0, inplace=True)\n",
    "donors_11.info()"
   ]
  },
  {
   "cell_type": "code",
   "execution_count": null,
   "metadata": {},
   "outputs": [],
   "source": [
    "donors_11[\"pct_post_bill\"] = donors_11[\"total_post_bill\"] / (donors_11[\"total_pre_bill\"] + donors_11[\"total_post_bill\"])\n",
    "donors_11[\"pct_pre_bill\"] = donors_11[\"total_pre_bill\"] / (donors_11[\"total_pre_bill\"] + donors_11[\"total_post_bill\"])\n",
    "donors_11[\"change\"] = donors_11[\"total_post_bill\"] - donors_11[\"total_pre_bill\"]\n",
    "donors_11[\"pct_change\"] = (donors_11[\"total_post_bill\"] - donors_11[\"total_pre_bill\"]) / donors_11[\"total_pre_bill\"].abs()\n",
    "donors_11 = donors_11[[\"match_id\", \"organizations_post_bill\", \"contributors_post_bill\",\n",
    "                       \"organizations_pre_bill\", \"contributors_pre_bill\", \"total_post_bill\",\n",
    "                       \"total_pre_bill\", \"pct_post_bill\", \"pct_pre_bill\", \"change\", \"pct_change\"]]\n",
    "donors_11.head()"
   ]
  },
  {
   "cell_type": "markdown",
   "metadata": {},
   "source": [
    "## How many of these donors gave all of their money between Nov. 2 and Dec. 31?"
   ]
  },
  {
   "cell_type": "code",
   "execution_count": null,
   "metadata": {},
   "outputs": [],
   "source": [
    "donors_11[donors_11[\"pct_post_bill\"] == 1].count()"
   ]
  },
  {
   "cell_type": "markdown",
   "metadata": {},
   "source": [
    "## And did their giving patterns change between the cycles?"
   ]
  },
  {
   "cell_type": "code",
   "execution_count": null,
   "metadata": {},
   "outputs": [],
   "source": [
    "donors_11_17 = donors_17.merge(donors_11, how=\"outer\", on=\"match_id\", suffixes=[\"_17\", \"_11\"])\n",
    "donors_11_17.drop([\"change_17\", \"pct_change_17\", \"organizations_post_bill\", \"contributors_post_bill\",\n",
    "             \"organizations_pre_bill\", \"contributors_pre_bill\", \"change_11\", \"pct_change_11\"],\n",
    "            axis=1, inplace=True)\n",
    "donors_11_17.rename(columns={\"organizations_17\": \"organizations\", \"contributors_17\": \"contributors\"})\n",
    "donors_11_17 = donors_11_17[[\"match_id\", \"contributors\", \"organizations\", \"total_pre_bill_11\", \"total_post_bill_11\",\n",
    "                 \"pct_pre_bill_11\", \"pct_post_bill_11\", \"total_pre_bill_17\", \"total_post_bill_17\",\n",
    "                 \"pct_pre_bill_17\", \"pct_post_bill_17\"]]\n",
    "donors_11_17.info()"
   ]
  },
  {
   "cell_type": "code",
   "execution_count": null,
   "metadata": {},
   "outputs": [],
   "source": [
    "donors_11_17[\"giving_change\"] = np.where((donors_11_17[\"pct_post_bill_17\"] > donors_11_17[\"pct_post_bill_11\"]) | (donors_11_17[\"pct_pre_bill_11\"].isnull()), \"Increased\",\n",
    "                                  np.where(donors_11_17[\"pct_post_bill_17\"] < donors_11_17[\"pct_post_bill_11\"], \"Decreased\",\n",
    "                                           np.where(donors_11_17[\"pct_post_bill_17\"] == donors_11_17[\"pct_post_bill_11\"], \"Stayed the same\",\n",
    "                                                   \"Other\")))\n",
    "donors_11_17.head(1)"
   ]
  },
  {
   "cell_type": "markdown",
   "metadata": {},
   "source": [
    "## What proportion of donors increased the share of their annual giving that fell in the last two months of 2017 as compared with the same period in 2011?"
   ]
  },
  {
   "cell_type": "code",
   "execution_count": null,
   "metadata": {},
   "outputs": [],
   "source": [
    "donors_11_17[donors_11_17[\"giving_change\"] == \"Increased\"].count() / donors_11_17.count()"
   ]
  },
  {
   "cell_type": "markdown",
   "metadata": {},
   "source": [
    "## And by how much did these individuals' giving increase?"
   ]
  },
  {
   "cell_type": "code",
   "execution_count": null,
   "metadata": {},
   "outputs": [],
   "source": [
    "donors_11_17[donors_11_17[\"giving_change\"] == \"Increased\"][\"total_post_bill_17\"].sum()"
   ]
  },
  {
   "cell_type": "code",
   "execution_count": null,
   "metadata": {},
   "outputs": [],
   "source": [
    "donors_11_17[donors_11_17[\"giving_change\"] == \"Increased\"][\"total_post_bill_11\"].sum()"
   ]
  },
  {
   "cell_type": "code",
   "execution_count": null,
   "metadata": {},
   "outputs": [],
   "source": [
    "donors_11_17[donors_11_17[\"giving_change\"] == \"Increased\"][\"total_post_bill_17\"].sum() - donors_11_17[donors_11_17[\"giving_change\"] == \"Increased\"][\"total_post_bill_11\"].sum()"
   ]
  },
  {
   "cell_type": "markdown",
   "metadata": {},
   "source": [
    "# What does this giving look like on a contribution-by-contribution level during the equivalent post-bill introduction period in 2011?"
   ]
  },
  {
   "cell_type": "code",
   "execution_count": null,
   "metadata": {},
   "outputs": [],
   "source": [
    "post_bill_contributions_11 = pd.read_sql(\"\"\"CREATE TABLE IF NOT EXISTS post_bill_contributions_11 AS\n",
    "SELECT fectransid,\n",
    "       match_id,\n",
    "       organization,\n",
    "       contributor, date, sum(SUM),\n",
    "                          cmte_id,\n",
    "                          pacshort AS committee\n",
    "FROM\n",
    "  (SELECT fectransid,\n",
    "          match_id,\n",
    "          orgname AS organization,\n",
    "          contrib AS contributor, date, sum(amount),\n",
    "                                        cmteid AS cmte_id\n",
    "   FROM\n",
    "     (SELECT CASE\n",
    "                 WHEN trim(contribid) != '' THEN left(contribid, 11)\n",
    "                 ELSE orgname\n",
    "             END AS match_id\n",
    "      FROM crp_contributions\n",
    "      LEFT JOIN crp_committees ON crp_contributions.cmteid = crp_committees.cmteid\n",
    "      AND crp_committees.cycle = '2018'\n",
    "      WHERE primcode IN ('J1100',\n",
    "                         'J2200',\n",
    "                         'J2400',\n",
    "                         'Z1100',\n",
    "                         'Z4100',\n",
    "                         'Z4500',\n",
    "                         'Z5100')\n",
    "        AND date >= '2017-11-02'\n",
    "        AND date <= '2017-12-31'\n",
    "        AND crp_contributions.cycle = '2018'\n",
    "        AND TYPE NOT IN ('11J',\n",
    "                         '15C',\n",
    "                         '15E',\n",
    "                         '15I',\n",
    "                         '15J',\n",
    "                         '15T',\n",
    "                         '18J',\n",
    "                         '19J',\n",
    "                         '30J',\n",
    "                         '30F',\n",
    "                         '31J',\n",
    "                         '31F',\n",
    "                         '32J',\n",
    "                         '32F')\n",
    "      GROUP BY match_id\n",
    "      HAVING sum(amount) >= 50000) AS gop_donors\n",
    "   JOIN crp_contributions ON CASE\n",
    "                                 WHEN trim(contribid) != '' THEN left(contribid, 11)\n",
    "                                 ELSE crp_contributions.orgname\n",
    "                             END = gop_donors.match_id\n",
    "   WHERE date >= '2011-11-02'\n",
    "     AND date <= '2011-12-31'\n",
    "     AND CYCLE = '2012'\n",
    "     AND TYPE NOT IN ('11J',\n",
    "                      '15C',\n",
    "                      '15E',\n",
    "                      '15I',\n",
    "                      '15J',\n",
    "                      '15T',\n",
    "                      '18J',\n",
    "                      '19J',\n",
    "                      '30J',\n",
    "                      '30F',\n",
    "                      '31J',\n",
    "                      '31F',\n",
    "                      '32J',\n",
    "                      '32F')\n",
    "   GROUP BY fectransid,\n",
    "            match_id,\n",
    "            organization,\n",
    "            contributor, date, cmte_id) AS donors_committees\n",
    "JOIN crp_committees ON donors_committees.cmte_id = crp_committees.cmteid\n",
    "AND crp_committees.CYCLE = '2012'\n",
    "WHERE primcode IN ('J1100',\n",
    "                   'J2200',\n",
    "                   'J2400',\n",
    "                   'Z1100',\n",
    "                   'Z4100',\n",
    "                   'Z4500',\n",
    "                   'Z5100')\n",
    "GROUP BY fectransid,\n",
    "         match_id,\n",
    "         organization,\n",
    "         contributor, date, cmte_id,\n",
    "                            committee;\n",
    "\n",
    "GRANT ALL ON TABLE post_bill_contributions_11 TO redash_default;\n",
    "\n",
    "\n",
    "SELECT *\n",
    "FROM post_bill_contributions_11;\"\"\", con=conn)\n",
    "post_bill_contributions_11.info()"
   ]
  },
  {
   "cell_type": "code",
   "execution_count": null,
   "metadata": {},
   "outputs": [],
   "source": [
    "pre_bill_contributions_11 = pd.read_sql(\"\"\"CREATE TABLE IF NOT EXISTS pre_bill_contributions_11 AS\n",
    "SELECT fectransid,\n",
    "       match_id,\n",
    "       organization,\n",
    "       contributor, date, sum(SUM),\n",
    "                          cmte_id,\n",
    "                          pacshort AS committee\n",
    "FROM\n",
    "  (SELECT fectransid,\n",
    "          match_id,\n",
    "          orgname AS organization,\n",
    "          contrib AS contributor, date, sum(amount),\n",
    "                                        cmteid AS cmte_id\n",
    "   FROM\n",
    "     (SELECT CASE\n",
    "                 WHEN trim(contribid) != '' THEN left(contribid, 11)\n",
    "                 ELSE orgname\n",
    "             END AS match_id\n",
    "      FROM crp_contributions\n",
    "      LEFT JOIN crp_committees ON crp_contributions.cmteid = crp_committees.cmteid\n",
    "      AND crp_committees.cycle = '2018'\n",
    "      WHERE primcode IN ('J1100',\n",
    "                         'J2200',\n",
    "                         'J2400',\n",
    "                         'Z1100',\n",
    "                         'Z4100',\n",
    "                         'Z4500',\n",
    "                         'Z5100')\n",
    "        AND date >= '2017-11-02'\n",
    "        AND date <= '2017-12-31'\n",
    "        AND crp_contributions.cycle = '2018'\n",
    "        AND TYPE NOT IN ('11J',\n",
    "                         '15C',\n",
    "                         '15E',\n",
    "                         '15I',\n",
    "                         '15J',\n",
    "                         '15T',\n",
    "                         '18J',\n",
    "                         '19J',\n",
    "                         '30J',\n",
    "                         '30F',\n",
    "                         '31J',\n",
    "                         '31F',\n",
    "                         '32J',\n",
    "                         '32F')\n",
    "      GROUP BY match_id\n",
    "      HAVING sum(amount) >= 50000) AS gop_donors\n",
    "   JOIN crp_contributions ON CASE\n",
    "                                 WHEN trim(contribid) != '' THEN left(contribid, 11)\n",
    "                                 ELSE crp_contributions.orgname\n",
    "                             END = gop_donors.match_id\n",
    "   WHERE date >= '2011-01-01'\n",
    "     AND date < '2011-11-02'\n",
    "     AND CYCLE = '2012'\n",
    "     AND TYPE NOT IN ('11J',\n",
    "                      '15C',\n",
    "                      '15E',\n",
    "                      '15I',\n",
    "                      '15J',\n",
    "                      '15T',\n",
    "                      '18J',\n",
    "                      '19J',\n",
    "                      '30J',\n",
    "                      '30F',\n",
    "                      '31J',\n",
    "                      '31F',\n",
    "                      '32J',\n",
    "                      '32F')\n",
    "   GROUP BY fectransid,\n",
    "            match_id,\n",
    "            organization,\n",
    "            contributor, date, cmte_id) AS donors_committees\n",
    "JOIN crp_committees ON donors_committees.cmte_id = crp_committees.cmteid\n",
    "AND crp_committees.CYCLE = '2012'\n",
    "WHERE primcode IN ('J1100',\n",
    "                   'J2200',\n",
    "                   'J2400',\n",
    "                   'Z1100',\n",
    "                   'Z4100',\n",
    "                   'Z4500',\n",
    "                   'Z5100')\n",
    "GROUP BY fectransid,\n",
    "         match_id,\n",
    "         organization,\n",
    "         contributor, date, cmte_id,\n",
    "                            committee;\n",
    "\n",
    "GRANT ALL ON TABLE pre_bill_contributions_11 TO redash_default;\n",
    "\n",
    "\n",
    "SELECT *\n",
    "FROM pre_bill_contributions_11;\"\"\", con=conn)\n",
    "pre_bill_contributions_11.info()"
   ]
  },
  {
   "cell_type": "markdown",
   "metadata": {},
   "source": [
    "## Had these megadonors given between Nov. 2 and Dec. 31, 2009?"
   ]
  },
  {
   "cell_type": "markdown",
   "metadata": {},
   "source": [
    "Return contributions by donor and committee."
   ]
  },
  {
   "cell_type": "code",
   "execution_count": null,
   "metadata": {},
   "outputs": [],
   "source": [
    "post_bill_donors_committees_09 = pd.read_sql(\"\"\"CREATE TABLE IF NOT EXISTS post_bill_donors_committees_09 AS\n",
    "SELECT match_id,\n",
    "       organizations,\n",
    "       contributors,\n",
    "       sum(committee_total) AS total,\n",
    "       cmte_id,\n",
    "       pacshort AS committee\n",
    "FROM\n",
    "  (SELECT match_id,\n",
    "          organizations,\n",
    "          contributors,\n",
    "          sum(amount) AS committee_total,\n",
    "          cmteid AS cmte_id\n",
    "   FROM\n",
    "     (SELECT CASE\n",
    "                 WHEN trim(contribid) != '' THEN left(contribid, 11)\n",
    "                 ELSE orgname\n",
    "             END AS match_id,\n",
    "             array_agg(DISTINCT orgname) AS organizations,\n",
    "             array_agg(DISTINCT contrib) AS contributors\n",
    "      FROM crp_contributions\n",
    "      LEFT JOIN crp_committees ON crp_contributions.cmteid = crp_committees.cmteid\n",
    "      AND crp_committees.cycle = '2018'\n",
    "      WHERE primcode IN ('J1100',\n",
    "                         'J2200',\n",
    "                         'J2400',\n",
    "                         'Z1100',\n",
    "                         'Z4100',\n",
    "                         'Z4500',\n",
    "                         'Z5100')\n",
    "        AND date >= '2017-11-02'\n",
    "        AND date <= '2017-12-31'\n",
    "        AND crp_contributions.cycle = '2018'\n",
    "        AND TYPE NOT IN ('11J',\n",
    "                         '15C',\n",
    "                         '15E',\n",
    "                         '15I',\n",
    "                         '15J',\n",
    "                         '15T',\n",
    "                         '18J',\n",
    "                         '19J',\n",
    "                         '30J',\n",
    "                         '30F',\n",
    "                         '31J',\n",
    "                         '31F',\n",
    "                         '32J',\n",
    "                         '32F')\n",
    "      GROUP BY match_id\n",
    "      HAVING sum(amount) >= 50000) AS gop_donors\n",
    "   JOIN crp_contributions ON CASE\n",
    "                                 WHEN trim(contribid) != '' THEN left(contribid, 11)\n",
    "                                 ELSE crp_contributions.orgname\n",
    "                             END = gop_donors.match_id\n",
    "   WHERE date >= '2009-11-02'\n",
    "     AND date <= '2009-12-31'\n",
    "     AND CYCLE = '2010'\n",
    "     AND TYPE NOT IN ('11J',\n",
    "                      '15C',\n",
    "                      '15E',\n",
    "                      '15I',\n",
    "                      '15J',\n",
    "                      '15T',\n",
    "                      '18J',\n",
    "                      '19J',\n",
    "                      '30J',\n",
    "                      '30F',\n",
    "                      '31J',\n",
    "                      '31F',\n",
    "                      '32J',\n",
    "                      '32F')\n",
    "   GROUP BY match_id,\n",
    "            organizations,\n",
    "            contributors,\n",
    "            cmte_id) AS donors_committees\n",
    "JOIN crp_committees ON donors_committees.cmte_id = crp_committees.cmteid\n",
    "AND crp_committees.CYCLE = '2010'\n",
    "WHERE primcode IN ('J1100',\n",
    "                   'J2200',\n",
    "                   'J2400',\n",
    "                   'Z1100',\n",
    "                   'Z4100',\n",
    "                   'Z4500',\n",
    "                   'Z5100')\n",
    "GROUP BY match_id,\n",
    "         organizations,\n",
    "         contributors,\n",
    "         cmte_id,\n",
    "         committee;\n",
    "\n",
    "GRANT ALL ON TABLE post_bill_donors_committees_09 TO redash_default;\n",
    "\n",
    "\n",
    "SELECT *\n",
    "FROM post_bill_donors_committees_09;\"\"\", con=conn)\n",
    "post_bill_donors_committees_09.info()"
   ]
  },
  {
   "cell_type": "markdown",
   "metadata": {},
   "source": [
    "Group by donor."
   ]
  },
  {
   "cell_type": "code",
   "execution_count": null,
   "metadata": {},
   "outputs": [],
   "source": [
    "post_bill_donors_09 = post_bill_donors_committees_09.groupby([\"match_id\"]).agg({\"organizations\": max, \"contributors\": max, \"total\": sum}).reset_index()\n",
    "post_bill_donors_09.info()"
   ]
  },
  {
   "cell_type": "markdown",
   "metadata": {},
   "source": [
    "## How much did they give?"
   ]
  },
  {
   "cell_type": "code",
   "execution_count": null,
   "metadata": {},
   "outputs": [],
   "source": [
    "post_bill_donors_09[\"total\"].sum()"
   ]
  },
  {
   "cell_type": "markdown",
   "metadata": {},
   "source": [
    "## Had these megadonors given previously in 2009?"
   ]
  },
  {
   "cell_type": "markdown",
   "metadata": {},
   "source": [
    "Return contributions by donor and committee."
   ]
  },
  {
   "cell_type": "code",
   "execution_count": null,
   "metadata": {},
   "outputs": [],
   "source": [
    "pre_bill_donors_committees_09 = pd.read_sql(\"\"\"CREATE TABLE IF NOT EXISTS pre_bill_donors_committees_09 AS\n",
    "SELECT match_id,\n",
    "       organizations,\n",
    "       contributors,\n",
    "       sum(committee_total) AS total,\n",
    "       cmte_id,\n",
    "       pacshort AS committee\n",
    "FROM\n",
    "  (SELECT match_id,\n",
    "          organizations,\n",
    "          contributors,\n",
    "          sum(amount) AS committee_total,\n",
    "          cmteid AS cmte_id\n",
    "   FROM\n",
    "     (SELECT CASE\n",
    "                 WHEN trim(contribid) != '' THEN left(contribid, 11)\n",
    "                 ELSE orgname\n",
    "             END AS match_id,\n",
    "             array_agg(DISTINCT orgname) AS organizations,\n",
    "             array_agg(DISTINCT contrib) AS contributors\n",
    "      FROM crp_contributions\n",
    "      LEFT JOIN crp_committees ON crp_contributions.cmteid = crp_committees.cmteid\n",
    "      AND crp_committees.cycle = '2018'\n",
    "      WHERE primcode IN ('J1100',\n",
    "                         'J2200',\n",
    "                         'J2400',\n",
    "                         'Z1100',\n",
    "                         'Z4100',\n",
    "                         'Z4500',\n",
    "                         'Z5100')\n",
    "        AND date >= '2017-11-02'\n",
    "        AND date <= '2017-12-31'\n",
    "        AND crp_contributions.cycle = '2018'\n",
    "        AND TYPE NOT IN ('11J',\n",
    "                         '15C',\n",
    "                         '15E',\n",
    "                         '15I',\n",
    "                         '15J',\n",
    "                         '15T',\n",
    "                         '18J',\n",
    "                         '19J',\n",
    "                         '30J',\n",
    "                         '30F',\n",
    "                         '31J',\n",
    "                         '31F',\n",
    "                         '32J',\n",
    "                         '32F')\n",
    "      GROUP BY match_id\n",
    "      HAVING sum(amount) >= 50000) AS gop_donors\n",
    "   JOIN crp_contributions ON CASE\n",
    "                                 WHEN trim(contribid) != '' THEN left(contribid, 11)\n",
    "                                 ELSE crp_contributions.orgname\n",
    "                             END = gop_donors.match_id\n",
    "   WHERE date >= '2009-01-01'\n",
    "     AND date < '2009-11-02'\n",
    "     AND CYCLE = '2010'\n",
    "     AND TYPE NOT IN ('11J',\n",
    "                      '15C',\n",
    "                      '15E',\n",
    "                      '15I',\n",
    "                      '15J',\n",
    "                      '15T',\n",
    "                      '18J',\n",
    "                      '19J',\n",
    "                      '30J',\n",
    "                      '30F',\n",
    "                      '31J',\n",
    "                      '31F',\n",
    "                      '32J',\n",
    "                      '32F')\n",
    "   GROUP BY match_id,\n",
    "            organizations,\n",
    "            contributors,\n",
    "            cmte_id) AS donors_committees\n",
    "JOIN crp_committees ON donors_committees.cmte_id = crp_committees.cmteid\n",
    "AND crp_committees.CYCLE = '2010'\n",
    "WHERE primcode IN ('J1100',\n",
    "                   'J2200',\n",
    "                   'J2400',\n",
    "                   'Z1100',\n",
    "                   'Z4100',\n",
    "                   'Z4500',\n",
    "                   'Z5100')\n",
    "GROUP BY match_id,\n",
    "         organizations,\n",
    "         contributors,\n",
    "         cmte_id,\n",
    "         committee;\n",
    "\n",
    "GRANT ALL ON TABLE pre_bill_donors_committees_09 TO redash_default;\n",
    "\n",
    "\n",
    "SELECT *\n",
    "FROM pre_bill_donors_committees_09;\"\"\", con=conn)\n",
    "pre_bill_donors_committees_09.info()"
   ]
  },
  {
   "cell_type": "markdown",
   "metadata": {},
   "source": [
    "Group by donor."
   ]
  },
  {
   "cell_type": "code",
   "execution_count": null,
   "metadata": {},
   "outputs": [],
   "source": [
    "pre_bill_donors_09 = pre_bill_donors_committees_09.groupby([\"match_id\"]).agg({\"organizations\": max, \"contributors\": max, \"total\": sum}).reset_index()\n",
    "pre_bill_donors_09.info()"
   ]
  },
  {
   "cell_type": "markdown",
   "metadata": {},
   "source": [
    "## How much did they give?"
   ]
  },
  {
   "cell_type": "code",
   "execution_count": null,
   "metadata": {},
   "outputs": [],
   "source": [
    "pre_bill_donors_09[\"total\"].sum()"
   ]
  },
  {
   "cell_type": "markdown",
   "metadata": {},
   "source": [
    "## How much did these donors give in each period?"
   ]
  },
  {
   "cell_type": "code",
   "execution_count": null,
   "metadata": {},
   "outputs": [],
   "source": [
    "donors_09 = post_bill_donors_09.merge(pre_bill_donors_09, how=\"outer\", on=\"match_id\", suffixes=[\"_post_bill\", \"_pre_bill\"])\n",
    "donors_09[\"total_pre_bill\"].fillna(0, inplace=True)\n",
    "donors_09[\"total_post_bill\"].fillna(0, inplace=True)\n",
    "donors_09.info()"
   ]
  },
  {
   "cell_type": "code",
   "execution_count": null,
   "metadata": {},
   "outputs": [],
   "source": [
    "donors_09[\"pct_post_bill\"] = donors_09[\"total_post_bill\"] / (donors_09[\"total_pre_bill\"] + donors_09[\"total_post_bill\"])\n",
    "donors_09[\"pct_pre_bill\"] = donors_09[\"total_pre_bill\"] / (donors_09[\"total_pre_bill\"] + donors_09[\"total_post_bill\"])\n",
    "donors_09[\"change\"] = donors_09[\"total_post_bill\"] - donors_09[\"total_pre_bill\"]\n",
    "donors_09[\"pct_change\"] = (donors_09[\"total_post_bill\"] - donors_09[\"total_pre_bill\"]) / donors_09[\"total_pre_bill\"].abs()\n",
    "donors_09 = donors_09[[\"match_id\", \"organizations_post_bill\", \"contributors_post_bill\",\n",
    "                       \"organizations_pre_bill\", \"contributors_pre_bill\", \"total_post_bill\",\n",
    "                       \"total_pre_bill\", \"pct_post_bill\", \"pct_pre_bill\", \"change\", \"pct_change\"]]\n",
    "donors_09.head()"
   ]
  },
  {
   "cell_type": "markdown",
   "metadata": {},
   "source": [
    "## How many of these donors gave all of their money between Nov. 2 and Dec. 31?"
   ]
  },
  {
   "cell_type": "code",
   "execution_count": null,
   "metadata": {},
   "outputs": [],
   "source": [
    "donors_09[donors_09[\"pct_post_bill\"] == 1].count()"
   ]
  },
  {
   "cell_type": "markdown",
   "metadata": {},
   "source": [
    "## And did their giving patterns change between the cycles?"
   ]
  },
  {
   "cell_type": "code",
   "execution_count": null,
   "metadata": {},
   "outputs": [],
   "source": [
    "donors_09_17 = donors_17.merge(donors_09, how=\"outer\", on=\"match_id\", suffixes=[\"_17\", \"_09\"])\n",
    "donors_09_17.drop([\"change_17\", \"pct_change_17\", \"organizations_post_bill\", \"contributors_post_bill\",\n",
    "             \"organizations_pre_bill\", \"contributors_pre_bill\", \"change_09\", \"pct_change_09\"],\n",
    "            axis=1, inplace=True)\n",
    "donors_09_17.rename(columns={\"organizations_17\": \"organizations\", \"contributors_17\": \"contributors\"})\n",
    "donors_09_17 = donors_09_17[[\"match_id\", \"contributors\", \"organizations\", \"total_pre_bill_09\", \"total_post_bill_09\",\n",
    "                 \"pct_pre_bill_09\", \"pct_post_bill_09\", \"total_pre_bill_17\", \"total_post_bill_17\",\n",
    "                 \"pct_pre_bill_17\", \"pct_post_bill_17\"]]\n",
    "donors_09_17.info()"
   ]
  },
  {
   "cell_type": "code",
   "execution_count": null,
   "metadata": {},
   "outputs": [],
   "source": [
    "donors_09_17[\"giving_change\"] = np.where((donors_09_17[\"pct_post_bill_17\"] > donors_09_17[\"pct_post_bill_09\"]) | (donors_09_17[\"pct_pre_bill_09\"].isnull()), \"Increased\",\n",
    "                                  np.where(donors_09_17[\"pct_post_bill_17\"] < donors_09_17[\"pct_post_bill_09\"], \"Decreased\",\n",
    "                                           np.where(donors_09_17[\"pct_post_bill_17\"] == donors_09_17[\"pct_post_bill_09\"], \"Stayed the same\",\n",
    "                                                   \"Other\")))\n",
    "donors_09_17.head(1)"
   ]
  },
  {
   "cell_type": "markdown",
   "metadata": {},
   "source": [
    "## What proportion of donors increased the share of their annual giving that fell in the last two months of 2017 as compared with the same period in 2009?"
   ]
  },
  {
   "cell_type": "code",
   "execution_count": null,
   "metadata": {},
   "outputs": [],
   "source": [
    "donors_09_17[donors_09_17[\"giving_change\"] == \"Increased\"].count() / donors_09_17.count()"
   ]
  },
  {
   "cell_type": "markdown",
   "metadata": {},
   "source": [
    "## And by how much did these individuals' giving increase?"
   ]
  },
  {
   "cell_type": "code",
   "execution_count": null,
   "metadata": {},
   "outputs": [],
   "source": [
    "donors_09_17[donors_09_17[\"giving_change\"] == \"Increased\"][\"total_post_bill_17\"].sum()"
   ]
  },
  {
   "cell_type": "code",
   "execution_count": null,
   "metadata": {},
   "outputs": [],
   "source": [
    "donors_09_17[donors_09_17[\"giving_change\"] == \"Increased\"][\"total_post_bill_09\"].sum()"
   ]
  },
  {
   "cell_type": "code",
   "execution_count": null,
   "metadata": {},
   "outputs": [],
   "source": [
    "donors_09_17[donors_09_17[\"giving_change\"] == \"Increased\"][\"total_post_bill_17\"].sum() - donors_09_17[donors_09_17[\"giving_change\"] == \"Increased\"][\"total_post_bill_09\"].sum()"
   ]
  },
  {
   "cell_type": "markdown",
   "metadata": {},
   "source": [
    "# What does this giving look like on a contribution-by-contribution level during the equivalent post-bill introduction period in 2009?"
   ]
  },
  {
   "cell_type": "code",
   "execution_count": null,
   "metadata": {},
   "outputs": [],
   "source": [
    "post_bill_contributions_09 = pd.read_sql(\"\"\"CREATE TABLE IF NOT EXISTS post_bill_contributions_09 AS\n",
    "SELECT fectransid,\n",
    "       match_id,\n",
    "       organization,\n",
    "       contributor, date, sum(SUM),\n",
    "                          cmte_id,\n",
    "                          pacshort AS committee\n",
    "FROM\n",
    "  (SELECT fectransid,\n",
    "          match_id,\n",
    "          orgname AS organization,\n",
    "          contrib AS contributor, date, sum(amount),\n",
    "                                        cmteid AS cmte_id\n",
    "   FROM\n",
    "     (SELECT CASE\n",
    "                 WHEN trim(contribid) != '' THEN left(contribid, 11)\n",
    "                 ELSE orgname\n",
    "             END AS match_id\n",
    "      FROM crp_contributions\n",
    "      LEFT JOIN crp_committees ON crp_contributions.cmteid = crp_committees.cmteid\n",
    "      AND crp_committees.cycle = '2018'\n",
    "      WHERE primcode IN ('J1100',\n",
    "                         'J2200',\n",
    "                         'J2400',\n",
    "                         'Z1100',\n",
    "                         'Z4100',\n",
    "                         'Z4500',\n",
    "                         'Z5100')\n",
    "        AND date >= '2017-11-02'\n",
    "        AND date <= '2017-12-31'\n",
    "        AND crp_contributions.cycle = '2018'\n",
    "        AND TYPE NOT IN ('11J',\n",
    "                         '15C',\n",
    "                         '15E',\n",
    "                         '15I',\n",
    "                         '15J',\n",
    "                         '15T',\n",
    "                         '18J',\n",
    "                         '19J',\n",
    "                         '30J',\n",
    "                         '30F',\n",
    "                         '31J',\n",
    "                         '31F',\n",
    "                         '32J',\n",
    "                         '32F')\n",
    "      GROUP BY match_id\n",
    "      HAVING sum(amount) >= 50000) AS gop_donors\n",
    "   JOIN crp_contributions ON CASE\n",
    "                                 WHEN trim(contribid) != '' THEN left(contribid, 11)\n",
    "                                 ELSE crp_contributions.orgname\n",
    "                             END = gop_donors.match_id\n",
    "   WHERE date >= '2009-11-02'\n",
    "     AND date <= '2009-12-31'\n",
    "     AND CYCLE = '2010'\n",
    "     AND TYPE NOT IN ('11J',\n",
    "                      '15C',\n",
    "                      '15E',\n",
    "                      '15I',\n",
    "                      '15J',\n",
    "                      '15T',\n",
    "                      '18J',\n",
    "                      '19J',\n",
    "                      '30J',\n",
    "                      '30F',\n",
    "                      '31J',\n",
    "                      '31F',\n",
    "                      '32J',\n",
    "                      '32F')\n",
    "   GROUP BY fectransid,\n",
    "            match_id,\n",
    "            organization,\n",
    "            contributor, date, cmte_id) AS donors_committees\n",
    "JOIN crp_committees ON donors_committees.cmte_id = crp_committees.cmteid\n",
    "AND crp_committees.CYCLE = '2010'\n",
    "WHERE primcode IN ('J1100',\n",
    "                   'J2200',\n",
    "                   'J2400',\n",
    "                   'Z1100',\n",
    "                   'Z4100',\n",
    "                   'Z4500',\n",
    "                   'Z5100')\n",
    "GROUP BY fectransid,\n",
    "         match_id,\n",
    "         organization,\n",
    "         contributor, date, cmte_id,\n",
    "                            committee;\n",
    "\n",
    "GRANT ALL ON TABLE post_bill_contributions_09 TO redash_default;\n",
    "\n",
    "\n",
    "SELECT *\n",
    "FROM post_bill_contributions_09;\"\"\", con=conn)\n",
    "post_bill_contributions_09.info()"
   ]
  },
  {
   "cell_type": "code",
   "execution_count": null,
   "metadata": {},
   "outputs": [],
   "source": [
    "pre_bill_contributions_09 = pd.read_sql(\"\"\"CREATE TABLE IF NOT EXISTS pre_bill_contributions_09 AS\n",
    "SELECT fectransid,\n",
    "       match_id,\n",
    "       organization,\n",
    "       contributor, date, sum(SUM),\n",
    "                          cmte_id,\n",
    "                          pacshort AS committee\n",
    "FROM\n",
    "  (SELECT fectransid,\n",
    "          match_id,\n",
    "          orgname AS organization,\n",
    "          contrib AS contributor, date, sum(amount),\n",
    "                                        cmteid AS cmte_id\n",
    "   FROM\n",
    "     (SELECT CASE\n",
    "                 WHEN trim(contribid) != '' THEN left(contribid, 11)\n",
    "                 ELSE orgname\n",
    "             END AS match_id\n",
    "      FROM crp_contributions\n",
    "      LEFT JOIN crp_committees ON crp_contributions.cmteid = crp_committees.cmteid\n",
    "      AND crp_committees.cycle = '2018'\n",
    "      WHERE primcode IN ('J1100',\n",
    "                         'J2200',\n",
    "                         'J2400',\n",
    "                         'Z1100',\n",
    "                         'Z4100',\n",
    "                         'Z4500',\n",
    "                         'Z5100')\n",
    "        AND date >= '2017-11-02'\n",
    "        AND date <= '2017-12-31'\n",
    "        AND crp_contributions.cycle = '2018'\n",
    "        AND TYPE NOT IN ('11J',\n",
    "                         '15C',\n",
    "                         '15E',\n",
    "                         '15I',\n",
    "                         '15J',\n",
    "                         '15T',\n",
    "                         '18J',\n",
    "                         '19J',\n",
    "                         '30J',\n",
    "                         '30F',\n",
    "                         '31J',\n",
    "                         '31F',\n",
    "                         '32J',\n",
    "                         '32F')\n",
    "      GROUP BY match_id\n",
    "      HAVING sum(amount) >= 50000) AS gop_donors\n",
    "   JOIN crp_contributions ON CASE\n",
    "                                 WHEN trim(contribid) != '' THEN left(contribid, 11)\n",
    "                                 ELSE crp_contributions.orgname\n",
    "                             END = gop_donors.match_id\n",
    "   WHERE date >= '2009-01-01'\n",
    "     AND date < '2009-11-02'\n",
    "     AND CYCLE = '2010'\n",
    "     AND TYPE NOT IN ('11J',\n",
    "                      '15C',\n",
    "                      '15E',\n",
    "                      '15I',\n",
    "                      '15J',\n",
    "                      '15T',\n",
    "                      '18J',\n",
    "                      '19J',\n",
    "                      '30J',\n",
    "                      '30F',\n",
    "                      '31J',\n",
    "                      '31F',\n",
    "                      '32J',\n",
    "                      '32F')\n",
    "   GROUP BY fectransid,\n",
    "            match_id,\n",
    "            organization,\n",
    "            contributor, date, cmte_id) AS donors_committees\n",
    "JOIN crp_committees ON donors_committees.cmte_id = crp_committees.cmteid\n",
    "AND crp_committees.CYCLE = '2010'\n",
    "WHERE primcode IN ('J1100',\n",
    "                   'J2200',\n",
    "                   'J2400',\n",
    "                   'Z1100',\n",
    "                   'Z4100',\n",
    "                   'Z4500',\n",
    "                   'Z5100')\n",
    "GROUP BY fectransid,\n",
    "         match_id,\n",
    "         organization,\n",
    "         contributor, date, cmte_id,\n",
    "                            committee;\n",
    "\n",
    "GRANT ALL ON TABLE pre_bill_contributions_09 TO redash_default;\n",
    "\n",
    "\n",
    "SELECT *\n",
    "FROM pre_bill_contributions_09;\"\"\", con=conn)\n",
    "pre_bill_contributions_09.info()"
   ]
  },
  {
   "cell_type": "markdown",
   "metadata": {},
   "source": [
    "## Export data to Excel."
   ]
  },
  {
   "cell_type": "code",
   "execution_count": null,
   "metadata": {},
   "outputs": [],
   "source": [
    "writer = pd.ExcelWriter(\"data/megadonors.xlsx\")\n",
    "donors_15_17.to_excel(writer, \"donors_15_17\", startcol=0, index=False)\n",
    "donors_13_17.to_excel(writer, \"donors_13_17\", startcol=0, index=False)\n",
    "donors_11_17.to_excel(writer, \"donors_11_17\", startcol=0, index=False)\n",
    "donors_09_17.to_excel(writer, \"donors_09_17\", startcol=0, index=False)\n",
    "post_bill_donors_committees_17.to_excel(writer, \"post_bill_donors_committees_17\", startcol=0, index=False)\n",
    "pre_bill_donors_committees_17.to_excel(writer, \"pre_bill_donors_committees_17\", startcol=0, index=False)\n",
    "post_bill_donors_committees_15.to_excel(writer, \"post_bill_donors_committees_15\", startcol=0, index=False)\n",
    "pre_bill_donors_committees_15.to_excel(writer, \"pre_bill_donors_committees_15\", startcol=0, index=False)\n",
    "post_bill_donors_committees_13.to_excel(writer, \"post_bill_donors_committees_13\", startcol=0, index=False)\n",
    "pre_bill_donors_committees_13.to_excel(writer, \"pre_bill_donors_committees_13\", startcol=0, index=False)\n",
    "post_bill_donors_committees_11.to_excel(writer, \"post_bill_donors_committees_11\", startcol=0, index=False)\n",
    "pre_bill_donors_committees_11.to_excel(writer, \"pre_bill_donors_committees_11\", startcol=0, index=False)\n",
    "post_bill_donors_committees_09.to_excel(writer, \"post_bill_donors_committees_09\", startcol=0, index=False)\n",
    "pre_bill_donors_committees_09.to_excel(writer, \"pre_bill_donors_committees_09\", startcol=0, index=False)\n",
    "post_bill_contributions_17.to_excel(writer, \"post_bill_contributions_17\", startcol=0, index=False)\n",
    "pre_bill_contributions_17.to_excel(writer, \"pre_bill_contributions_17\", startcol=0, index=False)\n",
    "post_bill_contributions_15.to_excel(writer, \"post_bill_contributions_15\", startcol=0, index=False)\n",
    "pre_bill_contributions_15.to_excel(writer, \"pre_bill_contributions_15\", startcol=0, index=False)\n",
    "post_bill_contributions_13.to_excel(writer, \"post_bill_contributions_13\", startcol=0, index=False)\n",
    "pre_bill_contributions_13.to_excel(writer, \"pre_bill_contributions_13\", startcol=0, index=False)\n",
    "post_bill_contributions_11.to_excel(writer, \"post_bill_contributions_11\", startcol=0, index=False)\n",
    "pre_bill_contributions_11.to_excel(writer, \"pre_bill_contributions_11\", startcol=0, index=False)\n",
    "post_bill_contributions_09.to_excel(writer, \"post_bill_contributions_09\", startcol=0, index=False)\n",
    "pre_bill_contributions_09.to_excel(writer, \"pre_bill_contributions_09\", startcol=0, index=False)\n",
    "writer.save()"
   ]
  },
  {
   "cell_type": "code",
   "execution_count": null,
   "metadata": {},
   "outputs": [],
   "source": []
  }
 ],
 "metadata": {
  "kernelspec": {
   "display_name": "Python 3",
   "language": "python",
   "name": "python3"
  },
  "language_info": {
   "codemirror_mode": {
    "name": "ipython",
    "version": 3
   },
   "file_extension": ".py",
   "mimetype": "text/x-python",
   "name": "python",
   "nbconvert_exporter": "python",
   "pygments_lexer": "ipython3",
   "version": "3.6.3"
  }
 },
 "nbformat": 4,
 "nbformat_minor": 2
}
