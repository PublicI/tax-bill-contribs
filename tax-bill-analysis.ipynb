{
 "cells": [
  {
   "cell_type": "code",
   "execution_count": 1,
   "metadata": {},
   "outputs": [],
   "source": [
    "import altair as alt\n",
    "from altair.expr import datum, if_\n",
    "import datetime\n",
    "import json\n",
    "import numpy as np\n",
    "import pandas as pd\n",
    "import psycopg2\n",
    "pd.set_option(\"display.max_columns\", 25)\n",
    "pd.set_option(\"display.max_rows\", 150)\n",
    "pd.options.display.float_format = \"{:,.2f}\".format"
   ]
  },
  {
   "cell_type": "markdown",
   "metadata": {},
   "source": [
    "Connect to the database."
   ]
  },
  {
   "cell_type": "code",
   "execution_count": 2,
   "metadata": {},
   "outputs": [],
   "source": [
    "with open(\"config.json\") as f:\n",
    "    conf = json.load(f)\n",
    "conn = psycopg2.connect(\n",
    "    dbname=conf[\"database\"],\n",
    "    user=conf[\"user\"],\n",
    "    host=conf[\"host\"],\n",
    "    password=conf[\"password\"]\n",
    ")\n",
    "conn.autocommit = True"
   ]
  },
  {
   "cell_type": "markdown",
   "metadata": {},
   "source": [
    "## Which families and corporations gave at least $50,000 to conservative and GOP-aligned groups between Nov. 2 and Dec. 31, 2017?"
   ]
  },
  {
   "cell_type": "markdown",
   "metadata": {},
   "source": [
    "Return contributions by donor and committee."
   ]
  },
  {
   "cell_type": "code",
   "execution_count": 3,
   "metadata": {},
   "outputs": [
    {
     "name": "stdout",
     "output_type": "stream",
     "text": [
      "<class 'pandas.core.frame.DataFrame'>\n",
      "RangeIndex: 490 entries, 0 to 489\n",
      "Data columns (total 6 columns):\n",
      "match_id         490 non-null object\n",
      "organizations    490 non-null object\n",
      "contributors     490 non-null object\n",
      "total            490 non-null float64\n",
      "cmte_id          490 non-null object\n",
      "committee        490 non-null object\n",
      "dtypes: float64(1), object(5)\n",
      "memory usage: 23.0+ KB\n"
     ]
    }
   ],
   "source": [
    "post_bill_donors_committees_17 = pd.read_sql(\"\"\"CREATE TABLE IF NOT EXISTS post_bill_donors_committees_17 AS\n",
    "SELECT match_id,\n",
    "       organizations,\n",
    "       contributors,\n",
    "       sum(committee_total) AS total,\n",
    "       cmte_id,\n",
    "       pacshort AS committee\n",
    "FROM\n",
    "  (SELECT match_id,\n",
    "          organizations,\n",
    "          contributors,\n",
    "          sum(amount) AS committee_total,\n",
    "          cmteid AS cmte_id\n",
    "   FROM\n",
    "     (SELECT CASE\n",
    "                 WHEN trim(contribid) != '' THEN left(contribid, 11)\n",
    "                 ELSE orgname\n",
    "             END AS match_id,\n",
    "             array_agg(DISTINCT orgname) AS organizations,\n",
    "             array_agg(DISTINCT contrib) AS contributors\n",
    "      FROM crp_contributions\n",
    "      LEFT JOIN crp_committees ON crp_contributions.cmteid = crp_committees.cmteid\n",
    "      AND crp_committees.cycle = '2018'\n",
    "      WHERE primcode IN ('J1100',\n",
    "                         'J2200',\n",
    "                         'J2400',\n",
    "                         'Z1100',\n",
    "                         'Z4100',\n",
    "                         'Z4500',\n",
    "                         'Z5100')\n",
    "        AND date >= '2017-11-02'\n",
    "        AND date <= '2017-12-31'\n",
    "        AND crp_contributions.cycle = '2018'\n",
    "        AND TYPE NOT IN ('11J',\n",
    "                         '15C',\n",
    "                         '15E',\n",
    "                         '15I',\n",
    "                         '15J',\n",
    "                         '15T',\n",
    "                         '18J',\n",
    "                         '19J',\n",
    "                         '30J',\n",
    "                         '30F',\n",
    "                         '31J',\n",
    "                         '31F',\n",
    "                         '32J',\n",
    "                         '32F')\n",
    "      GROUP BY match_id\n",
    "      HAVING sum(amount) >= 50000) AS gop_donors\n",
    "   JOIN crp_contributions ON CASE\n",
    "                                 WHEN trim(contribid) != '' THEN left(contribid, 11)\n",
    "                                 ELSE crp_contributions.orgname\n",
    "                             END = gop_donors.match_id\n",
    "   WHERE date >= '2017-11-02'\n",
    "     AND date <= '2017-12-31'\n",
    "     AND CYCLE = '2018'\n",
    "     AND TYPE NOT IN ('11J',\n",
    "                      '15C',\n",
    "                      '15E',\n",
    "                      '15I',\n",
    "                      '15J',\n",
    "                      '15T',\n",
    "                      '18J',\n",
    "                      '19J',\n",
    "                      '30J',\n",
    "                      '30F',\n",
    "                      '31J',\n",
    "                      '31F',\n",
    "                      '32J',\n",
    "                      '32F')\n",
    "   GROUP BY match_id,\n",
    "            organizations,\n",
    "            contributors,\n",
    "            cmte_id) AS donors_committees\n",
    "JOIN crp_committees ON donors_committees.cmte_id = crp_committees.cmteid\n",
    "AND crp_committees.CYCLE = '2018'\n",
    "WHERE primcode IN ('J1100',\n",
    "                   'J2200',\n",
    "                   'J2400',\n",
    "                   'Z1100',\n",
    "                   'Z4100',\n",
    "                   'Z4500',\n",
    "                   'Z5100')\n",
    "GROUP BY match_id,\n",
    "         organizations,\n",
    "         contributors,\n",
    "         cmte_id,\n",
    "         committee;\n",
    "\n",
    "GRANT ALL ON TABLE post_bill_donors_committees_17 TO redash_default;\n",
    "\n",
    "\n",
    "SELECT *\n",
    "FROM post_bill_donors_committees_17;\"\"\", con=conn)\n",
    "post_bill_donors_committees_17.info()"
   ]
  },
  {
   "cell_type": "markdown",
   "metadata": {},
   "source": [
    "Group by donor."
   ]
  },
  {
   "cell_type": "code",
   "execution_count": 4,
   "metadata": {},
   "outputs": [
    {
     "name": "stdout",
     "output_type": "stream",
     "text": [
      "<class 'pandas.core.frame.DataFrame'>\n",
      "RangeIndex: 157 entries, 0 to 156\n",
      "Data columns (total 4 columns):\n",
      "match_id         157 non-null object\n",
      "organizations    157 non-null object\n",
      "contributors     157 non-null object\n",
      "total            157 non-null float64\n",
      "dtypes: float64(1), object(3)\n",
      "memory usage: 5.0+ KB\n"
     ]
    }
   ],
   "source": [
    "post_bill_donors_17 = post_bill_donors_committees_17.groupby([\"match_id\"]).agg({\"organizations\": max, \"contributors\": max, \"total\": sum}).reset_index()\n",
    "post_bill_donors_17.info()"
   ]
  },
  {
   "cell_type": "markdown",
   "metadata": {},
   "source": [
    "## How much did they give?"
   ]
  },
  {
   "cell_type": "code",
   "execution_count": 5,
   "metadata": {},
   "outputs": [
    {
     "data": {
      "text/plain": [
       "35588563.0"
      ]
     },
     "execution_count": 5,
     "metadata": {},
     "output_type": "execute_result"
    }
   ],
   "source": [
    "post_bill_donors_17[\"total\"].sum()"
   ]
  },
  {
   "cell_type": "markdown",
   "metadata": {},
   "source": [
    "## Had these megadonors given previously in 2017?"
   ]
  },
  {
   "cell_type": "markdown",
   "metadata": {},
   "source": [
    "Return contributions by donor and committee."
   ]
  },
  {
   "cell_type": "code",
   "execution_count": 6,
   "metadata": {},
   "outputs": [
    {
     "name": "stdout",
     "output_type": "stream",
     "text": [
      "<class 'pandas.core.frame.DataFrame'>\n",
      "RangeIndex: 831 entries, 0 to 830\n",
      "Data columns (total 6 columns):\n",
      "match_id         831 non-null object\n",
      "organizations    831 non-null object\n",
      "contributors     831 non-null object\n",
      "total            831 non-null float64\n",
      "cmte_id          831 non-null object\n",
      "committee        831 non-null object\n",
      "dtypes: float64(1), object(5)\n",
      "memory usage: 39.0+ KB\n"
     ]
    }
   ],
   "source": [
    "pre_bill_donors_committees_17 = pd.read_sql(\"\"\"CREATE TABLE IF NOT EXISTS pre_bill_donors_committees_17 AS\n",
    "SELECT match_id,\n",
    "       organizations,\n",
    "       contributors,\n",
    "       sum(committee_total) AS total,\n",
    "       cmte_id,\n",
    "       pacshort AS committee\n",
    "FROM\n",
    "  (SELECT match_id,\n",
    "          organizations,\n",
    "          contributors,\n",
    "          sum(amount) AS committee_total,\n",
    "          cmteid AS cmte_id\n",
    "   FROM\n",
    "     (SELECT CASE\n",
    "                 WHEN trim(contribid) != '' THEN left(contribid, 11)\n",
    "                 ELSE orgname\n",
    "             END AS match_id,\n",
    "             array_agg(DISTINCT orgname) AS organizations,\n",
    "             array_agg(DISTINCT contrib) AS contributors\n",
    "      FROM crp_contributions\n",
    "      LEFT JOIN crp_committees ON crp_contributions.cmteid = crp_committees.cmteid\n",
    "      AND crp_committees.cycle = '2018'\n",
    "      WHERE primcode IN ('J1100',\n",
    "                         'J2200',\n",
    "                         'J2400',\n",
    "                         'Z1100',\n",
    "                         'Z4100',\n",
    "                         'Z4500',\n",
    "                         'Z5100')\n",
    "        AND date >= '2017-11-02'\n",
    "        AND date <= '2017-12-31'\n",
    "        AND crp_contributions.cycle = '2018'\n",
    "        AND TYPE NOT IN ('11J',\n",
    "                         '15C',\n",
    "                         '15E',\n",
    "                         '15I',\n",
    "                         '15J',\n",
    "                         '15T',\n",
    "                         '18J',\n",
    "                         '19J',\n",
    "                         '30J',\n",
    "                         '30F',\n",
    "                         '31J',\n",
    "                         '31F',\n",
    "                         '32J',\n",
    "                         '32F')\n",
    "      GROUP BY match_id\n",
    "      HAVING sum(amount) >= 50000) AS gop_donors\n",
    "   JOIN crp_contributions ON CASE\n",
    "                                 WHEN trim(contribid) != '' THEN left(contribid, 11)\n",
    "                                 ELSE crp_contributions.orgname\n",
    "                             END = gop_donors.match_id\n",
    "   WHERE date >= '2017-01-01'\n",
    "     AND date < '2017-11-02'\n",
    "     AND CYCLE = '2018'\n",
    "     AND TYPE NOT IN ('11J',\n",
    "                      '15C',\n",
    "                      '15E',\n",
    "                      '15I',\n",
    "                      '15J',\n",
    "                      '15T',\n",
    "                      '18J',\n",
    "                      '19J',\n",
    "                      '30J',\n",
    "                      '30F',\n",
    "                      '31J',\n",
    "                      '31F',\n",
    "                      '32J',\n",
    "                      '32F')\n",
    "   GROUP BY match_id,\n",
    "            organizations,\n",
    "            contributors,\n",
    "            cmte_id) AS donors_committees\n",
    "JOIN crp_committees ON donors_committees.cmte_id = crp_committees.cmteid\n",
    "AND crp_committees.CYCLE = '2018'\n",
    "WHERE primcode IN ('J1100',\n",
    "                   'J2200',\n",
    "                   'J2400',\n",
    "                   'Z1100',\n",
    "                   'Z4100',\n",
    "                   'Z4500',\n",
    "                   'Z5100')\n",
    "GROUP BY match_id,\n",
    "         organizations,\n",
    "         contributors,\n",
    "         cmte_id,\n",
    "         committee;\n",
    "\n",
    "GRANT ALL ON TABLE pre_bill_donors_committees_17 TO redash_default;\n",
    "\n",
    "\n",
    "SELECT *\n",
    "FROM pre_bill_donors_committees_17;\"\"\", con=conn)\n",
    "pre_bill_donors_committees_17.info()"
   ]
  },
  {
   "cell_type": "markdown",
   "metadata": {},
   "source": [
    "Group by donor."
   ]
  },
  {
   "cell_type": "code",
   "execution_count": 7,
   "metadata": {},
   "outputs": [
    {
     "name": "stdout",
     "output_type": "stream",
     "text": [
      "<class 'pandas.core.frame.DataFrame'>\n",
      "RangeIndex: 114 entries, 0 to 113\n",
      "Data columns (total 4 columns):\n",
      "match_id         114 non-null object\n",
      "organizations    114 non-null object\n",
      "contributors     114 non-null object\n",
      "total            114 non-null float64\n",
      "dtypes: float64(1), object(3)\n",
      "memory usage: 3.6+ KB\n"
     ]
    }
   ],
   "source": [
    "pre_bill_donors_17 = pre_bill_donors_committees_17.groupby([\"match_id\"]).agg({\"organizations\": max, \"contributors\": max, \"total\": sum}).reset_index()\n",
    "pre_bill_donors_17.info()"
   ]
  },
  {
   "cell_type": "markdown",
   "metadata": {},
   "source": [
    "## How much did they give?"
   ]
  },
  {
   "cell_type": "code",
   "execution_count": 8,
   "metadata": {},
   "outputs": [
    {
     "data": {
      "text/plain": [
       "58732582.0"
      ]
     },
     "execution_count": 8,
     "metadata": {},
     "output_type": "execute_result"
    }
   ],
   "source": [
    "pre_bill_donors_17[\"total\"].sum()"
   ]
  },
  {
   "cell_type": "markdown",
   "metadata": {},
   "source": [
    "## How much did these donors give in the period leading up to the tax bill's introduction and in the period after its introduction?"
   ]
  },
  {
   "cell_type": "code",
   "execution_count": 9,
   "metadata": {},
   "outputs": [
    {
     "name": "stdout",
     "output_type": "stream",
     "text": [
      "<class 'pandas.core.frame.DataFrame'>\n",
      "Int64Index: 157 entries, 0 to 156\n",
      "Data columns (total 5 columns):\n",
      "match_id           157 non-null object\n",
      "organizations      157 non-null object\n",
      "contributors       157 non-null object\n",
      "total_post_bill    157 non-null float64\n",
      "total_pre_bill     157 non-null float64\n",
      "dtypes: float64(2), object(3)\n",
      "memory usage: 7.4+ KB\n"
     ]
    }
   ],
   "source": [
    "donors_17 = post_bill_donors_17.merge(pre_bill_donors_17, how=\"outer\", on=\"match_id\", suffixes=[\"_post_bill\", \"_pre_bill\"])\n",
    "donors_17.drop([\"organizations_pre_bill\", \"contributors_pre_bill\"], axis=1, inplace=True)\n",
    "donors_17.rename(columns={\"organizations_post_bill\": \"organizations\", \"contributors_post_bill\": \"contributors\"}, inplace=True)\n",
    "donors_17[\"total_pre_bill\"].fillna(0, inplace=True)\n",
    "donors_17.info()"
   ]
  },
  {
   "cell_type": "code",
   "execution_count": 10,
   "metadata": {},
   "outputs": [
    {
     "data": {
      "text/html": [
       "<div>\n",
       "<style scoped>\n",
       "    .dataframe tbody tr th:only-of-type {\n",
       "        vertical-align: middle;\n",
       "    }\n",
       "\n",
       "    .dataframe tbody tr th {\n",
       "        vertical-align: top;\n",
       "    }\n",
       "\n",
       "    .dataframe thead th {\n",
       "        text-align: right;\n",
       "    }\n",
       "</style>\n",
       "<table border=\"1\" class=\"dataframe\">\n",
       "  <thead>\n",
       "    <tr style=\"text-align: right;\">\n",
       "      <th></th>\n",
       "      <th>match_id</th>\n",
       "      <th>organizations</th>\n",
       "      <th>contributors</th>\n",
       "      <th>total_post_bill</th>\n",
       "      <th>total_pre_bill</th>\n",
       "      <th>pct_post_bill</th>\n",
       "      <th>pct_pre_bill</th>\n",
       "      <th>change</th>\n",
       "      <th>pct_change</th>\n",
       "    </tr>\n",
       "  </thead>\n",
       "  <tbody>\n",
       "    <tr>\n",
       "      <th>51</th>\n",
       "      <td>U0000003690</td>\n",
       "      <td>[U-Line Corp, Uline Inc]</td>\n",
       "      <td>[UIHLEIN, ELIZABETH, UIHLEIN, ELIZABETH MRS, U...</td>\n",
       "      <td>4,557,300.00</td>\n",
       "      <td>12,051,400.00</td>\n",
       "      <td>0.27</td>\n",
       "      <td>0.73</td>\n",
       "      <td>-7,494,100.00</td>\n",
       "      <td>-0.62</td>\n",
       "    </tr>\n",
       "    <tr>\n",
       "      <th>2</th>\n",
       "      <td>American Action Network</td>\n",
       "      <td>[American Action Network]</td>\n",
       "      <td>[AMERICAN ACTION NETWORK]</td>\n",
       "      <td>3,747,520.00</td>\n",
       "      <td>9,142,525.00</td>\n",
       "      <td>0.29</td>\n",
       "      <td>0.71</td>\n",
       "      <td>-5,395,005.00</td>\n",
       "      <td>-0.59</td>\n",
       "    </tr>\n",
       "    <tr>\n",
       "      <th>59</th>\n",
       "      <td>U0000004054</td>\n",
       "      <td>[Ghpalmer Assoc, GH Palmer Assoc]</td>\n",
       "      <td>[PALMER, GEOFF, PALMER, GEOFFREY H]</td>\n",
       "      <td>1,955,200.00</td>\n",
       "      <td>546,272.00</td>\n",
       "      <td>0.78</td>\n",
       "      <td>0.22</td>\n",
       "      <td>1,408,928.00</td>\n",
       "      <td>2.58</td>\n",
       "    </tr>\n",
       "    <tr>\n",
       "      <th>9</th>\n",
       "      <td>Hillwood Development</td>\n",
       "      <td>[Hillwood Development]</td>\n",
       "      <td>[HILLWOOD DEVELOPMENT COMPANY LLC]</td>\n",
       "      <td>1,500,000.00</td>\n",
       "      <td>500,000.00</td>\n",
       "      <td>0.75</td>\n",
       "      <td>0.25</td>\n",
       "      <td>1,000,000.00</td>\n",
       "      <td>2.00</td>\n",
       "    </tr>\n",
       "    <tr>\n",
       "      <th>66</th>\n",
       "      <td>U0000004552</td>\n",
       "      <td>[Cinemark Holdings, Cinemark USA]</td>\n",
       "      <td>[MITCHELL, LEE, MITCHELL, LEE ROY, MITCHELL, T...</td>\n",
       "      <td>1,007,400.00</td>\n",
       "      <td>131,299.00</td>\n",
       "      <td>0.88</td>\n",
       "      <td>0.12</td>\n",
       "      <td>876,101.00</td>\n",
       "      <td>6.67</td>\n",
       "    </tr>\n",
       "  </tbody>\n",
       "</table>\n",
       "</div>"
      ],
      "text/plain": [
       "                   match_id                      organizations  \\\n",
       "51              U0000003690           [U-Line Corp, Uline Inc]   \n",
       "2   American Action Network          [American Action Network]   \n",
       "59              U0000004054  [Ghpalmer Assoc, GH Palmer Assoc]   \n",
       "9      Hillwood Development             [Hillwood Development]   \n",
       "66              U0000004552  [Cinemark Holdings, Cinemark USA]   \n",
       "\n",
       "                                         contributors  total_post_bill  \\\n",
       "51  [UIHLEIN, ELIZABETH, UIHLEIN, ELIZABETH MRS, U...     4,557,300.00   \n",
       "2                           [AMERICAN ACTION NETWORK]     3,747,520.00   \n",
       "59                [PALMER, GEOFF, PALMER, GEOFFREY H]     1,955,200.00   \n",
       "9                  [HILLWOOD DEVELOPMENT COMPANY LLC]     1,500,000.00   \n",
       "66  [MITCHELL, LEE, MITCHELL, LEE ROY, MITCHELL, T...     1,007,400.00   \n",
       "\n",
       "    total_pre_bill  pct_post_bill  pct_pre_bill        change  pct_change  \n",
       "51   12,051,400.00           0.27          0.73 -7,494,100.00       -0.62  \n",
       "2     9,142,525.00           0.29          0.71 -5,395,005.00       -0.59  \n",
       "59      546,272.00           0.78          0.22  1,408,928.00        2.58  \n",
       "9       500,000.00           0.75          0.25  1,000,000.00        2.00  \n",
       "66      131,299.00           0.88          0.12    876,101.00        6.67  "
      ]
     },
     "execution_count": 10,
     "metadata": {},
     "output_type": "execute_result"
    }
   ],
   "source": [
    "donors_17[\"pct_post_bill\"] = donors_17[\"total_post_bill\"] / (donors_17[\"total_pre_bill\"] + donors_17[\"total_post_bill\"])\n",
    "donors_17[\"pct_pre_bill\"] = donors_17[\"total_pre_bill\"] / (donors_17[\"total_pre_bill\"] + donors_17[\"total_post_bill\"])\n",
    "donors_17[\"change\"] = donors_17[\"total_post_bill\"] - donors_17[\"total_pre_bill\"]\n",
    "donors_17[\"pct_change\"] = (donors_17[\"total_post_bill\"] - donors_17[\"total_pre_bill\"]) / donors_17[\"total_pre_bill\"].abs()\n",
    "donors_17.sort_values(\"total_post_bill\", ascending=False).head()"
   ]
  },
  {
   "cell_type": "markdown",
   "metadata": {},
   "source": [
    "## Had these megadonors given between Nov. 2 and Dec. 31, 2013?"
   ]
  },
  {
   "cell_type": "markdown",
   "metadata": {},
   "source": [
    "Return contributions by donor and committee."
   ]
  },
  {
   "cell_type": "code",
   "execution_count": 11,
   "metadata": {},
   "outputs": [
    {
     "name": "stdout",
     "output_type": "stream",
     "text": [
      "<class 'pandas.core.frame.DataFrame'>\n",
      "RangeIndex: 188 entries, 0 to 187\n",
      "Data columns (total 6 columns):\n",
      "match_id         188 non-null object\n",
      "organizations    188 non-null object\n",
      "contributors     188 non-null object\n",
      "total            188 non-null float64\n",
      "cmte_id          188 non-null object\n",
      "committee        188 non-null object\n",
      "dtypes: float64(1), object(5)\n",
      "memory usage: 8.9+ KB\n"
     ]
    }
   ],
   "source": [
    "post_bill_donors_committees_13 = pd.read_sql(\"\"\"CREATE TABLE IF NOT EXISTS post_bill_donors_committees_13 AS\n",
    "SELECT match_id,\n",
    "       organizations,\n",
    "       contributors,\n",
    "       sum(committee_total) AS total,\n",
    "       cmte_id,\n",
    "       pacshort AS committee\n",
    "FROM\n",
    "  (SELECT match_id,\n",
    "          organizations,\n",
    "          contributors,\n",
    "          sum(amount) AS committee_total,\n",
    "          cmteid AS cmte_id\n",
    "   FROM\n",
    "     (SELECT CASE\n",
    "                 WHEN trim(contribid) != '' THEN left(contribid, 11)\n",
    "                 ELSE orgname\n",
    "             END AS match_id,\n",
    "             array_agg(DISTINCT orgname) AS organizations,\n",
    "             array_agg(DISTINCT contrib) AS contributors\n",
    "      FROM crp_contributions\n",
    "      LEFT JOIN crp_committees ON crp_contributions.cmteid = crp_committees.cmteid\n",
    "      AND crp_committees.cycle = '2018'\n",
    "      WHERE primcode IN ('J1100',\n",
    "                         'J2200',\n",
    "                         'J2400',\n",
    "                         'Z1100',\n",
    "                         'Z4100',\n",
    "                         'Z4500',\n",
    "                         'Z5100')\n",
    "        AND date >= '2017-11-02'\n",
    "        AND date <= '2017-12-31'\n",
    "        AND crp_contributions.cycle = '2018'\n",
    "        AND TYPE NOT IN ('11J',\n",
    "                         '15C',\n",
    "                         '15E',\n",
    "                         '15I',\n",
    "                         '15J',\n",
    "                         '15T',\n",
    "                         '18J',\n",
    "                         '19J',\n",
    "                         '30J',\n",
    "                         '30F',\n",
    "                         '31J',\n",
    "                         '31F',\n",
    "                         '32J',\n",
    "                         '32F')\n",
    "      GROUP BY match_id\n",
    "      HAVING sum(amount) >= 50000) AS gop_donors\n",
    "   JOIN crp_contributions ON CASE\n",
    "                                 WHEN trim(contribid) != '' THEN left(contribid, 11)\n",
    "                                 ELSE crp_contributions.orgname\n",
    "                             END = gop_donors.match_id\n",
    "   WHERE date >= '2013-11-02'\n",
    "     AND date <= '2013-12-31'\n",
    "     AND CYCLE = '2014'\n",
    "     AND TYPE NOT IN ('11J',\n",
    "                      '15C',\n",
    "                      '15E',\n",
    "                      '15I',\n",
    "                      '15J',\n",
    "                      '15T',\n",
    "                      '18J',\n",
    "                      '19J',\n",
    "                      '30J',\n",
    "                      '30F',\n",
    "                      '31J',\n",
    "                      '31F',\n",
    "                      '32J',\n",
    "                      '32F')\n",
    "   GROUP BY match_id,\n",
    "            organizations,\n",
    "            contributors,\n",
    "            cmte_id) AS donors_committees\n",
    "JOIN crp_committees ON donors_committees.cmte_id = crp_committees.cmteid\n",
    "AND crp_committees.CYCLE = '2014'\n",
    "WHERE primcode IN ('J1100',\n",
    "                   'J2200',\n",
    "                   'J2400',\n",
    "                   'Z1100',\n",
    "                   'Z4100',\n",
    "                   'Z4500',\n",
    "                   'Z5100')\n",
    "GROUP BY match_id,\n",
    "         organizations,\n",
    "         contributors,\n",
    "         cmte_id,\n",
    "         committee;\n",
    "\n",
    "GRANT ALL ON TABLE post_bill_donors_committees_13 TO redash_default;\n",
    "\n",
    "\n",
    "SELECT *\n",
    "FROM post_bill_donors_committees_13;\"\"\", con=conn)\n",
    "post_bill_donors_committees_13.info()"
   ]
  },
  {
   "cell_type": "markdown",
   "metadata": {},
   "source": [
    "Group by donor."
   ]
  },
  {
   "cell_type": "code",
   "execution_count": 12,
   "metadata": {},
   "outputs": [
    {
     "name": "stdout",
     "output_type": "stream",
     "text": [
      "<class 'pandas.core.frame.DataFrame'>\n",
      "RangeIndex: 61 entries, 0 to 60\n",
      "Data columns (total 4 columns):\n",
      "match_id         61 non-null object\n",
      "organizations    61 non-null object\n",
      "contributors     61 non-null object\n",
      "total            61 non-null float64\n",
      "dtypes: float64(1), object(3)\n",
      "memory usage: 2.0+ KB\n"
     ]
    }
   ],
   "source": [
    "post_bill_donors_13 = post_bill_donors_committees_13.groupby([\"match_id\"]).agg({\"organizations\": max, \"contributors\": max, \"total\": sum}).reset_index()\n",
    "post_bill_donors_13.info()"
   ]
  },
  {
   "cell_type": "markdown",
   "metadata": {},
   "source": [
    "## How much did they give?"
   ]
  },
  {
   "cell_type": "code",
   "execution_count": 13,
   "metadata": {},
   "outputs": [
    {
     "data": {
      "text/plain": [
       "3816664.0"
      ]
     },
     "execution_count": 13,
     "metadata": {},
     "output_type": "execute_result"
    }
   ],
   "source": [
    "post_bill_donors_13[\"total\"].sum()"
   ]
  },
  {
   "cell_type": "markdown",
   "metadata": {},
   "source": [
    "## Had these megadonors given previously in 2013?"
   ]
  },
  {
   "cell_type": "markdown",
   "metadata": {},
   "source": [
    "Return contributions by donor and committee."
   ]
  },
  {
   "cell_type": "code",
   "execution_count": 14,
   "metadata": {},
   "outputs": [
    {
     "name": "stdout",
     "output_type": "stream",
     "text": [
      "<class 'pandas.core.frame.DataFrame'>\n",
      "RangeIndex: 518 entries, 0 to 517\n",
      "Data columns (total 6 columns):\n",
      "match_id         518 non-null object\n",
      "organizations    518 non-null object\n",
      "contributors     518 non-null object\n",
      "total            518 non-null float64\n",
      "cmte_id          518 non-null object\n",
      "committee        518 non-null object\n",
      "dtypes: float64(1), object(5)\n",
      "memory usage: 24.4+ KB\n"
     ]
    }
   ],
   "source": [
    "pre_bill_donors_committees_13 = pd.read_sql(\"\"\"CREATE TABLE IF NOT EXISTS pre_bill_donors_committees_13 AS\n",
    "SELECT match_id,\n",
    "       organizations,\n",
    "       contributors,\n",
    "       sum(committee_total) AS total,\n",
    "       cmte_id,\n",
    "       pacshort AS committee\n",
    "FROM\n",
    "  (SELECT match_id,\n",
    "          organizations,\n",
    "          contributors,\n",
    "          sum(amount) AS committee_total,\n",
    "          cmteid AS cmte_id\n",
    "   FROM\n",
    "     (SELECT CASE\n",
    "                 WHEN trim(contribid) != '' THEN left(contribid, 11)\n",
    "                 ELSE orgname\n",
    "             END AS match_id,\n",
    "             array_agg(DISTINCT orgname) AS organizations,\n",
    "             array_agg(DISTINCT contrib) AS contributors\n",
    "      FROM crp_contributions\n",
    "      LEFT JOIN crp_committees ON crp_contributions.cmteid = crp_committees.cmteid\n",
    "      AND crp_committees.cycle = '2018'\n",
    "      WHERE primcode IN ('J1100',\n",
    "                         'J2200',\n",
    "                         'J2400',\n",
    "                         'Z1100',\n",
    "                         'Z4100',\n",
    "                         'Z4500',\n",
    "                         'Z5100')\n",
    "        AND date >= '2017-11-02'\n",
    "        AND date <= '2017-12-31'\n",
    "        AND crp_contributions.cycle = '2018'\n",
    "        AND TYPE NOT IN ('11J',\n",
    "                         '15C',\n",
    "                         '15E',\n",
    "                         '15I',\n",
    "                         '15J',\n",
    "                         '15T',\n",
    "                         '18J',\n",
    "                         '19J',\n",
    "                         '30J',\n",
    "                         '30F',\n",
    "                         '31J',\n",
    "                         '31F',\n",
    "                         '32J',\n",
    "                         '32F')\n",
    "      GROUP BY match_id\n",
    "      HAVING sum(amount) >= 50000) AS gop_donors\n",
    "   JOIN crp_contributions ON CASE\n",
    "                                 WHEN trim(contribid) != '' THEN left(contribid, 11)\n",
    "                                 ELSE crp_contributions.orgname\n",
    "                             END = gop_donors.match_id\n",
    "   WHERE date >= '2013-01-01'\n",
    "     AND date < '2013-11-02'\n",
    "     AND CYCLE = '2014'\n",
    "     AND TYPE NOT IN ('11J',\n",
    "                      '15C',\n",
    "                      '15E',\n",
    "                      '15I',\n",
    "                      '15J',\n",
    "                      '15T',\n",
    "                      '18J',\n",
    "                      '19J',\n",
    "                      '30J',\n",
    "                      '30F',\n",
    "                      '31J',\n",
    "                      '31F',\n",
    "                      '32J',\n",
    "                      '32F')\n",
    "   GROUP BY match_id,\n",
    "            organizations,\n",
    "            contributors,\n",
    "            cmte_id) AS donors_committees\n",
    "JOIN crp_committees ON donors_committees.cmte_id = crp_committees.cmteid\n",
    "AND crp_committees.CYCLE = '2014'\n",
    "WHERE primcode IN ('J1100',\n",
    "                   'J2200',\n",
    "                   'J2400',\n",
    "                   'Z1100',\n",
    "                   'Z4100',\n",
    "                   'Z4500',\n",
    "                   'Z5100')\n",
    "GROUP BY match_id,\n",
    "         organizations,\n",
    "         contributors,\n",
    "         cmte_id,\n",
    "         committee;\n",
    "\n",
    "GRANT ALL ON TABLE pre_bill_donors_committees_13 TO redash_default;\n",
    "\n",
    "\n",
    "SELECT *\n",
    "FROM pre_bill_donors_committees_13;\"\"\", con=conn)\n",
    "pre_bill_donors_committees_13.info()"
   ]
  },
  {
   "cell_type": "markdown",
   "metadata": {},
   "source": [
    "Group by donor."
   ]
  },
  {
   "cell_type": "code",
   "execution_count": 15,
   "metadata": {},
   "outputs": [
    {
     "name": "stdout",
     "output_type": "stream",
     "text": [
      "<class 'pandas.core.frame.DataFrame'>\n",
      "RangeIndex: 104 entries, 0 to 103\n",
      "Data columns (total 4 columns):\n",
      "match_id         104 non-null object\n",
      "organizations    104 non-null object\n",
      "contributors     104 non-null object\n",
      "total            104 non-null float64\n",
      "dtypes: float64(1), object(3)\n",
      "memory usage: 3.3+ KB\n"
     ]
    }
   ],
   "source": [
    "pre_bill_donors_13 = pre_bill_donors_committees_13.groupby([\"match_id\"]).agg({\"organizations\": max, \"contributors\": max, \"total\": sum}).reset_index()\n",
    "pre_bill_donors_13.info()"
   ]
  },
  {
   "cell_type": "markdown",
   "metadata": {},
   "source": [
    "## How much did they give?"
   ]
  },
  {
   "cell_type": "code",
   "execution_count": 16,
   "metadata": {},
   "outputs": [
    {
     "data": {
      "text/plain": [
       "6519675.0"
      ]
     },
     "execution_count": 16,
     "metadata": {},
     "output_type": "execute_result"
    }
   ],
   "source": [
    "pre_bill_donors_13[\"total\"].sum()"
   ]
  },
  {
   "cell_type": "markdown",
   "metadata": {},
   "source": [
    "## How much did these donors give in each period?"
   ]
  },
  {
   "cell_type": "code",
   "execution_count": 17,
   "metadata": {},
   "outputs": [
    {
     "name": "stdout",
     "output_type": "stream",
     "text": [
      "<class 'pandas.core.frame.DataFrame'>\n",
      "Int64Index: 108 entries, 0 to 107\n",
      "Data columns (total 7 columns):\n",
      "match_id                   108 non-null object\n",
      "organizations_post_bill    61 non-null object\n",
      "contributors_post_bill     61 non-null object\n",
      "total_post_bill            108 non-null float64\n",
      "organizations_pre_bill     104 non-null object\n",
      "contributors_pre_bill      104 non-null object\n",
      "total_pre_bill             108 non-null float64\n",
      "dtypes: float64(2), object(5)\n",
      "memory usage: 6.8+ KB\n"
     ]
    }
   ],
   "source": [
    "donors_13 = post_bill_donors_13.merge(pre_bill_donors_13, how=\"outer\", on=\"match_id\", suffixes=[\"_post_bill\", \"_pre_bill\"])\n",
    "donors_13[\"total_pre_bill\"].fillna(0, inplace=True)\n",
    "donors_13[\"total_post_bill\"].fillna(0, inplace=True)\n",
    "donors_13.info()"
   ]
  },
  {
   "cell_type": "code",
   "execution_count": 18,
   "metadata": {},
   "outputs": [
    {
     "data": {
      "text/html": [
       "<div>\n",
       "<style scoped>\n",
       "    .dataframe tbody tr th:only-of-type {\n",
       "        vertical-align: middle;\n",
       "    }\n",
       "\n",
       "    .dataframe tbody tr th {\n",
       "        vertical-align: top;\n",
       "    }\n",
       "\n",
       "    .dataframe thead th {\n",
       "        text-align: right;\n",
       "    }\n",
       "</style>\n",
       "<table border=\"1\" class=\"dataframe\">\n",
       "  <thead>\n",
       "    <tr style=\"text-align: right;\">\n",
       "      <th></th>\n",
       "      <th>match_id</th>\n",
       "      <th>organizations_post_bill</th>\n",
       "      <th>contributors_post_bill</th>\n",
       "      <th>organizations_pre_bill</th>\n",
       "      <th>contributors_pre_bill</th>\n",
       "      <th>total_post_bill</th>\n",
       "      <th>total_pre_bill</th>\n",
       "      <th>pct_post_bill</th>\n",
       "      <th>pct_pre_bill</th>\n",
       "      <th>change</th>\n",
       "      <th>pct_change</th>\n",
       "    </tr>\n",
       "  </thead>\n",
       "  <tbody>\n",
       "    <tr>\n",
       "      <th>0</th>\n",
       "      <td>American Action Network</td>\n",
       "      <td>[American Action Network]</td>\n",
       "      <td>[AMERICAN ACTION NETWORK]</td>\n",
       "      <td>[American Action Network]</td>\n",
       "      <td>[AMERICAN ACTION NETWORK]</td>\n",
       "      <td>109,714.00</td>\n",
       "      <td>81,237.00</td>\n",
       "      <td>0.57</td>\n",
       "      <td>0.43</td>\n",
       "      <td>28,477.00</td>\n",
       "      <td>0.35</td>\n",
       "    </tr>\n",
       "    <tr>\n",
       "      <th>1</th>\n",
       "      <td>Anschutz Corp</td>\n",
       "      <td>[Anschutz Corp]</td>\n",
       "      <td>[THE ANSCHUTZ CORPORATION]</td>\n",
       "      <td>NaN</td>\n",
       "      <td>NaN</td>\n",
       "      <td>5,000.00</td>\n",
       "      <td>0.00</td>\n",
       "      <td>1.00</td>\n",
       "      <td>0.00</td>\n",
       "      <td>5,000.00</td>\n",
       "      <td>inf</td>\n",
       "    </tr>\n",
       "    <tr>\n",
       "      <th>2</th>\n",
       "      <td>Republican Governors Assn</td>\n",
       "      <td>[Republican Governors Assn]</td>\n",
       "      <td>[REPUBLICAN GOVERNORS ASSOCIATION]</td>\n",
       "      <td>NaN</td>\n",
       "      <td>NaN</td>\n",
       "      <td>1,000,000.00</td>\n",
       "      <td>0.00</td>\n",
       "      <td>1.00</td>\n",
       "      <td>0.00</td>\n",
       "      <td>1,000,000.00</td>\n",
       "      <td>inf</td>\n",
       "    </tr>\n",
       "    <tr>\n",
       "      <th>3</th>\n",
       "      <td>Shakopee Mdewakanton Sioux Community</td>\n",
       "      <td>[Shakopee Mdewakanton Sioux Community]</td>\n",
       "      <td>[MDEWAKANTON SIOUX COMMUNITY, SHAKOPEE,,,, SHA...</td>\n",
       "      <td>[Shakopee Mdewakanton Sioux Community]</td>\n",
       "      <td>[MDEWAKANTON SIOUX COMMUNITY, SHAKOPEE,,,, SHA...</td>\n",
       "      <td>68,900.00</td>\n",
       "      <td>71,100.00</td>\n",
       "      <td>0.49</td>\n",
       "      <td>0.51</td>\n",
       "      <td>-2,200.00</td>\n",
       "      <td>-0.03</td>\n",
       "    </tr>\n",
       "    <tr>\n",
       "      <th>4</th>\n",
       "      <td>U0000000003</td>\n",
       "      <td>[Alticor Inc, Amway]</td>\n",
       "      <td>[DEVOS, RICHARD M, DEVOS, RICHARD M MR SR]</td>\n",
       "      <td>[Alticor Inc, Amway]</td>\n",
       "      <td>[DEVOS, RICHARD M, DEVOS, RICHARD M MR SR]</td>\n",
       "      <td>76,200.00</td>\n",
       "      <td>19,200.00</td>\n",
       "      <td>0.80</td>\n",
       "      <td>0.20</td>\n",
       "      <td>57,000.00</td>\n",
       "      <td>2.97</td>\n",
       "    </tr>\n",
       "  </tbody>\n",
       "</table>\n",
       "</div>"
      ],
      "text/plain": [
       "                               match_id  \\\n",
       "0               American Action Network   \n",
       "1                         Anschutz Corp   \n",
       "2             Republican Governors Assn   \n",
       "3  Shakopee Mdewakanton Sioux Community   \n",
       "4                           U0000000003   \n",
       "\n",
       "                  organizations_post_bill  \\\n",
       "0               [American Action Network]   \n",
       "1                         [Anschutz Corp]   \n",
       "2             [Republican Governors Assn]   \n",
       "3  [Shakopee Mdewakanton Sioux Community]   \n",
       "4                    [Alticor Inc, Amway]   \n",
       "\n",
       "                              contributors_post_bill  \\\n",
       "0                          [AMERICAN ACTION NETWORK]   \n",
       "1                         [THE ANSCHUTZ CORPORATION]   \n",
       "2                 [REPUBLICAN GOVERNORS ASSOCIATION]   \n",
       "3  [MDEWAKANTON SIOUX COMMUNITY, SHAKOPEE,,,, SHA...   \n",
       "4         [DEVOS, RICHARD M, DEVOS, RICHARD M MR SR]   \n",
       "\n",
       "                   organizations_pre_bill  \\\n",
       "0               [American Action Network]   \n",
       "1                                     NaN   \n",
       "2                                     NaN   \n",
       "3  [Shakopee Mdewakanton Sioux Community]   \n",
       "4                    [Alticor Inc, Amway]   \n",
       "\n",
       "                               contributors_pre_bill  total_post_bill  \\\n",
       "0                          [AMERICAN ACTION NETWORK]       109,714.00   \n",
       "1                                                NaN         5,000.00   \n",
       "2                                                NaN     1,000,000.00   \n",
       "3  [MDEWAKANTON SIOUX COMMUNITY, SHAKOPEE,,,, SHA...        68,900.00   \n",
       "4         [DEVOS, RICHARD M, DEVOS, RICHARD M MR SR]        76,200.00   \n",
       "\n",
       "   total_pre_bill  pct_post_bill  pct_pre_bill       change  pct_change  \n",
       "0       81,237.00           0.57          0.43    28,477.00        0.35  \n",
       "1            0.00           1.00          0.00     5,000.00         inf  \n",
       "2            0.00           1.00          0.00 1,000,000.00         inf  \n",
       "3       71,100.00           0.49          0.51    -2,200.00       -0.03  \n",
       "4       19,200.00           0.80          0.20    57,000.00        2.97  "
      ]
     },
     "execution_count": 18,
     "metadata": {},
     "output_type": "execute_result"
    }
   ],
   "source": [
    "donors_13[\"pct_post_bill\"] = donors_13[\"total_post_bill\"] / (donors_13[\"total_pre_bill\"] + donors_13[\"total_post_bill\"])\n",
    "donors_13[\"pct_pre_bill\"] = donors_13[\"total_pre_bill\"] / (donors_13[\"total_pre_bill\"] + donors_13[\"total_post_bill\"])\n",
    "donors_13[\"change\"] = donors_13[\"total_post_bill\"] - donors_13[\"total_pre_bill\"]\n",
    "donors_13[\"pct_change\"] = (donors_13[\"total_post_bill\"] - donors_13[\"total_pre_bill\"]) / donors_13[\"total_pre_bill\"].abs()\n",
    "donors_13 = donors_13[[\"match_id\", \"organizations_post_bill\", \"contributors_post_bill\",\n",
    "                       \"organizations_pre_bill\", \"contributors_pre_bill\", \"total_post_bill\",\n",
    "                       \"total_pre_bill\", \"pct_post_bill\", \"pct_pre_bill\", \"change\", \"pct_change\"]]\n",
    "donors_13.head()"
   ]
  },
  {
   "cell_type": "markdown",
   "metadata": {},
   "source": [
    "## And did their giving patterns change between the cycles?"
   ]
  },
  {
   "cell_type": "code",
   "execution_count": 19,
   "metadata": {},
   "outputs": [
    {
     "name": "stdout",
     "output_type": "stream",
     "text": [
      "<class 'pandas.core.frame.DataFrame'>\n",
      "Int64Index: 157 entries, 0 to 156\n",
      "Data columns (total 11 columns):\n",
      "match_id              157 non-null object\n",
      "contributors          157 non-null object\n",
      "organizations         157 non-null object\n",
      "total_pre_bill_13     108 non-null float64\n",
      "total_post_bill_13    108 non-null float64\n",
      "pct_pre_bill_13       108 non-null float64\n",
      "pct_post_bill_13      108 non-null float64\n",
      "total_pre_bill_17     157 non-null float64\n",
      "total_post_bill_17    157 non-null float64\n",
      "pct_pre_bill_17       157 non-null float64\n",
      "pct_post_bill_17      157 non-null float64\n",
      "dtypes: float64(8), object(3)\n",
      "memory usage: 14.7+ KB\n"
     ]
    }
   ],
   "source": [
    "donors = donors_17.merge(donors_13, how=\"outer\", on=\"match_id\", suffixes=[\"_17\", \"_13\"])\n",
    "donors.drop([\"change_17\", \"pct_change_17\", \"organizations_post_bill\", \"contributors_post_bill\",\n",
    "             \"organizations_pre_bill\", \"contributors_pre_bill\", \"change_13\", \"pct_change_13\"],\n",
    "            axis=1, inplace=True)\n",
    "donors.rename(columns={\"organizations_17\": \"organizations\", \"contributors_17\": \"contributors\"})\n",
    "donors = donors[[\"match_id\", \"contributors\", \"organizations\", \"total_pre_bill_13\", \"total_post_bill_13\",\n",
    "                 \"pct_pre_bill_13\", \"pct_post_bill_13\", \"total_pre_bill_17\", \"total_post_bill_17\",\n",
    "                 \"pct_pre_bill_17\", \"pct_post_bill_17\"]]\n",
    "donors.info()"
   ]
  },
  {
   "cell_type": "code",
   "execution_count": 20,
   "metadata": {},
   "outputs": [
    {
     "data": {
      "text/html": [
       "<div>\n",
       "<style scoped>\n",
       "    .dataframe tbody tr th:only-of-type {\n",
       "        vertical-align: middle;\n",
       "    }\n",
       "\n",
       "    .dataframe tbody tr th {\n",
       "        vertical-align: top;\n",
       "    }\n",
       "\n",
       "    .dataframe thead th {\n",
       "        text-align: right;\n",
       "    }\n",
       "</style>\n",
       "<table border=\"1\" class=\"dataframe\">\n",
       "  <thead>\n",
       "    <tr style=\"text-align: right;\">\n",
       "      <th></th>\n",
       "      <th>match_id</th>\n",
       "      <th>contributors</th>\n",
       "      <th>organizations</th>\n",
       "      <th>total_pre_bill_13</th>\n",
       "      <th>total_post_bill_13</th>\n",
       "      <th>pct_pre_bill_13</th>\n",
       "      <th>pct_post_bill_13</th>\n",
       "      <th>total_pre_bill_17</th>\n",
       "      <th>total_post_bill_17</th>\n",
       "      <th>pct_pre_bill_17</th>\n",
       "      <th>pct_post_bill_17</th>\n",
       "      <th>giving_change</th>\n",
       "    </tr>\n",
       "  </thead>\n",
       "  <tbody>\n",
       "    <tr>\n",
       "      <th>0</th>\n",
       "      <td>Air Line Pilots Assn</td>\n",
       "      <td>[AIR LINE PILOTS ASSOC INT'L   POLITICAL ACTIO...</td>\n",
       "      <td>[Air Line Pilots Assn]</td>\n",
       "      <td>nan</td>\n",
       "      <td>nan</td>\n",
       "      <td>nan</td>\n",
       "      <td>nan</td>\n",
       "      <td>100,000.00</td>\n",
       "      <td>150,000.00</td>\n",
       "      <td>0.40</td>\n",
       "      <td>0.60</td>\n",
       "      <td>Increased</td>\n",
       "    </tr>\n",
       "  </tbody>\n",
       "</table>\n",
       "</div>"
      ],
      "text/plain": [
       "               match_id                                       contributors  \\\n",
       "0  Air Line Pilots Assn  [AIR LINE PILOTS ASSOC INT'L   POLITICAL ACTIO...   \n",
       "\n",
       "            organizations  total_pre_bill_13  total_post_bill_13  \\\n",
       "0  [Air Line Pilots Assn]                nan                 nan   \n",
       "\n",
       "   pct_pre_bill_13  pct_post_bill_13  total_pre_bill_17  total_post_bill_17  \\\n",
       "0              nan               nan         100,000.00          150,000.00   \n",
       "\n",
       "   pct_pre_bill_17  pct_post_bill_17 giving_change  \n",
       "0             0.40              0.60     Increased  "
      ]
     },
     "execution_count": 20,
     "metadata": {},
     "output_type": "execute_result"
    }
   ],
   "source": [
    "donors[\"giving_change\"] = np.where((donors[\"pct_post_bill_17\"] > donors[\"pct_post_bill_13\"]) | (donors[\"pct_pre_bill_13\"].isnull()), \"Increased\",\n",
    "                                  np.where(donors[\"pct_post_bill_17\"] < donors[\"pct_post_bill_13\"], \"Decreased\",\n",
    "                                           np.where(donors[\"pct_post_bill_17\"] == donors[\"pct_post_bill_13\"], \"Stayed the same\",\n",
    "                                                   \"Other\")))\n",
    "donors.head(1)"
   ]
  },
  {
   "cell_type": "markdown",
   "metadata": {},
   "source": [
    "## What proportion of donors increased the share of their annual giving that fell in the last two months of 2017 as compared with the same period in 2013?"
   ]
  },
  {
   "cell_type": "code",
   "execution_count": 21,
   "metadata": {},
   "outputs": [
    {
     "data": {
      "text/plain": [
       "match_id              131\n",
       "contributors          131\n",
       "organizations         131\n",
       "total_pre_bill_13      82\n",
       "total_post_bill_13     82\n",
       "pct_pre_bill_13        82\n",
       "pct_post_bill_13       82\n",
       "total_pre_bill_17     131\n",
       "total_post_bill_17    131\n",
       "pct_pre_bill_17       131\n",
       "pct_post_bill_17      131\n",
       "giving_change         131\n",
       "dtype: int64"
      ]
     },
     "execution_count": 21,
     "metadata": {},
     "output_type": "execute_result"
    }
   ],
   "source": [
    "donors[donors[\"giving_change\"] == \"Increased\"].count()"
   ]
  },
  {
   "cell_type": "markdown",
   "metadata": {},
   "source": [
    "## And by how much did these individuals' giving increase?"
   ]
  },
  {
   "cell_type": "code",
   "execution_count": 22,
   "metadata": {},
   "outputs": [
    {
     "data": {
      "text/plain": [
       "22986493.0"
      ]
     },
     "execution_count": 22,
     "metadata": {},
     "output_type": "execute_result"
    }
   ],
   "source": [
    "donors[donors[\"giving_change\"] == \"Increased\"][\"total_post_bill_17\"].sum()"
   ]
  },
  {
   "cell_type": "code",
   "execution_count": 23,
   "metadata": {},
   "outputs": [
    {
     "data": {
      "text/plain": [
       "1155975.0"
      ]
     },
     "execution_count": 23,
     "metadata": {},
     "output_type": "execute_result"
    }
   ],
   "source": [
    "donors[donors[\"giving_change\"] == \"Increased\"][\"total_post_bill_13\"].sum()"
   ]
  },
  {
   "cell_type": "code",
   "execution_count": 24,
   "metadata": {},
   "outputs": [
    {
     "data": {
      "text/plain": [
       "21830518.0"
      ]
     },
     "execution_count": 24,
     "metadata": {},
     "output_type": "execute_result"
    }
   ],
   "source": [
    "donors[donors[\"giving_change\"] == \"Increased\"][\"total_post_bill_17\"].sum() - donors[donors[\"giving_change\"] == \"Increased\"][\"total_post_bill_13\"].sum()"
   ]
  },
  {
   "cell_type": "markdown",
   "metadata": {},
   "source": [
    "# What does this giving look like on a contribution-by-contribution level?"
   ]
  },
  {
   "cell_type": "markdown",
   "metadata": {},
   "source": [
    "During the period after the tax bill was introduced?"
   ]
  },
  {
   "cell_type": "code",
   "execution_count": 25,
   "metadata": {},
   "outputs": [
    {
     "name": "stdout",
     "output_type": "stream",
     "text": [
      "<class 'pandas.core.frame.DataFrame'>\n",
      "RangeIndex: 895 entries, 0 to 894\n",
      "Data columns (total 8 columns):\n",
      "fectransid      895 non-null object\n",
      "match_id        895 non-null object\n",
      "organization    895 non-null object\n",
      "contributor     895 non-null object\n",
      "date            895 non-null object\n",
      "sum             895 non-null float64\n",
      "cmte_id         895 non-null object\n",
      "committee       895 non-null object\n",
      "dtypes: float64(1), object(7)\n",
      "memory usage: 56.0+ KB\n"
     ]
    }
   ],
   "source": [
    "post_bill_contributions_17 = pd.read_sql(\"\"\"CREATE TABLE IF NOT EXISTS post_bill_contributions_17 AS\n",
    "SELECT fectransid,\n",
    "       match_id,\n",
    "       organization,\n",
    "       contributor, date, sum(SUM),\n",
    "                          cmte_id,\n",
    "                          pacshort AS committee\n",
    "FROM\n",
    "  (SELECT fectransid,\n",
    "          match_id,\n",
    "          orgname AS organization,\n",
    "          contrib AS contributor, date, sum(amount),\n",
    "                                        cmteid AS cmte_id\n",
    "   FROM\n",
    "     (SELECT CASE\n",
    "                 WHEN trim(contribid) != '' THEN left(contribid, 11)\n",
    "                 ELSE orgname\n",
    "             END AS match_id\n",
    "      FROM crp_contributions\n",
    "      LEFT JOIN crp_committees ON crp_contributions.cmteid = crp_committees.cmteid\n",
    "      AND crp_committees.cycle = '2018'\n",
    "      WHERE primcode IN ('J1100',\n",
    "                         'J2200',\n",
    "                         'J2400',\n",
    "                         'Z1100',\n",
    "                         'Z4100',\n",
    "                         'Z4500',\n",
    "                         'Z5100')\n",
    "        AND date >= '2017-11-02'\n",
    "        AND date <= '2017-12-31'\n",
    "        AND crp_contributions.cycle = '2018'\n",
    "        AND TYPE NOT IN ('11J',\n",
    "                         '15C',\n",
    "                         '15E',\n",
    "                         '15I',\n",
    "                         '15J',\n",
    "                         '15T',\n",
    "                         '18J',\n",
    "                         '19J',\n",
    "                         '30J',\n",
    "                         '30F',\n",
    "                         '31J',\n",
    "                         '31F',\n",
    "                         '32J',\n",
    "                         '32F')\n",
    "      GROUP BY match_id\n",
    "      HAVING sum(amount) >= 50000) AS gop_donors\n",
    "   JOIN crp_contributions ON CASE\n",
    "                                 WHEN trim(contribid) != '' THEN left(contribid, 11)\n",
    "                                 ELSE crp_contributions.orgname\n",
    "                             END = gop_donors.match_id\n",
    "   WHERE date >= '2017-11-02'\n",
    "     AND date <= '2017-12-31'\n",
    "     AND CYCLE = '2018'\n",
    "     AND TYPE NOT IN ('11J',\n",
    "                      '15C',\n",
    "                      '15E',\n",
    "                      '15I',\n",
    "                      '15J',\n",
    "                      '15T',\n",
    "                      '18J',\n",
    "                      '19J',\n",
    "                      '30J',\n",
    "                      '30F',\n",
    "                      '31J',\n",
    "                      '31F',\n",
    "                      '32J',\n",
    "                      '32F')\n",
    "   GROUP BY fectransid,\n",
    "            match_id,\n",
    "            organization,\n",
    "            contributor, date, cmte_id) AS donors_committees\n",
    "JOIN crp_committees ON donors_committees.cmte_id = crp_committees.cmteid\n",
    "AND crp_committees.CYCLE = '2018'\n",
    "WHERE primcode IN ('J1100',\n",
    "                   'J2200',\n",
    "                   'J2400',\n",
    "                   'Z1100',\n",
    "                   'Z4100',\n",
    "                   'Z4500',\n",
    "                   'Z5100')\n",
    "GROUP BY fectransid,\n",
    "         match_id,\n",
    "         organization,\n",
    "         contributor, date, cmte_id,\n",
    "                            committee;\n",
    "\n",
    "GRANT ALL ON TABLE post_bill_contributions_17 TO redash_default;\n",
    "\n",
    "\n",
    "SELECT *\n",
    "FROM post_bill_contributions_17;\"\"\", con=conn)\n",
    "post_bill_contributions_17.info()"
   ]
  },
  {
   "cell_type": "markdown",
   "metadata": {},
   "source": [
    "During the period before the tax bill was introduced?"
   ]
  },
  {
   "cell_type": "code",
   "execution_count": 26,
   "metadata": {},
   "outputs": [
    {
     "name": "stdout",
     "output_type": "stream",
     "text": [
      "<class 'pandas.core.frame.DataFrame'>\n",
      "RangeIndex: 1654 entries, 0 to 1653\n",
      "Data columns (total 8 columns):\n",
      "fectransid      1654 non-null object\n",
      "match_id        1654 non-null object\n",
      "organization    1654 non-null object\n",
      "contributor     1654 non-null object\n",
      "date            1654 non-null object\n",
      "sum             1654 non-null float64\n",
      "cmte_id         1654 non-null object\n",
      "committee       1654 non-null object\n",
      "dtypes: float64(1), object(7)\n",
      "memory usage: 103.5+ KB\n"
     ]
    }
   ],
   "source": [
    "pre_bill_contributions_17 = pd.read_sql(\"\"\"CREATE TABLE IF NOT EXISTS pre_bill_contributions_17 AS\n",
    "SELECT fectransid,\n",
    "       match_id,\n",
    "       organization,\n",
    "       contributor, date, sum(SUM),\n",
    "                          cmte_id,\n",
    "                          pacshort AS committee\n",
    "FROM\n",
    "  (SELECT fectransid,\n",
    "          match_id,\n",
    "          orgname AS organization,\n",
    "          contrib AS contributor, date, sum(amount),\n",
    "                                        cmteid AS cmte_id\n",
    "   FROM\n",
    "     (SELECT CASE\n",
    "                 WHEN trim(contribid) != '' THEN left(contribid, 11)\n",
    "                 ELSE orgname\n",
    "             END AS match_id\n",
    "      FROM crp_contributions\n",
    "      LEFT JOIN crp_committees ON crp_contributions.cmteid = crp_committees.cmteid\n",
    "      AND crp_committees.cycle = '2018'\n",
    "      WHERE primcode IN ('J1100',\n",
    "                         'J2200',\n",
    "                         'J2400',\n",
    "                         'Z1100',\n",
    "                         'Z4100',\n",
    "                         'Z4500',\n",
    "                         'Z5100')\n",
    "        AND date >= '2017-11-02'\n",
    "        AND date <= '2017-12-31'\n",
    "        AND crp_contributions.cycle = '2018'\n",
    "        AND TYPE NOT IN ('11J',\n",
    "                         '15C',\n",
    "                         '15E',\n",
    "                         '15I',\n",
    "                         '15J',\n",
    "                         '15T',\n",
    "                         '18J',\n",
    "                         '19J',\n",
    "                         '30J',\n",
    "                         '30F',\n",
    "                         '31J',\n",
    "                         '31F',\n",
    "                         '32J',\n",
    "                         '32F')\n",
    "      GROUP BY match_id\n",
    "      HAVING sum(amount) >= 50000) AS gop_donors\n",
    "   JOIN crp_contributions ON CASE\n",
    "                                 WHEN trim(contribid) != '' THEN left(contribid, 11)\n",
    "                                 ELSE crp_contributions.orgname\n",
    "                             END = gop_donors.match_id\n",
    "   WHERE date >= '2017-01-01'\n",
    "     AND date < '2017-11-02'\n",
    "     AND CYCLE = '2018'\n",
    "     AND TYPE NOT IN ('11J',\n",
    "                      '15C',\n",
    "                      '15E',\n",
    "                      '15I',\n",
    "                      '15J',\n",
    "                      '15T',\n",
    "                      '18J',\n",
    "                      '19J',\n",
    "                      '30J',\n",
    "                      '30F',\n",
    "                      '31J',\n",
    "                      '31F',\n",
    "                      '32J',\n",
    "                      '32F')\n",
    "   GROUP BY fectransid,\n",
    "            match_id,\n",
    "            organization,\n",
    "            contributor, date, cmte_id) AS donors_committees\n",
    "JOIN crp_committees ON donors_committees.cmte_id = crp_committees.cmteid\n",
    "AND crp_committees.CYCLE = '2018'\n",
    "WHERE primcode IN ('J1100',\n",
    "                   'J2200',\n",
    "                   'J2400',\n",
    "                   'Z1100',\n",
    "                   'Z4100',\n",
    "                   'Z4500',\n",
    "                   'Z5100')\n",
    "GROUP BY fectransid,\n",
    "         match_id,\n",
    "         organization,\n",
    "         contributor, date, cmte_id,\n",
    "                            committee;\n",
    "\n",
    "GRANT ALL ON TABLE pre_bill_contributions_17 TO redash_default;\n",
    "\n",
    "\n",
    "SELECT *\n",
    "FROM pre_bill_contributions_17;\"\"\", con=conn)\n",
    "pre_bill_contributions_17.info()"
   ]
  },
  {
   "cell_type": "markdown",
   "metadata": {},
   "source": [
    "What about during the equivalent post-bill introduction period in 2013?"
   ]
  },
  {
   "cell_type": "code",
   "execution_count": 27,
   "metadata": {},
   "outputs": [
    {
     "name": "stdout",
     "output_type": "stream",
     "text": [
      "<class 'pandas.core.frame.DataFrame'>\n",
      "RangeIndex: 303 entries, 0 to 302\n",
      "Data columns (total 8 columns):\n",
      "fectransid      303 non-null object\n",
      "match_id        303 non-null object\n",
      "organization    303 non-null object\n",
      "contributor     303 non-null object\n",
      "date            303 non-null object\n",
      "sum             303 non-null float64\n",
      "cmte_id         303 non-null object\n",
      "committee       303 non-null object\n",
      "dtypes: float64(1), object(7)\n",
      "memory usage: 19.0+ KB\n"
     ]
    }
   ],
   "source": [
    "post_bill_contributions_13 = pd.read_sql(\"\"\"CREATE TABLE IF NOT EXISTS post_bill_contributions_13 AS\n",
    "SELECT fectransid,\n",
    "       match_id,\n",
    "       organization,\n",
    "       contributor, date, sum(SUM),\n",
    "                          cmte_id,\n",
    "                          pacshort AS committee\n",
    "FROM\n",
    "  (SELECT fectransid,\n",
    "          match_id,\n",
    "          orgname AS organization,\n",
    "          contrib AS contributor, date, sum(amount),\n",
    "                                        cmteid AS cmte_id\n",
    "   FROM\n",
    "     (SELECT CASE\n",
    "                 WHEN trim(contribid) != '' THEN left(contribid, 11)\n",
    "                 ELSE orgname\n",
    "             END AS match_id\n",
    "      FROM crp_contributions\n",
    "      LEFT JOIN crp_committees ON crp_contributions.cmteid = crp_committees.cmteid\n",
    "      AND crp_committees.cycle = '2018'\n",
    "      WHERE primcode IN ('J1100',\n",
    "                         'J2200',\n",
    "                         'J2400',\n",
    "                         'Z1100',\n",
    "                         'Z4100',\n",
    "                         'Z4500',\n",
    "                         'Z5100')\n",
    "        AND date >= '2017-11-02'\n",
    "        AND date <= '2017-12-31'\n",
    "        AND crp_contributions.cycle = '2018'\n",
    "        AND TYPE NOT IN ('11J',\n",
    "                         '15C',\n",
    "                         '15E',\n",
    "                         '15I',\n",
    "                         '15J',\n",
    "                         '15T',\n",
    "                         '18J',\n",
    "                         '19J',\n",
    "                         '30J',\n",
    "                         '30F',\n",
    "                         '31J',\n",
    "                         '31F',\n",
    "                         '32J',\n",
    "                         '32F')\n",
    "      GROUP BY match_id\n",
    "      HAVING sum(amount) >= 50000) AS gop_donors\n",
    "   JOIN crp_contributions ON CASE\n",
    "                                 WHEN trim(contribid) != '' THEN left(contribid, 11)\n",
    "                                 ELSE crp_contributions.orgname\n",
    "                             END = gop_donors.match_id\n",
    "   WHERE date >= '2013-11-02'\n",
    "     AND date <= '2013-12-31'\n",
    "     AND CYCLE = '2014'\n",
    "     AND TYPE NOT IN ('11J',\n",
    "                      '15C',\n",
    "                      '15E',\n",
    "                      '15I',\n",
    "                      '15J',\n",
    "                      '15T',\n",
    "                      '18J',\n",
    "                      '19J',\n",
    "                      '30J',\n",
    "                      '30F',\n",
    "                      '31J',\n",
    "                      '31F',\n",
    "                      '32J',\n",
    "                      '32F')\n",
    "   GROUP BY fectransid,\n",
    "            match_id,\n",
    "            organization,\n",
    "            contributor, date, cmte_id) AS donors_committees\n",
    "JOIN crp_committees ON donors_committees.cmte_id = crp_committees.cmteid\n",
    "AND crp_committees.CYCLE = '2014'\n",
    "WHERE primcode IN ('J1100',\n",
    "                   'J2200',\n",
    "                   'J2400',\n",
    "                   'Z1100',\n",
    "                   'Z4100',\n",
    "                   'Z4500',\n",
    "                   'Z5100')\n",
    "GROUP BY fectransid,\n",
    "         match_id,\n",
    "         organization,\n",
    "         contributor, date, cmte_id,\n",
    "                            committee;\n",
    "\n",
    "GRANT ALL ON TABLE post_bill_contributions_13 TO redash_default;\n",
    "\n",
    "\n",
    "SELECT *\n",
    "FROM post_bill_contributions_13;\"\"\", con=conn)\n",
    "post_bill_contributions_13.info()"
   ]
  },
  {
   "cell_type": "code",
   "execution_count": 28,
   "metadata": {},
   "outputs": [
    {
     "name": "stdout",
     "output_type": "stream",
     "text": [
      "<class 'pandas.core.frame.DataFrame'>\n",
      "RangeIndex: 893 entries, 0 to 892\n",
      "Data columns (total 8 columns):\n",
      "fectransid      893 non-null object\n",
      "match_id        893 non-null object\n",
      "organization    893 non-null object\n",
      "contributor     893 non-null object\n",
      "date            893 non-null object\n",
      "sum             893 non-null float64\n",
      "cmte_id         893 non-null object\n",
      "committee       893 non-null object\n",
      "dtypes: float64(1), object(7)\n",
      "memory usage: 55.9+ KB\n"
     ]
    }
   ],
   "source": [
    "pre_bill_contributions_13 = pd.read_sql(\"\"\"CREATE TABLE IF NOT EXISTS pre_bill_contributions_13 AS\n",
    "SELECT fectransid,\n",
    "       match_id,\n",
    "       organization,\n",
    "       contributor, date, sum(SUM),\n",
    "                          cmte_id,\n",
    "                          pacshort AS committee\n",
    "FROM\n",
    "  (SELECT fectransid,\n",
    "          match_id,\n",
    "          orgname AS organization,\n",
    "          contrib AS contributor, date, sum(amount),\n",
    "                                        cmteid AS cmte_id\n",
    "   FROM\n",
    "     (SELECT CASE\n",
    "                 WHEN trim(contribid) != '' THEN left(contribid, 11)\n",
    "                 ELSE orgname\n",
    "             END AS match_id\n",
    "      FROM crp_contributions\n",
    "      LEFT JOIN crp_committees ON crp_contributions.cmteid = crp_committees.cmteid\n",
    "      AND crp_committees.cycle = '2018'\n",
    "      WHERE primcode IN ('J1100',\n",
    "                         'J2200',\n",
    "                         'J2400',\n",
    "                         'Z1100',\n",
    "                         'Z4100',\n",
    "                         'Z4500',\n",
    "                         'Z5100')\n",
    "        AND date >= '2017-11-02'\n",
    "        AND date <= '2017-12-31'\n",
    "        AND crp_contributions.cycle = '2018'\n",
    "        AND TYPE NOT IN ('11J',\n",
    "                         '15C',\n",
    "                         '15E',\n",
    "                         '15I',\n",
    "                         '15J',\n",
    "                         '15T',\n",
    "                         '18J',\n",
    "                         '19J',\n",
    "                         '30J',\n",
    "                         '30F',\n",
    "                         '31J',\n",
    "                         '31F',\n",
    "                         '32J',\n",
    "                         '32F')\n",
    "      GROUP BY match_id\n",
    "      HAVING sum(amount) >= 50000) AS gop_donors\n",
    "   JOIN crp_contributions ON CASE\n",
    "                                 WHEN trim(contribid) != '' THEN left(contribid, 11)\n",
    "                                 ELSE crp_contributions.orgname\n",
    "                             END = gop_donors.match_id\n",
    "   WHERE date >= '2013-01-01'\n",
    "     AND date < '2013-11-02'\n",
    "     AND CYCLE = '2014'\n",
    "     AND TYPE NOT IN ('11J',\n",
    "                      '15C',\n",
    "                      '15E',\n",
    "                      '15I',\n",
    "                      '15J',\n",
    "                      '15T',\n",
    "                      '18J',\n",
    "                      '19J',\n",
    "                      '30J',\n",
    "                      '30F',\n",
    "                      '31J',\n",
    "                      '31F',\n",
    "                      '32J',\n",
    "                      '32F')\n",
    "   GROUP BY fectransid,\n",
    "            match_id,\n",
    "            organization,\n",
    "            contributor, date, cmte_id) AS donors_committees\n",
    "JOIN crp_committees ON donors_committees.cmte_id = crp_committees.cmteid\n",
    "AND crp_committees.CYCLE = '2014'\n",
    "WHERE primcode IN ('J1100',\n",
    "                   'J2200',\n",
    "                   'J2400',\n",
    "                   'Z1100',\n",
    "                   'Z4100',\n",
    "                   'Z4500',\n",
    "                   'Z5100')\n",
    "GROUP BY fectransid,\n",
    "         match_id,\n",
    "         organization,\n",
    "         contributor, date, cmte_id,\n",
    "                            committee;\n",
    "\n",
    "GRANT ALL ON TABLE pre_bill_contributions_13 TO redash_default;\n",
    "\n",
    "\n",
    "SELECT *\n",
    "FROM pre_bill_contributions_13;\"\"\", con=conn)\n",
    "pre_bill_contributions_13.info()"
   ]
  },
  {
   "cell_type": "markdown",
   "metadata": {},
   "source": [
    "## Export data to Excel."
   ]
  },
  {
   "cell_type": "code",
   "execution_count": 29,
   "metadata": {},
   "outputs": [],
   "source": [
    "writer = pd.ExcelWriter(\"data/megadonors.xlsx\")\n",
    "donors.to_excel(writer, \"donors\", startcol=0, index=False)\n",
    "post_bill_donors_committees_17.to_excel(writer, \"post_bill_donors_committees_17\", startcol=0, index=False)\n",
    "pre_bill_donors_committees_17.to_excel(writer, \"pre_bill_donors_committees_17\", startcol=0, index=False)\n",
    "post_bill_donors_committees_13.to_excel(writer, \"post_bill_donors_committees_13\", startcol=0, index=False)\n",
    "pre_bill_donors_committees_13.to_excel(writer, \"pre_bill_donors_committees_13\", startcol=0, index=False)\n",
    "post_bill_contributions_17.to_excel(writer, \"post_bill_contributions_17\", startcol=0, index=False)\n",
    "pre_bill_contributions_17.to_excel(writer, \"pre_bill_contributions_17\", startcol=0, index=False)\n",
    "post_bill_contributions_13.to_excel(writer, \"post_bill_contributions_13\", startcol=0, index=False)\n",
    "pre_bill_contributions_13.to_excel(writer, \"pre_bill_contributions_13\", startcol=0, index=False)\n",
    "writer.save()"
   ]
  },
  {
   "cell_type": "code",
   "execution_count": null,
   "metadata": {},
   "outputs": [],
   "source": []
  }
 ],
 "metadata": {
  "kernelspec": {
   "display_name": "Python 3",
   "language": "python",
   "name": "python3"
  },
  "language_info": {
   "codemirror_mode": {
    "name": "ipython",
    "version": 3
   },
   "file_extension": ".py",
   "mimetype": "text/x-python",
   "name": "python",
   "nbconvert_exporter": "python",
   "pygments_lexer": "ipython3",
   "version": "3.6.3"
  }
 },
 "nbformat": 4,
 "nbformat_minor": 2
}
