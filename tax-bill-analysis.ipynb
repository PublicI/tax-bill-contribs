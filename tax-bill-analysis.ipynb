{
 "cells": [
  {
   "cell_type": "code",
   "execution_count": 1,
   "metadata": {},
   "outputs": [],
   "source": [
    "import altair as alt\n",
    "from altair.expr import datum, if_\n",
    "import datetime\n",
    "import json\n",
    "import numpy as np\n",
    "import pandas as pd\n",
    "import psycopg2\n",
    "pd.set_option(\"display.max_columns\", 25)\n",
    "pd.set_option(\"display.max_rows\", 150)\n",
    "pd.options.display.float_format = \"{:,.2f}\".format"
   ]
  },
  {
   "cell_type": "markdown",
   "metadata": {},
   "source": [
    "Connect to the database."
   ]
  },
  {
   "cell_type": "code",
   "execution_count": 2,
   "metadata": {},
   "outputs": [],
   "source": [
    "with open(\"config.json\") as f:\n",
    "    conf = json.load(f)\n",
    "conn = psycopg2.connect(\n",
    "    dbname=conf[\"database\"],\n",
    "    user=conf[\"user\"],\n",
    "    host=conf[\"host\"],\n",
    "    password=conf[\"password\"]\n",
    ")\n",
    "conn.autocommit = True"
   ]
  },
  {
   "cell_type": "markdown",
   "metadata": {},
   "source": [
    "## Which families and corporations gave at least $50,000 to conservative and GOP-aligned groups between Nov. 2 and Dec. 31, 2017?"
   ]
  },
  {
   "cell_type": "markdown",
   "metadata": {},
   "source": [
    "Return contributions by donor and committee."
   ]
  },
  {
   "cell_type": "code",
   "execution_count": 3,
   "metadata": {},
   "outputs": [
    {
     "name": "stdout",
     "output_type": "stream",
     "text": [
      "<class 'pandas.core.frame.DataFrame'>\n",
      "RangeIndex: 726 entries, 0 to 725\n",
      "Data columns (total 6 columns):\n",
      "match_id         726 non-null object\n",
      "organizations    726 non-null object\n",
      "contributors     726 non-null object\n",
      "total            726 non-null float64\n",
      "cmte_id          726 non-null object\n",
      "committee        726 non-null object\n",
      "dtypes: float64(1), object(5)\n",
      "memory usage: 34.1+ KB\n"
     ]
    }
   ],
   "source": [
    "post_bill_contributions_17 = pd.read_sql(\"\"\"CREATE TABLE IF NOT EXISTS post_bill_contributions_17 AS\n",
    "SELECT match_id,\n",
    "       organizations,\n",
    "       contributors,\n",
    "       sum(committee_total) AS total,\n",
    "       cmte_id,\n",
    "       pacshort AS committee\n",
    "FROM\n",
    "  (SELECT match_id,\n",
    "          organizations,\n",
    "          contributors,\n",
    "          sum(amount) AS committee_total,\n",
    "          cmteid AS cmte_id\n",
    "   FROM\n",
    "     (SELECT CASE\n",
    "                 WHEN trim(contribid) != '' THEN left(contribid, 11)\n",
    "                 ELSE orgname\n",
    "             END AS match_id,\n",
    "             array_agg(DISTINCT orgname) AS organizations,\n",
    "             array_agg(DISTINCT contrib) AS contributors\n",
    "      FROM crp_contributions\n",
    "      LEFT JOIN crp_committees ON crp_contributions.cmteid = crp_committees.cmteid\n",
    "      AND crp_committees.cycle = '2018'\n",
    "      WHERE primcode IN ('J1100',\n",
    "                         'J2200',\n",
    "                         'J2400',\n",
    "                         'Z1100',\n",
    "                         'Z4100',\n",
    "                         'Z4500',\n",
    "                         'Z5100')\n",
    "        AND date >= '2017-11-02'\n",
    "        AND date <= '2017-12-31'\n",
    "        AND crp_contributions.cycle = '2018'\n",
    "        AND TYPE IN ('10',\n",
    "                     '11',\n",
    "                     '15',\n",
    "                     '15E',\n",
    "                     '15J',\n",
    "                     '22Y')\n",
    "      GROUP BY match_id\n",
    "      HAVING sum(amount) >= 50000) AS gop_donors\n",
    "   JOIN crp_contributions ON CASE\n",
    "                                 WHEN trim(contribid) != '' THEN left(contribid, 11)\n",
    "                                 ELSE crp_contributions.orgname\n",
    "                             END = gop_donors.match_id\n",
    "   WHERE date >= '2017-11-02'\n",
    "     AND date <= '2017-12-31'\n",
    "     AND CYCLE = '2018'\n",
    "     AND TYPE IN ('10',\n",
    "                  '11',\n",
    "                  '15',\n",
    "                  '15E',\n",
    "                  '15J',\n",
    "                  '22Y')\n",
    "   GROUP BY match_id,\n",
    "            organizations,\n",
    "            contributors,\n",
    "            cmte_id) AS donors_committees\n",
    "JOIN crp_committees ON donors_committees.cmte_id = crp_committees.cmteid\n",
    "AND crp_committees.CYCLE = '2018'\n",
    "WHERE primcode IN ('J1100',\n",
    "                   'J2200',\n",
    "                   'J2400',\n",
    "                   'Z1100',\n",
    "                   'Z4100',\n",
    "                   'Z4500',\n",
    "                   'Z5100')\n",
    "GROUP BY match_id,\n",
    "         organizations,\n",
    "         contributors,\n",
    "         cmte_id,\n",
    "         committee;\n",
    "\n",
    "GRANT ALL ON TABLE post_bill_contributions_17 TO redash_default;\n",
    "\n",
    "\n",
    "SELECT *\n",
    "FROM post_bill_contributions_17;\"\"\", con=conn)\n",
    "post_bill_contributions_17.info()"
   ]
  },
  {
   "cell_type": "markdown",
   "metadata": {},
   "source": [
    "Group by donor."
   ]
  },
  {
   "cell_type": "code",
   "execution_count": 4,
   "metadata": {},
   "outputs": [
    {
     "name": "stdout",
     "output_type": "stream",
     "text": [
      "<class 'pandas.core.frame.DataFrame'>\n",
      "RangeIndex: 162 entries, 0 to 161\n",
      "Data columns (total 4 columns):\n",
      "match_id         162 non-null object\n",
      "organizations    162 non-null object\n",
      "contributors     162 non-null object\n",
      "total            162 non-null float64\n",
      "dtypes: float64(1), object(3)\n",
      "memory usage: 5.1+ KB\n"
     ]
    }
   ],
   "source": [
    "post_bill_donors_17 = post_bill_contributions_17.groupby([\"match_id\"]).agg({\"organizations\": max, \"contributors\": max, \"total\": sum}).reset_index()\n",
    "post_bill_donors_17.info()"
   ]
  },
  {
   "cell_type": "markdown",
   "metadata": {},
   "source": [
    "## How much did they give?"
   ]
  },
  {
   "cell_type": "code",
   "execution_count": 5,
   "metadata": {},
   "outputs": [
    {
     "data": {
      "text/plain": [
       "33816430.0"
      ]
     },
     "execution_count": 5,
     "metadata": {},
     "output_type": "execute_result"
    }
   ],
   "source": [
    "post_bill_donors_17[\"total\"].sum()"
   ]
  },
  {
   "cell_type": "markdown",
   "metadata": {},
   "source": [
    "## Had these megadonors given previously in 2017?"
   ]
  },
  {
   "cell_type": "markdown",
   "metadata": {},
   "source": [
    "Return contributions by donor and committee."
   ]
  },
  {
   "cell_type": "code",
   "execution_count": 6,
   "metadata": {},
   "outputs": [
    {
     "name": "stdout",
     "output_type": "stream",
     "text": [
      "<class 'pandas.core.frame.DataFrame'>\n",
      "RangeIndex: 1153 entries, 0 to 1152\n",
      "Data columns (total 6 columns):\n",
      "match_id         1153 non-null object\n",
      "organizations    1153 non-null object\n",
      "contributors     1153 non-null object\n",
      "total            1153 non-null float64\n",
      "cmte_id          1153 non-null object\n",
      "committee        1153 non-null object\n",
      "dtypes: float64(1), object(5)\n",
      "memory usage: 54.1+ KB\n"
     ]
    }
   ],
   "source": [
    "pre_bill_contributions_17 = pd.read_sql(\"\"\"CREATE TABLE IF NOT EXISTS pre_bill_contributions_17 AS\n",
    "SELECT match_id,\n",
    "       organizations,\n",
    "       contributors,\n",
    "       sum(committee_total) AS total,\n",
    "       cmte_id,\n",
    "       pacshort AS committee\n",
    "FROM\n",
    "  (SELECT match_id,\n",
    "          organizations,\n",
    "          contributors,\n",
    "          sum(amount) AS committee_total,\n",
    "          cmteid AS cmte_id\n",
    "   FROM\n",
    "     (SELECT CASE\n",
    "                 WHEN trim(contribid) != '' THEN left(contribid, 11)\n",
    "                 ELSE orgname\n",
    "             END AS match_id,\n",
    "             array_agg(DISTINCT orgname) AS organizations,\n",
    "             array_agg(DISTINCT contrib) AS contributors\n",
    "      FROM crp_contributions\n",
    "      LEFT JOIN crp_committees ON crp_contributions.cmteid = crp_committees.cmteid\n",
    "      AND crp_committees.cycle = '2018'\n",
    "      WHERE primcode IN ('J1100',\n",
    "                         'J2200',\n",
    "                         'J2400',\n",
    "                         'Z1100',\n",
    "                         'Z4100',\n",
    "                         'Z4500',\n",
    "                         'Z5100')\n",
    "        AND date >= '2017-11-02'\n",
    "        AND date <= '2017-12-31'\n",
    "        AND crp_contributions.cycle = '2018'\n",
    "        AND TYPE IN ('10',\n",
    "                     '11',\n",
    "                     '15',\n",
    "                     '15E',\n",
    "                     '15J',\n",
    "                     '22Y')\n",
    "      GROUP BY match_id\n",
    "      HAVING sum(amount) >= 50000) AS gop_donors\n",
    "   JOIN crp_contributions ON CASE\n",
    "                                 WHEN trim(contribid) != '' THEN left(contribid, 11)\n",
    "                                 ELSE crp_contributions.orgname\n",
    "                             END = gop_donors.match_id\n",
    "   WHERE date < '2017-11-02'\n",
    "     AND CYCLE = '2018'\n",
    "     AND TYPE IN ('10',\n",
    "                  '11',\n",
    "                  '15',\n",
    "                  '15E',\n",
    "                  '15J',\n",
    "                  '22Y')\n",
    "   GROUP BY match_id,\n",
    "            organizations,\n",
    "            contributors,\n",
    "            cmte_id) AS donors_committees\n",
    "JOIN crp_committees ON donors_committees.cmte_id = crp_committees.cmteid\n",
    "AND crp_committees.CYCLE = '2018'\n",
    "WHERE primcode IN ('J1100',\n",
    "                   'J2200',\n",
    "                   'J2400',\n",
    "                   'Z1100',\n",
    "                   'Z4100',\n",
    "                   'Z4500',\n",
    "                   'Z5100')\n",
    "GROUP BY match_id,\n",
    "         organizations,\n",
    "         contributors,\n",
    "         cmte_id,\n",
    "         committee;\n",
    "\n",
    "GRANT ALL ON TABLE pre_bill_contributions_17 TO redash_default;\n",
    "\n",
    "\n",
    "SELECT *\n",
    "FROM pre_bill_contributions_17;\"\"\", con=conn)\n",
    "pre_bill_contributions_17.info()"
   ]
  },
  {
   "cell_type": "markdown",
   "metadata": {},
   "source": [
    "Group by donor."
   ]
  },
  {
   "cell_type": "code",
   "execution_count": 7,
   "metadata": {},
   "outputs": [
    {
     "name": "stdout",
     "output_type": "stream",
     "text": [
      "<class 'pandas.core.frame.DataFrame'>\n",
      "RangeIndex: 115 entries, 0 to 114\n",
      "Data columns (total 4 columns):\n",
      "match_id         115 non-null object\n",
      "organizations    115 non-null object\n",
      "contributors     115 non-null object\n",
      "total            115 non-null float64\n",
      "dtypes: float64(1), object(3)\n",
      "memory usage: 3.7+ KB\n"
     ]
    }
   ],
   "source": [
    "pre_bill_donors_17 = pre_bill_contributions_17.groupby([\"match_id\"]).agg({\"organizations\": max, \"contributors\": max, \"total\": sum}).reset_index()\n",
    "pre_bill_donors_17.info()"
   ]
  },
  {
   "cell_type": "markdown",
   "metadata": {},
   "source": [
    "## How much did they give?"
   ]
  },
  {
   "cell_type": "code",
   "execution_count": 8,
   "metadata": {},
   "outputs": [
    {
     "data": {
      "text/plain": [
       "54088632.0"
      ]
     },
     "execution_count": 8,
     "metadata": {},
     "output_type": "execute_result"
    }
   ],
   "source": [
    "pre_bill_donors_17[\"total\"].sum()"
   ]
  },
  {
   "cell_type": "markdown",
   "metadata": {},
   "source": [
    "## How much did these donors give in the period leading up to the tax bill's introduction and in the period after its introduction?"
   ]
  },
  {
   "cell_type": "code",
   "execution_count": 9,
   "metadata": {},
   "outputs": [
    {
     "name": "stdout",
     "output_type": "stream",
     "text": [
      "<class 'pandas.core.frame.DataFrame'>\n",
      "Int64Index: 162 entries, 0 to 161\n",
      "Data columns (total 5 columns):\n",
      "match_id           162 non-null object\n",
      "organizations      162 non-null object\n",
      "contributors       162 non-null object\n",
      "total_post_bill    162 non-null float64\n",
      "total_pre_bill     162 non-null float64\n",
      "dtypes: float64(2), object(3)\n",
      "memory usage: 7.6+ KB\n"
     ]
    }
   ],
   "source": [
    "donors_17 = post_bill_donors_17.merge(pre_bill_donors_17, how=\"outer\", on=\"match_id\", suffixes=[\"_post_bill\", \"_pre_bill\"])\n",
    "donors_17.drop([\"organizations_pre_bill\", \"contributors_pre_bill\"], axis=1, inplace=True)\n",
    "donors_17.rename(columns={\"organizations_post_bill\": \"organizations\", \"contributors_post_bill\": \"contributors\"}, inplace=True)\n",
    "donors_17[\"total_pre_bill\"].fillna(0, inplace=True)\n",
    "donors_17.info()"
   ]
  },
  {
   "cell_type": "code",
   "execution_count": 10,
   "metadata": {},
   "outputs": [
    {
     "data": {
      "text/html": [
       "<div>\n",
       "<style scoped>\n",
       "    .dataframe tbody tr th:only-of-type {\n",
       "        vertical-align: middle;\n",
       "    }\n",
       "\n",
       "    .dataframe tbody tr th {\n",
       "        vertical-align: top;\n",
       "    }\n",
       "\n",
       "    .dataframe thead th {\n",
       "        text-align: right;\n",
       "    }\n",
       "</style>\n",
       "<table border=\"1\" class=\"dataframe\">\n",
       "  <thead>\n",
       "    <tr style=\"text-align: right;\">\n",
       "      <th></th>\n",
       "      <th>match_id</th>\n",
       "      <th>organizations</th>\n",
       "      <th>contributors</th>\n",
       "      <th>total_post_bill</th>\n",
       "      <th>total_pre_bill</th>\n",
       "      <th>pct_post_bill</th>\n",
       "      <th>pct_pre_bill</th>\n",
       "      <th>change</th>\n",
       "      <th>pct_change</th>\n",
       "    </tr>\n",
       "  </thead>\n",
       "  <tbody>\n",
       "    <tr>\n",
       "      <th>47</th>\n",
       "      <td>U0000003690</td>\n",
       "      <td>[U-Line Corp, Uline Inc]</td>\n",
       "      <td>[UIHLEIN, ELIZABETH, UIHLEIN, ELIZABETH MRS, U...</td>\n",
       "      <td>4,557,300.00</td>\n",
       "      <td>11,549,400.00</td>\n",
       "      <td>0.28</td>\n",
       "      <td>0.72</td>\n",
       "      <td>-6,992,100.00</td>\n",
       "      <td>-0.61</td>\n",
       "    </tr>\n",
       "    <tr>\n",
       "      <th>2</th>\n",
       "      <td>American Action Network</td>\n",
       "      <td>[American Action Network]</td>\n",
       "      <td>[AMERICAN ACTION NETWORK]</td>\n",
       "      <td>3,747,520.00</td>\n",
       "      <td>9,142,525.00</td>\n",
       "      <td>0.29</td>\n",
       "      <td>0.71</td>\n",
       "      <td>-5,395,005.00</td>\n",
       "      <td>-0.59</td>\n",
       "    </tr>\n",
       "    <tr>\n",
       "      <th>54</th>\n",
       "      <td>U0000004054</td>\n",
       "      <td>[Ghpalmer Assoc, GH Palmer Assoc]</td>\n",
       "      <td>[PALMER, GEOFF, PALMER, GEOFFREY H]</td>\n",
       "      <td>1,955,200.00</td>\n",
       "      <td>559,272.00</td>\n",
       "      <td>0.78</td>\n",
       "      <td>0.22</td>\n",
       "      <td>1,395,928.00</td>\n",
       "      <td>2.50</td>\n",
       "    </tr>\n",
       "    <tr>\n",
       "      <th>9</th>\n",
       "      <td>Hillwood Development</td>\n",
       "      <td>[Hillwood Development]</td>\n",
       "      <td>[HILLWOOD DEVELOPMENT COMPANY LLC]</td>\n",
       "      <td>1,500,000.00</td>\n",
       "      <td>500,000.00</td>\n",
       "      <td>0.75</td>\n",
       "      <td>0.25</td>\n",
       "      <td>1,000,000.00</td>\n",
       "      <td>2.00</td>\n",
       "    </tr>\n",
       "    <tr>\n",
       "      <th>62</th>\n",
       "      <td>U0000004552</td>\n",
       "      <td>[Cinemark Holdings, Cinemark USA]</td>\n",
       "      <td>[MITCHELL, LEE, MITCHELL, LEE ROY, MITCHELL, T...</td>\n",
       "      <td>1,007,400.00</td>\n",
       "      <td>181,299.00</td>\n",
       "      <td>0.85</td>\n",
       "      <td>0.15</td>\n",
       "      <td>826,101.00</td>\n",
       "      <td>4.56</td>\n",
       "    </tr>\n",
       "  </tbody>\n",
       "</table>\n",
       "</div>"
      ],
      "text/plain": [
       "                   match_id                      organizations  \\\n",
       "47              U0000003690           [U-Line Corp, Uline Inc]   \n",
       "2   American Action Network          [American Action Network]   \n",
       "54              U0000004054  [Ghpalmer Assoc, GH Palmer Assoc]   \n",
       "9      Hillwood Development             [Hillwood Development]   \n",
       "62              U0000004552  [Cinemark Holdings, Cinemark USA]   \n",
       "\n",
       "                                         contributors  total_post_bill  \\\n",
       "47  [UIHLEIN, ELIZABETH, UIHLEIN, ELIZABETH MRS, U...     4,557,300.00   \n",
       "2                           [AMERICAN ACTION NETWORK]     3,747,520.00   \n",
       "54                [PALMER, GEOFF, PALMER, GEOFFREY H]     1,955,200.00   \n",
       "9                  [HILLWOOD DEVELOPMENT COMPANY LLC]     1,500,000.00   \n",
       "62  [MITCHELL, LEE, MITCHELL, LEE ROY, MITCHELL, T...     1,007,400.00   \n",
       "\n",
       "    total_pre_bill  pct_post_bill  pct_pre_bill        change  pct_change  \n",
       "47   11,549,400.00           0.28          0.72 -6,992,100.00       -0.61  \n",
       "2     9,142,525.00           0.29          0.71 -5,395,005.00       -0.59  \n",
       "54      559,272.00           0.78          0.22  1,395,928.00        2.50  \n",
       "9       500,000.00           0.75          0.25  1,000,000.00        2.00  \n",
       "62      181,299.00           0.85          0.15    826,101.00        4.56  "
      ]
     },
     "execution_count": 10,
     "metadata": {},
     "output_type": "execute_result"
    }
   ],
   "source": [
    "donors_17[\"pct_post_bill\"] = donors_17[\"total_post_bill\"] / (donors_17[\"total_pre_bill\"] + donors_17[\"total_post_bill\"])\n",
    "donors_17[\"pct_pre_bill\"] = donors_17[\"total_pre_bill\"] / (donors_17[\"total_pre_bill\"] + donors_17[\"total_post_bill\"])\n",
    "donors_17[\"change\"] = donors_17[\"total_post_bill\"] - donors_17[\"total_pre_bill\"]\n",
    "donors_17[\"pct_change\"] = (donors_17[\"total_post_bill\"] - donors_17[\"total_pre_bill\"]) / donors_17[\"total_pre_bill\"].abs()\n",
    "donors_17.sort_values(\"total_post_bill\", ascending=False).head()"
   ]
  },
  {
   "cell_type": "markdown",
   "metadata": {},
   "source": [
    "## Had these megadonors given between Nov. 2 and Dec. 31, 2013?"
   ]
  },
  {
   "cell_type": "markdown",
   "metadata": {},
   "source": [
    "Return contributions by donor and committee."
   ]
  },
  {
   "cell_type": "code",
   "execution_count": 11,
   "metadata": {},
   "outputs": [
    {
     "name": "stdout",
     "output_type": "stream",
     "text": [
      "<class 'pandas.core.frame.DataFrame'>\n",
      "RangeIndex: 230 entries, 0 to 229\n",
      "Data columns (total 6 columns):\n",
      "match_id         230 non-null object\n",
      "organizations    230 non-null object\n",
      "contributors     230 non-null object\n",
      "total            230 non-null float64\n",
      "cmte_id          230 non-null object\n",
      "committee        230 non-null object\n",
      "dtypes: float64(1), object(5)\n",
      "memory usage: 10.9+ KB\n"
     ]
    }
   ],
   "source": [
    "post_bill_contributions_13 = pd.read_sql(\"\"\"CREATE TABLE IF NOT EXISTS post_bill_contributions_13 AS\n",
    "SELECT match_id,\n",
    "       organizations,\n",
    "       contributors,\n",
    "       sum(committee_total) AS total,\n",
    "       cmte_id,\n",
    "       pacshort AS committee\n",
    "FROM\n",
    "  (SELECT match_id,\n",
    "          organizations,\n",
    "          contributors,\n",
    "          sum(amount) AS committee_total,\n",
    "          cmteid AS cmte_id\n",
    "   FROM\n",
    "     (SELECT CASE\n",
    "                 WHEN trim(contribid) != '' THEN left(contribid, 11)\n",
    "                 ELSE orgname\n",
    "             END AS match_id,\n",
    "             array_agg(DISTINCT orgname) AS organizations,\n",
    "             array_agg(DISTINCT contrib) AS contributors\n",
    "      FROM crp_contributions\n",
    "      LEFT JOIN crp_committees ON crp_contributions.cmteid = crp_committees.cmteid\n",
    "      AND crp_committees.cycle = '2018'\n",
    "      WHERE primcode IN ('J1100',\n",
    "                         'J2200',\n",
    "                         'J2400',\n",
    "                         'Z1100',\n",
    "                         'Z4100',\n",
    "                         'Z4500',\n",
    "                         'Z5100')\n",
    "        AND date >= '2017-11-02'\n",
    "        AND date <= '2017-12-31'\n",
    "        AND crp_contributions.cycle = '2018'\n",
    "        AND TYPE IN ('10',\n",
    "                     '11',\n",
    "                     '15',\n",
    "                     '15E',\n",
    "                     '15J',\n",
    "                     '22Y')\n",
    "      GROUP BY match_id\n",
    "      HAVING sum(amount) >= 50000) AS gop_donors\n",
    "   JOIN crp_contributions ON CASE\n",
    "                                 WHEN trim(contribid) != '' THEN left(contribid, 11)\n",
    "                                 ELSE crp_contributions.orgname\n",
    "                             END = gop_donors.match_id\n",
    "   WHERE date >= '2013-11-02'\n",
    "     AND date <= '2013-12-31'\n",
    "     AND CYCLE = '2014'\n",
    "     AND TYPE IN ('10',\n",
    "                  '11',\n",
    "                  '15',\n",
    "                  '15E',\n",
    "                  '15J',\n",
    "                  '22Y')\n",
    "   GROUP BY match_id,\n",
    "            organizations,\n",
    "            contributors,\n",
    "            cmte_id) AS donors_committees\n",
    "JOIN crp_committees ON donors_committees.cmte_id = crp_committees.cmteid\n",
    "AND crp_committees.CYCLE = '2014'\n",
    "WHERE primcode IN ('J1100',\n",
    "                   'J2200',\n",
    "                   'J2400',\n",
    "                   'Z1100',\n",
    "                   'Z4100',\n",
    "                   'Z4500',\n",
    "                   'Z5100')\n",
    "GROUP BY match_id,\n",
    "         organizations,\n",
    "         contributors,\n",
    "         cmte_id,\n",
    "         committee;\n",
    "\n",
    "GRANT ALL ON TABLE post_bill_contributions_13 TO redash_default;\n",
    "\n",
    "\n",
    "SELECT *\n",
    "FROM post_bill_contributions_13;\"\"\", con=conn)\n",
    "post_bill_contributions_13.info()"
   ]
  },
  {
   "cell_type": "markdown",
   "metadata": {},
   "source": [
    "Group by donor."
   ]
  },
  {
   "cell_type": "code",
   "execution_count": 12,
   "metadata": {},
   "outputs": [
    {
     "name": "stdout",
     "output_type": "stream",
     "text": [
      "<class 'pandas.core.frame.DataFrame'>\n",
      "RangeIndex: 63 entries, 0 to 62\n",
      "Data columns (total 4 columns):\n",
      "match_id         63 non-null object\n",
      "organizations    63 non-null object\n",
      "contributors     63 non-null object\n",
      "total            63 non-null float64\n",
      "dtypes: float64(1), object(3)\n",
      "memory usage: 2.0+ KB\n"
     ]
    }
   ],
   "source": [
    "post_bill_donors_13 = post_bill_contributions_13.groupby([\"match_id\"]).agg({\"organizations\": max, \"contributors\": max, \"total\": sum}).reset_index()\n",
    "post_bill_donors_13.info()"
   ]
  },
  {
   "cell_type": "markdown",
   "metadata": {},
   "source": [
    "## How much did they give?"
   ]
  },
  {
   "cell_type": "code",
   "execution_count": 13,
   "metadata": {},
   "outputs": [
    {
     "data": {
      "text/plain": [
       "3932754.0"
      ]
     },
     "execution_count": 13,
     "metadata": {},
     "output_type": "execute_result"
    }
   ],
   "source": [
    "post_bill_donors_13[\"total\"].sum()"
   ]
  },
  {
   "cell_type": "markdown",
   "metadata": {},
   "source": [
    "## Had these megadonors given previously in 2013?"
   ]
  },
  {
   "cell_type": "markdown",
   "metadata": {},
   "source": [
    "Return contributions by donor and committee."
   ]
  },
  {
   "cell_type": "code",
   "execution_count": 14,
   "metadata": {},
   "outputs": [
    {
     "name": "stdout",
     "output_type": "stream",
     "text": [
      "<class 'pandas.core.frame.DataFrame'>\n",
      "RangeIndex: 673 entries, 0 to 672\n",
      "Data columns (total 6 columns):\n",
      "match_id         673 non-null object\n",
      "organizations    673 non-null object\n",
      "contributors     673 non-null object\n",
      "total            673 non-null float64\n",
      "cmte_id          673 non-null object\n",
      "committee        673 non-null object\n",
      "dtypes: float64(1), object(5)\n",
      "memory usage: 31.6+ KB\n"
     ]
    }
   ],
   "source": [
    "pre_bill_contributions_13 = pd.read_sql(\"\"\"CREATE TABLE IF NOT EXISTS pre_bill_contributions_13 AS\n",
    "SELECT match_id,\n",
    "       organizations,\n",
    "       contributors,\n",
    "       sum(committee_total) AS total,\n",
    "       cmte_id,\n",
    "       pacshort AS committee\n",
    "FROM\n",
    "  (SELECT match_id,\n",
    "          organizations,\n",
    "          contributors,\n",
    "          sum(amount) AS committee_total,\n",
    "          cmteid AS cmte_id\n",
    "   FROM\n",
    "     (SELECT CASE\n",
    "                 WHEN trim(contribid) != '' THEN left(contribid, 11)\n",
    "                 ELSE orgname\n",
    "             END AS match_id,\n",
    "             array_agg(DISTINCT orgname) AS organizations,\n",
    "             array_agg(DISTINCT contrib) AS contributors\n",
    "      FROM crp_contributions\n",
    "      LEFT JOIN crp_committees ON crp_contributions.cmteid = crp_committees.cmteid\n",
    "      AND crp_committees.cycle = '2018'\n",
    "      WHERE primcode IN ('J1100',\n",
    "                         'J2200',\n",
    "                         'J2400',\n",
    "                         'Z1100',\n",
    "                         'Z4100',\n",
    "                         'Z4500',\n",
    "                         'Z5100')\n",
    "        AND date >= '2017-11-02'\n",
    "        AND date <= '2017-12-31'\n",
    "        AND crp_contributions.cycle = '2018'\n",
    "        AND TYPE IN ('10',\n",
    "                     '11',\n",
    "                     '15',\n",
    "                     '15E',\n",
    "                     '15J',\n",
    "                     '22Y')\n",
    "      GROUP BY match_id\n",
    "      HAVING sum(amount) >= 50000) AS gop_donors\n",
    "   JOIN crp_contributions ON CASE\n",
    "                                 WHEN trim(contribid) != '' THEN left(contribid, 11)\n",
    "                                 ELSE crp_contributions.orgname\n",
    "                             END = gop_donors.match_id\n",
    "   WHERE date < '2013-11-02'\n",
    "     AND CYCLE = '2014'\n",
    "     AND TYPE IN ('10',\n",
    "                  '11',\n",
    "                  '15',\n",
    "                  '15E',\n",
    "                  '15J',\n",
    "                  '22Y')\n",
    "   GROUP BY match_id,\n",
    "            organizations,\n",
    "            contributors,\n",
    "            cmte_id) AS donors_committees\n",
    "JOIN crp_committees ON donors_committees.cmte_id = crp_committees.cmteid\n",
    "AND crp_committees.CYCLE = '2014'\n",
    "WHERE primcode IN ('J1100',\n",
    "                   'J2200',\n",
    "                   'J2400',\n",
    "                   'Z1100',\n",
    "                   'Z4100',\n",
    "                   'Z4500',\n",
    "                   'Z5100')\n",
    "GROUP BY match_id,\n",
    "         organizations,\n",
    "         contributors,\n",
    "         cmte_id,\n",
    "         committee;\n",
    "\n",
    "GRANT ALL ON TABLE pre_bill_contributions_13 TO redash_default;\n",
    "\n",
    "\n",
    "SELECT *\n",
    "FROM pre_bill_contributions_13;\"\"\", con=conn)\n",
    "pre_bill_contributions_13.info()"
   ]
  },
  {
   "cell_type": "markdown",
   "metadata": {},
   "source": [
    "Group by donor."
   ]
  },
  {
   "cell_type": "code",
   "execution_count": 15,
   "metadata": {},
   "outputs": [
    {
     "name": "stdout",
     "output_type": "stream",
     "text": [
      "<class 'pandas.core.frame.DataFrame'>\n",
      "RangeIndex: 114 entries, 0 to 113\n",
      "Data columns (total 4 columns):\n",
      "match_id         114 non-null object\n",
      "organizations    114 non-null object\n",
      "contributors     114 non-null object\n",
      "total            114 non-null float64\n",
      "dtypes: float64(1), object(3)\n",
      "memory usage: 3.6+ KB\n"
     ]
    }
   ],
   "source": [
    "pre_bill_donors_13 = pre_bill_contributions_13.groupby([\"match_id\"]).agg({\"organizations\": max, \"contributors\": max, \"total\": sum}).reset_index()\n",
    "pre_bill_donors_13.info()"
   ]
  },
  {
   "cell_type": "markdown",
   "metadata": {},
   "source": [
    "## How much did they give?"
   ]
  },
  {
   "cell_type": "code",
   "execution_count": 16,
   "metadata": {},
   "outputs": [
    {
     "data": {
      "text/plain": [
       "7684125.0"
      ]
     },
     "execution_count": 16,
     "metadata": {},
     "output_type": "execute_result"
    }
   ],
   "source": [
    "pre_bill_donors_13[\"total\"].sum()"
   ]
  },
  {
   "cell_type": "markdown",
   "metadata": {},
   "source": [
    "## How much did these donors give in each period?"
   ]
  },
  {
   "cell_type": "code",
   "execution_count": 17,
   "metadata": {},
   "outputs": [
    {
     "name": "stdout",
     "output_type": "stream",
     "text": [
      "<class 'pandas.core.frame.DataFrame'>\n",
      "Int64Index: 118 entries, 0 to 117\n",
      "Data columns (total 7 columns):\n",
      "match_id                   118 non-null object\n",
      "organizations_post_bill    63 non-null object\n",
      "contributors_post_bill     63 non-null object\n",
      "total_post_bill            118 non-null float64\n",
      "organizations_pre_bill     114 non-null object\n",
      "contributors_pre_bill      114 non-null object\n",
      "total_pre_bill             118 non-null float64\n",
      "dtypes: float64(2), object(5)\n",
      "memory usage: 7.4+ KB\n"
     ]
    }
   ],
   "source": [
    "donors_13 = post_bill_donors_13.merge(pre_bill_donors_13, how=\"outer\", on=\"match_id\", suffixes=[\"_post_bill\", \"_pre_bill\"])\n",
    "donors_13[\"total_pre_bill\"].fillna(0, inplace=True)\n",
    "donors_13[\"total_post_bill\"].fillna(0, inplace=True)\n",
    "donors_13.info()"
   ]
  },
  {
   "cell_type": "code",
   "execution_count": 18,
   "metadata": {},
   "outputs": [
    {
     "data": {
      "text/html": [
       "<div>\n",
       "<style scoped>\n",
       "    .dataframe tbody tr th:only-of-type {\n",
       "        vertical-align: middle;\n",
       "    }\n",
       "\n",
       "    .dataframe tbody tr th {\n",
       "        vertical-align: top;\n",
       "    }\n",
       "\n",
       "    .dataframe thead th {\n",
       "        text-align: right;\n",
       "    }\n",
       "</style>\n",
       "<table border=\"1\" class=\"dataframe\">\n",
       "  <thead>\n",
       "    <tr style=\"text-align: right;\">\n",
       "      <th></th>\n",
       "      <th>match_id</th>\n",
       "      <th>organizations_post_bill</th>\n",
       "      <th>contributors_post_bill</th>\n",
       "      <th>organizations_pre_bill</th>\n",
       "      <th>contributors_pre_bill</th>\n",
       "      <th>total_post_bill</th>\n",
       "      <th>total_pre_bill</th>\n",
       "      <th>pct_post_bill</th>\n",
       "      <th>pct_pre_bill</th>\n",
       "      <th>change</th>\n",
       "      <th>pct_change</th>\n",
       "    </tr>\n",
       "  </thead>\n",
       "  <tbody>\n",
       "    <tr>\n",
       "      <th>0</th>\n",
       "      <td>American Action Network</td>\n",
       "      <td>[American Action Network]</td>\n",
       "      <td>[AMERICAN ACTION NETWORK]</td>\n",
       "      <td>[American Action Network]</td>\n",
       "      <td>[AMERICAN ACTION NETWORK]</td>\n",
       "      <td>109,714.00</td>\n",
       "      <td>81,237.00</td>\n",
       "      <td>0.57</td>\n",
       "      <td>0.43</td>\n",
       "      <td>28,477.00</td>\n",
       "      <td>0.35</td>\n",
       "    </tr>\n",
       "    <tr>\n",
       "      <th>1</th>\n",
       "      <td>Anschutz Corp</td>\n",
       "      <td>[Anschutz Corp]</td>\n",
       "      <td>[THE ANSCHUTZ CORPORATION]</td>\n",
       "      <td>NaN</td>\n",
       "      <td>NaN</td>\n",
       "      <td>5,000.00</td>\n",
       "      <td>0.00</td>\n",
       "      <td>1.00</td>\n",
       "      <td>0.00</td>\n",
       "      <td>5,000.00</td>\n",
       "      <td>inf</td>\n",
       "    </tr>\n",
       "    <tr>\n",
       "      <th>2</th>\n",
       "      <td>Republican Governors Assn</td>\n",
       "      <td>[Republican Governors Assn]</td>\n",
       "      <td>[REPUBLICAN GOVERNORS ASSOCIATION]</td>\n",
       "      <td>NaN</td>\n",
       "      <td>NaN</td>\n",
       "      <td>1,000,000.00</td>\n",
       "      <td>0.00</td>\n",
       "      <td>1.00</td>\n",
       "      <td>0.00</td>\n",
       "      <td>1,000,000.00</td>\n",
       "      <td>inf</td>\n",
       "    </tr>\n",
       "    <tr>\n",
       "      <th>3</th>\n",
       "      <td>Shakopee Mdewakanton Sioux Community</td>\n",
       "      <td>[Shakopee Mdewakanton Sioux Community]</td>\n",
       "      <td>[MDEWAKANTON SIOUX COMMUNITY, SHAKOPEE,,,, SHA...</td>\n",
       "      <td>[Shakopee Mdewakanton Sioux Community]</td>\n",
       "      <td>[MDEWAKANTON SIOUX COMMUNITY, SHAKOPEE,,,, SHA...</td>\n",
       "      <td>68,900.00</td>\n",
       "      <td>71,100.00</td>\n",
       "      <td>0.49</td>\n",
       "      <td>0.51</td>\n",
       "      <td>-2,200.00</td>\n",
       "      <td>-0.03</td>\n",
       "    </tr>\n",
       "    <tr>\n",
       "      <th>4</th>\n",
       "      <td>U0000000074</td>\n",
       "      <td>[Hendricks Holding Co]</td>\n",
       "      <td>[HENDRICKS, DIANE M, HENDRICKS, DIANE MS]</td>\n",
       "      <td>[Hendricks Holding Co]</td>\n",
       "      <td>[HENDRICKS, DIANE M, HENDRICKS, DIANE MS]</td>\n",
       "      <td>11,800.00</td>\n",
       "      <td>82,000.00</td>\n",
       "      <td>0.13</td>\n",
       "      <td>0.87</td>\n",
       "      <td>-70,200.00</td>\n",
       "      <td>-0.86</td>\n",
       "    </tr>\n",
       "  </tbody>\n",
       "</table>\n",
       "</div>"
      ],
      "text/plain": [
       "                               match_id  \\\n",
       "0               American Action Network   \n",
       "1                         Anschutz Corp   \n",
       "2             Republican Governors Assn   \n",
       "3  Shakopee Mdewakanton Sioux Community   \n",
       "4                           U0000000074   \n",
       "\n",
       "                  organizations_post_bill  \\\n",
       "0               [American Action Network]   \n",
       "1                         [Anschutz Corp]   \n",
       "2             [Republican Governors Assn]   \n",
       "3  [Shakopee Mdewakanton Sioux Community]   \n",
       "4                  [Hendricks Holding Co]   \n",
       "\n",
       "                              contributors_post_bill  \\\n",
       "0                          [AMERICAN ACTION NETWORK]   \n",
       "1                         [THE ANSCHUTZ CORPORATION]   \n",
       "2                 [REPUBLICAN GOVERNORS ASSOCIATION]   \n",
       "3  [MDEWAKANTON SIOUX COMMUNITY, SHAKOPEE,,,, SHA...   \n",
       "4          [HENDRICKS, DIANE M, HENDRICKS, DIANE MS]   \n",
       "\n",
       "                   organizations_pre_bill  \\\n",
       "0               [American Action Network]   \n",
       "1                                     NaN   \n",
       "2                                     NaN   \n",
       "3  [Shakopee Mdewakanton Sioux Community]   \n",
       "4                  [Hendricks Holding Co]   \n",
       "\n",
       "                               contributors_pre_bill  total_post_bill  \\\n",
       "0                          [AMERICAN ACTION NETWORK]       109,714.00   \n",
       "1                                                NaN         5,000.00   \n",
       "2                                                NaN     1,000,000.00   \n",
       "3  [MDEWAKANTON SIOUX COMMUNITY, SHAKOPEE,,,, SHA...        68,900.00   \n",
       "4          [HENDRICKS, DIANE M, HENDRICKS, DIANE MS]        11,800.00   \n",
       "\n",
       "   total_pre_bill  pct_post_bill  pct_pre_bill       change  pct_change  \n",
       "0       81,237.00           0.57          0.43    28,477.00        0.35  \n",
       "1            0.00           1.00          0.00     5,000.00         inf  \n",
       "2            0.00           1.00          0.00 1,000,000.00         inf  \n",
       "3       71,100.00           0.49          0.51    -2,200.00       -0.03  \n",
       "4       82,000.00           0.13          0.87   -70,200.00       -0.86  "
      ]
     },
     "execution_count": 18,
     "metadata": {},
     "output_type": "execute_result"
    }
   ],
   "source": [
    "donors_13[\"pct_post_bill\"] = donors_13[\"total_post_bill\"] / (donors_13[\"total_pre_bill\"] + donors_13[\"total_post_bill\"])\n",
    "donors_13[\"pct_pre_bill\"] = donors_13[\"total_pre_bill\"] / (donors_13[\"total_pre_bill\"] + donors_13[\"total_post_bill\"])\n",
    "donors_13[\"change\"] = donors_13[\"total_post_bill\"] - donors_13[\"total_pre_bill\"]\n",
    "donors_13[\"pct_change\"] = (donors_13[\"total_post_bill\"] - donors_13[\"total_pre_bill\"]) / donors_13[\"total_pre_bill\"].abs()\n",
    "donors_13 = donors_13[[\"match_id\", \"organizations_post_bill\", \"contributors_post_bill\",\n",
    "                       \"organizations_pre_bill\", \"contributors_pre_bill\", \"total_post_bill\",\n",
    "                       \"total_pre_bill\", \"pct_post_bill\", \"pct_pre_bill\", \"change\", \"pct_change\"]]\n",
    "donors_13.head()"
   ]
  },
  {
   "cell_type": "markdown",
   "metadata": {},
   "source": [
    "## And did their giving patterns change between the cycles?"
   ]
  },
  {
   "cell_type": "code",
   "execution_count": 19,
   "metadata": {},
   "outputs": [
    {
     "name": "stdout",
     "output_type": "stream",
     "text": [
      "<class 'pandas.core.frame.DataFrame'>\n",
      "Int64Index: 162 entries, 0 to 161\n",
      "Data columns (total 11 columns):\n",
      "match_id              162 non-null object\n",
      "contributors          162 non-null object\n",
      "organizations         162 non-null object\n",
      "total_pre_bill_13     118 non-null float64\n",
      "total_post_bill_13    118 non-null float64\n",
      "pct_pre_bill_13       117 non-null float64\n",
      "pct_post_bill_13      117 non-null float64\n",
      "total_pre_bill_17     162 non-null float64\n",
      "total_post_bill_17    162 non-null float64\n",
      "pct_pre_bill_17       162 non-null float64\n",
      "pct_post_bill_17      162 non-null float64\n",
      "dtypes: float64(8), object(3)\n",
      "memory usage: 15.2+ KB\n"
     ]
    }
   ],
   "source": [
    "donors = donors_17.merge(donors_13, how=\"outer\", on=\"match_id\", suffixes=[\"_17\", \"_13\"])\n",
    "donors.drop([\"change_17\", \"pct_change_17\", \"organizations_post_bill\", \"contributors_post_bill\",\n",
    "             \"organizations_pre_bill\", \"contributors_pre_bill\", \"change_13\", \"pct_change_13\"],\n",
    "            axis=1, inplace=True)\n",
    "donors.rename(columns={\"organizations_17\": \"organizations\", \"contributors_17\": \"contributors\"})\n",
    "donors = donors[[\"match_id\", \"contributors\", \"organizations\", \"total_pre_bill_13\", \"total_post_bill_13\",\n",
    "                 \"pct_pre_bill_13\", \"pct_post_bill_13\", \"total_pre_bill_17\", \"total_post_bill_17\",\n",
    "                 \"pct_pre_bill_17\", \"pct_post_bill_17\"]]\n",
    "donors.info()"
   ]
  },
  {
   "cell_type": "code",
   "execution_count": 20,
   "metadata": {},
   "outputs": [
    {
     "data": {
      "text/html": [
       "<div>\n",
       "<style scoped>\n",
       "    .dataframe tbody tr th:only-of-type {\n",
       "        vertical-align: middle;\n",
       "    }\n",
       "\n",
       "    .dataframe tbody tr th {\n",
       "        vertical-align: top;\n",
       "    }\n",
       "\n",
       "    .dataframe thead th {\n",
       "        text-align: right;\n",
       "    }\n",
       "</style>\n",
       "<table border=\"1\" class=\"dataframe\">\n",
       "  <thead>\n",
       "    <tr style=\"text-align: right;\">\n",
       "      <th></th>\n",
       "      <th>match_id</th>\n",
       "      <th>contributors</th>\n",
       "      <th>organizations</th>\n",
       "      <th>total_pre_bill_13</th>\n",
       "      <th>total_post_bill_13</th>\n",
       "      <th>pct_pre_bill_13</th>\n",
       "      <th>pct_post_bill_13</th>\n",
       "      <th>total_pre_bill_17</th>\n",
       "      <th>total_post_bill_17</th>\n",
       "      <th>pct_pre_bill_17</th>\n",
       "      <th>pct_post_bill_17</th>\n",
       "      <th>giving_change</th>\n",
       "    </tr>\n",
       "  </thead>\n",
       "  <tbody>\n",
       "    <tr>\n",
       "      <th>0</th>\n",
       "      <td>Air Line Pilots Assn</td>\n",
       "      <td>[AIR LINE PILOTS ASSOC INT'L   POLITICAL ACTIO...</td>\n",
       "      <td>[Air Line Pilots Assn]</td>\n",
       "      <td>nan</td>\n",
       "      <td>nan</td>\n",
       "      <td>nan</td>\n",
       "      <td>nan</td>\n",
       "      <td>100,000.00</td>\n",
       "      <td>150,000.00</td>\n",
       "      <td>0.40</td>\n",
       "      <td>0.60</td>\n",
       "      <td>Increased</td>\n",
       "    </tr>\n",
       "  </tbody>\n",
       "</table>\n",
       "</div>"
      ],
      "text/plain": [
       "               match_id                                       contributors  \\\n",
       "0  Air Line Pilots Assn  [AIR LINE PILOTS ASSOC INT'L   POLITICAL ACTIO...   \n",
       "\n",
       "            organizations  total_pre_bill_13  total_post_bill_13  \\\n",
       "0  [Air Line Pilots Assn]                nan                 nan   \n",
       "\n",
       "   pct_pre_bill_13  pct_post_bill_13  total_pre_bill_17  total_post_bill_17  \\\n",
       "0              nan               nan         100,000.00          150,000.00   \n",
       "\n",
       "   pct_pre_bill_17  pct_post_bill_17 giving_change  \n",
       "0             0.40              0.60     Increased  "
      ]
     },
     "execution_count": 20,
     "metadata": {},
     "output_type": "execute_result"
    }
   ],
   "source": [
    "donors[\"giving_change\"] = np.where((donors[\"pct_post_bill_17\"] > donors[\"pct_post_bill_13\"]) | (donors[\"pct_pre_bill_13\"].isnull()), \"Increased\",\n",
    "                                  np.where(donors[\"pct_post_bill_17\"] < donors[\"pct_post_bill_13\"], \"Decreased\",\n",
    "                                           np.where(donors[\"pct_post_bill_17\"] == donors[\"pct_post_bill_13\"], \"Stayed the same\",\n",
    "                                                   \"Other\")))\n",
    "donors.head(1)"
   ]
  },
  {
   "cell_type": "markdown",
   "metadata": {},
   "source": [
    "## What proportion of donors increased the share of their annual giving that fell in the last two months of 2017 as compared with the same period in 2013?"
   ]
  },
  {
   "cell_type": "code",
   "execution_count": 21,
   "metadata": {},
   "outputs": [
    {
     "data": {
      "text/plain": [
       "match_id              136\n",
       "contributors          136\n",
       "organizations         136\n",
       "total_pre_bill_13      92\n",
       "total_post_bill_13     92\n",
       "pct_pre_bill_13        91\n",
       "pct_post_bill_13       91\n",
       "total_pre_bill_17     136\n",
       "total_post_bill_17    136\n",
       "pct_pre_bill_17       136\n",
       "pct_post_bill_17      136\n",
       "giving_change         136\n",
       "dtype: int64"
      ]
     },
     "execution_count": 21,
     "metadata": {},
     "output_type": "execute_result"
    }
   ],
   "source": [
    "donors[donors[\"giving_change\"] == \"Increased\"].count()"
   ]
  },
  {
   "cell_type": "markdown",
   "metadata": {},
   "source": [
    "## And by how much did these individuals' giving increase?"
   ]
  },
  {
   "cell_type": "code",
   "execution_count": 22,
   "metadata": {},
   "outputs": [
    {
     "data": {
      "text/plain": [
       "26434420.0"
      ]
     },
     "execution_count": 22,
     "metadata": {},
     "output_type": "execute_result"
    }
   ],
   "source": [
    "donors[donors[\"giving_change\"] == \"Increased\"][\"total_post_bill_17\"].sum()"
   ]
  },
  {
   "cell_type": "code",
   "execution_count": 23,
   "metadata": {},
   "outputs": [
    {
     "data": {
      "text/plain": [
       "1382325.0"
      ]
     },
     "execution_count": 23,
     "metadata": {},
     "output_type": "execute_result"
    }
   ],
   "source": [
    "donors[donors[\"giving_change\"] == \"Increased\"][\"total_post_bill_13\"].sum()"
   ]
  },
  {
   "cell_type": "code",
   "execution_count": 24,
   "metadata": {},
   "outputs": [
    {
     "data": {
      "text/plain": [
       "25052095.0"
      ]
     },
     "execution_count": 24,
     "metadata": {},
     "output_type": "execute_result"
    }
   ],
   "source": [
    "donors[donors[\"giving_change\"] == \"Increased\"][\"total_post_bill_17\"].sum() - donors[donors[\"giving_change\"] == \"Increased\"][\"total_post_bill_13\"].sum()"
   ]
  },
  {
   "cell_type": "markdown",
   "metadata": {},
   "source": [
    "## Export data to Excel."
   ]
  },
  {
   "cell_type": "code",
   "execution_count": 25,
   "metadata": {},
   "outputs": [],
   "source": [
    "writer = pd.ExcelWriter(\"data/megadonors.xlsx\")\n",
    "donors.to_excel(writer, \"donors\", startcol=0, index=False)\n",
    "post_bill_contributions_17.to_excel(writer, \"post_bill_contributions_17\", startcol=0, index=False)\n",
    "pre_bill_contributions_17.to_excel(writer, \"pre_bill_contributions_17\", startcol=0, index=False)\n",
    "post_bill_contributions_13.to_excel(writer, \"post_bill_contributions_13\", startcol=0, index=False)\n",
    "pre_bill_contributions_13.to_excel(writer, \"pre_bill_contributions_13\", startcol=0, index=False)\n",
    "writer.save()"
   ]
  }
 ],
 "metadata": {
  "kernelspec": {
   "display_name": "Python 3",
   "language": "python",
   "name": "python3"
  },
  "language_info": {
   "codemirror_mode": {
    "name": "ipython",
    "version": 3
   },
   "file_extension": ".py",
   "mimetype": "text/x-python",
   "name": "python",
   "nbconvert_exporter": "python",
   "pygments_lexer": "ipython3",
   "version": "3.6.3"
  }
 },
 "nbformat": 4,
 "nbformat_minor": 2
}
