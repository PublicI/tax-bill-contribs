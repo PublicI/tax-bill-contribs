{
 "cells": [
  {
   "cell_type": "code",
   "execution_count": 1,
   "metadata": {},
   "outputs": [],
   "source": [
    "import altair as alt\n",
    "from altair.expr import datum, if_\n",
    "import datetime\n",
    "from functools import reduce\n",
    "import json\n",
    "import numpy as np\n",
    "import pandas as pd\n",
    "import psycopg2\n",
    "pd.options.display.float_format = \"{:,.2f}\".format"
   ]
  },
  {
   "cell_type": "markdown",
   "metadata": {},
   "source": [
    "Connect to the database."
   ]
  },
  {
   "cell_type": "code",
   "execution_count": 2,
   "metadata": {},
   "outputs": [],
   "source": [
    "with open(\"config.json\") as f:\n",
    "    conf = json.load(f)\n",
    "conn = psycopg2.connect(\n",
    "    dbname=conf[\"database\"],\n",
    "    user=conf[\"user\"],\n",
    "    host=conf[\"host\"],\n",
    "    password=conf[\"password\"]\n",
    ")\n",
    "conn.autocommit = True"
   ]
  },
  {
   "cell_type": "markdown",
   "metadata": {},
   "source": [
    "## Return the donors who gave at least $50,000 to conservative and GOP-aligned groups between Nov. 2 and Dec. 31, 2017, split by their giving before the tax bill's introduction on Nov. 2 and after its introduction. Do this for every off-year going back to the 2010 cycle."
   ]
  },
  {
   "cell_type": "code",
   "execution_count": 3,
   "metadata": {},
   "outputs": [],
   "source": [
    "def run_donors_query(prefix, suffix, reference_cycle, reference_start, reference_end, cycle, start, end):\n",
    "    query = \"\"\"CREATE MATERIALIZED VIEW IF NOT EXISTS \"\"\"+prefix+\"\"\"_donors_committees_\"\"\"+suffix+\"\"\" AS\n",
    "                    SELECT match_id,\n",
    "                           organizations,\n",
    "                           contributors,\n",
    "                           sum(committee_total) AS total,\n",
    "                           cmte_id,\n",
    "                           pacshort AS committee\n",
    "                    FROM\n",
    "                      (SELECT match_id,\n",
    "                              organizations,\n",
    "                              contributors,\n",
    "                              sum(amount) AS committee_total,\n",
    "                              cmteid AS cmte_id\n",
    "                       FROM\n",
    "                         (SELECT CASE\n",
    "                                     WHEN trim(contribid) != '' THEN left(contribid, 11)\n",
    "                                     ELSE orgname\n",
    "                                 END AS match_id,\n",
    "                                 array_agg(DISTINCT orgname) AS organizations,\n",
    "                                 array_agg(DISTINCT contrib) AS contributors\n",
    "                          FROM crp_contributions\n",
    "                          LEFT JOIN crp_committees ON crp_contributions.cmteid = crp_committees.cmteid\n",
    "                          AND crp_committees.cycle = '\"\"\" + reference_cycle + \"\"\"'\n",
    "                          WHERE primcode IN ('J1100',\n",
    "                                             'J2200',\n",
    "                                             'J2400',\n",
    "                                             'Z1100',\n",
    "                                             'Z4100',\n",
    "                                             'Z4500',\n",
    "                                             'Z5100')\n",
    "                            AND date >= '\"\"\" + reference_start + \"\"\"'\n",
    "                            AND date <= '\"\"\" + reference_end + \"\"\"'\n",
    "                            AND crp_contributions.cycle = '\"\"\" + reference_cycle + \"\"\"'\n",
    "                            AND TYPE NOT IN ('11J',\n",
    "                                             '15C',\n",
    "                                             '15E',\n",
    "                                             '15I',\n",
    "                                             '15J',\n",
    "                                             '15T',\n",
    "                                             '18J',\n",
    "                                             '19J',\n",
    "                                             '30J',\n",
    "                                             '30F',\n",
    "                                             '31J',\n",
    "                                             '31F',\n",
    "                                             '32J',\n",
    "                                             '32F')\n",
    "                          GROUP BY match_id\n",
    "                          HAVING sum(amount) >= 50000) AS gop_donors\n",
    "                       JOIN crp_contributions ON CASE\n",
    "                                                     WHEN trim(contribid) != '' THEN left(contribid, 11)\n",
    "                                                     ELSE crp_contributions.orgname\n",
    "                                                 END = gop_donors.match_id\n",
    "                       WHERE date >= '\"\"\" + start + \"\"\"'\n",
    "                         AND date <= '\"\"\" + end + \"\"\"'\n",
    "                         AND CYCLE = '\"\"\" + cycle + \"\"\"'\n",
    "                         AND TYPE NOT IN ('11J',\n",
    "                                          '15C',\n",
    "                                          '15E',\n",
    "                                          '15I',\n",
    "                                          '15J',\n",
    "                                          '15T',\n",
    "                                          '18J',\n",
    "                                          '19J',\n",
    "                                          '30J',\n",
    "                                          '30F',\n",
    "                                          '31J',\n",
    "                                          '31F',\n",
    "                                          '32J',\n",
    "                                          '32F')\n",
    "                       GROUP BY match_id,\n",
    "                                organizations,\n",
    "                                contributors,\n",
    "                                cmte_id) AS donors_committees\n",
    "                    JOIN crp_committees ON donors_committees.cmte_id = crp_committees.cmteid\n",
    "                    AND crp_committees.CYCLE = '\"\"\" + cycle + \"\"\"'\n",
    "                    WHERE primcode IN ('J1100',\n",
    "                                       'J2200',\n",
    "                                       'J2400',\n",
    "                                       'Z1100',\n",
    "                                       'Z4100',\n",
    "                                       'Z4500',\n",
    "                                       'Z5100')\n",
    "                    GROUP BY match_id,\n",
    "                             organizations,\n",
    "                             contributors,\n",
    "                             cmte_id,\n",
    "                             committee;\n",
    "\n",
    "                    SELECT *\n",
    "                    FROM \"\"\"+prefix+\"\"\"_donors_committees_\"\"\"+suffix+\"\"\";\n",
    "                    \"\"\"\n",
    "    return pd.read_sql(query, con=conn)"
   ]
  },
  {
   "cell_type": "markdown",
   "metadata": {},
   "source": [
    "## Return the data for each cycle."
   ]
  },
  {
   "cell_type": "code",
   "execution_count": 4,
   "metadata": {},
   "outputs": [],
   "source": [
    "post_bill_donors_committees_17 = run_donors_query(\"post_bill\", \"17\", \"2018\", \"2017-11-02\", \"2017-12-31\", \"2018\", \"2017-11-02\", \"2017-12-31\")\n",
    "pre_bill_donors_committees_17 = run_donors_query(\"pre_bill\", \"17\", \"2018\", \"2017-11-02\", \"2017-12-31\", \"2018\", \"2017-01-01\", \"2017-11-01\")"
   ]
  },
  {
   "cell_type": "code",
   "execution_count": 5,
   "metadata": {},
   "outputs": [],
   "source": [
    "post_bill_donors_committees_15 = run_donors_query(\"post_bill\", \"15\", \"2018\", \"2017-11-02\", \"2017-12-31\", \"2016\", \"2015-11-02\", \"2015-12-31\")\n",
    "pre_bill_donors_committees_15 = run_donors_query(\"pre_bill\", \"15\", \"2018\", \"2017-11-02\", \"2017-12-31\", \"2016\", \"2015-01-01\", \"2015-11-01\")"
   ]
  },
  {
   "cell_type": "code",
   "execution_count": 6,
   "metadata": {},
   "outputs": [],
   "source": [
    "post_bill_donors_committees_13 = run_donors_query(\"post_bill\", \"13\", \"2018\", \"2017-11-02\", \"2017-12-31\", \"2014\", \"2013-11-02\", \"2013-12-31\")\n",
    "pre_bill_donors_committees_13 = run_donors_query(\"pre_bill\", \"13\", \"2018\", \"2017-11-02\", \"2017-12-31\", \"2014\", \"2013-01-01\", \"2013-11-01\")"
   ]
  },
  {
   "cell_type": "code",
   "execution_count": 7,
   "metadata": {},
   "outputs": [],
   "source": [
    "post_bill_donors_committees_11 = run_donors_query(\"post_bill\", \"11\", \"2018\", \"2017-11-02\", \"2017-12-31\", \"2012\", \"2011-11-02\", \"2011-12-31\")\n",
    "pre_bill_donors_committees_11 = run_donors_query(\"pre_bill\", \"11\", \"2018\", \"2017-11-02\", \"2017-12-31\", \"2012\", \"2011-01-01\", \"2011-11-01\")"
   ]
  },
  {
   "cell_type": "code",
   "execution_count": 8,
   "metadata": {},
   "outputs": [],
   "source": [
    "post_bill_donors_committees_09 = run_donors_query(\"post_bill\", \"09\", \"2018\", \"2017-11-02\", \"2017-12-31\", \"2010\", \"2009-11-02\", \"2009-12-31\")\n",
    "pre_bill_donors_committees_09 = run_donors_query(\"pre_bill\", \"09\", \"2018\", \"2017-11-02\", \"2017-12-31\", \"2010\", \"2009-01-01\", \"2009-11-01\")"
   ]
  },
  {
   "cell_type": "markdown",
   "metadata": {},
   "source": [
    "## How much did each contributor give in each period for each cycle?"
   ]
  },
  {
   "cell_type": "markdown",
   "metadata": {},
   "source": [
    "### 2017"
   ]
  },
  {
   "cell_type": "code",
   "execution_count": 9,
   "metadata": {},
   "outputs": [],
   "source": [
    "post_bill_donors_17 = post_bill_donors_committees_17.groupby([\"match_id\"]).agg({\"organizations\": max, \"contributors\": max, \"total\": sum}).reset_index()\n",
    "pre_bill_donors_17 = pre_bill_donors_committees_17.groupby([\"match_id\"]).agg({\"organizations\": max, \"contributors\": max, \"total\": sum}).reset_index()"
   ]
  },
  {
   "cell_type": "code",
   "execution_count": 10,
   "metadata": {},
   "outputs": [
    {
     "name": "stdout",
     "output_type": "stream",
     "text": [
      "<class 'pandas.core.frame.DataFrame'>\n",
      "Int64Index: 158 entries, 0 to 157\n",
      "Data columns (total 5 columns):\n",
      "match_id           158 non-null object\n",
      "organizations      158 non-null object\n",
      "contributors       158 non-null object\n",
      "total_post_bill    158 non-null float64\n",
      "total_pre_bill     158 non-null float64\n",
      "dtypes: float64(2), object(3)\n",
      "memory usage: 7.4+ KB\n"
     ]
    }
   ],
   "source": [
    "donors_17 = post_bill_donors_17.merge(pre_bill_donors_17, how=\"outer\", on=\"match_id\", suffixes=[\"_post_bill\", \"_pre_bill\"])\n",
    "donors_17.drop([\"organizations_pre_bill\", \"contributors_pre_bill\"], axis=1, inplace=True)\n",
    "donors_17.rename(columns={\"organizations_post_bill\": \"organizations\", \"contributors_post_bill\": \"contributors\"}, inplace=True)\n",
    "donors_17[\"total_pre_bill\"].fillna(0, inplace=True)\n",
    "donors_17.info()"
   ]
  },
  {
   "cell_type": "code",
   "execution_count": 11,
   "metadata": {},
   "outputs": [
    {
     "data": {
      "text/html": [
       "<div>\n",
       "<style scoped>\n",
       "    .dataframe tbody tr th:only-of-type {\n",
       "        vertical-align: middle;\n",
       "    }\n",
       "\n",
       "    .dataframe tbody tr th {\n",
       "        vertical-align: top;\n",
       "    }\n",
       "\n",
       "    .dataframe thead th {\n",
       "        text-align: right;\n",
       "    }\n",
       "</style>\n",
       "<table border=\"1\" class=\"dataframe\">\n",
       "  <thead>\n",
       "    <tr style=\"text-align: right;\">\n",
       "      <th></th>\n",
       "      <th>match_id</th>\n",
       "      <th>organizations</th>\n",
       "      <th>contributors</th>\n",
       "      <th>total_post_bill</th>\n",
       "      <th>total_pre_bill</th>\n",
       "      <th>pct_post_bill</th>\n",
       "      <th>pct_pre_bill</th>\n",
       "      <th>change</th>\n",
       "      <th>pct_change</th>\n",
       "    </tr>\n",
       "  </thead>\n",
       "  <tbody>\n",
       "    <tr>\n",
       "      <th>52</th>\n",
       "      <td>U0000003690</td>\n",
       "      <td>[U-Line Corp, Uline Inc]</td>\n",
       "      <td>[UIHLEIN, ELIZABETH, UIHLEIN, ELIZABETH MRS, U...</td>\n",
       "      <td>4,557,300.00</td>\n",
       "      <td>12,051,400.00</td>\n",
       "      <td>0.27</td>\n",
       "      <td>0.73</td>\n",
       "      <td>-7,494,100.00</td>\n",
       "      <td>-0.62</td>\n",
       "    </tr>\n",
       "    <tr>\n",
       "      <th>2</th>\n",
       "      <td>American Action Network</td>\n",
       "      <td>[American Action Network]</td>\n",
       "      <td>[AMERICAN ACTION NETWORK]</td>\n",
       "      <td>3,747,520.00</td>\n",
       "      <td>9,142,525.00</td>\n",
       "      <td>0.29</td>\n",
       "      <td>0.71</td>\n",
       "      <td>-5,395,005.00</td>\n",
       "      <td>-0.59</td>\n",
       "    </tr>\n",
       "    <tr>\n",
       "      <th>60</th>\n",
       "      <td>U0000004054</td>\n",
       "      <td>[Ghpalmer Assoc, GH Palmer Assoc]</td>\n",
       "      <td>[PALMER, GEOFF, PALMER, GEOFFREY H]</td>\n",
       "      <td>1,955,200.00</td>\n",
       "      <td>546,272.00</td>\n",
       "      <td>0.78</td>\n",
       "      <td>0.22</td>\n",
       "      <td>1,408,928.00</td>\n",
       "      <td>2.58</td>\n",
       "    </tr>\n",
       "    <tr>\n",
       "      <th>10</th>\n",
       "      <td>Hillwood Development</td>\n",
       "      <td>[Hillwood Development]</td>\n",
       "      <td>[HILLWOOD DEVELOPMENT COMPANY LLC]</td>\n",
       "      <td>1,500,000.00</td>\n",
       "      <td>500,000.00</td>\n",
       "      <td>0.75</td>\n",
       "      <td>0.25</td>\n",
       "      <td>1,000,000.00</td>\n",
       "      <td>2.00</td>\n",
       "    </tr>\n",
       "    <tr>\n",
       "      <th>67</th>\n",
       "      <td>U0000004552</td>\n",
       "      <td>[Cinemark Holdings, Cinemark USA]</td>\n",
       "      <td>[MITCHELL, LEE, MITCHELL, LEE ROY, MITCHELL, T...</td>\n",
       "      <td>1,007,400.00</td>\n",
       "      <td>131,299.00</td>\n",
       "      <td>0.88</td>\n",
       "      <td>0.12</td>\n",
       "      <td>876,101.00</td>\n",
       "      <td>6.67</td>\n",
       "    </tr>\n",
       "  </tbody>\n",
       "</table>\n",
       "</div>"
      ],
      "text/plain": [
       "                   match_id                      organizations  \\\n",
       "52              U0000003690           [U-Line Corp, Uline Inc]   \n",
       "2   American Action Network          [American Action Network]   \n",
       "60              U0000004054  [Ghpalmer Assoc, GH Palmer Assoc]   \n",
       "10     Hillwood Development             [Hillwood Development]   \n",
       "67              U0000004552  [Cinemark Holdings, Cinemark USA]   \n",
       "\n",
       "                                         contributors  total_post_bill  \\\n",
       "52  [UIHLEIN, ELIZABETH, UIHLEIN, ELIZABETH MRS, U...     4,557,300.00   \n",
       "2                           [AMERICAN ACTION NETWORK]     3,747,520.00   \n",
       "60                [PALMER, GEOFF, PALMER, GEOFFREY H]     1,955,200.00   \n",
       "10                 [HILLWOOD DEVELOPMENT COMPANY LLC]     1,500,000.00   \n",
       "67  [MITCHELL, LEE, MITCHELL, LEE ROY, MITCHELL, T...     1,007,400.00   \n",
       "\n",
       "    total_pre_bill  pct_post_bill  pct_pre_bill        change  pct_change  \n",
       "52   12,051,400.00           0.27          0.73 -7,494,100.00       -0.62  \n",
       "2     9,142,525.00           0.29          0.71 -5,395,005.00       -0.59  \n",
       "60      546,272.00           0.78          0.22  1,408,928.00        2.58  \n",
       "10      500,000.00           0.75          0.25  1,000,000.00        2.00  \n",
       "67      131,299.00           0.88          0.12    876,101.00        6.67  "
      ]
     },
     "execution_count": 11,
     "metadata": {},
     "output_type": "execute_result"
    }
   ],
   "source": [
    "donors_17[\"pct_post_bill\"] = donors_17[\"total_post_bill\"] / (donors_17[\"total_pre_bill\"] + donors_17[\"total_post_bill\"])\n",
    "donors_17[\"pct_pre_bill\"] = donors_17[\"total_pre_bill\"] / (donors_17[\"total_pre_bill\"] + donors_17[\"total_post_bill\"])\n",
    "donors_17[\"change\"] = donors_17[\"total_post_bill\"] - donors_17[\"total_pre_bill\"]\n",
    "donors_17[\"pct_change\"] = (donors_17[\"total_post_bill\"] - donors_17[\"total_pre_bill\"]) / donors_17[\"total_pre_bill\"].abs()\n",
    "donors_17.sort_values(\"total_post_bill\", ascending=False).head()"
   ]
  },
  {
   "cell_type": "markdown",
   "metadata": {},
   "source": [
    "#### How much did they give?"
   ]
  },
  {
   "cell_type": "code",
   "execution_count": 12,
   "metadata": {},
   "outputs": [
    {
     "name": "stdout",
     "output_type": "stream",
     "text": [
      "2017 post-bill total: $35639563.0\n",
      "2017 pre-bill total: $58975282.0\n"
     ]
    }
   ],
   "source": [
    "print(\"2017 post-bill total: $\" + str(donors_17[\"total_post_bill\"].sum()))\n",
    "print(\"2017 pre-bill total: $\" + str(donors_17[\"total_pre_bill\"].sum()))"
   ]
  },
  {
   "cell_type": "markdown",
   "metadata": {},
   "source": [
    "### 2015"
   ]
  },
  {
   "cell_type": "code",
   "execution_count": 13,
   "metadata": {},
   "outputs": [],
   "source": [
    "post_bill_donors_15 = post_bill_donors_committees_15.groupby([\"match_id\"]).agg({\"organizations\": max, \"contributors\": max, \"total\": sum}).reset_index()\n",
    "pre_bill_donors_15 = pre_bill_donors_committees_15.groupby([\"match_id\"]).agg({\"organizations\": max, \"contributors\": max, \"total\": sum}).reset_index()"
   ]
  },
  {
   "cell_type": "code",
   "execution_count": 14,
   "metadata": {},
   "outputs": [
    {
     "name": "stdout",
     "output_type": "stream",
     "text": [
      "<class 'pandas.core.frame.DataFrame'>\n",
      "Int64Index: 111 entries, 0 to 110\n",
      "Data columns (total 5 columns):\n",
      "match_id           111 non-null object\n",
      "organizations      80 non-null object\n",
      "contributors       80 non-null object\n",
      "total_post_bill    80 non-null float64\n",
      "total_pre_bill     111 non-null float64\n",
      "dtypes: float64(2), object(3)\n",
      "memory usage: 5.2+ KB\n"
     ]
    }
   ],
   "source": [
    "donors_15 = post_bill_donors_15.merge(pre_bill_donors_15, how=\"outer\", on=\"match_id\", suffixes=[\"_post_bill\", \"_pre_bill\"])\n",
    "donors_15.drop([\"organizations_pre_bill\", \"contributors_pre_bill\"], axis=1, inplace=True)\n",
    "donors_15.rename(columns={\"organizations_post_bill\": \"organizations\", \"contributors_post_bill\": \"contributors\"}, inplace=True)\n",
    "donors_15[\"total_pre_bill\"].fillna(0, inplace=True)\n",
    "donors_15.info()"
   ]
  },
  {
   "cell_type": "code",
   "execution_count": 15,
   "metadata": {},
   "outputs": [
    {
     "data": {
      "text/html": [
       "<div>\n",
       "<style scoped>\n",
       "    .dataframe tbody tr th:only-of-type {\n",
       "        vertical-align: middle;\n",
       "    }\n",
       "\n",
       "    .dataframe tbody tr th {\n",
       "        vertical-align: top;\n",
       "    }\n",
       "\n",
       "    .dataframe thead th {\n",
       "        text-align: right;\n",
       "    }\n",
       "</style>\n",
       "<table border=\"1\" class=\"dataframe\">\n",
       "  <thead>\n",
       "    <tr style=\"text-align: right;\">\n",
       "      <th></th>\n",
       "      <th>match_id</th>\n",
       "      <th>organizations</th>\n",
       "      <th>contributors</th>\n",
       "      <th>total_post_bill</th>\n",
       "      <th>total_pre_bill</th>\n",
       "      <th>pct_post_bill</th>\n",
       "      <th>pct_pre_bill</th>\n",
       "      <th>change</th>\n",
       "      <th>pct_change</th>\n",
       "    </tr>\n",
       "  </thead>\n",
       "  <tbody>\n",
       "    <tr>\n",
       "      <th>21</th>\n",
       "      <td>U0000003477</td>\n",
       "      <td>[Koch Industries]</td>\n",
       "      <td>[KOCH, CHARLES, KOCH, CHARLES G MR, KOCH, CHAR...</td>\n",
       "      <td>3,000,000.00</td>\n",
       "      <td>0.00</td>\n",
       "      <td>1.00</td>\n",
       "      <td>0.00</td>\n",
       "      <td>3,000,000.00</td>\n",
       "      <td>inf</td>\n",
       "    </tr>\n",
       "    <tr>\n",
       "      <th>31</th>\n",
       "      <td>U0000003829</td>\n",
       "      <td>[Point72 Asset Management]</td>\n",
       "      <td>[COHEN, STEVE MR]</td>\n",
       "      <td>2,000,000.00</td>\n",
       "      <td>2,002,699.00</td>\n",
       "      <td>0.50</td>\n",
       "      <td>0.50</td>\n",
       "      <td>-2,699.00</td>\n",
       "      <td>-0.00</td>\n",
       "    </tr>\n",
       "    <tr>\n",
       "      <th>4</th>\n",
       "      <td>Republican Governors Assn</td>\n",
       "      <td>[Republican Governors Assn]</td>\n",
       "      <td>[REPUBLICAN GOVERNORS ASSOCIATION]</td>\n",
       "      <td>750,000.00</td>\n",
       "      <td>3,450,000.00</td>\n",
       "      <td>0.18</td>\n",
       "      <td>0.82</td>\n",
       "      <td>-2,700,000.00</td>\n",
       "      <td>-0.78</td>\n",
       "    </tr>\n",
       "    <tr>\n",
       "      <th>27</th>\n",
       "      <td>U0000003682</td>\n",
       "      <td>[Renaissance Technologies]</td>\n",
       "      <td>[MERCER, DIANA, MERCER, DIANA MRS, MERCER, ROB...</td>\n",
       "      <td>560,500.00</td>\n",
       "      <td>14,517,100.00</td>\n",
       "      <td>0.04</td>\n",
       "      <td>0.96</td>\n",
       "      <td>-13,956,600.00</td>\n",
       "      <td>-0.96</td>\n",
       "    </tr>\n",
       "    <tr>\n",
       "      <th>8</th>\n",
       "      <td>U0000000175</td>\n",
       "      <td>[Stephens Inc]</td>\n",
       "      <td>[STEPHENS, WARREN, STEPHENS, WARREN A MR]</td>\n",
       "      <td>549,400.00</td>\n",
       "      <td>3,485,123.00</td>\n",
       "      <td>0.14</td>\n",
       "      <td>0.86</td>\n",
       "      <td>-2,935,723.00</td>\n",
       "      <td>-0.84</td>\n",
       "    </tr>\n",
       "  </tbody>\n",
       "</table>\n",
       "</div>"
      ],
      "text/plain": [
       "                     match_id                organizations  \\\n",
       "21                U0000003477            [Koch Industries]   \n",
       "31                U0000003829   [Point72 Asset Management]   \n",
       "4   Republican Governors Assn  [Republican Governors Assn]   \n",
       "27                U0000003682   [Renaissance Technologies]   \n",
       "8                 U0000000175               [Stephens Inc]   \n",
       "\n",
       "                                         contributors  total_post_bill  \\\n",
       "21  [KOCH, CHARLES, KOCH, CHARLES G MR, KOCH, CHAR...     3,000,000.00   \n",
       "31                                  [COHEN, STEVE MR]     2,000,000.00   \n",
       "4                  [REPUBLICAN GOVERNORS ASSOCIATION]       750,000.00   \n",
       "27  [MERCER, DIANA, MERCER, DIANA MRS, MERCER, ROB...       560,500.00   \n",
       "8           [STEPHENS, WARREN, STEPHENS, WARREN A MR]       549,400.00   \n",
       "\n",
       "    total_pre_bill  pct_post_bill  pct_pre_bill         change  pct_change  \n",
       "21            0.00           1.00          0.00   3,000,000.00         inf  \n",
       "31    2,002,699.00           0.50          0.50      -2,699.00       -0.00  \n",
       "4     3,450,000.00           0.18          0.82  -2,700,000.00       -0.78  \n",
       "27   14,517,100.00           0.04          0.96 -13,956,600.00       -0.96  \n",
       "8     3,485,123.00           0.14          0.86  -2,935,723.00       -0.84  "
      ]
     },
     "execution_count": 15,
     "metadata": {},
     "output_type": "execute_result"
    }
   ],
   "source": [
    "donors_15[\"pct_post_bill\"] = donors_15[\"total_post_bill\"] / (donors_15[\"total_pre_bill\"] + donors_15[\"total_post_bill\"])\n",
    "donors_15[\"pct_pre_bill\"] = donors_15[\"total_pre_bill\"] / (donors_15[\"total_pre_bill\"] + donors_15[\"total_post_bill\"])\n",
    "donors_15[\"change\"] = donors_15[\"total_post_bill\"] - donors_15[\"total_pre_bill\"]\n",
    "donors_15[\"pct_change\"] = (donors_15[\"total_post_bill\"] - donors_15[\"total_pre_bill\"]) / donors_15[\"total_pre_bill\"].abs()\n",
    "donors_15.sort_values(\"total_post_bill\", ascending=False).head()"
   ]
  },
  {
   "cell_type": "markdown",
   "metadata": {},
   "source": [
    "#### How much did they give?"
   ]
  },
  {
   "cell_type": "code",
   "execution_count": 16,
   "metadata": {},
   "outputs": [
    {
     "name": "stdout",
     "output_type": "stream",
     "text": [
      "2015 post-bill total: $1647560.0\n",
      "2015 pre-bill total: $77617350.0\n"
     ]
    }
   ],
   "source": [
    "print(\"2015 post-bill total: $\" + str(donors_15[\"total_post_bill\"].sum()))\n",
    "print(\"2015 pre-bill total: $\" + str(donors_15[\"total_pre_bill\"].sum()))"
   ]
  },
  {
   "cell_type": "markdown",
   "metadata": {},
   "source": [
    "### 2013"
   ]
  },
  {
   "cell_type": "code",
   "execution_count": 17,
   "metadata": {},
   "outputs": [],
   "source": [
    "post_bill_donors_13 = post_bill_donors_committees_13.groupby([\"match_id\"]).agg({\"organizations\": max, \"contributors\": max, \"total\": sum}).reset_index()\n",
    "pre_bill_donors_13 = pre_bill_donors_committees_13.groupby([\"match_id\"]).agg({\"organizations\": max, \"contributors\": max, \"total\": sum}).reset_index()"
   ]
  },
  {
   "cell_type": "code",
   "execution_count": 18,
   "metadata": {},
   "outputs": [
    {
     "name": "stdout",
     "output_type": "stream",
     "text": [
      "<class 'pandas.core.frame.DataFrame'>\n",
      "Int64Index: 109 entries, 0 to 108\n",
      "Data columns (total 5 columns):\n",
      "match_id           109 non-null object\n",
      "organizations      62 non-null object\n",
      "contributors       62 non-null object\n",
      "total_post_bill    62 non-null float64\n",
      "total_pre_bill     109 non-null float64\n",
      "dtypes: float64(2), object(3)\n",
      "memory usage: 5.1+ KB\n"
     ]
    }
   ],
   "source": [
    "donors_13 = post_bill_donors_13.merge(pre_bill_donors_13, how=\"outer\", on=\"match_id\", suffixes=[\"_post_bill\", \"_pre_bill\"])\n",
    "donors_13.drop([\"organizations_pre_bill\", \"contributors_pre_bill\"], axis=1, inplace=True)\n",
    "donors_13.rename(columns={\"organizations_post_bill\": \"organizations\", \"contributors_post_bill\": \"contributors\"}, inplace=True)\n",
    "donors_13[\"total_pre_bill\"].fillna(0, inplace=True)\n",
    "donors_13.info()"
   ]
  },
  {
   "cell_type": "code",
   "execution_count": 19,
   "metadata": {},
   "outputs": [
    {
     "data": {
      "text/html": [
       "<div>\n",
       "<style scoped>\n",
       "    .dataframe tbody tr th:only-of-type {\n",
       "        vertical-align: middle;\n",
       "    }\n",
       "\n",
       "    .dataframe tbody tr th {\n",
       "        vertical-align: top;\n",
       "    }\n",
       "\n",
       "    .dataframe thead th {\n",
       "        text-align: right;\n",
       "    }\n",
       "</style>\n",
       "<table border=\"1\" class=\"dataframe\">\n",
       "  <thead>\n",
       "    <tr style=\"text-align: right;\">\n",
       "      <th></th>\n",
       "      <th>match_id</th>\n",
       "      <th>organizations</th>\n",
       "      <th>contributors</th>\n",
       "      <th>total_post_bill</th>\n",
       "      <th>total_pre_bill</th>\n",
       "      <th>pct_post_bill</th>\n",
       "      <th>pct_pre_bill</th>\n",
       "      <th>change</th>\n",
       "      <th>pct_change</th>\n",
       "    </tr>\n",
       "  </thead>\n",
       "  <tbody>\n",
       "    <tr>\n",
       "      <th>3</th>\n",
       "      <td>Republican Governors Assn</td>\n",
       "      <td>[Republican Governors Assn]</td>\n",
       "      <td>[REPUBLICAN GOVERNORS ASSOCIATION]</td>\n",
       "      <td>1,000,000.00</td>\n",
       "      <td>0.00</td>\n",
       "      <td>1.00</td>\n",
       "      <td>0.00</td>\n",
       "      <td>1,000,000.00</td>\n",
       "      <td>inf</td>\n",
       "    </tr>\n",
       "    <tr>\n",
       "      <th>25</th>\n",
       "      <td>U0000003903</td>\n",
       "      <td>[Alliance Coal]</td>\n",
       "      <td>[CRAFT, JOE W III, CRAFT, JOSEPH MR III, CRAFT...</td>\n",
       "      <td>515,600.00</td>\n",
       "      <td>162,900.00</td>\n",
       "      <td>0.76</td>\n",
       "      <td>0.24</td>\n",
       "      <td>352,700.00</td>\n",
       "      <td>2.17</td>\n",
       "    </tr>\n",
       "    <tr>\n",
       "      <th>7</th>\n",
       "      <td>U0000000175</td>\n",
       "      <td>[Stephens Inc]</td>\n",
       "      <td>[STEPHENS, WARREN, STEPHENS, WARREN A MR]</td>\n",
       "      <td>442,400.00</td>\n",
       "      <td>51,300.00</td>\n",
       "      <td>0.90</td>\n",
       "      <td>0.10</td>\n",
       "      <td>391,100.00</td>\n",
       "      <td>7.62</td>\n",
       "    </tr>\n",
       "    <tr>\n",
       "      <th>22</th>\n",
       "      <td>U0000003690</td>\n",
       "      <td>[U-Line Corp, Uline Inc]</td>\n",
       "      <td>[UIHLEIN, ELIZABETH, UIHLEIN, ELIZABETH MRS, U...</td>\n",
       "      <td>261,400.00</td>\n",
       "      <td>533,150.00</td>\n",
       "      <td>0.33</td>\n",
       "      <td>0.67</td>\n",
       "      <td>-271,750.00</td>\n",
       "      <td>-0.51</td>\n",
       "    </tr>\n",
       "    <tr>\n",
       "      <th>0</th>\n",
       "      <td>American Action Network</td>\n",
       "      <td>[American Action Network]</td>\n",
       "      <td>[AMERICAN ACTION NETWORK]</td>\n",
       "      <td>109,714.00</td>\n",
       "      <td>81,237.00</td>\n",
       "      <td>0.57</td>\n",
       "      <td>0.43</td>\n",
       "      <td>28,477.00</td>\n",
       "      <td>0.35</td>\n",
       "    </tr>\n",
       "  </tbody>\n",
       "</table>\n",
       "</div>"
      ],
      "text/plain": [
       "                     match_id                organizations  \\\n",
       "3   Republican Governors Assn  [Republican Governors Assn]   \n",
       "25                U0000003903              [Alliance Coal]   \n",
       "7                 U0000000175               [Stephens Inc]   \n",
       "22                U0000003690     [U-Line Corp, Uline Inc]   \n",
       "0     American Action Network    [American Action Network]   \n",
       "\n",
       "                                         contributors  total_post_bill  \\\n",
       "3                  [REPUBLICAN GOVERNORS ASSOCIATION]     1,000,000.00   \n",
       "25  [CRAFT, JOE W III, CRAFT, JOSEPH MR III, CRAFT...       515,600.00   \n",
       "7           [STEPHENS, WARREN, STEPHENS, WARREN A MR]       442,400.00   \n",
       "22  [UIHLEIN, ELIZABETH, UIHLEIN, ELIZABETH MRS, U...       261,400.00   \n",
       "0                           [AMERICAN ACTION NETWORK]       109,714.00   \n",
       "\n",
       "    total_pre_bill  pct_post_bill  pct_pre_bill       change  pct_change  \n",
       "3             0.00           1.00          0.00 1,000,000.00         inf  \n",
       "25      162,900.00           0.76          0.24   352,700.00        2.17  \n",
       "7        51,300.00           0.90          0.10   391,100.00        7.62  \n",
       "22      533,150.00           0.33          0.67  -271,750.00       -0.51  \n",
       "0        81,237.00           0.57          0.43    28,477.00        0.35  "
      ]
     },
     "execution_count": 19,
     "metadata": {},
     "output_type": "execute_result"
    }
   ],
   "source": [
    "donors_13[\"pct_post_bill\"] = donors_13[\"total_post_bill\"] / (donors_13[\"total_pre_bill\"] + donors_13[\"total_post_bill\"])\n",
    "donors_13[\"pct_pre_bill\"] = donors_13[\"total_pre_bill\"] / (donors_13[\"total_pre_bill\"] + donors_13[\"total_post_bill\"])\n",
    "donors_13[\"change\"] = donors_13[\"total_post_bill\"] - donors_13[\"total_pre_bill\"]\n",
    "donors_13[\"pct_change\"] = (donors_13[\"total_post_bill\"] - donors_13[\"total_pre_bill\"]) / donors_13[\"total_pre_bill\"].abs()\n",
    "donors_13.sort_values(\"total_post_bill\", ascending=False).head()"
   ]
  },
  {
   "cell_type": "markdown",
   "metadata": {},
   "source": [
    "#### How much did they give?"
   ]
  },
  {
   "cell_type": "code",
   "execution_count": 20,
   "metadata": {},
   "outputs": [
    {
     "name": "stdout",
     "output_type": "stream",
     "text": [
      "2013 post-bill total: $3859464.0\n",
      "2013 pre-bill total: $6716175.0\n"
     ]
    }
   ],
   "source": [
    "print(\"2013 post-bill total: $\" + str(donors_13[\"total_post_bill\"].sum()))\n",
    "print(\"2013 pre-bill total: $\" + str(donors_13[\"total_pre_bill\"].sum()))"
   ]
  },
  {
   "cell_type": "markdown",
   "metadata": {},
   "source": [
    "### 2011"
   ]
  },
  {
   "cell_type": "code",
   "execution_count": 21,
   "metadata": {},
   "outputs": [],
   "source": [
    "post_bill_donors_11 = post_bill_donors_committees_11.groupby([\"match_id\"]).agg({\"organizations\": max, \"contributors\": max, \"total\": sum}).reset_index()\n",
    "pre_bill_donors_11 = pre_bill_donors_committees_11.groupby([\"match_id\"]).agg({\"organizations\": max, \"contributors\": max, \"total\": sum}).reset_index()"
   ]
  },
  {
   "cell_type": "code",
   "execution_count": 22,
   "metadata": {},
   "outputs": [
    {
     "name": "stdout",
     "output_type": "stream",
     "text": [
      "<class 'pandas.core.frame.DataFrame'>\n",
      "Int64Index: 106 entries, 0 to 105\n",
      "Data columns (total 5 columns):\n",
      "match_id           106 non-null object\n",
      "organizations      71 non-null object\n",
      "contributors       71 non-null object\n",
      "total_post_bill    71 non-null float64\n",
      "total_pre_bill     106 non-null float64\n",
      "dtypes: float64(2), object(3)\n",
      "memory usage: 5.0+ KB\n"
     ]
    }
   ],
   "source": [
    "donors_11 = post_bill_donors_11.merge(pre_bill_donors_11, how=\"outer\", on=\"match_id\", suffixes=[\"_post_bill\", \"_pre_bill\"])\n",
    "donors_11.drop([\"organizations_pre_bill\", \"contributors_pre_bill\"], axis=1, inplace=True)\n",
    "donors_11.rename(columns={\"organizations_post_bill\": \"organizations\", \"contributors_post_bill\": \"contributors\"}, inplace=True)\n",
    "donors_11[\"total_pre_bill\"].fillna(0, inplace=True)\n",
    "donors_11.info()"
   ]
  },
  {
   "cell_type": "code",
   "execution_count": 23,
   "metadata": {},
   "outputs": [
    {
     "data": {
      "text/html": [
       "<div>\n",
       "<style scoped>\n",
       "    .dataframe tbody tr th:only-of-type {\n",
       "        vertical-align: middle;\n",
       "    }\n",
       "\n",
       "    .dataframe tbody tr th {\n",
       "        vertical-align: top;\n",
       "    }\n",
       "\n",
       "    .dataframe thead th {\n",
       "        text-align: right;\n",
       "    }\n",
       "</style>\n",
       "<table border=\"1\" class=\"dataframe\">\n",
       "  <thead>\n",
       "    <tr style=\"text-align: right;\">\n",
       "      <th></th>\n",
       "      <th>match_id</th>\n",
       "      <th>organizations</th>\n",
       "      <th>contributors</th>\n",
       "      <th>total_post_bill</th>\n",
       "      <th>total_pre_bill</th>\n",
       "      <th>pct_post_bill</th>\n",
       "      <th>pct_pre_bill</th>\n",
       "      <th>change</th>\n",
       "      <th>pct_change</th>\n",
       "    </tr>\n",
       "  </thead>\n",
       "  <tbody>\n",
       "    <tr>\n",
       "      <th>27</th>\n",
       "      <td>U0000004022</td>\n",
       "      <td>[Thiel Capital]</td>\n",
       "      <td>[THIEL, PETER]</td>\n",
       "      <td>1,035,000.00</td>\n",
       "      <td>32,200.00</td>\n",
       "      <td>0.97</td>\n",
       "      <td>0.03</td>\n",
       "      <td>1,002,800.00</td>\n",
       "      <td>31.14</td>\n",
       "    </tr>\n",
       "    <tr>\n",
       "      <th>11</th>\n",
       "      <td>U0000003260</td>\n",
       "      <td>[Homemaker, Mt Vernon Investments, Winstar Farm]</td>\n",
       "      <td>[TROUTT, KENNETH A, TROUTT, KENNY A MR, TROUTT...</td>\n",
       "      <td>540,800.00</td>\n",
       "      <td>312,400.00</td>\n",
       "      <td>0.63</td>\n",
       "      <td>0.37</td>\n",
       "      <td>228,400.00</td>\n",
       "      <td>0.73</td>\n",
       "    </tr>\n",
       "    <tr>\n",
       "      <th>22</th>\n",
       "      <td>U0000003690</td>\n",
       "      <td>[U-Line Corp, Uline Inc]</td>\n",
       "      <td>[UIHLEIN, ELIZABETH, UIHLEIN, ELIZABETH MRS, U...</td>\n",
       "      <td>385,200.00</td>\n",
       "      <td>188,300.00</td>\n",
       "      <td>0.67</td>\n",
       "      <td>0.33</td>\n",
       "      <td>196,900.00</td>\n",
       "      <td>1.05</td>\n",
       "    </tr>\n",
       "    <tr>\n",
       "      <th>33</th>\n",
       "      <td>U0000004393</td>\n",
       "      <td>[Nevada Restaurant Services, Pere Antoine]</td>\n",
       "      <td>[ESTEY, ALLYSON, ESTEY, PATRICIA RIVERS MS]</td>\n",
       "      <td>102,400.00</td>\n",
       "      <td>0.00</td>\n",
       "      <td>1.00</td>\n",
       "      <td>0.00</td>\n",
       "      <td>102,400.00</td>\n",
       "      <td>inf</td>\n",
       "    </tr>\n",
       "    <tr>\n",
       "      <th>2</th>\n",
       "      <td>Republican Governors Assn</td>\n",
       "      <td>[Republican Governors Assn]</td>\n",
       "      <td>[REPUBLICAN GOVERNORS ASSOCIATION]</td>\n",
       "      <td>95,000.00</td>\n",
       "      <td>73,605.00</td>\n",
       "      <td>0.56</td>\n",
       "      <td>0.44</td>\n",
       "      <td>21,395.00</td>\n",
       "      <td>0.29</td>\n",
       "    </tr>\n",
       "  </tbody>\n",
       "</table>\n",
       "</div>"
      ],
      "text/plain": [
       "                     match_id  \\\n",
       "27                U0000004022   \n",
       "11                U0000003260   \n",
       "22                U0000003690   \n",
       "33                U0000004393   \n",
       "2   Republican Governors Assn   \n",
       "\n",
       "                                       organizations  \\\n",
       "27                                   [Thiel Capital]   \n",
       "11  [Homemaker, Mt Vernon Investments, Winstar Farm]   \n",
       "22                          [U-Line Corp, Uline Inc]   \n",
       "33        [Nevada Restaurant Services, Pere Antoine]   \n",
       "2                        [Republican Governors Assn]   \n",
       "\n",
       "                                         contributors  total_post_bill  \\\n",
       "27                                     [THIEL, PETER]     1,035,000.00   \n",
       "11  [TROUTT, KENNETH A, TROUTT, KENNY A MR, TROUTT...       540,800.00   \n",
       "22  [UIHLEIN, ELIZABETH, UIHLEIN, ELIZABETH MRS, U...       385,200.00   \n",
       "33        [ESTEY, ALLYSON, ESTEY, PATRICIA RIVERS MS]       102,400.00   \n",
       "2                  [REPUBLICAN GOVERNORS ASSOCIATION]        95,000.00   \n",
       "\n",
       "    total_pre_bill  pct_post_bill  pct_pre_bill       change  pct_change  \n",
       "27       32,200.00           0.97          0.03 1,002,800.00       31.14  \n",
       "11      312,400.00           0.63          0.37   228,400.00        0.73  \n",
       "22      188,300.00           0.67          0.33   196,900.00        1.05  \n",
       "33            0.00           1.00          0.00   102,400.00         inf  \n",
       "2        73,605.00           0.56          0.44    21,395.00        0.29  "
      ]
     },
     "execution_count": 23,
     "metadata": {},
     "output_type": "execute_result"
    }
   ],
   "source": [
    "donors_11[\"pct_post_bill\"] = donors_11[\"total_post_bill\"] / (donors_11[\"total_pre_bill\"] + donors_11[\"total_post_bill\"])\n",
    "donors_11[\"pct_pre_bill\"] = donors_11[\"total_pre_bill\"] / (donors_11[\"total_pre_bill\"] + donors_11[\"total_post_bill\"])\n",
    "donors_11[\"change\"] = donors_11[\"total_post_bill\"] - donors_11[\"total_pre_bill\"]\n",
    "donors_11[\"pct_change\"] = (donors_11[\"total_post_bill\"] - donors_11[\"total_pre_bill\"]) / donors_11[\"total_pre_bill\"].abs()\n",
    "donors_11.sort_values(\"total_post_bill\", ascending=False).head()"
   ]
  },
  {
   "cell_type": "markdown",
   "metadata": {},
   "source": [
    "#### How much did they give?"
   ]
  },
  {
   "cell_type": "code",
   "execution_count": 24,
   "metadata": {},
   "outputs": [
    {
     "name": "stdout",
     "output_type": "stream",
     "text": [
      "2011 post-bill total: $3241839.0\n",
      "2011 pre-bill total: $7409350.0\n"
     ]
    }
   ],
   "source": [
    "print(\"2011 post-bill total: $\" + str(donors_11[\"total_post_bill\"].sum()))\n",
    "print(\"2011 pre-bill total: $\" + str(donors_11[\"total_pre_bill\"].sum()))"
   ]
  },
  {
   "cell_type": "markdown",
   "metadata": {},
   "source": [
    "### 2009"
   ]
  },
  {
   "cell_type": "code",
   "execution_count": 25,
   "metadata": {},
   "outputs": [],
   "source": [
    "post_bill_donors_09 = post_bill_donors_committees_09.groupby([\"match_id\"]).agg({\"organizations\": max, \"contributors\": max, \"total\": sum}).reset_index()\n",
    "pre_bill_donors_09 = pre_bill_donors_committees_09.groupby([\"match_id\"]).agg({\"organizations\": max, \"contributors\": max, \"total\": sum}).reset_index()"
   ]
  },
  {
   "cell_type": "code",
   "execution_count": 26,
   "metadata": {},
   "outputs": [
    {
     "name": "stdout",
     "output_type": "stream",
     "text": [
      "<class 'pandas.core.frame.DataFrame'>\n",
      "Int64Index: 88 entries, 0 to 87\n",
      "Data columns (total 5 columns):\n",
      "match_id           88 non-null object\n",
      "organizations      50 non-null object\n",
      "contributors       50 non-null object\n",
      "total_post_bill    50 non-null float64\n",
      "total_pre_bill     88 non-null float64\n",
      "dtypes: float64(2), object(3)\n",
      "memory usage: 4.1+ KB\n"
     ]
    }
   ],
   "source": [
    "donors_09 = post_bill_donors_09.merge(pre_bill_donors_09, how=\"outer\", on=\"match_id\", suffixes=[\"_post_bill\", \"_pre_bill\"])\n",
    "donors_09.drop([\"organizations_pre_bill\", \"contributors_pre_bill\"], axis=1, inplace=True)\n",
    "donors_09.rename(columns={\"organizations_post_bill\": \"organizations\", \"contributors_post_bill\": \"contributors\"}, inplace=True)\n",
    "donors_09[\"total_pre_bill\"].fillna(0, inplace=True)\n",
    "donors_09.info()"
   ]
  },
  {
   "cell_type": "code",
   "execution_count": 27,
   "metadata": {},
   "outputs": [
    {
     "data": {
      "text/html": [
       "<div>\n",
       "<style scoped>\n",
       "    .dataframe tbody tr th:only-of-type {\n",
       "        vertical-align: middle;\n",
       "    }\n",
       "\n",
       "    .dataframe tbody tr th {\n",
       "        vertical-align: top;\n",
       "    }\n",
       "\n",
       "    .dataframe thead th {\n",
       "        text-align: right;\n",
       "    }\n",
       "</style>\n",
       "<table border=\"1\" class=\"dataframe\">\n",
       "  <thead>\n",
       "    <tr style=\"text-align: right;\">\n",
       "      <th></th>\n",
       "      <th>match_id</th>\n",
       "      <th>organizations</th>\n",
       "      <th>contributors</th>\n",
       "      <th>total_post_bill</th>\n",
       "      <th>total_pre_bill</th>\n",
       "      <th>pct_post_bill</th>\n",
       "      <th>pct_pre_bill</th>\n",
       "      <th>change</th>\n",
       "      <th>pct_change</th>\n",
       "    </tr>\n",
       "  </thead>\n",
       "  <tbody>\n",
       "    <tr>\n",
       "      <th>0</th>\n",
       "      <td>Chickasaw Nation</td>\n",
       "      <td>[Chickasaw Nation]</td>\n",
       "      <td>[CHICKASAW NATION, CHICKASAW NATION, THE, NATI...</td>\n",
       "      <td>75,600.00</td>\n",
       "      <td>96,700.00</td>\n",
       "      <td>0.44</td>\n",
       "      <td>0.56</td>\n",
       "      <td>-21,100.00</td>\n",
       "      <td>-0.22</td>\n",
       "    </tr>\n",
       "    <tr>\n",
       "      <th>45</th>\n",
       "      <td>i3003697615</td>\n",
       "      <td>[Mpi Research, Northwood Group]</td>\n",
       "      <td>[PARFET, BARBARA A MRS, PARFET, WILLIAM U, PAR...</td>\n",
       "      <td>51,400.00</td>\n",
       "      <td>1,000.00</td>\n",
       "      <td>0.98</td>\n",
       "      <td>0.02</td>\n",
       "      <td>50,400.00</td>\n",
       "      <td>50.40</td>\n",
       "    </tr>\n",
       "    <tr>\n",
       "      <th>38</th>\n",
       "      <td>h1001217591</td>\n",
       "      <td>[Haworth Inc]</td>\n",
       "      <td>[HAWORTH, ETHELYN, HAWORTH, ETHELYN MRS, HAWOR...</td>\n",
       "      <td>40,000.00</td>\n",
       "      <td>2,400.00</td>\n",
       "      <td>0.94</td>\n",
       "      <td>0.06</td>\n",
       "      <td>37,600.00</td>\n",
       "      <td>15.67</td>\n",
       "    </tr>\n",
       "    <tr>\n",
       "      <th>19</th>\n",
       "      <td>U0000003951</td>\n",
       "      <td>[Intercontinentalexchange Inc]</td>\n",
       "      <td>[LOEFFLER, KELLY L MS, SPRECHER, JEFFREY CRAIG...</td>\n",
       "      <td>37,400.00</td>\n",
       "      <td>19,910.00</td>\n",
       "      <td>0.65</td>\n",
       "      <td>0.35</td>\n",
       "      <td>17,490.00</td>\n",
       "      <td>0.88</td>\n",
       "    </tr>\n",
       "    <tr>\n",
       "      <th>14</th>\n",
       "      <td>U0000003654</td>\n",
       "      <td>[Schweitzer Engineering Laboratories]</td>\n",
       "      <td>[SCHWEITZER, BEATRIZ, SCHWEITZER, EDMUND O III]</td>\n",
       "      <td>36,500.00</td>\n",
       "      <td>4,200.00</td>\n",
       "      <td>0.90</td>\n",
       "      <td>0.10</td>\n",
       "      <td>32,300.00</td>\n",
       "      <td>7.69</td>\n",
       "    </tr>\n",
       "  </tbody>\n",
       "</table>\n",
       "</div>"
      ],
      "text/plain": [
       "            match_id                          organizations  \\\n",
       "0   Chickasaw Nation                     [Chickasaw Nation]   \n",
       "45       i3003697615        [Mpi Research, Northwood Group]   \n",
       "38       h1001217591                          [Haworth Inc]   \n",
       "19       U0000003951         [Intercontinentalexchange Inc]   \n",
       "14       U0000003654  [Schweitzer Engineering Laboratories]   \n",
       "\n",
       "                                         contributors  total_post_bill  \\\n",
       "0   [CHICKASAW NATION, CHICKASAW NATION, THE, NATI...        75,600.00   \n",
       "45  [PARFET, BARBARA A MRS, PARFET, WILLIAM U, PAR...        51,400.00   \n",
       "38  [HAWORTH, ETHELYN, HAWORTH, ETHELYN MRS, HAWOR...        40,000.00   \n",
       "19  [LOEFFLER, KELLY L MS, SPRECHER, JEFFREY CRAIG...        37,400.00   \n",
       "14    [SCHWEITZER, BEATRIZ, SCHWEITZER, EDMUND O III]        36,500.00   \n",
       "\n",
       "    total_pre_bill  pct_post_bill  pct_pre_bill     change  pct_change  \n",
       "0        96,700.00           0.44          0.56 -21,100.00       -0.22  \n",
       "45        1,000.00           0.98          0.02  50,400.00       50.40  \n",
       "38        2,400.00           0.94          0.06  37,600.00       15.67  \n",
       "19       19,910.00           0.65          0.35  17,490.00        0.88  \n",
       "14        4,200.00           0.90          0.10  32,300.00        7.69  "
      ]
     },
     "execution_count": 27,
     "metadata": {},
     "output_type": "execute_result"
    }
   ],
   "source": [
    "donors_09[\"pct_post_bill\"] = donors_09[\"total_post_bill\"] / (donors_09[\"total_pre_bill\"] + donors_09[\"total_post_bill\"])\n",
    "donors_09[\"pct_pre_bill\"] = donors_09[\"total_pre_bill\"] / (donors_09[\"total_pre_bill\"] + donors_09[\"total_post_bill\"])\n",
    "donors_09[\"change\"] = donors_09[\"total_post_bill\"] - donors_09[\"total_pre_bill\"]\n",
    "donors_09[\"pct_change\"] = (donors_09[\"total_post_bill\"] - donors_09[\"total_pre_bill\"]) / donors_09[\"total_pre_bill\"].abs()\n",
    "donors_09.sort_values(\"total_post_bill\", ascending=False).head()"
   ]
  },
  {
   "cell_type": "markdown",
   "metadata": {},
   "source": [
    "#### How much did they give?"
   ]
  },
  {
   "cell_type": "code",
   "execution_count": 28,
   "metadata": {},
   "outputs": [
    {
     "name": "stdout",
     "output_type": "stream",
     "text": [
      "2009 post-bill total: $671846.0\n",
      "2009 pre-bill total: $1949651.0\n"
     ]
    }
   ],
   "source": [
    "print(\"2009 post-bill total: $\" + str(donors_09[\"total_post_bill\"].sum()))\n",
    "print(\"2009 pre-bill total: $\" + str(donors_09[\"total_pre_bill\"].sum()))"
   ]
  },
  {
   "cell_type": "markdown",
   "metadata": {},
   "source": [
    "## How did each contributor's giving pattern change in each cycle compared with 2017?"
   ]
  },
  {
   "cell_type": "markdown",
   "metadata": {},
   "source": [
    "### 2015"
   ]
  },
  {
   "cell_type": "code",
   "execution_count": 29,
   "metadata": {},
   "outputs": [
    {
     "name": "stdout",
     "output_type": "stream",
     "text": [
      "<class 'pandas.core.frame.DataFrame'>\n",
      "Int64Index: 158 entries, 0 to 157\n",
      "Data columns (total 11 columns):\n",
      "match_id              158 non-null object\n",
      "contributors          158 non-null object\n",
      "organizations         158 non-null object\n",
      "total_pre_bill_15     111 non-null float64\n",
      "total_post_bill_15    80 non-null float64\n",
      "pct_pre_bill_15       80 non-null float64\n",
      "pct_post_bill_15      80 non-null float64\n",
      "total_pre_bill_17     158 non-null float64\n",
      "total_post_bill_17    158 non-null float64\n",
      "pct_pre_bill_17       158 non-null float64\n",
      "pct_post_bill_17      158 non-null float64\n",
      "dtypes: float64(8), object(3)\n",
      "memory usage: 14.8+ KB\n"
     ]
    }
   ],
   "source": [
    "donors_15_17 = donors_17.merge(donors_15, how=\"outer\", on=\"match_id\", suffixes=[\"_17\", \"_15\"])\n",
    "donors_15_17.drop([\"change_17\", \"pct_change_17\", \"change_15\", \"pct_change_15\"],\n",
    "            axis=1, inplace=True)\n",
    "donors_15_17.rename(columns={\"organizations_17\": \"organizations\", \"contributors_17\": \"contributors\"}, inplace=True)\n",
    "donors_15_17 = donors_15_17[[\"match_id\", \"contributors\", \"organizations\", \"total_pre_bill_15\", \"total_post_bill_15\",\n",
    "                 \"pct_pre_bill_15\", \"pct_post_bill_15\", \"total_pre_bill_17\", \"total_post_bill_17\",\n",
    "                 \"pct_pre_bill_17\", \"pct_post_bill_17\"]]\n",
    "donors_15_17.info()"
   ]
  },
  {
   "cell_type": "code",
   "execution_count": 30,
   "metadata": {},
   "outputs": [
    {
     "data": {
      "text/html": [
       "<div>\n",
       "<style scoped>\n",
       "    .dataframe tbody tr th:only-of-type {\n",
       "        vertical-align: middle;\n",
       "    }\n",
       "\n",
       "    .dataframe tbody tr th {\n",
       "        vertical-align: top;\n",
       "    }\n",
       "\n",
       "    .dataframe thead th {\n",
       "        text-align: right;\n",
       "    }\n",
       "</style>\n",
       "<table border=\"1\" class=\"dataframe\">\n",
       "  <thead>\n",
       "    <tr style=\"text-align: right;\">\n",
       "      <th></th>\n",
       "      <th>match_id</th>\n",
       "      <th>contributors</th>\n",
       "      <th>organizations</th>\n",
       "      <th>total_pre_bill_15</th>\n",
       "      <th>total_post_bill_15</th>\n",
       "      <th>pct_pre_bill_15</th>\n",
       "      <th>pct_post_bill_15</th>\n",
       "      <th>total_pre_bill_17</th>\n",
       "      <th>total_post_bill_17</th>\n",
       "      <th>pct_pre_bill_17</th>\n",
       "      <th>pct_post_bill_17</th>\n",
       "      <th>giving_change</th>\n",
       "    </tr>\n",
       "  </thead>\n",
       "  <tbody>\n",
       "    <tr>\n",
       "      <th>0</th>\n",
       "      <td>Air Line Pilots Assn</td>\n",
       "      <td>[AIR LINE PILOTS ASSOC INT'L   POLITICAL ACTIO...</td>\n",
       "      <td>[Air Line Pilots Assn]</td>\n",
       "      <td>nan</td>\n",
       "      <td>nan</td>\n",
       "      <td>nan</td>\n",
       "      <td>nan</td>\n",
       "      <td>100,000.00</td>\n",
       "      <td>150,000.00</td>\n",
       "      <td>0.40</td>\n",
       "      <td>0.60</td>\n",
       "      <td>Increased</td>\n",
       "    </tr>\n",
       "  </tbody>\n",
       "</table>\n",
       "</div>"
      ],
      "text/plain": [
       "               match_id                                       contributors  \\\n",
       "0  Air Line Pilots Assn  [AIR LINE PILOTS ASSOC INT'L   POLITICAL ACTIO...   \n",
       "\n",
       "            organizations  total_pre_bill_15  total_post_bill_15  \\\n",
       "0  [Air Line Pilots Assn]                nan                 nan   \n",
       "\n",
       "   pct_pre_bill_15  pct_post_bill_15  total_pre_bill_17  total_post_bill_17  \\\n",
       "0              nan               nan         100,000.00          150,000.00   \n",
       "\n",
       "   pct_pre_bill_17  pct_post_bill_17 giving_change  \n",
       "0             0.40              0.60     Increased  "
      ]
     },
     "execution_count": 30,
     "metadata": {},
     "output_type": "execute_result"
    }
   ],
   "source": [
    "donors_15_17[\"giving_change\"] = np.where((donors_15_17[\"pct_post_bill_17\"] > donors_15_17[\"pct_post_bill_15\"]) | (donors_15_17[\"pct_pre_bill_15\"].isnull()), \"Increased\",\n",
    "                                  np.where(donors_15_17[\"pct_post_bill_17\"] < donors_15_17[\"pct_post_bill_15\"], \"Decreased\",\n",
    "                                           np.where(donors_15_17[\"pct_post_bill_17\"] == donors_15_17[\"pct_post_bill_15\"], \"Stayed the same\",\n",
    "                                                   \"Other\")))\n",
    "donors_15_17.head(1)"
   ]
  },
  {
   "cell_type": "markdown",
   "metadata": {},
   "source": [
    "### 2013"
   ]
  },
  {
   "cell_type": "code",
   "execution_count": 31,
   "metadata": {},
   "outputs": [
    {
     "name": "stdout",
     "output_type": "stream",
     "text": [
      "<class 'pandas.core.frame.DataFrame'>\n",
      "Int64Index: 158 entries, 0 to 157\n",
      "Data columns (total 11 columns):\n",
      "match_id              158 non-null object\n",
      "contributors          158 non-null object\n",
      "organizations         158 non-null object\n",
      "total_pre_bill_13     109 non-null float64\n",
      "total_post_bill_13    62 non-null float64\n",
      "pct_pre_bill_13       62 non-null float64\n",
      "pct_post_bill_13      62 non-null float64\n",
      "total_pre_bill_17     158 non-null float64\n",
      "total_post_bill_17    158 non-null float64\n",
      "pct_pre_bill_17       158 non-null float64\n",
      "pct_post_bill_17      158 non-null float64\n",
      "dtypes: float64(8), object(3)\n",
      "memory usage: 14.8+ KB\n"
     ]
    }
   ],
   "source": [
    "donors_13_17 = donors_17.merge(donors_13, how=\"outer\", on=\"match_id\", suffixes=[\"_17\", \"_13\"])\n",
    "donors_13_17.drop([\"change_17\", \"pct_change_17\", \"change_13\", \"pct_change_13\"],\n",
    "            axis=1, inplace=True)\n",
    "donors_13_17.rename(columns={\"organizations_17\": \"organizations\", \"contributors_17\": \"contributors\"}, inplace=True)\n",
    "donors_13_17 = donors_13_17[[\"match_id\", \"contributors\", \"organizations\", \"total_pre_bill_13\", \"total_post_bill_13\",\n",
    "                 \"pct_pre_bill_13\", \"pct_post_bill_13\", \"total_pre_bill_17\", \"total_post_bill_17\",\n",
    "                 \"pct_pre_bill_17\", \"pct_post_bill_17\"]]\n",
    "donors_13_17.info()"
   ]
  },
  {
   "cell_type": "code",
   "execution_count": 32,
   "metadata": {},
   "outputs": [
    {
     "data": {
      "text/html": [
       "<div>\n",
       "<style scoped>\n",
       "    .dataframe tbody tr th:only-of-type {\n",
       "        vertical-align: middle;\n",
       "    }\n",
       "\n",
       "    .dataframe tbody tr th {\n",
       "        vertical-align: top;\n",
       "    }\n",
       "\n",
       "    .dataframe thead th {\n",
       "        text-align: right;\n",
       "    }\n",
       "</style>\n",
       "<table border=\"1\" class=\"dataframe\">\n",
       "  <thead>\n",
       "    <tr style=\"text-align: right;\">\n",
       "      <th></th>\n",
       "      <th>match_id</th>\n",
       "      <th>contributors</th>\n",
       "      <th>organizations</th>\n",
       "      <th>total_pre_bill_13</th>\n",
       "      <th>total_post_bill_13</th>\n",
       "      <th>pct_pre_bill_13</th>\n",
       "      <th>pct_post_bill_13</th>\n",
       "      <th>total_pre_bill_17</th>\n",
       "      <th>total_post_bill_17</th>\n",
       "      <th>pct_pre_bill_17</th>\n",
       "      <th>pct_post_bill_17</th>\n",
       "      <th>giving_change</th>\n",
       "    </tr>\n",
       "  </thead>\n",
       "  <tbody>\n",
       "    <tr>\n",
       "      <th>0</th>\n",
       "      <td>Air Line Pilots Assn</td>\n",
       "      <td>[AIR LINE PILOTS ASSOC INT'L   POLITICAL ACTIO...</td>\n",
       "      <td>[Air Line Pilots Assn]</td>\n",
       "      <td>nan</td>\n",
       "      <td>nan</td>\n",
       "      <td>nan</td>\n",
       "      <td>nan</td>\n",
       "      <td>100,000.00</td>\n",
       "      <td>150,000.00</td>\n",
       "      <td>0.40</td>\n",
       "      <td>0.60</td>\n",
       "      <td>Increased</td>\n",
       "    </tr>\n",
       "  </tbody>\n",
       "</table>\n",
       "</div>"
      ],
      "text/plain": [
       "               match_id                                       contributors  \\\n",
       "0  Air Line Pilots Assn  [AIR LINE PILOTS ASSOC INT'L   POLITICAL ACTIO...   \n",
       "\n",
       "            organizations  total_pre_bill_13  total_post_bill_13  \\\n",
       "0  [Air Line Pilots Assn]                nan                 nan   \n",
       "\n",
       "   pct_pre_bill_13  pct_post_bill_13  total_pre_bill_17  total_post_bill_17  \\\n",
       "0              nan               nan         100,000.00          150,000.00   \n",
       "\n",
       "   pct_pre_bill_17  pct_post_bill_17 giving_change  \n",
       "0             0.40              0.60     Increased  "
      ]
     },
     "execution_count": 32,
     "metadata": {},
     "output_type": "execute_result"
    }
   ],
   "source": [
    "donors_13_17[\"giving_change\"] = np.where((donors_13_17[\"pct_post_bill_17\"] > donors_13_17[\"pct_post_bill_13\"]) | (donors_13_17[\"pct_pre_bill_13\"].isnull()), \"Increased\",\n",
    "                                  np.where(donors_13_17[\"pct_post_bill_17\"] < donors_13_17[\"pct_post_bill_13\"], \"Decreased\",\n",
    "                                           np.where(donors_13_17[\"pct_post_bill_17\"] == donors_13_17[\"pct_post_bill_13\"], \"Stayed the same\",\n",
    "                                                   \"Other\")))\n",
    "donors_13_17.head(1)"
   ]
  },
  {
   "cell_type": "markdown",
   "metadata": {},
   "source": [
    "### 2011"
   ]
  },
  {
   "cell_type": "code",
   "execution_count": 33,
   "metadata": {},
   "outputs": [
    {
     "name": "stdout",
     "output_type": "stream",
     "text": [
      "<class 'pandas.core.frame.DataFrame'>\n",
      "Int64Index: 158 entries, 0 to 157\n",
      "Data columns (total 11 columns):\n",
      "match_id              158 non-null object\n",
      "contributors          158 non-null object\n",
      "organizations         158 non-null object\n",
      "total_pre_bill_11     106 non-null float64\n",
      "total_post_bill_11    71 non-null float64\n",
      "pct_pre_bill_11       71 non-null float64\n",
      "pct_post_bill_11      71 non-null float64\n",
      "total_pre_bill_17     158 non-null float64\n",
      "total_post_bill_17    158 non-null float64\n",
      "pct_pre_bill_17       158 non-null float64\n",
      "pct_post_bill_17      158 non-null float64\n",
      "dtypes: float64(8), object(3)\n",
      "memory usage: 14.8+ KB\n"
     ]
    }
   ],
   "source": [
    "donors_11_17 = donors_17.merge(donors_11, how=\"outer\", on=\"match_id\", suffixes=[\"_17\", \"_11\"])\n",
    "donors_11_17.drop([\"change_17\", \"pct_change_17\", \"change_11\", \"pct_change_11\"],\n",
    "            axis=1, inplace=True)\n",
    "donors_11_17.rename(columns={\"organizations_17\": \"organizations\", \"contributors_17\": \"contributors\"}, inplace=True)\n",
    "donors_11_17 = donors_11_17[[\"match_id\", \"contributors\", \"organizations\", \"total_pre_bill_11\", \"total_post_bill_11\",\n",
    "                 \"pct_pre_bill_11\", \"pct_post_bill_11\", \"total_pre_bill_17\", \"total_post_bill_17\",\n",
    "                 \"pct_pre_bill_17\", \"pct_post_bill_17\"]]\n",
    "donors_11_17.info()"
   ]
  },
  {
   "cell_type": "code",
   "execution_count": 34,
   "metadata": {},
   "outputs": [
    {
     "data": {
      "text/html": [
       "<div>\n",
       "<style scoped>\n",
       "    .dataframe tbody tr th:only-of-type {\n",
       "        vertical-align: middle;\n",
       "    }\n",
       "\n",
       "    .dataframe tbody tr th {\n",
       "        vertical-align: top;\n",
       "    }\n",
       "\n",
       "    .dataframe thead th {\n",
       "        text-align: right;\n",
       "    }\n",
       "</style>\n",
       "<table border=\"1\" class=\"dataframe\">\n",
       "  <thead>\n",
       "    <tr style=\"text-align: right;\">\n",
       "      <th></th>\n",
       "      <th>match_id</th>\n",
       "      <th>contributors</th>\n",
       "      <th>organizations</th>\n",
       "      <th>total_pre_bill_11</th>\n",
       "      <th>total_post_bill_11</th>\n",
       "      <th>pct_pre_bill_11</th>\n",
       "      <th>pct_post_bill_11</th>\n",
       "      <th>total_pre_bill_17</th>\n",
       "      <th>total_post_bill_17</th>\n",
       "      <th>pct_pre_bill_17</th>\n",
       "      <th>pct_post_bill_17</th>\n",
       "      <th>giving_change</th>\n",
       "    </tr>\n",
       "  </thead>\n",
       "  <tbody>\n",
       "    <tr>\n",
       "      <th>0</th>\n",
       "      <td>Air Line Pilots Assn</td>\n",
       "      <td>[AIR LINE PILOTS ASSOC INT'L   POLITICAL ACTIO...</td>\n",
       "      <td>[Air Line Pilots Assn]</td>\n",
       "      <td>2,500.00</td>\n",
       "      <td>nan</td>\n",
       "      <td>nan</td>\n",
       "      <td>nan</td>\n",
       "      <td>100,000.00</td>\n",
       "      <td>150,000.00</td>\n",
       "      <td>0.40</td>\n",
       "      <td>0.60</td>\n",
       "      <td>Increased</td>\n",
       "    </tr>\n",
       "  </tbody>\n",
       "</table>\n",
       "</div>"
      ],
      "text/plain": [
       "               match_id                                       contributors  \\\n",
       "0  Air Line Pilots Assn  [AIR LINE PILOTS ASSOC INT'L   POLITICAL ACTIO...   \n",
       "\n",
       "            organizations  total_pre_bill_11  total_post_bill_11  \\\n",
       "0  [Air Line Pilots Assn]           2,500.00                 nan   \n",
       "\n",
       "   pct_pre_bill_11  pct_post_bill_11  total_pre_bill_17  total_post_bill_17  \\\n",
       "0              nan               nan         100,000.00          150,000.00   \n",
       "\n",
       "   pct_pre_bill_17  pct_post_bill_17 giving_change  \n",
       "0             0.40              0.60     Increased  "
      ]
     },
     "execution_count": 34,
     "metadata": {},
     "output_type": "execute_result"
    }
   ],
   "source": [
    "donors_11_17[\"giving_change\"] = np.where((donors_11_17[\"pct_post_bill_17\"] > donors_11_17[\"pct_post_bill_11\"]) | (donors_11_17[\"pct_pre_bill_11\"].isnull()), \"Increased\",\n",
    "                                  np.where(donors_11_17[\"pct_post_bill_17\"] < donors_11_17[\"pct_post_bill_11\"], \"Decreased\",\n",
    "                                           np.where(donors_11_17[\"pct_post_bill_17\"] == donors_11_17[\"pct_post_bill_11\"], \"Stayed the same\",\n",
    "                                                   \"Other\")))\n",
    "donors_11_17.head(1)"
   ]
  },
  {
   "cell_type": "markdown",
   "metadata": {},
   "source": [
    "### 2009"
   ]
  },
  {
   "cell_type": "code",
   "execution_count": 35,
   "metadata": {},
   "outputs": [
    {
     "name": "stdout",
     "output_type": "stream",
     "text": [
      "<class 'pandas.core.frame.DataFrame'>\n",
      "Int64Index: 158 entries, 0 to 157\n",
      "Data columns (total 11 columns):\n",
      "match_id              158 non-null object\n",
      "contributors          158 non-null object\n",
      "organizations         158 non-null object\n",
      "total_pre_bill_09     88 non-null float64\n",
      "total_post_bill_09    50 non-null float64\n",
      "pct_pre_bill_09       50 non-null float64\n",
      "pct_post_bill_09      50 non-null float64\n",
      "total_pre_bill_17     158 non-null float64\n",
      "total_post_bill_17    158 non-null float64\n",
      "pct_pre_bill_17       158 non-null float64\n",
      "pct_post_bill_17      158 non-null float64\n",
      "dtypes: float64(8), object(3)\n",
      "memory usage: 14.8+ KB\n"
     ]
    }
   ],
   "source": [
    "donors_09_17 = donors_17.merge(donors_09, how=\"outer\", on=\"match_id\", suffixes=[\"_17\", \"_09\"])\n",
    "donors_09_17.drop([\"change_17\", \"pct_change_17\", \"change_09\", \"pct_change_09\"],\n",
    "            axis=1, inplace=True)\n",
    "donors_09_17.rename(columns={\"organizations_17\": \"organizations\", \"contributors_17\": \"contributors\"}, inplace=True)\n",
    "donors_09_17 = donors_09_17[[\"match_id\", \"contributors\", \"organizations\", \"total_pre_bill_09\", \"total_post_bill_09\",\n",
    "                 \"pct_pre_bill_09\", \"pct_post_bill_09\", \"total_pre_bill_17\", \"total_post_bill_17\",\n",
    "                 \"pct_pre_bill_17\", \"pct_post_bill_17\"]]\n",
    "donors_09_17.info()"
   ]
  },
  {
   "cell_type": "code",
   "execution_count": 36,
   "metadata": {},
   "outputs": [
    {
     "data": {
      "text/html": [
       "<div>\n",
       "<style scoped>\n",
       "    .dataframe tbody tr th:only-of-type {\n",
       "        vertical-align: middle;\n",
       "    }\n",
       "\n",
       "    .dataframe tbody tr th {\n",
       "        vertical-align: top;\n",
       "    }\n",
       "\n",
       "    .dataframe thead th {\n",
       "        text-align: right;\n",
       "    }\n",
       "</style>\n",
       "<table border=\"1\" class=\"dataframe\">\n",
       "  <thead>\n",
       "    <tr style=\"text-align: right;\">\n",
       "      <th></th>\n",
       "      <th>match_id</th>\n",
       "      <th>contributors</th>\n",
       "      <th>organizations</th>\n",
       "      <th>total_pre_bill_09</th>\n",
       "      <th>total_post_bill_09</th>\n",
       "      <th>pct_pre_bill_09</th>\n",
       "      <th>pct_post_bill_09</th>\n",
       "      <th>total_pre_bill_17</th>\n",
       "      <th>total_post_bill_17</th>\n",
       "      <th>pct_pre_bill_17</th>\n",
       "      <th>pct_post_bill_17</th>\n",
       "      <th>giving_change</th>\n",
       "    </tr>\n",
       "  </thead>\n",
       "  <tbody>\n",
       "    <tr>\n",
       "      <th>0</th>\n",
       "      <td>Air Line Pilots Assn</td>\n",
       "      <td>[AIR LINE PILOTS ASSOC INT'L   POLITICAL ACTIO...</td>\n",
       "      <td>[Air Line Pilots Assn]</td>\n",
       "      <td>nan</td>\n",
       "      <td>nan</td>\n",
       "      <td>nan</td>\n",
       "      <td>nan</td>\n",
       "      <td>100,000.00</td>\n",
       "      <td>150,000.00</td>\n",
       "      <td>0.40</td>\n",
       "      <td>0.60</td>\n",
       "      <td>Increased</td>\n",
       "    </tr>\n",
       "  </tbody>\n",
       "</table>\n",
       "</div>"
      ],
      "text/plain": [
       "               match_id                                       contributors  \\\n",
       "0  Air Line Pilots Assn  [AIR LINE PILOTS ASSOC INT'L   POLITICAL ACTIO...   \n",
       "\n",
       "            organizations  total_pre_bill_09  total_post_bill_09  \\\n",
       "0  [Air Line Pilots Assn]                nan                 nan   \n",
       "\n",
       "   pct_pre_bill_09  pct_post_bill_09  total_pre_bill_17  total_post_bill_17  \\\n",
       "0              nan               nan         100,000.00          150,000.00   \n",
       "\n",
       "   pct_pre_bill_17  pct_post_bill_17 giving_change  \n",
       "0             0.40              0.60     Increased  "
      ]
     },
     "execution_count": 36,
     "metadata": {},
     "output_type": "execute_result"
    }
   ],
   "source": [
    "donors_09_17[\"giving_change\"] = np.where((donors_09_17[\"pct_post_bill_17\"] > donors_09_17[\"pct_post_bill_09\"]) | (donors_09_17[\"pct_pre_bill_09\"].isnull()), \"Increased\",\n",
    "                                  np.where(donors_09_17[\"pct_post_bill_17\"] < donors_09_17[\"pct_post_bill_09\"], \"Decreased\",\n",
    "                                           np.where(donors_09_17[\"pct_post_bill_17\"] == donors_09_17[\"pct_post_bill_09\"], \"Stayed the same\",\n",
    "                                                   \"Other\")))\n",
    "donors_09_17.head(1)"
   ]
  },
  {
   "cell_type": "markdown",
   "metadata": {},
   "source": [
    "## How many contributors gave more money in 2017 than in any prior cycle?"
   ]
  },
  {
   "cell_type": "code",
   "execution_count": 37,
   "metadata": {},
   "outputs": [],
   "source": [
    "donors_all_years_list = [donors_09, donors_11, donors_13, donors_15, donors_17]"
   ]
  },
  {
   "cell_type": "code",
   "execution_count": 38,
   "metadata": {},
   "outputs": [],
   "source": [
    "donors_all_years = reduce(lambda left, right: pd.merge(left, right, on=\"match_id\", how=\"outer\"), donors_all_years_list)"
   ]
  },
  {
   "cell_type": "code",
   "execution_count": 39,
   "metadata": {},
   "outputs": [
    {
     "name": "stdout",
     "output_type": "stream",
     "text": [
      "<class 'pandas.core.frame.DataFrame'>\n",
      "Int64Index: 158 entries, 0 to 157\n",
      "Data columns (total 23 columns):\n",
      "match_id              158 non-null object\n",
      "organizations         158 non-null object\n",
      "contributors          158 non-null object\n",
      "total_post_bill_09    158 non-null float64\n",
      "total_pre_bill_09     158 non-null float64\n",
      "pct_post_bill_09      158 non-null float64\n",
      "pct_pre_bill_09       158 non-null float64\n",
      "total_post_bill_11    158 non-null float64\n",
      "total_pre_bill_11     158 non-null float64\n",
      "pct_post_bill_11      158 non-null float64\n",
      "pct_pre_bill_11       158 non-null float64\n",
      "total_post_bill_13    158 non-null float64\n",
      "total_pre_bill_13     158 non-null float64\n",
      "pct_post_bill_13      158 non-null float64\n",
      "pct_pre_bill_13       158 non-null float64\n",
      "total_post_bill_15    158 non-null float64\n",
      "total_pre_bill_15     158 non-null float64\n",
      "pct_post_bill_15      158 non-null float64\n",
      "pct_pre_bill_15       158 non-null float64\n",
      "total_post_bill_17    158 non-null float64\n",
      "total_pre_bill_17     158 non-null float64\n",
      "pct_post_bill_17      158 non-null float64\n",
      "pct_pre_bill_17       158 non-null float64\n",
      "dtypes: float64(20), object(3)\n",
      "memory usage: 29.6+ KB\n"
     ]
    }
   ],
   "source": [
    "donors_all_years.drop([\"organizations_x\", \"organizations_y\", \"contributors_x\", \"contributors_y\", \"change_x\", \"change_y\", \"change\", \"pct_change_x\", \"pct_change_y\",\n",
    "                       \"pct_change\"], axis=1, inplace=True)\n",
    "donors_all_years.columns = [\"match_id\", \"total_post_bill_09\", \"total_pre_bill_09\", \"pct_post_bill_09\", \"pct_pre_bill_09\", \"total_post_bill_11\",\n",
    "                            \"total_pre_bill_11\", \"pct_post_bill_11\", \"pct_pre_bill_11\", \"total_post_bill_13\", \"total_pre_bill_13\", \"pct_post_bill_13\",\n",
    "                            \"pct_pre_bill_13\", \"total_post_bill_15\", \"total_pre_bill_15\", \"pct_post_bill_15\", \"pct_pre_bill_15\", \"organizations\", \"contributors\",\n",
    "                            \"total_post_bill_17\", \"total_pre_bill_17\", \"pct_post_bill_17\", \"pct_pre_bill_17\"]\n",
    "donors_all_years = donors_all_years[[\"match_id\", \"organizations\", \"contributors\", \"total_post_bill_09\", \"total_pre_bill_09\", \"pct_post_bill_09\", \"pct_pre_bill_09\", \"total_post_bill_11\",\n",
    "                            \"total_pre_bill_11\", \"pct_post_bill_11\", \"pct_pre_bill_11\", \"total_post_bill_13\", \"total_pre_bill_13\", \"pct_post_bill_13\",\n",
    "                            \"pct_pre_bill_13\", \"total_post_bill_15\", \"total_pre_bill_15\", \"pct_post_bill_15\", \"pct_pre_bill_15\", \"total_post_bill_17\",\n",
    "                                    \"total_pre_bill_17\", \"pct_post_bill_17\", \"pct_pre_bill_17\"]]\n",
    "donors_all_years.fillna(0, inplace=True)\n",
    "donors_all_years.info()"
   ]
  },
  {
   "cell_type": "code",
   "execution_count": 40,
   "metadata": {},
   "outputs": [
    {
     "name": "stdout",
     "output_type": "stream",
     "text": [
      "95 donors increased the share of their annual giving that fell in the last two months of the year in 2017 as compared with every prior odd-numbered year.\n",
      "Among those donors, 8 gave some amount of money in every prior odd-numbered year\n"
     ]
    }
   ],
   "source": [
    "print(str(donors_all_years[(donors_all_years[\"pct_post_bill_17\"] > donors_all_years[\"pct_post_bill_15\"]) &\n",
    "                 (donors_all_years[\"pct_post_bill_17\"] > donors_all_years[\"pct_post_bill_13\"]) &\n",
    "                (donors_all_years[\"pct_post_bill_17\"] > donors_all_years[\"pct_post_bill_11\"]) &\n",
    "                (donors_all_years[\"pct_post_bill_17\"] > donors_all_years[\"pct_post_bill_09\"])][\"match_id\"].count()) + \" donors increased the share of their annual giving that fell in the last two months of the year in 2017 as compared with every prior odd-numbered year.\")\n",
    "print(\"Among those donors, \" + (str(donors_all_years[(donors_all_years[\"pct_post_bill_17\"] > donors_all_years[\"pct_post_bill_15\"]) &\n",
    "                 (donors_all_years[\"pct_post_bill_17\"] > donors_all_years[\"pct_post_bill_13\"]) &\n",
    "                (donors_all_years[\"pct_post_bill_17\"] > donors_all_years[\"pct_post_bill_11\"]) &\n",
    "                (donors_all_years[\"pct_post_bill_17\"] > donors_all_years[\"pct_post_bill_09\"]) &\n",
    "                                                     (donors_all_years[\"pct_post_bill_15\"] != 0) &\n",
    "                                                     (donors_all_years[\"pct_post_bill_13\"] != 0) &\n",
    "                                                     (donors_all_years[\"pct_post_bill_11\"] != 0) &\n",
    "                                                     (donors_all_years[\"pct_post_bill_09\"] != 0)][\"match_id\"].count())) + \" gave some amount of money in every prior odd-numbered year\")"
   ]
  },
  {
   "cell_type": "markdown",
   "metadata": {},
   "source": [
    "## And how many contributors gave more in 2017 than in all but one prior cycle?"
   ]
  },
  {
   "cell_type": "code",
   "execution_count": 41,
   "metadata": {},
   "outputs": [
    {
     "name": "stdout",
     "output_type": "stream",
     "text": [
      "139 donors increased the share of their annual giving that fell in the last two months of the year in 2017 as compared with all but one prior odd-numbered year.\n"
     ]
    }
   ],
   "source": [
    "print(str(donors_all_years[((donors_all_years[\"pct_post_bill_17\"] > donors_all_years[\"pct_post_bill_15\"]) &\n",
    "                 (donors_all_years[\"pct_post_bill_17\"] > donors_all_years[\"pct_post_bill_13\"]) &\n",
    "                (donors_all_years[\"pct_post_bill_17\"] > donors_all_years[\"pct_post_bill_11\"])) |\n",
    "                ((donors_all_years[\"pct_post_bill_17\"] > donors_all_years[\"pct_post_bill_15\"]) &\n",
    "                 (donors_all_years[\"pct_post_bill_17\"] > donors_all_years[\"pct_post_bill_13\"]) &\n",
    "                (donors_all_years[\"pct_post_bill_17\"] > donors_all_years[\"pct_post_bill_09\"])) |\n",
    "                ((donors_all_years[\"pct_post_bill_17\"] > donors_all_years[\"pct_post_bill_15\"]) &\n",
    "                 (donors_all_years[\"pct_post_bill_17\"] > donors_all_years[\"pct_post_bill_11\"]) &\n",
    "                (donors_all_years[\"pct_post_bill_17\"] > donors_all_years[\"pct_post_bill_09\"])) |\n",
    "                ((donors_all_years[\"pct_post_bill_17\"] > donors_all_years[\"pct_post_bill_13\"]) &\n",
    "                 (donors_all_years[\"pct_post_bill_17\"] > donors_all_years[\"pct_post_bill_11\"]) &\n",
    "                (donors_all_years[\"pct_post_bill_17\"] > donors_all_years[\"pct_post_bill_09\"]))][\"match_id\"].count()) + \" donors increased the share of their annual giving that fell in the last two months of the year in 2017 as compared with all but one prior odd-numbered year.\")"
   ]
  },
  {
   "cell_type": "markdown",
   "metadata": {},
   "source": [
    "## What proportion of donors increased the share of their annual giving that fell in the last two months of 2017 as compared with the same period in each of the previous years?"
   ]
  },
  {
   "cell_type": "code",
   "execution_count": 42,
   "metadata": {},
   "outputs": [
    {
     "name": "stdout",
     "output_type": "stream",
     "text": [
      "89.24050632911393% of donors increased the share of their annual giving that fell in the last two months of the year between 2015 and 2017.\n",
      "83.54430379746836% of donors increased the share of their annual giving that fell in the last two months of the year between 2013 and 2017.\n",
      "85.44303797468355% of donors increased the share of their annual giving that fell in the last two months of the year between 2011 and 2017.\n",
      "85.44303797468355% of donors increased the share of their annual giving that fell in the last two months of the year between 2009 and 2017.\n"
     ]
    }
   ],
   "source": [
    "print(str(donors_15_17[donors_15_17[\"giving_change\"] == \"Increased\"][\"match_id\"].count() / donors_15_17[\"match_id\"].count() * 100) + \"% of donors increased the share of their annual giving that fell in the last two months of the year between 2015 and 2017.\")\n",
    "print(str(donors_13_17[donors_13_17[\"giving_change\"] == \"Increased\"][\"match_id\"].count() / donors_13_17[\"match_id\"].count() * 100) + \"% of donors increased the share of their annual giving that fell in the last two months of the year between 2013 and 2017.\")\n",
    "print(str(donors_11_17[donors_11_17[\"giving_change\"] == \"Increased\"][\"match_id\"].count() / donors_11_17[\"match_id\"].count() * 100) + \"% of donors increased the share of their annual giving that fell in the last two months of the year between 2011 and 2017.\")\n",
    "print(str(donors_09_17[donors_09_17[\"giving_change\"] == \"Increased\"][\"match_id\"].count() / donors_09_17[\"match_id\"].count() * 100) + \"% of donors increased the share of their annual giving that fell in the last two months of the year between 2009 and 2017.\")"
   ]
  },
  {
   "cell_type": "markdown",
   "metadata": {},
   "source": [
    "## And by how much did these individuals' giving increase?"
   ]
  },
  {
   "cell_type": "code",
   "execution_count": 43,
   "metadata": {},
   "outputs": [
    {
     "name": "stdout",
     "output_type": "stream",
     "text": [
      "These donors' giving in the last two months of the year increased by $35512029.0, from $-6589136.0 to $28922893.0 between 2015 and 2017.\n",
      "These donors' giving in the last two months of the year increased by $21880518.0, from $1155975.0 to $23036493.0 between 2013 and 2017.\n",
      "These donors' giving in the last two months of the year increased by $24340851.0, from $613592.0 to $24954443.0 between 2011 and 2017.\n",
      "These donors' giving in the last two months of the year increased by $31881913.0, from $267350.0 to $32149263.0 between 2009 and 2017.\n"
     ]
    }
   ],
   "source": [
    "print(\"These donors' giving in the last two months of the year increased by $\" + str(donors_15_17[donors_15_17[\"giving_change\"] == \"Increased\"][\"total_post_bill_17\"].sum() - donors_15_17[donors_15_17[\"giving_change\"] == \"Increased\"][\"total_post_bill_15\"].sum()) + \", from $\" + str(donors_15_17[donors_15_17[\"giving_change\"] == \"Increased\"][\"total_post_bill_15\"].sum()) + \" to $\" + str(donors_15_17[donors_15_17[\"giving_change\"] == \"Increased\"][\"total_post_bill_17\"].sum()) + \" between 2015 and 2017.\")\n",
    "print(\"These donors' giving in the last two months of the year increased by $\" + str(donors_13_17[donors_13_17[\"giving_change\"] == \"Increased\"][\"total_post_bill_17\"].sum() - donors_13_17[donors_13_17[\"giving_change\"] == \"Increased\"][\"total_post_bill_13\"].sum()) + \", from $\" + str(donors_13_17[donors_13_17[\"giving_change\"] == \"Increased\"][\"total_post_bill_13\"].sum()) + \" to $\" + str(donors_13_17[donors_13_17[\"giving_change\"] == \"Increased\"][\"total_post_bill_17\"].sum()) + \" between 2013 and 2017.\")\n",
    "print(\"These donors' giving in the last two months of the year increased by $\" + str(donors_11_17[donors_11_17[\"giving_change\"] == \"Increased\"][\"total_post_bill_17\"].sum() - donors_11_17[donors_11_17[\"giving_change\"] == \"Increased\"][\"total_post_bill_11\"].sum()) + \", from $\" + str(donors_11_17[donors_11_17[\"giving_change\"] == \"Increased\"][\"total_post_bill_11\"].sum()) + \" to $\" + str(donors_11_17[donors_11_17[\"giving_change\"] == \"Increased\"][\"total_post_bill_17\"].sum()) + \" between 2011 and 2017.\")\n",
    "print(\"These donors' giving in the last two months of the year increased by $\" + str(donors_09_17[donors_09_17[\"giving_change\"] == \"Increased\"][\"total_post_bill_17\"].sum() - donors_09_17[donors_09_17[\"giving_change\"] == \"Increased\"][\"total_post_bill_09\"].sum()) + \", from $\" + str(donors_09_17[donors_09_17[\"giving_change\"] == \"Increased\"][\"total_post_bill_09\"].sum()) + \" to $\" + str(donors_09_17[donors_09_17[\"giving_change\"] == \"Increased\"][\"total_post_bill_17\"].sum()) + \" between 2009 and 2017.\")"
   ]
  },
  {
   "cell_type": "markdown",
   "metadata": {},
   "source": [
    "## How many donors in each year gave all of their money in the last two months of each year?"
   ]
  },
  {
   "cell_type": "code",
   "execution_count": 44,
   "metadata": {},
   "outputs": [
    {
     "name": "stdout",
     "output_type": "stream",
     "text": [
      "In 2017, 44 donors gave all their money in the last two months.\n",
      "In 2015, 2 donors gave all their money in the last two months.\n",
      "In 2013, 4 donors gave all their money in the last two months.\n",
      "In 2011, 3 donors gave all their money in the last two months.\n",
      "In 2009, 7 donors gave all their money in the last two months.\n"
     ]
    }
   ],
   "source": [
    "print(\"In 2017, \" + str(donors_17[donors_17[\"pct_post_bill\"] == 1][\"match_id\"].count()) + \" donors gave all their money in the last two months.\")\n",
    "print(\"In 2015, \" + str(donors_15[donors_15[\"pct_post_bill\"] == 1][\"match_id\"].count()) + \" donors gave all their money in the last two months.\")\n",
    "print(\"In 2013, \" + str(donors_13[donors_13[\"pct_post_bill\"] == 1][\"match_id\"].count()) + \" donors gave all their money in the last two months.\")\n",
    "print(\"In 2011, \" + str(donors_11[donors_11[\"pct_post_bill\"] == 1][\"match_id\"].count()) + \" donors gave all their money in the last two months.\")\n",
    "print(\"In 2009, \" + str(donors_09[donors_09[\"pct_post_bill\"] == 1][\"match_id\"].count()) + \" donors gave all their money in the last two months.\")"
   ]
  },
  {
   "cell_type": "markdown",
   "metadata": {},
   "source": [
    "# What does this giving look like on a contribution-by-contribution level?"
   ]
  },
  {
   "cell_type": "code",
   "execution_count": 45,
   "metadata": {},
   "outputs": [],
   "source": [
    "def run_contributions_query(prefix, suffix, reference_cycle, reference_start, reference_end, cycle, start, end):\n",
    "    query = \"\"\"CREATE MATERIALIZED VIEW IF NOT EXISTS \"\"\" + prefix + \"\"\"_contributions_\"\"\" + suffix + \"\"\" AS\n",
    "    SELECT fectransid,\n",
    "    match_id,\n",
    "    organization,\n",
    "    contributor, date, sum(SUM),\n",
    "    cmte_id,\n",
    "    pacshort AS committee\n",
    "FROM\n",
    "  (SELECT fectransid,\n",
    "          match_id,\n",
    "          orgname AS organization,\n",
    "          contrib AS contributor, date, sum(amount),\n",
    "                                        cmteid AS cmte_id\n",
    "   FROM\n",
    "     (SELECT CASE\n",
    "                 WHEN trim(contribid) != '' THEN left(contribid, 11)\n",
    "                 ELSE orgname\n",
    "             END AS match_id\n",
    "      FROM crp_contributions\n",
    "      LEFT JOIN crp_committees ON crp_contributions.cmteid = crp_committees.cmteid\n",
    "      AND crp_committees.cycle = '\"\"\" + reference_cycle + \"\"\"'\n",
    "      WHERE primcode IN ('J1100',\n",
    "                         'J2200',\n",
    "                         'J2400',\n",
    "                         'Z1100',\n",
    "                         'Z4100',\n",
    "                         'Z4500',\n",
    "                         'Z5100')\n",
    "                            AND date >= '\"\"\" + reference_start + \"\"\"'\n",
    "                            AND date <= '\"\"\" + reference_end + \"\"\"'\n",
    "                            AND crp_contributions.cycle = '\"\"\" + reference_cycle + \"\"\"'\n",
    "        AND TYPE NOT IN ('11J',\n",
    "                         '15C',\n",
    "                         '15E',\n",
    "                         '15I',\n",
    "                         '15J',\n",
    "                         '15T',\n",
    "                         '18J',\n",
    "                         '19J',\n",
    "                         '30J',\n",
    "                         '30F',\n",
    "                         '31J',\n",
    "                         '31F',\n",
    "                         '32J',\n",
    "                         '32F')\n",
    "      GROUP BY match_id\n",
    "      HAVING sum(amount) >= 50000) AS gop_donors\n",
    "   JOIN crp_contributions ON CASE\n",
    "                                 WHEN trim(contribid) != '' THEN left(contribid, 11)\n",
    "                                 ELSE crp_contributions.orgname\n",
    "                             END = gop_donors.match_id\n",
    "                       WHERE date >= '\"\"\" + start + \"\"\"'\n",
    "                         AND date <= '\"\"\" + end + \"\"\"'\n",
    "                         AND CYCLE = '\"\"\" + cycle + \"\"\"'\n",
    "     AND TYPE NOT IN ('11J',\n",
    "                      '15C',\n",
    "                      '15E',\n",
    "                      '15I',\n",
    "                      '15J',\n",
    "                      '15T',\n",
    "                      '18J',\n",
    "                      '19J',\n",
    "                      '30J',\n",
    "                      '30F',\n",
    "                      '31J',\n",
    "                      '31F',\n",
    "                      '32J',\n",
    "                      '32F')\n",
    "   GROUP BY fectransid,\n",
    "            match_id,\n",
    "            organization,\n",
    "            contributor, date, cmte_id) AS donors_committees\n",
    "JOIN crp_committees ON donors_committees.cmte_id = crp_committees.cmteid\n",
    "                    AND crp_committees.CYCLE = '\"\"\" + cycle + \"\"\"'\n",
    "WHERE primcode IN ('J1100',\n",
    "                   'J2200',\n",
    "                   'J2400',\n",
    "                   'Z1100',\n",
    "                   'Z4100',\n",
    "                   'Z4500',\n",
    "                   'Z5100')\n",
    "GROUP BY fectransid,\n",
    "         match_id,\n",
    "         organization,\n",
    "         contributor, date, cmte_id,\n",
    "                            committee;\n",
    "                            SELECT *\n",
    "                            FROM \"\"\" + prefix + \"\"\"_contributions_\"\"\"+ suffix +\"\"\";\"\"\"\n",
    "    return pd.read_sql(query, con=conn)"
   ]
  },
  {
   "cell_type": "markdown",
   "metadata": {},
   "source": [
    "## Return the data for each cycle."
   ]
  },
  {
   "cell_type": "code",
   "execution_count": 46,
   "metadata": {},
   "outputs": [],
   "source": [
    "post_bill_contributions_17 = run_contributions_query(\"post_bill\", \"17\", \"2018\", \"2017-11-02\", \"2017-12-31\", \"2018\", \"2017-11-02\", \"2017-12-31\")\n",
    "pre_bill_contributions_17 = run_contributions_query(\"pre_bill\", \"17\", \"2018\", \"2017-11-02\", \"2017-12-31\", \"2018\", \"2017-01-01\", \"2017-11-01\")"
   ]
  },
  {
   "cell_type": "code",
   "execution_count": 47,
   "metadata": {},
   "outputs": [],
   "source": [
    "post_bill_contributions_15 = run_contributions_query(\"post_bill\", \"15\", \"2018\", \"2017-11-02\", \"2017-12-31\", \"2016\", \"2015-11-02\", \"2015-12-31\")\n",
    "pre_bill_contributions_15 = run_contributions_query(\"pre_bill\", \"15\", \"2018\", \"2017-11-02\", \"2017-12-31\", \"2016\", \"2015-01-01\", \"2015-11-01\")"
   ]
  },
  {
   "cell_type": "code",
   "execution_count": 48,
   "metadata": {},
   "outputs": [],
   "source": [
    "post_bill_contributions_13 = run_contributions_query(\"post_bill\", \"13\", \"2018\", \"2017-11-02\", \"2017-12-31\", \"2014\", \"2013-11-02\", \"2013-12-31\")\n",
    "pre_bill_contributions_13 = run_contributions_query(\"pre_bill\", \"13\", \"2018\", \"2017-11-02\", \"2017-12-31\", \"2014\", \"2013-01-01\", \"2013-11-01\")"
   ]
  },
  {
   "cell_type": "code",
   "execution_count": 49,
   "metadata": {},
   "outputs": [],
   "source": [
    "post_bill_contributions_11 = run_contributions_query(\"post_bill\", \"11\", \"2018\", \"2017-11-02\", \"2017-12-31\", \"2012\", \"2011-11-02\", \"2011-12-31\")\n",
    "pre_bill_contributions_11 = run_contributions_query(\"pre_bill\", \"11\", \"2018\", \"2017-11-02\", \"2017-12-31\", \"2012\", \"2011-01-01\", \"2011-11-01\")"
   ]
  },
  {
   "cell_type": "code",
   "execution_count": 50,
   "metadata": {},
   "outputs": [],
   "source": [
    "post_bill_contributions_09 = run_contributions_query(\"post_bill\", \"09\", \"2018\", \"2017-11-02\", \"2017-12-31\", \"2010\", \"2009-11-02\", \"2009-12-31\")\n",
    "pre_bill_contributions_09 = run_contributions_query(\"pre_bill\", \"09\", \"2018\", \"2017-11-02\", \"2017-12-31\", \"2010\", \"2009-01-01\", \"2009-11-01\")"
   ]
  },
  {
   "cell_type": "markdown",
   "metadata": {},
   "source": [
    "## How many of these donors gave to Democrats in 2017?"
   ]
  },
  {
   "cell_type": "code",
   "execution_count": 51,
   "metadata": {},
   "outputs": [],
   "source": [
    "def run_democratic_donors_query(prefix, suffix, reference_cycle, reference_start, reference_end, cycle, start, end):\n",
    "    query = \"\"\"CREATE MATERIALIZED VIEW IF NOT EXISTS \"\"\"+prefix+\"\"\"_democratic_donors_committees_\"\"\"+suffix+\"\"\" AS\n",
    "                    SELECT match_id,\n",
    "                           organizations,\n",
    "                           contributors,\n",
    "                           sum(committee_total) AS total,\n",
    "                           cmte_id,\n",
    "                           pacshort AS committee\n",
    "                    FROM\n",
    "                      (SELECT match_id,\n",
    "                              organizations,\n",
    "                              contributors,\n",
    "                              sum(amount) AS committee_total,\n",
    "                              cmteid AS cmte_id\n",
    "                       FROM\n",
    "                         (SELECT CASE\n",
    "                                     WHEN trim(contribid) != '' THEN left(contribid, 11)\n",
    "                                     ELSE orgname\n",
    "                                 END AS match_id,\n",
    "                                 array_agg(DISTINCT orgname) AS organizations,\n",
    "                                 array_agg(DISTINCT contrib) AS contributors\n",
    "                          FROM crp_contributions\n",
    "                          LEFT JOIN crp_committees ON crp_contributions.cmteid = crp_committees.cmteid\n",
    "                          AND crp_committees.cycle = '\"\"\" + reference_cycle + \"\"\"'\n",
    "                          WHERE primcode IN ('J1100',\n",
    "                                             'J2200',\n",
    "                                             'J2400',\n",
    "                                             'Z1100',\n",
    "                                             'Z4100',\n",
    "                                             'Z4500',\n",
    "                                             'Z5100')\n",
    "                            AND date >= '\"\"\" + reference_start + \"\"\"'\n",
    "                            AND date <= '\"\"\" + reference_end + \"\"\"'\n",
    "                            AND crp_contributions.cycle = '\"\"\" + reference_cycle + \"\"\"'\n",
    "                            AND TYPE NOT IN ('11J',\n",
    "                                             '15C',\n",
    "                                             '15E',\n",
    "                                             '15I',\n",
    "                                             '15J',\n",
    "                                             '15T',\n",
    "                                             '18J',\n",
    "                                             '19J',\n",
    "                                             '30J',\n",
    "                                             '30F',\n",
    "                                             '31J',\n",
    "                                             '31F',\n",
    "                                             '32J',\n",
    "                                             '32F')\n",
    "                          GROUP BY match_id\n",
    "                          HAVING sum(amount) >= 50000) AS gop_donors\n",
    "                       JOIN crp_contributions ON CASE\n",
    "                                                     WHEN trim(contribid) != '' THEN left(contribid, 11)\n",
    "                                                     ELSE crp_contributions.orgname\n",
    "                                                 END = gop_donors.match_id\n",
    "                       WHERE date >= '\"\"\" + start + \"\"\"'\n",
    "                         AND date <= '\"\"\" + end + \"\"\"'\n",
    "                         AND CYCLE = '\"\"\" + cycle + \"\"\"'\n",
    "                         AND TYPE NOT IN ('11J',\n",
    "                                          '15C',\n",
    "                                          '15E',\n",
    "                                          '15I',\n",
    "                                          '15J',\n",
    "                                          '15T',\n",
    "                                          '18J',\n",
    "                                          '19J',\n",
    "                                          '30J',\n",
    "                                          '30F',\n",
    "                                          '31J',\n",
    "                                          '31F',\n",
    "                                          '32J',\n",
    "                                          '32F')\n",
    "                       GROUP BY match_id,\n",
    "                                organizations,\n",
    "                                contributors,\n",
    "                                cmte_id) AS donors_committees\n",
    "                    JOIN crp_committees ON donors_committees.cmte_id = crp_committees.cmteid\n",
    "                    AND crp_committees.CYCLE = '\"\"\" + cycle + \"\"\"'\n",
    "                    WHERE primcode IN ('J1200',\n",
    "                                       'J2100',\n",
    "                                       'J2300',\n",
    "                                       'Z1200',\n",
    "                                       'Z4200',\n",
    "                                       'Z5200',\n",
    "                                       'Z4400')\n",
    "                    GROUP BY match_id,\n",
    "                             organizations,\n",
    "                             contributors,\n",
    "                             cmte_id,\n",
    "                             committee;\n",
    "\n",
    "                    SELECT *\n",
    "                    FROM \"\"\"+prefix+\"\"\"_democratic_donors_committees_\"\"\"+suffix+\"\"\";\n",
    "                    \"\"\"\n",
    "    return pd.read_sql(query, con=conn)"
   ]
  },
  {
   "cell_type": "markdown",
   "metadata": {},
   "source": [
    "## Return the data for 2017."
   ]
  },
  {
   "cell_type": "code",
   "execution_count": 52,
   "metadata": {},
   "outputs": [],
   "source": [
    "post_bill_democratic_donors_committees_17 = run_democratic_donors_query(\"post_bill\", \"17\", \"2018\", \"2017-11-02\", \"2017-12-31\", \"2018\", \"2017-11-02\", \"2017-12-31\")\n",
    "pre_bill_democratic_donors_committees_17 = run_democratic_donors_query(\"pre_bill\", \"17\", \"2018\", \"2017-11-02\", \"2017-12-31\", \"2018\", \"2017-01-01\", \"2017-11-01\")"
   ]
  },
  {
   "cell_type": "markdown",
   "metadata": {},
   "source": [
    "## How much did each contributor give in each period?"
   ]
  },
  {
   "cell_type": "code",
   "execution_count": 53,
   "metadata": {},
   "outputs": [],
   "source": [
    "post_bill_democratic_donors_17 = post_bill_democratic_donors_committees_17.groupby([\"match_id\"]).agg({\"organizations\": max, \"contributors\": max, \"total\": sum}).reset_index()\n",
    "pre_bill_democratic_donors_17 = pre_bill_democratic_donors_committees_17.groupby([\"match_id\"]).agg({\"organizations\": max, \"contributors\": max, \"total\": sum}).reset_index()"
   ]
  },
  {
   "cell_type": "code",
   "execution_count": 54,
   "metadata": {},
   "outputs": [
    {
     "name": "stdout",
     "output_type": "stream",
     "text": [
      "<class 'pandas.core.frame.DataFrame'>\n",
      "Int64Index: 31 entries, 0 to 30\n",
      "Data columns (total 7 columns):\n",
      "match_id                   31 non-null object\n",
      "organizations_post_bill    14 non-null object\n",
      "contributors_post_bill     14 non-null object\n",
      "total_post_bill            31 non-null float64\n",
      "organizations_pre_bill     31 non-null object\n",
      "contributors_pre_bill      31 non-null object\n",
      "total_pre_bill             31 non-null float64\n",
      "dtypes: float64(2), object(5)\n",
      "memory usage: 1.9+ KB\n"
     ]
    }
   ],
   "source": [
    "democratic_donors_17 = post_bill_democratic_donors_17.merge(pre_bill_democratic_donors_17, how=\"outer\", on=\"match_id\", suffixes=[\"_post_bill\", \"_pre_bill\"])\n",
    "democratic_donors_17[\"total_pre_bill\"].fillna(0, inplace=True)\n",
    "democratic_donors_17[\"total_post_bill\"].fillna(0, inplace=True)\n",
    "democratic_donors_17.info()"
   ]
  },
  {
   "cell_type": "code",
   "execution_count": 55,
   "metadata": {},
   "outputs": [
    {
     "data": {
      "text/html": [
       "<div>\n",
       "<style scoped>\n",
       "    .dataframe tbody tr th:only-of-type {\n",
       "        vertical-align: middle;\n",
       "    }\n",
       "\n",
       "    .dataframe tbody tr th {\n",
       "        vertical-align: top;\n",
       "    }\n",
       "\n",
       "    .dataframe thead th {\n",
       "        text-align: right;\n",
       "    }\n",
       "</style>\n",
       "<table border=\"1\" class=\"dataframe\">\n",
       "  <thead>\n",
       "    <tr style=\"text-align: right;\">\n",
       "      <th></th>\n",
       "      <th>match_id</th>\n",
       "      <th>organizations_post_bill</th>\n",
       "      <th>contributors_post_bill</th>\n",
       "      <th>total_post_bill</th>\n",
       "      <th>organizations_pre_bill</th>\n",
       "      <th>contributors_pre_bill</th>\n",
       "      <th>total_pre_bill</th>\n",
       "      <th>pct_post_bill</th>\n",
       "      <th>pct_pre_bill</th>\n",
       "      <th>change</th>\n",
       "      <th>pct_change</th>\n",
       "    </tr>\n",
       "  </thead>\n",
       "  <tbody>\n",
       "    <tr>\n",
       "      <th>1</th>\n",
       "      <td>Entertainment Software Assn</td>\n",
       "      <td>[Entertainment Software Assn]</td>\n",
       "      <td>[ENTERTAINMENT SOFTWARE ASSOCIATION]</td>\n",
       "      <td>100,000.00</td>\n",
       "      <td>[Entertainment Software Assn]</td>\n",
       "      <td>[ENTERTAINMENT SOFTWARE ASSOCIATION]</td>\n",
       "      <td>50,000.00</td>\n",
       "      <td>0.67</td>\n",
       "      <td>0.33</td>\n",
       "      <td>50,000.00</td>\n",
       "      <td>1.00</td>\n",
       "    </tr>\n",
       "    <tr>\n",
       "      <th>2</th>\n",
       "      <td>Shakopee Mdewakanton Sioux Community</td>\n",
       "      <td>[Shakopee Mdewakanton Sioux Community]</td>\n",
       "      <td>[MDEWAKANTON SIOUX COMMUNITY, SHAKOPEE,,,, SHA...</td>\n",
       "      <td>61,700.00</td>\n",
       "      <td>[Shakopee Mdewakanton Sioux Community]</td>\n",
       "      <td>[MDEWAKANTON SIOUX COMMUNITY, SHAKOPEE,,,, SHA...</td>\n",
       "      <td>93,700.00</td>\n",
       "      <td>0.40</td>\n",
       "      <td>0.60</td>\n",
       "      <td>-32,000.00</td>\n",
       "      <td>-0.34</td>\n",
       "    </tr>\n",
       "    <tr>\n",
       "      <th>4</th>\n",
       "      <td>U0000000386</td>\n",
       "      <td>[Avenue Ventures]</td>\n",
       "      <td>[ZUBERI, IMAAD, ZUBERI, IMAAD MR]</td>\n",
       "      <td>47,100.00</td>\n",
       "      <td>[Avenue Ventures]</td>\n",
       "      <td>[ZUBERI, IMAAD, ZUBERI, IMAAD MR]</td>\n",
       "      <td>65,456.00</td>\n",
       "      <td>0.42</td>\n",
       "      <td>0.58</td>\n",
       "      <td>-18,356.00</td>\n",
       "      <td>-0.28</td>\n",
       "    </tr>\n",
       "    <tr>\n",
       "      <th>10</th>\n",
       "      <td>e1110767126</td>\n",
       "      <td>[Holland Partners]</td>\n",
       "      <td>[HOLLAND, CLYDE, HOLLAND, CLYDE P, HOLLAND, CL...</td>\n",
       "      <td>25,000.00</td>\n",
       "      <td>[Holland Partners]</td>\n",
       "      <td>[HOLLAND, CLYDE, HOLLAND, CLYDE P, HOLLAND, CL...</td>\n",
       "      <td>5,400.00</td>\n",
       "      <td>0.82</td>\n",
       "      <td>0.18</td>\n",
       "      <td>19,600.00</td>\n",
       "      <td>3.63</td>\n",
       "    </tr>\n",
       "    <tr>\n",
       "      <th>7</th>\n",
       "      <td>a0000027527</td>\n",
       "      <td>[Alcalde &amp; Fay, Camival Corp, Carnival Corp, C...</td>\n",
       "      <td>[ARISON, MADELEINE, ARISON, MADELEINE MRS, ARI...</td>\n",
       "      <td>25,000.00</td>\n",
       "      <td>[Alcalde &amp; Fay, Camival Corp, Carnival Corp, C...</td>\n",
       "      <td>[ARISON, MADELEINE, ARISON, MADELEINE MRS, ARI...</td>\n",
       "      <td>40,600.00</td>\n",
       "      <td>0.38</td>\n",
       "      <td>0.62</td>\n",
       "      <td>-15,600.00</td>\n",
       "      <td>-0.38</td>\n",
       "    </tr>\n",
       "  </tbody>\n",
       "</table>\n",
       "</div>"
      ],
      "text/plain": [
       "                                match_id  \\\n",
       "1            Entertainment Software Assn   \n",
       "2   Shakopee Mdewakanton Sioux Community   \n",
       "4                            U0000000386   \n",
       "10                           e1110767126   \n",
       "7                            a0000027527   \n",
       "\n",
       "                              organizations_post_bill  \\\n",
       "1                       [Entertainment Software Assn]   \n",
       "2              [Shakopee Mdewakanton Sioux Community]   \n",
       "4                                   [Avenue Ventures]   \n",
       "10                                 [Holland Partners]   \n",
       "7   [Alcalde & Fay, Camival Corp, Carnival Corp, C...   \n",
       "\n",
       "                               contributors_post_bill  total_post_bill  \\\n",
       "1                [ENTERTAINMENT SOFTWARE ASSOCIATION]       100,000.00   \n",
       "2   [MDEWAKANTON SIOUX COMMUNITY, SHAKOPEE,,,, SHA...        61,700.00   \n",
       "4                   [ZUBERI, IMAAD, ZUBERI, IMAAD MR]        47,100.00   \n",
       "10  [HOLLAND, CLYDE, HOLLAND, CLYDE P, HOLLAND, CL...        25,000.00   \n",
       "7   [ARISON, MADELEINE, ARISON, MADELEINE MRS, ARI...        25,000.00   \n",
       "\n",
       "                               organizations_pre_bill  \\\n",
       "1                       [Entertainment Software Assn]   \n",
       "2              [Shakopee Mdewakanton Sioux Community]   \n",
       "4                                   [Avenue Ventures]   \n",
       "10                                 [Holland Partners]   \n",
       "7   [Alcalde & Fay, Camival Corp, Carnival Corp, C...   \n",
       "\n",
       "                                contributors_pre_bill  total_pre_bill  \\\n",
       "1                [ENTERTAINMENT SOFTWARE ASSOCIATION]       50,000.00   \n",
       "2   [MDEWAKANTON SIOUX COMMUNITY, SHAKOPEE,,,, SHA...       93,700.00   \n",
       "4                   [ZUBERI, IMAAD, ZUBERI, IMAAD MR]       65,456.00   \n",
       "10  [HOLLAND, CLYDE, HOLLAND, CLYDE P, HOLLAND, CL...        5,400.00   \n",
       "7   [ARISON, MADELEINE, ARISON, MADELEINE MRS, ARI...       40,600.00   \n",
       "\n",
       "    pct_post_bill  pct_pre_bill     change  pct_change  \n",
       "1            0.67          0.33  50,000.00        1.00  \n",
       "2            0.40          0.60 -32,000.00       -0.34  \n",
       "4            0.42          0.58 -18,356.00       -0.28  \n",
       "10           0.82          0.18  19,600.00        3.63  \n",
       "7            0.38          0.62 -15,600.00       -0.38  "
      ]
     },
     "execution_count": 55,
     "metadata": {},
     "output_type": "execute_result"
    }
   ],
   "source": [
    "democratic_donors_17[\"pct_post_bill\"] = democratic_donors_17[\"total_post_bill\"] / (democratic_donors_17[\"total_pre_bill\"] + democratic_donors_17[\"total_post_bill\"])\n",
    "democratic_donors_17[\"pct_pre_bill\"] = democratic_donors_17[\"total_pre_bill\"] / (democratic_donors_17[\"total_pre_bill\"] + democratic_donors_17[\"total_post_bill\"])\n",
    "democratic_donors_17[\"change\"] = democratic_donors_17[\"total_post_bill\"] - democratic_donors_17[\"total_pre_bill\"]\n",
    "democratic_donors_17[\"pct_change\"] = (democratic_donors_17[\"total_post_bill\"] - democratic_donors_17[\"total_pre_bill\"]) / democratic_donors_17[\"total_pre_bill\"].abs()\n",
    "democratic_donors_17.sort_values(\"total_post_bill\", ascending=False).head()"
   ]
  },
  {
   "cell_type": "code",
   "execution_count": 56,
   "metadata": {},
   "outputs": [
    {
     "data": {
      "text/plain": [
       "31"
      ]
     },
     "execution_count": 56,
     "metadata": {},
     "output_type": "execute_result"
    }
   ],
   "source": [
    "democratic_donors_17[\"match_id\"].count()"
   ]
  },
  {
   "cell_type": "markdown",
   "metadata": {},
   "source": [
    "#### How much did they give?"
   ]
  },
  {
   "cell_type": "code",
   "execution_count": 57,
   "metadata": {},
   "outputs": [
    {
     "name": "stdout",
     "output_type": "stream",
     "text": [
      "31 donors gave a combined $1196591.0 to liberal-leaning and Democratic groups over the course of 2017. Of that amount, $877091.0 came before the bill was introduced and $319500.0 came after the bill was introduced.\n"
     ]
    }
   ],
   "source": [
    "print(str(democratic_donors_17[\"match_id\"].count()) + \" donors gave a combined $\" + str(democratic_donors_17[\"total_post_bill\"].sum() +\n",
    "                                                                                        democratic_donors_17[\"total_pre_bill\"].sum()) +\n",
    "      \" to liberal-leaning and Democratic groups over the course of 2017. Of that amount, $\" +\n",
    "      str(democratic_donors_17[\"total_pre_bill\"].sum()) + \" came before the bill was introduced and $\" +\n",
    "      str(democratic_donors_17[\"total_post_bill\"].sum()) + \" came after the bill was introduced.\")"
   ]
  },
  {
   "cell_type": "markdown",
   "metadata": {},
   "source": [
    "# What does this giving look like on a contribution-by-contribution level?"
   ]
  },
  {
   "cell_type": "code",
   "execution_count": 58,
   "metadata": {},
   "outputs": [],
   "source": [
    "def run_democratic_contributions_query(prefix, suffix, reference_cycle, reference_start, reference_end, cycle, start, end):\n",
    "    query = \"\"\"CREATE MATERIALIZED VIEW IF NOT EXISTS \"\"\" + prefix + \"\"\"_democratic_contributions_\"\"\" + suffix + \"\"\" AS\n",
    "    SELECT fectransid,\n",
    "    match_id,\n",
    "    organization,\n",
    "    contributor, date, sum(SUM),\n",
    "    cmte_id,\n",
    "    pacshort AS committee\n",
    "FROM\n",
    "  (SELECT fectransid,\n",
    "          match_id,\n",
    "          orgname AS organization,\n",
    "          contrib AS contributor, date, sum(amount),\n",
    "                                        cmteid AS cmte_id\n",
    "   FROM\n",
    "     (SELECT CASE\n",
    "                 WHEN trim(contribid) != '' THEN left(contribid, 11)\n",
    "                 ELSE orgname\n",
    "             END AS match_id\n",
    "      FROM crp_contributions\n",
    "      LEFT JOIN crp_committees ON crp_contributions.cmteid = crp_committees.cmteid\n",
    "      AND crp_committees.cycle = '\"\"\" + reference_cycle + \"\"\"'\n",
    "      WHERE primcode IN ('J1100',\n",
    "                         'J2200',\n",
    "                         'J2400',\n",
    "                         'Z1100',\n",
    "                         'Z4100',\n",
    "                         'Z4500',\n",
    "                         'Z5100')\n",
    "                            AND date >= '\"\"\" + reference_start + \"\"\"'\n",
    "                            AND date <= '\"\"\" + reference_end + \"\"\"'\n",
    "                            AND crp_contributions.cycle = '\"\"\" + reference_cycle + \"\"\"'\n",
    "        AND TYPE NOT IN ('11J',\n",
    "                         '15C',\n",
    "                         '15E',\n",
    "                         '15I',\n",
    "                         '15J',\n",
    "                         '15T',\n",
    "                         '18J',\n",
    "                         '19J',\n",
    "                         '30J',\n",
    "                         '30F',\n",
    "                         '31J',\n",
    "                         '31F',\n",
    "                         '32J',\n",
    "                         '32F')\n",
    "      GROUP BY match_id\n",
    "      HAVING sum(amount) >= 50000) AS gop_donors\n",
    "   JOIN crp_contributions ON CASE\n",
    "                                 WHEN trim(contribid) != '' THEN left(contribid, 11)\n",
    "                                 ELSE crp_contributions.orgname\n",
    "                             END = gop_donors.match_id\n",
    "                       WHERE date >= '\"\"\" + start + \"\"\"'\n",
    "                         AND date <= '\"\"\" + end + \"\"\"'\n",
    "                         AND CYCLE = '\"\"\" + cycle + \"\"\"'\n",
    "     AND TYPE NOT IN ('11J',\n",
    "                      '15C',\n",
    "                      '15E',\n",
    "                      '15I',\n",
    "                      '15J',\n",
    "                      '15T',\n",
    "                      '18J',\n",
    "                      '19J',\n",
    "                      '30J',\n",
    "                      '30F',\n",
    "                      '31J',\n",
    "                      '31F',\n",
    "                      '32J',\n",
    "                      '32F')\n",
    "   GROUP BY fectransid,\n",
    "            match_id,\n",
    "            organization,\n",
    "            contributor, date, cmte_id) AS donors_committees\n",
    "JOIN crp_committees ON donors_committees.cmte_id = crp_committees.cmteid\n",
    "                    AND crp_committees.CYCLE = '\"\"\" + cycle + \"\"\"'\n",
    "                    WHERE primcode IN ('J1200',\n",
    "                                       'J2100',\n",
    "                                       'J2300',\n",
    "                                       'Z1200',\n",
    "                                       'Z4200',\n",
    "                                       'Z5200',\n",
    "                                       'Z4400')\n",
    "GROUP BY fectransid,\n",
    "         match_id,\n",
    "         organization,\n",
    "         contributor, date, cmte_id,\n",
    "                            committee;\n",
    "                            SELECT *\n",
    "                            FROM \"\"\" + prefix + \"\"\"_democratic_contributions_\"\"\"+ suffix +\"\"\";\"\"\"\n",
    "    return pd.read_sql(query, con=conn)"
   ]
  },
  {
   "cell_type": "markdown",
   "metadata": {},
   "source": [
    "## Return the data for 2017."
   ]
  },
  {
   "cell_type": "code",
   "execution_count": 59,
   "metadata": {},
   "outputs": [],
   "source": [
    "post_bill_democratic_contributions_17 = run_democratic_contributions_query(\"post_bill\", \"17\", \"2018\", \"2017-11-02\", \"2017-12-31\", \"2018\", \"2017-11-02\", \"2017-12-31\")\n",
    "pre_bill_democratic_contributions_17 = run_democratic_contributions_query(\"pre_bill\", \"17\", \"2018\", \"2017-11-02\", \"2017-12-31\", \"2018\", \"2017-01-01\", \"2017-11-01\")"
   ]
  },
  {
   "cell_type": "markdown",
   "metadata": {},
   "source": [
    "## Return the donors who gave at least $50,000 to conservative and GOP-aligned groups between Feb. 2 and March 31, 2017, split by their giving inside and outside of that period. Do this for every off-year going back to the 2010 cycle."
   ]
  },
  {
   "cell_type": "code",
   "execution_count": 60,
   "metadata": {},
   "outputs": [],
   "source": [
    "def run_donors_query_1st_qtr(prefix, suffix, reference_cycle, reference_start, reference_end, cycle, start_one, end_one, start_two, end_two):\n",
    "    query = \"\"\"CREATE MATERIALIZED VIEW IF NOT EXISTS \"\"\"+prefix+\"\"\"_donors_committees_\"\"\"+suffix+\"\"\" AS\n",
    "                    SELECT match_id,\n",
    "                           organizations,\n",
    "                           contributors,\n",
    "                           sum(committee_total) AS total,\n",
    "                           cmte_id,\n",
    "                           pacshort AS committee\n",
    "                    FROM\n",
    "                      (SELECT match_id,\n",
    "                              organizations,\n",
    "                              contributors,\n",
    "                              sum(amount) AS committee_total,\n",
    "                              cmteid AS cmte_id\n",
    "                       FROM\n",
    "                         (SELECT CASE\n",
    "                                     WHEN trim(contribid) != '' THEN left(contribid, 11)\n",
    "                                     ELSE orgname\n",
    "                                 END AS match_id,\n",
    "                                 array_agg(DISTINCT orgname) AS organizations,\n",
    "                                 array_agg(DISTINCT contrib) AS contributors\n",
    "                          FROM crp_contributions\n",
    "                          LEFT JOIN crp_committees ON crp_contributions.cmteid = crp_committees.cmteid\n",
    "                          AND crp_committees.cycle = '\"\"\" + reference_cycle + \"\"\"'\n",
    "                          WHERE primcode IN ('J1100',\n",
    "                                             'J2200',\n",
    "                                             'J2400',\n",
    "                                             'Z1100',\n",
    "                                             'Z4100',\n",
    "                                             'Z4500',\n",
    "                                             'Z5100')\n",
    "                            AND date >= '\"\"\" + reference_start + \"\"\"'\n",
    "                            AND date <= '\"\"\" + reference_end + \"\"\"'\n",
    "                            AND crp_contributions.cycle = '\"\"\" + reference_cycle + \"\"\"'\n",
    "                            AND TYPE NOT IN ('11J',\n",
    "                                             '15C',\n",
    "                                             '15E',\n",
    "                                             '15I',\n",
    "                                             '15J',\n",
    "                                             '15T',\n",
    "                                             '18J',\n",
    "                                             '19J',\n",
    "                                             '30J',\n",
    "                                             '30F',\n",
    "                                             '31J',\n",
    "                                             '31F',\n",
    "                                             '32J',\n",
    "                                             '32F')\n",
    "                          GROUP BY match_id\n",
    "                          HAVING sum(amount) >= 50000) AS gop_donors\n",
    "                       JOIN crp_contributions ON CASE\n",
    "                                                     WHEN trim(contribid) != '' THEN left(contribid, 11)\n",
    "                                                     ELSE crp_contributions.orgname\n",
    "                                                 END = gop_donors.match_id\n",
    "                       WHERE date >= '\"\"\" + start_one + \"\"\"'\n",
    "                         AND date <= '\"\"\" + end_one + \"\"\"'\n",
    "                         or (date >= '\"\"\" + start_two + \"\"\"'\n",
    "                         and date <= '\"\"\" + end_two + \"\"\"')\n",
    "                         AND CYCLE = '\"\"\" + cycle + \"\"\"'\n",
    "                         AND TYPE NOT IN ('11J',\n",
    "                                          '15C',\n",
    "                                          '15E',\n",
    "                                          '15I',\n",
    "                                          '15J',\n",
    "                                          '15T',\n",
    "                                          '18J',\n",
    "                                          '19J',\n",
    "                                          '30J',\n",
    "                                          '30F',\n",
    "                                          '31J',\n",
    "                                          '31F',\n",
    "                                          '32J',\n",
    "                                          '32F')\n",
    "                       GROUP BY match_id,\n",
    "                                organizations,\n",
    "                                contributors,\n",
    "                                cmte_id) AS donors_committees\n",
    "                    JOIN crp_committees ON donors_committees.cmte_id = crp_committees.cmteid\n",
    "                    AND crp_committees.CYCLE = '\"\"\" + cycle + \"\"\"'\n",
    "                    WHERE primcode IN ('J1100',\n",
    "                                       'J2200',\n",
    "                                       'J2400',\n",
    "                                       'Z1100',\n",
    "                                       'Z4100',\n",
    "                                       'Z4500',\n",
    "                                       'Z5100')\n",
    "                    GROUP BY match_id,\n",
    "                             organizations,\n",
    "                             contributors,\n",
    "                             cmte_id,\n",
    "                             committee;\n",
    "\n",
    "                    SELECT *\n",
    "                    FROM \"\"\"+prefix+\"\"\"_donors_committees_\"\"\"+suffix+\"\"\";\n",
    "                    \"\"\"\n",
    "    return pd.read_sql(query, con=conn)"
   ]
  },
  {
   "cell_type": "markdown",
   "metadata": {},
   "source": [
    "## Return the data for each cycle."
   ]
  },
  {
   "cell_type": "code",
   "execution_count": 61,
   "metadata": {},
   "outputs": [],
   "source": [
    "inside_bill_donors_committees_17_1st_qtr = run_donors_query_1st_qtr(\"inside\", \"17_1st_quarter\", \"2018\", \"2017-02-02\", \"2017-03-31\", \"2018\", \"2017-02-02\", \"2017-03-31\", \"2017-02-02\", \"2017-03-31\")\n",
    "outside_bill_donors_committees_17_1st_qtr = run_donors_query_1st_qtr(\"outside\", \"17_1st_quarter\", \"2018\", \"2017-02-02\", \"2017-03-31\", \"2018\", \"2017-01-01\", \"2017-02-01\", \"2017-04-01\", \"2017-12-31\")"
   ]
  },
  {
   "cell_type": "code",
   "execution_count": 62,
   "metadata": {},
   "outputs": [],
   "source": [
    "inside_bill_donors_committees_15_1st_qtr = run_donors_query_1st_qtr(\"inside\", \"15_1st_quarter\", \"2018\", \"2017-02-02\", \"2017-03-31\", \"2016\", \"2015-02-02\", \"2015-03-31\", \"2015-02-02\", \"2015-03-31\")\n",
    "outside_bill_donors_committees_15_1st_qtr = run_donors_query_1st_qtr(\"outside\", \"15_1st_quarter\", \"2018\", \"2017-02-02\", \"2017-03-31\", \"2016\", \"2015-01-01\", \"2015-02-01\", \"2015-04-01\", \"2015-12-31\")"
   ]
  },
  {
   "cell_type": "code",
   "execution_count": 63,
   "metadata": {},
   "outputs": [],
   "source": [
    "inside_bill_donors_committees_13_1st_qtr = run_donors_query_1st_qtr(\"inside\", \"13_1st_quarter\", \"2018\", \"2017-02-02\", \"2017-03-31\", \"2014\", \"2013-02-02\", \"2013-03-31\", \"2013-02-02\", \"2013-03-31\")\n",
    "outside_bill_donors_committees_13_1st_qtr = run_donors_query_1st_qtr(\"outside\", \"13_1st_quarter\", \"2018\", \"2017-02-02\", \"2017-03-31\", \"2014\", \"2013-01-01\", \"2013-02-01\", \"2013-04-01\", \"2013-12-31\")"
   ]
  },
  {
   "cell_type": "code",
   "execution_count": 64,
   "metadata": {},
   "outputs": [],
   "source": [
    "inside_bill_donors_committees_11_1st_qtr = run_donors_query_1st_qtr(\"inside\", \"11_1st_quarter\", \"2018\", \"2017-02-02\", \"2017-03-31\", \"2012\", \"2011-02-02\", \"2011-03-31\", \"2011-02-02\", \"2011-03-31\")\n",
    "outside_bill_donors_committees_11_1st_qtr = run_donors_query_1st_qtr(\"outside\", \"11_1st_quarter\", \"2018\", \"2017-02-02\", \"2017-03-31\", \"2012\", \"2011-01-01\", \"2011-02-01\", \"2011-04-01\", \"2011-12-31\")"
   ]
  },
  {
   "cell_type": "code",
   "execution_count": 65,
   "metadata": {},
   "outputs": [],
   "source": [
    "inside_bill_donors_committees_09_1st_qtr = run_donors_query_1st_qtr(\"inside\", \"09_1st_quarter\", \"2018\", \"2017-02-02\", \"2017-03-31\", \"2010\", \"2009-02-02\", \"2009-03-31\", \"2009-02-02\", \"2009-03-31\")\n",
    "outside_bill_donors_committees_09_1st_qtr = run_donors_query_1st_qtr(\"outside\", \"09_1st_quarter\", \"2018\", \"2017-02-02\", \"2017-03-31\", \"2010\", \"2009-01-01\", \"2009-02-01\", \"2009-04-01\", \"2009-12-31\")"
   ]
  },
  {
   "cell_type": "markdown",
   "metadata": {},
   "source": [
    "## How much did each contributor give in each period for each cycle?"
   ]
  },
  {
   "cell_type": "markdown",
   "metadata": {},
   "source": [
    "### 2017"
   ]
  },
  {
   "cell_type": "code",
   "execution_count": 66,
   "metadata": {},
   "outputs": [],
   "source": [
    "inside_bill_donors_17_1st_qtr = inside_bill_donors_committees_17_1st_qtr.groupby([\"match_id\"]).agg({\"organizations\": max, \"contributors\": max, \"total\": sum}).reset_index()\n",
    "outside_bill_donors_17_1st_qtr = outside_bill_donors_committees_17_1st_qtr.groupby([\"match_id\"]).agg({\"organizations\": max, \"contributors\": max, \"total\": sum}).reset_index()"
   ]
  },
  {
   "cell_type": "code",
   "execution_count": 67,
   "metadata": {},
   "outputs": [
    {
     "name": "stdout",
     "output_type": "stream",
     "text": [
      "<class 'pandas.core.frame.DataFrame'>\n",
      "Int64Index: 269 entries, 0 to 268\n",
      "Data columns (total 5 columns):\n",
      "match_id              269 non-null object\n",
      "organizations         269 non-null object\n",
      "contributors          269 non-null object\n",
      "total_inside_bill     269 non-null float64\n",
      "total_outside_bill    269 non-null float64\n",
      "dtypes: float64(2), object(3)\n",
      "memory usage: 12.6+ KB\n"
     ]
    }
   ],
   "source": [
    "donors_17_1st_qtr = inside_bill_donors_17_1st_qtr.merge(outside_bill_donors_17_1st_qtr, how=\"outer\", on=\"match_id\", suffixes=[\"_inside_bill\", \"_outside_bill\"])\n",
    "donors_17_1st_qtr.drop([\"organizations_outside_bill\", \"contributors_outside_bill\"], axis=1, inplace=True)\n",
    "donors_17_1st_qtr.rename(columns={\"organizations_inside_bill\": \"organizations\", \"contributors_inside_bill\": \"contributors\"}, inplace=True)\n",
    "donors_17_1st_qtr[\"total_outside_bill\"].fillna(0, inplace=True)\n",
    "donors_17_1st_qtr.info()"
   ]
  },
  {
   "cell_type": "code",
   "execution_count": 68,
   "metadata": {},
   "outputs": [
    {
     "data": {
      "text/html": [
       "<div>\n",
       "<style scoped>\n",
       "    .dataframe tbody tr th:only-of-type {\n",
       "        vertical-align: middle;\n",
       "    }\n",
       "\n",
       "    .dataframe tbody tr th {\n",
       "        vertical-align: top;\n",
       "    }\n",
       "\n",
       "    .dataframe thead th {\n",
       "        text-align: right;\n",
       "    }\n",
       "</style>\n",
       "<table border=\"1\" class=\"dataframe\">\n",
       "  <thead>\n",
       "    <tr style=\"text-align: right;\">\n",
       "      <th></th>\n",
       "      <th>match_id</th>\n",
       "      <th>organizations</th>\n",
       "      <th>contributors</th>\n",
       "      <th>total_inside_bill</th>\n",
       "      <th>total_outside_bill</th>\n",
       "      <th>pct_inside_bill</th>\n",
       "      <th>pct_outside_bill</th>\n",
       "      <th>change</th>\n",
       "      <th>pct_change</th>\n",
       "    </tr>\n",
       "  </thead>\n",
       "  <tbody>\n",
       "    <tr>\n",
       "      <th>2</th>\n",
       "      <td>American Action Network</td>\n",
       "      <td>[American Action Network]</td>\n",
       "      <td>[AMERICAN ACTION NETWORK]</td>\n",
       "      <td>3,592,631.00</td>\n",
       "      <td>9,297,414.00</td>\n",
       "      <td>0.28</td>\n",
       "      <td>0.72</td>\n",
       "      <td>-5,704,783.00</td>\n",
       "      <td>-0.61</td>\n",
       "    </tr>\n",
       "    <tr>\n",
       "      <th>69</th>\n",
       "      <td>U0000003690</td>\n",
       "      <td>[Uline Inc]</td>\n",
       "      <td>[UIHLEIN, ELIZABETH, UIHLEIN, ELIZABETH A, UIH...</td>\n",
       "      <td>2,076,600.00</td>\n",
       "      <td>14,552,500.00</td>\n",
       "      <td>0.12</td>\n",
       "      <td>0.88</td>\n",
       "      <td>-12,475,900.00</td>\n",
       "      <td>-0.86</td>\n",
       "    </tr>\n",
       "    <tr>\n",
       "      <th>1</th>\n",
       "      <td>Ai Altep Holdings</td>\n",
       "      <td>[Ai Altep Holdings]</td>\n",
       "      <td>[AI ALTEP HOLDINGS INC]</td>\n",
       "      <td>1,000,000.00</td>\n",
       "      <td>0.00</td>\n",
       "      <td>1.00</td>\n",
       "      <td>0.00</td>\n",
       "      <td>1,000,000.00</td>\n",
       "      <td>inf</td>\n",
       "    </tr>\n",
       "    <tr>\n",
       "      <th>38</th>\n",
       "      <td>U0000003265</td>\n",
       "      <td>[Dimensional Fund Advisors, Show Me Institute]</td>\n",
       "      <td>[SINQUEFIELD, JEANNE C MRS, SINQUEFIELD, REX A]</td>\n",
       "      <td>968,600.00</td>\n",
       "      <td>99,800.00</td>\n",
       "      <td>0.91</td>\n",
       "      <td>0.09</td>\n",
       "      <td>868,800.00</td>\n",
       "      <td>8.71</td>\n",
       "    </tr>\n",
       "    <tr>\n",
       "      <th>4</th>\n",
       "      <td>Chevron Corp</td>\n",
       "      <td>[Chevron Corp]</td>\n",
       "      <td>[CHEVRON, CHEVRON POLICY GOVERNMENT &amp; PUBLIC A...</td>\n",
       "      <td>950,000.00</td>\n",
       "      <td>750,000.00</td>\n",
       "      <td>0.56</td>\n",
       "      <td>0.44</td>\n",
       "      <td>200,000.00</td>\n",
       "      <td>0.27</td>\n",
       "    </tr>\n",
       "  </tbody>\n",
       "</table>\n",
       "</div>"
      ],
      "text/plain": [
       "                   match_id                                   organizations  \\\n",
       "2   American Action Network                       [American Action Network]   \n",
       "69              U0000003690                                     [Uline Inc]   \n",
       "1         Ai Altep Holdings                             [Ai Altep Holdings]   \n",
       "38              U0000003265  [Dimensional Fund Advisors, Show Me Institute]   \n",
       "4              Chevron Corp                                  [Chevron Corp]   \n",
       "\n",
       "                                         contributors  total_inside_bill  \\\n",
       "2                           [AMERICAN ACTION NETWORK]       3,592,631.00   \n",
       "69  [UIHLEIN, ELIZABETH, UIHLEIN, ELIZABETH A, UIH...       2,076,600.00   \n",
       "1                             [AI ALTEP HOLDINGS INC]       1,000,000.00   \n",
       "38    [SINQUEFIELD, JEANNE C MRS, SINQUEFIELD, REX A]         968,600.00   \n",
       "4   [CHEVRON, CHEVRON POLICY GOVERNMENT & PUBLIC A...         950,000.00   \n",
       "\n",
       "    total_outside_bill  pct_inside_bill  pct_outside_bill         change  \\\n",
       "2         9,297,414.00             0.28              0.72  -5,704,783.00   \n",
       "69       14,552,500.00             0.12              0.88 -12,475,900.00   \n",
       "1                 0.00             1.00              0.00   1,000,000.00   \n",
       "38           99,800.00             0.91              0.09     868,800.00   \n",
       "4           750,000.00             0.56              0.44     200,000.00   \n",
       "\n",
       "    pct_change  \n",
       "2        -0.61  \n",
       "69       -0.86  \n",
       "1          inf  \n",
       "38        8.71  \n",
       "4         0.27  "
      ]
     },
     "execution_count": 68,
     "metadata": {},
     "output_type": "execute_result"
    }
   ],
   "source": [
    "donors_17_1st_qtr[\"pct_inside_bill\"] = donors_17_1st_qtr[\"total_inside_bill\"] / (donors_17_1st_qtr[\"total_outside_bill\"] + donors_17_1st_qtr[\"total_inside_bill\"])\n",
    "donors_17_1st_qtr[\"pct_outside_bill\"] = donors_17_1st_qtr[\"total_outside_bill\"] / (donors_17_1st_qtr[\"total_outside_bill\"] + donors_17_1st_qtr[\"total_inside_bill\"])\n",
    "donors_17_1st_qtr[\"change\"] = donors_17_1st_qtr[\"total_inside_bill\"] - donors_17_1st_qtr[\"total_outside_bill\"]\n",
    "donors_17_1st_qtr[\"pct_change\"] = (donors_17_1st_qtr[\"total_inside_bill\"] - donors_17_1st_qtr[\"total_outside_bill\"]) / donors_17_1st_qtr[\"total_outside_bill\"].abs()\n",
    "donors_17_1st_qtr.sort_values(\"total_inside_bill\", ascending=False).head()"
   ]
  },
  {
   "cell_type": "markdown",
   "metadata": {},
   "source": [
    "#### How much did they give?"
   ]
  },
  {
   "cell_type": "code",
   "execution_count": 69,
   "metadata": {},
   "outputs": [
    {
     "name": "stdout",
     "output_type": "stream",
     "text": [
      "2017 inside-bill 1st quarter total: $52662234.0\n",
      "2017 outside-bill 1st quarter total: $68899644.0\n"
     ]
    }
   ],
   "source": [
    "print(\"2017 inside-bill 1st quarter total: $\" + str(donors_17_1st_qtr[\"total_inside_bill\"].sum()))\n",
    "print(\"2017 outside-bill 1st quarter total: $\" + str(donors_17_1st_qtr[\"total_outside_bill\"].sum()))"
   ]
  },
  {
   "cell_type": "markdown",
   "metadata": {},
   "source": [
    "### 2015"
   ]
  },
  {
   "cell_type": "code",
   "execution_count": 70,
   "metadata": {},
   "outputs": [],
   "source": [
    "inside_bill_donors_15_1st_qtr = inside_bill_donors_committees_15_1st_qtr.groupby([\"match_id\"]).agg({\"organizations\": max, \"contributors\": max, \"total\": sum}).reset_index()\n",
    "outside_bill_donors_15_1st_qtr = outside_bill_donors_committees_15_1st_qtr.groupby([\"match_id\"]).agg({\"organizations\": max, \"contributors\": max, \"total\": sum}).reset_index()"
   ]
  },
  {
   "cell_type": "code",
   "execution_count": 71,
   "metadata": {},
   "outputs": [
    {
     "name": "stdout",
     "output_type": "stream",
     "text": [
      "<class 'pandas.core.frame.DataFrame'>\n",
      "Int64Index: 245 entries, 0 to 244\n",
      "Data columns (total 5 columns):\n",
      "match_id              245 non-null object\n",
      "organizations         192 non-null object\n",
      "contributors          192 non-null object\n",
      "total_inside_bill     192 non-null float64\n",
      "total_outside_bill    245 non-null float64\n",
      "dtypes: float64(2), object(3)\n",
      "memory usage: 11.5+ KB\n"
     ]
    }
   ],
   "source": [
    "donors_15_1st_qtr = inside_bill_donors_15_1st_qtr.merge(outside_bill_donors_15_1st_qtr, how=\"outer\", on=\"match_id\", suffixes=[\"_inside_bill\", \"_outside_bill\"])\n",
    "donors_15_1st_qtr.drop([\"organizations_outside_bill\", \"contributors_outside_bill\"], axis=1, inplace=True)\n",
    "donors_15_1st_qtr.rename(columns={\"organizations_inside_bill\": \"organizations\", \"contributors_inside_bill\": \"contributors\"}, inplace=True)\n",
    "donors_15_1st_qtr[\"total_outside_bill\"].fillna(0, inplace=True)\n",
    "donors_15_1st_qtr.info()"
   ]
  },
  {
   "cell_type": "code",
   "execution_count": 72,
   "metadata": {},
   "outputs": [
    {
     "data": {
      "text/html": [
       "<div>\n",
       "<style scoped>\n",
       "    .dataframe tbody tr th:only-of-type {\n",
       "        vertical-align: middle;\n",
       "    }\n",
       "\n",
       "    .dataframe tbody tr th {\n",
       "        vertical-align: top;\n",
       "    }\n",
       "\n",
       "    .dataframe thead th {\n",
       "        text-align: right;\n",
       "    }\n",
       "</style>\n",
       "<table border=\"1\" class=\"dataframe\">\n",
       "  <thead>\n",
       "    <tr style=\"text-align: right;\">\n",
       "      <th></th>\n",
       "      <th>match_id</th>\n",
       "      <th>organizations</th>\n",
       "      <th>contributors</th>\n",
       "      <th>total_inside_bill</th>\n",
       "      <th>total_outside_bill</th>\n",
       "      <th>pct_inside_bill</th>\n",
       "      <th>pct_outside_bill</th>\n",
       "      <th>change</th>\n",
       "      <th>pct_change</th>\n",
       "    </tr>\n",
       "  </thead>\n",
       "  <tbody>\n",
       "    <tr>\n",
       "      <th>17</th>\n",
       "      <td>U0000002708</td>\n",
       "      <td>[Mountaire Corp]</td>\n",
       "      <td>[CAMERON, RONALD, CAMERON, RONALD M MR]</td>\n",
       "      <td>3,012,700.00</td>\n",
       "      <td>191,500.00</td>\n",
       "      <td>0.94</td>\n",
       "      <td>0.06</td>\n",
       "      <td>2,821,200.00</td>\n",
       "      <td>14.73</td>\n",
       "    </tr>\n",
       "    <tr>\n",
       "      <th>68</th>\n",
       "      <td>U0000004014</td>\n",
       "      <td>[MBF Healthcare Partners, Mindful Kids Miami]</td>\n",
       "      <td>[FERNANDEZ, CONSTANCE, FERNANDEZ, CONSTANCE M,...</td>\n",
       "      <td>1,075,520.00</td>\n",
       "      <td>2,402,100.00</td>\n",
       "      <td>0.31</td>\n",
       "      <td>0.69</td>\n",
       "      <td>-1,326,580.00</td>\n",
       "      <td>-0.55</td>\n",
       "    </tr>\n",
       "    <tr>\n",
       "      <th>53</th>\n",
       "      <td>U0000003658</td>\n",
       "      <td>[Franklin Resources, Psychiatrist]</td>\n",
       "      <td>[JOHNSON, ANN L, JOHNSON, CHARLES, JOHNSON, CH...</td>\n",
       "      <td>1,029,600.00</td>\n",
       "      <td>663,900.00</td>\n",
       "      <td>0.61</td>\n",
       "      <td>0.39</td>\n",
       "      <td>365,700.00</td>\n",
       "      <td>0.55</td>\n",
       "    </tr>\n",
       "    <tr>\n",
       "      <th>2</th>\n",
       "      <td>NextEra Energy</td>\n",
       "      <td>[NextEra Energy]</td>\n",
       "      <td>[NEXTERA ENERGY]</td>\n",
       "      <td>1,025,000.00</td>\n",
       "      <td>250,000.00</td>\n",
       "      <td>0.80</td>\n",
       "      <td>0.20</td>\n",
       "      <td>775,000.00</td>\n",
       "      <td>3.10</td>\n",
       "    </tr>\n",
       "    <tr>\n",
       "      <th>55</th>\n",
       "      <td>U0000003682</td>\n",
       "      <td>[Renaissance Technologies]</td>\n",
       "      <td>[MERCER, DIANA L MRS, MERCER, DIANA L MS, MERC...</td>\n",
       "      <td>754,600.00</td>\n",
       "      <td>14,323,000.00</td>\n",
       "      <td>0.05</td>\n",
       "      <td>0.95</td>\n",
       "      <td>-13,568,400.00</td>\n",
       "      <td>-0.95</td>\n",
       "    </tr>\n",
       "  </tbody>\n",
       "</table>\n",
       "</div>"
      ],
      "text/plain": [
       "          match_id                                  organizations  \\\n",
       "17     U0000002708                               [Mountaire Corp]   \n",
       "68     U0000004014  [MBF Healthcare Partners, Mindful Kids Miami]   \n",
       "53     U0000003658             [Franklin Resources, Psychiatrist]   \n",
       "2   NextEra Energy                               [NextEra Energy]   \n",
       "55     U0000003682                     [Renaissance Technologies]   \n",
       "\n",
       "                                         contributors  total_inside_bill  \\\n",
       "17            [CAMERON, RONALD, CAMERON, RONALD M MR]       3,012,700.00   \n",
       "68  [FERNANDEZ, CONSTANCE, FERNANDEZ, CONSTANCE M,...       1,075,520.00   \n",
       "53  [JOHNSON, ANN L, JOHNSON, CHARLES, JOHNSON, CH...       1,029,600.00   \n",
       "2                                    [NEXTERA ENERGY]       1,025,000.00   \n",
       "55  [MERCER, DIANA L MRS, MERCER, DIANA L MS, MERC...         754,600.00   \n",
       "\n",
       "    total_outside_bill  pct_inside_bill  pct_outside_bill         change  \\\n",
       "17          191,500.00             0.94              0.06   2,821,200.00   \n",
       "68        2,402,100.00             0.31              0.69  -1,326,580.00   \n",
       "53          663,900.00             0.61              0.39     365,700.00   \n",
       "2           250,000.00             0.80              0.20     775,000.00   \n",
       "55       14,323,000.00             0.05              0.95 -13,568,400.00   \n",
       "\n",
       "    pct_change  \n",
       "17       14.73  \n",
       "68       -0.55  \n",
       "53        0.55  \n",
       "2         3.10  \n",
       "55       -0.95  "
      ]
     },
     "execution_count": 72,
     "metadata": {},
     "output_type": "execute_result"
    }
   ],
   "source": [
    "donors_15_1st_qtr[\"pct_inside_bill\"] = donors_15_1st_qtr[\"total_inside_bill\"] / (donors_15_1st_qtr[\"total_outside_bill\"] + donors_15_1st_qtr[\"total_inside_bill\"])\n",
    "donors_15_1st_qtr[\"pct_outside_bill\"] = donors_15_1st_qtr[\"total_outside_bill\"] / (donors_15_1st_qtr[\"total_outside_bill\"] + donors_15_1st_qtr[\"total_inside_bill\"])\n",
    "donors_15_1st_qtr[\"change\"] = donors_15_1st_qtr[\"total_inside_bill\"] - donors_15_1st_qtr[\"total_outside_bill\"]\n",
    "donors_15_1st_qtr[\"pct_change\"] = (donors_15_1st_qtr[\"total_inside_bill\"] - donors_15_1st_qtr[\"total_outside_bill\"]) / donors_15_1st_qtr[\"total_outside_bill\"].abs()\n",
    "donors_15_1st_qtr.sort_values(\"total_inside_bill\", ascending=False).head()"
   ]
  },
  {
   "cell_type": "markdown",
   "metadata": {},
   "source": [
    "#### How much did they give?"
   ]
  },
  {
   "cell_type": "code",
   "execution_count": 73,
   "metadata": {},
   "outputs": [
    {
     "name": "stdout",
     "output_type": "stream",
     "text": [
      "2015 inside-bill 1st quarter total: $20592227.0\n",
      "2015 outside-bill 1st quarter total: $103676230.0\n"
     ]
    }
   ],
   "source": [
    "print(\"2015 inside-bill 1st quarter total: $\" + str(donors_15_1st_qtr[\"total_inside_bill\"].sum()))\n",
    "print(\"2015 outside-bill 1st quarter total: $\" + str(donors_15_1st_qtr[\"total_outside_bill\"].sum()))"
   ]
  },
  {
   "cell_type": "markdown",
   "metadata": {},
   "source": [
    "### 2013"
   ]
  },
  {
   "cell_type": "code",
   "execution_count": 74,
   "metadata": {},
   "outputs": [],
   "source": [
    "inside_bill_donors_13_1st_qtr = inside_bill_donors_committees_13_1st_qtr.groupby([\"match_id\"]).agg({\"organizations\": max, \"contributors\": max, \"total\": sum}).reset_index()\n",
    "outside_bill_donors_13_1st_qtr = outside_bill_donors_committees_13_1st_qtr.groupby([\"match_id\"]).agg({\"organizations\": max, \"contributors\": max, \"total\": sum}).reset_index()"
   ]
  },
  {
   "cell_type": "code",
   "execution_count": 75,
   "metadata": {},
   "outputs": [
    {
     "name": "stdout",
     "output_type": "stream",
     "text": [
      "<class 'pandas.core.frame.DataFrame'>\n",
      "Int64Index: 214 entries, 0 to 213\n",
      "Data columns (total 5 columns):\n",
      "match_id              214 non-null object\n",
      "organizations         131 non-null object\n",
      "contributors          131 non-null object\n",
      "total_inside_bill     131 non-null float64\n",
      "total_outside_bill    214 non-null float64\n",
      "dtypes: float64(2), object(3)\n",
      "memory usage: 10.0+ KB\n"
     ]
    }
   ],
   "source": [
    "donors_13_1st_qtr = inside_bill_donors_13_1st_qtr.merge(outside_bill_donors_13_1st_qtr, how=\"outer\", on=\"match_id\", suffixes=[\"_inside_bill\", \"_outside_bill\"])\n",
    "donors_13_1st_qtr.drop([\"organizations_outside_bill\", \"contributors_outside_bill\"], axis=1, inplace=True)\n",
    "donors_13_1st_qtr.rename(columns={\"organizations_inside_bill\": \"organizations\", \"contributors_inside_bill\": \"contributors\"}, inplace=True)\n",
    "donors_13_1st_qtr[\"total_outside_bill\"].fillna(0, inplace=True)\n",
    "donors_13_1st_qtr.info()"
   ]
  },
  {
   "cell_type": "code",
   "execution_count": 76,
   "metadata": {},
   "outputs": [
    {
     "data": {
      "text/html": [
       "<div>\n",
       "<style scoped>\n",
       "    .dataframe tbody tr th:only-of-type {\n",
       "        vertical-align: middle;\n",
       "    }\n",
       "\n",
       "    .dataframe tbody tr th {\n",
       "        vertical-align: top;\n",
       "    }\n",
       "\n",
       "    .dataframe thead th {\n",
       "        text-align: right;\n",
       "    }\n",
       "</style>\n",
       "<table border=\"1\" class=\"dataframe\">\n",
       "  <thead>\n",
       "    <tr style=\"text-align: right;\">\n",
       "      <th></th>\n",
       "      <th>match_id</th>\n",
       "      <th>organizations</th>\n",
       "      <th>contributors</th>\n",
       "      <th>total_inside_bill</th>\n",
       "      <th>total_outside_bill</th>\n",
       "      <th>pct_inside_bill</th>\n",
       "      <th>pct_outside_bill</th>\n",
       "      <th>change</th>\n",
       "      <th>pct_change</th>\n",
       "    </tr>\n",
       "  </thead>\n",
       "  <tbody>\n",
       "    <tr>\n",
       "      <th>60</th>\n",
       "      <td>U0000004145</td>\n",
       "      <td>[Tommar LLC]</td>\n",
       "      <td>[LARKIN JR, THOMAS E, LARKIN, MARGARET, LARKIN...</td>\n",
       "      <td>210,400.00</td>\n",
       "      <td>40,600.00</td>\n",
       "      <td>0.84</td>\n",
       "      <td>0.16</td>\n",
       "      <td>169,800.00</td>\n",
       "      <td>4.18</td>\n",
       "    </tr>\n",
       "    <tr>\n",
       "      <th>45</th>\n",
       "      <td>U0000003690</td>\n",
       "      <td>[Uline Inc]</td>\n",
       "      <td>[UIHLEIN, ELIZABETH, UIHLEIN, ELIZABETH A, UIH...</td>\n",
       "      <td>203,700.00</td>\n",
       "      <td>590,850.00</td>\n",
       "      <td>0.26</td>\n",
       "      <td>0.74</td>\n",
       "      <td>-387,150.00</td>\n",
       "      <td>-0.66</td>\n",
       "    </tr>\n",
       "    <tr>\n",
       "      <th>32</th>\n",
       "      <td>U0000003558</td>\n",
       "      <td>[Satter Investment Management]</td>\n",
       "      <td>[SATTER, MUNEER A]</td>\n",
       "      <td>175,200.00</td>\n",
       "      <td>187,800.00</td>\n",
       "      <td>0.48</td>\n",
       "      <td>0.52</td>\n",
       "      <td>-12,600.00</td>\n",
       "      <td>-0.07</td>\n",
       "    </tr>\n",
       "    <tr>\n",
       "      <th>63</th>\n",
       "      <td>U0000004227</td>\n",
       "      <td>[Kinder Foundation, Kinder Morgan Inc]</td>\n",
       "      <td>[KINDER, NANCY G, KINDER, NANCY G MR, KINDER, ...</td>\n",
       "      <td>165,900.00</td>\n",
       "      <td>10,000.00</td>\n",
       "      <td>0.94</td>\n",
       "      <td>0.06</td>\n",
       "      <td>155,900.00</td>\n",
       "      <td>15.59</td>\n",
       "    </tr>\n",
       "    <tr>\n",
       "      <th>43</th>\n",
       "      <td>U0000003658</td>\n",
       "      <td>[Franklin Resources, Psychiatrist]</td>\n",
       "      <td>[JOHNSON, ANN L, JOHNSON, CHARLES, JOHNSON, CH...</td>\n",
       "      <td>155,200.00</td>\n",
       "      <td>11,066.00</td>\n",
       "      <td>0.93</td>\n",
       "      <td>0.07</td>\n",
       "      <td>144,134.00</td>\n",
       "      <td>13.02</td>\n",
       "    </tr>\n",
       "  </tbody>\n",
       "</table>\n",
       "</div>"
      ],
      "text/plain": [
       "       match_id                           organizations  \\\n",
       "60  U0000004145                            [Tommar LLC]   \n",
       "45  U0000003690                             [Uline Inc]   \n",
       "32  U0000003558          [Satter Investment Management]   \n",
       "63  U0000004227  [Kinder Foundation, Kinder Morgan Inc]   \n",
       "43  U0000003658      [Franklin Resources, Psychiatrist]   \n",
       "\n",
       "                                         contributors  total_inside_bill  \\\n",
       "60  [LARKIN JR, THOMAS E, LARKIN, MARGARET, LARKIN...         210,400.00   \n",
       "45  [UIHLEIN, ELIZABETH, UIHLEIN, ELIZABETH A, UIH...         203,700.00   \n",
       "32                                 [SATTER, MUNEER A]         175,200.00   \n",
       "63  [KINDER, NANCY G, KINDER, NANCY G MR, KINDER, ...         165,900.00   \n",
       "43  [JOHNSON, ANN L, JOHNSON, CHARLES, JOHNSON, CH...         155,200.00   \n",
       "\n",
       "    total_outside_bill  pct_inside_bill  pct_outside_bill      change  \\\n",
       "60           40,600.00             0.84              0.16  169,800.00   \n",
       "45          590,850.00             0.26              0.74 -387,150.00   \n",
       "32          187,800.00             0.48              0.52  -12,600.00   \n",
       "63           10,000.00             0.94              0.06  155,900.00   \n",
       "43           11,066.00             0.93              0.07  144,134.00   \n",
       "\n",
       "    pct_change  \n",
       "60        4.18  \n",
       "45       -0.66  \n",
       "32       -0.07  \n",
       "63       15.59  \n",
       "43       13.02  "
      ]
     },
     "execution_count": 76,
     "metadata": {},
     "output_type": "execute_result"
    }
   ],
   "source": [
    "donors_13_1st_qtr[\"pct_inside_bill\"] = donors_13_1st_qtr[\"total_inside_bill\"] / (donors_13_1st_qtr[\"total_outside_bill\"] + donors_13_1st_qtr[\"total_inside_bill\"])\n",
    "donors_13_1st_qtr[\"pct_outside_bill\"] = donors_13_1st_qtr[\"total_outside_bill\"] / (donors_13_1st_qtr[\"total_outside_bill\"] + donors_13_1st_qtr[\"total_inside_bill\"])\n",
    "donors_13_1st_qtr[\"change\"] = donors_13_1st_qtr[\"total_inside_bill\"] - donors_13_1st_qtr[\"total_outside_bill\"]\n",
    "donors_13_1st_qtr[\"pct_change\"] = (donors_13_1st_qtr[\"total_inside_bill\"] - donors_13_1st_qtr[\"total_outside_bill\"]) / donors_13_1st_qtr[\"total_outside_bill\"].abs()\n",
    "donors_13_1st_qtr.sort_values(\"total_inside_bill\", ascending=False).head()"
   ]
  },
  {
   "cell_type": "markdown",
   "metadata": {},
   "source": [
    "#### How much did they give?"
   ]
  },
  {
   "cell_type": "code",
   "execution_count": 77,
   "metadata": {},
   "outputs": [
    {
     "name": "stdout",
     "output_type": "stream",
     "text": [
      "2013 inside-bill 1st quarter total: $4389003.0\n",
      "2013 outside-bill 1st quarter total: $16110304.0\n"
     ]
    }
   ],
   "source": [
    "print(\"2013 inside-bill 1st quarter total: $\" + str(donors_13_1st_qtr[\"total_inside_bill\"].sum()))\n",
    "print(\"2013 outside-bill 1st quarter total: $\" + str(donors_13_1st_qtr[\"total_outside_bill\"].sum()))"
   ]
  },
  {
   "cell_type": "markdown",
   "metadata": {},
   "source": [
    "### 2011"
   ]
  },
  {
   "cell_type": "code",
   "execution_count": 78,
   "metadata": {},
   "outputs": [],
   "source": [
    "inside_bill_donors_11_1st_qtr = inside_bill_donors_committees_11_1st_qtr.groupby([\"match_id\"]).agg({\"organizations\": max, \"contributors\": max, \"total\": sum}).reset_index()\n",
    "outside_bill_donors_11_1st_qtr = outside_bill_donors_committees_11_1st_qtr.groupby([\"match_id\"]).agg({\"organizations\": max, \"contributors\": max, \"total\": sum}).reset_index()"
   ]
  },
  {
   "cell_type": "code",
   "execution_count": 79,
   "metadata": {},
   "outputs": [
    {
     "name": "stdout",
     "output_type": "stream",
     "text": [
      "<class 'pandas.core.frame.DataFrame'>\n",
      "Int64Index: 217 entries, 0 to 216\n",
      "Data columns (total 5 columns):\n",
      "match_id              217 non-null object\n",
      "organizations         130 non-null object\n",
      "contributors          130 non-null object\n",
      "total_inside_bill     130 non-null float64\n",
      "total_outside_bill    217 non-null float64\n",
      "dtypes: float64(2), object(3)\n",
      "memory usage: 10.2+ KB\n"
     ]
    }
   ],
   "source": [
    "donors_11_1st_qtr = inside_bill_donors_11_1st_qtr.merge(outside_bill_donors_11_1st_qtr, how=\"outer\", on=\"match_id\", suffixes=[\"_inside_bill\", \"_outside_bill\"])\n",
    "donors_11_1st_qtr.drop([\"organizations_outside_bill\", \"contributors_outside_bill\"], axis=1, inplace=True)\n",
    "donors_11_1st_qtr.rename(columns={\"organizations_inside_bill\": \"organizations\", \"contributors_inside_bill\": \"contributors\"}, inplace=True)\n",
    "donors_11_1st_qtr[\"total_outside_bill\"].fillna(0, inplace=True)\n",
    "donors_11_1st_qtr.info()"
   ]
  },
  {
   "cell_type": "code",
   "execution_count": 80,
   "metadata": {},
   "outputs": [
    {
     "data": {
      "text/html": [
       "<div>\n",
       "<style scoped>\n",
       "    .dataframe tbody tr th:only-of-type {\n",
       "        vertical-align: middle;\n",
       "    }\n",
       "\n",
       "    .dataframe tbody tr th {\n",
       "        vertical-align: top;\n",
       "    }\n",
       "\n",
       "    .dataframe thead th {\n",
       "        text-align: right;\n",
       "    }\n",
       "</style>\n",
       "<table border=\"1\" class=\"dataframe\">\n",
       "  <thead>\n",
       "    <tr style=\"text-align: right;\">\n",
       "      <th></th>\n",
       "      <th>match_id</th>\n",
       "      <th>organizations</th>\n",
       "      <th>contributors</th>\n",
       "      <th>total_inside_bill</th>\n",
       "      <th>total_outside_bill</th>\n",
       "      <th>pct_inside_bill</th>\n",
       "      <th>pct_outside_bill</th>\n",
       "      <th>change</th>\n",
       "      <th>pct_change</th>\n",
       "    </tr>\n",
       "  </thead>\n",
       "  <tbody>\n",
       "    <tr>\n",
       "      <th>54</th>\n",
       "      <td>U0000003932</td>\n",
       "      <td>[[24I Contribution], Research Affiliates LLC]</td>\n",
       "      <td>[ARNOTT, ROBERT D, ARNOTT, ROBERT D MR]</td>\n",
       "      <td>267,600.00</td>\n",
       "      <td>312,500.00</td>\n",
       "      <td>0.46</td>\n",
       "      <td>0.54</td>\n",
       "      <td>-44,900.00</td>\n",
       "      <td>-0.14</td>\n",
       "    </tr>\n",
       "    <tr>\n",
       "      <th>34</th>\n",
       "      <td>U0000003558</td>\n",
       "      <td>[Satter Investment Management]</td>\n",
       "      <td>[SATTER, MUNEER A]</td>\n",
       "      <td>150,000.00</td>\n",
       "      <td>289,000.00</td>\n",
       "      <td>0.34</td>\n",
       "      <td>0.66</td>\n",
       "      <td>-139,000.00</td>\n",
       "      <td>-0.48</td>\n",
       "    </tr>\n",
       "    <tr>\n",
       "      <th>38</th>\n",
       "      <td>U0000003614</td>\n",
       "      <td>[PVS Chemicals]</td>\n",
       "      <td>[NICHOLSON, JAMES B]</td>\n",
       "      <td>117,000.00</td>\n",
       "      <td>69,000.00</td>\n",
       "      <td>0.63</td>\n",
       "      <td>0.37</td>\n",
       "      <td>48,000.00</td>\n",
       "      <td>0.70</td>\n",
       "    </tr>\n",
       "    <tr>\n",
       "      <th>39</th>\n",
       "      <td>U0000003616</td>\n",
       "      <td>[Centra Inc]</td>\n",
       "      <td>[MOROUN, MATTHEW, MOROUN, MATTHEW T MR]</td>\n",
       "      <td>92,600.00</td>\n",
       "      <td>71,300.00</td>\n",
       "      <td>0.56</td>\n",
       "      <td>0.44</td>\n",
       "      <td>21,300.00</td>\n",
       "      <td>0.30</td>\n",
       "    </tr>\n",
       "    <tr>\n",
       "      <th>17</th>\n",
       "      <td>U0000003246</td>\n",
       "      <td>[Jim Click Automotive]</td>\n",
       "      <td>[CLICK, JIM, CLICK, JIM JR, CLICK, VICKI, CLIC...</td>\n",
       "      <td>74,100.00</td>\n",
       "      <td>93,300.00</td>\n",
       "      <td>0.44</td>\n",
       "      <td>0.56</td>\n",
       "      <td>-19,200.00</td>\n",
       "      <td>-0.21</td>\n",
       "    </tr>\n",
       "  </tbody>\n",
       "</table>\n",
       "</div>"
      ],
      "text/plain": [
       "       match_id                                  organizations  \\\n",
       "54  U0000003932  [[24I Contribution], Research Affiliates LLC]   \n",
       "34  U0000003558                 [Satter Investment Management]   \n",
       "38  U0000003614                                [PVS Chemicals]   \n",
       "39  U0000003616                                   [Centra Inc]   \n",
       "17  U0000003246                         [Jim Click Automotive]   \n",
       "\n",
       "                                         contributors  total_inside_bill  \\\n",
       "54            [ARNOTT, ROBERT D, ARNOTT, ROBERT D MR]         267,600.00   \n",
       "34                                 [SATTER, MUNEER A]         150,000.00   \n",
       "38                               [NICHOLSON, JAMES B]         117,000.00   \n",
       "39            [MOROUN, MATTHEW, MOROUN, MATTHEW T MR]          92,600.00   \n",
       "17  [CLICK, JIM, CLICK, JIM JR, CLICK, VICKI, CLIC...          74,100.00   \n",
       "\n",
       "    total_outside_bill  pct_inside_bill  pct_outside_bill      change  \\\n",
       "54          312,500.00             0.46              0.54  -44,900.00   \n",
       "34          289,000.00             0.34              0.66 -139,000.00   \n",
       "38           69,000.00             0.63              0.37   48,000.00   \n",
       "39           71,300.00             0.56              0.44   21,300.00   \n",
       "17           93,300.00             0.44              0.56  -19,200.00   \n",
       "\n",
       "    pct_change  \n",
       "54       -0.14  \n",
       "34       -0.48  \n",
       "38        0.70  \n",
       "39        0.30  \n",
       "17       -0.21  "
      ]
     },
     "execution_count": 80,
     "metadata": {},
     "output_type": "execute_result"
    }
   ],
   "source": [
    "donors_11_1st_qtr[\"pct_inside_bill\"] = donors_11_1st_qtr[\"total_inside_bill\"] / (donors_11_1st_qtr[\"total_outside_bill\"] + donors_11_1st_qtr[\"total_inside_bill\"])\n",
    "donors_11_1st_qtr[\"pct_outside_bill\"] = donors_11_1st_qtr[\"total_outside_bill\"] / (donors_11_1st_qtr[\"total_outside_bill\"] + donors_11_1st_qtr[\"total_inside_bill\"])\n",
    "donors_11_1st_qtr[\"change\"] = donors_11_1st_qtr[\"total_inside_bill\"] - donors_11_1st_qtr[\"total_outside_bill\"]\n",
    "donors_11_1st_qtr[\"pct_change\"] = (donors_11_1st_qtr[\"total_inside_bill\"] - donors_11_1st_qtr[\"total_outside_bill\"]) / donors_11_1st_qtr[\"total_outside_bill\"].abs()\n",
    "donors_11_1st_qtr.sort_values(\"total_inside_bill\", ascending=False).head()"
   ]
  },
  {
   "cell_type": "markdown",
   "metadata": {},
   "source": [
    "#### How much did they give?"
   ]
  },
  {
   "cell_type": "code",
   "execution_count": 81,
   "metadata": {},
   "outputs": [
    {
     "name": "stdout",
     "output_type": "stream",
     "text": [
      "2011 inside-bill 1st quarter total: $3032290.0\n",
      "2011 outside-bill 1st quarter total: $18837562.0\n"
     ]
    }
   ],
   "source": [
    "print(\"2011 inside-bill 1st quarter total: $\" + str(donors_11_1st_qtr[\"total_inside_bill\"].sum()))\n",
    "print(\"2011 outside-bill 1st quarter total: $\" + str(donors_11_1st_qtr[\"total_outside_bill\"].sum()))"
   ]
  },
  {
   "cell_type": "markdown",
   "metadata": {},
   "source": [
    "### 2009"
   ]
  },
  {
   "cell_type": "code",
   "execution_count": 82,
   "metadata": {},
   "outputs": [],
   "source": [
    "inside_bill_donors_09_1st_qtr = inside_bill_donors_committees_09_1st_qtr.groupby([\"match_id\"]).agg({\"organizations\": max, \"contributors\": max, \"total\": sum}).reset_index()\n",
    "outside_bill_donors_09_1st_qtr = outside_bill_donors_committees_09_1st_qtr.groupby([\"match_id\"]).agg({\"organizations\": max, \"contributors\": max, \"total\": sum}).reset_index()"
   ]
  },
  {
   "cell_type": "code",
   "execution_count": 83,
   "metadata": {},
   "outputs": [
    {
     "name": "stdout",
     "output_type": "stream",
     "text": [
      "<class 'pandas.core.frame.DataFrame'>\n",
      "Int64Index: 181 entries, 0 to 180\n",
      "Data columns (total 5 columns):\n",
      "match_id              181 non-null object\n",
      "organizations         107 non-null object\n",
      "contributors          107 non-null object\n",
      "total_inside_bill     107 non-null float64\n",
      "total_outside_bill    181 non-null float64\n",
      "dtypes: float64(2), object(3)\n",
      "memory usage: 8.5+ KB\n"
     ]
    }
   ],
   "source": [
    "donors_09_1st_qtr = inside_bill_donors_09_1st_qtr.merge(outside_bill_donors_09_1st_qtr, how=\"outer\", on=\"match_id\", suffixes=[\"_inside_bill\", \"_outside_bill\"])\n",
    "donors_09_1st_qtr.drop([\"organizations_outside_bill\", \"contributors_outside_bill\"], axis=1, inplace=True)\n",
    "donors_09_1st_qtr.rename(columns={\"organizations_inside_bill\": \"organizations\", \"contributors_inside_bill\": \"contributors\"}, inplace=True)\n",
    "donors_09_1st_qtr[\"total_outside_bill\"].fillna(0, inplace=True)\n",
    "donors_09_1st_qtr.info()"
   ]
  },
  {
   "cell_type": "code",
   "execution_count": 84,
   "metadata": {},
   "outputs": [
    {
     "data": {
      "text/html": [
       "<div>\n",
       "<style scoped>\n",
       "    .dataframe tbody tr th:only-of-type {\n",
       "        vertical-align: middle;\n",
       "    }\n",
       "\n",
       "    .dataframe tbody tr th {\n",
       "        vertical-align: top;\n",
       "    }\n",
       "\n",
       "    .dataframe thead th {\n",
       "        text-align: right;\n",
       "    }\n",
       "</style>\n",
       "<table border=\"1\" class=\"dataframe\">\n",
       "  <thead>\n",
       "    <tr style=\"text-align: right;\">\n",
       "      <th></th>\n",
       "      <th>match_id</th>\n",
       "      <th>organizations</th>\n",
       "      <th>contributors</th>\n",
       "      <th>total_inside_bill</th>\n",
       "      <th>total_outside_bill</th>\n",
       "      <th>pct_inside_bill</th>\n",
       "      <th>pct_outside_bill</th>\n",
       "      <th>change</th>\n",
       "      <th>pct_change</th>\n",
       "    </tr>\n",
       "  </thead>\n",
       "  <tbody>\n",
       "    <tr>\n",
       "      <th>22</th>\n",
       "      <td>U0000003295</td>\n",
       "      <td>[[24T Contribution], Richard &amp; Barbara Gaby Fo...</td>\n",
       "      <td>[GABY, BARBARA, GABY, RICHARD, GABY, RICHARD D...</td>\n",
       "      <td>90,000.00</td>\n",
       "      <td>62,800.00</td>\n",
       "      <td>0.59</td>\n",
       "      <td>0.41</td>\n",
       "      <td>27,200.00</td>\n",
       "      <td>0.43</td>\n",
       "    </tr>\n",
       "    <tr>\n",
       "      <th>7</th>\n",
       "      <td>U0000000280</td>\n",
       "      <td>[Crow Holdings]</td>\n",
       "      <td>[CROW, HARLAN, CROW, HARLAN MR, CROW, HARLAN R...</td>\n",
       "      <td>80,600.00</td>\n",
       "      <td>176,800.00</td>\n",
       "      <td>0.31</td>\n",
       "      <td>0.69</td>\n",
       "      <td>-96,200.00</td>\n",
       "      <td>-0.54</td>\n",
       "    </tr>\n",
       "    <tr>\n",
       "      <th>16</th>\n",
       "      <td>U0000003246</td>\n",
       "      <td>[Jim Click Automotive]</td>\n",
       "      <td>[CLICK, JIM, CLICK, JIM JR, CLICK, VICKI, CLIC...</td>\n",
       "      <td>65,800.00</td>\n",
       "      <td>19,400.00</td>\n",
       "      <td>0.77</td>\n",
       "      <td>0.23</td>\n",
       "      <td>46,400.00</td>\n",
       "      <td>2.39</td>\n",
       "    </tr>\n",
       "    <tr>\n",
       "      <th>20</th>\n",
       "      <td>U0000003292</td>\n",
       "      <td>[Cintas Corp]</td>\n",
       "      <td>[FARMER, JOYCE E, FARMER, RICHARD T, FARMER, R T]</td>\n",
       "      <td>62,300.00</td>\n",
       "      <td>88,000.00</td>\n",
       "      <td>0.41</td>\n",
       "      <td>0.59</td>\n",
       "      <td>-25,700.00</td>\n",
       "      <td>-0.29</td>\n",
       "    </tr>\n",
       "    <tr>\n",
       "      <th>21</th>\n",
       "      <td>U0000003293</td>\n",
       "      <td>[Sable Minerals]</td>\n",
       "      <td>[FLORES, CHERIE H, FLORES, CHERIE H MRS, FLORE...</td>\n",
       "      <td>60,800.00</td>\n",
       "      <td>18,700.00</td>\n",
       "      <td>0.76</td>\n",
       "      <td>0.24</td>\n",
       "      <td>42,100.00</td>\n",
       "      <td>2.25</td>\n",
       "    </tr>\n",
       "  </tbody>\n",
       "</table>\n",
       "</div>"
      ],
      "text/plain": [
       "       match_id                                      organizations  \\\n",
       "22  U0000003295  [[24T Contribution], Richard & Barbara Gaby Fo...   \n",
       "7   U0000000280                                    [Crow Holdings]   \n",
       "16  U0000003246                             [Jim Click Automotive]   \n",
       "20  U0000003292                                      [Cintas Corp]   \n",
       "21  U0000003293                                   [Sable Minerals]   \n",
       "\n",
       "                                         contributors  total_inside_bill  \\\n",
       "22  [GABY, BARBARA, GABY, RICHARD, GABY, RICHARD D...          90,000.00   \n",
       "7   [CROW, HARLAN, CROW, HARLAN MR, CROW, HARLAN R...          80,600.00   \n",
       "16  [CLICK, JIM, CLICK, JIM JR, CLICK, VICKI, CLIC...          65,800.00   \n",
       "20  [FARMER, JOYCE E, FARMER, RICHARD T, FARMER, R T]          62,300.00   \n",
       "21  [FLORES, CHERIE H, FLORES, CHERIE H MRS, FLORE...          60,800.00   \n",
       "\n",
       "    total_outside_bill  pct_inside_bill  pct_outside_bill     change  \\\n",
       "22           62,800.00             0.59              0.41  27,200.00   \n",
       "7           176,800.00             0.31              0.69 -96,200.00   \n",
       "16           19,400.00             0.77              0.23  46,400.00   \n",
       "20           88,000.00             0.41              0.59 -25,700.00   \n",
       "21           18,700.00             0.76              0.24  42,100.00   \n",
       "\n",
       "    pct_change  \n",
       "22        0.43  \n",
       "7        -0.54  \n",
       "16        2.39  \n",
       "20       -0.29  \n",
       "21        2.25  "
      ]
     },
     "execution_count": 84,
     "metadata": {},
     "output_type": "execute_result"
    }
   ],
   "source": [
    "donors_09_1st_qtr[\"pct_inside_bill\"] = donors_09_1st_qtr[\"total_inside_bill\"] / (donors_09_1st_qtr[\"total_outside_bill\"] + donors_09_1st_qtr[\"total_inside_bill\"])\n",
    "donors_09_1st_qtr[\"pct_outside_bill\"] = donors_09_1st_qtr[\"total_outside_bill\"] / (donors_09_1st_qtr[\"total_outside_bill\"] + donors_09_1st_qtr[\"total_inside_bill\"])\n",
    "donors_09_1st_qtr[\"change\"] = donors_09_1st_qtr[\"total_inside_bill\"] - donors_09_1st_qtr[\"total_outside_bill\"]\n",
    "donors_09_1st_qtr[\"pct_change\"] = (donors_09_1st_qtr[\"total_inside_bill\"] - donors_09_1st_qtr[\"total_outside_bill\"]) / donors_09_1st_qtr[\"total_outside_bill\"].abs()\n",
    "donors_09_1st_qtr.sort_values(\"total_inside_bill\", ascending=False).head()"
   ]
  },
  {
   "cell_type": "code",
   "execution_count": 85,
   "metadata": {},
   "outputs": [
    {
     "name": "stdout",
     "output_type": "stream",
     "text": [
      "2009 inside-bill 1st quarter total: $1403605.0\n",
      "2009 outside-bill 1st quarter total: $5133871.0\n"
     ]
    }
   ],
   "source": [
    "print(\"2009 inside-bill 1st quarter total: $\" + str(donors_09_1st_qtr[\"total_inside_bill\"].sum()))\n",
    "print(\"2009 outside-bill 1st quarter total: $\" + str(donors_09_1st_qtr[\"total_outside_bill\"].sum()))"
   ]
  },
  {
   "cell_type": "markdown",
   "metadata": {},
   "source": [
    "## How did each contributor's giving pattern change in each cycle compared with 2017?"
   ]
  },
  {
   "cell_type": "markdown",
   "metadata": {},
   "source": [
    "### 2015"
   ]
  },
  {
   "cell_type": "code",
   "execution_count": 86,
   "metadata": {},
   "outputs": [
    {
     "name": "stdout",
     "output_type": "stream",
     "text": [
      "<class 'pandas.core.frame.DataFrame'>\n",
      "Int64Index: 269 entries, 0 to 268\n",
      "Data columns (total 11 columns):\n",
      "match_id                 269 non-null object\n",
      "contributors             269 non-null object\n",
      "organizations            269 non-null object\n",
      "total_outside_bill_15    245 non-null float64\n",
      "total_inside_bill_15     192 non-null float64\n",
      "pct_outside_bill_15      192 non-null float64\n",
      "pct_inside_bill_15       192 non-null float64\n",
      "total_outside_bill_17    269 non-null float64\n",
      "total_inside_bill_17     269 non-null float64\n",
      "pct_outside_bill_17      269 non-null float64\n",
      "pct_inside_bill_17       269 non-null float64\n",
      "dtypes: float64(8), object(3)\n",
      "memory usage: 25.2+ KB\n"
     ]
    }
   ],
   "source": [
    "donors_15_17_1st_qtr = donors_17_1st_qtr.merge(donors_15_1st_qtr, how=\"outer\", on=\"match_id\", suffixes=[\"_17\", \"_15\"])\n",
    "donors_15_17_1st_qtr.drop([\"change_17\", \"pct_change_17\", \"change_15\", \"pct_change_15\"],\n",
    "            axis=1, inplace=True)\n",
    "donors_15_17_1st_qtr.rename(columns={\"organizations_17\": \"organizations\", \"contributors_17\": \"contributors\"}, inplace=True)\n",
    "donors_15_17_1st_qtr = donors_15_17_1st_qtr[[\"match_id\", \"contributors\", \"organizations\", \"total_outside_bill_15\", \"total_inside_bill_15\",\n",
    "                 \"pct_outside_bill_15\", \"pct_inside_bill_15\", \"total_outside_bill_17\", \"total_inside_bill_17\",\n",
    "                 \"pct_outside_bill_17\", \"pct_inside_bill_17\"]]\n",
    "donors_15_17_1st_qtr.info()"
   ]
  },
  {
   "cell_type": "code",
   "execution_count": 87,
   "metadata": {},
   "outputs": [
    {
     "data": {
      "text/html": [
       "<div>\n",
       "<style scoped>\n",
       "    .dataframe tbody tr th:only-of-type {\n",
       "        vertical-align: middle;\n",
       "    }\n",
       "\n",
       "    .dataframe tbody tr th {\n",
       "        vertical-align: top;\n",
       "    }\n",
       "\n",
       "    .dataframe thead th {\n",
       "        text-align: right;\n",
       "    }\n",
       "</style>\n",
       "<table border=\"1\" class=\"dataframe\">\n",
       "  <thead>\n",
       "    <tr style=\"text-align: right;\">\n",
       "      <th></th>\n",
       "      <th>match_id</th>\n",
       "      <th>contributors</th>\n",
       "      <th>organizations</th>\n",
       "      <th>total_outside_bill_15</th>\n",
       "      <th>total_inside_bill_15</th>\n",
       "      <th>pct_outside_bill_15</th>\n",
       "      <th>pct_inside_bill_15</th>\n",
       "      <th>total_outside_bill_17</th>\n",
       "      <th>total_inside_bill_17</th>\n",
       "      <th>pct_outside_bill_17</th>\n",
       "      <th>pct_inside_bill_17</th>\n",
       "      <th>giving_change</th>\n",
       "    </tr>\n",
       "  </thead>\n",
       "  <tbody>\n",
       "    <tr>\n",
       "      <th>0</th>\n",
       "      <td>Agua Caliente Band of Cahuilla Indians</td>\n",
       "      <td>[AGUA CALIENTE BAND OF CAHUILLA, AGUA CALIENTE...</td>\n",
       "      <td>[Agua Caliente Band of Cahuilla Indians]</td>\n",
       "      <td>83,500.00</td>\n",
       "      <td>50,400.00</td>\n",
       "      <td>0.62</td>\n",
       "      <td>0.38</td>\n",
       "      <td>198,300.00</td>\n",
       "      <td>57,900.00</td>\n",
       "      <td>0.77</td>\n",
       "      <td>0.23</td>\n",
       "      <td>Decreased</td>\n",
       "    </tr>\n",
       "  </tbody>\n",
       "</table>\n",
       "</div>"
      ],
      "text/plain": [
       "                                 match_id  \\\n",
       "0  Agua Caliente Band of Cahuilla Indians   \n",
       "\n",
       "                                        contributors  \\\n",
       "0  [AGUA CALIENTE BAND OF CAHUILLA, AGUA CALIENTE...   \n",
       "\n",
       "                              organizations  total_outside_bill_15  \\\n",
       "0  [Agua Caliente Band of Cahuilla Indians]              83,500.00   \n",
       "\n",
       "   total_inside_bill_15  pct_outside_bill_15  pct_inside_bill_15  \\\n",
       "0             50,400.00                 0.62                0.38   \n",
       "\n",
       "   total_outside_bill_17  total_inside_bill_17  pct_outside_bill_17  \\\n",
       "0             198,300.00             57,900.00                 0.77   \n",
       "\n",
       "   pct_inside_bill_17 giving_change  \n",
       "0                0.23     Decreased  "
      ]
     },
     "execution_count": 87,
     "metadata": {},
     "output_type": "execute_result"
    }
   ],
   "source": [
    "donors_15_17_1st_qtr[\"giving_change\"] = np.where((donors_15_17_1st_qtr[\"pct_inside_bill_17\"] > donors_15_17_1st_qtr[\"pct_inside_bill_15\"]) | (donors_15_17_1st_qtr[\"pct_outside_bill_15\"].isnull()), \"Increased\",\n",
    "                                  np.where(donors_15_17_1st_qtr[\"pct_inside_bill_17\"] < donors_15_17_1st_qtr[\"pct_inside_bill_15\"], \"Decreased\",\n",
    "                                           np.where(donors_15_17_1st_qtr[\"pct_inside_bill_17\"] == donors_15_17_1st_qtr[\"pct_inside_bill_15\"], \"Stayed the same\",\n",
    "                                                   \"Other\")))\n",
    "donors_15_17_1st_qtr.head(1)"
   ]
  },
  {
   "cell_type": "markdown",
   "metadata": {},
   "source": [
    "### 2013"
   ]
  },
  {
   "cell_type": "code",
   "execution_count": 88,
   "metadata": {},
   "outputs": [
    {
     "name": "stdout",
     "output_type": "stream",
     "text": [
      "<class 'pandas.core.frame.DataFrame'>\n",
      "Int64Index: 269 entries, 0 to 268\n",
      "Data columns (total 11 columns):\n",
      "match_id                 269 non-null object\n",
      "contributors             269 non-null object\n",
      "organizations            269 non-null object\n",
      "total_outside_bill_13    214 non-null float64\n",
      "total_inside_bill_13     131 non-null float64\n",
      "pct_outside_bill_13      131 non-null float64\n",
      "pct_inside_bill_13       131 non-null float64\n",
      "total_outside_bill_17    269 non-null float64\n",
      "total_inside_bill_17     269 non-null float64\n",
      "pct_outside_bill_17      269 non-null float64\n",
      "pct_inside_bill_17       269 non-null float64\n",
      "dtypes: float64(8), object(3)\n",
      "memory usage: 25.2+ KB\n"
     ]
    }
   ],
   "source": [
    "donors_13_17_1st_qtr = donors_17_1st_qtr.merge(donors_13_1st_qtr, how=\"outer\", on=\"match_id\", suffixes=[\"_17\", \"_13\"])\n",
    "donors_13_17_1st_qtr.drop([\"change_17\", \"pct_change_17\", \"change_13\", \"pct_change_13\"],\n",
    "            axis=1, inplace=True)\n",
    "donors_13_17_1st_qtr.rename(columns={\"organizations_17\": \"organizations\", \"contributors_17\": \"contributors\"}, inplace=True)\n",
    "donors_13_17_1st_qtr = donors_13_17_1st_qtr[[\"match_id\", \"contributors\", \"organizations\", \"total_outside_bill_13\", \"total_inside_bill_13\",\n",
    "                 \"pct_outside_bill_13\", \"pct_inside_bill_13\", \"total_outside_bill_17\", \"total_inside_bill_17\",\n",
    "                 \"pct_outside_bill_17\", \"pct_inside_bill_17\"]]\n",
    "donors_13_17_1st_qtr.info()"
   ]
  },
  {
   "cell_type": "code",
   "execution_count": 89,
   "metadata": {},
   "outputs": [
    {
     "data": {
      "text/html": [
       "<div>\n",
       "<style scoped>\n",
       "    .dataframe tbody tr th:only-of-type {\n",
       "        vertical-align: middle;\n",
       "    }\n",
       "\n",
       "    .dataframe tbody tr th {\n",
       "        vertical-align: top;\n",
       "    }\n",
       "\n",
       "    .dataframe thead th {\n",
       "        text-align: right;\n",
       "    }\n",
       "</style>\n",
       "<table border=\"1\" class=\"dataframe\">\n",
       "  <thead>\n",
       "    <tr style=\"text-align: right;\">\n",
       "      <th></th>\n",
       "      <th>match_id</th>\n",
       "      <th>contributors</th>\n",
       "      <th>organizations</th>\n",
       "      <th>total_outside_bill_13</th>\n",
       "      <th>total_inside_bill_13</th>\n",
       "      <th>pct_outside_bill_13</th>\n",
       "      <th>pct_inside_bill_13</th>\n",
       "      <th>total_outside_bill_17</th>\n",
       "      <th>total_inside_bill_17</th>\n",
       "      <th>pct_outside_bill_17</th>\n",
       "      <th>pct_inside_bill_17</th>\n",
       "      <th>giving_change</th>\n",
       "    </tr>\n",
       "  </thead>\n",
       "  <tbody>\n",
       "    <tr>\n",
       "      <th>0</th>\n",
       "      <td>Agua Caliente Band of Cahuilla Indians</td>\n",
       "      <td>[AGUA CALIENTE BAND OF CAHUILLA, AGUA CALIENTE...</td>\n",
       "      <td>[Agua Caliente Band of Cahuilla Indians]</td>\n",
       "      <td>29,450.00</td>\n",
       "      <td>77,600.00</td>\n",
       "      <td>0.28</td>\n",
       "      <td>0.72</td>\n",
       "      <td>198,300.00</td>\n",
       "      <td>57,900.00</td>\n",
       "      <td>0.77</td>\n",
       "      <td>0.23</td>\n",
       "      <td>Decreased</td>\n",
       "    </tr>\n",
       "  </tbody>\n",
       "</table>\n",
       "</div>"
      ],
      "text/plain": [
       "                                 match_id  \\\n",
       "0  Agua Caliente Band of Cahuilla Indians   \n",
       "\n",
       "                                        contributors  \\\n",
       "0  [AGUA CALIENTE BAND OF CAHUILLA, AGUA CALIENTE...   \n",
       "\n",
       "                              organizations  total_outside_bill_13  \\\n",
       "0  [Agua Caliente Band of Cahuilla Indians]              29,450.00   \n",
       "\n",
       "   total_inside_bill_13  pct_outside_bill_13  pct_inside_bill_13  \\\n",
       "0             77,600.00                 0.28                0.72   \n",
       "\n",
       "   total_outside_bill_17  total_inside_bill_17  pct_outside_bill_17  \\\n",
       "0             198,300.00             57,900.00                 0.77   \n",
       "\n",
       "   pct_inside_bill_17 giving_change  \n",
       "0                0.23     Decreased  "
      ]
     },
     "execution_count": 89,
     "metadata": {},
     "output_type": "execute_result"
    }
   ],
   "source": [
    "donors_13_17_1st_qtr[\"giving_change\"] = np.where((donors_13_17_1st_qtr[\"pct_inside_bill_17\"] > donors_13_17_1st_qtr[\"pct_inside_bill_13\"]) | (donors_13_17_1st_qtr[\"pct_outside_bill_13\"].isnull()), \"Increased\",\n",
    "                                  np.where(donors_13_17_1st_qtr[\"pct_inside_bill_17\"] < donors_13_17_1st_qtr[\"pct_inside_bill_13\"], \"Decreased\",\n",
    "                                           np.where(donors_13_17_1st_qtr[\"pct_inside_bill_17\"] == donors_13_17_1st_qtr[\"pct_inside_bill_13\"], \"Stayed the same\",\n",
    "                                                   \"Other\")))\n",
    "donors_13_17_1st_qtr.head(1)"
   ]
  },
  {
   "cell_type": "markdown",
   "metadata": {},
   "source": [
    "### 2011"
   ]
  },
  {
   "cell_type": "code",
   "execution_count": 90,
   "metadata": {},
   "outputs": [
    {
     "name": "stdout",
     "output_type": "stream",
     "text": [
      "<class 'pandas.core.frame.DataFrame'>\n",
      "Int64Index: 269 entries, 0 to 268\n",
      "Data columns (total 11 columns):\n",
      "match_id                 269 non-null object\n",
      "contributors             269 non-null object\n",
      "organizations            269 non-null object\n",
      "total_outside_bill_11    217 non-null float64\n",
      "total_inside_bill_11     130 non-null float64\n",
      "pct_outside_bill_11      130 non-null float64\n",
      "pct_inside_bill_11       130 non-null float64\n",
      "total_outside_bill_17    269 non-null float64\n",
      "total_inside_bill_17     269 non-null float64\n",
      "pct_outside_bill_17      269 non-null float64\n",
      "pct_inside_bill_17       269 non-null float64\n",
      "dtypes: float64(8), object(3)\n",
      "memory usage: 25.2+ KB\n"
     ]
    }
   ],
   "source": [
    "donors_11_17_1st_qtr = donors_17_1st_qtr.merge(donors_11_1st_qtr, how=\"outer\", on=\"match_id\", suffixes=[\"_17\", \"_11\"])\n",
    "donors_11_17_1st_qtr.drop([\"change_17\", \"pct_change_17\", \"change_11\", \"pct_change_11\"],\n",
    "            axis=1, inplace=True)\n",
    "donors_11_17_1st_qtr.rename(columns={\"organizations_17\": \"organizations\", \"contributors_17\": \"contributors\"}, inplace=True)\n",
    "donors_11_17_1st_qtr = donors_11_17_1st_qtr[[\"match_id\", \"contributors\", \"organizations\", \"total_outside_bill_11\", \"total_inside_bill_11\",\n",
    "                 \"pct_outside_bill_11\", \"pct_inside_bill_11\", \"total_outside_bill_17\", \"total_inside_bill_17\",\n",
    "                 \"pct_outside_bill_17\", \"pct_inside_bill_17\"]]\n",
    "donors_11_17_1st_qtr.info()"
   ]
  },
  {
   "cell_type": "code",
   "execution_count": 91,
   "metadata": {},
   "outputs": [
    {
     "data": {
      "text/html": [
       "<div>\n",
       "<style scoped>\n",
       "    .dataframe tbody tr th:only-of-type {\n",
       "        vertical-align: middle;\n",
       "    }\n",
       "\n",
       "    .dataframe tbody tr th {\n",
       "        vertical-align: top;\n",
       "    }\n",
       "\n",
       "    .dataframe thead th {\n",
       "        text-align: right;\n",
       "    }\n",
       "</style>\n",
       "<table border=\"1\" class=\"dataframe\">\n",
       "  <thead>\n",
       "    <tr style=\"text-align: right;\">\n",
       "      <th></th>\n",
       "      <th>match_id</th>\n",
       "      <th>contributors</th>\n",
       "      <th>organizations</th>\n",
       "      <th>total_outside_bill_11</th>\n",
       "      <th>total_inside_bill_11</th>\n",
       "      <th>pct_outside_bill_11</th>\n",
       "      <th>pct_inside_bill_11</th>\n",
       "      <th>total_outside_bill_17</th>\n",
       "      <th>total_inside_bill_17</th>\n",
       "      <th>pct_outside_bill_17</th>\n",
       "      <th>pct_inside_bill_17</th>\n",
       "      <th>giving_change</th>\n",
       "    </tr>\n",
       "  </thead>\n",
       "  <tbody>\n",
       "    <tr>\n",
       "      <th>0</th>\n",
       "      <td>Agua Caliente Band of Cahuilla Indians</td>\n",
       "      <td>[AGUA CALIENTE BAND OF CAHUILLA, AGUA CALIENTE...</td>\n",
       "      <td>[Agua Caliente Band of Cahuilla Indians]</td>\n",
       "      <td>53,800.00</td>\n",
       "      <td>2,000.00</td>\n",
       "      <td>0.96</td>\n",
       "      <td>0.04</td>\n",
       "      <td>198,300.00</td>\n",
       "      <td>57,900.00</td>\n",
       "      <td>0.77</td>\n",
       "      <td>0.23</td>\n",
       "      <td>Increased</td>\n",
       "    </tr>\n",
       "  </tbody>\n",
       "</table>\n",
       "</div>"
      ],
      "text/plain": [
       "                                 match_id  \\\n",
       "0  Agua Caliente Band of Cahuilla Indians   \n",
       "\n",
       "                                        contributors  \\\n",
       "0  [AGUA CALIENTE BAND OF CAHUILLA, AGUA CALIENTE...   \n",
       "\n",
       "                              organizations  total_outside_bill_11  \\\n",
       "0  [Agua Caliente Band of Cahuilla Indians]              53,800.00   \n",
       "\n",
       "   total_inside_bill_11  pct_outside_bill_11  pct_inside_bill_11  \\\n",
       "0              2,000.00                 0.96                0.04   \n",
       "\n",
       "   total_outside_bill_17  total_inside_bill_17  pct_outside_bill_17  \\\n",
       "0             198,300.00             57,900.00                 0.77   \n",
       "\n",
       "   pct_inside_bill_17 giving_change  \n",
       "0                0.23     Increased  "
      ]
     },
     "execution_count": 91,
     "metadata": {},
     "output_type": "execute_result"
    }
   ],
   "source": [
    "donors_11_17_1st_qtr[\"giving_change\"] = np.where((donors_11_17_1st_qtr[\"pct_inside_bill_17\"] > donors_11_17_1st_qtr[\"pct_inside_bill_11\"]) | (donors_11_17_1st_qtr[\"pct_outside_bill_11\"].isnull()), \"Increased\",\n",
    "                                  np.where(donors_11_17_1st_qtr[\"pct_inside_bill_17\"] < donors_11_17_1st_qtr[\"pct_inside_bill_11\"], \"Decreased\",\n",
    "                                           np.where(donors_11_17_1st_qtr[\"pct_inside_bill_17\"] == donors_11_17_1st_qtr[\"pct_inside_bill_11\"], \"Stayed the same\",\n",
    "                                                   \"Other\")))\n",
    "donors_11_17_1st_qtr.head(1)"
   ]
  },
  {
   "cell_type": "markdown",
   "metadata": {},
   "source": [
    "### 2009"
   ]
  },
  {
   "cell_type": "code",
   "execution_count": 92,
   "metadata": {},
   "outputs": [
    {
     "name": "stdout",
     "output_type": "stream",
     "text": [
      "<class 'pandas.core.frame.DataFrame'>\n",
      "Int64Index: 269 entries, 0 to 268\n",
      "Data columns (total 11 columns):\n",
      "match_id                 269 non-null object\n",
      "contributors             269 non-null object\n",
      "organizations            269 non-null object\n",
      "total_outside_bill_09    181 non-null float64\n",
      "total_inside_bill_09     107 non-null float64\n",
      "pct_outside_bill_09      107 non-null float64\n",
      "pct_inside_bill_09       107 non-null float64\n",
      "total_outside_bill_17    269 non-null float64\n",
      "total_inside_bill_17     269 non-null float64\n",
      "pct_outside_bill_17      269 non-null float64\n",
      "pct_inside_bill_17       269 non-null float64\n",
      "dtypes: float64(8), object(3)\n",
      "memory usage: 25.2+ KB\n"
     ]
    }
   ],
   "source": [
    "donors_09_17_1st_qtr = donors_17_1st_qtr.merge(donors_09_1st_qtr, how=\"outer\", on=\"match_id\", suffixes=[\"_17\", \"_09\"])\n",
    "donors_09_17_1st_qtr.drop([\"change_17\", \"pct_change_17\", \"change_09\", \"pct_change_09\"],\n",
    "            axis=1, inplace=True)\n",
    "donors_09_17_1st_qtr.rename(columns={\"organizations_17\": \"organizations\", \"contributors_17\": \"contributors\"}, inplace=True)\n",
    "donors_09_17_1st_qtr = donors_09_17_1st_qtr[[\"match_id\", \"contributors\", \"organizations\", \"total_outside_bill_09\", \"total_inside_bill_09\",\n",
    "                 \"pct_outside_bill_09\", \"pct_inside_bill_09\", \"total_outside_bill_17\", \"total_inside_bill_17\",\n",
    "                 \"pct_outside_bill_17\", \"pct_inside_bill_17\"]]\n",
    "donors_09_17_1st_qtr.info()"
   ]
  },
  {
   "cell_type": "code",
   "execution_count": 93,
   "metadata": {},
   "outputs": [
    {
     "data": {
      "text/html": [
       "<div>\n",
       "<style scoped>\n",
       "    .dataframe tbody tr th:only-of-type {\n",
       "        vertical-align: middle;\n",
       "    }\n",
       "\n",
       "    .dataframe tbody tr th {\n",
       "        vertical-align: top;\n",
       "    }\n",
       "\n",
       "    .dataframe thead th {\n",
       "        text-align: right;\n",
       "    }\n",
       "</style>\n",
       "<table border=\"1\" class=\"dataframe\">\n",
       "  <thead>\n",
       "    <tr style=\"text-align: right;\">\n",
       "      <th></th>\n",
       "      <th>match_id</th>\n",
       "      <th>contributors</th>\n",
       "      <th>organizations</th>\n",
       "      <th>total_outside_bill_09</th>\n",
       "      <th>total_inside_bill_09</th>\n",
       "      <th>pct_outside_bill_09</th>\n",
       "      <th>pct_inside_bill_09</th>\n",
       "      <th>total_outside_bill_17</th>\n",
       "      <th>total_inside_bill_17</th>\n",
       "      <th>pct_outside_bill_17</th>\n",
       "      <th>pct_inside_bill_17</th>\n",
       "      <th>giving_change</th>\n",
       "    </tr>\n",
       "  </thead>\n",
       "  <tbody>\n",
       "    <tr>\n",
       "      <th>0</th>\n",
       "      <td>Agua Caliente Band of Cahuilla Indians</td>\n",
       "      <td>[AGUA CALIENTE BAND OF CAHUILLA, AGUA CALIENTE...</td>\n",
       "      <td>[Agua Caliente Band of Cahuilla Indians]</td>\n",
       "      <td>6,000.00</td>\n",
       "      <td>30,400.00</td>\n",
       "      <td>0.16</td>\n",
       "      <td>0.84</td>\n",
       "      <td>198,300.00</td>\n",
       "      <td>57,900.00</td>\n",
       "      <td>0.77</td>\n",
       "      <td>0.23</td>\n",
       "      <td>Decreased</td>\n",
       "    </tr>\n",
       "  </tbody>\n",
       "</table>\n",
       "</div>"
      ],
      "text/plain": [
       "                                 match_id  \\\n",
       "0  Agua Caliente Band of Cahuilla Indians   \n",
       "\n",
       "                                        contributors  \\\n",
       "0  [AGUA CALIENTE BAND OF CAHUILLA, AGUA CALIENTE...   \n",
       "\n",
       "                              organizations  total_outside_bill_09  \\\n",
       "0  [Agua Caliente Band of Cahuilla Indians]               6,000.00   \n",
       "\n",
       "   total_inside_bill_09  pct_outside_bill_09  pct_inside_bill_09  \\\n",
       "0             30,400.00                 0.16                0.84   \n",
       "\n",
       "   total_outside_bill_17  total_inside_bill_17  pct_outside_bill_17  \\\n",
       "0             198,300.00             57,900.00                 0.77   \n",
       "\n",
       "   pct_inside_bill_17 giving_change  \n",
       "0                0.23     Decreased  "
      ]
     },
     "execution_count": 93,
     "metadata": {},
     "output_type": "execute_result"
    }
   ],
   "source": [
    "donors_09_17_1st_qtr[\"giving_change\"] = np.where((donors_09_17_1st_qtr[\"pct_inside_bill_17\"] > donors_09_17_1st_qtr[\"pct_inside_bill_09\"]) | (donors_09_17_1st_qtr[\"pct_outside_bill_09\"].isnull()), \"Increased\",\n",
    "                                  np.where(donors_09_17_1st_qtr[\"pct_inside_bill_17\"] < donors_09_17_1st_qtr[\"pct_inside_bill_09\"], \"Decreased\",\n",
    "                                           np.where(donors_09_17_1st_qtr[\"pct_inside_bill_17\"] == donors_09_17_1st_qtr[\"pct_inside_bill_09\"], \"Stayed the same\",\n",
    "                                                   \"Other\")))\n",
    "donors_09_17_1st_qtr.head(1)"
   ]
  },
  {
   "cell_type": "markdown",
   "metadata": {},
   "source": [
    "## What proportion of donors increased the share of their annual giving that fell within the two-month period in 2017 as compared with the same period in each of the previous years?"
   ]
  },
  {
   "cell_type": "code",
   "execution_count": 94,
   "metadata": {},
   "outputs": [
    {
     "name": "stdout",
     "output_type": "stream",
     "text": [
      "87.36059479553904% of donors increased the share of their annual giving that fell within the two-month period between 2015 and 2017.\n",
      "88.10408921933085% of donors increased the share of their annual giving that fell within the two-month period between 2013 and 2017.\n",
      "94.42379182156134% of donors increased the share of their annual giving that fell within the two-month period between 2011 and 2017.\n",
      "89.59107806691449% of donors increased the share of their annual giving that fell within the two-month period between 2009 and 2017.\n"
     ]
    }
   ],
   "source": [
    "print(str(donors_15_17_1st_qtr[donors_15_17_1st_qtr[\"giving_change\"] == \"Increased\"][\"match_id\"].count() / donors_15_17_1st_qtr[\"match_id\"].count() * 100) + \"% of donors increased the share of their annual giving that fell within the two-month period between 2015 and 2017.\")\n",
    "print(str(donors_13_17_1st_qtr[donors_13_17_1st_qtr[\"giving_change\"] == \"Increased\"][\"match_id\"].count() / donors_13_17_1st_qtr[\"match_id\"].count() * 100) + \"% of donors increased the share of their annual giving that fell within the two-month period between 2013 and 2017.\")\n",
    "print(str(donors_11_17_1st_qtr[donors_11_17_1st_qtr[\"giving_change\"] == \"Increased\"][\"match_id\"].count() / donors_11_17_1st_qtr[\"match_id\"].count() * 100) + \"% of donors increased the share of their annual giving that fell within the two-month period between 2011 and 2017.\")\n",
    "print(str(donors_09_17_1st_qtr[donors_09_17_1st_qtr[\"giving_change\"] == \"Increased\"][\"match_id\"].count() / donors_09_17_1st_qtr[\"match_id\"].count() * 100) + \"% of donors increased the share of their annual giving that fell within the two-month period between 2009 and 2017.\")"
   ]
  },
  {
   "cell_type": "markdown",
   "metadata": {},
   "source": [
    "## And by how much did these individuals' giving increase?"
   ]
  },
  {
   "cell_type": "code",
   "execution_count": 95,
   "metadata": {},
   "outputs": [
    {
     "name": "stdout",
     "output_type": "stream",
     "text": [
      "These donors' giving within the two-month period increased by $36607174.0, from $11774527.0 to $48381701.0 between 2015 and 2017.\n",
      "These donors' giving within the two-month period increased by $43518300.0, from $2505309.0 to $46023609.0 between 2013 and 2017.\n",
      "These donors' giving within the two-month period increased by $49030814.0, from $2286890.0 to $51317704.0 between 2011 and 2017.\n",
      "These donors' giving within the two-month period increased by $46863046.0, from $744955.0 to $47608001.0 between 2009 and 2017.\n"
     ]
    }
   ],
   "source": [
    "print(\"These donors' giving within the two-month period increased by $\" + str(donors_15_17_1st_qtr[donors_15_17_1st_qtr[\"giving_change\"] == \"Increased\"][\"total_inside_bill_17\"].sum() - donors_15_17_1st_qtr[donors_15_17_1st_qtr[\"giving_change\"] == \"Increased\"][\"total_inside_bill_15\"].sum()) + \", from $\" + str(donors_15_17_1st_qtr[donors_15_17_1st_qtr[\"giving_change\"] == \"Increased\"][\"total_inside_bill_15\"].sum()) + \" to $\" + str(donors_15_17_1st_qtr[donors_15_17_1st_qtr[\"giving_change\"] == \"Increased\"][\"total_inside_bill_17\"].sum()) + \" between 2015 and 2017.\")\n",
    "print(\"These donors' giving within the two-month period increased by $\" + str(donors_13_17_1st_qtr[donors_13_17_1st_qtr[\"giving_change\"] == \"Increased\"][\"total_inside_bill_17\"].sum() - donors_13_17_1st_qtr[donors_13_17_1st_qtr[\"giving_change\"] == \"Increased\"][\"total_inside_bill_13\"].sum()) + \", from $\" + str(donors_13_17_1st_qtr[donors_13_17_1st_qtr[\"giving_change\"] == \"Increased\"][\"total_inside_bill_13\"].sum()) + \" to $\" + str(donors_13_17_1st_qtr[donors_13_17_1st_qtr[\"giving_change\"] == \"Increased\"][\"total_inside_bill_17\"].sum()) + \" between 2013 and 2017.\")\n",
    "print(\"These donors' giving within the two-month period increased by $\" + str(donors_11_17_1st_qtr[donors_11_17_1st_qtr[\"giving_change\"] == \"Increased\"][\"total_inside_bill_17\"].sum() - donors_11_17_1st_qtr[donors_11_17_1st_qtr[\"giving_change\"] == \"Increased\"][\"total_inside_bill_11\"].sum()) + \", from $\" + str(donors_11_17_1st_qtr[donors_11_17_1st_qtr[\"giving_change\"] == \"Increased\"][\"total_inside_bill_11\"].sum()) + \" to $\" + str(donors_11_17_1st_qtr[donors_11_17_1st_qtr[\"giving_change\"] == \"Increased\"][\"total_inside_bill_17\"].sum()) + \" between 2011 and 2017.\")\n",
    "print(\"These donors' giving within the two-month period increased by $\" + str(donors_09_17_1st_qtr[donors_09_17_1st_qtr[\"giving_change\"] == \"Increased\"][\"total_inside_bill_17\"].sum() - donors_09_17_1st_qtr[donors_09_17_1st_qtr[\"giving_change\"] == \"Increased\"][\"total_inside_bill_09\"].sum()) + \", from $\" + str(donors_09_17_1st_qtr[donors_09_17_1st_qtr[\"giving_change\"] == \"Increased\"][\"total_inside_bill_09\"].sum()) + \" to $\" + str(donors_09_17_1st_qtr[donors_09_17_1st_qtr[\"giving_change\"] == \"Increased\"][\"total_inside_bill_17\"].sum()) + \" between 2009 and 2017.\")"
   ]
  },
  {
   "cell_type": "markdown",
   "metadata": {},
   "source": [
    "## How many donors in each year gave all of their money in the two-month period of each year?"
   ]
  },
  {
   "cell_type": "code",
   "execution_count": 96,
   "metadata": {},
   "outputs": [
    {
     "name": "stdout",
     "output_type": "stream",
     "text": [
      "In 2017, 43 donors gave all their money in the two-month period.\n",
      "In 2015, 6 donors gave all their money in the two-month period.\n",
      "In 2013, 5 donors gave all their money in the two-month period.\n",
      "In 2011, 1 donors gave all their money in the two-month period.\n",
      "In 2009, 8 donors gave all their money in the two-month period.\n"
     ]
    }
   ],
   "source": [
    "print(\"In 2017, \" + str(donors_17_1st_qtr[donors_17_1st_qtr[\"pct_inside_bill\"] == 1][\"match_id\"].count()) + \" donors gave all their money in the two-month period.\")\n",
    "print(\"In 2015, \" + str(donors_15_1st_qtr[donors_15_1st_qtr[\"pct_inside_bill\"] == 1][\"match_id\"].count()) + \" donors gave all their money in the two-month period.\")\n",
    "print(\"In 2013, \" + str(donors_13_1st_qtr[donors_13_1st_qtr[\"pct_inside_bill\"] == 1][\"match_id\"].count()) + \" donors gave all their money in the two-month period.\")\n",
    "print(\"In 2011, \" + str(donors_11_1st_qtr[donors_11_1st_qtr[\"pct_inside_bill\"] == 1][\"match_id\"].count()) + \" donors gave all their money in the two-month period.\")\n",
    "print(\"In 2009, \" + str(donors_09_1st_qtr[donors_09_1st_qtr[\"pct_inside_bill\"] == 1][\"match_id\"].count()) + \" donors gave all their money in the two-month period.\")"
   ]
  },
  {
   "cell_type": "markdown",
   "metadata": {},
   "source": [
    "# What does this giving look like on a contribution-by-contribution level?"
   ]
  },
  {
   "cell_type": "code",
   "execution_count": 97,
   "metadata": {},
   "outputs": [],
   "source": [
    "def run_contributions_query_1st_qtr(prefix, suffix, reference_cycle, reference_start, reference_end, cycle, start_one, end_one, start_two, end_two):\n",
    "    query = \"\"\"CREATE MATERIALIZED VIEW IF NOT EXISTS \"\"\" + prefix + \"\"\"_contributions_\"\"\" + suffix + \"\"\" AS\n",
    "    SELECT fectransid,\n",
    "    match_id,\n",
    "    organization,\n",
    "    contributor, date, sum(SUM),\n",
    "    cmte_id,\n",
    "    pacshort AS committee\n",
    "FROM\n",
    "  (SELECT fectransid,\n",
    "          match_id,\n",
    "          orgname AS organization,\n",
    "          contrib AS contributor, date, sum(amount),\n",
    "                                        cmteid AS cmte_id\n",
    "   FROM\n",
    "     (SELECT CASE\n",
    "                 WHEN trim(contribid) != '' THEN left(contribid, 11)\n",
    "                 ELSE orgname\n",
    "             END AS match_id\n",
    "      FROM crp_contributions\n",
    "      LEFT JOIN crp_committees ON crp_contributions.cmteid = crp_committees.cmteid\n",
    "      AND crp_committees.cycle = '\"\"\" + reference_cycle + \"\"\"'\n",
    "      WHERE primcode IN ('J1100',\n",
    "                         'J2200',\n",
    "                         'J2400',\n",
    "                         'Z1100',\n",
    "                         'Z4100',\n",
    "                         'Z4500',\n",
    "                         'Z5100')\n",
    "                            AND date >= '\"\"\" + reference_start + \"\"\"'\n",
    "                            AND date <= '\"\"\" + reference_end + \"\"\"'\n",
    "                            AND crp_contributions.cycle = '\"\"\" + reference_cycle + \"\"\"'\n",
    "        AND TYPE NOT IN ('11J',\n",
    "                         '15C',\n",
    "                         '15E',\n",
    "                         '15I',\n",
    "                         '15J',\n",
    "                         '15T',\n",
    "                         '18J',\n",
    "                         '19J',\n",
    "                         '30J',\n",
    "                         '30F',\n",
    "                         '31J',\n",
    "                         '31F',\n",
    "                         '32J',\n",
    "                         '32F')\n",
    "      GROUP BY match_id\n",
    "      HAVING sum(amount) >= 50000) AS gop_donors\n",
    "   JOIN crp_contributions ON CASE\n",
    "                                 WHEN trim(contribid) != '' THEN left(contribid, 11)\n",
    "                                 ELSE crp_contributions.orgname\n",
    "                             END = gop_donors.match_id\n",
    "                       WHERE date >= '\"\"\" + start_one + \"\"\"'\n",
    "                         AND date <= '\"\"\" + end_one + \"\"\"'\n",
    "                         or (date >= '\"\"\" + start_two + \"\"\"'\n",
    "                         and date <= '\"\"\" + end_two + \"\"\"')\n",
    "                         AND CYCLE = '\"\"\" + cycle + \"\"\"'\n",
    "     AND TYPE NOT IN ('11J',\n",
    "                      '15C',\n",
    "                      '15E',\n",
    "                      '15I',\n",
    "                      '15J',\n",
    "                      '15T',\n",
    "                      '18J',\n",
    "                      '19J',\n",
    "                      '30J',\n",
    "                      '30F',\n",
    "                      '31J',\n",
    "                      '31F',\n",
    "                      '32J',\n",
    "                      '32F')\n",
    "   GROUP BY fectransid,\n",
    "            match_id,\n",
    "            organization,\n",
    "            contributor, date, cmte_id) AS donors_committees\n",
    "JOIN crp_committees ON donors_committees.cmte_id = crp_committees.cmteid\n",
    "                    AND crp_committees.CYCLE = '\"\"\" + cycle + \"\"\"'\n",
    "WHERE primcode IN ('J1100',\n",
    "                   'J2200',\n",
    "                   'J2400',\n",
    "                   'Z1100',\n",
    "                   'Z4100',\n",
    "                   'Z4500',\n",
    "                   'Z5100')\n",
    "GROUP BY fectransid,\n",
    "         match_id,\n",
    "         organization,\n",
    "         contributor, date, cmte_id,\n",
    "                            committee;\n",
    "                            SELECT *\n",
    "                            FROM \"\"\" + prefix + \"\"\"_contributions_\"\"\"+ suffix +\"\"\";\"\"\"\n",
    "    return pd.read_sql(query, con=conn)"
   ]
  },
  {
   "cell_type": "markdown",
   "metadata": {},
   "source": [
    "## Return the data for each cycle."
   ]
  },
  {
   "cell_type": "code",
   "execution_count": 98,
   "metadata": {},
   "outputs": [],
   "source": [
    "inside_bill_contributions_17_1st_qtr = run_contributions_query_1st_qtr(\"inside\", \"17_1st_quarter\", \"2018\", \"2017-02-02\", \"2017-03-31\", \"2018\", \"2017-02-02\", \"2017-03-31\", \"2017-02-02\", \"2017-03-31\")\n",
    "outside_bill_contributions_17_1st_qtr = run_contributions_query_1st_qtr(\"outside\", \"17_1st_quarter\", \"2018\", \"2017-02-02\", \"2017-03-31\", \"2018\", \"2017-01-01\", \"2017-02-01\", \"2017-04-01\", \"2017-12-31\")"
   ]
  },
  {
   "cell_type": "code",
   "execution_count": 99,
   "metadata": {},
   "outputs": [],
   "source": [
    "inside_bill_contributions_15_1st_qtr = run_contributions_query_1st_qtr(\"inside\", \"15_1st_quarter\", \"2018\", \"2017-02-02\", \"2017-03-31\", \"2016\", \"2015-02-02\", \"2015-03-31\", \"2015-02-02\", \"2015-03-31\")\n",
    "outside_bill_contributions_15_1st_qtr = run_contributions_query_1st_qtr(\"outside\", \"15_1st_quarter\", \"2018\", \"2017-02-02\", \"2017-03-31\", \"2016\", \"2015-01-01\", \"2015-02-01\", \"2015-04-01\", \"2015-12-31\")"
   ]
  },
  {
   "cell_type": "code",
   "execution_count": 100,
   "metadata": {},
   "outputs": [],
   "source": [
    "inside_bill_contributions_13_1st_qtr = run_contributions_query_1st_qtr(\"inside\", \"13_1st_quarter\", \"2018\", \"2017-02-02\", \"2017-03-31\", \"2014\", \"2013-02-02\", \"2013-03-31\", \"2013-02-02\", \"2013-03-31\")\n",
    "outside_bill_contributions_13_1st_qtr = run_contributions_query_1st_qtr(\"outside\", \"13_1st_quarter\", \"2018\", \"2017-02-02\", \"2017-03-31\", \"2014\", \"2013-01-01\", \"2013-02-01\", \"2013-04-01\", \"2013-12-31\")"
   ]
  },
  {
   "cell_type": "code",
   "execution_count": 101,
   "metadata": {},
   "outputs": [],
   "source": [
    "inside_bill_contributions_11_1st_qtr = run_contributions_query_1st_qtr(\"inside\", \"11_1st_quarter\", \"2018\", \"2017-02-02\", \"2017-03-31\", \"2012\", \"2011-02-02\", \"2011-03-31\", \"2011-02-02\", \"2011-03-31\")\n",
    "outside_bill_contributions_11_1st_qtr = run_contributions_query_1st_qtr(\"outside\", \"11_1st_quarter\", \"2018\", \"2017-02-02\", \"2017-03-31\", \"2012\", \"2011-01-01\", \"2011-02-01\", \"2011-04-01\", \"2011-12-31\")"
   ]
  },
  {
   "cell_type": "code",
   "execution_count": 102,
   "metadata": {},
   "outputs": [],
   "source": [
    "inside_bill_contributions_09_1st_qtr = run_contributions_query_1st_qtr(\"inside\", \"09_1st_quarter\", \"2018\", \"2017-02-02\", \"2017-03-31\", \"2010\", \"2009-02-02\", \"2009-03-31\", \"2009-02-02\", \"2009-03-31\")\n",
    "outside_bill_contributions_09_1st_qtr = run_contributions_query_1st_qtr(\"outside\", \"09_1st_quarter\", \"2018\", \"2017-02-02\", \"2017-03-31\", \"2010\", \"2009-01-01\", \"2009-02-01\", \"2009-04-01\", \"2009-12-31\")"
   ]
  },
  {
   "cell_type": "markdown",
   "metadata": {},
   "source": [
    "## Return the donors who gave at least $50,000 to conservative and GOP-aligned groups between May 2 and June 30, 2017, split by their giving inside and outside of that period. Do this for every off-year going back to the 2010 cycle."
   ]
  },
  {
   "cell_type": "code",
   "execution_count": 103,
   "metadata": {},
   "outputs": [],
   "source": [
    "def run_donors_query_2nd_qtr(prefix, suffix, reference_cycle, reference_start, reference_end, cycle, start_one, end_one, start_two, end_two):\n",
    "    query = \"\"\"CREATE MATERIALIZED VIEW IF NOT EXISTS \"\"\"+prefix+\"\"\"_donors_committees_\"\"\"+suffix+\"\"\" AS\n",
    "                    SELECT match_id,\n",
    "                           organizations,\n",
    "                           contributors,\n",
    "                           sum(committee_total) AS total,\n",
    "                           cmte_id,\n",
    "                           pacshort AS committee\n",
    "                    FROM\n",
    "                      (SELECT match_id,\n",
    "                              organizations,\n",
    "                              contributors,\n",
    "                              sum(amount) AS committee_total,\n",
    "                              cmteid AS cmte_id\n",
    "                       FROM\n",
    "                         (SELECT CASE\n",
    "                                     WHEN trim(contribid) != '' THEN left(contribid, 11)\n",
    "                                     ELSE orgname\n",
    "                                 END AS match_id,\n",
    "                                 array_agg(DISTINCT orgname) AS organizations,\n",
    "                                 array_agg(DISTINCT contrib) AS contributors\n",
    "                          FROM crp_contributions\n",
    "                          LEFT JOIN crp_committees ON crp_contributions.cmteid = crp_committees.cmteid\n",
    "                          AND crp_committees.cycle = '\"\"\" + reference_cycle + \"\"\"'\n",
    "                          WHERE primcode IN ('J1100',\n",
    "                                             'J2200',\n",
    "                                             'J2400',\n",
    "                                             'Z1100',\n",
    "                                             'Z4100',\n",
    "                                             'Z4500',\n",
    "                                             'Z5100')\n",
    "                            AND date >= '\"\"\" + reference_start + \"\"\"'\n",
    "                            AND date <= '\"\"\" + reference_end + \"\"\"'\n",
    "                            AND crp_contributions.cycle = '\"\"\" + reference_cycle + \"\"\"'\n",
    "                            AND TYPE NOT IN ('11J',\n",
    "                                             '15C',\n",
    "                                             '15E',\n",
    "                                             '15I',\n",
    "                                             '15J',\n",
    "                                             '15T',\n",
    "                                             '18J',\n",
    "                                             '19J',\n",
    "                                             '30J',\n",
    "                                             '30F',\n",
    "                                             '31J',\n",
    "                                             '31F',\n",
    "                                             '32J',\n",
    "                                             '32F')\n",
    "                          GROUP BY match_id\n",
    "                          HAVING sum(amount) >= 50000) AS gop_donors\n",
    "                       JOIN crp_contributions ON CASE\n",
    "                                                     WHEN trim(contribid) != '' THEN left(contribid, 11)\n",
    "                                                     ELSE crp_contributions.orgname\n",
    "                                                 END = gop_donors.match_id\n",
    "                       WHERE date >= '\"\"\" + start_one + \"\"\"'\n",
    "                         AND date <= '\"\"\" + end_one + \"\"\"'\n",
    "                         or (date >= '\"\"\" + start_two + \"\"\"'\n",
    "                         and date <= '\"\"\" + end_two + \"\"\"')\n",
    "                         AND CYCLE = '\"\"\" + cycle + \"\"\"'\n",
    "                         AND TYPE NOT IN ('11J',\n",
    "                                          '15C',\n",
    "                                          '15E',\n",
    "                                          '15I',\n",
    "                                          '15J',\n",
    "                                          '15T',\n",
    "                                          '18J',\n",
    "                                          '19J',\n",
    "                                          '30J',\n",
    "                                          '30F',\n",
    "                                          '31J',\n",
    "                                          '31F',\n",
    "                                          '32J',\n",
    "                                          '32F')\n",
    "                       GROUP BY match_id,\n",
    "                                organizations,\n",
    "                                contributors,\n",
    "                                cmte_id) AS donors_committees\n",
    "                    JOIN crp_committees ON donors_committees.cmte_id = crp_committees.cmteid\n",
    "                    AND crp_committees.CYCLE = '\"\"\" + cycle + \"\"\"'\n",
    "                    WHERE primcode IN ('J1100',\n",
    "                                       'J2200',\n",
    "                                       'J2400',\n",
    "                                       'Z1100',\n",
    "                                       'Z4100',\n",
    "                                       'Z4500',\n",
    "                                       'Z5100')\n",
    "                    GROUP BY match_id,\n",
    "                             organizations,\n",
    "                             contributors,\n",
    "                             cmte_id,\n",
    "                             committee;\n",
    "\n",
    "                    SELECT *\n",
    "                    FROM \"\"\"+prefix+\"\"\"_donors_committees_\"\"\"+suffix+\"\"\";\n",
    "                    \"\"\"\n",
    "    return pd.read_sql(query, con=conn)"
   ]
  },
  {
   "cell_type": "markdown",
   "metadata": {},
   "source": [
    "## Return the data for each cycle."
   ]
  },
  {
   "cell_type": "code",
   "execution_count": 104,
   "metadata": {},
   "outputs": [],
   "source": [
    "inside_bill_donors_committees_17_2nd_qtr = run_donors_query_2nd_qtr(\"inside\", \"17_2nd_quarter\", \"2018\", \"2017-05-02\", \"2017-06-30\", \"2018\", \"2017-05-02\", \"2017-06-30\", \"2017-05-02\", \"2017-06-30\")\n",
    "outside_bill_donors_committees_17_2nd_qtr = run_donors_query_2nd_qtr(\"outside\", \"17_2nd_quarter\", \"2018\", \"2017-05-02\", \"2017-06-30\", \"2018\", \"2017-01-01\", \"2017-05-01\", \"2017-07-01\", \"2017-12-31\")"
   ]
  },
  {
   "cell_type": "code",
   "execution_count": 105,
   "metadata": {},
   "outputs": [],
   "source": [
    "inside_bill_donors_committees_15_2nd_qtr = run_donors_query_2nd_qtr(\"inside\", \"15_2nd_quarter\", \"2018\", \"2017-05-02\", \"2017-06-30\", \"2016\", \"2015-05-02\", \"2015-06-30\", \"2015-05-02\", \"2015-06-30\")\n",
    "outside_bill_donors_committees_15_2nd_qtr = run_donors_query_2nd_qtr(\"outside\", \"15_2nd_quarter\", \"2018\", \"2017-05-02\", \"2017-06-30\", \"2016\", \"2015-01-01\", \"2015-05-01\", \"2015-07-01\", \"2015-12-31\")"
   ]
  },
  {
   "cell_type": "code",
   "execution_count": 106,
   "metadata": {},
   "outputs": [],
   "source": [
    "inside_bill_donors_committees_13_2nd_qtr = run_donors_query_2nd_qtr(\"inside\", \"13_2nd_quarter\", \"2018\", \"2017-05-02\", \"2017-06-30\", \"2014\", \"2013-05-02\", \"2013-06-30\", \"2013-05-02\", \"2013-06-30\")\n",
    "outside_bill_donors_committees_13_2nd_qtr = run_donors_query_2nd_qtr(\"outside\", \"13_2nd_quarter\", \"2018\", \"2017-05-02\", \"2017-06-30\", \"2014\", \"2013-01-01\", \"2013-05-01\", \"2013-07-01\", \"2013-12-31\")"
   ]
  },
  {
   "cell_type": "code",
   "execution_count": 107,
   "metadata": {},
   "outputs": [],
   "source": [
    "inside_bill_donors_committees_11_2nd_qtr = run_donors_query_2nd_qtr(\"inside\", \"11_2nd_quarter\", \"2018\", \"2017-05-02\", \"2017-06-30\", \"2012\", \"2011-05-02\", \"2011-06-30\", \"2011-05-02\", \"2011-06-30\")\n",
    "outside_bill_donors_committees_11_2nd_qtr = run_donors_query_2nd_qtr(\"outside\", \"11_2nd_quarter\", \"2018\", \"2017-05-02\", \"2017-06-30\", \"2012\", \"2011-01-01\", \"2011-05-01\", \"2011-07-01\", \"2011-12-31\")"
   ]
  },
  {
   "cell_type": "code",
   "execution_count": 108,
   "metadata": {},
   "outputs": [],
   "source": [
    "inside_bill_donors_committees_09_2nd_qtr = run_donors_query_2nd_qtr(\"inside\", \"09_2nd_quarter\", \"2018\", \"2017-05-02\", \"2017-06-30\", \"2010\", \"2009-05-02\", \"2009-06-30\", \"2009-05-02\", \"2009-06-30\")\n",
    "outside_bill_donors_committees_09_2nd_qtr = run_donors_query_2nd_qtr(\"outside\", \"09_2nd_quarter\", \"2018\", \"2017-05-02\", \"2017-06-30\", \"2010\", \"2009-01-01\", \"2009-05-01\", \"2009-07-01\", \"2009-12-31\")"
   ]
  },
  {
   "cell_type": "markdown",
   "metadata": {},
   "source": [
    "## How much did each contributor give in each period for each cycle?"
   ]
  },
  {
   "cell_type": "markdown",
   "metadata": {},
   "source": [
    "### 2017"
   ]
  },
  {
   "cell_type": "code",
   "execution_count": 109,
   "metadata": {},
   "outputs": [],
   "source": [
    "inside_bill_donors_17_2nd_qtr = inside_bill_donors_committees_17_2nd_qtr.groupby([\"match_id\"]).agg({\"organizations\": max, \"contributors\": max, \"total\": sum}).reset_index()\n",
    "outside_bill_donors_17_2nd_qtr = outside_bill_donors_committees_17_2nd_qtr.groupby([\"match_id\"]).agg({\"organizations\": max, \"contributors\": max, \"total\": sum}).reset_index()"
   ]
  },
  {
   "cell_type": "code",
   "execution_count": 110,
   "metadata": {},
   "outputs": [
    {
     "name": "stdout",
     "output_type": "stream",
     "text": [
      "<class 'pandas.core.frame.DataFrame'>\n",
      "Int64Index: 219 entries, 0 to 218\n",
      "Data columns (total 5 columns):\n",
      "match_id              219 non-null object\n",
      "organizations         219 non-null object\n",
      "contributors          219 non-null object\n",
      "total_inside_bill     219 non-null float64\n",
      "total_outside_bill    219 non-null float64\n",
      "dtypes: float64(2), object(3)\n",
      "memory usage: 10.3+ KB\n"
     ]
    }
   ],
   "source": [
    "donors_17_2nd_qtr = inside_bill_donors_17_2nd_qtr.merge(outside_bill_donors_17_2nd_qtr, how=\"outer\", on=\"match_id\", suffixes=[\"_inside_bill\", \"_outside_bill\"])\n",
    "donors_17_2nd_qtr.drop([\"organizations_outside_bill\", \"contributors_outside_bill\"], axis=1, inplace=True)\n",
    "donors_17_2nd_qtr.rename(columns={\"organizations_inside_bill\": \"organizations\", \"contributors_inside_bill\": \"contributors\"}, inplace=True)\n",
    "donors_17_2nd_qtr[\"total_outside_bill\"].fillna(0, inplace=True)\n",
    "donors_17_2nd_qtr.info()"
   ]
  },
  {
   "cell_type": "code",
   "execution_count": 111,
   "metadata": {},
   "outputs": [
    {
     "data": {
      "text/html": [
       "<div>\n",
       "<style scoped>\n",
       "    .dataframe tbody tr th:only-of-type {\n",
       "        vertical-align: middle;\n",
       "    }\n",
       "\n",
       "    .dataframe tbody tr th {\n",
       "        vertical-align: top;\n",
       "    }\n",
       "\n",
       "    .dataframe thead th {\n",
       "        text-align: right;\n",
       "    }\n",
       "</style>\n",
       "<table border=\"1\" class=\"dataframe\">\n",
       "  <thead>\n",
       "    <tr style=\"text-align: right;\">\n",
       "      <th></th>\n",
       "      <th>match_id</th>\n",
       "      <th>organizations</th>\n",
       "      <th>contributors</th>\n",
       "      <th>total_inside_bill</th>\n",
       "      <th>total_outside_bill</th>\n",
       "      <th>pct_inside_bill</th>\n",
       "      <th>pct_outside_bill</th>\n",
       "      <th>change</th>\n",
       "      <th>pct_change</th>\n",
       "    </tr>\n",
       "  </thead>\n",
       "  <tbody>\n",
       "    <tr>\n",
       "      <th>54</th>\n",
       "      <td>U0000003690</td>\n",
       "      <td>[[24T Contribution], Uline Inc, None]</td>\n",
       "      <td>[UIHLEIN, RICHARD, UIHLEIN, RICHARD E, UIHLEIN...</td>\n",
       "      <td>3,263,500.00</td>\n",
       "      <td>13,454,300.00</td>\n",
       "      <td>0.20</td>\n",
       "      <td>0.80</td>\n",
       "      <td>-10,190,800.00</td>\n",
       "      <td>-0.76</td>\n",
       "    </tr>\n",
       "    <tr>\n",
       "      <th>16</th>\n",
       "      <td>U0000000073</td>\n",
       "      <td>[Western Refining]</td>\n",
       "      <td>[FOSTER, PAUL L]</td>\n",
       "      <td>1,495,400.00</td>\n",
       "      <td>308,400.00</td>\n",
       "      <td>0.83</td>\n",
       "      <td>0.17</td>\n",
       "      <td>1,187,000.00</td>\n",
       "      <td>3.85</td>\n",
       "    </tr>\n",
       "    <tr>\n",
       "      <th>118</th>\n",
       "      <td>d0000350730</td>\n",
       "      <td>[Aileron]</td>\n",
       "      <td>[MATHILE, CLAYTON]</td>\n",
       "      <td>1,000,000.00</td>\n",
       "      <td>0.00</td>\n",
       "      <td>1.00</td>\n",
       "      <td>0.00</td>\n",
       "      <td>1,000,000.00</td>\n",
       "      <td>inf</td>\n",
       "    </tr>\n",
       "    <tr>\n",
       "      <th>53</th>\n",
       "      <td>U0000003682</td>\n",
       "      <td>[Renaissance Technologies]</td>\n",
       "      <td>[MERCER, DIANA L MS, MERCER, ROBERT, MERCER, R...</td>\n",
       "      <td>868,000.00</td>\n",
       "      <td>3,297,100.00</td>\n",
       "      <td>0.21</td>\n",
       "      <td>0.79</td>\n",
       "      <td>-2,429,100.00</td>\n",
       "      <td>-0.74</td>\n",
       "    </tr>\n",
       "    <tr>\n",
       "      <th>26</th>\n",
       "      <td>U0000002706</td>\n",
       "      <td>[[24T Contribution], Ariel Corp]</td>\n",
       "      <td>[BUCHWALD-WRIGHT, KAREN MS, WRIGHT, KAREN, WRI...</td>\n",
       "      <td>730,216.00</td>\n",
       "      <td>738,600.00</td>\n",
       "      <td>0.50</td>\n",
       "      <td>0.50</td>\n",
       "      <td>-8,384.00</td>\n",
       "      <td>-0.01</td>\n",
       "    </tr>\n",
       "  </tbody>\n",
       "</table>\n",
       "</div>"
      ],
      "text/plain": [
       "        match_id                          organizations  \\\n",
       "54   U0000003690  [[24T Contribution], Uline Inc, None]   \n",
       "16   U0000000073                     [Western Refining]   \n",
       "118  d0000350730                              [Aileron]   \n",
       "53   U0000003682             [Renaissance Technologies]   \n",
       "26   U0000002706       [[24T Contribution], Ariel Corp]   \n",
       "\n",
       "                                          contributors  total_inside_bill  \\\n",
       "54   [UIHLEIN, RICHARD, UIHLEIN, RICHARD E, UIHLEIN...       3,263,500.00   \n",
       "16                                    [FOSTER, PAUL L]       1,495,400.00   \n",
       "118                                 [MATHILE, CLAYTON]       1,000,000.00   \n",
       "53   [MERCER, DIANA L MS, MERCER, ROBERT, MERCER, R...         868,000.00   \n",
       "26   [BUCHWALD-WRIGHT, KAREN MS, WRIGHT, KAREN, WRI...         730,216.00   \n",
       "\n",
       "     total_outside_bill  pct_inside_bill  pct_outside_bill         change  \\\n",
       "54        13,454,300.00             0.20              0.80 -10,190,800.00   \n",
       "16           308,400.00             0.83              0.17   1,187,000.00   \n",
       "118                0.00             1.00              0.00   1,000,000.00   \n",
       "53         3,297,100.00             0.21              0.79  -2,429,100.00   \n",
       "26           738,600.00             0.50              0.50      -8,384.00   \n",
       "\n",
       "     pct_change  \n",
       "54        -0.76  \n",
       "16         3.85  \n",
       "118         inf  \n",
       "53        -0.74  \n",
       "26        -0.01  "
      ]
     },
     "execution_count": 111,
     "metadata": {},
     "output_type": "execute_result"
    }
   ],
   "source": [
    "donors_17_2nd_qtr[\"pct_inside_bill\"] = donors_17_2nd_qtr[\"total_inside_bill\"] / (donors_17_2nd_qtr[\"total_outside_bill\"] + donors_17_2nd_qtr[\"total_inside_bill\"])\n",
    "donors_17_2nd_qtr[\"pct_outside_bill\"] = donors_17_2nd_qtr[\"total_outside_bill\"] / (donors_17_2nd_qtr[\"total_outside_bill\"] + donors_17_2nd_qtr[\"total_inside_bill\"])\n",
    "donors_17_2nd_qtr[\"change\"] = donors_17_2nd_qtr[\"total_inside_bill\"] - donors_17_2nd_qtr[\"total_outside_bill\"]\n",
    "donors_17_2nd_qtr[\"pct_change\"] = (donors_17_2nd_qtr[\"total_inside_bill\"] - donors_17_2nd_qtr[\"total_outside_bill\"]) / donors_17_2nd_qtr[\"total_outside_bill\"].abs()\n",
    "donors_17_2nd_qtr.sort_values(\"total_inside_bill\", ascending=False).head()"
   ]
  },
  {
   "cell_type": "markdown",
   "metadata": {},
   "source": [
    "#### How much did they give?"
   ]
  },
  {
   "cell_type": "code",
   "execution_count": 112,
   "metadata": {},
   "outputs": [
    {
     "name": "stdout",
     "output_type": "stream",
     "text": [
      "2017 inside-bill 2nd quarter total: $43698413.0\n",
      "2017 outside-bill 2nd quarter total: $70552000.0\n"
     ]
    }
   ],
   "source": [
    "print(\"2017 inside-bill 2nd quarter total: $\" + str(donors_17_2nd_qtr[\"total_inside_bill\"].sum()))\n",
    "print(\"2017 outside-bill 2nd quarter total: $\" + str(donors_17_2nd_qtr[\"total_outside_bill\"].sum()))"
   ]
  },
  {
   "cell_type": "markdown",
   "metadata": {},
   "source": [
    "### 2015"
   ]
  },
  {
   "cell_type": "code",
   "execution_count": 113,
   "metadata": {},
   "outputs": [],
   "source": [
    "inside_bill_donors_15_2nd_qtr = inside_bill_donors_committees_15_2nd_qtr.groupby([\"match_id\"]).agg({\"organizations\": max, \"contributors\": max, \"total\": sum}).reset_index()\n",
    "outside_bill_donors_15_2nd_qtr = outside_bill_donors_committees_15_2nd_qtr.groupby([\"match_id\"]).agg({\"organizations\": max, \"contributors\": max, \"total\": sum}).reset_index()"
   ]
  },
  {
   "cell_type": "code",
   "execution_count": 114,
   "metadata": {},
   "outputs": [
    {
     "name": "stdout",
     "output_type": "stream",
     "text": [
      "<class 'pandas.core.frame.DataFrame'>\n",
      "Int64Index: 186 entries, 0 to 185\n",
      "Data columns (total 5 columns):\n",
      "match_id              186 non-null object\n",
      "organizations         149 non-null object\n",
      "contributors          149 non-null object\n",
      "total_inside_bill     149 non-null float64\n",
      "total_outside_bill    186 non-null float64\n",
      "dtypes: float64(2), object(3)\n",
      "memory usage: 8.7+ KB\n"
     ]
    }
   ],
   "source": [
    "donors_15_2nd_qtr = inside_bill_donors_15_2nd_qtr.merge(outside_bill_donors_15_2nd_qtr, how=\"outer\", on=\"match_id\", suffixes=[\"_inside_bill\", \"_outside_bill\"])\n",
    "donors_15_2nd_qtr.drop([\"organizations_outside_bill\", \"contributors_outside_bill\"], axis=1, inplace=True)\n",
    "donors_15_2nd_qtr.rename(columns={\"organizations_inside_bill\": \"organizations\", \"contributors_inside_bill\": \"contributors\"}, inplace=True)\n",
    "donors_15_2nd_qtr[\"total_outside_bill\"].fillna(0, inplace=True)\n",
    "donors_15_2nd_qtr.info()"
   ]
  },
  {
   "cell_type": "code",
   "execution_count": 115,
   "metadata": {},
   "outputs": [
    {
     "data": {
      "text/html": [
       "<div>\n",
       "<style scoped>\n",
       "    .dataframe tbody tr th:only-of-type {\n",
       "        vertical-align: middle;\n",
       "    }\n",
       "\n",
       "    .dataframe tbody tr th {\n",
       "        vertical-align: top;\n",
       "    }\n",
       "\n",
       "    .dataframe thead th {\n",
       "        text-align: right;\n",
       "    }\n",
       "</style>\n",
       "<table border=\"1\" class=\"dataframe\">\n",
       "  <thead>\n",
       "    <tr style=\"text-align: right;\">\n",
       "      <th></th>\n",
       "      <th>match_id</th>\n",
       "      <th>organizations</th>\n",
       "      <th>contributors</th>\n",
       "      <th>total_inside_bill</th>\n",
       "      <th>total_outside_bill</th>\n",
       "      <th>pct_inside_bill</th>\n",
       "      <th>pct_outside_bill</th>\n",
       "      <th>change</th>\n",
       "      <th>pct_change</th>\n",
       "    </tr>\n",
       "  </thead>\n",
       "  <tbody>\n",
       "    <tr>\n",
       "      <th>7</th>\n",
       "      <td>U0000000074</td>\n",
       "      <td>[ABC Supply]</td>\n",
       "      <td>[HENDRICKS, DIANE, HENDRICKS, DIANE M MS]</td>\n",
       "      <td>5,000,000.00</td>\n",
       "      <td>-1,712,400.00</td>\n",
       "      <td>1.52</td>\n",
       "      <td>-0.52</td>\n",
       "      <td>6,712,400.00</td>\n",
       "      <td>3.92</td>\n",
       "    </tr>\n",
       "    <tr>\n",
       "      <th>43</th>\n",
       "      <td>U0000003690</td>\n",
       "      <td>[[24T Contribution], Uline Inc, None]</td>\n",
       "      <td>[UIHLEIN, RICHARD, UIHLEIN, RICHARD E, UIHLEIN...</td>\n",
       "      <td>3,196,100.00</td>\n",
       "      <td>2,143,200.00</td>\n",
       "      <td>0.60</td>\n",
       "      <td>0.40</td>\n",
       "      <td>1,052,900.00</td>\n",
       "      <td>0.49</td>\n",
       "    </tr>\n",
       "    <tr>\n",
       "      <th>25</th>\n",
       "      <td>U0000003307</td>\n",
       "      <td>[Bernard Marcus Family Foundation, None]</td>\n",
       "      <td>[MARCUS, BERNARD, MARCUS, BERNARD MR, MARCUS, ...</td>\n",
       "      <td>2,489,500.00</td>\n",
       "      <td>871,475.00</td>\n",
       "      <td>0.74</td>\n",
       "      <td>0.26</td>\n",
       "      <td>1,618,025.00</td>\n",
       "      <td>1.86</td>\n",
       "    </tr>\n",
       "    <tr>\n",
       "      <th>59</th>\n",
       "      <td>U0000004245</td>\n",
       "      <td>[Susquehanna International Group]</td>\n",
       "      <td>[YASS, JANINE, YASS, JANINE MRS, YASS, JEFF, Y...</td>\n",
       "      <td>2,282,400.00</td>\n",
       "      <td>768,900.00</td>\n",
       "      <td>0.75</td>\n",
       "      <td>0.25</td>\n",
       "      <td>1,513,500.00</td>\n",
       "      <td>1.97</td>\n",
       "    </tr>\n",
       "    <tr>\n",
       "      <th>5</th>\n",
       "      <td>U0000000066</td>\n",
       "      <td>[Elliott Management]</td>\n",
       "      <td>[SINGER, PAUL, SINGER, PAUL E MR, SINGER, PAUL...</td>\n",
       "      <td>1,681,590.00</td>\n",
       "      <td>4,904,992.00</td>\n",
       "      <td>0.26</td>\n",
       "      <td>0.74</td>\n",
       "      <td>-3,223,402.00</td>\n",
       "      <td>-0.66</td>\n",
       "    </tr>\n",
       "  </tbody>\n",
       "</table>\n",
       "</div>"
      ],
      "text/plain": [
       "       match_id                             organizations  \\\n",
       "7   U0000000074                              [ABC Supply]   \n",
       "43  U0000003690     [[24T Contribution], Uline Inc, None]   \n",
       "25  U0000003307  [Bernard Marcus Family Foundation, None]   \n",
       "59  U0000004245         [Susquehanna International Group]   \n",
       "5   U0000000066                      [Elliott Management]   \n",
       "\n",
       "                                         contributors  total_inside_bill  \\\n",
       "7           [HENDRICKS, DIANE, HENDRICKS, DIANE M MS]       5,000,000.00   \n",
       "43  [UIHLEIN, RICHARD, UIHLEIN, RICHARD E, UIHLEIN...       3,196,100.00   \n",
       "25  [MARCUS, BERNARD, MARCUS, BERNARD MR, MARCUS, ...       2,489,500.00   \n",
       "59  [YASS, JANINE, YASS, JANINE MRS, YASS, JEFF, Y...       2,282,400.00   \n",
       "5   [SINGER, PAUL, SINGER, PAUL E MR, SINGER, PAUL...       1,681,590.00   \n",
       "\n",
       "    total_outside_bill  pct_inside_bill  pct_outside_bill        change  \\\n",
       "7        -1,712,400.00             1.52             -0.52  6,712,400.00   \n",
       "43        2,143,200.00             0.60              0.40  1,052,900.00   \n",
       "25          871,475.00             0.74              0.26  1,618,025.00   \n",
       "59          768,900.00             0.75              0.25  1,513,500.00   \n",
       "5         4,904,992.00             0.26              0.74 -3,223,402.00   \n",
       "\n",
       "    pct_change  \n",
       "7         3.92  \n",
       "43        0.49  \n",
       "25        1.86  \n",
       "59        1.97  \n",
       "5        -0.66  "
      ]
     },
     "execution_count": 115,
     "metadata": {},
     "output_type": "execute_result"
    }
   ],
   "source": [
    "donors_15_2nd_qtr[\"pct_inside_bill\"] = donors_15_2nd_qtr[\"total_inside_bill\"] / (donors_15_2nd_qtr[\"total_outside_bill\"] + donors_15_2nd_qtr[\"total_inside_bill\"])\n",
    "donors_15_2nd_qtr[\"pct_outside_bill\"] = donors_15_2nd_qtr[\"total_outside_bill\"] / (donors_15_2nd_qtr[\"total_outside_bill\"] + donors_15_2nd_qtr[\"total_inside_bill\"])\n",
    "donors_15_2nd_qtr[\"change\"] = donors_15_2nd_qtr[\"total_inside_bill\"] - donors_15_2nd_qtr[\"total_outside_bill\"]\n",
    "donors_15_2nd_qtr[\"pct_change\"] = (donors_15_2nd_qtr[\"total_inside_bill\"] - donors_15_2nd_qtr[\"total_outside_bill\"]) / donors_15_2nd_qtr[\"total_outside_bill\"].abs()\n",
    "donors_15_2nd_qtr.sort_values(\"total_inside_bill\", ascending=False).head()"
   ]
  },
  {
   "cell_type": "markdown",
   "metadata": {},
   "source": [
    "#### How much did they give?"
   ]
  },
  {
   "cell_type": "code",
   "execution_count": 116,
   "metadata": {},
   "outputs": [
    {
     "name": "stdout",
     "output_type": "stream",
     "text": [
      "2015 inside-bill 2nd quarter total: $33142895.0\n",
      "2015 outside-bill 2nd quarter total: $74151346.0\n"
     ]
    }
   ],
   "source": [
    "print(\"2015 inside-bill 2nd quarter total: $\" + str(donors_15_2nd_qtr[\"total_inside_bill\"].sum()))\n",
    "print(\"2015 outside-bill 2nd quarter total: $\" + str(donors_15_2nd_qtr[\"total_outside_bill\"].sum()))"
   ]
  },
  {
   "cell_type": "markdown",
   "metadata": {},
   "source": [
    "### 2013"
   ]
  },
  {
   "cell_type": "code",
   "execution_count": 117,
   "metadata": {},
   "outputs": [],
   "source": [
    "inside_bill_donors_13_2nd_qtr = inside_bill_donors_committees_13_2nd_qtr.groupby([\"match_id\"]).agg({\"organizations\": max, \"contributors\": max, \"total\": sum}).reset_index()\n",
    "outside_bill_donors_13_2nd_qtr = outside_bill_donors_committees_13_2nd_qtr.groupby([\"match_id\"]).agg({\"organizations\": max, \"contributors\": max, \"total\": sum}).reset_index()"
   ]
  },
  {
   "cell_type": "code",
   "execution_count": 118,
   "metadata": {},
   "outputs": [
    {
     "name": "stdout",
     "output_type": "stream",
     "text": [
      "<class 'pandas.core.frame.DataFrame'>\n",
      "Int64Index: 158 entries, 0 to 157\n",
      "Data columns (total 5 columns):\n",
      "match_id              158 non-null object\n",
      "organizations         115 non-null object\n",
      "contributors          115 non-null object\n",
      "total_inside_bill     115 non-null float64\n",
      "total_outside_bill    158 non-null float64\n",
      "dtypes: float64(2), object(3)\n",
      "memory usage: 7.4+ KB\n"
     ]
    }
   ],
   "source": [
    "donors_13_2nd_qtr = inside_bill_donors_13_2nd_qtr.merge(outside_bill_donors_13_2nd_qtr, how=\"outer\", on=\"match_id\", suffixes=[\"_inside_bill\", \"_outside_bill\"])\n",
    "donors_13_2nd_qtr.drop([\"organizations_outside_bill\", \"contributors_outside_bill\"], axis=1, inplace=True)\n",
    "donors_13_2nd_qtr.rename(columns={\"organizations_inside_bill\": \"organizations\", \"contributors_inside_bill\": \"contributors\"}, inplace=True)\n",
    "donors_13_2nd_qtr[\"total_outside_bill\"].fillna(0, inplace=True)\n",
    "donors_13_2nd_qtr.info()"
   ]
  },
  {
   "cell_type": "code",
   "execution_count": 119,
   "metadata": {},
   "outputs": [
    {
     "data": {
      "text/html": [
       "<div>\n",
       "<style scoped>\n",
       "    .dataframe tbody tr th:only-of-type {\n",
       "        vertical-align: middle;\n",
       "    }\n",
       "\n",
       "    .dataframe tbody tr th {\n",
       "        vertical-align: top;\n",
       "    }\n",
       "\n",
       "    .dataframe thead th {\n",
       "        text-align: right;\n",
       "    }\n",
       "</style>\n",
       "<table border=\"1\" class=\"dataframe\">\n",
       "  <thead>\n",
       "    <tr style=\"text-align: right;\">\n",
       "      <th></th>\n",
       "      <th>match_id</th>\n",
       "      <th>organizations</th>\n",
       "      <th>contributors</th>\n",
       "      <th>total_inside_bill</th>\n",
       "      <th>total_outside_bill</th>\n",
       "      <th>pct_inside_bill</th>\n",
       "      <th>pct_outside_bill</th>\n",
       "      <th>change</th>\n",
       "      <th>pct_change</th>\n",
       "    </tr>\n",
       "  </thead>\n",
       "  <tbody>\n",
       "    <tr>\n",
       "      <th>52</th>\n",
       "      <td>U0000004245</td>\n",
       "      <td>[Susquehanna International Group]</td>\n",
       "      <td>[YASS, JANINE, YASS, JANINE MRS, YASS, JEFF, Y...</td>\n",
       "      <td>270,400.00</td>\n",
       "      <td>25,900.00</td>\n",
       "      <td>0.91</td>\n",
       "      <td>0.09</td>\n",
       "      <td>244,500.00</td>\n",
       "      <td>9.44</td>\n",
       "    </tr>\n",
       "    <tr>\n",
       "      <th>37</th>\n",
       "      <td>U0000003682</td>\n",
       "      <td>[Renaissance Technologies]</td>\n",
       "      <td>[MERCER, DIANA L MS, MERCER, ROBERT, MERCER, R...</td>\n",
       "      <td>208,800.00</td>\n",
       "      <td>89,600.00</td>\n",
       "      <td>0.70</td>\n",
       "      <td>0.30</td>\n",
       "      <td>119,200.00</td>\n",
       "      <td>1.33</td>\n",
       "    </tr>\n",
       "    <tr>\n",
       "      <th>46</th>\n",
       "      <td>U0000004017</td>\n",
       "      <td>[Bluff Point Assoc, Rein Capitol LLC]</td>\n",
       "      <td>[MCINERNEY, PAULA, MCINERNEY, PAULA G MRS, MC ...</td>\n",
       "      <td>162,400.00</td>\n",
       "      <td>188,000.00</td>\n",
       "      <td>0.46</td>\n",
       "      <td>0.54</td>\n",
       "      <td>-25,600.00</td>\n",
       "      <td>-0.14</td>\n",
       "    </tr>\n",
       "    <tr>\n",
       "      <th>32</th>\n",
       "      <td>U0000003614</td>\n",
       "      <td>[PVS Chemicals]</td>\n",
       "      <td>[NICHOLSON, ANN, NICHOLSON, ANN V, NICHOLSON, ...</td>\n",
       "      <td>123,300.00</td>\n",
       "      <td>78,800.00</td>\n",
       "      <td>0.61</td>\n",
       "      <td>0.39</td>\n",
       "      <td>44,500.00</td>\n",
       "      <td>0.56</td>\n",
       "    </tr>\n",
       "    <tr>\n",
       "      <th>62</th>\n",
       "      <td>U0000004622</td>\n",
       "      <td>[Ruffin Acquisitions LLC, Treasure Island]</td>\n",
       "      <td>[RUFFIN, PHILLIP, RUFFIN, PHILLIP MR]</td>\n",
       "      <td>116,070.00</td>\n",
       "      <td>9,600.00</td>\n",
       "      <td>0.92</td>\n",
       "      <td>0.08</td>\n",
       "      <td>106,470.00</td>\n",
       "      <td>11.09</td>\n",
       "    </tr>\n",
       "  </tbody>\n",
       "</table>\n",
       "</div>"
      ],
      "text/plain": [
       "       match_id                               organizations  \\\n",
       "52  U0000004245           [Susquehanna International Group]   \n",
       "37  U0000003682                  [Renaissance Technologies]   \n",
       "46  U0000004017       [Bluff Point Assoc, Rein Capitol LLC]   \n",
       "32  U0000003614                             [PVS Chemicals]   \n",
       "62  U0000004622  [Ruffin Acquisitions LLC, Treasure Island]   \n",
       "\n",
       "                                         contributors  total_inside_bill  \\\n",
       "52  [YASS, JANINE, YASS, JANINE MRS, YASS, JEFF, Y...         270,400.00   \n",
       "37  [MERCER, DIANA L MS, MERCER, ROBERT, MERCER, R...         208,800.00   \n",
       "46  [MCINERNEY, PAULA, MCINERNEY, PAULA G MRS, MC ...         162,400.00   \n",
       "32  [NICHOLSON, ANN, NICHOLSON, ANN V, NICHOLSON, ...         123,300.00   \n",
       "62              [RUFFIN, PHILLIP, RUFFIN, PHILLIP MR]         116,070.00   \n",
       "\n",
       "    total_outside_bill  pct_inside_bill  pct_outside_bill     change  \\\n",
       "52           25,900.00             0.91              0.09 244,500.00   \n",
       "37           89,600.00             0.70              0.30 119,200.00   \n",
       "46          188,000.00             0.46              0.54 -25,600.00   \n",
       "32           78,800.00             0.61              0.39  44,500.00   \n",
       "62            9,600.00             0.92              0.08 106,470.00   \n",
       "\n",
       "    pct_change  \n",
       "52        9.44  \n",
       "37        1.33  \n",
       "46       -0.14  \n",
       "32        0.56  \n",
       "62       11.09  "
      ]
     },
     "execution_count": 119,
     "metadata": {},
     "output_type": "execute_result"
    }
   ],
   "source": [
    "donors_13_2nd_qtr[\"pct_inside_bill\"] = donors_13_2nd_qtr[\"total_inside_bill\"] / (donors_13_2nd_qtr[\"total_outside_bill\"] + donors_13_2nd_qtr[\"total_inside_bill\"])\n",
    "donors_13_2nd_qtr[\"pct_outside_bill\"] = donors_13_2nd_qtr[\"total_outside_bill\"] / (donors_13_2nd_qtr[\"total_outside_bill\"] + donors_13_2nd_qtr[\"total_inside_bill\"])\n",
    "donors_13_2nd_qtr[\"change\"] = donors_13_2nd_qtr[\"total_inside_bill\"] - donors_13_2nd_qtr[\"total_outside_bill\"]\n",
    "donors_13_2nd_qtr[\"pct_change\"] = (donors_13_2nd_qtr[\"total_inside_bill\"] - donors_13_2nd_qtr[\"total_outside_bill\"]) / donors_13_2nd_qtr[\"total_outside_bill\"].abs()\n",
    "donors_13_2nd_qtr.sort_values(\"total_inside_bill\", ascending=False).head()"
   ]
  },
  {
   "cell_type": "markdown",
   "metadata": {},
   "source": [
    "#### How much did they give?"
   ]
  },
  {
   "cell_type": "code",
   "execution_count": 120,
   "metadata": {},
   "outputs": [
    {
     "name": "stdout",
     "output_type": "stream",
     "text": [
      "2013 inside-bill 2nd quarter total: $3738394.0\n",
      "2013 outside-bill 2nd quarter total: $11117095.0\n"
     ]
    }
   ],
   "source": [
    "print(\"2013 inside-bill 2nd quarter total: $\" + str(donors_13_2nd_qtr[\"total_inside_bill\"].sum()))\n",
    "print(\"2013 outside-bill 2nd quarter total: $\" + str(donors_13_2nd_qtr[\"total_outside_bill\"].sum()))"
   ]
  },
  {
   "cell_type": "markdown",
   "metadata": {},
   "source": [
    "### 2011"
   ]
  },
  {
   "cell_type": "code",
   "execution_count": 121,
   "metadata": {},
   "outputs": [],
   "source": [
    "inside_bill_donors_11_2nd_qtr = inside_bill_donors_committees_11_2nd_qtr.groupby([\"match_id\"]).agg({\"organizations\": max, \"contributors\": max, \"total\": sum}).reset_index()\n",
    "outside_bill_donors_11_2nd_qtr = outside_bill_donors_committees_11_2nd_qtr.groupby([\"match_id\"]).agg({\"organizations\": max, \"contributors\": max, \"total\": sum}).reset_index()"
   ]
  },
  {
   "cell_type": "code",
   "execution_count": 122,
   "metadata": {},
   "outputs": [
    {
     "name": "stdout",
     "output_type": "stream",
     "text": [
      "<class 'pandas.core.frame.DataFrame'>\n",
      "Int64Index: 172 entries, 0 to 171\n",
      "Data columns (total 5 columns):\n",
      "match_id              172 non-null object\n",
      "organizations         117 non-null object\n",
      "contributors          117 non-null object\n",
      "total_inside_bill     117 non-null float64\n",
      "total_outside_bill    172 non-null float64\n",
      "dtypes: float64(2), object(3)\n",
      "memory usage: 8.1+ KB\n"
     ]
    }
   ],
   "source": [
    "donors_11_2nd_qtr = inside_bill_donors_11_2nd_qtr.merge(outside_bill_donors_11_2nd_qtr, how=\"outer\", on=\"match_id\", suffixes=[\"_inside_bill\", \"_outside_bill\"])\n",
    "donors_11_2nd_qtr.drop([\"organizations_outside_bill\", \"contributors_outside_bill\"], axis=1, inplace=True)\n",
    "donors_11_2nd_qtr.rename(columns={\"organizations_inside_bill\": \"organizations\", \"contributors_inside_bill\": \"contributors\"}, inplace=True)\n",
    "donors_11_2nd_qtr[\"total_outside_bill\"].fillna(0, inplace=True)\n",
    "donors_11_2nd_qtr.info()"
   ]
  },
  {
   "cell_type": "code",
   "execution_count": 123,
   "metadata": {},
   "outputs": [
    {
     "data": {
      "text/html": [
       "<div>\n",
       "<style scoped>\n",
       "    .dataframe tbody tr th:only-of-type {\n",
       "        vertical-align: middle;\n",
       "    }\n",
       "\n",
       "    .dataframe tbody tr th {\n",
       "        vertical-align: top;\n",
       "    }\n",
       "\n",
       "    .dataframe thead th {\n",
       "        text-align: right;\n",
       "    }\n",
       "</style>\n",
       "<table border=\"1\" class=\"dataframe\">\n",
       "  <thead>\n",
       "    <tr style=\"text-align: right;\">\n",
       "      <th></th>\n",
       "      <th>match_id</th>\n",
       "      <th>organizations</th>\n",
       "      <th>contributors</th>\n",
       "      <th>total_inside_bill</th>\n",
       "      <th>total_outside_bill</th>\n",
       "      <th>pct_inside_bill</th>\n",
       "      <th>pct_outside_bill</th>\n",
       "      <th>change</th>\n",
       "      <th>pct_change</th>\n",
       "    </tr>\n",
       "  </thead>\n",
       "  <tbody>\n",
       "    <tr>\n",
       "      <th>23</th>\n",
       "      <td>U0000003585</td>\n",
       "      <td>[Homemaker, Putnam Investments, None]</td>\n",
       "      <td>[REYNOLDS, LAURA C, REYNOLDS, ROBERT, REYNOLDS...</td>\n",
       "      <td>236,000.00</td>\n",
       "      <td>64,700.00</td>\n",
       "      <td>0.78</td>\n",
       "      <td>0.22</td>\n",
       "      <td>171,300.00</td>\n",
       "      <td>2.65</td>\n",
       "    </tr>\n",
       "    <tr>\n",
       "      <th>32</th>\n",
       "      <td>U0000003819</td>\n",
       "      <td>[Caxton Alternative Management]</td>\n",
       "      <td>[KOVNER, BRUCE, KOVNER, BRUCE MR, KOVNER, SUZA...</td>\n",
       "      <td>180,000.00</td>\n",
       "      <td>0.00</td>\n",
       "      <td>1.00</td>\n",
       "      <td>0.00</td>\n",
       "      <td>180,000.00</td>\n",
       "      <td>inf</td>\n",
       "    </tr>\n",
       "    <tr>\n",
       "      <th>13</th>\n",
       "      <td>U0000003273</td>\n",
       "      <td>[Harold Simmons Foundation]</td>\n",
       "      <td>[SIMMONS, ANNETTE]</td>\n",
       "      <td>138,500.00</td>\n",
       "      <td>5,646,100.00</td>\n",
       "      <td>0.02</td>\n",
       "      <td>0.98</td>\n",
       "      <td>-5,507,600.00</td>\n",
       "      <td>-0.98</td>\n",
       "    </tr>\n",
       "    <tr>\n",
       "      <th>9</th>\n",
       "      <td>U0000002706</td>\n",
       "      <td>[[24T Contribution], Ariel Corp]</td>\n",
       "      <td>[BUCHWALD-WRIGHT, KAREN MS, WRIGHT, KAREN, WRI...</td>\n",
       "      <td>137,100.00</td>\n",
       "      <td>34,300.00</td>\n",
       "      <td>0.80</td>\n",
       "      <td>0.20</td>\n",
       "      <td>102,800.00</td>\n",
       "      <td>3.00</td>\n",
       "    </tr>\n",
       "    <tr>\n",
       "      <th>31</th>\n",
       "      <td>U0000003690</td>\n",
       "      <td>[[24T Contribution], Uline Inc, None]</td>\n",
       "      <td>[UIHLEIN, RICHARD, UIHLEIN, RICHARD E, UIHLEIN...</td>\n",
       "      <td>135,000.00</td>\n",
       "      <td>446,000.00</td>\n",
       "      <td>0.23</td>\n",
       "      <td>0.77</td>\n",
       "      <td>-311,000.00</td>\n",
       "      <td>-0.70</td>\n",
       "    </tr>\n",
       "  </tbody>\n",
       "</table>\n",
       "</div>"
      ],
      "text/plain": [
       "       match_id                          organizations  \\\n",
       "23  U0000003585  [Homemaker, Putnam Investments, None]   \n",
       "32  U0000003819        [Caxton Alternative Management]   \n",
       "13  U0000003273            [Harold Simmons Foundation]   \n",
       "9   U0000002706       [[24T Contribution], Ariel Corp]   \n",
       "31  U0000003690  [[24T Contribution], Uline Inc, None]   \n",
       "\n",
       "                                         contributors  total_inside_bill  \\\n",
       "23  [REYNOLDS, LAURA C, REYNOLDS, ROBERT, REYNOLDS...         236,000.00   \n",
       "32  [KOVNER, BRUCE, KOVNER, BRUCE MR, KOVNER, SUZA...         180,000.00   \n",
       "13                                 [SIMMONS, ANNETTE]         138,500.00   \n",
       "9   [BUCHWALD-WRIGHT, KAREN MS, WRIGHT, KAREN, WRI...         137,100.00   \n",
       "31  [UIHLEIN, RICHARD, UIHLEIN, RICHARD E, UIHLEIN...         135,000.00   \n",
       "\n",
       "    total_outside_bill  pct_inside_bill  pct_outside_bill        change  \\\n",
       "23           64,700.00             0.78              0.22    171,300.00   \n",
       "32                0.00             1.00              0.00    180,000.00   \n",
       "13        5,646,100.00             0.02              0.98 -5,507,600.00   \n",
       "9            34,300.00             0.80              0.20    102,800.00   \n",
       "31          446,000.00             0.23              0.77   -311,000.00   \n",
       "\n",
       "    pct_change  \n",
       "23        2.65  \n",
       "32         inf  \n",
       "13       -0.98  \n",
       "9         3.00  \n",
       "31       -0.70  "
      ]
     },
     "execution_count": 123,
     "metadata": {},
     "output_type": "execute_result"
    }
   ],
   "source": [
    "donors_11_2nd_qtr[\"pct_inside_bill\"] = donors_11_2nd_qtr[\"total_inside_bill\"] / (donors_11_2nd_qtr[\"total_outside_bill\"] + donors_11_2nd_qtr[\"total_inside_bill\"])\n",
    "donors_11_2nd_qtr[\"pct_outside_bill\"] = donors_11_2nd_qtr[\"total_outside_bill\"] / (donors_11_2nd_qtr[\"total_outside_bill\"] + donors_11_2nd_qtr[\"total_inside_bill\"])\n",
    "donors_11_2nd_qtr[\"change\"] = donors_11_2nd_qtr[\"total_inside_bill\"] - donors_11_2nd_qtr[\"total_outside_bill\"]\n",
    "donors_11_2nd_qtr[\"pct_change\"] = (donors_11_2nd_qtr[\"total_inside_bill\"] - donors_11_2nd_qtr[\"total_outside_bill\"]) / donors_11_2nd_qtr[\"total_outside_bill\"].abs()\n",
    "donors_11_2nd_qtr.sort_values(\"total_inside_bill\", ascending=False).head()"
   ]
  },
  {
   "cell_type": "markdown",
   "metadata": {},
   "source": [
    "#### How much did they give?"
   ]
  },
  {
   "cell_type": "code",
   "execution_count": 124,
   "metadata": {},
   "outputs": [
    {
     "name": "stdout",
     "output_type": "stream",
     "text": [
      "2011 inside-bill 2nd quarter total: $2840199.0\n",
      "2011 outside-bill 2nd quarter total: $18952905.0\n"
     ]
    }
   ],
   "source": [
    "print(\"2011 inside-bill 2nd quarter total: $\" + str(donors_11_2nd_qtr[\"total_inside_bill\"].sum()))\n",
    "print(\"2011 outside-bill 2nd quarter total: $\" + str(donors_11_2nd_qtr[\"total_outside_bill\"].sum()))"
   ]
  },
  {
   "cell_type": "markdown",
   "metadata": {},
   "source": [
    "### 2009"
   ]
  },
  {
   "cell_type": "code",
   "execution_count": 125,
   "metadata": {},
   "outputs": [],
   "source": [
    "inside_bill_donors_09_2nd_qtr = inside_bill_donors_committees_09_2nd_qtr.groupby([\"match_id\"]).agg({\"organizations\": max, \"contributors\": max, \"total\": sum}).reset_index()\n",
    "outside_bill_donors_09_2nd_qtr = outside_bill_donors_committees_09_2nd_qtr.groupby([\"match_id\"]).agg({\"organizations\": max, \"contributors\": max, \"total\": sum}).reset_index()"
   ]
  },
  {
   "cell_type": "code",
   "execution_count": 126,
   "metadata": {},
   "outputs": [
    {
     "name": "stdout",
     "output_type": "stream",
     "text": [
      "<class 'pandas.core.frame.DataFrame'>\n",
      "Int64Index: 133 entries, 0 to 132\n",
      "Data columns (total 5 columns):\n",
      "match_id              133 non-null object\n",
      "organizations         77 non-null object\n",
      "contributors          77 non-null object\n",
      "total_inside_bill     77 non-null float64\n",
      "total_outside_bill    133 non-null float64\n",
      "dtypes: float64(2), object(3)\n",
      "memory usage: 6.2+ KB\n"
     ]
    }
   ],
   "source": [
    "donors_09_2nd_qtr = inside_bill_donors_09_2nd_qtr.merge(outside_bill_donors_09_2nd_qtr, how=\"outer\", on=\"match_id\", suffixes=[\"_inside_bill\", \"_outside_bill\"])\n",
    "donors_09_2nd_qtr.drop([\"organizations_outside_bill\", \"contributors_outside_bill\"], axis=1, inplace=True)\n",
    "donors_09_2nd_qtr.rename(columns={\"organizations_inside_bill\": \"organizations\", \"contributors_inside_bill\": \"contributors\"}, inplace=True)\n",
    "donors_09_2nd_qtr[\"total_outside_bill\"].fillna(0, inplace=True)\n",
    "donors_09_2nd_qtr.info()"
   ]
  },
  {
   "cell_type": "code",
   "execution_count": 127,
   "metadata": {},
   "outputs": [
    {
     "data": {
      "text/html": [
       "<div>\n",
       "<style scoped>\n",
       "    .dataframe tbody tr th:only-of-type {\n",
       "        vertical-align: middle;\n",
       "    }\n",
       "\n",
       "    .dataframe tbody tr th {\n",
       "        vertical-align: top;\n",
       "    }\n",
       "\n",
       "    .dataframe thead th {\n",
       "        text-align: right;\n",
       "    }\n",
       "</style>\n",
       "<table border=\"1\" class=\"dataframe\">\n",
       "  <thead>\n",
       "    <tr style=\"text-align: right;\">\n",
       "      <th></th>\n",
       "      <th>match_id</th>\n",
       "      <th>organizations</th>\n",
       "      <th>contributors</th>\n",
       "      <th>total_inside_bill</th>\n",
       "      <th>total_outside_bill</th>\n",
       "      <th>pct_inside_bill</th>\n",
       "      <th>pct_outside_bill</th>\n",
       "      <th>change</th>\n",
       "      <th>pct_change</th>\n",
       "    </tr>\n",
       "  </thead>\n",
       "  <tbody>\n",
       "    <tr>\n",
       "      <th>14</th>\n",
       "      <td>U0000003168</td>\n",
       "      <td>[TAMKO Building Products]</td>\n",
       "      <td>[HUMPHREYS, DAVID, HUMPHREYS, DAVID C, HUMPHRE...</td>\n",
       "      <td>74,600.00</td>\n",
       "      <td>62,800.00</td>\n",
       "      <td>0.54</td>\n",
       "      <td>0.46</td>\n",
       "      <td>11,800.00</td>\n",
       "      <td>0.19</td>\n",
       "    </tr>\n",
       "    <tr>\n",
       "      <th>7</th>\n",
       "      <td>U0000000310</td>\n",
       "      <td>[Adelson Drug Clinic, Interface Group, Las Veg...</td>\n",
       "      <td>[ADELSON, MIRIAM DR, ADELSON, MIRIAM DR DR, AD...</td>\n",
       "      <td>70,400.00</td>\n",
       "      <td>73,600.00</td>\n",
       "      <td>0.49</td>\n",
       "      <td>0.51</td>\n",
       "      <td>-3,200.00</td>\n",
       "      <td>-0.04</td>\n",
       "    </tr>\n",
       "    <tr>\n",
       "      <th>23</th>\n",
       "      <td>U0000003463</td>\n",
       "      <td>[[24T Contribution], Exoxemis Inc]</td>\n",
       "      <td>[STEPHENS, JACKSON T JR]</td>\n",
       "      <td>50,400.00</td>\n",
       "      <td>174,406.00</td>\n",
       "      <td>0.22</td>\n",
       "      <td>0.78</td>\n",
       "      <td>-124,006.00</td>\n",
       "      <td>-0.71</td>\n",
       "    </tr>\n",
       "    <tr>\n",
       "      <th>18</th>\n",
       "      <td>U0000003273</td>\n",
       "      <td>[Harold Simmons Foundation]</td>\n",
       "      <td>[SIMMONS, ANNETTE]</td>\n",
       "      <td>47,200.00</td>\n",
       "      <td>91,500.00</td>\n",
       "      <td>0.34</td>\n",
       "      <td>0.66</td>\n",
       "      <td>-44,300.00</td>\n",
       "      <td>-0.48</td>\n",
       "    </tr>\n",
       "    <tr>\n",
       "      <th>29</th>\n",
       "      <td>U0000003658</td>\n",
       "      <td>[Franklin Resources, None]</td>\n",
       "      <td>[JOHNSON, ANN, JOHNSON, ANN L, JOHNSON, ANN L ...</td>\n",
       "      <td>45,400.00</td>\n",
       "      <td>62,200.00</td>\n",
       "      <td>0.42</td>\n",
       "      <td>0.58</td>\n",
       "      <td>-16,800.00</td>\n",
       "      <td>-0.27</td>\n",
       "    </tr>\n",
       "  </tbody>\n",
       "</table>\n",
       "</div>"
      ],
      "text/plain": [
       "       match_id                                      organizations  \\\n",
       "14  U0000003168                          [TAMKO Building Products]   \n",
       "7   U0000000310  [Adelson Drug Clinic, Interface Group, Las Veg...   \n",
       "23  U0000003463                 [[24T Contribution], Exoxemis Inc]   \n",
       "18  U0000003273                        [Harold Simmons Foundation]   \n",
       "29  U0000003658                         [Franklin Resources, None]   \n",
       "\n",
       "                                         contributors  total_inside_bill  \\\n",
       "14  [HUMPHREYS, DAVID, HUMPHREYS, DAVID C, HUMPHRE...          74,600.00   \n",
       "7   [ADELSON, MIRIAM DR, ADELSON, MIRIAM DR DR, AD...          70,400.00   \n",
       "23                           [STEPHENS, JACKSON T JR]          50,400.00   \n",
       "18                                 [SIMMONS, ANNETTE]          47,200.00   \n",
       "29  [JOHNSON, ANN, JOHNSON, ANN L, JOHNSON, ANN L ...          45,400.00   \n",
       "\n",
       "    total_outside_bill  pct_inside_bill  pct_outside_bill      change  \\\n",
       "14           62,800.00             0.54              0.46   11,800.00   \n",
       "7            73,600.00             0.49              0.51   -3,200.00   \n",
       "23          174,406.00             0.22              0.78 -124,006.00   \n",
       "18           91,500.00             0.34              0.66  -44,300.00   \n",
       "29           62,200.00             0.42              0.58  -16,800.00   \n",
       "\n",
       "    pct_change  \n",
       "14        0.19  \n",
       "7        -0.04  \n",
       "23       -0.71  \n",
       "18       -0.48  \n",
       "29       -0.27  "
      ]
     },
     "execution_count": 127,
     "metadata": {},
     "output_type": "execute_result"
    }
   ],
   "source": [
    "donors_09_2nd_qtr[\"pct_inside_bill\"] = donors_09_2nd_qtr[\"total_inside_bill\"] / (donors_09_2nd_qtr[\"total_outside_bill\"] + donors_09_2nd_qtr[\"total_inside_bill\"])\n",
    "donors_09_2nd_qtr[\"pct_outside_bill\"] = donors_09_2nd_qtr[\"total_outside_bill\"] / (donors_09_2nd_qtr[\"total_outside_bill\"] + donors_09_2nd_qtr[\"total_inside_bill\"])\n",
    "donors_09_2nd_qtr[\"change\"] = donors_09_2nd_qtr[\"total_inside_bill\"] - donors_09_2nd_qtr[\"total_outside_bill\"]\n",
    "donors_09_2nd_qtr[\"pct_change\"] = (donors_09_2nd_qtr[\"total_inside_bill\"] - donors_09_2nd_qtr[\"total_outside_bill\"]) / donors_09_2nd_qtr[\"total_outside_bill\"].abs()\n",
    "donors_09_2nd_qtr.sort_values(\"total_inside_bill\", ascending=False).head()"
   ]
  },
  {
   "cell_type": "code",
   "execution_count": 128,
   "metadata": {},
   "outputs": [
    {
     "name": "stdout",
     "output_type": "stream",
     "text": [
      "2009 inside-bill 2nd quarter total: $888939.0\n",
      "2009 outside-bill 2nd quarter total: $3713898.0\n"
     ]
    }
   ],
   "source": [
    "print(\"2009 inside-bill 2nd quarter total: $\" + str(donors_09_2nd_qtr[\"total_inside_bill\"].sum()))\n",
    "print(\"2009 outside-bill 2nd quarter total: $\" + str(donors_09_2nd_qtr[\"total_outside_bill\"].sum()))"
   ]
  },
  {
   "cell_type": "markdown",
   "metadata": {},
   "source": [
    "## How did each contributor's giving pattern change in each cycle compared with 2017?"
   ]
  },
  {
   "cell_type": "markdown",
   "metadata": {},
   "source": [
    "### 2015"
   ]
  },
  {
   "cell_type": "code",
   "execution_count": 129,
   "metadata": {},
   "outputs": [
    {
     "name": "stdout",
     "output_type": "stream",
     "text": [
      "<class 'pandas.core.frame.DataFrame'>\n",
      "Int64Index: 219 entries, 0 to 218\n",
      "Data columns (total 11 columns):\n",
      "match_id                 219 non-null object\n",
      "contributors             219 non-null object\n",
      "organizations            219 non-null object\n",
      "total_outside_bill_15    186 non-null float64\n",
      "total_inside_bill_15     149 non-null float64\n",
      "pct_outside_bill_15      149 non-null float64\n",
      "pct_inside_bill_15       149 non-null float64\n",
      "total_outside_bill_17    219 non-null float64\n",
      "total_inside_bill_17     219 non-null float64\n",
      "pct_outside_bill_17      219 non-null float64\n",
      "pct_inside_bill_17       219 non-null float64\n",
      "dtypes: float64(8), object(3)\n",
      "memory usage: 20.5+ KB\n"
     ]
    }
   ],
   "source": [
    "donors_15_17_2nd_qtr = donors_17_2nd_qtr.merge(donors_15_2nd_qtr, how=\"outer\", on=\"match_id\", suffixes=[\"_17\", \"_15\"])\n",
    "donors_15_17_2nd_qtr.drop([\"change_17\", \"pct_change_17\", \"change_15\", \"pct_change_15\"],\n",
    "            axis=1, inplace=True)\n",
    "donors_15_17_2nd_qtr.rename(columns={\"organizations_17\": \"organizations\", \"contributors_17\": \"contributors\"}, inplace=True)\n",
    "donors_15_17_2nd_qtr = donors_15_17_2nd_qtr[[\"match_id\", \"contributors\", \"organizations\", \"total_outside_bill_15\", \"total_inside_bill_15\",\n",
    "                 \"pct_outside_bill_15\", \"pct_inside_bill_15\", \"total_outside_bill_17\", \"total_inside_bill_17\",\n",
    "                 \"pct_outside_bill_17\", \"pct_inside_bill_17\"]]\n",
    "donors_15_17_2nd_qtr.info()"
   ]
  },
  {
   "cell_type": "code",
   "execution_count": 130,
   "metadata": {},
   "outputs": [
    {
     "data": {
      "text/html": [
       "<div>\n",
       "<style scoped>\n",
       "    .dataframe tbody tr th:only-of-type {\n",
       "        vertical-align: middle;\n",
       "    }\n",
       "\n",
       "    .dataframe tbody tr th {\n",
       "        vertical-align: top;\n",
       "    }\n",
       "\n",
       "    .dataframe thead th {\n",
       "        text-align: right;\n",
       "    }\n",
       "</style>\n",
       "<table border=\"1\" class=\"dataframe\">\n",
       "  <thead>\n",
       "    <tr style=\"text-align: right;\">\n",
       "      <th></th>\n",
       "      <th>match_id</th>\n",
       "      <th>contributors</th>\n",
       "      <th>organizations</th>\n",
       "      <th>total_outside_bill_15</th>\n",
       "      <th>total_inside_bill_15</th>\n",
       "      <th>pct_outside_bill_15</th>\n",
       "      <th>pct_inside_bill_15</th>\n",
       "      <th>total_outside_bill_17</th>\n",
       "      <th>total_inside_bill_17</th>\n",
       "      <th>pct_outside_bill_17</th>\n",
       "      <th>pct_inside_bill_17</th>\n",
       "      <th>giving_change</th>\n",
       "    </tr>\n",
       "  </thead>\n",
       "  <tbody>\n",
       "    <tr>\n",
       "      <th>0</th>\n",
       "      <td>Ak-Chin Indian Community</td>\n",
       "      <td>[AK-CHIN INDIAN COMMUNITY, AK-CHIN INDIAN COMM...</td>\n",
       "      <td>[Ak-Chin Indian Community]</td>\n",
       "      <td>15,200.00</td>\n",
       "      <td>110,000.00</td>\n",
       "      <td>0.12</td>\n",
       "      <td>0.88</td>\n",
       "      <td>6,000.00</td>\n",
       "      <td>93,400.00</td>\n",
       "      <td>0.06</td>\n",
       "      <td>0.94</td>\n",
       "      <td>Increased</td>\n",
       "    </tr>\n",
       "  </tbody>\n",
       "</table>\n",
       "</div>"
      ],
      "text/plain": [
       "                   match_id  \\\n",
       "0  Ak-Chin Indian Community   \n",
       "\n",
       "                                        contributors  \\\n",
       "0  [AK-CHIN INDIAN COMMUNITY, AK-CHIN INDIAN COMM...   \n",
       "\n",
       "                organizations  total_outside_bill_15  total_inside_bill_15  \\\n",
       "0  [Ak-Chin Indian Community]              15,200.00            110,000.00   \n",
       "\n",
       "   pct_outside_bill_15  pct_inside_bill_15  total_outside_bill_17  \\\n",
       "0                 0.12                0.88               6,000.00   \n",
       "\n",
       "   total_inside_bill_17  pct_outside_bill_17  pct_inside_bill_17 giving_change  \n",
       "0             93,400.00                 0.06                0.94     Increased  "
      ]
     },
     "execution_count": 130,
     "metadata": {},
     "output_type": "execute_result"
    }
   ],
   "source": [
    "donors_15_17_2nd_qtr[\"giving_change\"] = np.where((donors_15_17_2nd_qtr[\"pct_inside_bill_17\"] > donors_15_17_2nd_qtr[\"pct_inside_bill_15\"]) | (donors_15_17_2nd_qtr[\"pct_outside_bill_15\"].isnull()), \"Increased\",\n",
    "                                  np.where(donors_15_17_2nd_qtr[\"pct_inside_bill_17\"] < donors_15_17_2nd_qtr[\"pct_inside_bill_15\"], \"Decreased\",\n",
    "                                           np.where(donors_15_17_2nd_qtr[\"pct_inside_bill_17\"] == donors_15_17_2nd_qtr[\"pct_inside_bill_15\"], \"Stayed the same\",\n",
    "                                                   \"Other\")))\n",
    "donors_15_17_2nd_qtr.head(1)"
   ]
  },
  {
   "cell_type": "markdown",
   "metadata": {},
   "source": [
    "### 2013"
   ]
  },
  {
   "cell_type": "code",
   "execution_count": 131,
   "metadata": {},
   "outputs": [
    {
     "name": "stdout",
     "output_type": "stream",
     "text": [
      "<class 'pandas.core.frame.DataFrame'>\n",
      "Int64Index: 219 entries, 0 to 218\n",
      "Data columns (total 11 columns):\n",
      "match_id                 219 non-null object\n",
      "contributors             219 non-null object\n",
      "organizations            219 non-null object\n",
      "total_outside_bill_13    158 non-null float64\n",
      "total_inside_bill_13     115 non-null float64\n",
      "pct_outside_bill_13      115 non-null float64\n",
      "pct_inside_bill_13       115 non-null float64\n",
      "total_outside_bill_17    219 non-null float64\n",
      "total_inside_bill_17     219 non-null float64\n",
      "pct_outside_bill_17      219 non-null float64\n",
      "pct_inside_bill_17       219 non-null float64\n",
      "dtypes: float64(8), object(3)\n",
      "memory usage: 20.5+ KB\n"
     ]
    }
   ],
   "source": [
    "donors_13_17_2nd_qtr = donors_17_2nd_qtr.merge(donors_13_2nd_qtr, how=\"outer\", on=\"match_id\", suffixes=[\"_17\", \"_13\"])\n",
    "donors_13_17_2nd_qtr.drop([\"change_17\", \"pct_change_17\", \"change_13\", \"pct_change_13\"],\n",
    "            axis=1, inplace=True)\n",
    "donors_13_17_2nd_qtr.rename(columns={\"organizations_17\": \"organizations\", \"contributors_17\": \"contributors\"}, inplace=True)\n",
    "donors_13_17_2nd_qtr = donors_13_17_2nd_qtr[[\"match_id\", \"contributors\", \"organizations\", \"total_outside_bill_13\", \"total_inside_bill_13\",\n",
    "                 \"pct_outside_bill_13\", \"pct_inside_bill_13\", \"total_outside_bill_17\", \"total_inside_bill_17\",\n",
    "                 \"pct_outside_bill_17\", \"pct_inside_bill_17\"]]\n",
    "donors_13_17_2nd_qtr.info()"
   ]
  },
  {
   "cell_type": "code",
   "execution_count": 132,
   "metadata": {},
   "outputs": [
    {
     "data": {
      "text/html": [
       "<div>\n",
       "<style scoped>\n",
       "    .dataframe tbody tr th:only-of-type {\n",
       "        vertical-align: middle;\n",
       "    }\n",
       "\n",
       "    .dataframe tbody tr th {\n",
       "        vertical-align: top;\n",
       "    }\n",
       "\n",
       "    .dataframe thead th {\n",
       "        text-align: right;\n",
       "    }\n",
       "</style>\n",
       "<table border=\"1\" class=\"dataframe\">\n",
       "  <thead>\n",
       "    <tr style=\"text-align: right;\">\n",
       "      <th></th>\n",
       "      <th>match_id</th>\n",
       "      <th>contributors</th>\n",
       "      <th>organizations</th>\n",
       "      <th>total_outside_bill_13</th>\n",
       "      <th>total_inside_bill_13</th>\n",
       "      <th>pct_outside_bill_13</th>\n",
       "      <th>pct_inside_bill_13</th>\n",
       "      <th>total_outside_bill_17</th>\n",
       "      <th>total_inside_bill_17</th>\n",
       "      <th>pct_outside_bill_17</th>\n",
       "      <th>pct_inside_bill_17</th>\n",
       "      <th>giving_change</th>\n",
       "    </tr>\n",
       "  </thead>\n",
       "  <tbody>\n",
       "    <tr>\n",
       "      <th>0</th>\n",
       "      <td>Ak-Chin Indian Community</td>\n",
       "      <td>[AK-CHIN INDIAN COMMUNITY, AK-CHIN INDIAN COMM...</td>\n",
       "      <td>[Ak-Chin Indian Community]</td>\n",
       "      <td>62,800.00</td>\n",
       "      <td>49,600.00</td>\n",
       "      <td>0.56</td>\n",
       "      <td>0.44</td>\n",
       "      <td>6,000.00</td>\n",
       "      <td>93,400.00</td>\n",
       "      <td>0.06</td>\n",
       "      <td>0.94</td>\n",
       "      <td>Increased</td>\n",
       "    </tr>\n",
       "  </tbody>\n",
       "</table>\n",
       "</div>"
      ],
      "text/plain": [
       "                   match_id  \\\n",
       "0  Ak-Chin Indian Community   \n",
       "\n",
       "                                        contributors  \\\n",
       "0  [AK-CHIN INDIAN COMMUNITY, AK-CHIN INDIAN COMM...   \n",
       "\n",
       "                organizations  total_outside_bill_13  total_inside_bill_13  \\\n",
       "0  [Ak-Chin Indian Community]              62,800.00             49,600.00   \n",
       "\n",
       "   pct_outside_bill_13  pct_inside_bill_13  total_outside_bill_17  \\\n",
       "0                 0.56                0.44               6,000.00   \n",
       "\n",
       "   total_inside_bill_17  pct_outside_bill_17  pct_inside_bill_17 giving_change  \n",
       "0             93,400.00                 0.06                0.94     Increased  "
      ]
     },
     "execution_count": 132,
     "metadata": {},
     "output_type": "execute_result"
    }
   ],
   "source": [
    "donors_13_17_2nd_qtr[\"giving_change\"] = np.where((donors_13_17_2nd_qtr[\"pct_inside_bill_17\"] > donors_13_17_2nd_qtr[\"pct_inside_bill_13\"]) | (donors_13_17_2nd_qtr[\"pct_outside_bill_13\"].isnull()), \"Increased\",\n",
    "                                  np.where(donors_13_17_2nd_qtr[\"pct_inside_bill_17\"] < donors_13_17_2nd_qtr[\"pct_inside_bill_13\"], \"Decreased\",\n",
    "                                           np.where(donors_13_17_2nd_qtr[\"pct_inside_bill_17\"] == donors_13_17_2nd_qtr[\"pct_inside_bill_13\"], \"Stayed the same\",\n",
    "                                                   \"Other\")))\n",
    "donors_13_17_2nd_qtr.head(1)"
   ]
  },
  {
   "cell_type": "markdown",
   "metadata": {},
   "source": [
    "### 2011"
   ]
  },
  {
   "cell_type": "code",
   "execution_count": 133,
   "metadata": {},
   "outputs": [
    {
     "name": "stdout",
     "output_type": "stream",
     "text": [
      "<class 'pandas.core.frame.DataFrame'>\n",
      "Int64Index: 219 entries, 0 to 218\n",
      "Data columns (total 11 columns):\n",
      "match_id                 219 non-null object\n",
      "contributors             219 non-null object\n",
      "organizations            219 non-null object\n",
      "total_outside_bill_11    172 non-null float64\n",
      "total_inside_bill_11     117 non-null float64\n",
      "pct_outside_bill_11      117 non-null float64\n",
      "pct_inside_bill_11       117 non-null float64\n",
      "total_outside_bill_17    219 non-null float64\n",
      "total_inside_bill_17     219 non-null float64\n",
      "pct_outside_bill_17      219 non-null float64\n",
      "pct_inside_bill_17       219 non-null float64\n",
      "dtypes: float64(8), object(3)\n",
      "memory usage: 20.5+ KB\n"
     ]
    }
   ],
   "source": [
    "donors_11_17_2nd_qtr = donors_17_2nd_qtr.merge(donors_11_2nd_qtr, how=\"outer\", on=\"match_id\", suffixes=[\"_17\", \"_11\"])\n",
    "donors_11_17_2nd_qtr.drop([\"change_17\", \"pct_change_17\", \"change_11\", \"pct_change_11\"],\n",
    "            axis=1, inplace=True)\n",
    "donors_11_17_2nd_qtr.rename(columns={\"organizations_17\": \"organizations\", \"contributors_17\": \"contributors\"}, inplace=True)\n",
    "donors_11_17_2nd_qtr = donors_11_17_2nd_qtr[[\"match_id\", \"contributors\", \"organizations\", \"total_outside_bill_11\", \"total_inside_bill_11\",\n",
    "                 \"pct_outside_bill_11\", \"pct_inside_bill_11\", \"total_outside_bill_17\", \"total_inside_bill_17\",\n",
    "                 \"pct_outside_bill_17\", \"pct_inside_bill_17\"]]\n",
    "donors_11_17_2nd_qtr.info()"
   ]
  },
  {
   "cell_type": "code",
   "execution_count": 134,
   "metadata": {},
   "outputs": [
    {
     "data": {
      "text/html": [
       "<div>\n",
       "<style scoped>\n",
       "    .dataframe tbody tr th:only-of-type {\n",
       "        vertical-align: middle;\n",
       "    }\n",
       "\n",
       "    .dataframe tbody tr th {\n",
       "        vertical-align: top;\n",
       "    }\n",
       "\n",
       "    .dataframe thead th {\n",
       "        text-align: right;\n",
       "    }\n",
       "</style>\n",
       "<table border=\"1\" class=\"dataframe\">\n",
       "  <thead>\n",
       "    <tr style=\"text-align: right;\">\n",
       "      <th></th>\n",
       "      <th>match_id</th>\n",
       "      <th>contributors</th>\n",
       "      <th>organizations</th>\n",
       "      <th>total_outside_bill_11</th>\n",
       "      <th>total_inside_bill_11</th>\n",
       "      <th>pct_outside_bill_11</th>\n",
       "      <th>pct_inside_bill_11</th>\n",
       "      <th>total_outside_bill_17</th>\n",
       "      <th>total_inside_bill_17</th>\n",
       "      <th>pct_outside_bill_17</th>\n",
       "      <th>pct_inside_bill_17</th>\n",
       "      <th>giving_change</th>\n",
       "    </tr>\n",
       "  </thead>\n",
       "  <tbody>\n",
       "    <tr>\n",
       "      <th>0</th>\n",
       "      <td>Ak-Chin Indian Community</td>\n",
       "      <td>[AK-CHIN INDIAN COMMUNITY, AK-CHIN INDIAN COMM...</td>\n",
       "      <td>[Ak-Chin Indian Community]</td>\n",
       "      <td>0.00</td>\n",
       "      <td>1,000.00</td>\n",
       "      <td>0.00</td>\n",
       "      <td>1.00</td>\n",
       "      <td>6,000.00</td>\n",
       "      <td>93,400.00</td>\n",
       "      <td>0.06</td>\n",
       "      <td>0.94</td>\n",
       "      <td>Decreased</td>\n",
       "    </tr>\n",
       "  </tbody>\n",
       "</table>\n",
       "</div>"
      ],
      "text/plain": [
       "                   match_id  \\\n",
       "0  Ak-Chin Indian Community   \n",
       "\n",
       "                                        contributors  \\\n",
       "0  [AK-CHIN INDIAN COMMUNITY, AK-CHIN INDIAN COMM...   \n",
       "\n",
       "                organizations  total_outside_bill_11  total_inside_bill_11  \\\n",
       "0  [Ak-Chin Indian Community]                   0.00              1,000.00   \n",
       "\n",
       "   pct_outside_bill_11  pct_inside_bill_11  total_outside_bill_17  \\\n",
       "0                 0.00                1.00               6,000.00   \n",
       "\n",
       "   total_inside_bill_17  pct_outside_bill_17  pct_inside_bill_17 giving_change  \n",
       "0             93,400.00                 0.06                0.94     Decreased  "
      ]
     },
     "execution_count": 134,
     "metadata": {},
     "output_type": "execute_result"
    }
   ],
   "source": [
    "donors_11_17_2nd_qtr[\"giving_change\"] = np.where((donors_11_17_2nd_qtr[\"pct_inside_bill_17\"] > donors_11_17_2nd_qtr[\"pct_inside_bill_11\"]) | (donors_11_17_2nd_qtr[\"pct_outside_bill_11\"].isnull()), \"Increased\",\n",
    "                                  np.where(donors_11_17_2nd_qtr[\"pct_inside_bill_17\"] < donors_11_17_2nd_qtr[\"pct_inside_bill_11\"], \"Decreased\",\n",
    "                                           np.where(donors_11_17_2nd_qtr[\"pct_inside_bill_17\"] == donors_11_17_2nd_qtr[\"pct_inside_bill_11\"], \"Stayed the same\",\n",
    "                                                   \"Other\")))\n",
    "donors_11_17_2nd_qtr.head(1)"
   ]
  },
  {
   "cell_type": "markdown",
   "metadata": {},
   "source": [
    "### 2009"
   ]
  },
  {
   "cell_type": "code",
   "execution_count": 135,
   "metadata": {},
   "outputs": [
    {
     "name": "stdout",
     "output_type": "stream",
     "text": [
      "<class 'pandas.core.frame.DataFrame'>\n",
      "Int64Index: 219 entries, 0 to 218\n",
      "Data columns (total 11 columns):\n",
      "match_id                 219 non-null object\n",
      "contributors             219 non-null object\n",
      "organizations            219 non-null object\n",
      "total_outside_bill_09    133 non-null float64\n",
      "total_inside_bill_09     77 non-null float64\n",
      "pct_outside_bill_09      77 non-null float64\n",
      "pct_inside_bill_09       77 non-null float64\n",
      "total_outside_bill_17    219 non-null float64\n",
      "total_inside_bill_17     219 non-null float64\n",
      "pct_outside_bill_17      219 non-null float64\n",
      "pct_inside_bill_17       219 non-null float64\n",
      "dtypes: float64(8), object(3)\n",
      "memory usage: 20.5+ KB\n"
     ]
    }
   ],
   "source": [
    "donors_09_17_2nd_qtr = donors_17_2nd_qtr.merge(donors_09_2nd_qtr, how=\"outer\", on=\"match_id\", suffixes=[\"_17\", \"_09\"])\n",
    "donors_09_17_2nd_qtr.drop([\"change_17\", \"pct_change_17\", \"change_09\", \"pct_change_09\"],\n",
    "            axis=1, inplace=True)\n",
    "donors_09_17_2nd_qtr.rename(columns={\"organizations_17\": \"organizations\", \"contributors_17\": \"contributors\"}, inplace=True)\n",
    "donors_09_17_2nd_qtr = donors_09_17_2nd_qtr[[\"match_id\", \"contributors\", \"organizations\", \"total_outside_bill_09\", \"total_inside_bill_09\",\n",
    "                 \"pct_outside_bill_09\", \"pct_inside_bill_09\", \"total_outside_bill_17\", \"total_inside_bill_17\",\n",
    "                 \"pct_outside_bill_17\", \"pct_inside_bill_17\"]]\n",
    "donors_09_17_2nd_qtr.info()"
   ]
  },
  {
   "cell_type": "code",
   "execution_count": 136,
   "metadata": {},
   "outputs": [
    {
     "data": {
      "text/html": [
       "<div>\n",
       "<style scoped>\n",
       "    .dataframe tbody tr th:only-of-type {\n",
       "        vertical-align: middle;\n",
       "    }\n",
       "\n",
       "    .dataframe tbody tr th {\n",
       "        vertical-align: top;\n",
       "    }\n",
       "\n",
       "    .dataframe thead th {\n",
       "        text-align: right;\n",
       "    }\n",
       "</style>\n",
       "<table border=\"1\" class=\"dataframe\">\n",
       "  <thead>\n",
       "    <tr style=\"text-align: right;\">\n",
       "      <th></th>\n",
       "      <th>match_id</th>\n",
       "      <th>contributors</th>\n",
       "      <th>organizations</th>\n",
       "      <th>total_outside_bill_09</th>\n",
       "      <th>total_inside_bill_09</th>\n",
       "      <th>pct_outside_bill_09</th>\n",
       "      <th>pct_inside_bill_09</th>\n",
       "      <th>total_outside_bill_17</th>\n",
       "      <th>total_inside_bill_17</th>\n",
       "      <th>pct_outside_bill_17</th>\n",
       "      <th>pct_inside_bill_17</th>\n",
       "      <th>giving_change</th>\n",
       "    </tr>\n",
       "  </thead>\n",
       "  <tbody>\n",
       "    <tr>\n",
       "      <th>0</th>\n",
       "      <td>Ak-Chin Indian Community</td>\n",
       "      <td>[AK-CHIN INDIAN COMMUNITY, AK-CHIN INDIAN COMM...</td>\n",
       "      <td>[Ak-Chin Indian Community]</td>\n",
       "      <td>nan</td>\n",
       "      <td>nan</td>\n",
       "      <td>nan</td>\n",
       "      <td>nan</td>\n",
       "      <td>6,000.00</td>\n",
       "      <td>93,400.00</td>\n",
       "      <td>0.06</td>\n",
       "      <td>0.94</td>\n",
       "      <td>Increased</td>\n",
       "    </tr>\n",
       "  </tbody>\n",
       "</table>\n",
       "</div>"
      ],
      "text/plain": [
       "                   match_id  \\\n",
       "0  Ak-Chin Indian Community   \n",
       "\n",
       "                                        contributors  \\\n",
       "0  [AK-CHIN INDIAN COMMUNITY, AK-CHIN INDIAN COMM...   \n",
       "\n",
       "                organizations  total_outside_bill_09  total_inside_bill_09  \\\n",
       "0  [Ak-Chin Indian Community]                    nan                   nan   \n",
       "\n",
       "   pct_outside_bill_09  pct_inside_bill_09  total_outside_bill_17  \\\n",
       "0                  nan                 nan               6,000.00   \n",
       "\n",
       "   total_inside_bill_17  pct_outside_bill_17  pct_inside_bill_17 giving_change  \n",
       "0             93,400.00                 0.06                0.94     Increased  "
      ]
     },
     "execution_count": 136,
     "metadata": {},
     "output_type": "execute_result"
    }
   ],
   "source": [
    "donors_09_17_2nd_qtr[\"giving_change\"] = np.where((donors_09_17_2nd_qtr[\"pct_inside_bill_17\"] > donors_09_17_2nd_qtr[\"pct_inside_bill_09\"]) | (donors_09_17_2nd_qtr[\"pct_outside_bill_09\"].isnull()), \"Increased\",\n",
    "                                  np.where(donors_09_17_2nd_qtr[\"pct_inside_bill_17\"] < donors_09_17_2nd_qtr[\"pct_inside_bill_09\"], \"Decreased\",\n",
    "                                           np.where(donors_09_17_2nd_qtr[\"pct_inside_bill_17\"] == donors_09_17_2nd_qtr[\"pct_inside_bill_09\"], \"Stayed the same\",\n",
    "                                                   \"Other\")))\n",
    "donors_09_17_2nd_qtr.head(1)"
   ]
  },
  {
   "cell_type": "markdown",
   "metadata": {},
   "source": [
    "## What proportion of donors increased the share of their annual giving that fell within the two-month period in 2017 as compared with the same period in each of the previous years?"
   ]
  },
  {
   "cell_type": "code",
   "execution_count": 137,
   "metadata": {},
   "outputs": [
    {
     "name": "stdout",
     "output_type": "stream",
     "text": [
      "81.7351598173516% of donors increased the share of their annual giving that fell within the two-month period between 2015 and 2017.\n",
      "84.47488584474885% of donors increased the share of their annual giving that fell within the two-month period between 2013 and 2017.\n",
      "87.21461187214612% of donors increased the share of their annual giving that fell within the two-month period between 2011 and 2017.\n",
      "91.78082191780823% of donors increased the share of their annual giving that fell within the two-month period between 2009 and 2017.\n"
     ]
    }
   ],
   "source": [
    "print(str(donors_15_17_2nd_qtr[donors_15_17_2nd_qtr[\"giving_change\"] == \"Increased\"][\"match_id\"].count() / donors_15_17_2nd_qtr[\"match_id\"].count() * 100) + \"% of donors increased the share of their annual giving that fell within the two-month period between 2015 and 2017.\")\n",
    "print(str(donors_13_17_2nd_qtr[donors_13_17_2nd_qtr[\"giving_change\"] == \"Increased\"][\"match_id\"].count() / donors_13_17_2nd_qtr[\"match_id\"].count() * 100) + \"% of donors increased the share of their annual giving that fell within the two-month period between 2013 and 2017.\")\n",
    "print(str(donors_11_17_2nd_qtr[donors_11_17_2nd_qtr[\"giving_change\"] == \"Increased\"][\"match_id\"].count() / donors_11_17_2nd_qtr[\"match_id\"].count() * 100) + \"% of donors increased the share of their annual giving that fell within the two-month period between 2011 and 2017.\")\n",
    "print(str(donors_09_17_2nd_qtr[donors_09_17_2nd_qtr[\"giving_change\"] == \"Increased\"][\"match_id\"].count() / donors_09_17_2nd_qtr[\"match_id\"].count() * 100) + \"% of donors increased the share of their annual giving that fell within the two-month period between 2009 and 2017.\")"
   ]
  },
  {
   "cell_type": "markdown",
   "metadata": {},
   "source": [
    "## And by how much did these individuals' giving increase?"
   ]
  },
  {
   "cell_type": "code",
   "execution_count": 138,
   "metadata": {},
   "outputs": [
    {
     "name": "stdout",
     "output_type": "stream",
     "text": [
      "These donors' giving within the two-month period increased by $24389803.0, from $9480863.0 to $33870666.0 between 2015 and 2017.\n",
      "These donors' giving within the two-month period increased by $35387586.0, from $1442575.0 to $36830161.0 between 2013 and 2017.\n",
      "These donors' giving within the two-month period increased by $34047447.0, from $1354150.0 to $35401597.0 between 2011 and 2017.\n",
      "These donors' giving within the two-month period increased by $36385424.0, from $649739.0 to $37035163.0 between 2009 and 2017.\n"
     ]
    }
   ],
   "source": [
    "print(\"These donors' giving within the two-month period increased by $\" + str(donors_15_17_2nd_qtr[donors_15_17_2nd_qtr[\"giving_change\"] == \"Increased\"][\"total_inside_bill_17\"].sum() - donors_15_17_2nd_qtr[donors_15_17_2nd_qtr[\"giving_change\"] == \"Increased\"][\"total_inside_bill_15\"].sum()) + \", from $\" + str(donors_15_17_2nd_qtr[donors_15_17_2nd_qtr[\"giving_change\"] == \"Increased\"][\"total_inside_bill_15\"].sum()) + \" to $\" + str(donors_15_17_2nd_qtr[donors_15_17_2nd_qtr[\"giving_change\"] == \"Increased\"][\"total_inside_bill_17\"].sum()) + \" between 2015 and 2017.\")\n",
    "print(\"These donors' giving within the two-month period increased by $\" + str(donors_13_17_2nd_qtr[donors_13_17_2nd_qtr[\"giving_change\"] == \"Increased\"][\"total_inside_bill_17\"].sum() - donors_13_17_2nd_qtr[donors_13_17_2nd_qtr[\"giving_change\"] == \"Increased\"][\"total_inside_bill_13\"].sum()) + \", from $\" + str(donors_13_17_2nd_qtr[donors_13_17_2nd_qtr[\"giving_change\"] == \"Increased\"][\"total_inside_bill_13\"].sum()) + \" to $\" + str(donors_13_17_2nd_qtr[donors_13_17_2nd_qtr[\"giving_change\"] == \"Increased\"][\"total_inside_bill_17\"].sum()) + \" between 2013 and 2017.\")\n",
    "print(\"These donors' giving within the two-month period increased by $\" + str(donors_11_17_2nd_qtr[donors_11_17_2nd_qtr[\"giving_change\"] == \"Increased\"][\"total_inside_bill_17\"].sum() - donors_11_17_2nd_qtr[donors_11_17_2nd_qtr[\"giving_change\"] == \"Increased\"][\"total_inside_bill_11\"].sum()) + \", from $\" + str(donors_11_17_2nd_qtr[donors_11_17_2nd_qtr[\"giving_change\"] == \"Increased\"][\"total_inside_bill_11\"].sum()) + \" to $\" + str(donors_11_17_2nd_qtr[donors_11_17_2nd_qtr[\"giving_change\"] == \"Increased\"][\"total_inside_bill_17\"].sum()) + \" between 2011 and 2017.\")\n",
    "print(\"These donors' giving within the two-month period increased by $\" + str(donors_09_17_2nd_qtr[donors_09_17_2nd_qtr[\"giving_change\"] == \"Increased\"][\"total_inside_bill_17\"].sum() - donors_09_17_2nd_qtr[donors_09_17_2nd_qtr[\"giving_change\"] == \"Increased\"][\"total_inside_bill_09\"].sum()) + \", from $\" + str(donors_09_17_2nd_qtr[donors_09_17_2nd_qtr[\"giving_change\"] == \"Increased\"][\"total_inside_bill_09\"].sum()) + \" to $\" + str(donors_09_17_2nd_qtr[donors_09_17_2nd_qtr[\"giving_change\"] == \"Increased\"][\"total_inside_bill_17\"].sum()) + \" between 2009 and 2017.\")"
   ]
  },
  {
   "cell_type": "markdown",
   "metadata": {},
   "source": [
    "## How many donors in each year gave all of their money in the two-month period of each year?"
   ]
  },
  {
   "cell_type": "code",
   "execution_count": 139,
   "metadata": {},
   "outputs": [
    {
     "name": "stdout",
     "output_type": "stream",
     "text": [
      "In 2017, 40 donors gave all their money in the two-month period.\n",
      "In 2015, 5 donors gave all their money in the two-month period.\n",
      "In 2013, 8 donors gave all their money in the two-month period.\n",
      "In 2011, 9 donors gave all their money in the two-month period.\n",
      "In 2009, 6 donors gave all their money in the two-month period.\n"
     ]
    }
   ],
   "source": [
    "print(\"In 2017, \" + str(donors_17_2nd_qtr[donors_17_2nd_qtr[\"pct_inside_bill\"] == 1][\"match_id\"].count()) + \" donors gave all their money in the two-month period.\")\n",
    "print(\"In 2015, \" + str(donors_15_2nd_qtr[donors_15_2nd_qtr[\"pct_inside_bill\"] == 1][\"match_id\"].count()) + \" donors gave all their money in the two-month period.\")\n",
    "print(\"In 2013, \" + str(donors_13_2nd_qtr[donors_13_2nd_qtr[\"pct_inside_bill\"] == 1][\"match_id\"].count()) + \" donors gave all their money in the two-month period.\")\n",
    "print(\"In 2011, \" + str(donors_11_2nd_qtr[donors_11_2nd_qtr[\"pct_inside_bill\"] == 1][\"match_id\"].count()) + \" donors gave all their money in the two-month period.\")\n",
    "print(\"In 2009, \" + str(donors_09_2nd_qtr[donors_09_2nd_qtr[\"pct_inside_bill\"] == 1][\"match_id\"].count()) + \" donors gave all their money in the two-month period.\")"
   ]
  },
  {
   "cell_type": "markdown",
   "metadata": {},
   "source": [
    "# What does this giving look like on a contribution-by-contribution level?"
   ]
  },
  {
   "cell_type": "code",
   "execution_count": 140,
   "metadata": {},
   "outputs": [],
   "source": [
    "def run_contributions_query_2nd_qtr(prefix, suffix, reference_cycle, reference_start, reference_end, cycle, start_one, end_one, start_two, end_two):\n",
    "    query = \"\"\"CREATE MATERIALIZED VIEW IF NOT EXISTS \"\"\" + prefix + \"\"\"_contributions_\"\"\" + suffix + \"\"\" AS\n",
    "    SELECT fectransid,\n",
    "    match_id,\n",
    "    organization,\n",
    "    contributor, date, sum(SUM),\n",
    "    cmte_id,\n",
    "    pacshort AS committee\n",
    "FROM\n",
    "  (SELECT fectransid,\n",
    "          match_id,\n",
    "          orgname AS organization,\n",
    "          contrib AS contributor, date, sum(amount),\n",
    "                                        cmteid AS cmte_id\n",
    "   FROM\n",
    "     (SELECT CASE\n",
    "                 WHEN trim(contribid) != '' THEN left(contribid, 11)\n",
    "                 ELSE orgname\n",
    "             END AS match_id\n",
    "      FROM crp_contributions\n",
    "      LEFT JOIN crp_committees ON crp_contributions.cmteid = crp_committees.cmteid\n",
    "      AND crp_committees.cycle = '\"\"\" + reference_cycle + \"\"\"'\n",
    "      WHERE primcode IN ('J1100',\n",
    "                         'J2200',\n",
    "                         'J2400',\n",
    "                         'Z1100',\n",
    "                         'Z4100',\n",
    "                         'Z4500',\n",
    "                         'Z5100')\n",
    "                            AND date >= '\"\"\" + reference_start + \"\"\"'\n",
    "                            AND date <= '\"\"\" + reference_end + \"\"\"'\n",
    "                            AND crp_contributions.cycle = '\"\"\" + reference_cycle + \"\"\"'\n",
    "        AND TYPE NOT IN ('11J',\n",
    "                         '15C',\n",
    "                         '15E',\n",
    "                         '15I',\n",
    "                         '15J',\n",
    "                         '15T',\n",
    "                         '18J',\n",
    "                         '19J',\n",
    "                         '30J',\n",
    "                         '30F',\n",
    "                         '31J',\n",
    "                         '31F',\n",
    "                         '32J',\n",
    "                         '32F')\n",
    "      GROUP BY match_id\n",
    "      HAVING sum(amount) >= 50000) AS gop_donors\n",
    "   JOIN crp_contributions ON CASE\n",
    "                                 WHEN trim(contribid) != '' THEN left(contribid, 11)\n",
    "                                 ELSE crp_contributions.orgname\n",
    "                             END = gop_donors.match_id\n",
    "                       WHERE date >= '\"\"\" + start_one + \"\"\"'\n",
    "                         AND date <= '\"\"\" + end_one + \"\"\"'\n",
    "                         or (date >= '\"\"\" + start_two + \"\"\"'\n",
    "                         and date <= '\"\"\" + end_two + \"\"\"')\n",
    "                         AND CYCLE = '\"\"\" + cycle + \"\"\"'\n",
    "     AND TYPE NOT IN ('11J',\n",
    "                      '15C',\n",
    "                      '15E',\n",
    "                      '15I',\n",
    "                      '15J',\n",
    "                      '15T',\n",
    "                      '18J',\n",
    "                      '19J',\n",
    "                      '30J',\n",
    "                      '30F',\n",
    "                      '31J',\n",
    "                      '31F',\n",
    "                      '32J',\n",
    "                      '32F')\n",
    "   GROUP BY fectransid,\n",
    "            match_id,\n",
    "            organization,\n",
    "            contributor, date, cmte_id) AS donors_committees\n",
    "JOIN crp_committees ON donors_committees.cmte_id = crp_committees.cmteid\n",
    "                    AND crp_committees.CYCLE = '\"\"\" + cycle + \"\"\"'\n",
    "WHERE primcode IN ('J1100',\n",
    "                   'J2200',\n",
    "                   'J2400',\n",
    "                   'Z1100',\n",
    "                   'Z4100',\n",
    "                   'Z4500',\n",
    "                   'Z5100')\n",
    "GROUP BY fectransid,\n",
    "         match_id,\n",
    "         organization,\n",
    "         contributor, date, cmte_id,\n",
    "                            committee;\n",
    "                            SELECT *\n",
    "                            FROM \"\"\" + prefix + \"\"\"_contributions_\"\"\"+ suffix +\"\"\";\"\"\"\n",
    "    return pd.read_sql(query, con=conn)"
   ]
  },
  {
   "cell_type": "markdown",
   "metadata": {},
   "source": [
    "## Return the data for each cycle."
   ]
  },
  {
   "cell_type": "code",
   "execution_count": 141,
   "metadata": {},
   "outputs": [],
   "source": [
    "inside_bill_contributions_committees_17_2nd_qtr = run_contributions_query_2nd_qtr(\"inside\", \"17_2nd_quarter\", \"2018\", \"2017-05-02\", \"2017-06-30\", \"2018\", \"2017-05-02\", \"2017-06-30\", \"2017-05-02\", \"2017-06-30\")\n",
    "outside_bill_contributions_committees_17_2nd_qtr = run_contributions_query_2nd_qtr(\"outside\", \"17_2nd_quarter\", \"2018\", \"2017-05-02\", \"2017-06-30\", \"2018\", \"2017-01-01\", \"2017-05-01\", \"2017-07-01\", \"2017-12-31\")"
   ]
  },
  {
   "cell_type": "code",
   "execution_count": 142,
   "metadata": {},
   "outputs": [],
   "source": [
    "inside_bill_contributions_committees_15_2nd_qtr = run_contributions_query_2nd_qtr(\"inside\", \"15_2nd_quarter\", \"2018\", \"2017-05-02\", \"2017-06-30\", \"2016\", \"2015-05-02\", \"2015-06-30\", \"2015-05-02\", \"2015-06-30\")\n",
    "outside_bill_contributions_committees_15_2nd_qtr = run_contributions_query_2nd_qtr(\"outside\", \"15_2nd_quarter\", \"2018\", \"2017-05-02\", \"2017-06-30\", \"2016\", \"2015-01-01\", \"2015-05-01\", \"2015-07-01\", \"2015-12-31\")"
   ]
  },
  {
   "cell_type": "code",
   "execution_count": 143,
   "metadata": {},
   "outputs": [],
   "source": [
    "inside_bill_contributions_committees_13_2nd_qtr = run_contributions_query_2nd_qtr(\"inside\", \"13_2nd_quarter\", \"2018\", \"2017-05-02\", \"2017-06-30\", \"2014\", \"2013-05-02\", \"2013-06-30\", \"2013-05-02\", \"2013-06-30\")\n",
    "outside_bill_contributions_committees_13_2nd_qtr = run_contributions_query_2nd_qtr(\"outside\", \"13_2nd_quarter\", \"2018\", \"2017-05-02\", \"2017-06-30\", \"2014\", \"2013-01-01\", \"2013-05-01\", \"2013-07-01\", \"2013-12-31\")"
   ]
  },
  {
   "cell_type": "code",
   "execution_count": 144,
   "metadata": {},
   "outputs": [],
   "source": [
    "inside_bill_contributions_committees_11_2nd_qtr = run_contributions_query_2nd_qtr(\"inside\", \"11_2nd_quarter\", \"2018\", \"2017-05-02\", \"2017-06-30\", \"2012\", \"2011-05-02\", \"2011-06-30\", \"2011-05-02\", \"2011-06-30\")\n",
    "outside_bill_contributions_committees_11_2nd_qtr = run_contributions_query_2nd_qtr(\"outside\", \"11_2nd_quarter\", \"2018\", \"2017-05-02\", \"2017-06-30\", \"2012\", \"2011-01-01\", \"2011-05-01\", \"2011-07-01\", \"2011-12-31\")"
   ]
  },
  {
   "cell_type": "code",
   "execution_count": 145,
   "metadata": {},
   "outputs": [],
   "source": [
    "inside_bill_contributions_committees_09_2nd_qtr = run_contributions_query_2nd_qtr(\"inside\", \"09_2nd_quarter\", \"2018\", \"2017-05-02\", \"2017-06-30\", \"2010\", \"2009-05-02\", \"2009-06-30\", \"2009-05-02\", \"2009-06-30\")\n",
    "outside_bill_contributions_committees_09_2nd_qtr = run_contributions_query_2nd_qtr(\"outside\", \"09_2nd_quarter\", \"2018\", \"2017-05-02\", \"2017-06-30\", \"2010\", \"2009-01-01\", \"2009-05-01\", \"2009-07-01\", \"2009-12-31\")"
   ]
  },
  {
   "cell_type": "markdown",
   "metadata": {},
   "source": [
    "## Export data to Excel."
   ]
  },
  {
   "cell_type": "code",
   "execution_count": 146,
   "metadata": {},
   "outputs": [],
   "source": [
    "writer = pd.ExcelWriter(\"data/megadonors.xlsx\")\n",
    "donors_15_17.to_excel(writer, \"donors_15_17\", startcol=0, index=False)\n",
    "donors_13_17.to_excel(writer, \"donors_13_17\", startcol=0, index=False)\n",
    "donors_11_17.to_excel(writer, \"donors_11_17\", startcol=0, index=False)\n",
    "donors_09_17.to_excel(writer, \"donors_09_17\", startcol=0, index=False)\n",
    "post_bill_donors_committees_17.to_excel(writer, \"post_bill_donors_committees_17\", startcol=0, index=False)\n",
    "pre_bill_donors_committees_17.to_excel(writer, \"pre_bill_donors_committees_17\", startcol=0, index=False)\n",
    "post_bill_donors_committees_15.to_excel(writer, \"post_bill_donors_committees_15\", startcol=0, index=False)\n",
    "pre_bill_donors_committees_15.to_excel(writer, \"pre_bill_donors_committees_15\", startcol=0, index=False)\n",
    "post_bill_donors_committees_13.to_excel(writer, \"post_bill_donors_committees_13\", startcol=0, index=False)\n",
    "pre_bill_donors_committees_13.to_excel(writer, \"pre_bill_donors_committees_13\", startcol=0, index=False)\n",
    "post_bill_donors_committees_11.to_excel(writer, \"post_bill_donors_committees_11\", startcol=0, index=False)\n",
    "pre_bill_donors_committees_11.to_excel(writer, \"pre_bill_donors_committees_11\", startcol=0, index=False)\n",
    "post_bill_donors_committees_09.to_excel(writer, \"post_bill_donors_committees_09\", startcol=0, index=False)\n",
    "pre_bill_donors_committees_09.to_excel(writer, \"pre_bill_donors_committees_09\", startcol=0, index=False)\n",
    "post_bill_contributions_17.to_excel(writer, \"post_bill_contributions_17\", startcol=0, index=False)\n",
    "pre_bill_contributions_17.to_excel(writer, \"pre_bill_contributions_17\", startcol=0, index=False)\n",
    "post_bill_contributions_15.to_excel(writer, \"post_bill_contributions_15\", startcol=0, index=False)\n",
    "pre_bill_contributions_15.to_excel(writer, \"pre_bill_contributions_15\", startcol=0, index=False)\n",
    "post_bill_contributions_13.to_excel(writer, \"post_bill_contributions_13\", startcol=0, index=False)\n",
    "pre_bill_contributions_13.to_excel(writer, \"pre_bill_contributions_13\", startcol=0, index=False)\n",
    "post_bill_contributions_11.to_excel(writer, \"post_bill_contributions_11\", startcol=0, index=False)\n",
    "pre_bill_contributions_11.to_excel(writer, \"pre_bill_contributions_11\", startcol=0, index=False)\n",
    "post_bill_contributions_09.to_excel(writer, \"post_bill_contributions_09\", startcol=0, index=False)\n",
    "pre_bill_contributions_09.to_excel(writer, \"pre_bill_contributions_09\", startcol=0, index=False)\n",
    "democratic_donors_17.to_excel(writer, \"democratic_donors_17\", startcol=0, index=False)\n",
    "post_bill_democratic_donors_committees_17.to_excel(writer, \"post_bill_dem_donors_cmtes_17\", startcol=0, index=False)\n",
    "pre_bill_democratic_donors_committees_17.to_excel(writer, \"pre_bill_dem_donors_cmtes_17\", startcol=0, index=False)\n",
    "post_bill_democratic_contributions_17.to_excel(writer, \"post_bill_dem_contributions_17\", startcol=0, index=False)\n",
    "pre_bill_democratic_contributions_17.to_excel(writer, \"pre_bill_dem_contributions_17\", startcol=0, index=False)\n",
    "writer.save()"
   ]
  },
  {
   "cell_type": "code",
   "execution_count": null,
   "metadata": {},
   "outputs": [],
   "source": []
  }
 ],
 "metadata": {
  "kernelspec": {
   "display_name": "Python 3",
   "language": "python",
   "name": "python3"
  },
  "language_info": {
   "codemirror_mode": {
    "name": "ipython",
    "version": 3
   },
   "file_extension": ".py",
   "mimetype": "text/x-python",
   "name": "python",
   "nbconvert_exporter": "python",
   "pygments_lexer": "ipython3",
   "version": "3.6.3"
  }
 },
 "nbformat": 4,
 "nbformat_minor": 2
}
